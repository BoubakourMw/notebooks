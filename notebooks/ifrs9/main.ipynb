{
 "cells": [
  {
   "cell_type": "markdown",
   "metadata": {},
   "source": [
    "# IFRS9 portfolio analytics"
   ]
  },
  {
   "cell_type": "markdown",
   "metadata": {},
   "source": [
    "## Setup"
   ]
  },
  {
   "cell_type": "markdown",
   "metadata": {},
   "source": [
    "### Imports"
   ]
  },
  {
   "cell_type": "code",
   "execution_count": 1,
   "metadata": {
    "execution": {
     "iopub.execute_input": "2020-12-15T06:49:35.363416Z",
     "iopub.status.busy": "2020-12-15T06:49:35.363042Z",
     "iopub.status.idle": "2020-12-15T06:49:37.113916Z",
     "shell.execute_reply": "2020-12-15T06:49:37.113268Z",
     "shell.execute_reply.started": "2020-12-15T06:49:35.363326Z"
    }
   },
   "outputs": [
    {
     "name": "stdout",
     "output_type": "stream",
     "text": [
      "Welcome to atoti 0.5.0!\n",
      "\n",
      "By using this community edition, you agree with the license available at https://www.atoti.io/eula.\n",
      "Browse the official documentation at https://docs.atoti.io.\n",
      "Join the community at https://www.atoti.io/register.\n",
      "\n",
      "You can hide this message by setting the ATOTI_HIDE_EULA_MESSAGE environment variable to True.\n"
     ]
    }
   ],
   "source": [
    "import atoti as tt\n",
    "from atoti._providers import bitmap, leaf"
   ]
  },
  {
   "cell_type": "markdown",
   "metadata": {},
   "source": [
    "### Session"
   ]
  },
  {
   "cell_type": "code",
   "execution_count": 2,
   "metadata": {
    "execution": {
     "iopub.execute_input": "2020-12-15T06:49:37.115932Z",
     "iopub.status.busy": "2020-12-15T06:49:37.115690Z",
     "iopub.status.idle": "2020-12-15T06:49:44.045437Z",
     "shell.execute_reply": "2020-12-15T06:49:44.044792Z",
     "shell.execute_reply.started": "2020-12-15T06:49:37.115899Z"
    }
   },
   "outputs": [],
   "source": [
    "session = tt.create_session(\n",
    "    name='Main session',\n",
    "    config='./configuration.yaml'\n",
    ")"
   ]
  },
  {
   "cell_type": "markdown",
   "metadata": {},
   "source": [
    "## Data Store"
   ]
  },
  {
   "cell_type": "markdown",
   "metadata": {},
   "source": [
    "### Stores"
   ]
  },
  {
   "cell_type": "code",
   "execution_count": 3,
   "metadata": {
    "execution": {
     "iopub.execute_input": "2020-12-15T06:49:44.047433Z",
     "iopub.status.busy": "2020-12-15T06:49:44.047230Z",
     "iopub.status.idle": "2020-12-15T06:49:44.050587Z",
     "shell.execute_reply": "2020-12-15T06:49:44.050017Z",
     "shell.execute_reply.started": "2020-12-15T06:49:44.047407Z"
    }
   },
   "outputs": [],
   "source": [
    "# !conda install atoti-aws -y"
   ]
  },
  {
   "cell_type": "code",
   "execution_count": 4,
   "metadata": {
    "execution": {
     "iopub.execute_input": "2020-12-15T06:49:44.052295Z",
     "iopub.status.busy": "2020-12-15T06:49:44.052108Z",
     "iopub.status.idle": "2020-12-15T06:49:44.055361Z",
     "shell.execute_reply": "2020-12-15T06:49:44.054736Z",
     "shell.execute_reply.started": "2020-12-15T06:49:44.052273Z"
    }
   },
   "outputs": [],
   "source": [
    "src = \"/Users/anastasiapolyakova/dev/activeviam/demo/python-ifrs9-demo-v0/data/\"\n",
    "# src = \"s3://data.atoti.io/notebooks/ifrs9/\""
   ]
  },
  {
   "cell_type": "code",
   "execution_count": 5,
   "metadata": {
    "execution": {
     "iopub.execute_input": "2020-12-15T06:49:44.056633Z",
     "iopub.status.busy": "2020-12-15T06:49:44.056436Z",
     "iopub.status.idle": "2020-12-15T06:49:44.722934Z",
     "shell.execute_reply": "2020-12-15T06:49:44.722489Z",
     "shell.execute_reply.started": "2020-12-15T06:49:44.056610Z"
    }
   },
   "outputs": [
    {
     "name": "stderr",
     "output_type": "stream",
     "text": [
      "The store has been sampled because there are more than 5 lines in the files to load. Call Session.load_all_data() to trigger the full load of the data.\n"
     ]
    }
   ],
   "source": [
    "contracts_store = session.read_csv(\n",
    "    src + 'formatted/contracts/',\n",
    "    keys=['Reporting Date', 'Contract ID', 'Legal Entity'],\n",
    "    store_name='Contracts',\n",
    "    types={\n",
    "        'EAD': tt.type.NULLABLE_DOUBLE,\n",
    "        'On Balance EAD': tt.type.NULLABLE_DOUBLE,\n",
    "        'Off Balance EAD': tt.type.NULLABLE_DOUBLE\n",
    "    },\n",
    "    partitioning='hash4(Reporting Date)|hash8(Contract ID)|hash2(Legal Entity)'\n",
    ")\n",
    "\n",
    "previous_contracts_store = session.read_csv(\n",
    "    src + 'formatted/contracts_previous/',\n",
    "    keys=['Reporting Date', 'Contract ID', 'Legal Entity'],\n",
    "    store_name='Previous Contracts',\n",
    "    partitioning='hash4(Reporting Date)|hash8(Contract ID)|hash2(Legal Entity)'\n",
    ")\n",
    "\n",
    "clients_store = session.read_csv(\n",
    "    src + 'formatted/clients/',\n",
    "    keys=['Reporting Date', 'Client ID', 'Legal Entity'],\n",
    "    store_name='Clients',\n",
    "    partitioning='hash4(Reporting Date)|hash2(Legal Entity)'\n",
    ")\n",
    "\n",
    "previous_clients_store = session.read_csv(\n",
    "    src + 'formatted/clients_previous/',\n",
    "    keys=['Reporting Date', 'Client ID', 'Legal Entity'],\n",
    "    store_name='Previous Clients',\n",
    "    partitioning='hash4(Reporting Date)|hash2(Legal Entity)'\n",
    ")\n",
    "\n",
    "contracts_static_store = session.read_csv(\n",
    "    src + 'formatted/static/contracts.csv',\n",
    "    keys=['Contract ID', 'Legal Entity'],\n",
    "    store_name='Contracts (static)',\n",
    "    partitioning='hash8(Contract ID)|hash2(Legal Entity)'\n",
    ")\n",
    "\n",
    "credit_cards_store = session.read_csv(\n",
    "    src + 'formatted/credit_cards/',\n",
    "    keys=['Client ID',  'Reporting Date'],\n",
    "    store_name='Credit Cards',\n",
    "    types={\n",
    "        'Credit Limit': tt.type.LONG,\n",
    "        'DaysCardDefault': tt.type.NULLABLE_DOUBLE\n",
    "    },\n",
    "    partitioning='hash4(Reporting Date)'\n",
    ")\n",
    "\n",
    "previous_credit_cards_store = session.read_csv(\n",
    "    src + 'formatted/credit_cards_previous/',\n",
    "    keys=['Client ID',  'Reporting Date'],\n",
    "    store_name='Previous Credit Cards',\n",
    "    partitioning='hash4(Reporting Date)'\n",
    ")"
   ]
  },
  {
   "cell_type": "markdown",
   "metadata": {},
   "source": [
    "### References"
   ]
  },
  {
   "cell_type": "code",
   "execution_count": 6,
   "metadata": {
    "execution": {
     "iopub.execute_input": "2020-12-15T06:49:44.723780Z",
     "iopub.status.busy": "2020-12-15T06:49:44.723639Z",
     "iopub.status.idle": "2020-12-15T06:49:44.863935Z",
     "shell.execute_reply": "2020-12-15T06:49:44.863465Z",
     "shell.execute_reply.started": "2020-12-15T06:49:44.723756Z"
    }
   },
   "outputs": [],
   "source": [
    "credit_cards_store.join(previous_credit_cards_store)\n",
    "clients_store.join(credit_cards_store)\n",
    "clients_store.join(previous_clients_store)\n",
    "contracts_store.join(clients_store)\n",
    "contracts_store.join(previous_contracts_store)\n",
    "contracts_store.join(contracts_static_store)"
   ]
  },
  {
   "cell_type": "markdown",
   "metadata": {},
   "source": [
    "## Cube"
   ]
  },
  {
   "cell_type": "code",
   "execution_count": 7,
   "metadata": {
    "execution": {
     "iopub.execute_input": "2020-12-15T06:49:44.864813Z",
     "iopub.status.busy": "2020-12-15T06:49:44.864678Z",
     "iopub.status.idle": "2020-12-15T06:49:46.285833Z",
     "shell.execute_reply": "2020-12-15T06:49:46.285221Z",
     "shell.execute_reply.started": "2020-12-15T06:49:44.864795Z"
    }
   },
   "outputs": [],
   "source": [
    "cube = session.create_cube(contracts_store, 'IFRS9', mode='no_measures')\n",
    "cube.aggregates_cache.capacity = 1000"
   ]
  },
  {
   "cell_type": "code",
   "execution_count": 8,
   "metadata": {
    "execution": {
     "iopub.execute_input": "2020-12-15T06:49:46.287174Z",
     "iopub.status.busy": "2020-12-15T06:49:46.286885Z",
     "iopub.status.idle": "2020-12-15T06:49:46.542651Z",
     "shell.execute_reply": "2020-12-15T06:49:46.542179Z",
     "shell.execute_reply.started": "2020-12-15T06:49:46.287146Z"
    }
   },
   "outputs": [
    {
     "data": {
      "image/svg+xml": [
       "<svg height=\"1019px\" viewBox=\"0.00 0.00 1720.30 1018.50\" width=\"1720px\" xmlns=\"http://www.w3.org/2000/svg\" xmlns:xlink=\"http://www.w3.org/1999/xlink\">\n",
       "<g class=\"graph\" id=\"graph0\" transform=\"scale(1.0 1.0) rotate(0) translate(4 1014.5)\">\n",
       "<title>IFRS9 schema</title>\n",
       "<polygon fill=\"white\" points=\"-4,4 -4,-1014.5 1716.3,-1014.5 1716.3,4 -4,4\" stroke=\"transparent\"/>\n",
       "<!-- Contracts -->\n",
       "<g class=\"node\" id=\"node1\">\n",
       "<title>Contracts</title>\n",
       "<text font-family=\"-apple-system, BlinkMacSystemFont, 'Segoe UI', Helvetica, Arial, sans-serif, 'Apple Color Emoji', 'Segoe UI Emoji', 'Segoe UI Symbol'\" font-size=\"13.00\" font-weight=\"bold\" text-anchor=\"start\" x=\"93.18\" y=\"-720.1\">Contracts</text>\n",
       "<polygon fill=\"#f5f5f5\" points=\"9,-688.5 9,-711.5 39,-711.5 39,-688.5 9,-688.5\" stroke=\"transparent\"/>\n",
       "<text font-family=\"-apple-system, BlinkMacSystemFont, 'Segoe UI', Helvetica, Arial, sans-serif, 'Apple Color Emoji', 'Segoe UI Emoji', 'Segoe UI Symbol'\" font-size=\"13.00\" font-weight=\"bold\" text-anchor=\"start\" x=\"13.89\" y=\"-697.1\">key</text>\n",
       "<polygon fill=\"#f5f5f5\" points=\"39,-688.5 39,-711.5 165,-711.5 165,-688.5 39,-688.5\" stroke=\"transparent\"/>\n",
       "<text font-family=\"-apple-system, BlinkMacSystemFont, 'Segoe UI', Helvetica, Arial, sans-serif, 'Apple Color Emoji', 'Segoe UI Emoji', 'Segoe UI Symbol'\" font-size=\"13.00\" text-anchor=\"start\" x=\"44\" y=\"-696.1\">Reporting Date</text>\n",
       "<polygon fill=\"#f5f5f5\" points=\"165,-688.5 165,-711.5 233,-711.5 233,-688.5 165,-688.5\" stroke=\"transparent\"/>\n",
       "<text font-family=\"-apple-system, BlinkMacSystemFont, 'Segoe UI', Helvetica, Arial, sans-serif, 'Apple Color Emoji', 'Segoe UI Emoji', 'Segoe UI Symbol'\" font-size=\"13.00\" font-style=\"italic\" text-anchor=\"start\" x=\"169.73\" y=\"-697.1\">LocalDate</text>\n",
       "<polygon fill=\"#ffffff\" points=\"9,-665.5 9,-688.5 39,-688.5 39,-665.5 9,-665.5\" stroke=\"transparent\"/>\n",
       "<text font-family=\"-apple-system, BlinkMacSystemFont, 'Segoe UI', Helvetica, Arial, sans-serif, 'Apple Color Emoji', 'Segoe UI Emoji', 'Segoe UI Symbol'\" font-size=\"13.00\" font-weight=\"bold\" text-anchor=\"start\" x=\"13.89\" y=\"-674.1\">key</text>\n",
       "<polygon fill=\"#ffffff\" points=\"39,-665.5 39,-688.5 165,-688.5 165,-665.5 39,-665.5\" stroke=\"transparent\"/>\n",
       "<text font-family=\"-apple-system, BlinkMacSystemFont, 'Segoe UI', Helvetica, Arial, sans-serif, 'Apple Color Emoji', 'Segoe UI Emoji', 'Segoe UI Symbol'\" font-size=\"13.00\" text-anchor=\"start\" x=\"44\" y=\"-673.1\">Legal Entity</text>\n",
       "<polygon fill=\"#ffffff\" points=\"165,-665.5 165,-688.5 233,-688.5 233,-665.5 165,-665.5\" stroke=\"transparent\"/>\n",
       "<text font-family=\"-apple-system, BlinkMacSystemFont, 'Segoe UI', Helvetica, Arial, sans-serif, 'Apple Color Emoji', 'Segoe UI Emoji', 'Segoe UI Symbol'\" font-size=\"13.00\" font-style=\"italic\" text-anchor=\"start\" x=\"194.04\" y=\"-674.1\">String</text>\n",
       "<polygon fill=\"#f5f5f5\" points=\"9,-642.5 9,-665.5 39,-665.5 39,-642.5 9,-642.5\" stroke=\"transparent\"/>\n",
       "<text font-family=\"-apple-system, BlinkMacSystemFont, 'Segoe UI', Helvetica, Arial, sans-serif, 'Apple Color Emoji', 'Segoe UI Emoji', 'Segoe UI Symbol'\" font-size=\"13.00\" font-weight=\"bold\" text-anchor=\"start\" x=\"13.89\" y=\"-651.1\">key</text>\n",
       "<polygon fill=\"#f5f5f5\" points=\"39,-642.5 39,-665.5 165,-665.5 165,-642.5 39,-642.5\" stroke=\"transparent\"/>\n",
       "<text font-family=\"-apple-system, BlinkMacSystemFont, 'Segoe UI', Helvetica, Arial, sans-serif, 'Apple Color Emoji', 'Segoe UI Emoji', 'Segoe UI Symbol'\" font-size=\"13.00\" text-anchor=\"start\" x=\"44\" y=\"-650.1\">Contract ID</text>\n",
       "<polygon fill=\"#f5f5f5\" points=\"165,-642.5 165,-665.5 233,-665.5 233,-642.5 165,-642.5\" stroke=\"transparent\"/>\n",
       "<text font-family=\"-apple-system, BlinkMacSystemFont, 'Segoe UI', Helvetica, Arial, sans-serif, 'Apple Color Emoji', 'Segoe UI Emoji', 'Segoe UI Symbol'\" font-size=\"13.00\" font-style=\"italic\" text-anchor=\"start\" x=\"194.04\" y=\"-651.1\">String</text>\n",
       "<polygon fill=\"#ffffff\" points=\"9,-619.5 9,-642.5 39,-642.5 39,-619.5 9,-619.5\" stroke=\"transparent\"/>\n",
       "<polygon fill=\"#ffffff\" points=\"39,-619.5 39,-642.5 165,-642.5 165,-619.5 39,-619.5\" stroke=\"transparent\"/>\n",
       "<text font-family=\"-apple-system, BlinkMacSystemFont, 'Segoe UI', Helvetica, Arial, sans-serif, 'Apple Color Emoji', 'Segoe UI Emoji', 'Segoe UI Symbol'\" font-size=\"13.00\" text-anchor=\"start\" x=\"44\" y=\"-627.1\">Calculated Stage</text>\n",
       "<polygon fill=\"#ffffff\" points=\"165,-619.5 165,-642.5 233,-642.5 233,-619.5 165,-619.5\" stroke=\"transparent\"/>\n",
       "<text font-family=\"-apple-system, BlinkMacSystemFont, 'Segoe UI', Helvetica, Arial, sans-serif, 'Apple Color Emoji', 'Segoe UI Emoji', 'Segoe UI Symbol'\" font-size=\"13.00\" font-style=\"italic\" text-anchor=\"start\" x=\"214.27\" y=\"-628.1\">int</text>\n",
       "<polygon fill=\"#f5f5f5\" points=\"9,-596.5 9,-619.5 39,-619.5 39,-596.5 9,-596.5\" stroke=\"transparent\"/>\n",
       "<polygon fill=\"#f5f5f5\" points=\"39,-596.5 39,-619.5 165,-619.5 165,-596.5 39,-596.5\" stroke=\"transparent\"/>\n",
       "<text font-family=\"-apple-system, BlinkMacSystemFont, 'Segoe UI', Helvetica, Arial, sans-serif, 'Apple Color Emoji', 'Segoe UI Emoji', 'Segoe UI Symbol'\" font-size=\"13.00\" text-anchor=\"start\" x=\"44\" y=\"-604.1\">Stage</text>\n",
       "<polygon fill=\"#f5f5f5\" points=\"165,-596.5 165,-619.5 233,-619.5 233,-596.5 165,-596.5\" stroke=\"transparent\"/>\n",
       "<text font-family=\"-apple-system, BlinkMacSystemFont, 'Segoe UI', Helvetica, Arial, sans-serif, 'Apple Color Emoji', 'Segoe UI Emoji', 'Segoe UI Symbol'\" font-size=\"13.00\" font-style=\"italic\" text-anchor=\"start\" x=\"214.27\" y=\"-605.1\">int</text>\n",
       "<polygon fill=\"#ffffff\" points=\"9,-573.5 9,-596.5 39,-596.5 39,-573.5 9,-573.5\" stroke=\"transparent\"/>\n",
       "<polygon fill=\"#ffffff\" points=\"39,-573.5 39,-596.5 165,-596.5 165,-573.5 39,-573.5\" stroke=\"transparent\"/>\n",
       "<text font-family=\"-apple-system, BlinkMacSystemFont, 'Segoe UI', Helvetica, Arial, sans-serif, 'Apple Color Emoji', 'Segoe UI Emoji', 'Segoe UI Symbol'\" font-size=\"13.00\" text-anchor=\"start\" x=\"44\" y=\"-581.1\">DaysPastDue</text>\n",
       "<polygon fill=\"#ffffff\" points=\"165,-573.5 165,-596.5 233,-596.5 233,-573.5 165,-573.5\" stroke=\"transparent\"/>\n",
       "<text font-family=\"-apple-system, BlinkMacSystemFont, 'Segoe UI', Helvetica, Arial, sans-serif, 'Apple Color Emoji', 'Segoe UI Emoji', 'Segoe UI Symbol'\" font-size=\"13.00\" font-style=\"italic\" text-anchor=\"start\" x=\"214.27\" y=\"-582.1\">int</text>\n",
       "<polygon fill=\"#f5f5f5\" points=\"9,-550.5 9,-573.5 39,-573.5 39,-550.5 9,-550.5\" stroke=\"transparent\"/>\n",
       "<polygon fill=\"#f5f5f5\" points=\"39,-550.5 39,-573.5 165,-573.5 165,-550.5 39,-550.5\" stroke=\"transparent\"/>\n",
       "<text font-family=\"-apple-system, BlinkMacSystemFont, 'Segoe UI', Helvetica, Arial, sans-serif, 'Apple Color Emoji', 'Segoe UI Emoji', 'Segoe UI Symbol'\" font-size=\"13.00\" text-anchor=\"start\" x=\"44\" y=\"-558.1\">Forborne</text>\n",
       "<polygon fill=\"#f5f5f5\" points=\"165,-550.5 165,-573.5 233,-573.5 233,-550.5 165,-550.5\" stroke=\"transparent\"/>\n",
       "<text font-family=\"-apple-system, BlinkMacSystemFont, 'Segoe UI', Helvetica, Arial, sans-serif, 'Apple Color Emoji', 'Segoe UI Emoji', 'Segoe UI Symbol'\" font-size=\"13.00\" font-style=\"italic\" text-anchor=\"start\" x=\"194.04\" y=\"-559.1\">String</text>\n",
       "<polygon fill=\"#ffffff\" points=\"9,-527.5 9,-550.5 39,-550.5 39,-527.5 9,-527.5\" stroke=\"transparent\"/>\n",
       "<polygon fill=\"#ffffff\" points=\"39,-527.5 39,-550.5 165,-550.5 165,-527.5 39,-527.5\" stroke=\"transparent\"/>\n",
       "<text font-family=\"-apple-system, BlinkMacSystemFont, 'Segoe UI', Helvetica, Arial, sans-serif, 'Apple Color Emoji', 'Segoe UI Emoji', 'Segoe UI Symbol'\" font-size=\"13.00\" text-anchor=\"start\" x=\"44\" y=\"-535.1\">Current Limit</text>\n",
       "<polygon fill=\"#ffffff\" points=\"165,-527.5 165,-550.5 233,-550.5 233,-527.5 165,-527.5\" stroke=\"transparent\"/>\n",
       "<text font-family=\"-apple-system, BlinkMacSystemFont, 'Segoe UI', Helvetica, Arial, sans-serif, 'Apple Color Emoji', 'Segoe UI Emoji', 'Segoe UI Symbol'\" font-size=\"13.00\" font-style=\"italic\" text-anchor=\"start\" x=\"194.04\" y=\"-536.1\">String</text>\n",
       "<polygon fill=\"#f5f5f5\" points=\"9,-504.5 9,-527.5 39,-527.5 39,-504.5 9,-504.5\" stroke=\"transparent\"/>\n",
       "<polygon fill=\"#f5f5f5\" points=\"39,-504.5 39,-527.5 165,-527.5 165,-504.5 39,-504.5\" stroke=\"transparent\"/>\n",
       "<text font-family=\"-apple-system, BlinkMacSystemFont, 'Segoe UI', Helvetica, Arial, sans-serif, 'Apple Color Emoji', 'Segoe UI Emoji', 'Segoe UI Symbol'\" font-size=\"13.00\" text-anchor=\"start\" x=\"44\" y=\"-512.1\">On Balance EAD</text>\n",
       "<polygon fill=\"#f5f5f5\" points=\"165,-504.5 165,-527.5 233,-527.5 233,-504.5 165,-504.5\" stroke=\"transparent\"/>\n",
       "<text font-family=\"-apple-system, BlinkMacSystemFont, 'Segoe UI', Helvetica, Arial, sans-serif, 'Apple Color Emoji', 'Segoe UI Emoji', 'Segoe UI Symbol'\" font-size=\"13.00\" font-style=\"italic\" text-anchor=\"start\" x=\"188.96\" y=\"-513.1\">double</text>\n",
       "<polygon fill=\"#ffffff\" points=\"9,-481.5 9,-504.5 39,-504.5 39,-481.5 9,-481.5\" stroke=\"transparent\"/>\n",
       "<polygon fill=\"#ffffff\" points=\"39,-481.5 39,-504.5 165,-504.5 165,-481.5 39,-481.5\" stroke=\"transparent\"/>\n",
       "<text font-family=\"-apple-system, BlinkMacSystemFont, 'Segoe UI', Helvetica, Arial, sans-serif, 'Apple Color Emoji', 'Segoe UI Emoji', 'Segoe UI Symbol'\" font-size=\"13.00\" text-anchor=\"start\" x=\"44\" y=\"-489.1\">Off Balance EAD</text>\n",
       "<polygon fill=\"#ffffff\" points=\"165,-481.5 165,-504.5 233,-504.5 233,-481.5 165,-481.5\" stroke=\"transparent\"/>\n",
       "<text font-family=\"-apple-system, BlinkMacSystemFont, 'Segoe UI', Helvetica, Arial, sans-serif, 'Apple Color Emoji', 'Segoe UI Emoji', 'Segoe UI Symbol'\" font-size=\"13.00\" font-style=\"italic\" text-anchor=\"start\" x=\"188.96\" y=\"-490.1\">double</text>\n",
       "<polygon fill=\"#f5f5f5\" points=\"9,-458.5 9,-481.5 39,-481.5 39,-458.5 9,-458.5\" stroke=\"transparent\"/>\n",
       "<polygon fill=\"#f5f5f5\" points=\"39,-458.5 39,-481.5 165,-481.5 165,-458.5 39,-458.5\" stroke=\"transparent\"/>\n",
       "<text font-family=\"-apple-system, BlinkMacSystemFont, 'Segoe UI', Helvetica, Arial, sans-serif, 'Apple Color Emoji', 'Segoe UI Emoji', 'Segoe UI Symbol'\" font-size=\"13.00\" text-anchor=\"start\" x=\"44\" y=\"-466.1\">Pulling effect</text>\n",
       "<polygon fill=\"#f5f5f5\" points=\"165,-458.5 165,-481.5 233,-481.5 233,-458.5 165,-458.5\" stroke=\"transparent\"/>\n",
       "<text font-family=\"-apple-system, BlinkMacSystemFont, 'Segoe UI', Helvetica, Arial, sans-serif, 'Apple Color Emoji', 'Segoe UI Emoji', 'Segoe UI Symbol'\" font-size=\"13.00\" font-style=\"italic\" text-anchor=\"start\" x=\"194.04\" y=\"-467.1\">String</text>\n",
       "<polygon fill=\"#ffffff\" points=\"9,-435.5 9,-458.5 39,-458.5 39,-435.5 9,-435.5\" stroke=\"transparent\"/>\n",
       "<polygon fill=\"#ffffff\" points=\"39,-435.5 39,-458.5 165,-458.5 165,-435.5 39,-435.5\" stroke=\"transparent\"/>\n",
       "<text font-family=\"-apple-system, BlinkMacSystemFont, 'Segoe UI', Helvetica, Arial, sans-serif, 'Apple Color Emoji', 'Segoe UI Emoji', 'Segoe UI Symbol'\" font-size=\"13.00\" text-anchor=\"start\" x=\"43.83\" y=\"-443.1\">Management Status</text>\n",
       "<polygon fill=\"#ffffff\" points=\"165,-435.5 165,-458.5 233,-458.5 233,-435.5 165,-435.5\" stroke=\"transparent\"/>\n",
       "<text font-family=\"-apple-system, BlinkMacSystemFont, 'Segoe UI', Helvetica, Arial, sans-serif, 'Apple Color Emoji', 'Segoe UI Emoji', 'Segoe UI Symbol'\" font-size=\"13.00\" font-style=\"italic\" text-anchor=\"start\" x=\"214.27\" y=\"-444.1\">int</text>\n",
       "<polygon fill=\"#f5f5f5\" points=\"9,-412.5 9,-435.5 39,-435.5 39,-412.5 9,-412.5\" stroke=\"transparent\"/>\n",
       "<polygon fill=\"#f5f5f5\" points=\"39,-412.5 39,-435.5 165,-435.5 165,-412.5 39,-412.5\" stroke=\"transparent\"/>\n",
       "<text font-family=\"-apple-system, BlinkMacSystemFont, 'Segoe UI', Helvetica, Arial, sans-serif, 'Apple Color Emoji', 'Segoe UI Emoji', 'Segoe UI Symbol'\" font-size=\"13.00\" text-anchor=\"start\" x=\"44\" y=\"-420.1\">Forbereance date</text>\n",
       "<polygon fill=\"#f5f5f5\" points=\"165,-412.5 165,-435.5 233,-435.5 233,-412.5 165,-412.5\" stroke=\"transparent\"/>\n",
       "<text font-family=\"-apple-system, BlinkMacSystemFont, 'Segoe UI', Helvetica, Arial, sans-serif, 'Apple Color Emoji', 'Segoe UI Emoji', 'Segoe UI Symbol'\" font-size=\"13.00\" font-style=\"italic\" text-anchor=\"start\" x=\"169.73\" y=\"-421.1\">LocalDate</text>\n",
       "<polygon fill=\"#ffffff\" points=\"9,-389.5 9,-412.5 39,-412.5 39,-389.5 9,-389.5\" stroke=\"transparent\"/>\n",
       "<polygon fill=\"#ffffff\" points=\"39,-389.5 39,-412.5 165,-412.5 165,-389.5 39,-389.5\" stroke=\"transparent\"/>\n",
       "<text font-family=\"-apple-system, BlinkMacSystemFont, 'Segoe UI', Helvetica, Arial, sans-serif, 'Apple Color Emoji', 'Segoe UI Emoji', 'Segoe UI Symbol'\" font-size=\"13.00\" text-anchor=\"start\" x=\"44\" y=\"-397.1\">Write-Off</text>\n",
       "<polygon fill=\"#ffffff\" points=\"165,-389.5 165,-412.5 233,-412.5 233,-389.5 165,-389.5\" stroke=\"transparent\"/>\n",
       "<text font-family=\"-apple-system, BlinkMacSystemFont, 'Segoe UI', Helvetica, Arial, sans-serif, 'Apple Color Emoji', 'Segoe UI Emoji', 'Segoe UI Symbol'\" font-size=\"13.00\" font-style=\"italic\" text-anchor=\"start\" x=\"194.04\" y=\"-398.1\">String</text>\n",
       "<polygon fill=\"#f5f5f5\" points=\"9,-366.5 9,-389.5 39,-389.5 39,-366.5 9,-366.5\" stroke=\"transparent\"/>\n",
       "<polygon fill=\"#f5f5f5\" points=\"39,-366.5 39,-389.5 165,-389.5 165,-366.5 39,-366.5\" stroke=\"transparent\"/>\n",
       "<text font-family=\"-apple-system, BlinkMacSystemFont, 'Segoe UI', Helvetica, Arial, sans-serif, 'Apple Color Emoji', 'Segoe UI Emoji', 'Segoe UI Symbol'\" font-size=\"13.00\" text-anchor=\"start\" x=\"44\" y=\"-374.1\">Write-Off Date</text>\n",
       "<polygon fill=\"#f5f5f5\" points=\"165,-366.5 165,-389.5 233,-389.5 233,-366.5 165,-366.5\" stroke=\"transparent\"/>\n",
       "<text font-family=\"-apple-system, BlinkMacSystemFont, 'Segoe UI', Helvetica, Arial, sans-serif, 'Apple Color Emoji', 'Segoe UI Emoji', 'Segoe UI Symbol'\" font-size=\"13.00\" font-style=\"italic\" text-anchor=\"start\" x=\"169.73\" y=\"-375.1\">LocalDate</text>\n",
       "<polygon fill=\"#ffffff\" points=\"9,-343.5 9,-366.5 39,-366.5 39,-343.5 9,-343.5\" stroke=\"transparent\"/>\n",
       "<polygon fill=\"#ffffff\" points=\"39,-343.5 39,-366.5 165,-366.5 165,-343.5 39,-343.5\" stroke=\"transparent\"/>\n",
       "<text font-family=\"-apple-system, BlinkMacSystemFont, 'Segoe UI', Helvetica, Arial, sans-serif, 'Apple Color Emoji', 'Segoe UI Emoji', 'Segoe UI Symbol'\" font-size=\"13.00\" text-anchor=\"start\" x=\"44\" y=\"-351.1\">Time to Cure</text>\n",
       "<polygon fill=\"#ffffff\" points=\"165,-343.5 165,-366.5 233,-366.5 233,-343.5 165,-343.5\" stroke=\"transparent\"/>\n",
       "<text font-family=\"-apple-system, BlinkMacSystemFont, 'Segoe UI', Helvetica, Arial, sans-serif, 'Apple Color Emoji', 'Segoe UI Emoji', 'Segoe UI Symbol'\" font-size=\"13.00\" font-style=\"italic\" text-anchor=\"start\" x=\"214.27\" y=\"-352.1\">int</text>\n",
       "<polygon fill=\"#f5f5f5\" points=\"9,-320.5 9,-343.5 39,-343.5 39,-320.5 9,-320.5\" stroke=\"transparent\"/>\n",
       "<polygon fill=\"#f5f5f5\" points=\"39,-320.5 39,-343.5 165,-343.5 165,-320.5 39,-320.5\" stroke=\"transparent\"/>\n",
       "<text font-family=\"-apple-system, BlinkMacSystemFont, 'Segoe UI', Helvetica, Arial, sans-serif, 'Apple Color Emoji', 'Segoe UI Emoji', 'Segoe UI Symbol'\" font-size=\"13.00\" text-anchor=\"start\" x=\"44\" y=\"-328.1\">Pay-Off</text>\n",
       "<polygon fill=\"#f5f5f5\" points=\"165,-320.5 165,-343.5 233,-343.5 233,-320.5 165,-320.5\" stroke=\"transparent\"/>\n",
       "<text font-family=\"-apple-system, BlinkMacSystemFont, 'Segoe UI', Helvetica, Arial, sans-serif, 'Apple Color Emoji', 'Segoe UI Emoji', 'Segoe UI Symbol'\" font-size=\"13.00\" font-style=\"italic\" text-anchor=\"start\" x=\"194.04\" y=\"-329.1\">String</text>\n",
       "<polygon fill=\"#ffffff\" points=\"9,-297.5 9,-320.5 39,-320.5 39,-297.5 9,-297.5\" stroke=\"transparent\"/>\n",
       "<polygon fill=\"#ffffff\" points=\"39,-297.5 39,-320.5 165,-320.5 165,-297.5 39,-297.5\" stroke=\"transparent\"/>\n",
       "<text font-family=\"-apple-system, BlinkMacSystemFont, 'Segoe UI', Helvetica, Arial, sans-serif, 'Apple Color Emoji', 'Segoe UI Emoji', 'Segoe UI Symbol'\" font-size=\"13.00\" text-anchor=\"start\" x=\"44\" y=\"-305.1\">LTV</text>\n",
       "<polygon fill=\"#ffffff\" points=\"165,-297.5 165,-320.5 233,-320.5 233,-297.5 165,-297.5\" stroke=\"transparent\"/>\n",
       "<text font-family=\"-apple-system, BlinkMacSystemFont, 'Segoe UI', Helvetica, Arial, sans-serif, 'Apple Color Emoji', 'Segoe UI Emoji', 'Segoe UI Symbol'\" font-size=\"13.00\" font-style=\"italic\" text-anchor=\"start\" x=\"194.04\" y=\"-306.1\">String</text>\n",
       "<polygon fill=\"#f5f5f5\" points=\"9,-274.5 9,-297.5 39,-297.5 39,-274.5 9,-274.5\" stroke=\"transparent\"/>\n",
       "<polygon fill=\"#f5f5f5\" points=\"39,-274.5 39,-297.5 165,-297.5 165,-274.5 39,-274.5\" stroke=\"transparent\"/>\n",
       "<text font-family=\"-apple-system, BlinkMacSystemFont, 'Segoe UI', Helvetica, Arial, sans-serif, 'Apple Color Emoji', 'Segoe UI Emoji', 'Segoe UI Symbol'\" font-size=\"13.00\" text-anchor=\"start\" x=\"44\" y=\"-282.1\">K2</text>\n",
       "<polygon fill=\"#f5f5f5\" points=\"165,-274.5 165,-297.5 233,-297.5 233,-274.5 165,-274.5\" stroke=\"transparent\"/>\n",
       "<text font-family=\"-apple-system, BlinkMacSystemFont, 'Segoe UI', Helvetica, Arial, sans-serif, 'Apple Color Emoji', 'Segoe UI Emoji', 'Segoe UI Symbol'\" font-size=\"13.00\" font-style=\"italic\" text-anchor=\"start\" x=\"214.27\" y=\"-283.1\">int</text>\n",
       "<polygon fill=\"#ffffff\" points=\"9,-251.5 9,-274.5 39,-274.5 39,-251.5 9,-251.5\" stroke=\"transparent\"/>\n",
       "<polygon fill=\"#ffffff\" points=\"39,-251.5 39,-274.5 165,-274.5 165,-251.5 39,-251.5\" stroke=\"transparent\"/>\n",
       "<text font-family=\"-apple-system, BlinkMacSystemFont, 'Segoe UI', Helvetica, Arial, sans-serif, 'Apple Color Emoji', 'Segoe UI Emoji', 'Segoe UI Symbol'\" font-size=\"13.00\" text-anchor=\"start\" x=\"44\" y=\"-259.1\">EAD</text>\n",
       "<polygon fill=\"#ffffff\" points=\"165,-251.5 165,-274.5 233,-274.5 233,-251.5 165,-251.5\" stroke=\"transparent\"/>\n",
       "<text font-family=\"-apple-system, BlinkMacSystemFont, 'Segoe UI', Helvetica, Arial, sans-serif, 'Apple Color Emoji', 'Segoe UI Emoji', 'Segoe UI Symbol'\" font-size=\"13.00\" font-style=\"italic\" text-anchor=\"start\" x=\"188.96\" y=\"-260.1\">double</text>\n",
       "<polygon fill=\"#f5f5f5\" points=\"9,-228.5 9,-251.5 39,-251.5 39,-228.5 9,-228.5\" stroke=\"transparent\"/>\n",
       "<polygon fill=\"#f5f5f5\" points=\"39,-228.5 39,-251.5 165,-251.5 165,-228.5 39,-228.5\" stroke=\"transparent\"/>\n",
       "<text font-family=\"-apple-system, BlinkMacSystemFont, 'Segoe UI', Helvetica, Arial, sans-serif, 'Apple Color Emoji', 'Segoe UI Emoji', 'Segoe UI Symbol'\" font-size=\"13.00\" text-anchor=\"start\" x=\"44\" y=\"-236.1\">PD12</text>\n",
       "<polygon fill=\"#f5f5f5\" points=\"165,-228.5 165,-251.5 233,-251.5 233,-228.5 165,-228.5\" stroke=\"transparent\"/>\n",
       "<text font-family=\"-apple-system, BlinkMacSystemFont, 'Segoe UI', Helvetica, Arial, sans-serif, 'Apple Color Emoji', 'Segoe UI Emoji', 'Segoe UI Symbol'\" font-size=\"13.00\" font-style=\"italic\" text-anchor=\"start\" x=\"188.96\" y=\"-237.1\">double</text>\n",
       "<polygon fill=\"#ffffff\" points=\"9,-205.5 9,-228.5 39,-228.5 39,-205.5 9,-205.5\" stroke=\"transparent\"/>\n",
       "<polygon fill=\"#ffffff\" points=\"39,-205.5 39,-228.5 165,-228.5 165,-205.5 39,-205.5\" stroke=\"transparent\"/>\n",
       "<text font-family=\"-apple-system, BlinkMacSystemFont, 'Segoe UI', Helvetica, Arial, sans-serif, 'Apple Color Emoji', 'Segoe UI Emoji', 'Segoe UI Symbol'\" font-size=\"13.00\" text-anchor=\"start\" x=\"44\" y=\"-213.1\">PDLT</text>\n",
       "<polygon fill=\"#ffffff\" points=\"165,-205.5 165,-228.5 233,-228.5 233,-205.5 165,-205.5\" stroke=\"transparent\"/>\n",
       "<text font-family=\"-apple-system, BlinkMacSystemFont, 'Segoe UI', Helvetica, Arial, sans-serif, 'Apple Color Emoji', 'Segoe UI Emoji', 'Segoe UI Symbol'\" font-size=\"13.00\" font-style=\"italic\" text-anchor=\"start\" x=\"188.96\" y=\"-214.1\">double</text>\n",
       "<polygon fill=\"#f5f5f5\" points=\"9,-182.5 9,-205.5 39,-205.5 39,-182.5 9,-182.5\" stroke=\"transparent\"/>\n",
       "<polygon fill=\"#f5f5f5\" points=\"39,-182.5 39,-205.5 165,-205.5 165,-182.5 39,-182.5\" stroke=\"transparent\"/>\n",
       "<text font-family=\"-apple-system, BlinkMacSystemFont, 'Segoe UI', Helvetica, Arial, sans-serif, 'Apple Color Emoji', 'Segoe UI Emoji', 'Segoe UI Symbol'\" font-size=\"13.00\" text-anchor=\"start\" x=\"44\" y=\"-190.1\">LGD</text>\n",
       "<polygon fill=\"#f5f5f5\" points=\"165,-182.5 165,-205.5 233,-205.5 233,-182.5 165,-182.5\" stroke=\"transparent\"/>\n",
       "<text font-family=\"-apple-system, BlinkMacSystemFont, 'Segoe UI', Helvetica, Arial, sans-serif, 'Apple Color Emoji', 'Segoe UI Emoji', 'Segoe UI Symbol'\" font-size=\"13.00\" font-style=\"italic\" text-anchor=\"start\" x=\"188.96\" y=\"-191.1\">double</text>\n",
       "<polygon fill=\"#ffffff\" points=\"9,-159.5 9,-182.5 39,-182.5 39,-159.5 9,-159.5\" stroke=\"transparent\"/>\n",
       "<polygon fill=\"#ffffff\" points=\"39,-159.5 39,-182.5 165,-182.5 165,-159.5 39,-159.5\" stroke=\"transparent\"/>\n",
       "<text font-family=\"-apple-system, BlinkMacSystemFont, 'Segoe UI', Helvetica, Arial, sans-serif, 'Apple Color Emoji', 'Segoe UI Emoji', 'Segoe UI Symbol'\" font-size=\"13.00\" text-anchor=\"start\" x=\"44\" y=\"-167.1\">Maturity Date</text>\n",
       "<polygon fill=\"#ffffff\" points=\"165,-159.5 165,-182.5 233,-182.5 233,-159.5 165,-159.5\" stroke=\"transparent\"/>\n",
       "<text font-family=\"-apple-system, BlinkMacSystemFont, 'Segoe UI', Helvetica, Arial, sans-serif, 'Apple Color Emoji', 'Segoe UI Emoji', 'Segoe UI Symbol'\" font-size=\"13.00\" font-style=\"italic\" text-anchor=\"start\" x=\"169.73\" y=\"-168.1\">LocalDate</text>\n",
       "<polygon fill=\"#f5f5f5\" points=\"9,-136.5 9,-159.5 39,-159.5 39,-136.5 9,-136.5\" stroke=\"transparent\"/>\n",
       "<polygon fill=\"#f5f5f5\" points=\"39,-136.5 39,-159.5 165,-159.5 165,-136.5 39,-136.5\" stroke=\"transparent\"/>\n",
       "<text font-family=\"-apple-system, BlinkMacSystemFont, 'Segoe UI', Helvetica, Arial, sans-serif, 'Apple Color Emoji', 'Segoe UI Emoji', 'Segoe UI Symbol'\" font-size=\"13.00\" text-anchor=\"start\" x=\"44\" y=\"-144.1\">Residual Maturity</text>\n",
       "<polygon fill=\"#f5f5f5\" points=\"165,-136.5 165,-159.5 233,-159.5 233,-136.5 165,-136.5\" stroke=\"transparent\"/>\n",
       "<text font-family=\"-apple-system, BlinkMacSystemFont, 'Segoe UI', Helvetica, Arial, sans-serif, 'Apple Color Emoji', 'Segoe UI Emoji', 'Segoe UI Symbol'\" font-size=\"13.00\" font-style=\"italic\" text-anchor=\"start\" x=\"214.27\" y=\"-145.1\">int</text>\n",
       "<polygon fill=\"#ffffff\" points=\"9,-113.5 9,-136.5 39,-136.5 39,-113.5 9,-113.5\" stroke=\"transparent\"/>\n",
       "<polygon fill=\"#ffffff\" points=\"39,-113.5 39,-136.5 165,-136.5 165,-113.5 39,-113.5\" stroke=\"transparent\"/>\n",
       "<text font-family=\"-apple-system, BlinkMacSystemFont, 'Segoe UI', Helvetica, Arial, sans-serif, 'Apple Color Emoji', 'Segoe UI Emoji', 'Segoe UI Symbol'\" font-size=\"13.00\" text-anchor=\"start\" x=\"44\" y=\"-121.1\">Bucketed Arrears</text>\n",
       "<polygon fill=\"#ffffff\" points=\"165,-113.5 165,-136.5 233,-136.5 233,-113.5 165,-113.5\" stroke=\"transparent\"/>\n",
       "<text font-family=\"-apple-system, BlinkMacSystemFont, 'Segoe UI', Helvetica, Arial, sans-serif, 'Apple Color Emoji', 'Segoe UI Emoji', 'Segoe UI Symbol'\" font-size=\"13.00\" font-style=\"italic\" text-anchor=\"start\" x=\"194.04\" y=\"-122.1\">String</text>\n",
       "<polygon fill=\"#f5f5f5\" points=\"9,-90.5 9,-113.5 39,-113.5 39,-90.5 9,-90.5\" stroke=\"transparent\"/>\n",
       "<polygon fill=\"#f5f5f5\" points=\"39,-90.5 39,-113.5 165,-113.5 165,-90.5 39,-90.5\" stroke=\"transparent\"/>\n",
       "<text font-family=\"-apple-system, BlinkMacSystemFont, 'Segoe UI', Helvetica, Arial, sans-serif, 'Apple Color Emoji', 'Segoe UI Emoji', 'Segoe UI Symbol'\" font-size=\"13.00\" text-anchor=\"start\" x=\"44\" y=\"-98.1\">Reporting Index</text>\n",
       "<polygon fill=\"#f5f5f5\" points=\"165,-90.5 165,-113.5 233,-113.5 233,-90.5 165,-90.5\" stroke=\"transparent\"/>\n",
       "<text font-family=\"-apple-system, BlinkMacSystemFont, 'Segoe UI', Helvetica, Arial, sans-serif, 'Apple Color Emoji', 'Segoe UI Emoji', 'Segoe UI Symbol'\" font-size=\"13.00\" font-style=\"italic\" text-anchor=\"start\" x=\"214.27\" y=\"-99.1\">int</text>\n",
       "<polygon fill=\"#ffffff\" points=\"9,-67.5 9,-90.5 39,-90.5 39,-67.5 9,-67.5\" stroke=\"transparent\"/>\n",
       "<polygon fill=\"#ffffff\" points=\"39,-67.5 39,-90.5 165,-90.5 165,-67.5 39,-67.5\" stroke=\"transparent\"/>\n",
       "<text font-family=\"-apple-system, BlinkMacSystemFont, 'Segoe UI', Helvetica, Arial, sans-serif, 'Apple Color Emoji', 'Segoe UI Emoji', 'Segoe UI Symbol'\" font-size=\"13.00\" text-anchor=\"start\" x=\"44\" y=\"-75.1\">Is New Contract</text>\n",
       "<polygon fill=\"#ffffff\" points=\"165,-67.5 165,-90.5 233,-90.5 233,-67.5 165,-67.5\" stroke=\"transparent\"/>\n",
       "<text font-family=\"-apple-system, BlinkMacSystemFont, 'Segoe UI', Helvetica, Arial, sans-serif, 'Apple Color Emoji', 'Segoe UI Emoji', 'Segoe UI Symbol'\" font-size=\"13.00\" font-style=\"italic\" text-anchor=\"start\" x=\"181.73\" y=\"-76.1\">boolean</text>\n",
       "<polygon fill=\"#f5f5f5\" points=\"9,-44.5 9,-67.5 39,-67.5 39,-44.5 9,-44.5\" stroke=\"transparent\"/>\n",
       "<polygon fill=\"#f5f5f5\" points=\"39,-44.5 39,-67.5 165,-67.5 165,-44.5 39,-44.5\" stroke=\"transparent\"/>\n",
       "<text font-family=\"-apple-system, BlinkMacSystemFont, 'Segoe UI', Helvetica, Arial, sans-serif, 'Apple Color Emoji', 'Segoe UI Emoji', 'Segoe UI Symbol'\" font-size=\"13.00\" text-anchor=\"start\" x=\"44\" y=\"-52.1\">Client ID</text>\n",
       "<polygon fill=\"#f5f5f5\" points=\"165,-44.5 165,-67.5 233,-67.5 233,-44.5 165,-44.5\" stroke=\"transparent\"/>\n",
       "<text font-family=\"-apple-system, BlinkMacSystemFont, 'Segoe UI', Helvetica, Arial, sans-serif, 'Apple Color Emoji', 'Segoe UI Emoji', 'Segoe UI Symbol'\" font-size=\"13.00\" font-style=\"italic\" text-anchor=\"start\" x=\"194.04\" y=\"-53.1\">String</text>\n",
       "<polygon fill=\"none\" points=\"8,-43.5 8,-735.5 234,-735.5 234,-43.5 8,-43.5\" stroke=\"black\"/>\n",
       "</g>\n",
       "<!-- Clients -->\n",
       "<g class=\"node\" id=\"node2\">\n",
       "<title>Clients</title>\n",
       "<text font-family=\"-apple-system, BlinkMacSystemFont, 'Segoe UI', Helvetica, Arial, sans-serif, 'Apple Color Emoji', 'Segoe UI Emoji', 'Segoe UI Symbol'\" font-size=\"13.00\" font-weight=\"bold\" text-anchor=\"start\" x=\"578.23\" y=\"-737.1\">Clients</text>\n",
       "<polygon fill=\"#f5f5f5\" points=\"482.1,-705.5 482.1,-728.5 512.1,-728.5 512.1,-705.5 482.1,-705.5\" stroke=\"transparent\"/>\n",
       "<text font-family=\"-apple-system, BlinkMacSystemFont, 'Segoe UI', Helvetica, Arial, sans-serif, 'Apple Color Emoji', 'Segoe UI Emoji', 'Segoe UI Symbol'\" font-size=\"13.00\" font-weight=\"bold\" text-anchor=\"start\" x=\"486.99\" y=\"-714.1\">key</text>\n",
       "<polygon fill=\"#f5f5f5\" points=\"512.1,-705.5 512.1,-728.5 646.1,-728.5 646.1,-705.5 512.1,-705.5\" stroke=\"transparent\"/>\n",
       "<text font-family=\"-apple-system, BlinkMacSystemFont, 'Segoe UI', Helvetica, Arial, sans-serif, 'Apple Color Emoji', 'Segoe UI Emoji', 'Segoe UI Symbol'\" font-size=\"13.00\" text-anchor=\"start\" x=\"517.1\" y=\"-713.1\">Reporting Date</text>\n",
       "<polygon fill=\"#f5f5f5\" points=\"646.1,-705.5 646.1,-728.5 714.1,-728.5 714.1,-705.5 646.1,-705.5\" stroke=\"transparent\"/>\n",
       "<text font-family=\"-apple-system, BlinkMacSystemFont, 'Segoe UI', Helvetica, Arial, sans-serif, 'Apple Color Emoji', 'Segoe UI Emoji', 'Segoe UI Symbol'\" font-size=\"13.00\" font-style=\"italic\" text-anchor=\"start\" x=\"650.83\" y=\"-714.1\">LocalDate</text>\n",
       "<polygon fill=\"#ffffff\" points=\"482.1,-682.5 482.1,-705.5 512.1,-705.5 512.1,-682.5 482.1,-682.5\" stroke=\"transparent\"/>\n",
       "<text font-family=\"-apple-system, BlinkMacSystemFont, 'Segoe UI', Helvetica, Arial, sans-serif, 'Apple Color Emoji', 'Segoe UI Emoji', 'Segoe UI Symbol'\" font-size=\"13.00\" font-weight=\"bold\" text-anchor=\"start\" x=\"486.99\" y=\"-691.1\">key</text>\n",
       "<polygon fill=\"#ffffff\" points=\"512.1,-682.5 512.1,-705.5 646.1,-705.5 646.1,-682.5 512.1,-682.5\" stroke=\"transparent\"/>\n",
       "<text font-family=\"-apple-system, BlinkMacSystemFont, 'Segoe UI', Helvetica, Arial, sans-serif, 'Apple Color Emoji', 'Segoe UI Emoji', 'Segoe UI Symbol'\" font-size=\"13.00\" text-anchor=\"start\" x=\"517.1\" y=\"-690.1\">Legal Entity</text>\n",
       "<polygon fill=\"#ffffff\" points=\"646.1,-682.5 646.1,-705.5 714.1,-705.5 714.1,-682.5 646.1,-682.5\" stroke=\"transparent\"/>\n",
       "<text font-family=\"-apple-system, BlinkMacSystemFont, 'Segoe UI', Helvetica, Arial, sans-serif, 'Apple Color Emoji', 'Segoe UI Emoji', 'Segoe UI Symbol'\" font-size=\"13.00\" font-style=\"italic\" text-anchor=\"start\" x=\"675.14\" y=\"-691.1\">String</text>\n",
       "<polygon fill=\"#f5f5f5\" points=\"482.1,-659.5 482.1,-682.5 512.1,-682.5 512.1,-659.5 482.1,-659.5\" stroke=\"transparent\"/>\n",
       "<text font-family=\"-apple-system, BlinkMacSystemFont, 'Segoe UI', Helvetica, Arial, sans-serif, 'Apple Color Emoji', 'Segoe UI Emoji', 'Segoe UI Symbol'\" font-size=\"13.00\" font-weight=\"bold\" text-anchor=\"start\" x=\"486.99\" y=\"-668.1\">key</text>\n",
       "<polygon fill=\"#f5f5f5\" points=\"512.1,-659.5 512.1,-682.5 646.1,-682.5 646.1,-659.5 512.1,-659.5\" stroke=\"transparent\"/>\n",
       "<text font-family=\"-apple-system, BlinkMacSystemFont, 'Segoe UI', Helvetica, Arial, sans-serif, 'Apple Color Emoji', 'Segoe UI Emoji', 'Segoe UI Symbol'\" font-size=\"13.00\" text-anchor=\"start\" x=\"517.1\" y=\"-667.1\">Client ID</text>\n",
       "<polygon fill=\"#f5f5f5\" points=\"646.1,-659.5 646.1,-682.5 714.1,-682.5 714.1,-659.5 646.1,-659.5\" stroke=\"transparent\"/>\n",
       "<text font-family=\"-apple-system, BlinkMacSystemFont, 'Segoe UI', Helvetica, Arial, sans-serif, 'Apple Color Emoji', 'Segoe UI Emoji', 'Segoe UI Symbol'\" font-size=\"13.00\" font-style=\"italic\" text-anchor=\"start\" x=\"675.14\" y=\"-668.1\">String</text>\n",
       "<polygon fill=\"#ffffff\" points=\"482.1,-636.5 482.1,-659.5 512.1,-659.5 512.1,-636.5 482.1,-636.5\" stroke=\"transparent\"/>\n",
       "<polygon fill=\"#ffffff\" points=\"512.1,-636.5 512.1,-659.5 646.1,-659.5 646.1,-636.5 512.1,-636.5\" stroke=\"transparent\"/>\n",
       "<text font-family=\"-apple-system, BlinkMacSystemFont, 'Segoe UI', Helvetica, Arial, sans-serif, 'Apple Color Emoji', 'Segoe UI Emoji', 'Segoe UI Symbol'\" font-size=\"13.00\" text-anchor=\"start\" x=\"517.1\" y=\"-644.1\">Client Type</text>\n",
       "<polygon fill=\"#ffffff\" points=\"646.1,-636.5 646.1,-659.5 714.1,-659.5 714.1,-636.5 646.1,-636.5\" stroke=\"transparent\"/>\n",
       "<text font-family=\"-apple-system, BlinkMacSystemFont, 'Segoe UI', Helvetica, Arial, sans-serif, 'Apple Color Emoji', 'Segoe UI Emoji', 'Segoe UI Symbol'\" font-size=\"13.00\" font-style=\"italic\" text-anchor=\"start\" x=\"675.14\" y=\"-645.1\">String</text>\n",
       "<polygon fill=\"#f5f5f5\" points=\"482.1,-613.5 482.1,-636.5 512.1,-636.5 512.1,-613.5 482.1,-613.5\" stroke=\"transparent\"/>\n",
       "<polygon fill=\"#f5f5f5\" points=\"512.1,-613.5 512.1,-636.5 646.1,-636.5 646.1,-613.5 512.1,-613.5\" stroke=\"transparent\"/>\n",
       "<text font-family=\"-apple-system, BlinkMacSystemFont, 'Segoe UI', Helvetica, Arial, sans-serif, 'Apple Color Emoji', 'Segoe UI Emoji', 'Segoe UI Symbol'\" font-size=\"13.00\" text-anchor=\"start\" x=\"516.96\" y=\"-621.1\">Non-Performing Loan</text>\n",
       "<polygon fill=\"#f5f5f5\" points=\"646.1,-613.5 646.1,-636.5 714.1,-636.5 714.1,-613.5 646.1,-613.5\" stroke=\"transparent\"/>\n",
       "<text font-family=\"-apple-system, BlinkMacSystemFont, 'Segoe UI', Helvetica, Arial, sans-serif, 'Apple Color Emoji', 'Segoe UI Emoji', 'Segoe UI Symbol'\" font-size=\"13.00\" font-style=\"italic\" text-anchor=\"start\" x=\"675.14\" y=\"-622.1\">String</text>\n",
       "<polygon fill=\"#ffffff\" points=\"482.1,-590.5 482.1,-613.5 512.1,-613.5 512.1,-590.5 482.1,-590.5\" stroke=\"transparent\"/>\n",
       "<polygon fill=\"#ffffff\" points=\"512.1,-590.5 512.1,-613.5 646.1,-613.5 646.1,-590.5 512.1,-590.5\" stroke=\"transparent\"/>\n",
       "<text font-family=\"-apple-system, BlinkMacSystemFont, 'Segoe UI', Helvetica, Arial, sans-serif, 'Apple Color Emoji', 'Segoe UI Emoji', 'Segoe UI Symbol'\" font-size=\"13.00\" text-anchor=\"start\" x=\"517.1\" y=\"-598.1\">Credit Score</text>\n",
       "<polygon fill=\"#ffffff\" points=\"646.1,-590.5 646.1,-613.5 714.1,-613.5 714.1,-590.5 646.1,-590.5\" stroke=\"transparent\"/>\n",
       "<text font-family=\"-apple-system, BlinkMacSystemFont, 'Segoe UI', Helvetica, Arial, sans-serif, 'Apple Color Emoji', 'Segoe UI Emoji', 'Segoe UI Symbol'\" font-size=\"13.00\" font-style=\"italic\" text-anchor=\"start\" x=\"695.37\" y=\"-599.1\">int</text>\n",
       "<polygon fill=\"#f5f5f5\" points=\"482.1,-567.5 482.1,-590.5 512.1,-590.5 512.1,-567.5 482.1,-567.5\" stroke=\"transparent\"/>\n",
       "<polygon fill=\"#f5f5f5\" points=\"512.1,-567.5 512.1,-590.5 646.1,-590.5 646.1,-567.5 512.1,-567.5\" stroke=\"transparent\"/>\n",
       "<text font-family=\"-apple-system, BlinkMacSystemFont, 'Segoe UI', Helvetica, Arial, sans-serif, 'Apple Color Emoji', 'Segoe UI Emoji', 'Segoe UI Symbol'\" font-size=\"13.00\" text-anchor=\"start\" x=\"517.1\" y=\"-575.1\">Sector</text>\n",
       "<polygon fill=\"#f5f5f5\" points=\"646.1,-567.5 646.1,-590.5 714.1,-590.5 714.1,-567.5 646.1,-567.5\" stroke=\"transparent\"/>\n",
       "<text font-family=\"-apple-system, BlinkMacSystemFont, 'Segoe UI', Helvetica, Arial, sans-serif, 'Apple Color Emoji', 'Segoe UI Emoji', 'Segoe UI Symbol'\" font-size=\"13.00\" font-style=\"italic\" text-anchor=\"start\" x=\"675.14\" y=\"-576.1\">String</text>\n",
       "<polygon fill=\"#ffffff\" points=\"482.1,-544.5 482.1,-567.5 512.1,-567.5 512.1,-544.5 482.1,-544.5\" stroke=\"transparent\"/>\n",
       "<polygon fill=\"#ffffff\" points=\"512.1,-544.5 512.1,-567.5 646.1,-567.5 646.1,-544.5 512.1,-544.5\" stroke=\"transparent\"/>\n",
       "<text font-family=\"-apple-system, BlinkMacSystemFont, 'Segoe UI', Helvetica, Arial, sans-serif, 'Apple Color Emoji', 'Segoe UI Emoji', 'Segoe UI Symbol'\" font-size=\"13.00\" text-anchor=\"start\" x=\"517.1\" y=\"-552.1\">Rating</text>\n",
       "<polygon fill=\"#ffffff\" points=\"646.1,-544.5 646.1,-567.5 714.1,-567.5 714.1,-544.5 646.1,-544.5\" stroke=\"transparent\"/>\n",
       "<text font-family=\"-apple-system, BlinkMacSystemFont, 'Segoe UI', Helvetica, Arial, sans-serif, 'Apple Color Emoji', 'Segoe UI Emoji', 'Segoe UI Symbol'\" font-size=\"13.00\" font-style=\"italic\" text-anchor=\"start\" x=\"675.14\" y=\"-553.1\">String</text>\n",
       "<polygon fill=\"#f5f5f5\" points=\"482.1,-521.5 482.1,-544.5 512.1,-544.5 512.1,-521.5 482.1,-521.5\" stroke=\"transparent\"/>\n",
       "<polygon fill=\"#f5f5f5\" points=\"512.1,-521.5 512.1,-544.5 646.1,-544.5 646.1,-521.5 512.1,-521.5\" stroke=\"transparent\"/>\n",
       "<text font-family=\"-apple-system, BlinkMacSystemFont, 'Segoe UI', Helvetica, Arial, sans-serif, 'Apple Color Emoji', 'Segoe UI Emoji', 'Segoe UI Symbol'\" font-size=\"13.00\" text-anchor=\"start\" x=\"517.1\" y=\"-529.1\">EAD Limit</text>\n",
       "<polygon fill=\"#f5f5f5\" points=\"646.1,-521.5 646.1,-544.5 714.1,-544.5 714.1,-521.5 646.1,-521.5\" stroke=\"transparent\"/>\n",
       "<text font-family=\"-apple-system, BlinkMacSystemFont, 'Segoe UI', Helvetica, Arial, sans-serif, 'Apple Color Emoji', 'Segoe UI Emoji', 'Segoe UI Symbol'\" font-size=\"13.00\" font-style=\"italic\" text-anchor=\"start\" x=\"670.06\" y=\"-530.1\">double</text>\n",
       "<polygon fill=\"none\" points=\"481.1,-520.5 481.1,-752.5 715.1,-752.5 715.1,-520.5 481.1,-520.5\" stroke=\"black\"/>\n",
       "</g>\n",
       "<!-- Contracts&#45;&gt;Clients -->\n",
       "<g class=\"edge\" id=\"edge3\">\n",
       "<title>Contracts-&gt;Clients</title>\n",
       "<path d=\"M242.2,-451.99C309.68,-487.07 394.03,-530.93 463.57,-567.08\" fill=\"none\" stroke=\"black\"/>\n",
       "<polygon fill=\"black\" points=\"462.36,-570.39 472.85,-571.9 465.59,-564.18 462.36,-570.39\" stroke=\"black\"/>\n",
       "<text font-family=\"-apple-system, BlinkMacSystemFont, 'Segoe UI', Helvetica, Arial, sans-serif, 'Apple Color Emoji', 'Segoe UI Emoji', 'Segoe UI Symbol'\" font-size=\"13.00\" text-anchor=\"middle\" x=\"357.55\" y=\"-593.77\">Client ID → Client ID</text>\n",
       "<text font-family=\"-apple-system, BlinkMacSystemFont, 'Segoe UI', Helvetica, Arial, sans-serif, 'Apple Color Emoji', 'Segoe UI Emoji', 'Segoe UI Symbol'\" font-size=\"13.00\" text-anchor=\"middle\" x=\"357.55\" y=\"-578.22\">Legal Entity → Legal Entity</text>\n",
       "<text font-family=\"-apple-system, BlinkMacSystemFont, 'Segoe UI', Helvetica, Arial, sans-serif, 'Apple Color Emoji', 'Segoe UI Emoji', 'Segoe UI Symbol'\" font-size=\"13.00\" text-anchor=\"middle\" x=\"357.55\" y=\"-562.66\">Reporting Date → Reporting Date</text>\n",
       "</g>\n",
       "<!-- Previous Contracts -->\n",
       "<g class=\"node\" id=\"node6\">\n",
       "<title>Previous Contracts</title>\n",
       "<text font-family=\"-apple-system, BlinkMacSystemFont, 'Segoe UI', Helvetica, Arial, sans-serif, 'Apple Color Emoji', 'Segoe UI Emoji', 'Segoe UI Symbol'\" font-size=\"13.00\" font-weight=\"bold\" text-anchor=\"start\" x=\"543.19\" y=\"-478.1\">Previous Contracts</text>\n",
       "<polygon fill=\"#f5f5f5\" points=\"500.1,-446.5 500.1,-469.5 530.1,-469.5 530.1,-446.5 500.1,-446.5\" stroke=\"transparent\"/>\n",
       "<text font-family=\"-apple-system, BlinkMacSystemFont, 'Segoe UI', Helvetica, Arial, sans-serif, 'Apple Color Emoji', 'Segoe UI Emoji', 'Segoe UI Symbol'\" font-size=\"13.00\" font-weight=\"bold\" text-anchor=\"start\" x=\"504.99\" y=\"-455.1\">key</text>\n",
       "<polygon fill=\"#f5f5f5\" points=\"530.1,-446.5 530.1,-469.5 628.1,-469.5 628.1,-446.5 530.1,-446.5\" stroke=\"transparent\"/>\n",
       "<text font-family=\"-apple-system, BlinkMacSystemFont, 'Segoe UI', Helvetica, Arial, sans-serif, 'Apple Color Emoji', 'Segoe UI Emoji', 'Segoe UI Symbol'\" font-size=\"13.00\" text-anchor=\"start\" x=\"535.1\" y=\"-454.1\">Legal Entity</text>\n",
       "<polygon fill=\"#f5f5f5\" points=\"628.1,-446.5 628.1,-469.5 696.1,-469.5 696.1,-446.5 628.1,-446.5\" stroke=\"transparent\"/>\n",
       "<text font-family=\"-apple-system, BlinkMacSystemFont, 'Segoe UI', Helvetica, Arial, sans-serif, 'Apple Color Emoji', 'Segoe UI Emoji', 'Segoe UI Symbol'\" font-size=\"13.00\" font-style=\"italic\" text-anchor=\"start\" x=\"657.14\" y=\"-455.1\">String</text>\n",
       "<polygon fill=\"#ffffff\" points=\"500.1,-423.5 500.1,-446.5 530.1,-446.5 530.1,-423.5 500.1,-423.5\" stroke=\"transparent\"/>\n",
       "<text font-family=\"-apple-system, BlinkMacSystemFont, 'Segoe UI', Helvetica, Arial, sans-serif, 'Apple Color Emoji', 'Segoe UI Emoji', 'Segoe UI Symbol'\" font-size=\"13.00\" font-weight=\"bold\" text-anchor=\"start\" x=\"504.99\" y=\"-432.1\">key</text>\n",
       "<polygon fill=\"#ffffff\" points=\"530.1,-423.5 530.1,-446.5 628.1,-446.5 628.1,-423.5 530.1,-423.5\" stroke=\"transparent\"/>\n",
       "<text font-family=\"-apple-system, BlinkMacSystemFont, 'Segoe UI', Helvetica, Arial, sans-serif, 'Apple Color Emoji', 'Segoe UI Emoji', 'Segoe UI Symbol'\" font-size=\"13.00\" text-anchor=\"start\" x=\"535.1\" y=\"-431.1\">Contract ID</text>\n",
       "<polygon fill=\"#ffffff\" points=\"628.1,-423.5 628.1,-446.5 696.1,-446.5 696.1,-423.5 628.1,-423.5\" stroke=\"transparent\"/>\n",
       "<text font-family=\"-apple-system, BlinkMacSystemFont, 'Segoe UI', Helvetica, Arial, sans-serif, 'Apple Color Emoji', 'Segoe UI Emoji', 'Segoe UI Symbol'\" font-size=\"13.00\" font-style=\"italic\" text-anchor=\"start\" x=\"657.14\" y=\"-432.1\">String</text>\n",
       "<polygon fill=\"#f5f5f5\" points=\"500.1,-400.5 500.1,-423.5 530.1,-423.5 530.1,-400.5 500.1,-400.5\" stroke=\"transparent\"/>\n",
       "<polygon fill=\"#f5f5f5\" points=\"530.1,-400.5 530.1,-423.5 628.1,-423.5 628.1,-400.5 530.1,-400.5\" stroke=\"transparent\"/>\n",
       "<text font-family=\"-apple-system, BlinkMacSystemFont, 'Segoe UI', Helvetica, Arial, sans-serif, 'Apple Color Emoji', 'Segoe UI Emoji', 'Segoe UI Symbol'\" font-size=\"13.00\" text-anchor=\"start\" x=\"535.02\" y=\"-408.1\">Previous Stage</text>\n",
       "<polygon fill=\"#f5f5f5\" points=\"628.1,-400.5 628.1,-423.5 696.1,-423.5 696.1,-400.5 628.1,-400.5\" stroke=\"transparent\"/>\n",
       "<text font-family=\"-apple-system, BlinkMacSystemFont, 'Segoe UI', Helvetica, Arial, sans-serif, 'Apple Color Emoji', 'Segoe UI Emoji', 'Segoe UI Symbol'\" font-size=\"13.00\" font-style=\"italic\" text-anchor=\"start\" x=\"677.37\" y=\"-409.1\">int</text>\n",
       "<polygon fill=\"#ffffff\" points=\"500.1,-377.5 500.1,-400.5 530.1,-400.5 530.1,-377.5 500.1,-377.5\" stroke=\"transparent\"/>\n",
       "<polygon fill=\"#ffffff\" points=\"530.1,-377.5 530.1,-400.5 628.1,-400.5 628.1,-377.5 530.1,-377.5\" stroke=\"transparent\"/>\n",
       "<text font-family=\"-apple-system, BlinkMacSystemFont, 'Segoe UI', Helvetica, Arial, sans-serif, 'Apple Color Emoji', 'Segoe UI Emoji', 'Segoe UI Symbol'\" font-size=\"13.00\" text-anchor=\"start\" x=\"535.1\" y=\"-385.1\">Previous EAD</text>\n",
       "<polygon fill=\"#ffffff\" points=\"628.1,-377.5 628.1,-400.5 696.1,-400.5 696.1,-377.5 628.1,-377.5\" stroke=\"transparent\"/>\n",
       "<text font-family=\"-apple-system, BlinkMacSystemFont, 'Segoe UI', Helvetica, Arial, sans-serif, 'Apple Color Emoji', 'Segoe UI Emoji', 'Segoe UI Symbol'\" font-size=\"13.00\" font-style=\"italic\" text-anchor=\"start\" x=\"652.06\" y=\"-386.1\">double</text>\n",
       "<polygon fill=\"#f5f5f5\" points=\"500.1,-354.5 500.1,-377.5 530.1,-377.5 530.1,-354.5 500.1,-354.5\" stroke=\"transparent\"/>\n",
       "<polygon fill=\"#f5f5f5\" points=\"530.1,-354.5 530.1,-377.5 628.1,-377.5 628.1,-354.5 530.1,-354.5\" stroke=\"transparent\"/>\n",
       "<text font-family=\"-apple-system, BlinkMacSystemFont, 'Segoe UI', Helvetica, Arial, sans-serif, 'Apple Color Emoji', 'Segoe UI Emoji', 'Segoe UI Symbol'\" font-size=\"13.00\" text-anchor=\"start\" x=\"535.1\" y=\"-362.1\">Previous PD12</text>\n",
       "<polygon fill=\"#f5f5f5\" points=\"628.1,-354.5 628.1,-377.5 696.1,-377.5 696.1,-354.5 628.1,-354.5\" stroke=\"transparent\"/>\n",
       "<text font-family=\"-apple-system, BlinkMacSystemFont, 'Segoe UI', Helvetica, Arial, sans-serif, 'Apple Color Emoji', 'Segoe UI Emoji', 'Segoe UI Symbol'\" font-size=\"13.00\" font-style=\"italic\" text-anchor=\"start\" x=\"652.06\" y=\"-363.1\">double</text>\n",
       "<polygon fill=\"#ffffff\" points=\"500.1,-331.5 500.1,-354.5 530.1,-354.5 530.1,-331.5 500.1,-331.5\" stroke=\"transparent\"/>\n",
       "<polygon fill=\"#ffffff\" points=\"530.1,-331.5 530.1,-354.5 628.1,-354.5 628.1,-331.5 530.1,-331.5\" stroke=\"transparent\"/>\n",
       "<text font-family=\"-apple-system, BlinkMacSystemFont, 'Segoe UI', Helvetica, Arial, sans-serif, 'Apple Color Emoji', 'Segoe UI Emoji', 'Segoe UI Symbol'\" font-size=\"13.00\" text-anchor=\"start\" x=\"535.1\" y=\"-339.1\">Previous PDLT</text>\n",
       "<polygon fill=\"#ffffff\" points=\"628.1,-331.5 628.1,-354.5 696.1,-354.5 696.1,-331.5 628.1,-331.5\" stroke=\"transparent\"/>\n",
       "<text font-family=\"-apple-system, BlinkMacSystemFont, 'Segoe UI', Helvetica, Arial, sans-serif, 'Apple Color Emoji', 'Segoe UI Emoji', 'Segoe UI Symbol'\" font-size=\"13.00\" font-style=\"italic\" text-anchor=\"start\" x=\"652.06\" y=\"-340.1\">double</text>\n",
       "<polygon fill=\"#f5f5f5\" points=\"500.1,-308.5 500.1,-331.5 530.1,-331.5 530.1,-308.5 500.1,-308.5\" stroke=\"transparent\"/>\n",
       "<polygon fill=\"#f5f5f5\" points=\"530.1,-308.5 530.1,-331.5 628.1,-331.5 628.1,-308.5 530.1,-308.5\" stroke=\"transparent\"/>\n",
       "<text font-family=\"-apple-system, BlinkMacSystemFont, 'Segoe UI', Helvetica, Arial, sans-serif, 'Apple Color Emoji', 'Segoe UI Emoji', 'Segoe UI Symbol'\" font-size=\"13.00\" text-anchor=\"start\" x=\"535.1\" y=\"-316.1\">Previous LGD</text>\n",
       "<polygon fill=\"#f5f5f5\" points=\"628.1,-308.5 628.1,-331.5 696.1,-331.5 696.1,-308.5 628.1,-308.5\" stroke=\"transparent\"/>\n",
       "<text font-family=\"-apple-system, BlinkMacSystemFont, 'Segoe UI', Helvetica, Arial, sans-serif, 'Apple Color Emoji', 'Segoe UI Emoji', 'Segoe UI Symbol'\" font-size=\"13.00\" font-style=\"italic\" text-anchor=\"start\" x=\"652.06\" y=\"-317.1\">double</text>\n",
       "<polygon fill=\"#ffffff\" points=\"500.1,-285.5 500.1,-308.5 530.1,-308.5 530.1,-285.5 500.1,-285.5\" stroke=\"transparent\"/>\n",
       "<text font-family=\"-apple-system, BlinkMacSystemFont, 'Segoe UI', Helvetica, Arial, sans-serif, 'Apple Color Emoji', 'Segoe UI Emoji', 'Segoe UI Symbol'\" font-size=\"13.00\" font-weight=\"bold\" text-anchor=\"start\" x=\"504.99\" y=\"-294.1\">key</text>\n",
       "<polygon fill=\"#ffffff\" points=\"530.1,-285.5 530.1,-308.5 628.1,-308.5 628.1,-285.5 530.1,-285.5\" stroke=\"transparent\"/>\n",
       "<text font-family=\"-apple-system, BlinkMacSystemFont, 'Segoe UI', Helvetica, Arial, sans-serif, 'Apple Color Emoji', 'Segoe UI Emoji', 'Segoe UI Symbol'\" font-size=\"13.00\" text-anchor=\"start\" x=\"535.1\" y=\"-293.1\">Reporting Date</text>\n",
       "<polygon fill=\"#ffffff\" points=\"628.1,-285.5 628.1,-308.5 696.1,-308.5 696.1,-285.5 628.1,-285.5\" stroke=\"transparent\"/>\n",
       "<text font-family=\"-apple-system, BlinkMacSystemFont, 'Segoe UI', Helvetica, Arial, sans-serif, 'Apple Color Emoji', 'Segoe UI Emoji', 'Segoe UI Symbol'\" font-size=\"13.00\" font-style=\"italic\" text-anchor=\"start\" x=\"632.83\" y=\"-294.1\">LocalDate</text>\n",
       "<polygon fill=\"none\" points=\"499.1,-285 499.1,-494 697.1,-494 697.1,-285 499.1,-285\" stroke=\"black\"/>\n",
       "</g>\n",
       "<!-- Contracts&#45;&gt;Previous Contracts -->\n",
       "<g class=\"edge\" id=\"edge2\">\n",
       "<title>Contracts-&gt;Previous Contracts</title>\n",
       "<path d=\"M242.2,-389.5C315.32,-389.5 408.25,-389.5 480.67,-389.5\" fill=\"none\" stroke=\"black\"/>\n",
       "<polygon fill=\"black\" points=\"480.75,-393 490.75,-389.5 480.75,-386 480.75,-393\" stroke=\"black\"/>\n",
       "<text font-family=\"-apple-system, BlinkMacSystemFont, 'Segoe UI', Helvetica, Arial, sans-serif, 'Apple Color Emoji', 'Segoe UI Emoji', 'Segoe UI Symbol'\" font-size=\"13.00\" text-anchor=\"middle\" x=\"357.55\" y=\"-425.77\">Legal Entity → Legal Entity</text>\n",
       "<text font-family=\"-apple-system, BlinkMacSystemFont, 'Segoe UI', Helvetica, Arial, sans-serif, 'Apple Color Emoji', 'Segoe UI Emoji', 'Segoe UI Symbol'\" font-size=\"13.00\" text-anchor=\"middle\" x=\"357.55\" y=\"-410.22\">Contract ID → Contract ID</text>\n",
       "<text font-family=\"-apple-system, BlinkMacSystemFont, 'Segoe UI', Helvetica, Arial, sans-serif, 'Apple Color Emoji', 'Segoe UI Emoji', 'Segoe UI Symbol'\" font-size=\"13.00\" text-anchor=\"middle\" x=\"357.55\" y=\"-394.66\">Reporting Date → Reporting Date</text>\n",
       "</g>\n",
       "<!-- Contracts (static) -->\n",
       "<g class=\"node\" id=\"node7\">\n",
       "<title>Contracts (static)</title>\n",
       "<text font-family=\"-apple-system, BlinkMacSystemFont, 'Segoe UI', Helvetica, Arial, sans-serif, 'Apple Color Emoji', 'Segoe UI Emoji', 'Segoe UI Symbol'\" font-size=\"13.00\" font-weight=\"bold\" text-anchor=\"start\" x=\"548.98\" y=\"-243.1\">Contracts (static)</text>\n",
       "<polygon fill=\"#f5f5f5\" points=\"500.1,-211.5 500.1,-234.5 530.1,-234.5 530.1,-211.5 500.1,-211.5\" stroke=\"transparent\"/>\n",
       "<text font-family=\"-apple-system, BlinkMacSystemFont, 'Segoe UI', Helvetica, Arial, sans-serif, 'Apple Color Emoji', 'Segoe UI Emoji', 'Segoe UI Symbol'\" font-size=\"13.00\" font-weight=\"bold\" text-anchor=\"start\" x=\"504.99\" y=\"-220.1\">key</text>\n",
       "<polygon fill=\"#f5f5f5\" points=\"530.1,-211.5 530.1,-234.5 628.1,-234.5 628.1,-211.5 530.1,-211.5\" stroke=\"transparent\"/>\n",
       "<text font-family=\"-apple-system, BlinkMacSystemFont, 'Segoe UI', Helvetica, Arial, sans-serif, 'Apple Color Emoji', 'Segoe UI Emoji', 'Segoe UI Symbol'\" font-size=\"13.00\" text-anchor=\"start\" x=\"535.1\" y=\"-219.1\">Legal Entity</text>\n",
       "<polygon fill=\"#f5f5f5\" points=\"628.1,-211.5 628.1,-234.5 696.1,-234.5 696.1,-211.5 628.1,-211.5\" stroke=\"transparent\"/>\n",
       "<text font-family=\"-apple-system, BlinkMacSystemFont, 'Segoe UI', Helvetica, Arial, sans-serif, 'Apple Color Emoji', 'Segoe UI Emoji', 'Segoe UI Symbol'\" font-size=\"13.00\" font-style=\"italic\" text-anchor=\"start\" x=\"657.14\" y=\"-220.1\">String</text>\n",
       "<polygon fill=\"#ffffff\" points=\"500.1,-188.5 500.1,-211.5 530.1,-211.5 530.1,-188.5 500.1,-188.5\" stroke=\"transparent\"/>\n",
       "<text font-family=\"-apple-system, BlinkMacSystemFont, 'Segoe UI', Helvetica, Arial, sans-serif, 'Apple Color Emoji', 'Segoe UI Emoji', 'Segoe UI Symbol'\" font-size=\"13.00\" font-weight=\"bold\" text-anchor=\"start\" x=\"504.99\" y=\"-197.1\">key</text>\n",
       "<polygon fill=\"#ffffff\" points=\"530.1,-188.5 530.1,-211.5 628.1,-211.5 628.1,-188.5 530.1,-188.5\" stroke=\"transparent\"/>\n",
       "<text font-family=\"-apple-system, BlinkMacSystemFont, 'Segoe UI', Helvetica, Arial, sans-serif, 'Apple Color Emoji', 'Segoe UI Emoji', 'Segoe UI Symbol'\" font-size=\"13.00\" text-anchor=\"start\" x=\"535.1\" y=\"-196.1\">Contract ID</text>\n",
       "<polygon fill=\"#ffffff\" points=\"628.1,-188.5 628.1,-211.5 696.1,-211.5 696.1,-188.5 628.1,-188.5\" stroke=\"transparent\"/>\n",
       "<text font-family=\"-apple-system, BlinkMacSystemFont, 'Segoe UI', Helvetica, Arial, sans-serif, 'Apple Color Emoji', 'Segoe UI Emoji', 'Segoe UI Symbol'\" font-size=\"13.00\" font-style=\"italic\" text-anchor=\"start\" x=\"657.14\" y=\"-197.1\">String</text>\n",
       "<polygon fill=\"#f5f5f5\" points=\"500.1,-165.5 500.1,-188.5 530.1,-188.5 530.1,-165.5 500.1,-165.5\" stroke=\"transparent\"/>\n",
       "<polygon fill=\"#f5f5f5\" points=\"530.1,-165.5 530.1,-188.5 628.1,-188.5 628.1,-165.5 530.1,-165.5\" stroke=\"transparent\"/>\n",
       "<text font-family=\"-apple-system, BlinkMacSystemFont, 'Segoe UI', Helvetica, Arial, sans-serif, 'Apple Color Emoji', 'Segoe UI Emoji', 'Segoe UI Symbol'\" font-size=\"13.00\" text-anchor=\"start\" x=\"535.1\" y=\"-173.1\">Currency</text>\n",
       "<polygon fill=\"#f5f5f5\" points=\"628.1,-165.5 628.1,-188.5 696.1,-188.5 696.1,-165.5 628.1,-165.5\" stroke=\"transparent\"/>\n",
       "<text font-family=\"-apple-system, BlinkMacSystemFont, 'Segoe UI', Helvetica, Arial, sans-serif, 'Apple Color Emoji', 'Segoe UI Emoji', 'Segoe UI Symbol'\" font-size=\"13.00\" font-style=\"italic\" text-anchor=\"start\" x=\"657.14\" y=\"-174.1\">String</text>\n",
       "<polygon fill=\"#ffffff\" points=\"500.1,-142.5 500.1,-165.5 530.1,-165.5 530.1,-142.5 500.1,-142.5\" stroke=\"transparent\"/>\n",
       "<polygon fill=\"#ffffff\" points=\"530.1,-142.5 530.1,-165.5 628.1,-165.5 628.1,-142.5 530.1,-142.5\" stroke=\"transparent\"/>\n",
       "<text font-family=\"-apple-system, BlinkMacSystemFont, 'Segoe UI', Helvetica, Arial, sans-serif, 'Apple Color Emoji', 'Segoe UI Emoji', 'Segoe UI Symbol'\" font-size=\"13.00\" text-anchor=\"start\" x=\"535.1\" y=\"-150.1\">Segment</text>\n",
       "<polygon fill=\"#ffffff\" points=\"628.1,-142.5 628.1,-165.5 696.1,-165.5 696.1,-142.5 628.1,-142.5\" stroke=\"transparent\"/>\n",
       "<text font-family=\"-apple-system, BlinkMacSystemFont, 'Segoe UI', Helvetica, Arial, sans-serif, 'Apple Color Emoji', 'Segoe UI Emoji', 'Segoe UI Symbol'\" font-size=\"13.00\" font-style=\"italic\" text-anchor=\"start\" x=\"657.14\" y=\"-151.1\">String</text>\n",
       "<polygon fill=\"#f5f5f5\" points=\"500.1,-119.5 500.1,-142.5 530.1,-142.5 530.1,-119.5 500.1,-119.5\" stroke=\"transparent\"/>\n",
       "<polygon fill=\"#f5f5f5\" points=\"530.1,-119.5 530.1,-142.5 628.1,-142.5 628.1,-119.5 530.1,-119.5\" stroke=\"transparent\"/>\n",
       "<text font-family=\"-apple-system, BlinkMacSystemFont, 'Segoe UI', Helvetica, Arial, sans-serif, 'Apple Color Emoji', 'Segoe UI Emoji', 'Segoe UI Symbol'\" font-size=\"13.00\" text-anchor=\"start\" x=\"535.1\" y=\"-127.1\">Opening PD12</text>\n",
       "<polygon fill=\"#f5f5f5\" points=\"628.1,-119.5 628.1,-142.5 696.1,-142.5 696.1,-119.5 628.1,-119.5\" stroke=\"transparent\"/>\n",
       "<text font-family=\"-apple-system, BlinkMacSystemFont, 'Segoe UI', Helvetica, Arial, sans-serif, 'Apple Color Emoji', 'Segoe UI Emoji', 'Segoe UI Symbol'\" font-size=\"13.00\" font-style=\"italic\" text-anchor=\"start\" x=\"652.06\" y=\"-128.1\">double</text>\n",
       "<polygon fill=\"#ffffff\" points=\"500.1,-96.5 500.1,-119.5 530.1,-119.5 530.1,-96.5 500.1,-96.5\" stroke=\"transparent\"/>\n",
       "<polygon fill=\"#ffffff\" points=\"530.1,-96.5 530.1,-119.5 628.1,-119.5 628.1,-96.5 530.1,-96.5\" stroke=\"transparent\"/>\n",
       "<text font-family=\"-apple-system, BlinkMacSystemFont, 'Segoe UI', Helvetica, Arial, sans-serif, 'Apple Color Emoji', 'Segoe UI Emoji', 'Segoe UI Symbol'\" font-size=\"13.00\" text-anchor=\"start\" x=\"535.1\" y=\"-104.1\">Opening PDLT</text>\n",
       "<polygon fill=\"#ffffff\" points=\"628.1,-96.5 628.1,-119.5 696.1,-119.5 696.1,-96.5 628.1,-96.5\" stroke=\"transparent\"/>\n",
       "<text font-family=\"-apple-system, BlinkMacSystemFont, 'Segoe UI', Helvetica, Arial, sans-serif, 'Apple Color Emoji', 'Segoe UI Emoji', 'Segoe UI Symbol'\" font-size=\"13.00\" font-style=\"italic\" text-anchor=\"start\" x=\"652.06\" y=\"-105.1\">double</text>\n",
       "<polygon fill=\"#f5f5f5\" points=\"500.1,-73.5 500.1,-96.5 530.1,-96.5 530.1,-73.5 500.1,-73.5\" stroke=\"transparent\"/>\n",
       "<polygon fill=\"#f5f5f5\" points=\"530.1,-73.5 530.1,-96.5 628.1,-96.5 628.1,-73.5 530.1,-73.5\" stroke=\"transparent\"/>\n",
       "<text font-family=\"-apple-system, BlinkMacSystemFont, 'Segoe UI', Helvetica, Arial, sans-serif, 'Apple Color Emoji', 'Segoe UI Emoji', 'Segoe UI Symbol'\" font-size=\"13.00\" text-anchor=\"start\" x=\"535.1\" y=\"-81.1\">Opening Date</text>\n",
       "<polygon fill=\"#f5f5f5\" points=\"628.1,-73.5 628.1,-96.5 696.1,-96.5 696.1,-73.5 628.1,-73.5\" stroke=\"transparent\"/>\n",
       "<text font-family=\"-apple-system, BlinkMacSystemFont, 'Segoe UI', Helvetica, Arial, sans-serif, 'Apple Color Emoji', 'Segoe UI Emoji', 'Segoe UI Symbol'\" font-size=\"13.00\" font-style=\"italic\" text-anchor=\"start\" x=\"632.83\" y=\"-82.1\">LocalDate</text>\n",
       "<polygon fill=\"#ffffff\" points=\"500.1,-50.5 500.1,-73.5 530.1,-73.5 530.1,-50.5 500.1,-50.5\" stroke=\"transparent\"/>\n",
       "<polygon fill=\"#ffffff\" points=\"530.1,-50.5 530.1,-73.5 628.1,-73.5 628.1,-50.5 530.1,-50.5\" stroke=\"transparent\"/>\n",
       "<text font-family=\"-apple-system, BlinkMacSystemFont, 'Segoe UI', Helvetica, Arial, sans-serif, 'Apple Color Emoji', 'Segoe UI Emoji', 'Segoe UI Symbol'\" font-size=\"13.00\" text-anchor=\"start\" x=\"535.1\" y=\"-58.1\">Opening Year</text>\n",
       "<polygon fill=\"#ffffff\" points=\"628.1,-50.5 628.1,-73.5 696.1,-73.5 696.1,-50.5 628.1,-50.5\" stroke=\"transparent\"/>\n",
       "<text font-family=\"-apple-system, BlinkMacSystemFont, 'Segoe UI', Helvetica, Arial, sans-serif, 'Apple Color Emoji', 'Segoe UI Emoji', 'Segoe UI Symbol'\" font-size=\"13.00\" font-style=\"italic\" text-anchor=\"start\" x=\"677.37\" y=\"-59.1\">int</text>\n",
       "<polygon fill=\"#f5f5f5\" points=\"500.1,-27.5 500.1,-50.5 530.1,-50.5 530.1,-27.5 500.1,-27.5\" stroke=\"transparent\"/>\n",
       "<polygon fill=\"#f5f5f5\" points=\"530.1,-27.5 530.1,-50.5 628.1,-50.5 628.1,-27.5 530.1,-27.5\" stroke=\"transparent\"/>\n",
       "<text font-family=\"-apple-system, BlinkMacSystemFont, 'Segoe UI', Helvetica, Arial, sans-serif, 'Apple Color Emoji', 'Segoe UI Emoji', 'Segoe UI Symbol'\" font-size=\"13.00\" text-anchor=\"start\" x=\"534.66\" y=\"-35.1\">Opening Month</text>\n",
       "<polygon fill=\"#f5f5f5\" points=\"628.1,-27.5 628.1,-50.5 696.1,-50.5 696.1,-27.5 628.1,-27.5\" stroke=\"transparent\"/>\n",
       "<text font-family=\"-apple-system, BlinkMacSystemFont, 'Segoe UI', Helvetica, Arial, sans-serif, 'Apple Color Emoji', 'Segoe UI Emoji', 'Segoe UI Symbol'\" font-size=\"13.00\" font-style=\"italic\" text-anchor=\"start\" x=\"677.37\" y=\"-36.1\">int</text>\n",
       "<polygon fill=\"#ffffff\" points=\"500.1,-4.5 500.1,-27.5 530.1,-27.5 530.1,-4.5 500.1,-4.5\" stroke=\"transparent\"/>\n",
       "<polygon fill=\"#ffffff\" points=\"530.1,-4.5 530.1,-27.5 628.1,-27.5 628.1,-4.5 530.1,-4.5\" stroke=\"transparent\"/>\n",
       "<text font-family=\"-apple-system, BlinkMacSystemFont, 'Segoe UI', Helvetica, Arial, sans-serif, 'Apple Color Emoji', 'Segoe UI Emoji', 'Segoe UI Symbol'\" font-size=\"13.00\" text-anchor=\"start\" x=\"535.1\" y=\"-12.1\">Opening Day</text>\n",
       "<polygon fill=\"#ffffff\" points=\"628.1,-4.5 628.1,-27.5 696.1,-27.5 696.1,-4.5 628.1,-4.5\" stroke=\"transparent\"/>\n",
       "<text font-family=\"-apple-system, BlinkMacSystemFont, 'Segoe UI', Helvetica, Arial, sans-serif, 'Apple Color Emoji', 'Segoe UI Emoji', 'Segoe UI Symbol'\" font-size=\"13.00\" font-style=\"italic\" text-anchor=\"start\" x=\"677.37\" y=\"-13.1\">int</text>\n",
       "<polygon fill=\"none\" points=\"499.1,-4 499.1,-259 697.1,-259 697.1,-4 499.1,-4\" stroke=\"black\"/>\n",
       "</g>\n",
       "<!-- Contracts&#45;&gt;Contracts (static) -->\n",
       "<g class=\"edge\" id=\"edge1\">\n",
       "<title>Contracts-&gt;Contracts (static)</title>\n",
       "<path d=\"M242.2,-324.23C315.62,-284.36 409.01,-233.64 481.56,-194.24\" fill=\"none\" stroke=\"black\"/>\n",
       "<polygon fill=\"black\" points=\"483.64,-197.1 490.75,-189.25 480.29,-190.95 483.64,-197.1\" stroke=\"black\"/>\n",
       "<text font-family=\"-apple-system, BlinkMacSystemFont, 'Segoe UI', Helvetica, Arial, sans-serif, 'Apple Color Emoji', 'Segoe UI Emoji', 'Segoe UI Symbol'\" font-size=\"13.00\" text-anchor=\"middle\" x=\"357.55\" y=\"-334.22\">Legal Entity → Legal Entity</text>\n",
       "<text font-family=\"-apple-system, BlinkMacSystemFont, 'Segoe UI', Helvetica, Arial, sans-serif, 'Apple Color Emoji', 'Segoe UI Emoji', 'Segoe UI Symbol'\" font-size=\"13.00\" text-anchor=\"middle\" x=\"357.55\" y=\"-318.66\">Contract ID → Contract ID</text>\n",
       "</g>\n",
       "<!-- Credit Cards -->\n",
       "<g class=\"node\" id=\"node3\">\n",
       "<title>Credit Cards</title>\n",
       "<text font-family=\"-apple-system, BlinkMacSystemFont, 'Segoe UI', Helvetica, Arial, sans-serif, 'Apple Color Emoji', 'Segoe UI Emoji', 'Segoe UI Symbol'\" font-size=\"13.00\" font-weight=\"bold\" text-anchor=\"start\" x=\"1041.72\" y=\"-991.1\">Credit Cards</text>\n",
       "<polygon fill=\"#f5f5f5\" points=\"963.2,-959.5 963.2,-982.5 993.2,-982.5 993.2,-959.5 963.2,-959.5\" stroke=\"transparent\"/>\n",
       "<polygon fill=\"#f5f5f5\" points=\"993.2,-959.5 993.2,-982.5 1125.2,-982.5 1125.2,-959.5 993.2,-959.5\" stroke=\"transparent\"/>\n",
       "<text font-family=\"-apple-system, BlinkMacSystemFont, 'Segoe UI', Helvetica, Arial, sans-serif, 'Apple Color Emoji', 'Segoe UI Emoji', 'Segoe UI Symbol'\" font-size=\"13.00\" text-anchor=\"start\" x=\"998.2\" y=\"-967.1\">Card Type Code</text>\n",
       "<polygon fill=\"#f5f5f5\" points=\"1125.2,-959.5 1125.2,-982.5 1193.2,-982.5 1193.2,-959.5 1125.2,-959.5\" stroke=\"transparent\"/>\n",
       "<text font-family=\"-apple-system, BlinkMacSystemFont, 'Segoe UI', Helvetica, Arial, sans-serif, 'Apple Color Emoji', 'Segoe UI Emoji', 'Segoe UI Symbol'\" font-size=\"13.00\" font-style=\"italic\" text-anchor=\"start\" x=\"1154.24\" y=\"-968.1\">String</text>\n",
       "<polygon fill=\"#ffffff\" points=\"963.2,-936.5 963.2,-959.5 993.2,-959.5 993.2,-936.5 963.2,-936.5\" stroke=\"transparent\"/>\n",
       "<polygon fill=\"#ffffff\" points=\"993.2,-936.5 993.2,-959.5 1125.2,-959.5 1125.2,-936.5 993.2,-936.5\" stroke=\"transparent\"/>\n",
       "<text font-family=\"-apple-system, BlinkMacSystemFont, 'Segoe UI', Helvetica, Arial, sans-serif, 'Apple Color Emoji', 'Segoe UI Emoji', 'Segoe UI Symbol'\" font-size=\"13.00\" text-anchor=\"start\" x=\"997.9\" y=\"-944.1\">Card Type Full Name</text>\n",
       "<polygon fill=\"#ffffff\" points=\"1125.2,-936.5 1125.2,-959.5 1193.2,-959.5 1193.2,-936.5 1125.2,-936.5\" stroke=\"transparent\"/>\n",
       "<text font-family=\"-apple-system, BlinkMacSystemFont, 'Segoe UI', Helvetica, Arial, sans-serif, 'Apple Color Emoji', 'Segoe UI Emoji', 'Segoe UI Symbol'\" font-size=\"13.00\" font-style=\"italic\" text-anchor=\"start\" x=\"1154.24\" y=\"-945.1\">String</text>\n",
       "<polygon fill=\"#f5f5f5\" points=\"963.2,-913.5 963.2,-936.5 993.2,-936.5 993.2,-913.5 963.2,-913.5\" stroke=\"transparent\"/>\n",
       "<polygon fill=\"#f5f5f5\" points=\"993.2,-913.5 993.2,-936.5 1125.2,-936.5 1125.2,-913.5 993.2,-913.5\" stroke=\"transparent\"/>\n",
       "<text font-family=\"-apple-system, BlinkMacSystemFont, 'Segoe UI', Helvetica, Arial, sans-serif, 'Apple Color Emoji', 'Segoe UI Emoji', 'Segoe UI Symbol'\" font-size=\"13.00\" text-anchor=\"start\" x=\"998.2\" y=\"-921.1\">Issuing Bank</text>\n",
       "<polygon fill=\"#f5f5f5\" points=\"1125.2,-913.5 1125.2,-936.5 1193.2,-936.5 1193.2,-913.5 1125.2,-913.5\" stroke=\"transparent\"/>\n",
       "<text font-family=\"-apple-system, BlinkMacSystemFont, 'Segoe UI', Helvetica, Arial, sans-serif, 'Apple Color Emoji', 'Segoe UI Emoji', 'Segoe UI Symbol'\" font-size=\"13.00\" font-style=\"italic\" text-anchor=\"start\" x=\"1154.24\" y=\"-922.1\">String</text>\n",
       "<polygon fill=\"#ffffff\" points=\"963.2,-890.5 963.2,-913.5 993.2,-913.5 993.2,-890.5 963.2,-890.5\" stroke=\"transparent\"/>\n",
       "<polygon fill=\"#ffffff\" points=\"993.2,-890.5 993.2,-913.5 1125.2,-913.5 1125.2,-890.5 993.2,-890.5\" stroke=\"transparent\"/>\n",
       "<text font-family=\"-apple-system, BlinkMacSystemFont, 'Segoe UI', Helvetica, Arial, sans-serif, 'Apple Color Emoji', 'Segoe UI Emoji', 'Segoe UI Symbol'\" font-size=\"13.00\" text-anchor=\"start\" x=\"998.2\" y=\"-898.1\">Card Number</text>\n",
       "<polygon fill=\"#ffffff\" points=\"1125.2,-890.5 1125.2,-913.5 1193.2,-913.5 1193.2,-890.5 1125.2,-890.5\" stroke=\"transparent\"/>\n",
       "<text font-family=\"-apple-system, BlinkMacSystemFont, 'Segoe UI', Helvetica, Arial, sans-serif, 'Apple Color Emoji', 'Segoe UI Emoji', 'Segoe UI Symbol'\" font-size=\"13.00\" font-style=\"italic\" text-anchor=\"start\" x=\"1149.17\" y=\"-899.1\">double</text>\n",
       "<polygon fill=\"#f5f5f5\" points=\"963.2,-867.5 963.2,-890.5 993.2,-890.5 993.2,-867.5 963.2,-867.5\" stroke=\"transparent\"/>\n",
       "<polygon fill=\"#f5f5f5\" points=\"993.2,-867.5 993.2,-890.5 1125.2,-890.5 1125.2,-867.5 993.2,-867.5\" stroke=\"transparent\"/>\n",
       "<text font-family=\"-apple-system, BlinkMacSystemFont, 'Segoe UI', Helvetica, Arial, sans-serif, 'Apple Color Emoji', 'Segoe UI Emoji', 'Segoe UI Symbol'\" font-size=\"13.00\" text-anchor=\"start\" x=\"998.2\" y=\"-875.1\">Card Holder's Name</text>\n",
       "<polygon fill=\"#f5f5f5\" points=\"1125.2,-867.5 1125.2,-890.5 1193.2,-890.5 1193.2,-867.5 1125.2,-867.5\" stroke=\"transparent\"/>\n",
       "<text font-family=\"-apple-system, BlinkMacSystemFont, 'Segoe UI', Helvetica, Arial, sans-serif, 'Apple Color Emoji', 'Segoe UI Emoji', 'Segoe UI Symbol'\" font-size=\"13.00\" font-style=\"italic\" text-anchor=\"start\" x=\"1154.24\" y=\"-876.1\">String</text>\n",
       "<polygon fill=\"#ffffff\" points=\"963.2,-844.5 963.2,-867.5 993.2,-867.5 993.2,-844.5 963.2,-844.5\" stroke=\"transparent\"/>\n",
       "<polygon fill=\"#ffffff\" points=\"993.2,-844.5 993.2,-867.5 1125.2,-867.5 1125.2,-844.5 993.2,-844.5\" stroke=\"transparent\"/>\n",
       "<text font-family=\"-apple-system, BlinkMacSystemFont, 'Segoe UI', Helvetica, Arial, sans-serif, 'Apple Color Emoji', 'Segoe UI Emoji', 'Segoe UI Symbol'\" font-size=\"13.00\" text-anchor=\"start\" x=\"998.2\" y=\"-852.1\">Issue Date</text>\n",
       "<polygon fill=\"#ffffff\" points=\"1125.2,-844.5 1125.2,-867.5 1193.2,-867.5 1193.2,-844.5 1125.2,-844.5\" stroke=\"transparent\"/>\n",
       "<text font-family=\"-apple-system, BlinkMacSystemFont, 'Segoe UI', Helvetica, Arial, sans-serif, 'Apple Color Emoji', 'Segoe UI Emoji', 'Segoe UI Symbol'\" font-size=\"13.00\" font-style=\"italic\" text-anchor=\"start\" x=\"1129.93\" y=\"-853.1\">LocalDate</text>\n",
       "<polygon fill=\"#f5f5f5\" points=\"963.2,-821.5 963.2,-844.5 993.2,-844.5 993.2,-821.5 963.2,-821.5\" stroke=\"transparent\"/>\n",
       "<polygon fill=\"#f5f5f5\" points=\"993.2,-821.5 993.2,-844.5 1125.2,-844.5 1125.2,-821.5 993.2,-821.5\" stroke=\"transparent\"/>\n",
       "<text font-family=\"-apple-system, BlinkMacSystemFont, 'Segoe UI', Helvetica, Arial, sans-serif, 'Apple Color Emoji', 'Segoe UI Emoji', 'Segoe UI Symbol'\" font-size=\"13.00\" text-anchor=\"start\" x=\"998.2\" y=\"-829.1\">Expiry Date</text>\n",
       "<polygon fill=\"#f5f5f5\" points=\"1125.2,-821.5 1125.2,-844.5 1193.2,-844.5 1193.2,-821.5 1125.2,-821.5\" stroke=\"transparent\"/>\n",
       "<text font-family=\"-apple-system, BlinkMacSystemFont, 'Segoe UI', Helvetica, Arial, sans-serif, 'Apple Color Emoji', 'Segoe UI Emoji', 'Segoe UI Symbol'\" font-size=\"13.00\" font-style=\"italic\" text-anchor=\"start\" x=\"1129.93\" y=\"-830.1\">LocalDate</text>\n",
       "<polygon fill=\"#ffffff\" points=\"963.2,-798.5 963.2,-821.5 993.2,-821.5 993.2,-798.5 963.2,-798.5\" stroke=\"transparent\"/>\n",
       "<polygon fill=\"#ffffff\" points=\"993.2,-798.5 993.2,-821.5 1125.2,-821.5 1125.2,-798.5 993.2,-798.5\" stroke=\"transparent\"/>\n",
       "<text font-family=\"-apple-system, BlinkMacSystemFont, 'Segoe UI', Helvetica, Arial, sans-serif, 'Apple Color Emoji', 'Segoe UI Emoji', 'Segoe UI Symbol'\" font-size=\"13.00\" text-anchor=\"start\" x=\"998.2\" y=\"-806.1\">Billing Date</text>\n",
       "<polygon fill=\"#ffffff\" points=\"1125.2,-798.5 1125.2,-821.5 1193.2,-821.5 1193.2,-798.5 1125.2,-798.5\" stroke=\"transparent\"/>\n",
       "<text font-family=\"-apple-system, BlinkMacSystemFont, 'Segoe UI', Helvetica, Arial, sans-serif, 'Apple Color Emoji', 'Segoe UI Emoji', 'Segoe UI Symbol'\" font-size=\"13.00\" font-style=\"italic\" text-anchor=\"start\" x=\"1174.47\" y=\"-807.1\">int</text>\n",
       "<polygon fill=\"#f5f5f5\" points=\"963.2,-775.5 963.2,-798.5 993.2,-798.5 993.2,-775.5 963.2,-775.5\" stroke=\"transparent\"/>\n",
       "<polygon fill=\"#f5f5f5\" points=\"993.2,-775.5 993.2,-798.5 1125.2,-798.5 1125.2,-775.5 993.2,-775.5\" stroke=\"transparent\"/>\n",
       "<text font-family=\"-apple-system, BlinkMacSystemFont, 'Segoe UI', Helvetica, Arial, sans-serif, 'Apple Color Emoji', 'Segoe UI Emoji', 'Segoe UI Symbol'\" font-size=\"13.00\" text-anchor=\"start\" x=\"998.2\" y=\"-783.1\">Credit Limit</text>\n",
       "<polygon fill=\"#f5f5f5\" points=\"1125.2,-775.5 1125.2,-798.5 1193.2,-798.5 1193.2,-775.5 1125.2,-775.5\" stroke=\"transparent\"/>\n",
       "<text font-family=\"-apple-system, BlinkMacSystemFont, 'Segoe UI', Helvetica, Arial, sans-serif, 'Apple Color Emoji', 'Segoe UI Emoji', 'Segoe UI Symbol'\" font-size=\"13.00\" font-style=\"italic\" text-anchor=\"start\" x=\"1163.62\" y=\"-784.1\">long</text>\n",
       "<polygon fill=\"#ffffff\" points=\"963.2,-752.5 963.2,-775.5 993.2,-775.5 993.2,-752.5 963.2,-752.5\" stroke=\"transparent\"/>\n",
       "<text font-family=\"-apple-system, BlinkMacSystemFont, 'Segoe UI', Helvetica, Arial, sans-serif, 'Apple Color Emoji', 'Segoe UI Emoji', 'Segoe UI Symbol'\" font-size=\"13.00\" font-weight=\"bold\" text-anchor=\"start\" x=\"968.09\" y=\"-761.1\">key</text>\n",
       "<polygon fill=\"#ffffff\" points=\"993.2,-752.5 993.2,-775.5 1125.2,-775.5 1125.2,-752.5 993.2,-752.5\" stroke=\"transparent\"/>\n",
       "<text font-family=\"-apple-system, BlinkMacSystemFont, 'Segoe UI', Helvetica, Arial, sans-serif, 'Apple Color Emoji', 'Segoe UI Emoji', 'Segoe UI Symbol'\" font-size=\"13.00\" text-anchor=\"start\" x=\"998.2\" y=\"-760.1\">Client ID</text>\n",
       "<polygon fill=\"#ffffff\" points=\"1125.2,-752.5 1125.2,-775.5 1193.2,-775.5 1193.2,-752.5 1125.2,-752.5\" stroke=\"transparent\"/>\n",
       "<text font-family=\"-apple-system, BlinkMacSystemFont, 'Segoe UI', Helvetica, Arial, sans-serif, 'Apple Color Emoji', 'Segoe UI Emoji', 'Segoe UI Symbol'\" font-size=\"13.00\" font-style=\"italic\" text-anchor=\"start\" x=\"1154.24\" y=\"-761.1\">String</text>\n",
       "<polygon fill=\"#f5f5f5\" points=\"963.2,-729.5 963.2,-752.5 993.2,-752.5 993.2,-729.5 963.2,-729.5\" stroke=\"transparent\"/>\n",
       "<polygon fill=\"#f5f5f5\" points=\"993.2,-729.5 993.2,-752.5 1125.2,-752.5 1125.2,-729.5 993.2,-729.5\" stroke=\"transparent\"/>\n",
       "<text font-family=\"-apple-system, BlinkMacSystemFont, 'Segoe UI', Helvetica, Arial, sans-serif, 'Apple Color Emoji', 'Segoe UI Emoji', 'Segoe UI Symbol'\" font-size=\"13.00\" text-anchor=\"start\" x=\"998.2\" y=\"-737.1\">Balance</text>\n",
       "<polygon fill=\"#f5f5f5\" points=\"1125.2,-729.5 1125.2,-752.5 1193.2,-752.5 1193.2,-729.5 1125.2,-729.5\" stroke=\"transparent\"/>\n",
       "<text font-family=\"-apple-system, BlinkMacSystemFont, 'Segoe UI', Helvetica, Arial, sans-serif, 'Apple Color Emoji', 'Segoe UI Emoji', 'Segoe UI Symbol'\" font-size=\"13.00\" font-style=\"italic\" text-anchor=\"start\" x=\"1149.17\" y=\"-738.1\">double</text>\n",
       "<polygon fill=\"#ffffff\" points=\"963.2,-706.5 963.2,-729.5 993.2,-729.5 993.2,-706.5 963.2,-706.5\" stroke=\"transparent\"/>\n",
       "<text font-family=\"-apple-system, BlinkMacSystemFont, 'Segoe UI', Helvetica, Arial, sans-serif, 'Apple Color Emoji', 'Segoe UI Emoji', 'Segoe UI Symbol'\" font-size=\"13.00\" font-weight=\"bold\" text-anchor=\"start\" x=\"968.09\" y=\"-715.1\">key</text>\n",
       "<polygon fill=\"#ffffff\" points=\"993.2,-706.5 993.2,-729.5 1125.2,-729.5 1125.2,-706.5 993.2,-706.5\" stroke=\"transparent\"/>\n",
       "<text font-family=\"-apple-system, BlinkMacSystemFont, 'Segoe UI', Helvetica, Arial, sans-serif, 'Apple Color Emoji', 'Segoe UI Emoji', 'Segoe UI Symbol'\" font-size=\"13.00\" text-anchor=\"start\" x=\"998.2\" y=\"-714.1\">Reporting Date</text>\n",
       "<polygon fill=\"#ffffff\" points=\"1125.2,-706.5 1125.2,-729.5 1193.2,-729.5 1193.2,-706.5 1125.2,-706.5\" stroke=\"transparent\"/>\n",
       "<text font-family=\"-apple-system, BlinkMacSystemFont, 'Segoe UI', Helvetica, Arial, sans-serif, 'Apple Color Emoji', 'Segoe UI Emoji', 'Segoe UI Symbol'\" font-size=\"13.00\" font-style=\"italic\" text-anchor=\"start\" x=\"1129.93\" y=\"-715.1\">LocalDate</text>\n",
       "<polygon fill=\"#f5f5f5\" points=\"963.2,-683.5 963.2,-706.5 993.2,-706.5 993.2,-683.5 963.2,-683.5\" stroke=\"transparent\"/>\n",
       "<polygon fill=\"#f5f5f5\" points=\"993.2,-683.5 993.2,-706.5 1125.2,-706.5 1125.2,-683.5 993.2,-683.5\" stroke=\"transparent\"/>\n",
       "<text font-family=\"-apple-system, BlinkMacSystemFont, 'Segoe UI', Helvetica, Arial, sans-serif, 'Apple Color Emoji', 'Segoe UI Emoji', 'Segoe UI Symbol'\" font-size=\"13.00\" text-anchor=\"start\" x=\"998.2\" y=\"-691.1\">Age</text>\n",
       "<polygon fill=\"#f5f5f5\" points=\"1125.2,-683.5 1125.2,-706.5 1193.2,-706.5 1193.2,-683.5 1125.2,-683.5\" stroke=\"transparent\"/>\n",
       "<text font-family=\"-apple-system, BlinkMacSystemFont, 'Segoe UI', Helvetica, Arial, sans-serif, 'Apple Color Emoji', 'Segoe UI Emoji', 'Segoe UI Symbol'\" font-size=\"13.00\" font-style=\"italic\" text-anchor=\"start\" x=\"1174.47\" y=\"-692.1\">int</text>\n",
       "<polygon fill=\"#ffffff\" points=\"963.2,-660.5 963.2,-683.5 993.2,-683.5 993.2,-660.5 963.2,-660.5\" stroke=\"transparent\"/>\n",
       "<polygon fill=\"#ffffff\" points=\"993.2,-660.5 993.2,-683.5 1125.2,-683.5 1125.2,-660.5 993.2,-660.5\" stroke=\"transparent\"/>\n",
       "<text font-family=\"-apple-system, BlinkMacSystemFont, 'Segoe UI', Helvetica, Arial, sans-serif, 'Apple Color Emoji', 'Segoe UI Emoji', 'Segoe UI Symbol'\" font-size=\"13.00\" text-anchor=\"start\" x=\"998.2\" y=\"-668.1\">Age Bucket</text>\n",
       "<polygon fill=\"#ffffff\" points=\"1125.2,-660.5 1125.2,-683.5 1193.2,-683.5 1193.2,-660.5 1125.2,-660.5\" stroke=\"transparent\"/>\n",
       "<text font-family=\"-apple-system, BlinkMacSystemFont, 'Segoe UI', Helvetica, Arial, sans-serif, 'Apple Color Emoji', 'Segoe UI Emoji', 'Segoe UI Symbol'\" font-size=\"13.00\" font-style=\"italic\" text-anchor=\"start\" x=\"1154.24\" y=\"-669.1\">String</text>\n",
       "<polygon fill=\"#f5f5f5\" points=\"963.2,-637.5 963.2,-660.5 993.2,-660.5 993.2,-637.5 963.2,-637.5\" stroke=\"transparent\"/>\n",
       "<polygon fill=\"#f5f5f5\" points=\"993.2,-637.5 993.2,-660.5 1125.2,-660.5 1125.2,-637.5 993.2,-637.5\" stroke=\"transparent\"/>\n",
       "<text font-family=\"-apple-system, BlinkMacSystemFont, 'Segoe UI', Helvetica, Arial, sans-serif, 'Apple Color Emoji', 'Segoe UI Emoji', 'Segoe UI Symbol'\" font-size=\"13.00\" text-anchor=\"start\" x=\"998.2\" y=\"-645.1\">DaysCardDefault</text>\n",
       "<polygon fill=\"#f5f5f5\" points=\"1125.2,-637.5 1125.2,-660.5 1193.2,-660.5 1193.2,-637.5 1125.2,-637.5\" stroke=\"transparent\"/>\n",
       "<text font-family=\"-apple-system, BlinkMacSystemFont, 'Segoe UI', Helvetica, Arial, sans-serif, 'Apple Color Emoji', 'Segoe UI Emoji', 'Segoe UI Symbol'\" font-size=\"13.00\" font-style=\"italic\" text-anchor=\"start\" x=\"1149.17\" y=\"-646.1\">double</text>\n",
       "<polygon fill=\"none\" points=\"962.2,-636.5 962.2,-1006.5 1194.2,-1006.5 1194.2,-636.5 962.2,-636.5\" stroke=\"black\"/>\n",
       "</g>\n",
       "<!-- Clients&#45;&gt;Credit Cards -->\n",
       "<g class=\"edge\" id=\"edge5\">\n",
       "<title>Clients-&gt;Credit Cards</title>\n",
       "<path d=\"M723.16,-684.5C791.07,-710.78 875.24,-743.35 944.47,-770.14\" fill=\"none\" stroke=\"black\"/>\n",
       "<polygon fill=\"black\" points=\"943.54,-773.53 954.13,-773.88 946.07,-767 943.54,-773.53\" stroke=\"black\"/>\n",
       "<text font-family=\"-apple-system, BlinkMacSystemFont, 'Segoe UI', Helvetica, Arial, sans-serif, 'Apple Color Emoji', 'Segoe UI Emoji', 'Segoe UI Symbol'\" font-size=\"13.00\" text-anchor=\"middle\" x=\"838.65\" y=\"-787.22\">Client ID → Client ID</text>\n",
       "<text font-family=\"-apple-system, BlinkMacSystemFont, 'Segoe UI', Helvetica, Arial, sans-serif, 'Apple Color Emoji', 'Segoe UI Emoji', 'Segoe UI Symbol'\" font-size=\"13.00\" text-anchor=\"middle\" x=\"838.65\" y=\"-771.66\">Reporting Date → Reporting Date</text>\n",
       "</g>\n",
       "<!-- Previous Clients -->\n",
       "<g class=\"node\" id=\"node5\">\n",
       "<title>Previous Clients</title>\n",
       "<text font-family=\"-apple-system, BlinkMacSystemFont, 'Segoe UI', Helvetica, Arial, sans-serif, 'Apple Color Emoji', 'Segoe UI Emoji', 'Segoe UI Symbol'\" font-size=\"13.00\" font-weight=\"bold\" text-anchor=\"start\" x=\"1031.74\" y=\"-594.1\">Previous Clients</text>\n",
       "<polygon fill=\"#f5f5f5\" points=\"981.2,-562.5 981.2,-585.5 1011.2,-585.5 1011.2,-562.5 981.2,-562.5\" stroke=\"transparent\"/>\n",
       "<text font-family=\"-apple-system, BlinkMacSystemFont, 'Segoe UI', Helvetica, Arial, sans-serif, 'Apple Color Emoji', 'Segoe UI Emoji', 'Segoe UI Symbol'\" font-size=\"13.00\" font-weight=\"bold\" text-anchor=\"start\" x=\"986.09\" y=\"-571.1\">key</text>\n",
       "<polygon fill=\"#f5f5f5\" points=\"1011.2,-562.5 1011.2,-585.5 1108.2,-585.5 1108.2,-562.5 1011.2,-562.5\" stroke=\"transparent\"/>\n",
       "<text font-family=\"-apple-system, BlinkMacSystemFont, 'Segoe UI', Helvetica, Arial, sans-serif, 'Apple Color Emoji', 'Segoe UI Emoji', 'Segoe UI Symbol'\" font-size=\"13.00\" text-anchor=\"start\" x=\"1016.2\" y=\"-570.1\">Legal Entity</text>\n",
       "<polygon fill=\"#f5f5f5\" points=\"1108.2,-562.5 1108.2,-585.5 1176.2,-585.5 1176.2,-562.5 1108.2,-562.5\" stroke=\"transparent\"/>\n",
       "<text font-family=\"-apple-system, BlinkMacSystemFont, 'Segoe UI', Helvetica, Arial, sans-serif, 'Apple Color Emoji', 'Segoe UI Emoji', 'Segoe UI Symbol'\" font-size=\"13.00\" font-style=\"italic\" text-anchor=\"start\" x=\"1137.24\" y=\"-571.1\">String</text>\n",
       "<polygon fill=\"#ffffff\" points=\"981.2,-539.5 981.2,-562.5 1011.2,-562.5 1011.2,-539.5 981.2,-539.5\" stroke=\"transparent\"/>\n",
       "<text font-family=\"-apple-system, BlinkMacSystemFont, 'Segoe UI', Helvetica, Arial, sans-serif, 'Apple Color Emoji', 'Segoe UI Emoji', 'Segoe UI Symbol'\" font-size=\"13.00\" font-weight=\"bold\" text-anchor=\"start\" x=\"986.09\" y=\"-548.1\">key</text>\n",
       "<polygon fill=\"#ffffff\" points=\"1011.2,-539.5 1011.2,-562.5 1108.2,-562.5 1108.2,-539.5 1011.2,-539.5\" stroke=\"transparent\"/>\n",
       "<text font-family=\"-apple-system, BlinkMacSystemFont, 'Segoe UI', Helvetica, Arial, sans-serif, 'Apple Color Emoji', 'Segoe UI Emoji', 'Segoe UI Symbol'\" font-size=\"13.00\" text-anchor=\"start\" x=\"1016.2\" y=\"-547.1\">Client ID</text>\n",
       "<polygon fill=\"#ffffff\" points=\"1108.2,-539.5 1108.2,-562.5 1176.2,-562.5 1176.2,-539.5 1108.2,-539.5\" stroke=\"transparent\"/>\n",
       "<text font-family=\"-apple-system, BlinkMacSystemFont, 'Segoe UI', Helvetica, Arial, sans-serif, 'Apple Color Emoji', 'Segoe UI Emoji', 'Segoe UI Symbol'\" font-size=\"13.00\" font-style=\"italic\" text-anchor=\"start\" x=\"1137.24\" y=\"-548.1\">String</text>\n",
       "<polygon fill=\"#f5f5f5\" points=\"981.2,-516.5 981.2,-539.5 1011.2,-539.5 1011.2,-516.5 981.2,-516.5\" stroke=\"transparent\"/>\n",
       "<polygon fill=\"#f5f5f5\" points=\"1011.2,-516.5 1011.2,-539.5 1108.2,-539.5 1108.2,-516.5 1011.2,-516.5\" stroke=\"transparent\"/>\n",
       "<text font-family=\"-apple-system, BlinkMacSystemFont, 'Segoe UI', Helvetica, Arial, sans-serif, 'Apple Color Emoji', 'Segoe UI Emoji', 'Segoe UI Symbol'\" font-size=\"13.00\" text-anchor=\"start\" x=\"1016.2\" y=\"-524.1\">Previous NPL</text>\n",
       "<polygon fill=\"#f5f5f5\" points=\"1108.2,-516.5 1108.2,-539.5 1176.2,-539.5 1176.2,-516.5 1108.2,-516.5\" stroke=\"transparent\"/>\n",
       "<text font-family=\"-apple-system, BlinkMacSystemFont, 'Segoe UI', Helvetica, Arial, sans-serif, 'Apple Color Emoji', 'Segoe UI Emoji', 'Segoe UI Symbol'\" font-size=\"13.00\" font-style=\"italic\" text-anchor=\"start\" x=\"1137.24\" y=\"-525.1\">String</text>\n",
       "<polygon fill=\"#ffffff\" points=\"981.2,-493.5 981.2,-516.5 1011.2,-516.5 1011.2,-493.5 981.2,-493.5\" stroke=\"transparent\"/>\n",
       "<text font-family=\"-apple-system, BlinkMacSystemFont, 'Segoe UI', Helvetica, Arial, sans-serif, 'Apple Color Emoji', 'Segoe UI Emoji', 'Segoe UI Symbol'\" font-size=\"13.00\" font-weight=\"bold\" text-anchor=\"start\" x=\"986.09\" y=\"-502.1\">key</text>\n",
       "<polygon fill=\"#ffffff\" points=\"1011.2,-493.5 1011.2,-516.5 1108.2,-516.5 1108.2,-493.5 1011.2,-493.5\" stroke=\"transparent\"/>\n",
       "<text font-family=\"-apple-system, BlinkMacSystemFont, 'Segoe UI', Helvetica, Arial, sans-serif, 'Apple Color Emoji', 'Segoe UI Emoji', 'Segoe UI Symbol'\" font-size=\"13.00\" text-anchor=\"start\" x=\"1015.98\" y=\"-501.1\">Reporting Date</text>\n",
       "<polygon fill=\"#ffffff\" points=\"1108.2,-493.5 1108.2,-516.5 1176.2,-516.5 1176.2,-493.5 1108.2,-493.5\" stroke=\"transparent\"/>\n",
       "<text font-family=\"-apple-system, BlinkMacSystemFont, 'Segoe UI', Helvetica, Arial, sans-serif, 'Apple Color Emoji', 'Segoe UI Emoji', 'Segoe UI Symbol'\" font-size=\"13.00\" font-style=\"italic\" text-anchor=\"start\" x=\"1112.93\" y=\"-502.1\">LocalDate</text>\n",
       "<polygon fill=\"none\" points=\"979.7,-493 979.7,-610 1176.7,-610 1176.7,-493 979.7,-493\" stroke=\"black\"/>\n",
       "</g>\n",
       "<!-- Clients&#45;&gt;Previous Clients -->\n",
       "<g class=\"edge\" id=\"edge4\">\n",
       "<title>Clients-&gt;Previous Clients</title>\n",
       "<path d=\"M723.16,-614.44C796.75,-601.36 889.43,-584.88 961.51,-572.07\" fill=\"none\" stroke=\"black\"/>\n",
       "<polygon fill=\"black\" points=\"962.3,-575.48 971.54,-570.29 961.08,-568.59 962.3,-575.48\" stroke=\"black\"/>\n",
       "<text font-family=\"-apple-system, BlinkMacSystemFont, 'Segoe UI', Helvetica, Arial, sans-serif, 'Apple Color Emoji', 'Segoe UI Emoji', 'Segoe UI Symbol'\" font-size=\"13.00\" text-anchor=\"middle\" x=\"838.65\" y=\"-645.77\">Legal Entity → Legal Entity</text>\n",
       "<text font-family=\"-apple-system, BlinkMacSystemFont, 'Segoe UI', Helvetica, Arial, sans-serif, 'Apple Color Emoji', 'Segoe UI Emoji', 'Segoe UI Symbol'\" font-size=\"13.00\" text-anchor=\"middle\" x=\"838.65\" y=\"-630.22\">Client ID → Client ID</text>\n",
       "<text font-family=\"-apple-system, BlinkMacSystemFont, 'Segoe UI', Helvetica, Arial, sans-serif, 'Apple Color Emoji', 'Segoe UI Emoji', 'Segoe UI Symbol'\" font-size=\"13.00\" text-anchor=\"middle\" x=\"838.65\" y=\"-614.66\">Reporting Date → Reporting Date</text>\n",
       "</g>\n",
       "<!-- Previous Credit Cards -->\n",
       "<g class=\"node\" id=\"node4\">\n",
       "<title>Previous Credit Cards</title>\n",
       "<text font-family=\"-apple-system, BlinkMacSystemFont, 'Segoe UI', Helvetica, Arial, sans-serif, 'Apple Color Emoji', 'Segoe UI Emoji', 'Segoe UI Symbol'\" font-size=\"13.00\" font-weight=\"bold\" text-anchor=\"start\" x=\"1509.73\" y=\"-853.1\">Previous Credit Cards</text>\n",
       "<polygon fill=\"#f5f5f5\" points=\"1442.8,-821.5 1442.8,-844.5 1472.8,-844.5 1472.8,-821.5 1442.8,-821.5\" stroke=\"transparent\"/>\n",
       "<text font-family=\"-apple-system, BlinkMacSystemFont, 'Segoe UI', Helvetica, Arial, sans-serif, 'Apple Color Emoji', 'Segoe UI Emoji', 'Segoe UI Symbol'\" font-size=\"13.00\" font-weight=\"bold\" text-anchor=\"start\" x=\"1447.69\" y=\"-830.1\">key</text>\n",
       "<polygon fill=\"#f5f5f5\" points=\"1472.8,-821.5 1472.8,-844.5 1635.8,-844.5 1635.8,-821.5 1472.8,-821.5\" stroke=\"transparent\"/>\n",
       "<text font-family=\"-apple-system, BlinkMacSystemFont, 'Segoe UI', Helvetica, Arial, sans-serif, 'Apple Color Emoji', 'Segoe UI Emoji', 'Segoe UI Symbol'\" font-size=\"13.00\" text-anchor=\"start\" x=\"1477.8\" y=\"-829.1\">Client ID</text>\n",
       "<polygon fill=\"#f5f5f5\" points=\"1635.8,-821.5 1635.8,-844.5 1703.8,-844.5 1703.8,-821.5 1635.8,-821.5\" stroke=\"transparent\"/>\n",
       "<text font-family=\"-apple-system, BlinkMacSystemFont, 'Segoe UI', Helvetica, Arial, sans-serif, 'Apple Color Emoji', 'Segoe UI Emoji', 'Segoe UI Symbol'\" font-size=\"13.00\" font-style=\"italic\" text-anchor=\"start\" x=\"1664.84\" y=\"-830.1\">String</text>\n",
       "<polygon fill=\"#ffffff\" points=\"1442.8,-798.5 1442.8,-821.5 1472.8,-821.5 1472.8,-798.5 1442.8,-798.5\" stroke=\"transparent\"/>\n",
       "<polygon fill=\"#ffffff\" points=\"1472.8,-798.5 1472.8,-821.5 1635.8,-821.5 1635.8,-798.5 1472.8,-798.5\" stroke=\"transparent\"/>\n",
       "<text font-family=\"-apple-system, BlinkMacSystemFont, 'Segoe UI', Helvetica, Arial, sans-serif, 'Apple Color Emoji', 'Segoe UI Emoji', 'Segoe UI Symbol'\" font-size=\"13.00\" text-anchor=\"start\" x=\"1477.72\" y=\"-806.1\">Previous DaysCardDefault</text>\n",
       "<polygon fill=\"#ffffff\" points=\"1635.8,-798.5 1635.8,-821.5 1703.8,-821.5 1703.8,-798.5 1635.8,-798.5\" stroke=\"transparent\"/>\n",
       "<text font-family=\"-apple-system, BlinkMacSystemFont, 'Segoe UI', Helvetica, Arial, sans-serif, 'Apple Color Emoji', 'Segoe UI Emoji', 'Segoe UI Symbol'\" font-size=\"13.00\" font-style=\"italic\" text-anchor=\"start\" x=\"1685.07\" y=\"-807.1\">int</text>\n",
       "<polygon fill=\"#f5f5f5\" points=\"1442.8,-775.5 1442.8,-798.5 1472.8,-798.5 1472.8,-775.5 1442.8,-775.5\" stroke=\"transparent\"/>\n",
       "<text font-family=\"-apple-system, BlinkMacSystemFont, 'Segoe UI', Helvetica, Arial, sans-serif, 'Apple Color Emoji', 'Segoe UI Emoji', 'Segoe UI Symbol'\" font-size=\"13.00\" font-weight=\"bold\" text-anchor=\"start\" x=\"1447.69\" y=\"-784.1\">key</text>\n",
       "<polygon fill=\"#f5f5f5\" points=\"1472.8,-775.5 1472.8,-798.5 1635.8,-798.5 1635.8,-775.5 1472.8,-775.5\" stroke=\"transparent\"/>\n",
       "<text font-family=\"-apple-system, BlinkMacSystemFont, 'Segoe UI', Helvetica, Arial, sans-serif, 'Apple Color Emoji', 'Segoe UI Emoji', 'Segoe UI Symbol'\" font-size=\"13.00\" text-anchor=\"start\" x=\"1477.8\" y=\"-783.1\">Reporting Date</text>\n",
       "<polygon fill=\"#f5f5f5\" points=\"1635.8,-775.5 1635.8,-798.5 1703.8,-798.5 1703.8,-775.5 1635.8,-775.5\" stroke=\"transparent\"/>\n",
       "<text font-family=\"-apple-system, BlinkMacSystemFont, 'Segoe UI', Helvetica, Arial, sans-serif, 'Apple Color Emoji', 'Segoe UI Emoji', 'Segoe UI Symbol'\" font-size=\"13.00\" font-style=\"italic\" text-anchor=\"start\" x=\"1640.54\" y=\"-784.1\">LocalDate</text>\n",
       "<polygon fill=\"none\" points=\"1441.3,-774.5 1441.3,-868.5 1704.3,-868.5 1704.3,-774.5 1441.3,-774.5\" stroke=\"black\"/>\n",
       "</g>\n",
       "<!-- Credit Cards&#45;&gt;Previous Credit Cards -->\n",
       "<g class=\"edge\" id=\"edge6\">\n",
       "<title>Credit Cards-&gt;Previous Credit Cards</title>\n",
       "<path d=\"M1202.24,-821.5C1269.05,-821.5 1352.18,-821.5 1422.66,-821.5\" fill=\"none\" stroke=\"black\"/>\n",
       "<polygon fill=\"black\" points=\"1422.96,-825 1432.96,-821.5 1422.96,-818 1422.96,-825\" stroke=\"black\"/>\n",
       "<text font-family=\"-apple-system, BlinkMacSystemFont, 'Segoe UI', Helvetica, Arial, sans-serif, 'Apple Color Emoji', 'Segoe UI Emoji', 'Segoe UI Symbol'\" font-size=\"13.00\" text-anchor=\"middle\" x=\"1317.75\" y=\"-842.22\">Client ID → Client ID</text>\n",
       "<text font-family=\"-apple-system, BlinkMacSystemFont, 'Segoe UI', Helvetica, Arial, sans-serif, 'Apple Color Emoji', 'Segoe UI Emoji', 'Segoe UI Symbol'\" font-size=\"13.00\" text-anchor=\"middle\" x=\"1317.75\" y=\"-826.66\">Reporting Date → Reporting Date</text>\n",
       "</g>\n",
       "</g>\n",
       "</svg>"
      ],
      "text/plain": [
       "<IPython.core.display.SVG object>"
      ]
     },
     "execution_count": 8,
     "metadata": {},
     "output_type": "execute_result"
    }
   ],
   "source": [
    "cube.schema"
   ]
  },
  {
   "cell_type": "markdown",
   "metadata": {},
   "source": [
    "### Hierarchies"
   ]
  },
  {
   "cell_type": "code",
   "execution_count": 9,
   "metadata": {
    "execution": {
     "iopub.execute_input": "2020-12-15T06:49:46.546150Z",
     "iopub.status.busy": "2020-12-15T06:49:46.545872Z",
     "iopub.status.idle": "2020-12-15T06:49:46.549339Z",
     "shell.execute_reply": "2020-12-15T06:49:46.548618Z",
     "shell.execute_reply.started": "2020-12-15T06:49:46.546118Z"
    }
   },
   "outputs": [],
   "source": [
    "h = cube.hierarchies\n",
    "l = cube.levels"
   ]
  },
  {
   "cell_type": "markdown",
   "metadata": {},
   "source": [
    "#### Removed hierarchies"
   ]
  },
  {
   "cell_type": "code",
   "execution_count": 10,
   "metadata": {
    "execution": {
     "iopub.execute_input": "2020-12-15T06:49:46.551932Z",
     "iopub.status.busy": "2020-12-15T06:49:46.551706Z",
     "iopub.status.idle": "2020-12-15T06:49:46.712752Z",
     "shell.execute_reply": "2020-12-15T06:49:46.712219Z",
     "shell.execute_reply.started": "2020-12-15T06:49:46.551910Z"
    }
   },
   "outputs": [],
   "source": [
    "del h['Segment']\n",
    "del h['Opening Year']\n",
    "del h['Opening Month']\n",
    "del h['Opening Day']\n",
    "del h['K2']\n",
    "del h['LTV']\n",
    "del h['DaysPastDue']\n",
    "del h['Residual Maturity']\n",
    "del h['Credit Limit']"
   ]
  },
  {
   "cell_type": "markdown",
   "metadata": {},
   "source": [
    "#### Slicing hierarchies"
   ]
  },
  {
   "cell_type": "code",
   "execution_count": 11,
   "metadata": {
    "execution": {
     "iopub.execute_input": "2020-12-15T06:49:46.713970Z",
     "iopub.status.busy": "2020-12-15T06:49:46.713725Z",
     "iopub.status.idle": "2020-12-15T06:49:46.730374Z",
     "shell.execute_reply": "2020-12-15T06:49:46.729809Z",
     "shell.execute_reply.started": "2020-12-15T06:49:46.713940Z"
    }
   },
   "outputs": [],
   "source": [
    "h['Legal Entity'].slicing = True"
   ]
  },
  {
   "cell_type": "markdown",
   "metadata": {},
   "source": [
    "#### Multi-level hierarchies"
   ]
  },
  {
   "cell_type": "code",
   "execution_count": 12,
   "metadata": {
    "execution": {
     "iopub.execute_input": "2020-12-15T06:49:46.731546Z",
     "iopub.status.busy": "2020-12-15T06:49:46.731292Z",
     "iopub.status.idle": "2020-12-15T06:49:47.286071Z",
     "shell.execute_reply": "2020-12-15T06:49:47.285627Z",
     "shell.execute_reply.started": "2020-12-15T06:49:46.731522Z"
    }
   },
   "outputs": [],
   "source": [
    "h['Opening Date (detailed)'] = {\n",
    "    'Year': contracts_static_store['Opening Year'],\n",
    "    'Month': contracts_static_store['Opening Month'],\n",
    "    'Day': contracts_static_store['Opening Day']\n",
    "}\n",
    "\n",
    "h['Segments'] = {\n",
    "    'Segment': contracts_static_store['Segment'],\n",
    "    'Contract': contracts_store['Contract ID']\n",
    "}"
   ]
  },
  {
   "cell_type": "markdown",
   "metadata": {},
   "source": [
    "### Measures"
   ]
  },
  {
   "cell_type": "code",
   "execution_count": 13,
   "metadata": {
    "execution": {
     "iopub.execute_input": "2020-12-15T06:49:47.287119Z",
     "iopub.status.busy": "2020-12-15T06:49:47.286942Z",
     "iopub.status.idle": "2020-12-15T06:49:47.289503Z",
     "shell.execute_reply": "2020-12-15T06:49:47.288973Z",
     "shell.execute_reply.started": "2020-12-15T06:49:47.287098Z"
    }
   },
   "outputs": [],
   "source": [
    "m = cube.measures"
   ]
  },
  {
   "cell_type": "markdown",
   "metadata": {},
   "source": [
    "Define formatting"
   ]
  },
  {
   "cell_type": "code",
   "execution_count": 14,
   "metadata": {
    "execution": {
     "iopub.execute_input": "2020-12-15T06:49:47.290606Z",
     "iopub.status.busy": "2020-12-15T06:49:47.290446Z",
     "iopub.status.idle": "2020-12-15T06:49:47.292873Z",
     "shell.execute_reply": "2020-12-15T06:49:47.292403Z",
     "shell.execute_reply.started": "2020-12-15T06:49:47.290587Z"
    }
   },
   "outputs": [],
   "source": [
    "percent_formatter = 'DOUBLE[#,###.##%]'"
   ]
  },
  {
   "cell_type": "markdown",
   "metadata": {},
   "source": [
    "#### Dates"
   ]
  },
  {
   "cell_type": "markdown",
   "metadata": {},
   "source": [
    "The **Residual Maturity** is the number of days from the **Reporting Date** to the **Maturity Date**."
   ]
  },
  {
   "cell_type": "code",
   "execution_count": 15,
   "metadata": {
    "execution": {
     "iopub.execute_input": "2020-12-15T06:49:47.294061Z",
     "iopub.status.busy": "2020-12-15T06:49:47.293868Z",
     "iopub.status.idle": "2020-12-15T06:49:47.332804Z",
     "shell.execute_reply": "2020-12-15T06:49:47.332216Z",
     "shell.execute_reply.started": "2020-12-15T06:49:47.294038Z"
    }
   },
   "outputs": [],
   "source": [
    "m['Residual Maturity'] = tt.agg.mean(contracts_store['Residual Maturity'])\n",
    "m['Residual Maturity'].folder = 'Date'"
   ]
  },
  {
   "cell_type": "code",
   "execution_count": 16,
   "metadata": {
    "execution": {
     "iopub.execute_input": "2020-12-15T06:49:47.334213Z",
     "iopub.status.busy": "2020-12-15T06:49:47.334004Z",
     "iopub.status.idle": "2020-12-15T06:49:48.327566Z",
     "shell.execute_reply": "2020-12-15T06:49:48.326970Z",
     "shell.execute_reply.started": "2020-12-15T06:49:47.334189Z"
    }
   },
   "outputs": [
    {
     "data": {
      "application/vnd.atoti.query-result.v0+json": {
       "context": {
        "queriesTimeLimit": 30
       },
       "createEquivalentWidgetCode": "session.visualize()",
       "mdx": "SELECT [Measures].[Residual Maturity] ON COLUMNS FROM [IFRS9]"
      },
      "text/html": [
       "<div>\n",
       "<style scoped>\n",
       "    .dataframe tbody tr th:only-of-type {\n",
       "        vertical-align: middle;\n",
       "    }\n",
       "\n",
       "    .dataframe tbody tr th {\n",
       "        vertical-align: top;\n",
       "    }\n",
       "\n",
       "    .dataframe thead th {\n",
       "        text-align: right;\n",
       "    }\n",
       "</style>\n",
       "<table border=\"1\" class=\"dataframe\">\n",
       "  <thead>\n",
       "    <tr style=\"text-align: right;\">\n",
       "      <th></th>\n",
       "      <th>Residual Maturity</th>\n",
       "    </tr>\n",
       "  </thead>\n",
       "  <tbody>\n",
       "    <tr>\n",
       "      <th>0</th>\n",
       "      <td>1,434.00</td>\n",
       "    </tr>\n",
       "  </tbody>\n",
       "</table>\n",
       "</div>"
      ],
      "text/plain": [
       "  Residual Maturity\n",
       "0          1,434.00"
      ]
     },
     "execution_count": 16,
     "metadata": {},
     "output_type": "execute_result"
    }
   ],
   "source": [
    "cube.query(m['Residual Maturity'])"
   ]
  },
  {
   "cell_type": "markdown",
   "metadata": {},
   "source": [
    "#### Stages"
   ]
  },
  {
   "cell_type": "markdown",
   "metadata": {},
   "source": [
    "**Impairment** of financial assets is recognised in stages:\n",
    "- **Stage 1** As soon as a financial instrument is originated or purchased, 12-month expected credit losses are recognised in profit or loss and a loss allowance is established. This serves as a proxy for the initial expectations of credit losses. For financial assets, interest revenue is calculated on the gross carrying amount (ie without deduction for expected credit losses).\n",
    "- **Stage 2** If the credit risk increases significantly and is not considered low, full lifetime expected credit losses are recognised in profit or loss. The calculation of interest revenue is the same as for Stage 1.\n",
    "- **Stage 3** If the credit risk of a financial asset increases to the point that it is considered credit-impaired, interest revenue is calculated based on the amortised cost (ie the gross carrying amount less the loss allowance). Financial assets in this stage will generally be assessed individually. Lifetime expected credit losses are recognised on these financial assets."
   ]
  },
  {
   "cell_type": "markdown",
   "metadata": {},
   "source": [
    "Input"
   ]
  },
  {
   "cell_type": "code",
   "execution_count": 17,
   "metadata": {
    "execution": {
     "iopub.execute_input": "2020-12-15T06:49:48.328847Z",
     "iopub.status.busy": "2020-12-15T06:49:48.328635Z",
     "iopub.status.idle": "2020-12-15T06:49:48.386877Z",
     "shell.execute_reply": "2020-12-15T06:49:48.386348Z",
     "shell.execute_reply.started": "2020-12-15T06:49:48.328821Z"
    }
   },
   "outputs": [],
   "source": [
    "m['Stage'] = tt.value(contracts_store['Stage'])\n",
    "m['Stage'].folder = 'Stage'"
   ]
  },
  {
   "cell_type": "markdown",
   "metadata": {},
   "source": [
    "Day to day"
   ]
  },
  {
   "cell_type": "code",
   "execution_count": 18,
   "metadata": {
    "execution": {
     "iopub.execute_input": "2020-12-15T06:49:48.387992Z",
     "iopub.status.busy": "2020-12-15T06:49:48.387744Z",
     "iopub.status.idle": "2020-12-15T06:49:48.524743Z",
     "shell.execute_reply": "2020-12-15T06:49:48.524235Z",
     "shell.execute_reply.started": "2020-12-15T06:49:48.387966Z"
    }
   },
   "outputs": [],
   "source": [
    "m['Previous Stage'] = tt.shift(m['Stage'], on=l['Reporting Date'], offset=-1)\n",
    "m['Previous Stage'].folder = 'Stage'\n",
    "\n",
    "m['Stage Variation'] = tt.where(m['Stage'] != m['Previous Stage'], 1, -1)\n",
    "m['Stage Variation'].folder = 'Stage'"
   ]
  },
  {
   "cell_type": "code",
   "execution_count": 19,
   "metadata": {
    "execution": {
     "iopub.execute_input": "2020-12-15T06:49:48.525829Z",
     "iopub.status.busy": "2020-12-15T06:49:48.525581Z",
     "iopub.status.idle": "2020-12-15T06:49:48.593103Z",
     "shell.execute_reply": "2020-12-15T06:49:48.592447Z",
     "shell.execute_reply.started": "2020-12-15T06:49:48.525804Z"
    }
   },
   "outputs": [
    {
     "data": {
      "application/vnd.atoti.query-result.v0+json": {
       "context": {
        "queriesTimeLimit": 30
       },
       "createEquivalentWidgetCode": "session.visualize()",
       "mdx": "SELECT {[Measures].[Stage],[Measures].[Previous Stage]} ON COLUMNS FROM [IFRS9]"
      },
      "text/html": [
       "<div>\n",
       "<style scoped>\n",
       "    .dataframe tbody tr th:only-of-type {\n",
       "        vertical-align: middle;\n",
       "    }\n",
       "\n",
       "    .dataframe tbody tr th {\n",
       "        vertical-align: top;\n",
       "    }\n",
       "\n",
       "    .dataframe thead th {\n",
       "        text-align: right;\n",
       "    }\n",
       "</style>\n",
       "<table border=\"1\" class=\"dataframe\">\n",
       "  <thead>\n",
       "    <tr style=\"text-align: right;\">\n",
       "      <th></th>\n",
       "      <th>Stage</th>\n",
       "      <th>Previous Stage</th>\n",
       "    </tr>\n",
       "  </thead>\n",
       "  <tbody>\n",
       "  </tbody>\n",
       "</table>\n",
       "</div>"
      ],
      "text/plain": [
       "Empty DataFrame\n",
       "Columns: [Stage, Previous Stage]\n",
       "Index: []"
      ]
     },
     "execution_count": 19,
     "metadata": {},
     "output_type": "execute_result"
    }
   ],
   "source": [
    "cube.query(m['Stage'], m['Previous Stage'])"
   ]
  },
  {
   "cell_type": "markdown",
   "metadata": {},
   "source": [
    "#### EAD"
   ]
  },
  {
   "cell_type": "markdown",
   "metadata": {},
   "source": [
    "The **Exposure At Default** is the predicted amount of loss a bank may be exposed to when a debtor defaults on a loan."
   ]
  },
  {
   "cell_type": "markdown",
   "metadata": {},
   "source": [
    "Input"
   ]
  },
  {
   "cell_type": "code",
   "execution_count": 20,
   "metadata": {
    "execution": {
     "iopub.execute_input": "2020-12-15T06:49:48.594456Z",
     "iopub.status.busy": "2020-12-15T06:49:48.594176Z",
     "iopub.status.idle": "2020-12-15T06:49:48.671460Z",
     "shell.execute_reply": "2020-12-15T06:49:48.670874Z",
     "shell.execute_reply.started": "2020-12-15T06:49:48.594425Z"
    }
   },
   "outputs": [],
   "source": [
    "m['On Balance EAD'] = tt.agg.sum(contracts_store['On Balance EAD'])\n",
    "m['On Balance EAD'].folder = 'EAD'\n",
    "\n",
    "m['Off Balance EAD'] = tt.agg.sum(contracts_store['Off Balance EAD'])\n",
    "m['Off Balance EAD'].folder = 'EAD'\n",
    "\n",
    "m['EAD'] = tt.agg.sum(contracts_store['EAD'])\n",
    "m['EAD'].folder = 'EAD'"
   ]
  },
  {
   "cell_type": "code",
   "execution_count": 21,
   "metadata": {
    "execution": {
     "iopub.execute_input": "2020-12-15T06:49:48.672508Z",
     "iopub.status.busy": "2020-12-15T06:49:48.672311Z",
     "iopub.status.idle": "2020-12-15T06:49:48.728234Z",
     "shell.execute_reply": "2020-12-15T06:49:48.727695Z",
     "shell.execute_reply.started": "2020-12-15T06:49:48.672482Z"
    }
   },
   "outputs": [
    {
     "data": {
      "application/vnd.atoti.query-result.v0+json": {
       "context": {
        "queriesTimeLimit": 30
       },
       "createEquivalentWidgetCode": "session.visualize()",
       "mdx": "SELECT {[Measures].[On Balance EAD],[Measures].[Off Balance EAD],[Measures].[EAD]} ON COLUMNS FROM [IFRS9]"
      },
      "text/html": [
       "<div>\n",
       "<style scoped>\n",
       "    .dataframe tbody tr th:only-of-type {\n",
       "        vertical-align: middle;\n",
       "    }\n",
       "\n",
       "    .dataframe tbody tr th {\n",
       "        vertical-align: top;\n",
       "    }\n",
       "\n",
       "    .dataframe thead th {\n",
       "        text-align: right;\n",
       "    }\n",
       "</style>\n",
       "<table border=\"1\" class=\"dataframe\">\n",
       "  <thead>\n",
       "    <tr style=\"text-align: right;\">\n",
       "      <th></th>\n",
       "      <th>On Balance EAD</th>\n",
       "      <th>Off Balance EAD</th>\n",
       "      <th>EAD</th>\n",
       "    </tr>\n",
       "  </thead>\n",
       "  <tbody>\n",
       "    <tr>\n",
       "      <th>0</th>\n",
       "      <td>&lt;NA&gt;</td>\n",
       "      <td>&lt;NA&gt;</td>\n",
       "      <td>26,466.00</td>\n",
       "    </tr>\n",
       "  </tbody>\n",
       "</table>\n",
       "</div>"
      ],
      "text/plain": [
       "  On Balance EAD Off Balance EAD        EAD\n",
       "0           <NA>            <NA>  26,466.00"
      ]
     },
     "execution_count": 21,
     "metadata": {},
     "output_type": "execute_result"
    }
   ],
   "source": [
    "cube.query(m['On Balance EAD'], m['Off Balance EAD'], m['EAD'])"
   ]
  },
  {
   "cell_type": "markdown",
   "metadata": {},
   "source": [
    "Day to day"
   ]
  },
  {
   "cell_type": "code",
   "execution_count": null,
   "metadata": {},
   "outputs": [],
   "source": []
  },
  {
   "cell_type": "code",
   "execution_count": 22,
   "metadata": {
    "execution": {
     "iopub.execute_input": "2020-12-15T06:49:48.729395Z",
     "iopub.status.busy": "2020-12-15T06:49:48.729154Z",
     "iopub.status.idle": "2020-12-15T06:49:48.844974Z",
     "shell.execute_reply": "2020-12-15T06:49:48.844374Z",
     "shell.execute_reply.started": "2020-12-15T06:49:48.729372Z"
    }
   },
   "outputs": [],
   "source": [
    "m['Previous EAD'] = tt.shift(m['EAD'], on=l['Reporting Date'], offset=-1)\n",
    "m['Previous EAD'].folder = 'EAD'\n",
    "\n",
    "m['EAD (DtD)'] = tt.where(m['Previous EAD'] != None, m['EAD'] - m['Previous EAD'])\n",
    "m['EAD (DtD)'].folder = 'EAD'\n",
    "\n",
    "m['EAD (DtD %)'] = tt.where(m['Previous EAD'] != 0, m['EAD (DtD)'] / m['Previous EAD'])\n",
    "m['EAD (DtD %)'].folder = 'EAD'\n",
    "m['EAD (DtD %)'].formatter = percent_formatter"
   ]
  },
  {
   "cell_type": "code",
   "execution_count": 23,
   "metadata": {
    "execution": {
     "iopub.execute_input": "2020-12-15T06:49:48.846125Z",
     "iopub.status.busy": "2020-12-15T06:49:48.845875Z",
     "iopub.status.idle": "2020-12-15T06:49:48.914512Z",
     "shell.execute_reply": "2020-12-15T06:49:48.913864Z",
     "shell.execute_reply.started": "2020-12-15T06:49:48.846100Z"
    }
   },
   "outputs": [
    {
     "data": {
      "application/vnd.atoti.query-result.v0+json": {
       "context": {
        "queriesTimeLimit": 30
       },
       "createEquivalentWidgetCode": "session.visualize()",
       "mdx": "SELECT {[Measures].[EAD],[Measures].[Previous EAD],[Measures].[EAD (DtD)],[Measures].[EAD (DtD %)]} ON COLUMNS FROM (SELECT ({[Contracts].[Reporting Date].[ALL].[AllMember].[2019-06-30]}) ON COLUMNS FROM [IFRS9])"
      },
      "text/html": [
       "<div>\n",
       "<style scoped>\n",
       "    .dataframe tbody tr th:only-of-type {\n",
       "        vertical-align: middle;\n",
       "    }\n",
       "\n",
       "    .dataframe tbody tr th {\n",
       "        vertical-align: top;\n",
       "    }\n",
       "\n",
       "    .dataframe thead th {\n",
       "        text-align: right;\n",
       "    }\n",
       "</style>\n",
       "<table border=\"1\" class=\"dataframe\">\n",
       "  <thead>\n",
       "    <tr style=\"text-align: right;\">\n",
       "      <th></th>\n",
       "      <th>EAD</th>\n",
       "      <th>Previous EAD</th>\n",
       "      <th>EAD (DtD)</th>\n",
       "      <th>EAD (DtD %)</th>\n",
       "    </tr>\n",
       "  </thead>\n",
       "  <tbody>\n",
       "  </tbody>\n",
       "</table>\n",
       "</div>"
      ],
      "text/plain": [
       "Empty DataFrame\n",
       "Columns: [EAD, Previous EAD, EAD (DtD), EAD (DtD %)]\n",
       "Index: []"
      ]
     },
     "execution_count": 23,
     "metadata": {},
     "output_type": "execute_result"
    }
   ],
   "source": [
    "cube.query(m['EAD'], m['Previous EAD'], m['EAD (DtD)'], m['EAD (DtD %)'], condition = (l['Reporting Date']==\"2019-06-30\"))"
   ]
  },
  {
   "cell_type": "markdown",
   "metadata": {},
   "source": [
    "#### PD"
   ]
  },
  {
   "cell_type": "markdown",
   "metadata": {},
   "source": [
    "The **Probability Of Default** is the likelihood that your debtor will default on its debts (goes bankrupt or so) within certain period (12 months for loans in Stage 1 and life-time for other loans)."
   ]
  },
  {
   "cell_type": "markdown",
   "metadata": {},
   "source": [
    "##### 12 months"
   ]
  },
  {
   "cell_type": "markdown",
   "metadata": {},
   "source": [
    "Input"
   ]
  },
  {
   "cell_type": "code",
   "execution_count": 24,
   "metadata": {
    "execution": {
     "iopub.execute_input": "2020-12-15T06:49:48.916096Z",
     "iopub.status.busy": "2020-12-15T06:49:48.915746Z",
     "iopub.status.idle": "2020-12-15T06:49:48.984440Z",
     "shell.execute_reply": "2020-12-15T06:49:48.983890Z",
     "shell.execute_reply.started": "2020-12-15T06:49:48.916069Z"
    }
   },
   "outputs": [],
   "source": [
    "m['PD (12)'] = tt.agg.mean(contracts_store['PD12'])\n",
    "m['PD (12)'].folder = 'PD'\n",
    "m['PD (12)'].formatter = percent_formatter\n",
    "\n",
    "m['Opening PD (12)'] = tt.agg.mean(contracts_static_store['Opening PD12'])\n",
    "m['Opening PD (12)'].folder = 'PD'"
   ]
  },
  {
   "cell_type": "markdown",
   "metadata": {},
   "source": [
    "Day to day"
   ]
  },
  {
   "cell_type": "code",
   "execution_count": 25,
   "metadata": {
    "execution": {
     "iopub.execute_input": "2020-12-15T06:49:48.985638Z",
     "iopub.status.busy": "2020-12-15T06:49:48.985436Z",
     "iopub.status.idle": "2020-12-15T06:49:49.105978Z",
     "shell.execute_reply": "2020-12-15T06:49:49.105455Z",
     "shell.execute_reply.started": "2020-12-15T06:49:48.985615Z"
    }
   },
   "outputs": [],
   "source": [
    "m['Previous PD (12)'] = tt.shift(m['PD (12)'], on=l['Reporting Date'], offset=-1)\n",
    "m['Previous PD (12)'].folder = 'PD'\n",
    "m['Previous PD (12)'].formatter = percent_formatter\n",
    "\n",
    "m['PD (12) (DtD)'] = tt.where(m['Previous PD (12)'] != None, m['PD (12)'] - m['Previous PD (12)'])\n",
    "m['PD (12) (DtD)'].folder = 'PD'\n",
    "\n",
    "m['PD (12) (DtD %)'] = tt.where(m['Previous PD (12)'] != 0, m['PD (12) (DtD)'] / m['Previous PD (12)'])\n",
    "m['PD (12) (DtD %)'].folder = 'PD'\n",
    "m['PD (12) (DtD %)'].formatter = percent_formatter"
   ]
  },
  {
   "cell_type": "markdown",
   "metadata": {},
   "source": [
    "Variation from opening"
   ]
  },
  {
   "cell_type": "code",
   "execution_count": 26,
   "metadata": {
    "execution": {
     "iopub.execute_input": "2020-12-15T06:49:49.107019Z",
     "iopub.status.busy": "2020-12-15T06:49:49.106758Z",
     "iopub.status.idle": "2020-12-15T06:49:49.155282Z",
     "shell.execute_reply": "2020-12-15T06:49:49.154747Z",
     "shell.execute_reply.started": "2020-12-15T06:49:49.106996Z"
    }
   },
   "outputs": [],
   "source": [
    "m['PD (12) Variation'] = (m['PD (12)'] - m['Opening PD (12)']) / m['Opening PD (12)']\n",
    "m['PD (12) Variation'].folder = 'PD'\n",
    "m['PD (12) Variation'].formatter = percent_formatter"
   ]
  },
  {
   "cell_type": "markdown",
   "metadata": {},
   "source": [
    "##### Life time"
   ]
  },
  {
   "cell_type": "markdown",
   "metadata": {},
   "source": [
    "Input"
   ]
  },
  {
   "cell_type": "code",
   "execution_count": 27,
   "metadata": {
    "execution": {
     "iopub.execute_input": "2020-12-15T06:49:49.161328Z",
     "iopub.status.busy": "2020-12-15T06:49:49.161095Z",
     "iopub.status.idle": "2020-12-15T06:49:49.228282Z",
     "shell.execute_reply": "2020-12-15T06:49:49.227736Z",
     "shell.execute_reply.started": "2020-12-15T06:49:49.161305Z"
    }
   },
   "outputs": [],
   "source": [
    "m['PD (LT)'] = tt.agg.mean(contracts_store['PDLT'])\n",
    "m['PD (LT)'].folder = 'PD'\n",
    "m['PD (LT)'].formatter = percent_formatter\n",
    "\n",
    "m['Opening PD (LT)'] = tt.agg.mean(contracts_static_store['Opening PDLT'])\n",
    "m['Opening PD (LT)'].folder = 'PD'"
   ]
  },
  {
   "cell_type": "markdown",
   "metadata": {},
   "source": [
    "Day to day"
   ]
  },
  {
   "cell_type": "code",
   "execution_count": 28,
   "metadata": {
    "execution": {
     "iopub.execute_input": "2020-12-15T06:49:49.230880Z",
     "iopub.status.busy": "2020-12-15T06:49:49.230644Z",
     "iopub.status.idle": "2020-12-15T06:49:49.343507Z",
     "shell.execute_reply": "2020-12-15T06:49:49.342901Z",
     "shell.execute_reply.started": "2020-12-15T06:49:49.230850Z"
    }
   },
   "outputs": [],
   "source": [
    "m['Previous PD (LT)'] = tt.shift(m['PD (LT)'], on=l['Reporting Date'], offset=-1)\n",
    "m['Previous PD (LT)'].folder = 'PD'\n",
    "\n",
    "m['PD (LT) (DtD)'] = tt.where(m['Previous PD (LT)'] != None, m['PD (LT)'] - m['Previous PD (LT)'])\n",
    "m['PD (LT) (DtD)'].folder = 'PD'\n",
    "\n",
    "m['PD (LT) (DtD %)'] = tt.where(m['Previous PD (LT)'] != 0, m['PD (LT) (DtD)'] / m['Previous PD (LT)'])\n",
    "m['PD (LT) (DtD %)'].folder = 'PD'\n",
    "m['PD (LT) (DtD %)'].formatter = percent_formatter"
   ]
  },
  {
   "cell_type": "markdown",
   "metadata": {},
   "source": [
    "Variation from opening"
   ]
  },
  {
   "cell_type": "code",
   "execution_count": 29,
   "metadata": {
    "execution": {
     "iopub.execute_input": "2020-12-15T06:49:49.344707Z",
     "iopub.status.busy": "2020-12-15T06:49:49.344520Z",
     "iopub.status.idle": "2020-12-15T06:49:49.395216Z",
     "shell.execute_reply": "2020-12-15T06:49:49.394668Z",
     "shell.execute_reply.started": "2020-12-15T06:49:49.344685Z"
    }
   },
   "outputs": [],
   "source": [
    "m['PD (LT) Variation'] = (m['PD (LT)'] - m['Opening PD (LT)']) / m['Opening PD (LT)']\n",
    "m['PD (LT) Variation'].folder = 'PD'\n",
    "m['PD (LT) Variation'].formatter = percent_formatter"
   ]
  },
  {
   "cell_type": "markdown",
   "metadata": {},
   "source": [
    "#### LGD"
   ]
  },
  {
   "cell_type": "markdown",
   "metadata": {},
   "source": [
    "The **Lost Given Default** is the percentage that you can lose when the debtor defaults."
   ]
  },
  {
   "cell_type": "code",
   "execution_count": 30,
   "metadata": {
    "execution": {
     "iopub.execute_input": "2020-12-15T06:49:49.396400Z",
     "iopub.status.busy": "2020-12-15T06:49:49.396202Z",
     "iopub.status.idle": "2020-12-15T06:49:49.463518Z",
     "shell.execute_reply": "2020-12-15T06:49:49.462966Z",
     "shell.execute_reply.started": "2020-12-15T06:49:49.396378Z"
    }
   },
   "outputs": [],
   "source": [
    "m['LGD'] = tt.agg.sum(contracts_store['LGD'])\n",
    "m['LGD'].folder = 'LGD'\n",
    "\n",
    "m['Previous LGD'] = tt.shift(m['LGD'], on=l['Reporting Date'], offset=-1)\n",
    "m['Previous LGD'].folder = 'LGD'"
   ]
  },
  {
   "cell_type": "markdown",
   "metadata": {},
   "source": [
    "#### ECL"
   ]
  },
  {
   "cell_type": "markdown",
   "metadata": {},
   "source": [
    "The **Expected Credit Loss** is a probability-weighted estimate of credit loss. A credit loss is the difference between the cash flows that are due to an entity in accordance with the contract and the cash flows that the entity expects to receive discounted at the original effective interest rate. Because ECL consider the amount and timing of payments, a credit loss arises even if the entity expects to be paid in full but later than when contractually due"
   ]
  },
  {
   "cell_type": "markdown",
   "metadata": {},
   "source": [
    "##### ECL calculations"
   ]
  },
  {
   "cell_type": "markdown",
   "metadata": {},
   "source": [
    "Input"
   ]
  },
  {
   "cell_type": "code",
   "execution_count": 31,
   "metadata": {
    "execution": {
     "iopub.execute_input": "2020-12-15T06:49:49.464608Z",
     "iopub.status.busy": "2020-12-15T06:49:49.464425Z",
     "iopub.status.idle": "2020-12-15T06:49:49.569655Z",
     "shell.execute_reply": "2020-12-15T06:49:49.568889Z",
     "shell.execute_reply.started": "2020-12-15T06:49:49.464586Z"
    }
   },
   "outputs": [],
   "source": [
    "ecl_stage_1 = tt.agg.sum_product(contracts_store['LGD'], contracts_store['EAD'], contracts_store['PD12'])\n",
    "ecl_stage_2 = tt.agg.sum_product(contracts_store['LGD'], contracts_store['EAD'], contracts_store['PDLT'])\n",
    "ecl_stage_3 = tt.agg.sum_product(contracts_store['LGD'], contracts_store['EAD'])\n",
    "\n",
    "m['ECL']  = tt.filter(ecl_stage_1, l['Stage'] == 1) + tt.filter(ecl_stage_2, l['Stage'] == 2) + tt.filter(ecl_stage_3, l['Stage'] == 3)\n",
    "m['ECL'].folder = 'ECL'"
   ]
  },
  {
   "cell_type": "markdown",
   "metadata": {},
   "source": [
    "Day to day"
   ]
  },
  {
   "cell_type": "code",
   "execution_count": 32,
   "metadata": {
    "execution": {
     "iopub.execute_input": "2020-12-15T06:49:49.571001Z",
     "iopub.status.busy": "2020-12-15T06:49:49.570739Z",
     "iopub.status.idle": "2020-12-15T06:49:49.843842Z",
     "shell.execute_reply": "2020-12-15T06:49:49.843255Z",
     "shell.execute_reply.started": "2020-12-15T06:49:49.570971Z"
    }
   },
   "outputs": [],
   "source": [
    "m['Previous ECL'] = tt.shift(m['ECL'], on=l['Reporting Date'], offset=-1)\n",
    "m['Previous ECL'].folder = 'ECL'\n",
    "\n",
    "m['ECL (DtD)'] = tt.where(m['Previous ECL'] != None, m['ECL'] - m['Previous ECL'])\n",
    "m['ECL (DtD)'].folder = 'ECL'\n",
    "\n",
    "m['ECL (DtD %)'] = tt.where(m['Previous ECL'] != 0, m['ECL (DtD)'] / m['Previous ECL'])\n",
    "m['ECL (DtD %)'].folder = 'ECL'\n",
    "m['ECL (DtD %)'].formatter = percent_formatter\n",
    "\n",
    "m['ECL of old contracts'] = tt.filter(m['ECL'], l['Is New Contract'] == False)\n",
    "m['ECL of old contracts'].folder = 'ECL'\n",
    "\n",
    "m['ECL (DtD without new contracts)'] = tt.where(m['Previous ECL'] != None, m['ECL of old contracts'] - m['Previous ECL'])\n",
    "m['ECL (DtD without new contracts)'].folder = 'ECL'\n",
    "\n",
    "m['ECL (DtD % without new contracts)'] = tt.where(m['Previous ECL'] != 0, m['ECL (DtD without new contracts)'] / m['Previous ECL'])\n",
    "m['ECL (DtD % without new contracts)'].folder = 'ECL'\n",
    "m['ECL (DtD % without new contracts)'].formatter = percent_formatter"
   ]
  },
  {
   "cell_type": "code",
   "execution_count": 33,
   "metadata": {
    "execution": {
     "iopub.execute_input": "2020-12-15T06:49:49.844881Z",
     "iopub.status.busy": "2020-12-15T06:49:49.844668Z",
     "iopub.status.idle": "2020-12-15T06:49:49.940119Z",
     "shell.execute_reply": "2020-12-15T06:49:49.939547Z",
     "shell.execute_reply.started": "2020-12-15T06:49:49.844856Z"
    }
   },
   "outputs": [
    {
     "data": {
      "application/vnd.atoti.query-result.v0+json": {
       "context": {
        "queriesTimeLimit": 30
       },
       "createEquivalentWidgetCode": "session.visualize()",
       "mdx": "SELECT {[Measures].[Previous ECL],[Measures].[ECL]} ON COLUMNS, NON EMPTY [Contracts].[Reporting Date].[Reporting Date].Members ON ROWS FROM [IFRS9]"
      },
      "text/html": [
       "<div>\n",
       "<style scoped>\n",
       "    .dataframe tbody tr th:only-of-type {\n",
       "        vertical-align: middle;\n",
       "    }\n",
       "\n",
       "    .dataframe tbody tr th {\n",
       "        vertical-align: top;\n",
       "    }\n",
       "\n",
       "    .dataframe thead th {\n",
       "        text-align: right;\n",
       "    }\n",
       "</style>\n",
       "<table border=\"1\" class=\"dataframe\">\n",
       "  <thead>\n",
       "    <tr style=\"text-align: right;\">\n",
       "      <th></th>\n",
       "      <th>Previous ECL</th>\n",
       "      <th>ECL</th>\n",
       "    </tr>\n",
       "    <tr>\n",
       "      <th>Reporting Date</th>\n",
       "      <th></th>\n",
       "      <th></th>\n",
       "    </tr>\n",
       "  </thead>\n",
       "  <tbody>\n",
       "    <tr>\n",
       "      <th>2018-07-31</th>\n",
       "      <td>&lt;NA&gt;</td>\n",
       "      <td>4,928.54</td>\n",
       "    </tr>\n",
       "  </tbody>\n",
       "</table>\n",
       "</div>"
      ],
      "text/plain": [
       "               Previous ECL       ECL\n",
       "Reporting Date                       \n",
       "2018-07-31             <NA>  4,928.54"
      ]
     },
     "execution_count": 33,
     "metadata": {},
     "output_type": "execute_result"
    }
   ],
   "source": [
    "cube.query(m['Previous ECL'], m['ECL'], levels = l['Reporting Date'])"
   ]
  },
  {
   "cell_type": "markdown",
   "metadata": {},
   "source": [
    "##### ECL Explainer"
   ]
  },
  {
   "cell_type": "markdown",
   "metadata": {},
   "source": [
    "The **ECL Explainer** is measured via the variation due to PD or LGD or EAD changes. Using the same formula as for the ECL measure, one of these 3 values (PD, LGD or EAD) is replaced by the value on the previous reporting date so it has no effect on the ECL variation."
   ]
  },
  {
   "cell_type": "markdown",
   "metadata": {},
   "source": [
    "ECL variation due to PD changes"
   ]
  },
  {
   "cell_type": "code",
   "execution_count": 34,
   "metadata": {
    "execution": {
     "iopub.execute_input": "2020-12-15T06:49:49.941329Z",
     "iopub.status.busy": "2020-12-15T06:49:49.941142Z",
     "iopub.status.idle": "2020-12-15T06:49:50.078287Z",
     "shell.execute_reply": "2020-12-15T06:49:50.077713Z",
     "shell.execute_reply.started": "2020-12-15T06:49:49.941307Z"
    }
   },
   "outputs": [],
   "source": [
    "ecl_pd_explain_stage_1 = tt.agg.sum_product(contracts_store['LGD'], contracts_store['EAD'], previous_contracts_store['Previous PD12'])\n",
    "ecl_pd_explain_stage_2 = tt.agg.sum_product(contracts_store['LGD'], contracts_store['EAD'], previous_contracts_store['Previous PDLT'])\n",
    "\n",
    "ecl_with_previous_pd = tt.filter(ecl_pd_explain_stage_1, l['Stage'] == 1) + tt.filter(ecl_pd_explain_stage_2, l['Stage'] == 2) + tt.filter(ecl_stage_3, l['Stage'] == 3)\n",
    "\n",
    "m['ECL variation due to PD changes'] = m['ECL'] - ecl_with_previous_pd\n",
    "m['ECL variation due to PD changes'].folder = 'ECL'\n",
    "m['ECL variation due to PD changes (%)'] = m['ECL variation due to PD changes'] / m['ECL (DtD)']\n",
    "m['ECL variation due to PD changes (%)'].folder = 'ECL'\n",
    "m['ECL variation due to PD changes (%)'].formatter = percent_formatter"
   ]
  },
  {
   "cell_type": "markdown",
   "metadata": {},
   "source": [
    "ECL variation due to LGD changes"
   ]
  },
  {
   "cell_type": "code",
   "execution_count": 35,
   "metadata": {
    "execution": {
     "iopub.execute_input": "2020-12-15T06:49:50.079344Z",
     "iopub.status.busy": "2020-12-15T06:49:50.079088Z",
     "iopub.status.idle": "2020-12-15T06:49:50.220133Z",
     "shell.execute_reply": "2020-12-15T06:49:50.219512Z",
     "shell.execute_reply.started": "2020-12-15T06:49:50.079320Z"
    }
   },
   "outputs": [],
   "source": [
    "ecl_lgd_explain_stage_1 = tt.agg.sum_product(previous_contracts_store['Previous LGD'], contracts_store['EAD'], contracts_store['PD12'])\n",
    "ecl_lgd_explain_stage_2 = tt.agg.sum_product(previous_contracts_store['Previous LGD'], contracts_store['EAD'], contracts_store['PDLT'])\n",
    "ecl_lgd_explain_stage_3 = tt.agg.sum_product(previous_contracts_store['Previous LGD'], contracts_store['EAD'])\n",
    "\n",
    "ecl_with_previous_lgd = tt.filter(ecl_lgd_explain_stage_1, l['Stage'] == 1) + tt.filter(ecl_lgd_explain_stage_2, l['Stage'] == 2) + tt.filter(ecl_lgd_explain_stage_3, l['Stage'] == 3)\n",
    "\n",
    "m['ECL variation due to LGD changes'] = m['ECL'] - ecl_with_previous_lgd\n",
    "m['ECL variation due to LGD changes'].folder = 'ECL'\n",
    "m['ECL variation due to LGD changes (%)'] = m['ECL variation due to LGD changes'] / m['ECL (DtD)']\n",
    "m['ECL variation due to LGD changes (%)'].folder = 'ECL'\n",
    "m['ECL variation due to LGD changes (%)'].formatter = percent_formatter"
   ]
  },
  {
   "cell_type": "markdown",
   "metadata": {},
   "source": [
    "ECL variation due to EAD changes"
   ]
  },
  {
   "cell_type": "code",
   "execution_count": 36,
   "metadata": {
    "execution": {
     "iopub.execute_input": "2020-12-15T06:49:50.221380Z",
     "iopub.status.busy": "2020-12-15T06:49:50.221195Z",
     "iopub.status.idle": "2020-12-15T06:49:50.371086Z",
     "shell.execute_reply": "2020-12-15T06:49:50.370549Z",
     "shell.execute_reply.started": "2020-12-15T06:49:50.221357Z"
    }
   },
   "outputs": [],
   "source": [
    "ecl_ead_explain_stage_1 = tt.agg.sum_product(contracts_store['LGD'], previous_contracts_store['Previous EAD'], contracts_store['PD12'])\n",
    "ecl_ead_explain_stage_2 = tt.agg.sum_product(contracts_store['LGD'], previous_contracts_store['Previous EAD'], contracts_store['PDLT'])\n",
    "ecl_ead_explain_stage_3 = tt.agg.sum_product(contracts_store['LGD'], previous_contracts_store['Previous EAD'])\n",
    "\n",
    "ecl_with_previous_ead = tt.filter(ecl_ead_explain_stage_1, l['Stage'] == 1) + tt.filter(ecl_ead_explain_stage_2, l['Stage'] == 2) + tt.filter(ecl_ead_explain_stage_3, l['Stage'] == 3)\n",
    "\n",
    "m['ECL variation due to EAD changes'] = m['ECL'] - ecl_with_previous_ead\n",
    "m['ECL variation due to EAD changes'].folder = 'ECL'\n",
    "m['ECL variation due to EAD changes (%)'] = m['ECL variation due to EAD changes'] / m['ECL (DtD)']\n",
    "m['ECL variation due to EAD changes (%)'].folder = 'ECL'\n",
    "m['ECL variation due to EAD changes (%)'].formatter = percent_formatter"
   ]
  },
  {
   "cell_type": "markdown",
   "metadata": {},
   "source": [
    "#### Curring Time"
   ]
  },
  {
   "cell_type": "markdown",
   "metadata": {},
   "source": [
    "The **curing time** is ponderated per contract by the EAD. The way to ponderate is to multiply the curing time of each contract by its EAD and then divide by the total EAD of the segment associated with the contract."
   ]
  },
  {
   "cell_type": "code",
   "execution_count": 37,
   "metadata": {
    "execution": {
     "iopub.execute_input": "2020-12-15T06:49:50.372233Z",
     "iopub.status.busy": "2020-12-15T06:49:50.371891Z",
     "iopub.status.idle": "2020-12-15T06:49:50.573990Z",
     "shell.execute_reply": "2020-12-15T06:49:50.573451Z",
     "shell.execute_reply.started": "2020-12-15T06:49:50.372205Z"
    }
   },
   "outputs": [],
   "source": [
    "m['Time to Cure'] = tt.value(contracts_store['Time to Cure'])\n",
    "m['Time to Cure'].folder = 'Curring Time'\n",
    "\n",
    "m['Average Time to Cure'] = tt.agg.mean(contracts_store['Time to Cure'])\n",
    "m['Average Time to Cure'].folder = 'Curring Time'\n",
    "\n",
    "total_segment_ead = tt.parent_value(m['EAD'],{h['Segments']:1})\n",
    "\n",
    "m['Curring Time (EAD weighted)'] = tt.agg.sum(\n",
    "    tt.where(total_segment_ead != 0, m['Time to Cure'] * m['EAD'] / total_segment_ead),\n",
    "    scope=tt.scope.origin(l['Contract ID'])\n",
    ")\n",
    "m['Curring Time (EAD weighted)'].folder = 'Curring Time'\n",
    "\n",
    "m['Average Curring Time (EAD weighted)'] = tt.agg.mean(m['Curring Time (EAD weighted)'], scope=tt.scope.origin(l['Contract ID']))\n",
    "m['Average Curring Time (EAD weighted)'].folder = 'Curring Time'"
   ]
  },
  {
   "cell_type": "code",
   "execution_count": 38,
   "metadata": {
    "execution": {
     "iopub.execute_input": "2020-12-15T06:49:50.575224Z",
     "iopub.status.busy": "2020-12-15T06:49:50.575039Z",
     "iopub.status.idle": "2020-12-15T06:49:50.634375Z",
     "shell.execute_reply": "2020-12-15T06:49:50.633682Z",
     "shell.execute_reply.started": "2020-12-15T06:49:50.575202Z"
    }
   },
   "outputs": [
    {
     "data": {
      "application/vnd.atoti.query-result.v0+json": {
       "context": {
        "queriesTimeLimit": 30
       },
       "createEquivalentWidgetCode": "session.visualize()",
       "mdx": "SELECT [Measures].[Curring Time (EAD weighted)] ON COLUMNS FROM [IFRS9]"
      },
      "text/html": [
       "<div>\n",
       "<style scoped>\n",
       "    .dataframe tbody tr th:only-of-type {\n",
       "        vertical-align: middle;\n",
       "    }\n",
       "\n",
       "    .dataframe tbody tr th {\n",
       "        vertical-align: top;\n",
       "    }\n",
       "\n",
       "    .dataframe thead th {\n",
       "        text-align: right;\n",
       "    }\n",
       "</style>\n",
       "<table border=\"1\" class=\"dataframe\">\n",
       "  <thead>\n",
       "    <tr style=\"text-align: right;\">\n",
       "      <th></th>\n",
       "      <th>Curring Time (EAD weighted)</th>\n",
       "    </tr>\n",
       "  </thead>\n",
       "  <tbody>\n",
       "  </tbody>\n",
       "</table>\n",
       "</div>"
      ],
      "text/plain": [
       "Empty DataFrame\n",
       "Columns: [Curring Time (EAD weighted)]\n",
       "Index: []"
      ]
     },
     "execution_count": 38,
     "metadata": {},
     "output_type": "execute_result"
    }
   ],
   "source": [
    "cube.query(m['Curring Time (EAD weighted)'])"
   ]
  },
  {
   "cell_type": "markdown",
   "metadata": {},
   "source": [
    "#### NPL"
   ]
  },
  {
   "cell_type": "markdown",
   "metadata": {},
   "source": [
    "A bank loan is considered non-performing when more than 90 days pass without the borrower paying the agreed instalments or interest. **Non-performing loans** are also called \"bad debt\"."
   ]
  },
  {
   "cell_type": "markdown",
   "metadata": {},
   "source": [
    "Input"
   ]
  },
  {
   "cell_type": "code",
   "execution_count": 39,
   "metadata": {
    "execution": {
     "iopub.execute_input": "2020-12-15T06:49:50.635722Z",
     "iopub.status.busy": "2020-12-15T06:49:50.635410Z",
     "iopub.status.idle": "2020-12-15T06:49:50.692374Z",
     "shell.execute_reply": "2020-12-15T06:49:50.691864Z",
     "shell.execute_reply.started": "2020-12-15T06:49:50.635665Z"
    }
   },
   "outputs": [],
   "source": [
    "m['NPL'] = tt.value(clients_store['Non-Performing Loan'])\n",
    "m['NPL'].folder = 'NPL'"
   ]
  },
  {
   "cell_type": "markdown",
   "metadata": {},
   "source": [
    "Day to day"
   ]
  },
  {
   "cell_type": "code",
   "execution_count": 40,
   "metadata": {
    "execution": {
     "iopub.execute_input": "2020-12-15T06:49:50.693614Z",
     "iopub.status.busy": "2020-12-15T06:49:50.693434Z",
     "iopub.status.idle": "2020-12-15T06:49:50.788847Z",
     "shell.execute_reply": "2020-12-15T06:49:50.788338Z",
     "shell.execute_reply.started": "2020-12-15T06:49:50.693593Z"
    }
   },
   "outputs": [],
   "source": [
    "m['Previous NPL'] = tt.shift(m['NPL'], on=l['Reporting Date'], offset=-1)\n",
    "m['Previous NPL'].folder = 'NPL'\n",
    "\n",
    "m['NPL Variation'] = tt.where(m['NPL'] != m['Previous NPL'], 1, -1)\n",
    "m['NPL Variation'].folder = 'NPL'"
   ]
  },
  {
   "cell_type": "markdown",
   "metadata": {},
   "source": [
    "#### Matrix"
   ]
  },
  {
   "cell_type": "markdown",
   "metadata": {},
   "source": [
    "In credit risk, the term 'Vintage' refers to the month or quarter in which account was opened (loan was granted). In simple words, the vintage analysis measures the performance of a portfolio in different periods of time after the loan (or credit card) was granted. Performance can be measured in the form of cumulative charge-off rate, proportion of customers 30/60/90 days past due (DPD), utilization ratio, average balance etc."
   ]
  },
  {
   "cell_type": "markdown",
   "metadata": {},
   "source": [
    "Days Past Due"
   ]
  },
  {
   "cell_type": "code",
   "execution_count": 41,
   "metadata": {
    "execution": {
     "iopub.execute_input": "2020-12-15T06:49:50.789938Z",
     "iopub.status.busy": "2020-12-15T06:49:50.789768Z",
     "iopub.status.idle": "2020-12-15T06:49:50.921151Z",
     "shell.execute_reply": "2020-12-15T06:49:50.920585Z",
     "shell.execute_reply.started": "2020-12-15T06:49:50.789917Z"
    }
   },
   "outputs": [],
   "source": [
    "m['DaysPastDue'] = tt.agg.mean(contracts_store['DaysPastDue'])\n",
    "m['DaysPastDue'].folder = 'Matrix'\n",
    "\n",
    "m['Minimum DaysPastDue'] = tt.agg.min(contracts_store['DaysPastDue'])\n",
    "m['Minimum DaysPastDue'].folder = 'Matrix'\n",
    "\n",
    "m['Maximum DaysPastDue'] = tt.agg.max(contracts_store['DaysPastDue'])\n",
    "m['Maximum DaysPastDue'].folder = 'Matrix'"
   ]
  },
  {
   "cell_type": "markdown",
   "metadata": {},
   "source": [
    "% of Contracts"
   ]
  },
  {
   "cell_type": "code",
   "execution_count": 42,
   "metadata": {
    "execution": {
     "iopub.execute_input": "2020-12-15T06:49:50.922445Z",
     "iopub.status.busy": "2020-12-15T06:49:50.922185Z",
     "iopub.status.idle": "2020-12-15T06:49:51.042532Z",
     "shell.execute_reply": "2020-12-15T06:49:51.041944Z",
     "shell.execute_reply.started": "2020-12-15T06:49:50.922419Z"
    }
   },
   "outputs": [],
   "source": [
    "index_zero_count = tt.at(m['contributors.COUNT'], {l['Reporting Index']: 0})\n",
    "index_zero_count_foreach_index = tt.filter(index_zero_count, l['Reporting Index'] > 1)\n",
    "count_of_dayspastdue = tt.agg.sum(tt.where(m['DaysPastDue'] > 1, m['contributors.COUNT']), scope=tt.scope.origin(l['Contract ID']))\n",
    "\n",
    "m['% of Contracts'] = tt.agg.mean(count_of_dayspastdue / index_zero_count_foreach_index, scope=tt.scope.origin(l['Month']))\n",
    "m['% of Contracts'].formatter = percent_formatter\n",
    "m['% of Contracts'].folder = 'Matrix'"
   ]
  },
  {
   "cell_type": "code",
   "execution_count": 43,
   "metadata": {
    "execution": {
     "iopub.execute_input": "2020-12-15T06:49:51.043685Z",
     "iopub.status.busy": "2020-12-15T06:49:51.043405Z",
     "iopub.status.idle": "2020-12-15T06:49:51.095035Z",
     "shell.execute_reply": "2020-12-15T06:49:51.094470Z",
     "shell.execute_reply.started": "2020-12-15T06:49:51.043659Z"
    }
   },
   "outputs": [
    {
     "data": {
      "application/vnd.atoti.query-result.v0+json": {
       "context": {
        "queriesTimeLimit": 30
       },
       "createEquivalentWidgetCode": "session.visualize()",
       "mdx": "SELECT {[Measures].[ECL],[Measures].[Previous ECL]} ON COLUMNS FROM [IFRS9]"
      },
      "text/html": [
       "<div>\n",
       "<style scoped>\n",
       "    .dataframe tbody tr th:only-of-type {\n",
       "        vertical-align: middle;\n",
       "    }\n",
       "\n",
       "    .dataframe tbody tr th {\n",
       "        vertical-align: top;\n",
       "    }\n",
       "\n",
       "    .dataframe thead th {\n",
       "        text-align: right;\n",
       "    }\n",
       "</style>\n",
       "<table border=\"1\" class=\"dataframe\">\n",
       "  <thead>\n",
       "    <tr style=\"text-align: right;\">\n",
       "      <th></th>\n",
       "      <th>ECL</th>\n",
       "      <th>Previous ECL</th>\n",
       "    </tr>\n",
       "  </thead>\n",
       "  <tbody>\n",
       "    <tr>\n",
       "      <th>0</th>\n",
       "      <td>4,928.54</td>\n",
       "      <td>&lt;NA&gt;</td>\n",
       "    </tr>\n",
       "  </tbody>\n",
       "</table>\n",
       "</div>"
      ],
      "text/plain": [
       "        ECL Previous ECL\n",
       "0  4,928.54         <NA>"
      ]
     },
     "execution_count": 43,
     "metadata": {},
     "output_type": "execute_result"
    }
   ],
   "source": [
    "cube.query(m['ECL'], m['Previous ECL'])"
   ]
  },
  {
   "cell_type": "markdown",
   "metadata": {},
   "source": [
    "#### Credit Cards"
   ]
  },
  {
   "cell_type": "markdown",
   "metadata": {},
   "source": [
    "Input"
   ]
  },
  {
   "cell_type": "code",
   "execution_count": 44,
   "metadata": {
    "execution": {
     "iopub.execute_input": "2020-12-15T06:49:51.096293Z",
     "iopub.status.busy": "2020-12-15T06:49:51.096033Z",
     "iopub.status.idle": "2020-12-15T06:49:51.185798Z",
     "shell.execute_reply": "2020-12-15T06:49:51.185253Z",
     "shell.execute_reply.started": "2020-12-15T06:49:51.096265Z"
    }
   },
   "outputs": [],
   "source": [
    "m['Contracts Number'] = tt.agg.count_distinct(contracts_store['Contract ID'])\n",
    "m['Contracts Number'].folder = 'Cards'\n",
    "m['Segments Number'] = tt.agg.count_distinct(contracts_static_store['Segment'])\n",
    "m['Segments Number'].folder = 'Cards'\n",
    "\n",
    "days_card_default_init_bitmap = tt.agg.sum(credit_cards_store['DaysCardDefault']) "
   ]
  },
  {
   "cell_type": "markdown",
   "metadata": {},
   "source": [
    "Default"
   ]
  },
  {
   "cell_type": "code",
   "execution_count": 45,
   "metadata": {
    "execution": {
     "iopub.execute_input": "2020-12-15T06:49:51.187043Z",
     "iopub.status.busy": "2020-12-15T06:49:51.186818Z",
     "iopub.status.idle": "2020-12-15T06:49:51.390190Z",
     "shell.execute_reply": "2020-12-15T06:49:51.389436Z",
     "shell.execute_reply.started": "2020-12-15T06:49:51.187017Z"
    }
   },
   "outputs": [],
   "source": [
    "days_card_default_init = tt.filter(days_card_default_init_bitmap, l['Client Type'] == 'Individual')\n",
    "\n",
    "m['DaysCardDefault'] = tt.agg._stop(tt.agg.sum(days_card_default_init / m['Contracts Number'], scope=tt.scope.origin(l['Client ID'])),l['Card Holder\\'s Name'])\n",
    "m['DaysCardDefault'].folder = 'Cards'\n",
    "\n",
    "m['Total number default dates'] = tt.agg.sum(\n",
    "    tt.agg.sum(\n",
    "        tt.where(days_card_default_init != 0, 1),\n",
    "        scope = tt.scope.cumulative(l['Reporting Date'])\n",
    "    ),\n",
    "    scope=tt.scope.origin(l['Client ID'])\n",
    ")\n",
    "m['Total number default dates'].folder = 'Cards'\n",
    "\n",
    "m['New Default'] = tt.agg.sum(\n",
    "    tt.where(\n",
    "        (days_card_default_init != 0) & (tt.agg.sum(previous_credit_cards_store['Previous DaysCardDefault']) == 0),\n",
    "        1\n",
    "    ),\n",
    "    scope=tt.scope.origin(l['Client ID'], l['Reporting Date'])\n",
    ")\n",
    "m['New Default'].folder = 'Cards'"
   ]
  },
  {
   "cell_type": "markdown",
   "metadata": {},
   "source": [
    "## Data loading"
   ]
  },
  {
   "cell_type": "code",
   "execution_count": 46,
   "metadata": {
    "execution": {
     "iopub.execute_input": "2020-12-15T06:49:51.391345Z",
     "iopub.status.busy": "2020-12-15T06:49:51.391156Z",
     "iopub.status.idle": "2020-12-15T06:49:51.393770Z",
     "shell.execute_reply": "2020-12-15T06:49:51.393167Z",
     "shell.execute_reply.started": "2020-12-15T06:49:51.391323Z"
    }
   },
   "outputs": [],
   "source": [
    "# session.load_all_data()"
   ]
  },
  {
   "cell_type": "markdown",
   "metadata": {},
   "source": [
    "### Simulations"
   ]
  },
  {
   "cell_type": "markdown",
   "metadata": {},
   "source": [
    "#### Measure simulations\n",
    "In order to create a simulation, you need to answer to the following points:\n",
    "- How to define the scope of the simulation.\n",
    "- On what measure is the simulation about.\n",
    "- What kind of simulation is it.\n",
    "\n",
    "In this example:\n",
    "- The scope is defined by the Reporting Date, the Legal Entity, the Rating and the Client Type levels.\n",
    "- The simulation will be done on the EAD measure.\n",
    "- The EAD is going to be scaled."
   ]
  },
  {
   "cell_type": "raw",
   "metadata": {},
   "source": [
    "ead_simulation = cube.setup_simulation(\n",
    "    'EAD scaling Simulation',\n",
    "    levels=[l['Reporting Date'], l['Legal Entity'], l['Rating'], l['Client Type']],\n",
    "    multiply=[m['EAD']]\n",
    ")"
   ]
  },
  {
   "cell_type": "markdown",
   "metadata": {},
   "source": [
    "There are 2 ways to perform simulations with this schema:\n",
    "- From ActiveUI (menu Measure simulations).\n",
    "- From the Notebook, with the command below as example."
   ]
  },
  {
   "cell_type": "raw",
   "metadata": {},
   "source": [
    "ead_simulation.scenarios['Simulation Scenario'] += ('2019-06-30', 'Germany', 'A', 'Corporate', 1.3)"
   ]
  },
  {
   "cell_type": "markdown",
   "metadata": {},
   "source": [
    "#### Enable source simulations"
   ]
  },
  {
   "cell_type": "code",
   "execution_count": 47,
   "metadata": {
    "execution": {
     "iopub.execute_input": "2020-12-15T06:49:51.395024Z",
     "iopub.status.busy": "2020-12-15T06:49:51.394835Z",
     "iopub.status.idle": "2020-12-15T06:49:51.398551Z",
     "shell.execute_reply": "2020-12-15T06:49:51.397967Z",
     "shell.execute_reply.started": "2020-12-15T06:49:51.395002Z"
    }
   },
   "outputs": [],
   "source": [
    "contracts_store.source_simulation_enabled = True\n",
    "clients_store.source_simulation_enabled = True\n",
    "contracts_static_store.source_simulation_enabled = True"
   ]
  },
  {
   "cell_type": "markdown",
   "metadata": {},
   "source": [
    "## Limits"
   ]
  },
  {
   "cell_type": "markdown",
   "metadata": {},
   "source": [
    "#### EAD"
   ]
  },
  {
   "cell_type": "code",
   "execution_count": 48,
   "metadata": {
    "execution": {
     "iopub.execute_input": "2020-12-15T06:49:51.399916Z",
     "iopub.status.busy": "2020-12-15T06:49:51.399707Z",
     "iopub.status.idle": "2020-12-15T06:49:51.593623Z",
     "shell.execute_reply": "2020-12-15T06:49:51.593062Z",
     "shell.execute_reply.started": "2020-12-15T06:49:51.399891Z"
    }
   },
   "outputs": [],
   "source": [
    "m['EAD Limit'] = tt.agg.mean(clients_store['EAD Limit'])\n",
    "m['EAD Limit'].folder = 'Limits'\n",
    "\n",
    "m['EAD Utilisation %'] = tt.where(m['EAD Limit'] != 0.0, tt.agg.mean(m['EAD']/ m['EAD Limit'], scope=tt.scope.origin(l['Client ID'])))\n",
    "m['EAD Utilisation %'].formatter = percent_formatter\n",
    "m['EAD Utilisation %'].folder = 'Limits'\n",
    "\n",
    "m['EAD Utilisation Absolute'] = m['EAD Limit'] - m['EAD']\n",
    "m['EAD Utilisation Absolute'].folder = 'Limits'"
   ]
  },
  {
   "cell_type": "markdown",
   "metadata": {},
   "source": [
    "#### Credit Cards"
   ]
  },
  {
   "cell_type": "code",
   "execution_count": 49,
   "metadata": {
    "execution": {
     "iopub.execute_input": "2020-12-15T06:49:51.594842Z",
     "iopub.status.busy": "2020-12-15T06:49:51.594655Z",
     "iopub.status.idle": "2020-12-15T06:49:51.829463Z",
     "shell.execute_reply": "2020-12-15T06:49:51.828962Z",
     "shell.execute_reply.started": "2020-12-15T06:49:51.594819Z"
    }
   },
   "outputs": [],
   "source": [
    "credit_card_limit_initial = tt.agg.sum(credit_cards_store['Credit Limit'])\n",
    "m['Credit Card Limit'] = tt.filter(credit_card_limit_initial, l['Segment'] == 'Cards')\n",
    "m['Credit Card Limit'].folder = 'Cards'\n",
    "\n",
    "balance_initial = tt.agg.sum(credit_cards_store['Balance'])\n",
    "m['Balance'] = tt.filter(balance_initial, l['Segment'] == 'Cards')\n",
    "m['Balance'].folder = 'Cards'\n",
    "\n",
    "m['Card Utilisation %'] = m['Balance'] / m['Credit Card Limit']\n",
    "m['Card Utilisation %'].formatter= percent_formatter\n",
    "m['Card Utilisation %'].folder = 'Cards'\n",
    "\n",
    "m['Card Utilisation Absolute'] = m['Credit Card Limit'] - m['Balance']\n",
    "m['Card Utilisation Absolute'].folder = 'Cards'"
   ]
  },
  {
   "cell_type": "code",
   "execution_count": 50,
   "metadata": {
    "execution": {
     "iopub.execute_input": "2020-12-15T06:49:51.830499Z",
     "iopub.status.busy": "2020-12-15T06:49:51.830329Z",
     "iopub.status.idle": "2020-12-15T06:49:51.833827Z",
     "shell.execute_reply": "2020-12-15T06:49:51.833285Z",
     "shell.execute_reply.started": "2020-12-15T06:49:51.830479Z"
    }
   },
   "outputs": [
    {
     "data": {
      "text/plain": [
       "'http://localhost:40751'"
      ]
     },
     "execution_count": 50,
     "metadata": {},
     "output_type": "execute_result"
    }
   ],
   "source": [
    "session.url"
   ]
  },
  {
   "cell_type": "markdown",
   "metadata": {},
   "source": [
    "## Bitmap"
   ]
  },
  {
   "cell_type": "markdown",
   "metadata": {},
   "source": [
    "**Warning**: a measure used for measure simulation can not be included into the Bitmap."
   ]
  },
  {
   "cell_type": "code",
   "execution_count": 51,
   "metadata": {
    "execution": {
     "iopub.execute_input": "2020-12-15T06:49:51.835227Z",
     "iopub.status.busy": "2020-12-15T06:49:51.834885Z",
     "iopub.status.idle": "2020-12-15T06:49:51.948382Z",
     "shell.execute_reply": "2020-12-15T06:49:51.947786Z",
     "shell.execute_reply.started": "2020-12-15T06:49:51.835199Z"
    }
   },
   "outputs": [],
   "source": [
    "cube._aggregate_providers = [\n",
    "    leaf(\n",
    "        levels=[\n",
    "            l['Client ID'],\n",
    "            l['Reporting Date'],\n",
    "            l['Legal Entity'],\n",
    "            l['Segment'],\n",
    "            l['Client Type'],\n",
    "            l['Stage']\n",
    "        ], \n",
    "        measures=[\n",
    "            m['EAD Limit'], \n",
    "            m['EAD'], \n",
    "            m['LGD'], \n",
    "#             m['NPL'],\n",
    "#             m['Stage'],\n",
    "            m['Residual Maturity'],\n",
    "            m['Off Balance EAD'],\n",
    "            m['On Balance EAD'],\n",
    "            m['PD (12)'],\n",
    "            m['Opening PD (12)'],\n",
    "            m['LGD'],\n",
    "#             m['Time to Cure'],\n",
    "            m['DaysPastDue'],\n",
    "            m['Minimum DaysPastDue'],\n",
    "            m['Maximum DaysPastDue'],\n",
    "            credit_card_limit_initial,\n",
    "            balance_initial,\n",
    "            m['Contracts Number'],\n",
    "            days_card_default_init_bitmap,\n",
    "            ecl_stage_1,\n",
    "            ecl_stage_2,\n",
    "            ecl_stage_3,\n",
    "            ecl_pd_explain_stage_1,\n",
    "            ecl_pd_explain_stage_2,\n",
    "            ecl_lgd_explain_stage_1,\n",
    "            ecl_lgd_explain_stage_2,\n",
    "            ecl_lgd_explain_stage_3,\n",
    "            ecl_ead_explain_stage_1,\n",
    "            ecl_ead_explain_stage_2,\n",
    "            ecl_ead_explain_stage_3\n",
    "        ]\n",
    "    )\n",
    "]"
   ]
  },
  {
   "cell_type": "code",
   "execution_count": null,
   "metadata": {},
   "outputs": [],
   "source": []
  }
 ],
 "metadata": {
  "kernelspec": {
   "display_name": "Python 3",
   "language": "python",
   "name": "python3"
  },
  "language_info": {
   "codemirror_mode": {
    "name": "ipython",
    "version": 3
   },
   "file_extension": ".py",
   "mimetype": "text/x-python",
   "name": "python",
   "nbconvert_exporter": "python",
   "pygments_lexer": "ipython3",
   "version": "3.7.9"
  }
 },
 "nbformat": 4,
 "nbformat_minor": 4
}
