{
 "cells": [
  {
   "cell_type": "markdown",
   "metadata": {},
   "source": [
    "# Pricing simulations around product classes\n",
    "\n",
    "For more information on the classification algorithm and a high-level overview of this notebook, [check out our article on atoti.io](https://www.atoti.io/data-dive-how-to-improve-pricing-strategies-with-a-set-of-checkout-receipts/).\n",
    "\n",
    "## Introduction\n",
    "\n",
    "In this notebook, we will showcase a simplified example of how a retailer can achieve a better price perception from its customers, while keeping or even slightly increasing its margins.\n",
    "\n",
    "## Classification algorithm\n",
    "\n",
    "With 3 months worth of receipts, we aim to classify the products into three categories:\n",
    "- Driver products: Those are products that make people come to the store, their price is often compared to the competition. A typical example would be a drill. \n",
    "- Complementary products: Those are products that people do not intend to buy before coming to the store, they generate so called \"opportunity\" sales. Their price is most of the time not known. Examples are drill batteries or chewing gums near the checkout area.\n",
    "- Independent products: This third group of products contains products that are often sold alone. They tend to be large and more expensive and thus also have a tendency to be compared.  \n",
    "\n",
    "In order to do so, we derived the below values beforehand to help us with the classification:\n",
    "- __solo_sales_ratio__: product's tendancy to be sold primarily alone. It's the ratio between the number of times the product as sold alone and the total number of sales of this product\n",
    "- __product_receipt_score__: product scoring computed by counting the number of neighbors (products in the same receipt) with a lower scoring on the _solo_sales_ratio_, and dividing it by the total number of neighbors."
   ]
  },
  {
   "cell_type": "code",
   "execution_count": 1,
   "metadata": {},
   "outputs": [],
   "source": [
    "# Install matplotlib and sklearn by running this code\n",
    "\n",
    "# ! pip install matplotlib sklearn"
   ]
  },
  {
   "cell_type": "code",
   "execution_count": 2,
   "metadata": {},
   "outputs": [],
   "source": [
    "import pandas as pd"
   ]
  },
  {
   "cell_type": "markdown",
   "metadata": {},
   "source": [
    "Let's have a look at the products and their scoring based on what we have gathered from the receipts. "
   ]
  },
  {
   "cell_type": "code",
   "execution_count": 3,
   "metadata": {},
   "outputs": [
    {
     "data": {
      "text/html": [
       "<div>\n",
       "<style scoped>\n",
       "    .dataframe tbody tr th:only-of-type {\n",
       "        vertical-align: middle;\n",
       "    }\n",
       "\n",
       "    .dataframe tbody tr th {\n",
       "        vertical-align: top;\n",
       "    }\n",
       "\n",
       "    .dataframe thead th {\n",
       "        text-align: right;\n",
       "    }\n",
       "</style>\n",
       "<table border=\"1\" class=\"dataframe\">\n",
       "  <thead>\n",
       "    <tr style=\"text-align: right;\">\n",
       "      <th></th>\n",
       "      <th>ProductId</th>\n",
       "      <th>edge_purchases</th>\n",
       "      <th>n_purchases</th>\n",
       "      <th>solo_purchases</th>\n",
       "      <th>solo_sales_ratio</th>\n",
       "      <th>product_receipt_score</th>\n",
       "    </tr>\n",
       "  </thead>\n",
       "  <tbody>\n",
       "    <tr>\n",
       "      <th>0</th>\n",
       "      <td>67130910</td>\n",
       "      <td>66.0</td>\n",
       "      <td>141.0</td>\n",
       "      <td>75.0</td>\n",
       "      <td>0.531915</td>\n",
       "      <td>0.974194</td>\n",
       "    </tr>\n",
       "    <tr>\n",
       "      <th>1</th>\n",
       "      <td>67901421</td>\n",
       "      <td>523.0</td>\n",
       "      <td>1021.0</td>\n",
       "      <td>212.0</td>\n",
       "      <td>0.208046</td>\n",
       "      <td>0.797941</td>\n",
       "    </tr>\n",
       "    <tr>\n",
       "      <th>2</th>\n",
       "      <td>70645722</td>\n",
       "      <td>766.0</td>\n",
       "      <td>919.0</td>\n",
       "      <td>153.0</td>\n",
       "      <td>0.166485</td>\n",
       "      <td>0.223958</td>\n",
       "    </tr>\n",
       "    <tr>\n",
       "      <th>3</th>\n",
       "      <td>70748454</td>\n",
       "      <td>498.0</td>\n",
       "      <td>794.0</td>\n",
       "      <td>233.0</td>\n",
       "      <td>0.293756</td>\n",
       "      <td>0.372562</td>\n",
       "    </tr>\n",
       "    <tr>\n",
       "      <th>4</th>\n",
       "      <td>82008925</td>\n",
       "      <td>3836.0</td>\n",
       "      <td>5281.0</td>\n",
       "      <td>1445.0</td>\n",
       "      <td>0.273622</td>\n",
       "      <td>0.676743</td>\n",
       "    </tr>\n",
       "  </tbody>\n",
       "</table>\n",
       "</div>"
      ],
      "text/plain": [
       "   ProductId  edge_purchases  n_purchases  solo_purchases  solo_sales_ratio  \\\n",
       "0   67130910            66.0        141.0            75.0          0.531915   \n",
       "1   67901421           523.0       1021.0           212.0          0.208046   \n",
       "2   70645722           766.0        919.0           153.0          0.166485   \n",
       "3   70748454           498.0        794.0           233.0          0.293756   \n",
       "4   82008925          3836.0       5281.0          1445.0          0.273622   \n",
       "\n",
       "   product_receipt_score  \n",
       "0               0.974194  \n",
       "1               0.797941  \n",
       "2               0.223958  \n",
       "3               0.372562  \n",
       "4               0.676743  "
      ]
     },
     "execution_count": 3,
     "metadata": {},
     "output_type": "execute_result"
    }
   ],
   "source": [
    "df_product_score = pd.read_csv(\"https://data.atoti.io/notebooks/products-classification/products_scoring.csv\")\n",
    "df_product_score.head()"
   ]
  },
  {
   "cell_type": "markdown",
   "metadata": {},
   "source": [
    "#### Product classification with K-Means\n",
    "\n",
    "Let's extract the features which we are going to apply [K-means](https://en.wikipedia.org/wiki/K-means_clustering) on in order to obtain the classifications."
   ]
  },
  {
   "cell_type": "code",
   "execution_count": 4,
   "metadata": {},
   "outputs": [
    {
     "data": {
      "text/html": [
       "<div>\n",
       "<style scoped>\n",
       "    .dataframe tbody tr th:only-of-type {\n",
       "        vertical-align: middle;\n",
       "    }\n",
       "\n",
       "    .dataframe tbody tr th {\n",
       "        vertical-align: top;\n",
       "    }\n",
       "\n",
       "    .dataframe thead th {\n",
       "        text-align: right;\n",
       "    }\n",
       "</style>\n",
       "<table border=\"1\" class=\"dataframe\">\n",
       "  <thead>\n",
       "    <tr style=\"text-align: right;\">\n",
       "      <th></th>\n",
       "      <th>solo_sales_ratio</th>\n",
       "      <th>product_receipt_score</th>\n",
       "    </tr>\n",
       "    <tr>\n",
       "      <th>ProductId</th>\n",
       "      <th></th>\n",
       "      <th></th>\n",
       "    </tr>\n",
       "  </thead>\n",
       "  <tbody>\n",
       "    <tr>\n",
       "      <th>67130910</th>\n",
       "      <td>0.531915</td>\n",
       "      <td>0.974194</td>\n",
       "    </tr>\n",
       "    <tr>\n",
       "      <th>67901421</th>\n",
       "      <td>0.208046</td>\n",
       "      <td>0.797941</td>\n",
       "    </tr>\n",
       "    <tr>\n",
       "      <th>70645722</th>\n",
       "      <td>0.166485</td>\n",
       "      <td>0.223958</td>\n",
       "    </tr>\n",
       "    <tr>\n",
       "      <th>70748454</th>\n",
       "      <td>0.293756</td>\n",
       "      <td>0.372562</td>\n",
       "    </tr>\n",
       "    <tr>\n",
       "      <th>82008925</th>\n",
       "      <td>0.273622</td>\n",
       "      <td>0.676743</td>\n",
       "    </tr>\n",
       "  </tbody>\n",
       "</table>\n",
       "</div>"
      ],
      "text/plain": [
       "           solo_sales_ratio  product_receipt_score\n",
       "ProductId                                         \n",
       "67130910           0.531915               0.974194\n",
       "67901421           0.208046               0.797941\n",
       "70645722           0.166485               0.223958\n",
       "70748454           0.293756               0.372562\n",
       "82008925           0.273622               0.676743"
      ]
     },
     "execution_count": 4,
     "metadata": {},
     "output_type": "execute_result"
    }
   ],
   "source": [
    "df_classification = df_product_score[\n",
    "    [\"ProductId\", \"solo_sales_ratio\", \"product_receipt_score\"]\n",
    "].copy()\n",
    "\n",
    "# ProductId is needed to reconcile the products and its classification\n",
    "df_classification.set_index(\"ProductId\", inplace=True)\n",
    "df_classification.head()"
   ]
  },
  {
   "cell_type": "markdown",
   "metadata": {},
   "source": [
    "As mentioned earlier, we needed 3 clusters - driver, complementary and independent."
   ]
  },
  {
   "cell_type": "code",
   "execution_count": 5,
   "metadata": {},
   "outputs": [],
   "source": [
    "from sklearn.cluster import KMeans\n",
    "\n",
    "kmeans = KMeans(n_clusters=3, random_state=0).fit(df_classification)\n",
    "results = kmeans.predict(df_classification)"
   ]
  },
  {
   "cell_type": "markdown",
   "metadata": {},
   "source": [
    "The below plot shows the result of the K-means clustering."
   ]
  },
  {
   "cell_type": "code",
   "execution_count": 6,
   "metadata": {},
   "outputs": [
    {
     "data": {
      "image/png": "[encoded data removed]",
      "text/plain": [
       "<Figure size 432x288 with 1 Axes>"
      ]
     },
     "metadata": {
      "needs_background": "light"
     },
     "output_type": "display_data"
    }
   ],
   "source": [
    "import matplotlib.patches as mpatches\n",
    "import matplotlib.pyplot as plt\n",
    "import numpy as np\n",
    "\n",
    "colormap = np.array([\"orange\", \"red\", \"purple\"])\n",
    "\n",
    "data_to_plot = df_classification.to_numpy()\n",
    "fig = plt.figure()\n",
    "ax = plt.axes()\n",
    "ax.scatter(\n",
    "    data_to_plot[:, 0], data_to_plot[:, 1], c=colormap[results], s=10, cmap=\"viridis\"\n",
    ")\n",
    "centers = kmeans.cluster_centers_\n",
    "ax.scatter(centers[:, 0], centers[:, 1], c=\"black\", s=200, alpha=0.5)\n",
    "cluster_1 = mpatches.Patch(color=\"red\", label=\"independent\")\n",
    "cluster_2 = mpatches.Patch(color=\"orange\", label=\"driver\")\n",
    "cluster_3 = mpatches.Patch(color=\"purple\", label=\"complementary\")\n",
    "plt.legend(handles=[cluster_1, cluster_2, cluster_3])\n",
    "ax.set_xlabel(\"solo_sales_ratio\")\n",
    "ax.set_ylabel(\"product_receipt_score\")\n",
    "\n",
    "plt.show()"
   ]
  },
  {
   "cell_type": "markdown",
   "metadata": {},
   "source": [
    "Let's set the result back into the dataset to see the product classification."
   ]
  },
  {
   "cell_type": "code",
   "execution_count": 7,
   "metadata": {},
   "outputs": [],
   "source": [
    "df_classification[\"class\"] = results"
   ]
  },
  {
   "cell_type": "markdown",
   "metadata": {},
   "source": [
    "Since independent products are products that are most frequently sold by itself, its _solo_sales_ratio_ tends towards 1. Therefore, it is also most likely that the rest of the products in the same receipt have lower _solo_sales_ratio_. We can then infer that independent products have _product_receipt_score_ towards 1 as well.  \n",
    "\n",
    "As we see below, class 1 is likely to be the independent products."
   ]
  },
  {
   "cell_type": "code",
   "execution_count": 8,
   "metadata": {},
   "outputs": [
    {
     "data": {
      "text/html": [
       "<div>\n",
       "<style scoped>\n",
       "    .dataframe tbody tr th:only-of-type {\n",
       "        vertical-align: middle;\n",
       "    }\n",
       "\n",
       "    .dataframe tbody tr th {\n",
       "        vertical-align: top;\n",
       "    }\n",
       "\n",
       "    .dataframe thead th {\n",
       "        text-align: right;\n",
       "    }\n",
       "</style>\n",
       "<table border=\"1\" class=\"dataframe\">\n",
       "  <thead>\n",
       "    <tr style=\"text-align: right;\">\n",
       "      <th></th>\n",
       "      <th>solo_sales_ratio</th>\n",
       "      <th>product_receipt_score</th>\n",
       "      <th>class</th>\n",
       "    </tr>\n",
       "    <tr>\n",
       "      <th>ProductId</th>\n",
       "      <th></th>\n",
       "      <th></th>\n",
       "      <th></th>\n",
       "    </tr>\n",
       "  </thead>\n",
       "  <tbody>\n",
       "    <tr>\n",
       "      <th>69395571</th>\n",
       "      <td>1.0</td>\n",
       "      <td>1.0</td>\n",
       "      <td>2</td>\n",
       "    </tr>\n",
       "    <tr>\n",
       "      <th>73245802</th>\n",
       "      <td>1.0</td>\n",
       "      <td>1.0</td>\n",
       "      <td>2</td>\n",
       "    </tr>\n",
       "    <tr>\n",
       "      <th>70854014</th>\n",
       "      <td>1.0</td>\n",
       "      <td>1.0</td>\n",
       "      <td>2</td>\n",
       "    </tr>\n",
       "    <tr>\n",
       "      <th>82054056</th>\n",
       "      <td>1.0</td>\n",
       "      <td>1.0</td>\n",
       "      <td>2</td>\n",
       "    </tr>\n",
       "    <tr>\n",
       "      <th>80139942</th>\n",
       "      <td>1.0</td>\n",
       "      <td>1.0</td>\n",
       "      <td>2</td>\n",
       "    </tr>\n",
       "  </tbody>\n",
       "</table>\n",
       "</div>"
      ],
      "text/plain": [
       "           solo_sales_ratio  product_receipt_score  class\n",
       "ProductId                                                \n",
       "69395571                1.0                    1.0      2\n",
       "73245802                1.0                    1.0      2\n",
       "70854014                1.0                    1.0      2\n",
       "82054056                1.0                    1.0      2\n",
       "80139942                1.0                    1.0      2"
      ]
     },
     "execution_count": 8,
     "metadata": {},
     "output_type": "execute_result"
    }
   ],
   "source": [
    "df_classification.loc[(df_classification[\"product_receipt_score\"] > 0.5)].sort_values(\n",
    "    by=[\"product_receipt_score\"], ascending=False\n",
    ").head(5)"
   ]
  },
  {
   "cell_type": "markdown",
   "metadata": {},
   "source": [
    "Since complementary products are usually brought alongside the driver products, its _solo_sales_ratio_ tends towards 0. Its _solo_sales_ratio_ would probably be the lowest since its _solo_sales_ratio_ would normally be lower than the other two product categories.  \n",
    "\n",
    "Class 2 below is most likely complementary products. Therefore class 0 is the driver products.  \n",
    "This could be explained by the fact that driver products have a higher likelihood of being sold alone compared to complementary products, so its _solo_sales_ratio_ theoretically would be lesser than independent products but higher than complementary products. The same implies for its _product_receipt_score_ since it probably has more products (the complementary) in the same receipt that have lower _solo_sales_ratio_ than itself."
   ]
  },
  {
   "cell_type": "code",
   "execution_count": 9,
   "metadata": {},
   "outputs": [
    {
     "data": {
      "text/html": [
       "<div>\n",
       "<style scoped>\n",
       "    .dataframe tbody tr th:only-of-type {\n",
       "        vertical-align: middle;\n",
       "    }\n",
       "\n",
       "    .dataframe tbody tr th {\n",
       "        vertical-align: top;\n",
       "    }\n",
       "\n",
       "    .dataframe thead th {\n",
       "        text-align: right;\n",
       "    }\n",
       "</style>\n",
       "<table border=\"1\" class=\"dataframe\">\n",
       "  <thead>\n",
       "    <tr style=\"text-align: right;\">\n",
       "      <th></th>\n",
       "      <th>solo_sales_ratio</th>\n",
       "      <th>product_receipt_score</th>\n",
       "      <th>class</th>\n",
       "    </tr>\n",
       "    <tr>\n",
       "      <th>ProductId</th>\n",
       "      <th></th>\n",
       "      <th></th>\n",
       "      <th></th>\n",
       "    </tr>\n",
       "  </thead>\n",
       "  <tbody>\n",
       "    <tr>\n",
       "      <th>62024851</th>\n",
       "      <td>0.0</td>\n",
       "      <td>0.0</td>\n",
       "      <td>1</td>\n",
       "    </tr>\n",
       "    <tr>\n",
       "      <th>69313125</th>\n",
       "      <td>0.0</td>\n",
       "      <td>0.0</td>\n",
       "      <td>1</td>\n",
       "    </tr>\n",
       "    <tr>\n",
       "      <th>69311522</th>\n",
       "      <td>0.0</td>\n",
       "      <td>0.0</td>\n",
       "      <td>1</td>\n",
       "    </tr>\n",
       "    <tr>\n",
       "      <th>66786293</th>\n",
       "      <td>0.0</td>\n",
       "      <td>0.0</td>\n",
       "      <td>1</td>\n",
       "    </tr>\n",
       "    <tr>\n",
       "      <th>70679595</th>\n",
       "      <td>0.0</td>\n",
       "      <td>0.0</td>\n",
       "      <td>1</td>\n",
       "    </tr>\n",
       "  </tbody>\n",
       "</table>\n",
       "</div>"
      ],
      "text/plain": [
       "           solo_sales_ratio  product_receipt_score  class\n",
       "ProductId                                                \n",
       "62024851                0.0                    0.0      1\n",
       "69313125                0.0                    0.0      1\n",
       "69311522                0.0                    0.0      1\n",
       "66786293                0.0                    0.0      1\n",
       "70679595                0.0                    0.0      1"
      ]
     },
     "execution_count": 9,
     "metadata": {},
     "output_type": "execute_result"
    }
   ],
   "source": [
    "df_classification.loc[(df_classification[\"product_receipt_score\"] < 0.5)].sort_values(\n",
    "    by=[\"product_receipt_score\"]\n",
    ").head(5)"
   ]
  },
  {
   "cell_type": "markdown",
   "metadata": {},
   "source": [
    "Let's map the class to its classification labels:"
   ]
  },
  {
   "cell_type": "code",
   "execution_count": 10,
   "metadata": {},
   "outputs": [],
   "source": [
    "df_classification.loc[df_classification[\"class\"] == 0, \"Product Class\"] = \"Driver\"\n",
    "df_classification.loc[df_classification[\"class\"] == 1, \"Product Class\"] = \"Independent\"\n",
    "df_classification.loc[\n",
    "    df_classification[\"class\"] == 2, \"Product Class\"\n",
    "] = \"Complementary\""
   ]
  },
  {
   "cell_type": "code",
   "execution_count": 11,
   "metadata": {},
   "outputs": [
    {
     "data": {
      "text/html": [
       "<div>\n",
       "<style scoped>\n",
       "    .dataframe tbody tr th:only-of-type {\n",
       "        vertical-align: middle;\n",
       "    }\n",
       "\n",
       "    .dataframe tbody tr th {\n",
       "        vertical-align: top;\n",
       "    }\n",
       "\n",
       "    .dataframe thead th {\n",
       "        text-align: right;\n",
       "    }\n",
       "</style>\n",
       "<table border=\"1\" class=\"dataframe\">\n",
       "  <thead>\n",
       "    <tr style=\"text-align: right;\">\n",
       "      <th></th>\n",
       "      <th>ProductId</th>\n",
       "      <th>edge_purchases</th>\n",
       "      <th>n_purchases</th>\n",
       "      <th>solo_purchases</th>\n",
       "      <th>solo_sales_ratio</th>\n",
       "      <th>product_receipt_score</th>\n",
       "      <th>Product Class</th>\n",
       "      <th>class</th>\n",
       "    </tr>\n",
       "  </thead>\n",
       "  <tbody>\n",
       "    <tr>\n",
       "      <th>0</th>\n",
       "      <td>67130910</td>\n",
       "      <td>66.0</td>\n",
       "      <td>141.0</td>\n",
       "      <td>75.0</td>\n",
       "      <td>0.531915</td>\n",
       "      <td>0.974194</td>\n",
       "      <td>Complementary</td>\n",
       "      <td>2</td>\n",
       "    </tr>\n",
       "    <tr>\n",
       "      <th>1</th>\n",
       "      <td>67901421</td>\n",
       "      <td>523.0</td>\n",
       "      <td>1021.0</td>\n",
       "      <td>212.0</td>\n",
       "      <td>0.208046</td>\n",
       "      <td>0.797941</td>\n",
       "      <td>Driver</td>\n",
       "      <td>0</td>\n",
       "    </tr>\n",
       "    <tr>\n",
       "      <th>2</th>\n",
       "      <td>70645722</td>\n",
       "      <td>766.0</td>\n",
       "      <td>919.0</td>\n",
       "      <td>153.0</td>\n",
       "      <td>0.166485</td>\n",
       "      <td>0.223958</td>\n",
       "      <td>Independent</td>\n",
       "      <td>1</td>\n",
       "    </tr>\n",
       "    <tr>\n",
       "      <th>3</th>\n",
       "      <td>70748454</td>\n",
       "      <td>498.0</td>\n",
       "      <td>794.0</td>\n",
       "      <td>233.0</td>\n",
       "      <td>0.293756</td>\n",
       "      <td>0.372562</td>\n",
       "      <td>Independent</td>\n",
       "      <td>1</td>\n",
       "    </tr>\n",
       "    <tr>\n",
       "      <th>4</th>\n",
       "      <td>82008925</td>\n",
       "      <td>3836.0</td>\n",
       "      <td>5281.0</td>\n",
       "      <td>1445.0</td>\n",
       "      <td>0.273622</td>\n",
       "      <td>0.676743</td>\n",
       "      <td>Driver</td>\n",
       "      <td>0</td>\n",
       "    </tr>\n",
       "  </tbody>\n",
       "</table>\n",
       "</div>"
      ],
      "text/plain": [
       "   ProductId  edge_purchases  n_purchases  solo_purchases  solo_sales_ratio  \\\n",
       "0   67130910            66.0        141.0            75.0          0.531915   \n",
       "1   67901421           523.0       1021.0           212.0          0.208046   \n",
       "2   70645722           766.0        919.0           153.0          0.166485   \n",
       "3   70748454           498.0        794.0           233.0          0.293756   \n",
       "4   82008925          3836.0       5281.0          1445.0          0.273622   \n",
       "\n",
       "   product_receipt_score  Product Class  class  \n",
       "0               0.974194  Complementary      2  \n",
       "1               0.797941         Driver      0  \n",
       "2               0.223958    Independent      1  \n",
       "3               0.372562    Independent      1  \n",
       "4               0.676743         Driver      0  "
      ]
     },
     "execution_count": 11,
     "metadata": {},
     "output_type": "execute_result"
    }
   ],
   "source": [
    "df_product_classification = pd.merge(\n",
    "    df_product_score,\n",
    "    df_classification[[\"Product Class\", \"class\"]].reset_index(),\n",
    "    left_on=\"ProductId\",\n",
    "    right_on=\"ProductId\",\n",
    ")\n",
    "\n",
    "df_product_classification[\"ProductId\"] = df_product_classification[\"ProductId\"].astype(\n",
    "    np.int64\n",
    ")\n",
    "\n",
    "df_product_classification.head()"
   ]
  },
  {
   "cell_type": "markdown",
   "metadata": {},
   "source": [
    "## Importing atoti, having a first look at the data\n",
    "\n",
    "First we will start atoti, load the products referential and have a look at the classification algorithm result on our dataset."
   ]
  },
  {
   "cell_type": "code",
   "execution_count": 12,
   "metadata": {},
   "outputs": [
    {
     "name": "stdout",
     "output_type": "stream",
     "text": [
      "Welcome to atoti 0.5.1!\n",
      "\n",
      "By using this community edition, you agree with the license available at https://www.atoti.io/eula.\n",
      "Browse the official documentation at https://docs.atoti.io.\n",
      "Join the community at https://www.atoti.io/register.\n",
      "\n",
      "You can hide this message by setting the ATOTI_HIDE_EULA_MESSAGE environment variable to True.\n"
     ]
    }
   ],
   "source": [
    "import atoti\n",
    "from atoti.config import create_config\n",
    "\n",
    "# Tell atoti to load the database containing the UI dashboards\n",
    "config = create_config(metadata_db=\"./metadata.db\")\n",
    "\n",
    "session = atoti.create_session(config=config)"
   ]
  },
  {
   "cell_type": "markdown",
   "metadata": {},
   "source": [
    "Loading the products referential with all the products information"
   ]
  },
  {
   "cell_type": "code",
   "execution_count": 13,
   "metadata": {},
   "outputs": [
    {
     "name": "stderr",
     "output_type": "stream",
     "text": [
      "The store has been sampled because there are more than 10000 lines in the files to load. Call Session.load_all_data() to trigger the full load of the data.\n"
     ]
    },
    {
     "data": {
      "text/html": [
       "<div>\n",
       "<style scoped>\n",
       "    .dataframe tbody tr th:only-of-type {\n",
       "        vertical-align: middle;\n",
       "    }\n",
       "\n",
       "    .dataframe tbody tr th {\n",
       "        vertical-align: top;\n",
       "    }\n",
       "\n",
       "    .dataframe thead th {\n",
       "        text-align: right;\n",
       "    }\n",
       "</style>\n",
       "<table border=\"1\" class=\"dataframe\">\n",
       "  <thead>\n",
       "    <tr style=\"text-align: right;\">\n",
       "      <th></th>\n",
       "      <th>Product Name</th>\n",
       "      <th>Brand</th>\n",
       "    </tr>\n",
       "    <tr>\n",
       "      <th>ProductId</th>\n",
       "      <th></th>\n",
       "      <th></th>\n",
       "    </tr>\n",
       "  </thead>\n",
       "  <tbody>\n",
       "    <tr>\n",
       "      <th>67130910</th>\n",
       "      <td>Product 67130910</td>\n",
       "      <td>Brand 80105193</td>\n",
       "    </tr>\n",
       "    <tr>\n",
       "      <th>67901421</th>\n",
       "      <td>Product 67901421</td>\n",
       "      <td>Brand 81888450</td>\n",
       "    </tr>\n",
       "    <tr>\n",
       "      <th>70645722</th>\n",
       "      <td>Product 70645722</td>\n",
       "      <td>Brand 70645722</td>\n",
       "    </tr>\n",
       "    <tr>\n",
       "      <th>70748454</th>\n",
       "      <td>Product 70748454</td>\n",
       "      <td>Brand 70857591</td>\n",
       "    </tr>\n",
       "    <tr>\n",
       "      <th>82008925</th>\n",
       "      <td>Product 82008925</td>\n",
       "      <td>Brand 67942581</td>\n",
       "    </tr>\n",
       "  </tbody>\n",
       "</table>\n",
       "</div>"
      ],
      "text/plain": [
       "               Product Name           Brand\n",
       "ProductId                                  \n",
       "67130910   Product 67130910  Brand 80105193\n",
       "67901421   Product 67901421  Brand 81888450\n",
       "70645722   Product 70645722  Brand 70645722\n",
       "70748454   Product 70748454  Brand 70857591\n",
       "82008925   Product 82008925  Brand 67942581"
      ]
     },
     "execution_count": 13,
     "metadata": {},
     "output_type": "execute_result"
    }
   ],
   "source": [
    "products_store = session.read_csv(\n",
    "    \"s3://data.atoti.io/notebooks/products-classification/products_referential.csv\",\n",
    "    keys=[\"ProductId\"],\n",
    "    store_name=\"Products_store\",\n",
    ")\n",
    "products_store.head()"
   ]
  },
  {
   "cell_type": "markdown",
   "metadata": {},
   "source": [
    "Then loading the result of the classification algorithm"
   ]
  },
  {
   "cell_type": "code",
   "execution_count": 14,
   "metadata": {},
   "outputs": [
    {
     "data": {
      "text/html": [
       "<div>\n",
       "<style scoped>\n",
       "    .dataframe tbody tr th:only-of-type {\n",
       "        vertical-align: middle;\n",
       "    }\n",
       "\n",
       "    .dataframe tbody tr th {\n",
       "        vertical-align: top;\n",
       "    }\n",
       "\n",
       "    .dataframe thead th {\n",
       "        text-align: right;\n",
       "    }\n",
       "</style>\n",
       "<table border=\"1\" class=\"dataframe\">\n",
       "  <thead>\n",
       "    <tr style=\"text-align: right;\">\n",
       "      <th></th>\n",
       "      <th>edge_purchases</th>\n",
       "      <th>n_purchases</th>\n",
       "      <th>solo_purchases</th>\n",
       "      <th>solo_sales_ratio</th>\n",
       "      <th>product_receipt_score</th>\n",
       "      <th>Product Class</th>\n",
       "      <th>class</th>\n",
       "    </tr>\n",
       "    <tr>\n",
       "      <th>ProductId</th>\n",
       "      <th></th>\n",
       "      <th></th>\n",
       "      <th></th>\n",
       "      <th></th>\n",
       "      <th></th>\n",
       "      <th></th>\n",
       "      <th></th>\n",
       "    </tr>\n",
       "  </thead>\n",
       "  <tbody>\n",
       "    <tr>\n",
       "      <th>67130910</th>\n",
       "      <td>66.0</td>\n",
       "      <td>141.0</td>\n",
       "      <td>75.0</td>\n",
       "      <td>0.531915</td>\n",
       "      <td>0.974194</td>\n",
       "      <td>Complementary</td>\n",
       "      <td>2</td>\n",
       "    </tr>\n",
       "    <tr>\n",
       "      <th>67901421</th>\n",
       "      <td>523.0</td>\n",
       "      <td>1021.0</td>\n",
       "      <td>212.0</td>\n",
       "      <td>0.208046</td>\n",
       "      <td>0.797941</td>\n",
       "      <td>Driver</td>\n",
       "      <td>0</td>\n",
       "    </tr>\n",
       "    <tr>\n",
       "      <th>70645722</th>\n",
       "      <td>766.0</td>\n",
       "      <td>919.0</td>\n",
       "      <td>153.0</td>\n",
       "      <td>0.166485</td>\n",
       "      <td>0.223958</td>\n",
       "      <td>Independent</td>\n",
       "      <td>1</td>\n",
       "    </tr>\n",
       "    <tr>\n",
       "      <th>70748454</th>\n",
       "      <td>498.0</td>\n",
       "      <td>794.0</td>\n",
       "      <td>233.0</td>\n",
       "      <td>0.293756</td>\n",
       "      <td>0.372562</td>\n",
       "      <td>Independent</td>\n",
       "      <td>1</td>\n",
       "    </tr>\n",
       "    <tr>\n",
       "      <th>82008925</th>\n",
       "      <td>3836.0</td>\n",
       "      <td>5281.0</td>\n",
       "      <td>1445.0</td>\n",
       "      <td>0.273622</td>\n",
       "      <td>0.676743</td>\n",
       "      <td>Driver</td>\n",
       "      <td>0</td>\n",
       "    </tr>\n",
       "  </tbody>\n",
       "</table>\n",
       "</div>"
      ],
      "text/plain": [
       "           edge_purchases  n_purchases  solo_purchases  solo_sales_ratio  \\\n",
       "ProductId                                                                  \n",
       "67130910             66.0        141.0            75.0          0.531915   \n",
       "67901421            523.0       1021.0           212.0          0.208046   \n",
       "70645722            766.0        919.0           153.0          0.166485   \n",
       "70748454            498.0        794.0           233.0          0.293756   \n",
       "82008925           3836.0       5281.0          1445.0          0.273622   \n",
       "\n",
       "           product_receipt_score  Product Class  class  \n",
       "ProductId                                               \n",
       "67130910                0.974194  Complementary      2  \n",
       "67901421                0.797941         Driver      0  \n",
       "70645722                0.223958    Independent      1  \n",
       "70748454                0.372562    Independent      1  \n",
       "82008925                0.676743         Driver      0  "
      ]
     },
     "execution_count": 14,
     "metadata": {},
     "output_type": "execute_result"
    }
   ],
   "source": [
    "classified_products_store = session.read_pandas(\n",
    "    df_product_classification, keys=[\"ProductId\"], store_name=\"classified_products\"\n",
    ")\n",
    "classified_products_store.head()"
   ]
  },
  {
   "cell_type": "markdown",
   "metadata": {},
   "source": [
    "And join them together"
   ]
  },
  {
   "cell_type": "code",
   "execution_count": 15,
   "metadata": {},
   "outputs": [],
   "source": [
    "classified_products_store.join(products_store, mapping={\"ProductId\": \"ProductId\"})"
   ]
  },
  {
   "cell_type": "markdown",
   "metadata": {},
   "source": [
    "We can then create a cube"
   ]
  },
  {
   "cell_type": "code",
   "execution_count": 16,
   "metadata": {},
   "outputs": [],
   "source": [
    "cube = session.create_cube(classified_products_store, \"products_cube\")"
   ]
  },
  {
   "cell_type": "code",
   "execution_count": 17,
   "metadata": {},
   "outputs": [
    {
     "data": {
      "image/svg+xml": [
       "<svg xmlns=\"http://www.w3.org/2000/svg\" xmlns:xlink=\"http://www.w3.org/1999/xlink\" width=\"582px\" height=\"234px\" viewBox=\"0.00 0.00 582.00 234.00\">\n",
       "<g id=\"graph0\" class=\"graph\" transform=\"scale(1.0 1.0) rotate(0) translate(4 230)\">\n",
       "<title>products_cube schema</title>\n",
       "<polygon fill=\"white\" stroke=\"none\" points=\"-4,4 -4,-230 578,-230 578,4 -4,4\"/>\n",
       "<!-- classified_products -->\n",
       "<g id=\"node1\" class=\"node\"><title>classified_products</title>\n",
       "<text text-anchor=\"start\" x=\"57.5\" y=\"-206.6\" font-family=\"-apple-system, BlinkMacSystemFont, 'Segoe UI', Helvetica, Arial, sans-serif, 'Apple Color Emoji', 'Segoe UI Emoji', 'Segoe UI Symbol'\" font-weight=\"bold\" font-size=\"13.00\">classified_products</text>\n",
       "<polygon fill=\"#f5f5f5\" stroke=\"none\" points=\"9,-173 9,-197 40,-197 40,-173 9,-173\"/>\n",
       "<text text-anchor=\"start\" x=\"14\" y=\"-182.6\" font-family=\"-apple-system, BlinkMacSystemFont, 'Segoe UI', Helvetica, Arial, sans-serif, 'Apple Color Emoji', 'Segoe UI Emoji', 'Segoe UI Symbol'\" font-weight=\"bold\" font-size=\"13.00\">key</text>\n",
       "<polygon fill=\"#f5f5f5\" stroke=\"none\" points=\"40,-173 40,-197 174,-197 174,-173 40,-173\"/>\n",
       "<text text-anchor=\"start\" x=\"45\" y=\"-181.6\" font-family=\"-apple-system, BlinkMacSystemFont, 'Segoe UI', Helvetica, Arial, sans-serif, 'Apple Color Emoji', 'Segoe UI Emoji', 'Segoe UI Symbol'\" font-size=\"13.00\">ProductId</text>\n",
       "<polygon fill=\"#f5f5f5\" stroke=\"none\" points=\"174,-173 174,-197 221,-197 221,-173 174,-173\"/>\n",
       "<text text-anchor=\"start\" x=\"193\" y=\"-182.6\" font-family=\"-apple-system, BlinkMacSystemFont, 'Segoe UI', Helvetica, Arial, sans-serif, 'Apple Color Emoji', 'Segoe UI Emoji', 'Segoe UI Symbol'\" font-style=\"italic\" font-size=\"13.00\">long</text>\n",
       "<polygon fill=\"#ffffff\" stroke=\"none\" points=\"9,-149 9,-173 40,-173 40,-149 9,-149\"/>\n",
       "<polygon fill=\"#ffffff\" stroke=\"none\" points=\"40,-149 40,-173 174,-173 174,-149 40,-149\"/>\n",
       "<text text-anchor=\"start\" x=\"45\" y=\"-157.6\" font-family=\"-apple-system, BlinkMacSystemFont, 'Segoe UI', Helvetica, Arial, sans-serif, 'Apple Color Emoji', 'Segoe UI Emoji', 'Segoe UI Symbol'\" font-size=\"13.00\">edge_purchases</text>\n",
       "<polygon fill=\"#ffffff\" stroke=\"none\" points=\"174,-149 174,-173 221,-173 221,-149 174,-149\"/>\n",
       "<text text-anchor=\"start\" x=\"179\" y=\"-158.6\" font-family=\"-apple-system, BlinkMacSystemFont, 'Segoe UI', Helvetica, Arial, sans-serif, 'Apple Color Emoji', 'Segoe UI Emoji', 'Segoe UI Symbol'\" font-style=\"italic\" font-size=\"13.00\">double</text>\n",
       "<polygon fill=\"#f5f5f5\" stroke=\"none\" points=\"9,-125 9,-149 40,-149 40,-125 9,-125\"/>\n",
       "<polygon fill=\"#f5f5f5\" stroke=\"none\" points=\"40,-125 40,-149 174,-149 174,-125 40,-125\"/>\n",
       "<text text-anchor=\"start\" x=\"45\" y=\"-133.6\" font-family=\"-apple-system, BlinkMacSystemFont, 'Segoe UI', Helvetica, Arial, sans-serif, 'Apple Color Emoji', 'Segoe UI Emoji', 'Segoe UI Symbol'\" font-size=\"13.00\">n_purchases</text>\n",
       "<polygon fill=\"#f5f5f5\" stroke=\"none\" points=\"174,-125 174,-149 221,-149 221,-125 174,-125\"/>\n",
       "<text text-anchor=\"start\" x=\"179\" y=\"-134.6\" font-family=\"-apple-system, BlinkMacSystemFont, 'Segoe UI', Helvetica, Arial, sans-serif, 'Apple Color Emoji', 'Segoe UI Emoji', 'Segoe UI Symbol'\" font-style=\"italic\" font-size=\"13.00\">double</text>\n",
       "<polygon fill=\"#ffffff\" stroke=\"none\" points=\"9,-101 9,-125 40,-125 40,-101 9,-101\"/>\n",
       "<polygon fill=\"#ffffff\" stroke=\"none\" points=\"40,-101 40,-125 174,-125 174,-101 40,-101\"/>\n",
       "<text text-anchor=\"start\" x=\"45\" y=\"-109.6\" font-family=\"-apple-system, BlinkMacSystemFont, 'Segoe UI', Helvetica, Arial, sans-serif, 'Apple Color Emoji', 'Segoe UI Emoji', 'Segoe UI Symbol'\" font-size=\"13.00\">solo_purchases</text>\n",
       "<polygon fill=\"#ffffff\" stroke=\"none\" points=\"174,-101 174,-125 221,-125 221,-101 174,-101\"/>\n",
       "<text text-anchor=\"start\" x=\"179\" y=\"-110.6\" font-family=\"-apple-system, BlinkMacSystemFont, 'Segoe UI', Helvetica, Arial, sans-serif, 'Apple Color Emoji', 'Segoe UI Emoji', 'Segoe UI Symbol'\" font-style=\"italic\" font-size=\"13.00\">double</text>\n",
       "<polygon fill=\"#f5f5f5\" stroke=\"none\" points=\"9,-77 9,-101 40,-101 40,-77 9,-77\"/>\n",
       "<polygon fill=\"#f5f5f5\" stroke=\"none\" points=\"40,-77 40,-101 174,-101 174,-77 40,-77\"/>\n",
       "<text text-anchor=\"start\" x=\"45\" y=\"-85.6\" font-family=\"-apple-system, BlinkMacSystemFont, 'Segoe UI', Helvetica, Arial, sans-serif, 'Apple Color Emoji', 'Segoe UI Emoji', 'Segoe UI Symbol'\" font-size=\"13.00\">solo_sales_ratio</text>\n",
       "<polygon fill=\"#f5f5f5\" stroke=\"none\" points=\"174,-77 174,-101 221,-101 221,-77 174,-77\"/>\n",
       "<text text-anchor=\"start\" x=\"179\" y=\"-86.6\" font-family=\"-apple-system, BlinkMacSystemFont, 'Segoe UI', Helvetica, Arial, sans-serif, 'Apple Color Emoji', 'Segoe UI Emoji', 'Segoe UI Symbol'\" font-style=\"italic\" font-size=\"13.00\">double</text>\n",
       "<polygon fill=\"#ffffff\" stroke=\"none\" points=\"9,-53 9,-77 40,-77 40,-53 9,-53\"/>\n",
       "<polygon fill=\"#ffffff\" stroke=\"none\" points=\"40,-53 40,-77 174,-77 174,-53 40,-53\"/>\n",
       "<text text-anchor=\"start\" x=\"45\" y=\"-61.6\" font-family=\"-apple-system, BlinkMacSystemFont, 'Segoe UI', Helvetica, Arial, sans-serif, 'Apple Color Emoji', 'Segoe UI Emoji', 'Segoe UI Symbol'\" font-size=\"13.00\">product_receipt_score</text>\n",
       "<polygon fill=\"#ffffff\" stroke=\"none\" points=\"174,-53 174,-77 221,-77 221,-53 174,-53\"/>\n",
       "<text text-anchor=\"start\" x=\"179\" y=\"-62.6\" font-family=\"-apple-system, BlinkMacSystemFont, 'Segoe UI', Helvetica, Arial, sans-serif, 'Apple Color Emoji', 'Segoe UI Emoji', 'Segoe UI Symbol'\" font-style=\"italic\" font-size=\"13.00\">double</text>\n",
       "<polygon fill=\"#f5f5f5\" stroke=\"none\" points=\"9,-29 9,-53 40,-53 40,-29 9,-29\"/>\n",
       "<polygon fill=\"#f5f5f5\" stroke=\"none\" points=\"40,-29 40,-53 174,-53 174,-29 40,-29\"/>\n",
       "<text text-anchor=\"start\" x=\"45\" y=\"-37.6\" font-family=\"-apple-system, BlinkMacSystemFont, 'Segoe UI', Helvetica, Arial, sans-serif, 'Apple Color Emoji', 'Segoe UI Emoji', 'Segoe UI Symbol'\" font-size=\"13.00\">Product Class</text>\n",
       "<polygon fill=\"#f5f5f5\" stroke=\"none\" points=\"174,-29 174,-53 221,-53 221,-29 174,-29\"/>\n",
       "<text text-anchor=\"start\" x=\"183\" y=\"-38.6\" font-family=\"-apple-system, BlinkMacSystemFont, 'Segoe UI', Helvetica, Arial, sans-serif, 'Apple Color Emoji', 'Segoe UI Emoji', 'Segoe UI Symbol'\" font-style=\"italic\" font-size=\"13.00\">String</text>\n",
       "<polygon fill=\"#ffffff\" stroke=\"none\" points=\"9,-5 9,-29 40,-29 40,-5 9,-5\"/>\n",
       "<polygon fill=\"#ffffff\" stroke=\"none\" points=\"40,-5 40,-29 174,-29 174,-5 40,-5\"/>\n",
       "<text text-anchor=\"start\" x=\"45\" y=\"-13.6\" font-family=\"-apple-system, BlinkMacSystemFont, 'Segoe UI', Helvetica, Arial, sans-serif, 'Apple Color Emoji', 'Segoe UI Emoji', 'Segoe UI Symbol'\" font-size=\"13.00\">class</text>\n",
       "<polygon fill=\"#ffffff\" stroke=\"none\" points=\"174,-5 174,-29 221,-29 221,-5 174,-5\"/>\n",
       "<text text-anchor=\"start\" x=\"202\" y=\"-14.6\" font-family=\"-apple-system, BlinkMacSystemFont, 'Segoe UI', Helvetica, Arial, sans-serif, 'Apple Color Emoji', 'Segoe UI Emoji', 'Segoe UI Symbol'\" font-style=\"italic\" font-size=\"13.00\">int</text>\n",
       "<polygon fill=\"none\" stroke=\"black\" points=\"8,-4 8,-222 222,-222 222,-4 8,-4\"/>\n",
       "</g>\n",
       "<!-- Products_store -->\n",
       "<g id=\"node2\" class=\"node\"><title>Products_store</title>\n",
       "<text text-anchor=\"start\" x=\"438\" y=\"-146.6\" font-family=\"-apple-system, BlinkMacSystemFont, 'Segoe UI', Helvetica, Arial, sans-serif, 'Apple Color Emoji', 'Segoe UI Emoji', 'Segoe UI Symbol'\" font-weight=\"bold\" font-size=\"13.00\">Products_store</text>\n",
       "<polygon fill=\"#f5f5f5\" stroke=\"none\" points=\"402.5,-113 402.5,-137 433.5,-137 433.5,-113 402.5,-113\"/>\n",
       "<text text-anchor=\"start\" x=\"407.5\" y=\"-122.6\" font-family=\"-apple-system, BlinkMacSystemFont, 'Segoe UI', Helvetica, Arial, sans-serif, 'Apple Color Emoji', 'Segoe UI Emoji', 'Segoe UI Symbol'\" font-weight=\"bold\" font-size=\"13.00\">key</text>\n",
       "<polygon fill=\"#f5f5f5\" stroke=\"none\" points=\"433.5,-113 433.5,-137 522.5,-137 522.5,-113 433.5,-113\"/>\n",
       "<text text-anchor=\"start\" x=\"438.5\" y=\"-121.6\" font-family=\"-apple-system, BlinkMacSystemFont, 'Segoe UI', Helvetica, Arial, sans-serif, 'Apple Color Emoji', 'Segoe UI Emoji', 'Segoe UI Symbol'\" font-size=\"13.00\">ProductId</text>\n",
       "<polygon fill=\"#f5f5f5\" stroke=\"none\" points=\"522.5,-113 522.5,-137 565.5,-137 565.5,-113 522.5,-113\"/>\n",
       "<text text-anchor=\"start\" x=\"537.5\" y=\"-122.6\" font-family=\"-apple-system, BlinkMacSystemFont, 'Segoe UI', Helvetica, Arial, sans-serif, 'Apple Color Emoji', 'Segoe UI Emoji', 'Segoe UI Symbol'\" font-style=\"italic\" font-size=\"13.00\">long</text>\n",
       "<polygon fill=\"#ffffff\" stroke=\"none\" points=\"402.5,-89 402.5,-113 433.5,-113 433.5,-89 402.5,-89\"/>\n",
       "<polygon fill=\"#ffffff\" stroke=\"none\" points=\"433.5,-89 433.5,-113 522.5,-113 522.5,-89 433.5,-89\"/>\n",
       "<text text-anchor=\"start\" x=\"438.5\" y=\"-97.6\" font-family=\"-apple-system, BlinkMacSystemFont, 'Segoe UI', Helvetica, Arial, sans-serif, 'Apple Color Emoji', 'Segoe UI Emoji', 'Segoe UI Symbol'\" font-size=\"13.00\">Product Name</text>\n",
       "<polygon fill=\"#ffffff\" stroke=\"none\" points=\"522.5,-89 522.5,-113 565.5,-113 565.5,-89 522.5,-89\"/>\n",
       "<text text-anchor=\"start\" x=\"527.5\" y=\"-98.6\" font-family=\"-apple-system, BlinkMacSystemFont, 'Segoe UI', Helvetica, Arial, sans-serif, 'Apple Color Emoji', 'Segoe UI Emoji', 'Segoe UI Symbol'\" font-style=\"italic\" font-size=\"13.00\">String</text>\n",
       "<polygon fill=\"#f5f5f5\" stroke=\"none\" points=\"402.5,-65 402.5,-89 433.5,-89 433.5,-65 402.5,-65\"/>\n",
       "<polygon fill=\"#f5f5f5\" stroke=\"none\" points=\"433.5,-65 433.5,-89 522.5,-89 522.5,-65 433.5,-65\"/>\n",
       "<text text-anchor=\"start\" x=\"438.5\" y=\"-73.6\" font-family=\"-apple-system, BlinkMacSystemFont, 'Segoe UI', Helvetica, Arial, sans-serif, 'Apple Color Emoji', 'Segoe UI Emoji', 'Segoe UI Symbol'\" font-size=\"13.00\">Brand</text>\n",
       "<polygon fill=\"#f5f5f5\" stroke=\"none\" points=\"522.5,-65 522.5,-89 565.5,-89 565.5,-65 522.5,-65\"/>\n",
       "<text text-anchor=\"start\" x=\"527.5\" y=\"-74.6\" font-family=\"-apple-system, BlinkMacSystemFont, 'Segoe UI', Helvetica, Arial, sans-serif, 'Apple Color Emoji', 'Segoe UI Emoji', 'Segoe UI Symbol'\" font-style=\"italic\" font-size=\"13.00\">String</text>\n",
       "<polygon fill=\"none\" stroke=\"black\" points=\"401,-64 401,-162 566,-162 566,-64 401,-64\"/>\n",
       "</g>\n",
       "<!-- classified_products&#45;&gt;Products_store -->\n",
       "<g id=\"edge1\" class=\"edge\"><title>classified_products-&gt;Products_store</title>\n",
       "<path fill=\"none\" stroke=\"black\" d=\"M230.205,-113C279.037,-113 335.53,-113 382.664,-113\"/>\n",
       "<polygon fill=\"black\" stroke=\"black\" points=\"382.882,-116.5 392.882,-113 382.882,-109.5 382.882,-116.5\"/>\n",
       "<text text-anchor=\"middle\" x=\"311.5\" y=\"-116.6\" font-family=\"-apple-system, BlinkMacSystemFont, 'Segoe UI', Helvetica, Arial, sans-serif, 'Apple Color Emoji', 'Segoe UI Emoji', 'Segoe UI Symbol'\" font-size=\"13.00\">ProductId → ProductId</text>\n",
       "</g>\n",
       "</g>\n",
       "</svg>"
      ],
      "text/plain": [
       "<IPython.core.display.SVG object>"
      ]
     },
     "execution_count": 17,
     "metadata": {},
     "output_type": "execute_result"
    }
   ],
   "source": [
    "cube.schema"
   ]
  },
  {
   "cell_type": "code",
   "execution_count": 18,
   "metadata": {},
   "outputs": [],
   "source": [
    "# We can now load all the data so that visualizations operate on the entire dataset.\n",
    "# NB: as a best practice, to optimize speed while exploring your data, we recommend keeping the default sampling mode enabled.\n",
    "#     Once the model is ready, as it is the case in this notebook, you may call session.load_all_data() after creating the cube.\n",
    "session.load_all_data()"
   ]
  },
  {
   "cell_type": "markdown",
   "metadata": {},
   "source": [
    "And have a first look at the data"
   ]
  },
  {
   "cell_type": "code",
   "execution_count": 19,
   "metadata": {
    "atoti": {
     "widget": {
      "mapping": {
       "horizontal": [],
       "splitBy": [
        "[classified_products].[Product Class].[Product Class]"
       ],
       "values": [
        "[Measures].[contributors.COUNT]"
       ],
       "vertical": [],
       "xAxis": []
      },
      "name": "Percentage of products per class pie chart",
      "query": {
       "context": {
        "queriesResultLimit.intermediateSize": 1000000,
        "queriesResultLimit.transientSize": 10000000
       },
       "mdx": "SELECT NON EMPTY [Measures].[contributors.COUNT] ON COLUMNS, NON EMPTY [classified_products].[Product Class].[Product Class].Members ON ROWS FROM [products_cube] CELL PROPERTIES VALUE, FORMATTED_VALUE, BACK_COLOR, FORE_COLOR, FONT_FLAGS",
       "updateMode": "once"
      },
      "serverKey": "default",
      "switchedTo": "plotly-donut-chart",
      "widgetKey": "plotly-line-chart"
     }
    }
   },
   "outputs": [
    {
     "data": {
      "application/vnd.atoti.v0+json": {
       "name": "Percentage of products per class pie chart",
       "session": "Unnamed"
      },
      "text/html": [
       "<img src=\"data:image/svg+xml;charset=utf8,%3C%3Fxml%20version%3D%221.0%22%20standalone%3D%22no%22%3F%3E%3Csvg%20xmlns%3D%22http%3A%2F%2Fwww.w3.org%2F2000%2Fsvg%22%20xmlns%3Axlink%3D%22http%3A%2F%2Fwww.w3.org%2F1999%2Fxlink%22%20height%3D%22348%22%20width%3D%221087%22%20viewBox%3D%220%200%201087%20348%22%3E%3Cdefs%20id%3D%22defs-72c06c%22%3E%3Cg%20class%3D%22clips%22%2F%3E%3Cg%20class%3D%22gradients%22%2F%3E%3C%2Fdefs%3E%3Cg%20class%3D%22bglayer%22%2F%3E%3Cg%20class%3D%22draglayer%22%2F%3E%3Cg%20class%3D%22layer-below%22%3E%3Cg%20class%3D%22imagelayer%22%2F%3E%3Cg%20class%3D%22shapelayer%22%2F%3E%3C%2Fg%3E%3Cg%20class%3D%22cartesianlayer%22%2F%3E%3Cg%20class%3D%22polarlayer%22%2F%3E%3Cg%20class%3D%22ternarylayer%22%2F%3E%3Cg%20class%3D%22geolayer%22%2F%3E%3Cg%20class%3D%22funnelarealayer%22%2F%3E%3Cg%20class%3D%22pielayer%22%3E%3Cg%20class%3D%22trace%22%20stroke-linejoin%3D%22round%22%20style%3D%22opacity%3A%201%3B%22%3E%3Cg%20class%3D%22slice%22%3E%3Cpath%20class%3D%22surface%22%20d%3D%22M521.4909284825028%2C193.46423674485456a47.6%2C47.6%200%200%200%20-16.990928482502838%2C-92.06423674485455l0%2C-71.39999999999999a119%2C119%200%200%201%2042.477321206257095%2C230.16059186213639Z%22%20style%3D%22pointer-events%3A%20all%3B%20stroke-width%3A%200%3B%20fill%3A%20rgb(78%2C%20121%2C%20167)%3B%20fill-opacity%3A%201%3B%20stroke%3A%20rgb(68%2C%2068%2C%2068)%3B%20stroke-opacity%3A%201%3B%22%2F%3E%3C%2Fg%3E%3Cg%20class%3D%22slice%22%3E%3Cpath%20class%3D%22surface%22%20d%3D%22M504.5%2C101.4a47.6%2C47.6%200%200%200%20-42.47053599099418%2C69.09450098601194l-63.70580398649126%2C32.241751479017914a119%2C119%200%200%201%20106.17633997748544%2C-172.73625246502985Z%22%20style%3D%22pointer-events%3A%20all%3B%20stroke-width%3A%200%3B%20fill%3A%20rgb(242%2C%20142%2C%2044)%3B%20fill-opacity%3A%201%3B%20stroke%3A%20rgb(68%2C%2068%2C%2068)%3B%20stroke-opacity%3A%201%3B%22%2F%3E%3C%2Fg%3E%3Cg%20class%3D%22slice%22%3E%3Cpath%20class%3D%22surface%22%20d%3D%22M462.02946400900584%2C170.49450098601193a47.6%2C47.6%200%200%200%2059.46146447349702%2C22.969735758842614l25.486392723754268%2C66.69635511728183a119%2C119%200%200%201%20-148.65366118374254%2C-57.42433939710653Z%22%20style%3D%22pointer-events%3A%20all%3B%20stroke-width%3A%200%3B%20fill%3A%20rgb(225%2C%2087%2C%2089)%3B%20fill-opacity%3A%201%3B%20stroke%3A%20rgb(68%2C%2068%2C%2068)%3B%20stroke-opacity%3A%201%3B%22%2F%3E%3C%2Fg%3E%3C%2Fg%3E%3C%2Fg%3E%3Cg%20class%3D%22treemaplayer%22%2F%3E%3Cg%20class%3D%22sunburstlayer%22%2F%3E%3Cg%20class%3D%22glimages%22%2F%3E%3Cdefs%20id%3D%22topdefs-72c06c%22%3E%3Cg%20class%3D%22clips%22%2F%3E%3CclipPath%20id%3D%22legend72c06c%22%3E%3Crect%20width%3D%22141%22%20height%3D%2267%22%20x%3D%220%22%20y%3D%220%22%2F%3E%3C%2FclipPath%3E%3C%2Fdefs%3E%3Cg%20class%3D%22indicatorlayer%22%2F%3E%3Cg%20class%3D%22layer-above%22%3E%3Cg%20class%3D%22imagelayer%22%2F%3E%3Cg%20class%3D%22shapelayer%22%2F%3E%3C%2Fg%3E%3Cg%20class%3D%22infolayer%22%3E%3Cg%20class%3D%22legend%22%20pointer-events%3D%22all%22%20transform%3D%22translate(945.98%2C30)%22%3E%3Crect%20class%3D%22bg%22%20shape-rendering%3D%22crispEdges%22%20width%3D%22141%22%20height%3D%2267%22%20x%3D%220%22%20y%3D%220%22%20style%3D%22stroke%3A%20rgb(68%2C%2068%2C%2068)%3B%20stroke-opacity%3A%201%3B%20fill%3A%20rgb(255%2C%20255%2C%20255)%3B%20fill-opacity%3A%201%3B%20stroke-width%3A%200px%3B%22%2F%3E%3Cg%20class%3D%22scrollbox%22%20transform%3D%22%22%20clip-path%3D%22url('%23legend72c06c')%22%3E%3Cg%20class%3D%22groups%22%3E%3Cg%20class%3D%22traces%22%20transform%3D%22translate(0%2C14.5)%22%20style%3D%22opacity%3A%201%3B%22%3E%3Ctext%20class%3D%22legendtext%22%20text-anchor%3D%22start%22%20x%3D%2240%22%20y%3D%224.680000000000001%22%20data-unformatted%3D%22Independent%22%20data-math%3D%22N%22%20style%3D%22font-family%3A%20%26quot%3BOpen%20Sans%26quot%3B%2C%20verdana%2C%20arial%2C%20sans-serif%3B%20font-size%3A%2012px%3B%20fill%3A%20rgb(89%2C%2089%2C%2089)%3B%20fill-opacity%3A%201%3B%20white-space%3A%20pre%3B%22%3EIndependent%3C%2Ftext%3E%3Cg%20class%3D%22layers%22%20style%3D%22opacity%3A%201%3B%22%3E%3Cg%20class%3D%22legendfill%22%2F%3E%3Cg%20class%3D%22legendlines%22%2F%3E%3Cg%20class%3D%22legendsymbols%22%3E%3Cg%20class%3D%22legendpoints%22%3E%3Cpath%20class%3D%22legendpie%22%20d%3D%22M6%2C6H-6V-6H6Z%22%20transform%3D%22translate(20%2C0)%22%20style%3D%22stroke-width%3A%200%3B%20fill%3A%20rgb(78%2C%20121%2C%20167)%3B%20fill-opacity%3A%201%3B%20stroke%3A%20rgb(68%2C%2068%2C%2068)%3B%20stroke-opacity%3A%201%3B%22%2F%3E%3C%2Fg%3E%3C%2Fg%3E%3C%2Fg%3E%3Crect%20class%3D%22legendtoggle%22%20pointer-events%3D%22all%22%20x%3D%220%22%20y%3D%22-9.5%22%20width%3D%22135.9375%22%20height%3D%2219%22%20style%3D%22cursor%3A%20pointer%3B%20fill%3A%20rgb(0%2C%200%2C%200)%3B%20fill-opacity%3A%200%3B%22%2F%3E%3C%2Fg%3E%3Cg%20class%3D%22traces%22%20transform%3D%22translate(0%2C33.5)%22%20style%3D%22opacity%3A%201%3B%22%3E%3Ctext%20class%3D%22legendtext%22%20text-anchor%3D%22start%22%20x%3D%2240%22%20y%3D%224.680000000000001%22%20data-unformatted%3D%22Driver%22%20data-math%3D%22N%22%20style%3D%22font-family%3A%20%26quot%3BOpen%20Sans%26quot%3B%2C%20verdana%2C%20arial%2C%20sans-serif%3B%20font-size%3A%2012px%3B%20fill%3A%20rgb(89%2C%2089%2C%2089)%3B%20fill-opacity%3A%201%3B%20white-space%3A%20pre%3B%22%3EDriver%3C%2Ftext%3E%3Cg%20class%3D%22layers%22%20style%3D%22opacity%3A%201%3B%22%3E%3Cg%20class%3D%22legendfill%22%2F%3E%3Cg%20class%3D%22legendlines%22%2F%3E%3Cg%20class%3D%22legendsymbols%22%3E%3Cg%20class%3D%22legendpoints%22%3E%3Cpath%20class%3D%22legendpie%22%20d%3D%22M6%2C6H-6V-6H6Z%22%20transform%3D%22translate(20%2C0)%22%20style%3D%22stroke-width%3A%200%3B%20fill%3A%20rgb(242%2C%20142%2C%2044)%3B%20fill-opacity%3A%201%3B%20stroke%3A%20rgb(68%2C%2068%2C%2068)%3B%20stroke-opacity%3A%201%3B%22%2F%3E%3C%2Fg%3E%3C%2Fg%3E%3C%2Fg%3E%3Crect%20class%3D%22legendtoggle%22%20pointer-events%3D%22all%22%20x%3D%220%22%20y%3D%22-9.5%22%20width%3D%22135.9375%22%20height%3D%2219%22%20style%3D%22cursor%3A%20pointer%3B%20fill%3A%20rgb(0%2C%200%2C%200)%3B%20fill-opacity%3A%200%3B%22%2F%3E%3C%2Fg%3E%3Cg%20class%3D%22traces%22%20transform%3D%22translate(0%2C52.5)%22%20style%3D%22opacity%3A%201%3B%22%3E%3Ctext%20class%3D%22legendtext%22%20text-anchor%3D%22start%22%20x%3D%2240%22%20y%3D%224.680000000000001%22%20data-unformatted%3D%22Complementary%22%20data-math%3D%22N%22%20style%3D%22font-family%3A%20%26quot%3BOpen%20Sans%26quot%3B%2C%20verdana%2C%20arial%2C%20sans-serif%3B%20font-size%3A%2012px%3B%20fill%3A%20rgb(89%2C%2089%2C%2089)%3B%20fill-opacity%3A%201%3B%20white-space%3A%20pre%3B%22%3EComplementary%3C%2Ftext%3E%3Cg%20class%3D%22layers%22%20style%3D%22opacity%3A%201%3B%22%3E%3Cg%20class%3D%22legendfill%22%2F%3E%3Cg%20class%3D%22legendlines%22%2F%3E%3Cg%20class%3D%22legendsymbols%22%3E%3Cg%20class%3D%22legendpoints%22%3E%3Cpath%20class%3D%22legendpie%22%20d%3D%22M6%2C6H-6V-6H6Z%22%20transform%3D%22translate(20%2C0)%22%20style%3D%22stroke-width%3A%200%3B%20fill%3A%20rgb(225%2C%2087%2C%2089)%3B%20fill-opacity%3A%201%3B%20stroke%3A%20rgb(68%2C%2068%2C%2068)%3B%20stroke-opacity%3A%201%3B%22%2F%3E%3C%2Fg%3E%3C%2Fg%3E%3C%2Fg%3E%3Crect%20class%3D%22legendtoggle%22%20pointer-events%3D%22all%22%20x%3D%220%22%20y%3D%22-9.5%22%20width%3D%22135.9375%22%20height%3D%2219%22%20style%3D%22cursor%3A%20pointer%3B%20fill%3A%20rgb(0%2C%200%2C%200)%3B%20fill-opacity%3A%200%3B%22%2F%3E%3C%2Fg%3E%3C%2Fg%3E%3C%2Fg%3E%3Crect%20class%3D%22scrollbar%22%20rx%3D%2220%22%20ry%3D%223%22%20width%3D%220%22%20height%3D%220%22%20x%3D%220%22%20y%3D%220%22%20style%3D%22fill%3A%20rgb(128%2C%20139%2C%20164)%3B%20fill-opacity%3A%201%3B%22%2F%3E%3C%2Fg%3E%3Cg%20class%3D%22g-gtitle%22%2F%3E%3C%2Fg%3E%3Cg%20class%3D%22menulayer%22%2F%3E%3Cg%20class%3D%22zoomlayer%22%2F%3E%3Cg%20class%3D%22hoverlayer%22%2F%3E%3C%2Fsvg%3E\">"
      ],
      "text/plain": [
       "Open the notebook in JupyterLab with the atoti extension installed and enabled to start editing this widget."
      ]
     },
     "metadata": {},
     "output_type": "display_data"
    }
   ],
   "source": [
    "session.visualize(\"Percentage of products per class pie chart\")"
   ]
  },
  {
   "cell_type": "markdown",
   "metadata": {},
   "source": [
    "## Computing the margin\n",
    "\n",
    "To perform that calculation we will load the purchase and selling prices tables and join them to the current data structure."
   ]
  },
  {
   "cell_type": "code",
   "execution_count": 20,
   "metadata": {},
   "outputs": [
    {
     "data": {
      "text/html": [
       "<div>\n",
       "<style scoped>\n",
       "    .dataframe tbody tr th:only-of-type {\n",
       "        vertical-align: middle;\n",
       "    }\n",
       "\n",
       "    .dataframe tbody tr th {\n",
       "        vertical-align: top;\n",
       "    }\n",
       "\n",
       "    .dataframe thead th {\n",
       "        text-align: right;\n",
       "    }\n",
       "</style>\n",
       "<table border=\"1\" class=\"dataframe\">\n",
       "  <thead>\n",
       "    <tr style=\"text-align: right;\">\n",
       "      <th></th>\n",
       "      <th>PurchasePrice</th>\n",
       "    </tr>\n",
       "    <tr>\n",
       "      <th>ProductId</th>\n",
       "      <th></th>\n",
       "    </tr>\n",
       "  </thead>\n",
       "  <tbody>\n",
       "    <tr>\n",
       "      <th>67130910.0</th>\n",
       "      <td>231.68</td>\n",
       "    </tr>\n",
       "    <tr>\n",
       "      <th>67901421.0</th>\n",
       "      <td>176.91</td>\n",
       "    </tr>\n",
       "    <tr>\n",
       "      <th>70645722.0</th>\n",
       "      <td>10.90</td>\n",
       "    </tr>\n",
       "    <tr>\n",
       "      <th>70748454.0</th>\n",
       "      <td>39.89</td>\n",
       "    </tr>\n",
       "    <tr>\n",
       "      <th>82008925.0</th>\n",
       "      <td>174.29</td>\n",
       "    </tr>\n",
       "  </tbody>\n",
       "</table>\n",
       "</div>"
      ],
      "text/plain": [
       "            PurchasePrice\n",
       "ProductId                \n",
       "67130910.0         231.68\n",
       "67901421.0         176.91\n",
       "70645722.0          10.90\n",
       "70748454.0          39.89\n",
       "82008925.0         174.29"
      ]
     },
     "execution_count": 20,
     "metadata": {},
     "output_type": "execute_result"
    }
   ],
   "source": [
    "purchase_prices_store = session.read_csv(\n",
    "    \"s3://data.atoti.io/notebooks/products-classification/purchase_prices.csv\",\n",
    "    keys=[\"ProductId\"],\n",
    "    store_name=\"purchase_prices\",\n",
    ")\n",
    "purchase_prices_store.head()"
   ]
  },
  {
   "cell_type": "code",
   "execution_count": 21,
   "metadata": {},
   "outputs": [
    {
     "data": {
      "text/html": [
       "<div>\n",
       "<style scoped>\n",
       "    .dataframe tbody tr th:only-of-type {\n",
       "        vertical-align: middle;\n",
       "    }\n",
       "\n",
       "    .dataframe tbody tr th {\n",
       "        vertical-align: top;\n",
       "    }\n",
       "\n",
       "    .dataframe thead th {\n",
       "        text-align: right;\n",
       "    }\n",
       "</style>\n",
       "<table border=\"1\" class=\"dataframe\">\n",
       "  <thead>\n",
       "    <tr style=\"text-align: right;\">\n",
       "      <th></th>\n",
       "      <th>SellingPrice</th>\n",
       "    </tr>\n",
       "    <tr>\n",
       "      <th>ProductId</th>\n",
       "      <th></th>\n",
       "    </tr>\n",
       "  </thead>\n",
       "  <tbody>\n",
       "    <tr>\n",
       "      <th>67130910.0</th>\n",
       "      <td>338.97</td>\n",
       "    </tr>\n",
       "    <tr>\n",
       "      <th>67901421.0</th>\n",
       "      <td>234.04</td>\n",
       "    </tr>\n",
       "    <tr>\n",
       "      <th>70645722.0</th>\n",
       "      <td>15.68</td>\n",
       "    </tr>\n",
       "    <tr>\n",
       "      <th>70748454.0</th>\n",
       "      <td>59.42</td>\n",
       "    </tr>\n",
       "    <tr>\n",
       "      <th>82008925.0</th>\n",
       "      <td>253.33</td>\n",
       "    </tr>\n",
       "  </tbody>\n",
       "</table>\n",
       "</div>"
      ],
      "text/plain": [
       "            SellingPrice\n",
       "ProductId               \n",
       "67130910.0        338.97\n",
       "67901421.0        234.04\n",
       "70645722.0         15.68\n",
       "70748454.0         59.42\n",
       "82008925.0        253.33"
      ]
     },
     "execution_count": 21,
     "metadata": {},
     "output_type": "execute_result"
    }
   ],
   "source": [
    "selling_prices_store = session.read_csv(\n",
    "    \"s3://data.atoti.io/notebooks/products-classification/selling_prices.csv\",\n",
    "    keys=[\"ProductId\"],\n",
    "    store_name=\"selling_prices\",\n",
    ")\n",
    "selling_prices_store.head()"
   ]
  },
  {
   "cell_type": "code",
   "execution_count": 22,
   "metadata": {},
   "outputs": [],
   "source": [
    "classified_products_store.join(\n",
    "    purchase_prices_store, mapping={\"ProductId\": \"ProductId\"}\n",
    ")\n",
    "classified_products_store.join(selling_prices_store, mapping={\"ProductId\": \"ProductId\"})"
   ]
  },
  {
   "cell_type": "code",
   "execution_count": 23,
   "metadata": {},
   "outputs": [
    {
     "data": {
      "image/svg+xml": [
       "<svg xmlns=\"http://www.w3.org/2000/svg\" xmlns:xlink=\"http://www.w3.org/1999/xlink\" width=\"589px\" height=\"314px\" viewBox=\"0.00 0.00 589.00 314.00\">\n",
       "<g id=\"graph0\" class=\"graph\" transform=\"scale(1.0 1.0) rotate(0) translate(4 310)\">\n",
       "<title>products_cube schema</title>\n",
       "<polygon fill=\"white\" stroke=\"none\" points=\"-4,4 -4,-310 585,-310 585,4 -4,4\"/>\n",
       "<!-- classified_products -->\n",
       "<g id=\"node1\" class=\"node\"><title>classified_products</title>\n",
       "<text text-anchor=\"start\" x=\"57.5\" y=\"-234.6\" font-family=\"-apple-system, BlinkMacSystemFont, 'Segoe UI', Helvetica, Arial, sans-serif, 'Apple Color Emoji', 'Segoe UI Emoji', 'Segoe UI Symbol'\" font-weight=\"bold\" font-size=\"13.00\">classified_products</text>\n",
       "<polygon fill=\"#f5f5f5\" stroke=\"none\" points=\"9,-201 9,-225 40,-225 40,-201 9,-201\"/>\n",
       "<text text-anchor=\"start\" x=\"14\" y=\"-210.6\" font-family=\"-apple-system, BlinkMacSystemFont, 'Segoe UI', Helvetica, Arial, sans-serif, 'Apple Color Emoji', 'Segoe UI Emoji', 'Segoe UI Symbol'\" font-weight=\"bold\" font-size=\"13.00\">key</text>\n",
       "<polygon fill=\"#f5f5f5\" stroke=\"none\" points=\"40,-201 40,-225 174,-225 174,-201 40,-201\"/>\n",
       "<text text-anchor=\"start\" x=\"45\" y=\"-209.6\" font-family=\"-apple-system, BlinkMacSystemFont, 'Segoe UI', Helvetica, Arial, sans-serif, 'Apple Color Emoji', 'Segoe UI Emoji', 'Segoe UI Symbol'\" font-size=\"13.00\">ProductId</text>\n",
       "<polygon fill=\"#f5f5f5\" stroke=\"none\" points=\"174,-201 174,-225 221,-225 221,-201 174,-201\"/>\n",
       "<text text-anchor=\"start\" x=\"193\" y=\"-210.6\" font-family=\"-apple-system, BlinkMacSystemFont, 'Segoe UI', Helvetica, Arial, sans-serif, 'Apple Color Emoji', 'Segoe UI Emoji', 'Segoe UI Symbol'\" font-style=\"italic\" font-size=\"13.00\">long</text>\n",
       "<polygon fill=\"#ffffff\" stroke=\"none\" points=\"9,-177 9,-201 40,-201 40,-177 9,-177\"/>\n",
       "<polygon fill=\"#ffffff\" stroke=\"none\" points=\"40,-177 40,-201 174,-201 174,-177 40,-177\"/>\n",
       "<text text-anchor=\"start\" x=\"45\" y=\"-185.6\" font-family=\"-apple-system, BlinkMacSystemFont, 'Segoe UI', Helvetica, Arial, sans-serif, 'Apple Color Emoji', 'Segoe UI Emoji', 'Segoe UI Symbol'\" font-size=\"13.00\">edge_purchases</text>\n",
       "<polygon fill=\"#ffffff\" stroke=\"none\" points=\"174,-177 174,-201 221,-201 221,-177 174,-177\"/>\n",
       "<text text-anchor=\"start\" x=\"179\" y=\"-186.6\" font-family=\"-apple-system, BlinkMacSystemFont, 'Segoe UI', Helvetica, Arial, sans-serif, 'Apple Color Emoji', 'Segoe UI Emoji', 'Segoe UI Symbol'\" font-style=\"italic\" font-size=\"13.00\">double</text>\n",
       "<polygon fill=\"#f5f5f5\" stroke=\"none\" points=\"9,-153 9,-177 40,-177 40,-153 9,-153\"/>\n",
       "<polygon fill=\"#f5f5f5\" stroke=\"none\" points=\"40,-153 40,-177 174,-177 174,-153 40,-153\"/>\n",
       "<text text-anchor=\"start\" x=\"45\" y=\"-161.6\" font-family=\"-apple-system, BlinkMacSystemFont, 'Segoe UI', Helvetica, Arial, sans-serif, 'Apple Color Emoji', 'Segoe UI Emoji', 'Segoe UI Symbol'\" font-size=\"13.00\">n_purchases</text>\n",
       "<polygon fill=\"#f5f5f5\" stroke=\"none\" points=\"174,-153 174,-177 221,-177 221,-153 174,-153\"/>\n",
       "<text text-anchor=\"start\" x=\"179\" y=\"-162.6\" font-family=\"-apple-system, BlinkMacSystemFont, 'Segoe UI', Helvetica, Arial, sans-serif, 'Apple Color Emoji', 'Segoe UI Emoji', 'Segoe UI Symbol'\" font-style=\"italic\" font-size=\"13.00\">double</text>\n",
       "<polygon fill=\"#ffffff\" stroke=\"none\" points=\"9,-129 9,-153 40,-153 40,-129 9,-129\"/>\n",
       "<polygon fill=\"#ffffff\" stroke=\"none\" points=\"40,-129 40,-153 174,-153 174,-129 40,-129\"/>\n",
       "<text text-anchor=\"start\" x=\"45\" y=\"-137.6\" font-family=\"-apple-system, BlinkMacSystemFont, 'Segoe UI', Helvetica, Arial, sans-serif, 'Apple Color Emoji', 'Segoe UI Emoji', 'Segoe UI Symbol'\" font-size=\"13.00\">solo_purchases</text>\n",
       "<polygon fill=\"#ffffff\" stroke=\"none\" points=\"174,-129 174,-153 221,-153 221,-129 174,-129\"/>\n",
       "<text text-anchor=\"start\" x=\"179\" y=\"-138.6\" font-family=\"-apple-system, BlinkMacSystemFont, 'Segoe UI', Helvetica, Arial, sans-serif, 'Apple Color Emoji', 'Segoe UI Emoji', 'Segoe UI Symbol'\" font-style=\"italic\" font-size=\"13.00\">double</text>\n",
       "<polygon fill=\"#f5f5f5\" stroke=\"none\" points=\"9,-105 9,-129 40,-129 40,-105 9,-105\"/>\n",
       "<polygon fill=\"#f5f5f5\" stroke=\"none\" points=\"40,-105 40,-129 174,-129 174,-105 40,-105\"/>\n",
       "<text text-anchor=\"start\" x=\"45\" y=\"-113.6\" font-family=\"-apple-system, BlinkMacSystemFont, 'Segoe UI', Helvetica, Arial, sans-serif, 'Apple Color Emoji', 'Segoe UI Emoji', 'Segoe UI Symbol'\" font-size=\"13.00\">solo_sales_ratio</text>\n",
       "<polygon fill=\"#f5f5f5\" stroke=\"none\" points=\"174,-105 174,-129 221,-129 221,-105 174,-105\"/>\n",
       "<text text-anchor=\"start\" x=\"179\" y=\"-114.6\" font-family=\"-apple-system, BlinkMacSystemFont, 'Segoe UI', Helvetica, Arial, sans-serif, 'Apple Color Emoji', 'Segoe UI Emoji', 'Segoe UI Symbol'\" font-style=\"italic\" font-size=\"13.00\">double</text>\n",
       "<polygon fill=\"#ffffff\" stroke=\"none\" points=\"9,-81 9,-105 40,-105 40,-81 9,-81\"/>\n",
       "<polygon fill=\"#ffffff\" stroke=\"none\" points=\"40,-81 40,-105 174,-105 174,-81 40,-81\"/>\n",
       "<text text-anchor=\"start\" x=\"45\" y=\"-89.6\" font-family=\"-apple-system, BlinkMacSystemFont, 'Segoe UI', Helvetica, Arial, sans-serif, 'Apple Color Emoji', 'Segoe UI Emoji', 'Segoe UI Symbol'\" font-size=\"13.00\">product_receipt_score</text>\n",
       "<polygon fill=\"#ffffff\" stroke=\"none\" points=\"174,-81 174,-105 221,-105 221,-81 174,-81\"/>\n",
       "<text text-anchor=\"start\" x=\"179\" y=\"-90.6\" font-family=\"-apple-system, BlinkMacSystemFont, 'Segoe UI', Helvetica, Arial, sans-serif, 'Apple Color Emoji', 'Segoe UI Emoji', 'Segoe UI Symbol'\" font-style=\"italic\" font-size=\"13.00\">double</text>\n",
       "<polygon fill=\"#f5f5f5\" stroke=\"none\" points=\"9,-57 9,-81 40,-81 40,-57 9,-57\"/>\n",
       "<polygon fill=\"#f5f5f5\" stroke=\"none\" points=\"40,-57 40,-81 174,-81 174,-57 40,-57\"/>\n",
       "<text text-anchor=\"start\" x=\"45\" y=\"-65.6\" font-family=\"-apple-system, BlinkMacSystemFont, 'Segoe UI', Helvetica, Arial, sans-serif, 'Apple Color Emoji', 'Segoe UI Emoji', 'Segoe UI Symbol'\" font-size=\"13.00\">Product Class</text>\n",
       "<polygon fill=\"#f5f5f5\" stroke=\"none\" points=\"174,-57 174,-81 221,-81 221,-57 174,-57\"/>\n",
       "<text text-anchor=\"start\" x=\"183\" y=\"-66.6\" font-family=\"-apple-system, BlinkMacSystemFont, 'Segoe UI', Helvetica, Arial, sans-serif, 'Apple Color Emoji', 'Segoe UI Emoji', 'Segoe UI Symbol'\" font-style=\"italic\" font-size=\"13.00\">String</text>\n",
       "<polygon fill=\"#ffffff\" stroke=\"none\" points=\"9,-33 9,-57 40,-57 40,-33 9,-33\"/>\n",
       "<polygon fill=\"#ffffff\" stroke=\"none\" points=\"40,-33 40,-57 174,-57 174,-33 40,-33\"/>\n",
       "<text text-anchor=\"start\" x=\"45\" y=\"-41.6\" font-family=\"-apple-system, BlinkMacSystemFont, 'Segoe UI', Helvetica, Arial, sans-serif, 'Apple Color Emoji', 'Segoe UI Emoji', 'Segoe UI Symbol'\" font-size=\"13.00\">class</text>\n",
       "<polygon fill=\"#ffffff\" stroke=\"none\" points=\"174,-33 174,-57 221,-57 221,-33 174,-33\"/>\n",
       "<text text-anchor=\"start\" x=\"202\" y=\"-42.6\" font-family=\"-apple-system, BlinkMacSystemFont, 'Segoe UI', Helvetica, Arial, sans-serif, 'Apple Color Emoji', 'Segoe UI Emoji', 'Segoe UI Symbol'\" font-style=\"italic\" font-size=\"13.00\">int</text>\n",
       "<polygon fill=\"none\" stroke=\"black\" points=\"8,-32 8,-250 222,-250 222,-32 8,-32\"/>\n",
       "</g>\n",
       "<!-- Products_store -->\n",
       "<g id=\"node2\" class=\"node\"><title>Products_store</title>\n",
       "<text text-anchor=\"start\" x=\"441.5\" y=\"-286.6\" font-family=\"-apple-system, BlinkMacSystemFont, 'Segoe UI', Helvetica, Arial, sans-serif, 'Apple Color Emoji', 'Segoe UI Emoji', 'Segoe UI Symbol'\" font-weight=\"bold\" font-size=\"13.00\">Products_store</text>\n",
       "<polygon fill=\"#f5f5f5\" stroke=\"none\" points=\"406,-253 406,-277 437,-277 437,-253 406,-253\"/>\n",
       "<text text-anchor=\"start\" x=\"411\" y=\"-262.6\" font-family=\"-apple-system, BlinkMacSystemFont, 'Segoe UI', Helvetica, Arial, sans-serif, 'Apple Color Emoji', 'Segoe UI Emoji', 'Segoe UI Symbol'\" font-weight=\"bold\" font-size=\"13.00\">key</text>\n",
       "<polygon fill=\"#f5f5f5\" stroke=\"none\" points=\"437,-253 437,-277 526,-277 526,-253 437,-253\"/>\n",
       "<text text-anchor=\"start\" x=\"442\" y=\"-261.6\" font-family=\"-apple-system, BlinkMacSystemFont, 'Segoe UI', Helvetica, Arial, sans-serif, 'Apple Color Emoji', 'Segoe UI Emoji', 'Segoe UI Symbol'\" font-size=\"13.00\">ProductId</text>\n",
       "<polygon fill=\"#f5f5f5\" stroke=\"none\" points=\"526,-253 526,-277 569,-277 569,-253 526,-253\"/>\n",
       "<text text-anchor=\"start\" x=\"541\" y=\"-262.6\" font-family=\"-apple-system, BlinkMacSystemFont, 'Segoe UI', Helvetica, Arial, sans-serif, 'Apple Color Emoji', 'Segoe UI Emoji', 'Segoe UI Symbol'\" font-style=\"italic\" font-size=\"13.00\">long</text>\n",
       "<polygon fill=\"#ffffff\" stroke=\"none\" points=\"406,-229 406,-253 437,-253 437,-229 406,-229\"/>\n",
       "<polygon fill=\"#ffffff\" stroke=\"none\" points=\"437,-229 437,-253 526,-253 526,-229 437,-229\"/>\n",
       "<text text-anchor=\"start\" x=\"442\" y=\"-237.6\" font-family=\"-apple-system, BlinkMacSystemFont, 'Segoe UI', Helvetica, Arial, sans-serif, 'Apple Color Emoji', 'Segoe UI Emoji', 'Segoe UI Symbol'\" font-size=\"13.00\">Product Name</text>\n",
       "<polygon fill=\"#ffffff\" stroke=\"none\" points=\"526,-229 526,-253 569,-253 569,-229 526,-229\"/>\n",
       "<text text-anchor=\"start\" x=\"531\" y=\"-238.6\" font-family=\"-apple-system, BlinkMacSystemFont, 'Segoe UI', Helvetica, Arial, sans-serif, 'Apple Color Emoji', 'Segoe UI Emoji', 'Segoe UI Symbol'\" font-style=\"italic\" font-size=\"13.00\">String</text>\n",
       "<polygon fill=\"#f5f5f5\" stroke=\"none\" points=\"406,-205 406,-229 437,-229 437,-205 406,-205\"/>\n",
       "<polygon fill=\"#f5f5f5\" stroke=\"none\" points=\"437,-205 437,-229 526,-229 526,-205 437,-205\"/>\n",
       "<text text-anchor=\"start\" x=\"442\" y=\"-213.6\" font-family=\"-apple-system, BlinkMacSystemFont, 'Segoe UI', Helvetica, Arial, sans-serif, 'Apple Color Emoji', 'Segoe UI Emoji', 'Segoe UI Symbol'\" font-size=\"13.00\">Brand</text>\n",
       "<polygon fill=\"#f5f5f5\" stroke=\"none\" points=\"526,-205 526,-229 569,-229 569,-205 526,-205\"/>\n",
       "<text text-anchor=\"start\" x=\"531\" y=\"-214.6\" font-family=\"-apple-system, BlinkMacSystemFont, 'Segoe UI', Helvetica, Arial, sans-serif, 'Apple Color Emoji', 'Segoe UI Emoji', 'Segoe UI Symbol'\" font-style=\"italic\" font-size=\"13.00\">String</text>\n",
       "<polygon fill=\"none\" stroke=\"black\" points=\"404.5,-204 404.5,-302 569.5,-302 569.5,-204 404.5,-204\"/>\n",
       "</g>\n",
       "<!-- classified_products&#45;&gt;Products_store -->\n",
       "<g id=\"edge3\" class=\"edge\"><title>classified_products-&gt;Products_store</title>\n",
       "<path fill=\"none\" stroke=\"black\" d=\"M230.031,-175.518C280.091,-190.671 338.321,-208.297 386.584,-222.907\"/>\n",
       "<polygon fill=\"black\" stroke=\"black\" points=\"385.826,-226.334 396.411,-225.881 387.854,-219.634 385.826,-226.334\"/>\n",
       "<text text-anchor=\"middle\" x=\"311.5\" y=\"-219.6\" font-family=\"-apple-system, BlinkMacSystemFont, 'Segoe UI', Helvetica, Arial, sans-serif, 'Apple Color Emoji', 'Segoe UI Emoji', 'Segoe UI Symbol'\" font-size=\"13.00\">ProductId → ProductId</text>\n",
       "</g>\n",
       "<!-- purchase_prices -->\n",
       "<g id=\"node3\" class=\"node\"><title>purchase_prices</title>\n",
       "<text text-anchor=\"start\" x=\"438\" y=\"-162.6\" font-family=\"-apple-system, BlinkMacSystemFont, 'Segoe UI', Helvetica, Arial, sans-serif, 'Apple Color Emoji', 'Segoe UI Emoji', 'Segoe UI Symbol'\" font-weight=\"bold\" font-size=\"13.00\">purchase_prices</text>\n",
       "<polygon fill=\"#f5f5f5\" stroke=\"none\" points=\"402,-129 402,-153 433,-153 433,-129 402,-129\"/>\n",
       "<text text-anchor=\"start\" x=\"407\" y=\"-138.6\" font-family=\"-apple-system, BlinkMacSystemFont, 'Segoe UI', Helvetica, Arial, sans-serif, 'Apple Color Emoji', 'Segoe UI Emoji', 'Segoe UI Symbol'\" font-weight=\"bold\" font-size=\"13.00\">key</text>\n",
       "<polygon fill=\"#f5f5f5\" stroke=\"none\" points=\"433,-129 433,-153 525,-153 525,-129 433,-129\"/>\n",
       "<text text-anchor=\"start\" x=\"438\" y=\"-137.6\" font-family=\"-apple-system, BlinkMacSystemFont, 'Segoe UI', Helvetica, Arial, sans-serif, 'Apple Color Emoji', 'Segoe UI Emoji', 'Segoe UI Symbol'\" font-size=\"13.00\">ProductId</text>\n",
       "<polygon fill=\"#f5f5f5\" stroke=\"none\" points=\"525,-129 525,-153 572,-153 572,-129 525,-129\"/>\n",
       "<text text-anchor=\"start\" x=\"544\" y=\"-138.6\" font-family=\"-apple-system, BlinkMacSystemFont, 'Segoe UI', Helvetica, Arial, sans-serif, 'Apple Color Emoji', 'Segoe UI Emoji', 'Segoe UI Symbol'\" font-style=\"italic\" font-size=\"13.00\">long</text>\n",
       "<polygon fill=\"#ffffff\" stroke=\"none\" points=\"402,-105 402,-129 433,-129 433,-105 402,-105\"/>\n",
       "<polygon fill=\"#ffffff\" stroke=\"none\" points=\"433,-105 433,-129 525,-129 525,-105 433,-105\"/>\n",
       "<text text-anchor=\"start\" x=\"438\" y=\"-113.6\" font-family=\"-apple-system, BlinkMacSystemFont, 'Segoe UI', Helvetica, Arial, sans-serif, 'Apple Color Emoji', 'Segoe UI Emoji', 'Segoe UI Symbol'\" font-size=\"13.00\">PurchasePrice</text>\n",
       "<polygon fill=\"#ffffff\" stroke=\"none\" points=\"525,-105 525,-129 572,-129 572,-105 525,-105\"/>\n",
       "<text text-anchor=\"start\" x=\"530\" y=\"-114.6\" font-family=\"-apple-system, BlinkMacSystemFont, 'Segoe UI', Helvetica, Arial, sans-serif, 'Apple Color Emoji', 'Segoe UI Emoji', 'Segoe UI Symbol'\" font-style=\"italic\" font-size=\"13.00\">double</text>\n",
       "<polygon fill=\"none\" stroke=\"black\" points=\"401,-104 401,-178 573,-178 573,-104 401,-104\"/>\n",
       "</g>\n",
       "<!-- classified_products&#45;&gt;purchase_prices -->\n",
       "<g id=\"edge2\" class=\"edge\"><title>classified_products-&gt;purchase_prices</title>\n",
       "<path fill=\"none\" stroke=\"black\" d=\"M230.031,-141C278.695,-141 335.08,-141 382.524,-141\"/>\n",
       "<polygon fill=\"black\" stroke=\"black\" points=\"382.816,-144.5 392.816,-141 382.816,-137.5 382.816,-144.5\"/>\n",
       "<text text-anchor=\"middle\" x=\"311.5\" y=\"-144.6\" font-family=\"-apple-system, BlinkMacSystemFont, 'Segoe UI', Helvetica, Arial, sans-serif, 'Apple Color Emoji', 'Segoe UI Emoji', 'Segoe UI Symbol'\" font-size=\"13.00\">ProductId → ProductId</text>\n",
       "</g>\n",
       "<!-- selling_prices -->\n",
       "<g id=\"node4\" class=\"node\"><title>selling_prices</title>\n",
       "<text text-anchor=\"start\" x=\"446.5\" y=\"-62.6\" font-family=\"-apple-system, BlinkMacSystemFont, 'Segoe UI', Helvetica, Arial, sans-serif, 'Apple Color Emoji', 'Segoe UI Emoji', 'Segoe UI Symbol'\" font-weight=\"bold\" font-size=\"13.00\">selling_prices</text>\n",
       "<polygon fill=\"#f5f5f5\" stroke=\"none\" points=\"410,-29 410,-53 441,-53 441,-29 410,-29\"/>\n",
       "<text text-anchor=\"start\" x=\"415\" y=\"-38.6\" font-family=\"-apple-system, BlinkMacSystemFont, 'Segoe UI', Helvetica, Arial, sans-serif, 'Apple Color Emoji', 'Segoe UI Emoji', 'Segoe UI Symbol'\" font-weight=\"bold\" font-size=\"13.00\">key</text>\n",
       "<polygon fill=\"#f5f5f5\" stroke=\"none\" points=\"441,-29 441,-53 517,-53 517,-29 441,-29\"/>\n",
       "<text text-anchor=\"start\" x=\"446\" y=\"-37.6\" font-family=\"-apple-system, BlinkMacSystemFont, 'Segoe UI', Helvetica, Arial, sans-serif, 'Apple Color Emoji', 'Segoe UI Emoji', 'Segoe UI Symbol'\" font-size=\"13.00\">ProductId</text>\n",
       "<polygon fill=\"#f5f5f5\" stroke=\"none\" points=\"517,-29 517,-53 564,-53 564,-29 517,-29\"/>\n",
       "<text text-anchor=\"start\" x=\"536\" y=\"-38.6\" font-family=\"-apple-system, BlinkMacSystemFont, 'Segoe UI', Helvetica, Arial, sans-serif, 'Apple Color Emoji', 'Segoe UI Emoji', 'Segoe UI Symbol'\" font-style=\"italic\" font-size=\"13.00\">long</text>\n",
       "<polygon fill=\"#ffffff\" stroke=\"none\" points=\"410,-5 410,-29 441,-29 441,-5 410,-5\"/>\n",
       "<polygon fill=\"#ffffff\" stroke=\"none\" points=\"441,-5 441,-29 517,-29 517,-5 441,-5\"/>\n",
       "<text text-anchor=\"start\" x=\"446\" y=\"-13.6\" font-family=\"-apple-system, BlinkMacSystemFont, 'Segoe UI', Helvetica, Arial, sans-serif, 'Apple Color Emoji', 'Segoe UI Emoji', 'Segoe UI Symbol'\" font-size=\"13.00\">SellingPrice</text>\n",
       "<polygon fill=\"#ffffff\" stroke=\"none\" points=\"517,-5 517,-29 564,-29 564,-5 517,-5\"/>\n",
       "<text text-anchor=\"start\" x=\"522\" y=\"-14.6\" font-family=\"-apple-system, BlinkMacSystemFont, 'Segoe UI', Helvetica, Arial, sans-serif, 'Apple Color Emoji', 'Segoe UI Emoji', 'Segoe UI Symbol'\" font-style=\"italic\" font-size=\"13.00\">double</text>\n",
       "<polygon fill=\"none\" stroke=\"black\" points=\"409,-4 409,-78 565,-78 565,-4 409,-4\"/>\n",
       "</g>\n",
       "<!-- classified_products&#45;&gt;selling_prices -->\n",
       "<g id=\"edge1\" class=\"edge\"><title>classified_products-&gt;selling_prices</title>\n",
       "<path fill=\"none\" stroke=\"black\" d=\"M230.031,-110.181C281.688,-96.2194 342.046,-79.9065 391.173,-66.6288\"/>\n",
       "<polygon fill=\"black\" stroke=\"black\" points=\"392.103,-70.0033 400.843,-64.0153 390.276,-63.2457 392.103,-70.0033\"/>\n",
       "<text text-anchor=\"middle\" x=\"311.5\" y=\"-105.6\" font-family=\"-apple-system, BlinkMacSystemFont, 'Segoe UI', Helvetica, Arial, sans-serif, 'Apple Color Emoji', 'Segoe UI Emoji', 'Segoe UI Symbol'\" font-size=\"13.00\">ProductId → ProductId</text>\n",
       "</g>\n",
       "</g>\n",
       "</svg>"
      ],
      "text/plain": [
       "<IPython.core.display.SVG object>"
      ]
     },
     "execution_count": 23,
     "metadata": {},
     "output_type": "execute_result"
    }
   ],
   "source": [
    "cube.schema"
   ]
  },
  {
   "cell_type": "markdown",
   "metadata": {},
   "source": [
    "Let's now add the margin measure"
   ]
  },
  {
   "cell_type": "code",
   "execution_count": 24,
   "metadata": {},
   "outputs": [],
   "source": [
    "m = cube.measures\n",
    "h = cube.hierarchies\n",
    "lvl = cube.levels"
   ]
  },
  {
   "cell_type": "code",
   "execution_count": 25,
   "metadata": {},
   "outputs": [
    {
     "data": {
      "application/json": {
       "Dimensions": {
        "Products_store": {
         "Brand": [
          "Brand"
         ],
         "Product Name": [
          "Product Name"
         ]
        },
        "classified_products": {
         "Product Class": [
          "Product Class"
         ],
         "ProductId": [
          "ProductId"
         ],
         "class": [
          "class"
         ]
        }
       },
       "Measures": {
        "contributors.COUNT": {
         "formatter": "INT[#,###]"
        },
        "edge_purchases.MEAN": {
         "formatter": "DOUBLE[#,###.00]"
        },
        "edge_purchases.SUM": {
         "formatter": "DOUBLE[#,###.00]"
        },
        "n_purchases.MEAN": {
         "formatter": "DOUBLE[#,###.00]"
        },
        "n_purchases.SUM": {
         "formatter": "DOUBLE[#,###.00]"
        },
        "product_receipt_score.MEAN": {
         "formatter": "DOUBLE[#,###.00]"
        },
        "product_receipt_score.SUM": {
         "formatter": "DOUBLE[#,###.00]"
        },
        "solo_purchases.MEAN": {
         "formatter": "DOUBLE[#,###.00]"
        },
        "solo_purchases.SUM": {
         "formatter": "DOUBLE[#,###.00]"
        },
        "solo_sales_ratio.MEAN": {
         "formatter": "DOUBLE[#,###.00]"
        },
        "solo_sales_ratio.SUM": {
         "formatter": "DOUBLE[#,###.00]"
        }
       }
      },
      "text/html": [
       "<ul>\n",
       "<li>products_cube\n",
       "  <ul>\n",
       "  <li>Dimensions\n",
       "    <ul>\n",
       "    <li>Products_store\n",
       "      <ul>\n",
       "      <li>Brand\n",
       "        <ol>\n",
       "        <li>Brand</li>\n",
       "        </ol>      </li>\n",
       "      <li>Product Name\n",
       "        <ol>\n",
       "        <li>Product Name</li>\n",
       "        </ol>      </li>\n",
       "      </ul>\n",
       "    </li>\n",
       "    <li>classified_products\n",
       "      <ul>\n",
       "      <li>Product Class\n",
       "        <ol>\n",
       "        <li>Product Class</li>\n",
       "        </ol>      </li>\n",
       "      <li>ProductId\n",
       "        <ol>\n",
       "        <li>ProductId</li>\n",
       "        </ol>      </li>\n",
       "      <li>class\n",
       "        <ol>\n",
       "        <li>class</li>\n",
       "        </ol>      </li>\n",
       "      </ul>\n",
       "    </li>\n",
       "    </ul>\n",
       "  </li>\n",
       "  <li>Measures\n",
       "    <ul>\n",
       "    <li>contributors.COUNT\n",
       "      <ul>\n",
       "      <li>formatter: INT[#,###]</li>\n",
       "      </ul>\n",
       "    </li>\n",
       "    <li>edge_purchases.MEAN\n",
       "      <ul>\n",
       "      <li>formatter: DOUBLE[#,###.00]</li>\n",
       "      </ul>\n",
       "    </li>\n",
       "    <li>edge_purchases.SUM\n",
       "      <ul>\n",
       "      <li>formatter: DOUBLE[#,###.00]</li>\n",
       "      </ul>\n",
       "    </li>\n",
       "    <li>n_purchases.MEAN\n",
       "      <ul>\n",
       "      <li>formatter: DOUBLE[#,###.00]</li>\n",
       "      </ul>\n",
       "    </li>\n",
       "    <li>n_purchases.SUM\n",
       "      <ul>\n",
       "      <li>formatter: DOUBLE[#,###.00]</li>\n",
       "      </ul>\n",
       "    </li>\n",
       "    <li>product_receipt_score.MEAN\n",
       "      <ul>\n",
       "      <li>formatter: DOUBLE[#,###.00]</li>\n",
       "      </ul>\n",
       "    </li>\n",
       "    <li>product_receipt_score.SUM\n",
       "      <ul>\n",
       "      <li>formatter: DOUBLE[#,###.00]</li>\n",
       "      </ul>\n",
       "    </li>\n",
       "    <li>solo_purchases.MEAN\n",
       "      <ul>\n",
       "      <li>formatter: DOUBLE[#,###.00]</li>\n",
       "      </ul>\n",
       "    </li>\n",
       "    <li>solo_purchases.SUM\n",
       "      <ul>\n",
       "      <li>formatter: DOUBLE[#,###.00]</li>\n",
       "      </ul>\n",
       "    </li>\n",
       "    <li>solo_sales_ratio.MEAN\n",
       "      <ul>\n",
       "      <li>formatter: DOUBLE[#,###.00]</li>\n",
       "      </ul>\n",
       "    </li>\n",
       "    <li>solo_sales_ratio.SUM\n",
       "      <ul>\n",
       "      <li>formatter: DOUBLE[#,###.00]</li>\n",
       "      </ul>\n",
       "    </li>\n",
       "    </ul>\n",
       "  </li>\n",
       "  </ul>\n",
       "</li>\n",
       "</ul>\n"
      ],
      "text/plain": [
       "<atoti.cube.Cube at 0x21894d1d8e0>"
      ]
     },
     "execution_count": 25,
     "metadata": {
      "application/json": {
       "expanded": false,
       "root": "products_cube"
      }
     },
     "output_type": "execute_result"
    }
   ],
   "source": [
    "cube"
   ]
  },
  {
   "cell_type": "markdown",
   "metadata": {},
   "source": [
    "Because selling and purchase prices are different per products, we have to compute the margin at ProductId level using parameter \"scope\", and then aggregate it as a sum above this level:\n",
    "\n",
    "$\\sum_{p \\in Products}{(Selling Price - Purchase Price) \\times Quantity Sold}$"
   ]
  },
  {
   "cell_type": "code",
   "execution_count": 26,
   "metadata": {},
   "outputs": [],
   "source": [
    "m[\"SellingPrice.VALUE\"] = selling_prices_store[\"SellingPrice\"]\n",
    "m[\"PurchasePrice.VALUE\"] = purchase_prices_store[\"PurchasePrice\"]\n",
    "m[\"Margin.SUM\"] = atoti.agg.sum(\n",
    "    (m[\"SellingPrice.VALUE\"] - m[\"PurchasePrice.VALUE\"])\n",
    "    * classified_products_store[\"n_purchases\"],\n",
    "    scope=atoti.scope.origin(lvl[\"ProductId\"]),\n",
    ")"
   ]
  },
  {
   "cell_type": "code",
   "execution_count": 27,
   "metadata": {
    "atoti": {
     "widget": {
      "mapping": {
       "horizontal": [],
       "splitBy": [],
       "values": [
        "[Measures].[Margin.SUM]"
       ],
       "vertical": [],
       "xAxis": [
        "[classified_products].[Product Class].[Product Class]"
       ]
      },
      "name": "Margin per product class",
      "query": {
       "context": {
        "queriesResultLimit.intermediateSize": 1000000,
        "queriesResultLimit.transientSize": 10000000
       },
       "mdx": "SELECT NON EMPTY [classified_products].[Product Class].[Product Class].Members ON ROWS, NON EMPTY [Measures].[Margin.SUM] ON COLUMNS FROM [products_cube] CELL PROPERTIES VALUE, FORMATTED_VALUE, BACK_COLOR, FORE_COLOR, FONT_FLAGS",
       "updateMode": "once"
      },
      "serverKey": "default",
      "switchedTo": "plotly-clustered-column-chart",
      "widgetKey": "plotly-line-chart"
     }
    }
   },
   "outputs": [
    {
     "data": {
      "application/vnd.atoti.v0+json": {
       "name": "Margin per product class",
       "session": "Unnamed"
      },
      "text/html": [
       "<img src=\"data:image/svg+xml;charset=utf8,%3C%3Fxml%20version%3D%221.0%22%20standalone%3D%22no%22%3F%3E%3Csvg%20xmlns%3D%22http%3A%2F%2Fwww.w3.org%2F2000%2Fsvg%22%20xmlns%3Axlink%3D%22http%3A%2F%2Fwww.w3.org%2F1999%2Fxlink%22%20height%3D%22348%22%20width%3D%221087%22%20viewBox%3D%220%200%201087%20348%22%3E%3Cdefs%20id%3D%22defs-e2b7fa%22%3E%3Cg%20class%3D%22clips%22%3E%3CclipPath%20id%3D%22clipe2b7faxyplot%22%20class%3D%22plotclip%22%3E%3Crect%20width%3D%221007%22%20height%3D%22238%22%2F%3E%3C%2FclipPath%3E%3CclipPath%20class%3D%22axesclip%22%20id%3D%22clipe2b7fax%22%3E%3Crect%20x%3D%2280%22%20y%3D%220%22%20width%3D%221007%22%20height%3D%22348%22%2F%3E%3C%2FclipPath%3E%3CclipPath%20class%3D%22axesclip%22%20id%3D%22clipe2b7fay%22%3E%3Crect%20x%3D%220%22%20y%3D%2230%22%20width%3D%221087%22%20height%3D%22238%22%2F%3E%3C%2FclipPath%3E%3CclipPath%20class%3D%22axesclip%22%20id%3D%22clipe2b7faxy%22%3E%3Crect%20x%3D%2280%22%20y%3D%2230%22%20width%3D%221007%22%20height%3D%22238%22%2F%3E%3C%2FclipPath%3E%3C%2Fg%3E%3Cg%20class%3D%22gradients%22%2F%3E%3C%2Fdefs%3E%3Cg%20class%3D%22bglayer%22%2F%3E%3Cg%20class%3D%22draglayer%20cursor-crosshair%22%3E%3Cg%20class%3D%22xy%22%3E%3Crect%20class%3D%22nsewdrag%20drag%22%20data-subplot%3D%22xy%22%20x%3D%2280%22%20y%3D%2230%22%20width%3D%221007%22%20height%3D%22238%22%20style%3D%22fill%3A%20transparent%3B%20stroke-width%3A%200%3B%20pointer-events%3A%20all%3B%22%2F%3E%3Crect%20class%3D%22nwdrag%20drag%20cursor-nw-resize%22%20data-subplot%3D%22xy%22%20x%3D%2260%22%20y%3D%2210%22%20width%3D%2220%22%20height%3D%2220%22%20style%3D%22fill%3A%20transparent%3B%20stroke-width%3A%200%3B%20pointer-events%3A%20all%3B%22%2F%3E%3Crect%20class%3D%22nedrag%20drag%20cursor-ne-resize%22%20data-subplot%3D%22xy%22%20x%3D%221087%22%20y%3D%2210%22%20width%3D%2220%22%20height%3D%2220%22%20style%3D%22fill%3A%20transparent%3B%20stroke-width%3A%200%3B%20pointer-events%3A%20all%3B%22%2F%3E%3Crect%20class%3D%22swdrag%20drag%20cursor-sw-resize%22%20data-subplot%3D%22xy%22%20x%3D%2260%22%20y%3D%22268%22%20width%3D%2220%22%20height%3D%2220%22%20style%3D%22fill%3A%20transparent%3B%20stroke-width%3A%200%3B%20pointer-events%3A%20all%3B%22%2F%3E%3Crect%20class%3D%22sedrag%20drag%20cursor-se-resize%22%20data-subplot%3D%22xy%22%20x%3D%221087%22%20y%3D%22268%22%20width%3D%2220%22%20height%3D%2220%22%20style%3D%22fill%3A%20transparent%3B%20stroke-width%3A%200%3B%20pointer-events%3A%20all%3B%22%2F%3E%3Crect%20class%3D%22ewdrag%20drag%20cursor-ew-resize%22%20data-subplot%3D%22xy%22%20x%3D%22180.7%22%20y%3D%22268.5%22%20width%3D%22805.6%22%20height%3D%2220%22%20style%3D%22fill%3A%20transparent%3B%20stroke-width%3A%200%3B%20pointer-events%3A%20all%3B%22%2F%3E%3Crect%20class%3D%22wdrag%20drag%20cursor-w-resize%22%20data-subplot%3D%22xy%22%20x%3D%2280%22%20y%3D%22268.5%22%20width%3D%22100.7%22%20height%3D%2220%22%20style%3D%22fill%3A%20transparent%3B%20stroke-width%3A%200%3B%20pointer-events%3A%20all%3B%22%2F%3E%3Crect%20class%3D%22edrag%20drag%20cursor-e-resize%22%20data-subplot%3D%22xy%22%20x%3D%22986.3000000000001%22%20y%3D%22268.5%22%20width%3D%22100.7%22%20height%3D%2220%22%20style%3D%22fill%3A%20transparent%3B%20stroke-width%3A%200%3B%20pointer-events%3A%20all%3B%22%2F%3E%3Crect%20class%3D%22nsdrag%20drag%20cursor-ns-resize%22%20data-subplot%3D%22xy%22%20x%3D%2259.5%22%20y%3D%2253.8%22%20width%3D%2220%22%20height%3D%22190.4%22%20style%3D%22fill%3A%20transparent%3B%20stroke-width%3A%200%3B%20pointer-events%3A%20all%3B%22%2F%3E%3Crect%20class%3D%22sdrag%20drag%20cursor-s-resize%22%20data-subplot%3D%22xy%22%20x%3D%2259.5%22%20y%3D%22244.20000000000002%22%20width%3D%2220%22%20height%3D%2223.8%22%20style%3D%22fill%3A%20transparent%3B%20stroke-width%3A%200%3B%20pointer-events%3A%20all%3B%22%2F%3E%3Crect%20class%3D%22ndrag%20drag%20cursor-n-resize%22%20data-subplot%3D%22xy%22%20x%3D%2259.5%22%20y%3D%2230%22%20width%3D%2220%22%20height%3D%2223.8%22%20style%3D%22fill%3A%20transparent%3B%20stroke-width%3A%200%3B%20pointer-events%3A%20all%3B%22%2F%3E%3C%2Fg%3E%3C%2Fg%3E%3Cg%20class%3D%22layer-below%22%3E%3Cg%20class%3D%22imagelayer%22%2F%3E%3Cg%20class%3D%22shapelayer%22%2F%3E%3C%2Fg%3E%3Cg%20class%3D%22cartesianlayer%22%3E%3Cg%20class%3D%22subplot%20xy%22%3E%3Cg%20class%3D%22layer-subplot%22%3E%3Cg%20class%3D%22shapelayer%22%2F%3E%3Cg%20class%3D%22imagelayer%22%2F%3E%3C%2Fg%3E%3Cg%20class%3D%22gridlayer%22%3E%3Cg%20class%3D%22x%22%3E%3Cpath%20class%3D%22xgrid%20crisp%22%20transform%3D%22translate(247.83%2C0)%22%20d%3D%22M0%2C30v238%22%20style%3D%22stroke%3A%20rgb(0%2C%200%2C%200)%3B%20stroke-opacity%3A%200%3B%20stroke-width%3A%201px%3B%22%2F%3E%3Cpath%20class%3D%22xgrid%20crisp%22%20transform%3D%22translate(583.5%2C0)%22%20d%3D%22M0%2C30v238%22%20style%3D%22stroke%3A%20rgb(0%2C%200%2C%200)%3B%20stroke-opacity%3A%200%3B%20stroke-width%3A%201px%3B%22%2F%3E%3Cpath%20class%3D%22xgrid%20crisp%22%20transform%3D%22translate(919.17%2C0)%22%20d%3D%22M0%2C30v238%22%20style%3D%22stroke%3A%20rgb(0%2C%200%2C%200)%3B%20stroke-opacity%3A%200%3B%20stroke-width%3A%201px%3B%22%2F%3E%3C%2Fg%3E%3Cg%20class%3D%22y%22%3E%3Cpath%20class%3D%22ygrid%20crisp%22%20transform%3D%22translate(0%2C206.58)%22%20d%3D%22M80%2C0h1007%22%20style%3D%22stroke%3A%20rgb(89%2C%2089%2C%2089)%3B%20stroke-opacity%3A%200.25%3B%20stroke-width%3A%201px%3B%22%2F%3E%3Cpath%20class%3D%22ygrid%20crisp%22%20transform%3D%22translate(0%2C145.15)%22%20d%3D%22M80%2C0h1007%22%20style%3D%22stroke%3A%20rgb(89%2C%2089%2C%2089)%3B%20stroke-opacity%3A%200.25%3B%20stroke-width%3A%201px%3B%22%2F%3E%3Cpath%20class%3D%22ygrid%20crisp%22%20transform%3D%22translate(0%2C83.72999999999999)%22%20d%3D%22M80%2C0h1007%22%20style%3D%22stroke%3A%20rgb(89%2C%2089%2C%2089)%3B%20stroke-opacity%3A%200.25%3B%20stroke-width%3A%201px%3B%22%2F%3E%3C%2Fg%3E%3C%2Fg%3E%3Cg%20class%3D%22zerolinelayer%22%3E%3Cpath%20class%3D%22yzl%20zl%20crisp%22%20transform%3D%22translate(0%2C268)%22%20d%3D%22M80%2C0h1007%22%20style%3D%22stroke%3A%20rgb(89%2C%2089%2C%2089)%3B%20stroke-opacity%3A%200.5%3B%20stroke-width%3A%201px%3B%22%2F%3E%3C%2Fg%3E%3Cpath%20class%3D%22xlines-below%22%2F%3E%3Cpath%20class%3D%22ylines-below%22%2F%3E%3Cg%20class%3D%22overlines-below%22%2F%3E%3Cg%20class%3D%22xaxislayer-below%22%2F%3E%3Cg%20class%3D%22yaxislayer-below%22%2F%3E%3Cg%20class%3D%22overaxes-below%22%2F%3E%3Cg%20class%3D%22plot%22%20transform%3D%22translate(80%2C30)%22%20clip-path%3D%22url('%23clipe2b7faxyplot')%22%3E%3Cg%20class%3D%22barlayer%20mlayer%22%3E%3Cg%20class%3D%22trace%20bars%22%20style%3D%22opacity%3A%201%3B%22%3E%3Cg%20class%3D%22points%22%3E%3Cg%20class%3D%22point%22%3E%3Cpath%20d%3D%22M33.57%2C238V77.95H302.1V238Z%22%20style%3D%22vector-effect%3A%20non-scaling-stroke%3B%20opacity%3A%201%3B%20stroke-width%3A%200px%3B%20fill%3A%20rgb(78%2C%20121%2C%20167)%3B%20fill-opacity%3A%201%3B%22%2F%3E%3C%2Fg%3E%3Cg%20class%3D%22point%22%3E%3Cpath%20d%3D%22M369.23%2C238V11.9H637.77V238Z%22%20style%3D%22vector-effect%3A%20non-scaling-stroke%3B%20opacity%3A%201%3B%20stroke-width%3A%200px%3B%20fill%3A%20rgb(78%2C%20121%2C%20167)%3B%20fill-opacity%3A%201%3B%22%2F%3E%3C%2Fg%3E%3Cg%20class%3D%22point%22%3E%3Cpath%20d%3D%22M704.9%2C238V59.89H973.43V238Z%22%20style%3D%22vector-effect%3A%20non-scaling-stroke%3B%20opacity%3A%201%3B%20stroke-width%3A%200px%3B%20fill%3A%20rgb(78%2C%20121%2C%20167)%3B%20fill-opacity%3A%201%3B%22%2F%3E%3C%2Fg%3E%3C%2Fg%3E%3C%2Fg%3E%3C%2Fg%3E%3C%2Fg%3E%3Cg%20class%3D%22overplot%22%2F%3E%3Cpath%20class%3D%22xlines-above%20crisp%22%20d%3D%22M79%2C268.5H1087%22%20style%3D%22fill%3A%20none%3B%20stroke-width%3A%201px%3B%20stroke%3A%20rgb(89%2C%2089%2C%2089)%3B%20stroke-opacity%3A%200.25%3B%22%2F%3E%3Cpath%20class%3D%22ylines-above%20crisp%22%20d%3D%22M79.5%2C30V268%22%20style%3D%22fill%3A%20none%3B%20stroke-width%3A%201px%3B%20stroke%3A%20rgb(89%2C%2089%2C%2089)%3B%20stroke-opacity%3A%200.25%3B%22%2F%3E%3Cg%20class%3D%22overlines-above%22%2F%3E%3Cg%20class%3D%22xaxislayer-above%22%3E%3Cg%20class%3D%22xtick%22%3E%3Ctext%20text-anchor%3D%22middle%22%20x%3D%220%22%20y%3D%22283.4%22%20data-unformatted%3D%22Complementary%22%20data-math%3D%22N%22%20transform%3D%22translate(247.83%2C0)%22%20style%3D%22font-family%3A%20%26quot%3BOpen%20Sans%26quot%3B%2C%20verdana%2C%20arial%2C%20sans-serif%3B%20font-size%3A%2012px%3B%20fill%3A%20rgb(89%2C%2089%2C%2089)%3B%20fill-opacity%3A%201%3B%20white-space%3A%20pre%3B%22%3EComplementary%3C%2Ftext%3E%3C%2Fg%3E%3Cg%20class%3D%22xtick%22%3E%3Ctext%20text-anchor%3D%22middle%22%20x%3D%220%22%20y%3D%22283.4%22%20data-unformatted%3D%22Driver%22%20data-math%3D%22N%22%20transform%3D%22translate(583.5%2C0)%22%20style%3D%22font-family%3A%20%26quot%3BOpen%20Sans%26quot%3B%2C%20verdana%2C%20arial%2C%20sans-serif%3B%20font-size%3A%2012px%3B%20fill%3A%20rgb(89%2C%2089%2C%2089)%3B%20fill-opacity%3A%201%3B%20white-space%3A%20pre%3B%22%3EDriver%3C%2Ftext%3E%3C%2Fg%3E%3Cg%20class%3D%22xtick%22%3E%3Ctext%20text-anchor%3D%22middle%22%20x%3D%220%22%20y%3D%22283.4%22%20data-unformatted%3D%22Independent%22%20data-math%3D%22N%22%20transform%3D%22translate(919.17%2C0)%22%20style%3D%22font-family%3A%20%26quot%3BOpen%20Sans%26quot%3B%2C%20verdana%2C%20arial%2C%20sans-serif%3B%20font-size%3A%2012px%3B%20fill%3A%20rgb(89%2C%2089%2C%2089)%3B%20fill-opacity%3A%201%3B%20white-space%3A%20pre%3B%22%3EIndependent%3C%2Ftext%3E%3C%2Fg%3E%3C%2Fg%3E%3Cg%20class%3D%22yaxislayer-above%22%3E%3Cg%20class%3D%22ytick%22%3E%3Ctext%20text-anchor%3D%22end%22%20x%3D%2276.6%22%20y%3D%224.199999999999999%22%20data-unformatted%3D%220%22%20data-math%3D%22N%22%20transform%3D%22translate(0%2C268)%22%20style%3D%22font-family%3A%20%26quot%3BOpen%20Sans%26quot%3B%2C%20verdana%2C%20arial%2C%20sans-serif%3B%20font-size%3A%2012px%3B%20fill%3A%20rgb(89%2C%2089%2C%2089)%3B%20fill-opacity%3A%201%3B%20white-space%3A%20pre%3B%22%3E0%3C%2Ftext%3E%3C%2Fg%3E%3Cg%20class%3D%22ytick%22%3E%3Ctext%20text-anchor%3D%22end%22%20x%3D%2276.6%22%20y%3D%224.199999999999999%22%20data-unformatted%3D%22200M%22%20data-math%3D%22N%22%20transform%3D%22translate(0%2C206.58)%22%20style%3D%22font-family%3A%20%26quot%3BOpen%20Sans%26quot%3B%2C%20verdana%2C%20arial%2C%20sans-serif%3B%20font-size%3A%2012px%3B%20fill%3A%20rgb(89%2C%2089%2C%2089)%3B%20fill-opacity%3A%201%3B%20white-space%3A%20pre%3B%22%3E200M%3C%2Ftext%3E%3C%2Fg%3E%3Cg%20class%3D%22ytick%22%3E%3Ctext%20text-anchor%3D%22end%22%20x%3D%2276.6%22%20y%3D%224.199999999999999%22%20data-unformatted%3D%22400M%22%20data-math%3D%22N%22%20transform%3D%22translate(0%2C145.15)%22%20style%3D%22font-family%3A%20%26quot%3BOpen%20Sans%26quot%3B%2C%20verdana%2C%20arial%2C%20sans-serif%3B%20font-size%3A%2012px%3B%20fill%3A%20rgb(89%2C%2089%2C%2089)%3B%20fill-opacity%3A%201%3B%20white-space%3A%20pre%3B%22%3E400M%3C%2Ftext%3E%3C%2Fg%3E%3Cg%20class%3D%22ytick%22%3E%3Ctext%20text-anchor%3D%22end%22%20x%3D%2276.6%22%20y%3D%224.199999999999999%22%20data-unformatted%3D%22600M%22%20data-math%3D%22N%22%20transform%3D%22translate(0%2C83.72999999999999)%22%20style%3D%22font-family%3A%20%26quot%3BOpen%20Sans%26quot%3B%2C%20verdana%2C%20arial%2C%20sans-serif%3B%20font-size%3A%2012px%3B%20fill%3A%20rgb(89%2C%2089%2C%2089)%3B%20fill-opacity%3A%201%3B%20white-space%3A%20pre%3B%22%3E600M%3C%2Ftext%3E%3C%2Fg%3E%3C%2Fg%3E%3Cg%20class%3D%22overaxes-above%22%2F%3E%3C%2Fg%3E%3C%2Fg%3E%3Cg%20class%3D%22polarlayer%22%2F%3E%3Cg%20class%3D%22ternarylayer%22%2F%3E%3Cg%20class%3D%22geolayer%22%2F%3E%3Cg%20class%3D%22funnelarealayer%22%2F%3E%3Cg%20class%3D%22pielayer%22%2F%3E%3Cg%20class%3D%22treemaplayer%22%2F%3E%3Cg%20class%3D%22sunburstlayer%22%2F%3E%3Cg%20class%3D%22glimages%22%2F%3E%3Cdefs%20id%3D%22topdefs-e2b7fa%22%3E%3Cg%20class%3D%22clips%22%2F%3E%3C%2Fdefs%3E%3Cg%20class%3D%22indicatorlayer%22%2F%3E%3Cg%20class%3D%22layer-above%22%3E%3Cg%20class%3D%22imagelayer%22%2F%3E%3Cg%20class%3D%22shapelayer%22%2F%3E%3C%2Fg%3E%3Cg%20class%3D%22infolayer%22%3E%3Cg%20class%3D%22g-gtitle%22%2F%3E%3Cg%20class%3D%22g-xtitle%22%2F%3E%3Cg%20class%3D%22g-ytitle%22%2F%3E%3C%2Fg%3E%3Cg%20class%3D%22menulayer%22%2F%3E%3Cg%20class%3D%22zoomlayer%22%2F%3E%3Cg%20class%3D%22hoverlayer%22%2F%3E%3C%2Fsvg%3E\">"
      ],
      "text/plain": [
       "Open the notebook in JupyterLab with the atoti extension installed and enabled to start editing this widget."
      ]
     },
     "metadata": {},
     "output_type": "display_data"
    }
   ],
   "source": [
    "session.visualize(\"Margin per product class\")"
   ]
  },
  {
   "cell_type": "markdown",
   "metadata": {},
   "source": [
    "atoti visualizations are available both in the notebook, but also from the dedicated application.  \n",
    "Run the two cells below to get a link to a summary dashboard of all what was done so far."
   ]
  },
  {
   "cell_type": "code",
   "execution_count": 28,
   "metadata": {},
   "outputs": [],
   "source": [
    "m[\"SellingPrice.MEAN\"] = atoti.agg.mean(\n",
    "    m[\"SellingPrice.VALUE\"], scope=atoti.scope.origin(lvl[\"ProductId\"])\n",
    ")\n",
    "\n",
    "m[\"PurchasePrice.MEAN\"] = atoti.agg.mean(\n",
    "    m[\"PurchasePrice.VALUE\"], scope=atoti.scope.origin(lvl[\"ProductId\"])\n",
    ")"
   ]
  },
  {
   "cell_type": "code",
   "execution_count": 29,
   "metadata": {},
   "outputs": [
    {
     "data": {
      "text/plain": [
       "'http://localhost:58025/#/dashboard/326'"
      ]
     },
     "execution_count": 29,
     "metadata": {},
     "output_type": "execute_result"
    }
   ],
   "source": [
    "session.url + \"/#/dashboard/326\""
   ]
  },
  {
   "cell_type": "markdown",
   "metadata": {},
   "source": [
    "If you wish to play with the UI and explore the data by yourself, [you can have a look at our UI documentation here](https://www.activeviam.com/activeui/documentation/index.html).\n",
    "\n",
    "## Custom hierarchy"
   ]
  },
  {
   "cell_type": "code",
   "execution_count": 30,
   "metadata": {},
   "outputs": [],
   "source": [
    "h[\"Products\"] = {\n",
    "    \"Product Brand\": lvl[\"Brand\"],\n",
    "    \"Product Label\": lvl[\"Product Name\"],\n",
    "}"
   ]
  },
  {
   "cell_type": "code",
   "execution_count": 31,
   "metadata": {
    "atoti": {
     "widget": {
      "mapping": {
       "columns": [
        "ALL_MEASURES"
       ],
       "measures": [
        "[Measures].[n_purchases.MEAN]",
        "[Measures].[SellingPrice.MEAN]",
        "[Measures].[PurchasePrice.MEAN]",
        "[Measures].[Margin.SUM]"
       ],
       "rows": []
      },
      "name": "",
      "query": {
       "context": {
        "queriesResultLimit.intermediateSize": 1000000,
        "queriesResultLimit.transientSize": 10000000
       },
       "mdx": "SELECT NON EMPTY {[Measures].[n_purchases.MEAN], [Measures].[SellingPrice.MEAN], [Measures].[PurchasePrice.MEAN], [Measures].[Margin.SUM]} ON COLUMNS, NON EMPTY Hierarchize(Union(DrilldownLevel([Products_store].[Products].[ALL].[AllMember]), Descendants({[Products_store].[Products].[ALL].[AllMember].[Brand 10]}, [Products_store].[Products].[Product Label]), Descendants({[Products_store].[Products].[ALL].[AllMember].[Brand 12200846]}, [Products_store].[Products].[Product Label]))) ON ROWS FROM [products_cube] CELL PROPERTIES VALUE, FORMATTED_VALUE, BACK_COLOR, FORE_COLOR, FONT_FLAGS"
      },
      "serverKey": "default",
      "widgetKey": "pivot-table"
     }
    }
   },
   "outputs": [
    {
     "data": {
      "application/vnd.atoti.v0+json": {
       "name": null,
       "session": "Unnamed"
      },
      "text/html": [
       "<img src=\"data:image/svg+xml;charset=utf8,%3C?xml%20version=%221.0%22%20standalone=%22no%22?%3E%3Csvg%20xmlns=%22http://www.w3.org/2000/svg%22%20height=%22348%22%20width=%221087%22%3E%3CforeignObject%20width=%22100%25%22%20height=%22100%25%22%20x=%220%22%20y=%220%22%3E%3Cstyle%20type=%22text/css%22%3E.anticon%20%7Bdisplay:%20inline-block;%20color:%20inherit;%20font-style:%20normal;%20line-height:%200;%20text-align:%20center;%20text-transform:%20none;%20vertical-align:%20-0.125em;%20text-rendering:%20optimizelegibility;%20-webkit-font-smoothing:%20antialiased%7D%0A.anticon%20%3E%20*%20%7Bline-height:%201%7D%0A.anticon%20svg%20%7Bdisplay:%20inline-block%7D%0A.anticon%5Btabindex%5D%20%7Bcursor:%20pointer%7D%0A*,%20::before,%20::after%20%7Bbox-sizing:%20unset%7D%0A.ant-root%20%5Bclass%5E=%22ant-%22%5D,%20.ant-root%20%5Bclass*=%22ant-%22%5D,%20.ant-root%20%5Bclass%5E=%22ant-%22%5D%20*,%20.ant-root%20%5Bclass*=%22ant-%22%5D%20*,%20.ant-root%20%5Bclass%5E=%22ant-%22%5D%20::before,%20.ant-root%20%5Bclass*=%22ant-%22%5D%20::before,%20.ant-root%20%5Bclass%5E=%22ant-%22%5D%20::after,%20.ant-root%20%5Bclass*=%22ant-%22%5D%20::after%20%7Bbox-sizing:%20border-box%7D%0A.ant-root%20html,%20.ant-root%20%7Bwidth:%20100%25;%20height:%20100%25%7D%0A.ant-root%20*,%20.ant-root%20::before,%20.ant-root%20::after%20%7Bbox-sizing:%20border-box%7D%0A.ant-root%20%7Bmargin-top:%200px;%20margin-right:%200px;%20margin-bottom:%200px;%20margin-left:%200px;%20color:%20rgb(89,%2089,%2089);%20font-size:%2012px;%20font-family:%20-apple-system,%20BlinkMacSystemFont,%20%22Segoe%20UI%22,%20Roboto,%20%22Helvetica%20Neue%22,%20Arial,%20%22Noto%20Sans%22,%20sans-serif,%20%22Apple%20Color%20Emoji%22,%20%22Segoe%20UI%20Emoji%22,%20%22Segoe%20UI%20Symbol%22,%20%22Noto%20Color%20Emoji%22;%20font-variant-ligatures:%20normal;%20font-variant-numeric:%20tabular-nums;%20font-variant-east-asian:%20normal;%20font-variant-caps:%20normal;%20line-height:%201.66667;%20background-color:%20rgb(255,%20255,%20255);%20--antd-wave-shadow-color:%20undefined;%20--scroll-bar:%20undefined%7D%0A.ant-root%20svg:not(:root)%20%7Boverflow-x:%20hidden;%20overflow-y:%20hidden%7D%0A.ant-root%20.anticon%20%7Bdisplay:%20inline-block;%20color:%20inherit;%20font-style:%20normal;%20line-height:%200;%20text-align:%20center;%20text-transform:%20none;%20vertical-align:%20-0.125em;%20text-rendering:%20optimizelegibility;%20-webkit-font-smoothing:%20antialiased%7D%0A.ant-root%20.anticon%20%3E%20*%20%7Bline-height:%201%7D%0A.ant-root%20.anticon%20svg%20%7Bdisplay:%20inline-block%7D%0A.ant-root%20.anticon%5Btabindex%5D%20%7Bcursor:%20pointer%7D%0A.ant-root%20.ant-spin%20%7Bbox-sizing:%20border-box;%20margin-top:%200px;%20margin-right:%200px;%20margin-bottom:%200px;%20margin-left:%200px;%20padding-top:%200px;%20padding-right:%200px;%20padding-bottom:%200px;%20padding-left:%200px;%20font-size:%2012px;%20font-variant-ligatures:%20normal;%20font-variant-numeric:%20tabular-nums;%20font-variant-east-asian:%20normal;%20font-variant-caps:%20normal;%20line-height:%201.66667;%20list-style-position:%20initial;%20list-style-image:%20initial;%20list-style-type:%20none;%20position:%20absolute;%20display:%20none;%20color:%20rgb(0,%20174,%20239);%20text-align:%20center;%20vertical-align:%20middle;%20opacity:%200;%20transition-duration:%200.3s;%20transition-timing-function:%20cubic-bezier(0.78,%200.14,%200.15,%200.86);%20transition-delay:%200s;%20transition-property:%20transform%7D%0A.ant-root%20.ant-spin-spinning%20%7Bposition:%20static;%20display:%20inline-block;%20opacity:%201%7D%0A.ant-root%20.ant-spin-dot%20%7Bposition:%20relative;%20display:%20inline-block;%20font-size:%2020px;%20width:%201em;%20height:%201em%7D%0A.ant-root%20.ant-spin-dot-item%20%7Bposition:%20absolute;%20display:%20block;%20width:%209px;%20height:%209px;%20background-color:%20rgb(0,%20174,%20239);%20border-top-left-radius:%20100%25;%20border-top-right-radius:%20100%25;%20border-bottom-right-radius:%20100%25;%20border-bottom-left-radius:%20100%25;%20transform:%20scale(0.75);%20transform-origin:%2050%25%2050%25;%20opacity:%200.3;%20animation-duration:%201s;%20animation-timing-function:%20linear;%20animation-delay:%200s;%20animation-iteration-count:%20infinite;%20animation-direction:%20alternate;%20animation-fill-mode:%20none;%20animation-play-state:%20running;%20animation-name:%20antSpinMove%7D%0A.ant-root%20.ant-spin-dot-item:nth-child(1)%20%7Btop:%200px;%20left:%200px%7D%0A.ant-root%20.ant-spin-dot-item:nth-child(2)%20%7Btop:%200px;%20right:%200px;%20animation-delay:%200.4s%7D%0A.ant-root%20.ant-spin-dot-item:nth-child(3)%20%7Bright:%200px;%20bottom:%200px;%20animation-delay:%200.8s%7D%0A.ant-root%20.ant-spin-dot-item:nth-child(4)%20%7Bbottom:%200px;%20left:%200px;%20animation-delay:%201.2s%7D%0A.ant-root%20.ant-spin-dot-spin%20%7Btransform:%20rotate(45deg);%20animation-duration:%201.2s;%20animation-timing-function:%20linear;%20animation-delay:%200s;%20animation-iteration-count:%20infinite;%20animation-direction:%20normal;%20animation-fill-mode:%20none;%20animation-play-state:%20running;%20animation-name:%20antRotate%7D%0A.ant-root%20.ant-spin-lg%20.ant-spin-dot%20%7Bfont-size:%2032px%7D%0A.ant-root%20.ant-spin-lg%20.ant-spin-dot%20i%20%7Bwidth:%2014px;%20height:%2014px%7D%0A.css-12ebr42-AWidget%20%7Bheight:%20100%25%7D%0A.css-ck2xzt-Spinner%20%7B-webkit-box-align:%20center;%20align-items:%20center;%20background-image:%20initial;%20background-position-x:%20initial;%20background-position-y:%20initial;%20background-size:%20initial;%20background-repeat-x:%20initial;%20background-repeat-y:%20initial;%20background-attachment:%20initial;%20background-origin:%20initial;%20background-clip:%20initial;%20background-color:%20transparent;%20display:%20flex;%20height:%20100%25;%20-webkit-box-pack:%20center;%20justify-content:%20center;%20position:%20absolute;%20transition-duration:%20300ms;%20transition-timing-function:%20ease;%20transition-delay:%200s;%20transition-property:%20opacity;%20width:%20100%25;%20opacity:%200;%20pointer-events:%20none;%20z-index:%202%7D%0A.css-1e3kjgr-Spinner%20%7Bheight:%20100%25;%20position:%20relative%7D%0A.css-6s7z8y-Table%20%7Bpadding-bottom:%202px;%20padding-right:%202px;%20height:%20100%25%7D%0A.css-18k6uz5-Table%20%7Bcursor:%20cell;%20height:%20100%25;%20outline-color:%20initial;%20outline-style:%20none;%20outline-width:%20initial%7D%0A.css-16sdsf5-Table%20%7Bdisplay:%20flex;%20height:%20346px%7D%0A.css-cjaqq6-Table%20%7Bborder-collapse:%20collapse;%20height:%2028px;%20width:%20240px%7D%0A.css-17cmzye%20%7Bheight:%2028px;%20width:%20240px%7D%0A.css-uto3uj%20%7Bheight:%2028px;%20overflow-x:%20hidden;%20overflow-y:%20hidden;%20position:%20relative;%20width:%20240px;%20border-right-width:%202px;%20border-right-style:%20solid;%20border-right-color:%20rgb(233,%20233,%20233)%7D%0A.css-qhljdd%20%7Bheight:%20318px;%20width:%20240px;%20overflow-x:%20hidden;%20overflow-y:%20auto%7D%0A.css-1mjibed%20%7Bheight:%20641396px;%20overflow-x:%20hidden;%20overflow-y:%20hidden;%20position:%20relative;%20width:%20240px;%20border-top-width:%202px;%20border-top-style:%20solid;%20border-top-color:%20rgb(233,%20233,%20233);%20border-right-width:%202px;%20border-right-style:%20solid;%20border-right-color:%20rgb(233,%20233,%20233)%7D%0A.css-sazb3v-Table%20%7Bwidth:%20845px;%20border-collapse:%20collapse%7D%0A.css-1vgfwrz%20%7Bheight:%2028px;%20width:%20827px;%20overflow-x:%20auto;%20overflow-y:%20hidden%7D%0A.css-1xfmcxn%20%7Bheight:%2028px;%20overflow-x:%20hidden;%20overflow-y:%20hidden;%20position:%20relative;%20width:%20480px%7D%0A.css-1695grl%20%7Bheight:%20318px;%20width:%20845px;%20overflow-x:%20auto;%20overflow-y:%20auto%7D%0A.css-1t8brtf%20%7Bheight:%20641396px;%20overflow-x:%20hidden;%20overflow-y:%20hidden;%20position:%20relative;%20width:%20480px;%20border-top-width:%202px;%20border-top-style:%20solid;%20border-top-color:%20rgb(233,%20233,%20233)%7D%0A*%20%7B-ms-overflow-style:%20none;%20scrollbar-width:%20none%7D%0A*::-webkit-scrollbar%20%7Bdisplay:%20none%7D%3C/style%3E%3Cdiv%20xmlns=%22http://www.w3.org/1999/xhtml%22%20style=%22height:%20348px;%20width:%201087px;%22%3E&lt;div%20xmlns=%22http://www.w3.org/1999/xhtml%22%20class=%22ant-root%20css-0%22&gt;&lt;div%20class=%22ant-dropdown-trigger%20css-12ebr42-AWidget%22&gt;&lt;div%20class=%22css-1e3kjgr-Spinner%22&gt;&lt;div%20class=%22css-ck2xzt-Spinner%22&gt;&lt;div%20class=%22ant-spin%20ant-spin-lg%20ant-spin-spinning%22&gt;&lt;span%20class=%22ant-spin-dot%20ant-spin-dot-spin%22&gt;&lt;i%20class=%22ant-spin-dot-item%22&gt;&lt;/i&gt;&lt;i%20class=%22ant-spin-dot-item%22&gt;&lt;/i&gt;&lt;i%20class=%22ant-spin-dot-item%22&gt;&lt;/i&gt;&lt;i%20class=%22ant-spin-dot-item%22&gt;&lt;/i&gt;&lt;/span&gt;&lt;/div&gt;&lt;/div&gt;&lt;div%20class=%22css-6s7z8y-Table%22&gt;&lt;div%20tabindex=%220%22%20class=%22css-18k6uz5-Table%22&gt;&lt;div%20class=%22css-16sdsf5-Table%22&gt;&lt;div%20class=%22css-cjaqq6-Table%22&gt;&lt;div%20class=%22css-17cmzye%22&gt;&lt;div%20class=%22css-uto3uj%22&gt;&lt;div%20style=%22font-size:%2012px;%20height:%2028px;%20left:%200px;%20padding:%204px%204px%203px;%20position:%20absolute;%20top:%200px;%20width:%20120px;%20font-weight:%20600;%22&gt;Product%20Brand&lt;/div&gt;&lt;div%20style=%22font-size:%2012px;%20height:%2028px;%20left:%20120px;%20padding:%204px%204px%203px;%20position:%20absolute;%20top:%200px;%20width:%20120px;%20font-weight:%20600;%22&gt;Product%20Label&lt;/div&gt;&lt;/div&gt;&lt;/div&gt;&lt;div%20class=%22css-qhljdd%22&gt;&lt;div%20class=%22css-1mjibed%22&gt;&lt;div%20style=%22font-size:%2012px;%20font-weight:%20600;%20padding:%204px%204px%203px;%22&gt;Total&lt;/div&gt;&lt;div%20style=%22overflow:%20hidden;%20display:%20flex;%20align-items:%20center;%20font-size:%2012px;%20height:%2028px;%20left:%200px;%20padding:%204px%204px%203px;%20position:%20absolute;%20top:%2028px;%20width:%20120px;%20border-top:%201px%20solid%20rgb(233,%20233,%20233);%20font-weight:%20600;%22&gt;&lt;span%20role=%22img%22%20aria-label=%22right%22%20tabindex=%22-1%22%20class=%22anticon%20anticon-right%22%20style=%22cursor:%20pointer;%20font-size:%2010px;%20margin-right:%206px;%22&gt;&lt;svg%20xmlns=%22http://www.w3.org/2000/svg%22%20viewBox=%2264%2064%20896%20896%22%20focusable=%22false%22%20class=%22%22%20data-icon=%22right%22%20width=%221em%22%20height=%221em%22%20fill=%22currentColor%22%20aria-hidden=%22true%22&gt;&lt;path%20d=%22M765.7%20486.8L314.9%20134.7A7.97%207.97%200%2000302%20141v77.3c0%204.9%202.3%209.6%206.1%2012.6l360%20281.1-360%20281.1c-3.9%203-6.1%207.7-6.1%2012.6V883c0%206.7%207.7%2010.4%2012.9%206.3l450.8-352.1a31.96%2031.96%200%20000-50.4z%22/&gt;&lt;/svg&gt;&lt;/span&gt;&lt;span%20style=%22text-overflow:%20ellipsis;%20overflow:%20hidden;%20white-space:%20nowrap;%20max-width:%20calc((100%25%20-%2016px)%20-%200px);%22&gt;Brand%201064770&lt;/span&gt;&lt;div%20style=%22height:%20100%25;%20margin-left:%206px;%22&gt;&lt;/div&gt;&lt;/div&gt;&lt;div%20style=%22overflow:%20hidden;%20display:%20flex;%20align-items:%20center;%20font-size:%2012px;%20height:%2028px;%20left:%20120px;%20padding:%204px%204px%203px;%20position:%20absolute;%20top:%2028px;%20width:%20120px;%20border-right:%202px%20solid%20rgb(233,%20233,%20233);%20border-top:%201px%20solid%20rgb(233,%20233,%20233);%22&gt;&lt;span%20style=%22text-overflow:%20ellipsis;%20overflow:%20hidden;%20white-space:%20nowrap;%20max-width:%20calc((100%25%20-%200px)%20-%200px);%22&gt;&lt;/span&gt;&lt;div%20style=%22height:%20100%25;%20margin-left:%206px;%22&gt;&lt;/div&gt;&lt;/div&gt;&lt;div%20style=%22overflow:%20hidden;%20display:%20flex;%20align-items:%20center;%20font-size:%2012px;%20height:%2028px;%20left:%200px;%20padding:%204px%204px%203px;%20position:%20absolute;%20top:%2056px;%20width:%20120px;%20border-top:%201px%20solid%20rgb(233,%20233,%20233);%20font-weight:%20600;%22&gt;&lt;span%20role=%22img%22%20aria-label=%22right%22%20tabindex=%22-1%22%20class=%22anticon%20anticon-right%22%20style=%22cursor:%20pointer;%20font-size:%2010px;%20margin-right:%206px;%22&gt;&lt;svg%20xmlns=%22http://www.w3.org/2000/svg%22%20viewBox=%2264%2064%20896%20896%22%20focusable=%22false%22%20class=%22%22%20data-icon=%22right%22%20width=%221em%22%20height=%221em%22%20fill=%22currentColor%22%20aria-hidden=%22true%22&gt;&lt;path%20d=%22M765.7%20486.8L314.9%20134.7A7.97%207.97%200%2000302%20141v77.3c0%204.9%202.3%209.6%206.1%2012.6l360%20281.1-360%20281.1c-3.9%203-6.1%207.7-6.1%2012.6V883c0%206.7%207.7%2010.4%2012.9%206.3l450.8-352.1a31.96%2031.96%200%20000-50.4z%22/&gt;&lt;/svg&gt;&lt;/span&gt;&lt;span%20style=%22text-overflow:%20ellipsis;%20overflow:%20hidden;%20white-space:%20nowrap;%20max-width:%20calc((100%25%20-%2016px)%20-%200px);%22&gt;Brand%2011942837&lt;/span&gt;&lt;div%20style=%22height:%20100%25;%20margin-left:%206px;%22&gt;&lt;/div&gt;&lt;/div&gt;&lt;div%20style=%22overflow:%20hidden;%20display:%20flex;%20align-items:%20center;%20font-size:%2012px;%20height:%2028px;%20left:%20120px;%20padding:%204px%204px%203px;%20position:%20absolute;%20top:%2056px;%20width:%20120px;%20border-right:%202px%20solid%20rgb(233,%20233,%20233);%20border-top:%201px%20solid%20rgb(233,%20233,%20233);%22&gt;&lt;span%20style=%22text-overflow:%20ellipsis;%20overflow:%20hidden;%20white-space:%20nowrap;%20max-width:%20calc((100%25%20-%200px)%20-%200px);%22&gt;&lt;/span&gt;&lt;div%20style=%22height:%20100%25;%20margin-left:%206px;%22&gt;&lt;/div&gt;&lt;/div&gt;&lt;div%20style=%22overflow:%20hidden;%20display:%20flex;%20align-items:%20center;%20font-size:%2012px;%20height:%2028px;%20left:%200px;%20padding:%204px%204px%203px;%20position:%20absolute;%20top:%2084px;%20width:%20120px;%20border-top:%201px%20solid%20rgb(233,%20233,%20233);%20font-weight:%20600;%22&gt;&lt;span%20role=%22img%22%20aria-label=%22right%22%20tabindex=%22-1%22%20class=%22anticon%20anticon-right%22%20style=%22cursor:%20pointer;%20font-size:%2010px;%20margin-right:%206px;%22&gt;&lt;svg%20xmlns=%22http://www.w3.org/2000/svg%22%20viewBox=%2264%2064%20896%20896%22%20focusable=%22false%22%20class=%22%22%20data-icon=%22right%22%20width=%221em%22%20height=%221em%22%20fill=%22currentColor%22%20aria-hidden=%22true%22&gt;&lt;path%20d=%22M765.7%20486.8L314.9%20134.7A7.97%207.97%200%2000302%20141v77.3c0%204.9%202.3%209.6%206.1%2012.6l360%20281.1-360%20281.1c-3.9%203-6.1%207.7-6.1%2012.6V883c0%206.7%207.7%2010.4%2012.9%206.3l450.8-352.1a31.96%2031.96%200%20000-50.4z%22/&gt;&lt;/svg&gt;&lt;/span&gt;&lt;span%20style=%22text-overflow:%20ellipsis;%20overflow:%20hidden;%20white-space:%20nowrap;%20max-width:%20calc((100%25%20-%2016px)%20-%200px);%22&gt;Brand%2012079606&lt;/span&gt;&lt;div%20style=%22height:%20100%25;%20margin-left:%206px;%22&gt;&lt;/div&gt;&lt;/div&gt;&lt;div%20style=%22overflow:%20hidden;%20display:%20flex;%20align-items:%20center;%20font-size:%2012px;%20height:%2028px;%20left:%20120px;%20padding:%204px%204px%203px;%20position:%20absolute;%20top:%2084px;%20width:%20120px;%20border-right:%202px%20solid%20rgb(233,%20233,%20233);%20border-top:%201px%20solid%20rgb(233,%20233,%20233);%22&gt;&lt;span%20style=%22text-overflow:%20ellipsis;%20overflow:%20hidden;%20white-space:%20nowrap;%20max-width:%20calc((100%25%20-%200px)%20-%200px);%22&gt;&lt;/span&gt;&lt;div%20style=%22height:%20100%25;%20margin-left:%206px;%22&gt;&lt;/div&gt;&lt;/div&gt;&lt;div%20style=%22overflow:%20hidden;%20display:%20flex;%20align-items:%20center;%20font-size:%2012px;%20height:%2028px;%20left:%200px;%20padding:%204px%204px%203px;%20position:%20absolute;%20top:%20112px;%20width:%20120px;%20border-top:%201px%20solid%20rgb(233,%20233,%20233);%20font-weight:%20600;%22&gt;&lt;span%20role=%22img%22%20aria-label=%22right%22%20tabindex=%22-1%22%20class=%22anticon%20anticon-right%22%20style=%22cursor:%20pointer;%20font-size:%2010px;%20margin-right:%206px;%22&gt;&lt;svg%20xmlns=%22http://www.w3.org/2000/svg%22%20viewBox=%2264%2064%20896%20896%22%20focusable=%22false%22%20class=%22%22%20data-icon=%22right%22%20width=%221em%22%20height=%221em%22%20fill=%22currentColor%22%20aria-hidden=%22true%22&gt;&lt;path%20d=%22M765.7%20486.8L314.9%20134.7A7.97%207.97%200%2000302%20141v77.3c0%204.9%202.3%209.6%206.1%2012.6l360%20281.1-360%20281.1c-3.9%203-6.1%207.7-6.1%2012.6V883c0%206.7%207.7%2010.4%2012.9%206.3l450.8-352.1a31.96%2031.96%200%20000-50.4z%22/&gt;&lt;/svg&gt;&lt;/span&gt;&lt;span%20style=%22text-overflow:%20ellipsis;%20overflow:%20hidden;%20white-space:%20nowrap;%20max-width:%20calc((100%25%20-%2016px)%20-%200px);%22&gt;Brand%2012162535&lt;/span&gt;&lt;div%20style=%22height:%20100%25;%20margin-left:%206px;%22&gt;&lt;/div&gt;&lt;/div&gt;&lt;div%20style=%22overflow:%20hidden;%20display:%20flex;%20align-items:%20center;%20font-size:%2012px;%20height:%2028px;%20left:%20120px;%20padding:%204px%204px%203px;%20position:%20absolute;%20top:%20112px;%20width:%20120px;%20border-right:%202px%20solid%20rgb(233,%20233,%20233);%20border-top:%201px%20solid%20rgb(233,%20233,%20233);%22&gt;&lt;span%20style=%22text-overflow:%20ellipsis;%20overflow:%20hidden;%20white-space:%20nowrap;%20max-width:%20calc((100%25%20-%200px)%20-%200px);%22&gt;&lt;/span&gt;&lt;div%20style=%22height:%20100%25;%20margin-left:%206px;%22&gt;&lt;/div&gt;&lt;/div&gt;&lt;div%20style=%22overflow:%20hidden;%20display:%20flex;%20align-items:%20center;%20font-size:%2012px;%20height:%2028px;%20left:%200px;%20padding:%204px%204px%203px;%20position:%20absolute;%20top:%20140px;%20width:%20120px;%20border-top:%201px%20solid%20rgb(233,%20233,%20233);%20font-weight:%20600;%22&gt;&lt;span%20role=%22img%22%20aria-label=%22right%22%20tabindex=%22-1%22%20class=%22anticon%20anticon-right%22%20style=%22cursor:%20pointer;%20font-size:%2010px;%20margin-right:%206px;%22&gt;&lt;svg%20xmlns=%22http://www.w3.org/2000/svg%22%20viewBox=%2264%2064%20896%20896%22%20focusable=%22false%22%20class=%22%22%20data-icon=%22right%22%20width=%221em%22%20height=%221em%22%20fill=%22currentColor%22%20aria-hidden=%22true%22&gt;&lt;path%20d=%22M765.7%20486.8L314.9%20134.7A7.97%207.97%200%2000302%20141v77.3c0%204.9%202.3%209.6%206.1%2012.6l360%20281.1-360%20281.1c-3.9%203-6.1%207.7-6.1%2012.6V883c0%206.7%207.7%2010.4%2012.9%206.3l450.8-352.1a31.96%2031.96%200%20000-50.4z%22/&gt;&lt;/svg&gt;&lt;/span&gt;&lt;span%20style=%22text-overflow:%20ellipsis;%20overflow:%20hidden;%20white-space:%20nowrap;%20max-width:%20calc((100%25%20-%2016px)%20-%200px);%22&gt;Brand%2012162556&lt;/span&gt;&lt;div%20style=%22height:%20100%25;%20margin-left:%206px;%22&gt;&lt;/div&gt;&lt;/div&gt;&lt;div%20style=%22overflow:%20hidden;%20display:%20flex;%20align-items:%20center;%20font-size:%2012px;%20height:%2028px;%20left:%20120px;%20padding:%204px%204px%203px;%20position:%20absolute;%20top:%20140px;%20width:%20120px;%20border-right:%202px%20solid%20rgb(233,%20233,%20233);%20border-top:%201px%20solid%20rgb(233,%20233,%20233);%22&gt;&lt;span%20style=%22text-overflow:%20ellipsis;%20overflow:%20hidden;%20white-space:%20nowrap;%20max-width:%20calc((100%25%20-%200px)%20-%200px);%22&gt;&lt;/span&gt;&lt;div%20style=%22height:%20100%25;%20margin-left:%206px;%22&gt;&lt;/div&gt;&lt;/div&gt;&lt;div%20style=%22overflow:%20hidden;%20display:%20flex;%20align-items:%20center;%20font-size:%2012px;%20height:%2028px;%20left:%200px;%20padding:%204px%204px%203px;%20position:%20absolute;%20top:%20168px;%20width:%20120px;%20border-top:%201px%20solid%20rgb(233,%20233,%20233);%20font-weight:%20600;%22&gt;&lt;span%20role=%22img%22%20aria-label=%22right%22%20tabindex=%22-1%22%20class=%22anticon%20anticon-right%22%20style=%22cursor:%20pointer;%20font-size:%2010px;%20margin-right:%206px;%22&gt;&lt;svg%20xmlns=%22http://www.w3.org/2000/svg%22%20viewBox=%2264%2064%20896%20896%22%20focusable=%22false%22%20class=%22%22%20data-icon=%22right%22%20width=%221em%22%20height=%221em%22%20fill=%22currentColor%22%20aria-hidden=%22true%22&gt;&lt;path%20d=%22M765.7%20486.8L314.9%20134.7A7.97%207.97%200%2000302%20141v77.3c0%204.9%202.3%209.6%206.1%2012.6l360%20281.1-360%20281.1c-3.9%203-6.1%207.7-6.1%2012.6V883c0%206.7%207.7%2010.4%2012.9%206.3l450.8-352.1a31.96%2031.96%200%20000-50.4z%22/&gt;&lt;/svg&gt;&lt;/span&gt;&lt;span%20style=%22text-overflow:%20ellipsis;%20overflow:%20hidden;%20white-space:%20nowrap;%20max-width:%20calc((100%25%20-%2016px)%20-%200px);%22&gt;Brand%2012162570&lt;/span&gt;&lt;div%20style=%22height:%20100%25;%20margin-left:%206px;%22&gt;&lt;/div&gt;&lt;/div&gt;&lt;div%20style=%22overflow:%20hidden;%20display:%20flex;%20align-items:%20center;%20font-size:%2012px;%20height:%2028px;%20left:%20120px;%20padding:%204px%204px%203px;%20position:%20absolute;%20top:%20168px;%20width:%20120px;%20border-right:%202px%20solid%20rgb(233,%20233,%20233);%20border-top:%201px%20solid%20rgb(233,%20233,%20233);%22&gt;&lt;span%20style=%22text-overflow:%20ellipsis;%20overflow:%20hidden;%20white-space:%20nowrap;%20max-width:%20calc((100%25%20-%200px)%20-%200px);%22&gt;&lt;/span&gt;&lt;div%20style=%22height:%20100%25;%20margin-left:%206px;%22&gt;&lt;/div&gt;&lt;/div&gt;&lt;div%20style=%22overflow:%20hidden;%20display:%20flex;%20align-items:%20center;%20font-size:%2012px;%20height:%2028px;%20left:%200px;%20padding:%204px%204px%203px;%20position:%20absolute;%20top:%20196px;%20width:%20120px;%20border-top:%201px%20solid%20rgb(233,%20233,%20233);%20font-weight:%20600;%22&gt;&lt;span%20role=%22img%22%20aria-label=%22right%22%20tabindex=%22-1%22%20class=%22anticon%20anticon-right%22%20style=%22cursor:%20pointer;%20font-size:%2010px;%20margin-right:%206px;%22&gt;&lt;svg%20xmlns=%22http://www.w3.org/2000/svg%22%20viewBox=%2264%2064%20896%20896%22%20focusable=%22false%22%20class=%22%22%20data-icon=%22right%22%20width=%221em%22%20height=%221em%22%20fill=%22currentColor%22%20aria-hidden=%22true%22&gt;&lt;path%20d=%22M765.7%20486.8L314.9%20134.7A7.97%207.97%200%2000302%20141v77.3c0%204.9%202.3%209.6%206.1%2012.6l360%20281.1-360%20281.1c-3.9%203-6.1%207.7-6.1%2012.6V883c0%206.7%207.7%2010.4%2012.9%206.3l450.8-352.1a31.96%2031.96%200%20000-50.4z%22/&gt;&lt;/svg&gt;&lt;/span&gt;&lt;span%20style=%22text-overflow:%20ellipsis;%20overflow:%20hidden;%20white-space:%20nowrap;%20max-width:%20calc((100%25%20-%2016px)%20-%200px);%22&gt;Brand%2012162584&lt;/span&gt;&lt;div%20style=%22height:%20100%25;%20margin-left:%206px;%22&gt;&lt;/div&gt;&lt;/div&gt;&lt;div%20style=%22overflow:%20hidden;%20display:%20flex;%20align-items:%20center;%20font-size:%2012px;%20height:%2028px;%20left:%20120px;%20padding:%204px%204px%203px;%20position:%20absolute;%20top:%20196px;%20width:%20120px;%20border-right:%202px%20solid%20rgb(233,%20233,%20233);%20border-top:%201px%20solid%20rgb(233,%20233,%20233);%22&gt;&lt;span%20style=%22text-overflow:%20ellipsis;%20overflow:%20hidden;%20white-space:%20nowrap;%20max-width:%20calc((100%25%20-%200px)%20-%200px);%22&gt;&lt;/span&gt;&lt;div%20style=%22height:%20100%25;%20margin-left:%206px;%22&gt;&lt;/div&gt;&lt;/div&gt;&lt;div%20style=%22overflow:%20hidden;%20display:%20flex;%20align-items:%20center;%20font-size:%2012px;%20height:%2028px;%20left:%200px;%20padding:%204px%204px%203px;%20position:%20absolute;%20top:%20224px;%20width:%20120px;%20border-top:%201px%20solid%20rgb(233,%20233,%20233);%20font-weight:%20600;%22&gt;&lt;span%20role=%22img%22%20aria-label=%22right%22%20tabindex=%22-1%22%20class=%22anticon%20anticon-right%22%20style=%22cursor:%20pointer;%20font-size:%2010px;%20margin-right:%206px;%22&gt;&lt;svg%20xmlns=%22http://www.w3.org/2000/svg%22%20viewBox=%2264%2064%20896%20896%22%20focusable=%22false%22%20class=%22%22%20data-icon=%22right%22%20width=%221em%22%20height=%221em%22%20fill=%22currentColor%22%20aria-hidden=%22true%22&gt;&lt;path%20d=%22M765.7%20486.8L314.9%20134.7A7.97%207.97%200%2000302%20141v77.3c0%204.9%202.3%209.6%206.1%2012.6l360%20281.1-360%20281.1c-3.9%203-6.1%207.7-6.1%2012.6V883c0%206.7%207.7%2010.4%2012.9%206.3l450.8-352.1a31.96%2031.96%200%20000-50.4z%22/&gt;&lt;/svg&gt;&lt;/span&gt;&lt;span%20style=%22text-overflow:%20ellipsis;%20overflow:%20hidden;%20white-space:%20nowrap;%20max-width:%20calc((100%25%20-%2016px)%20-%200px);%22&gt;Brand%2012200846&lt;/span&gt;&lt;div%20style=%22height:%20100%25;%20margin-left:%206px;%22&gt;&lt;/div&gt;&lt;/div&gt;&lt;div%20style=%22overflow:%20hidden;%20display:%20flex;%20align-items:%20center;%20font-size:%2012px;%20height:%2028px;%20left:%20120px;%20padding:%204px%204px%203px;%20position:%20absolute;%20top:%20224px;%20width:%20120px;%20border-right:%202px%20solid%20rgb(233,%20233,%20233);%20border-top:%201px%20solid%20rgb(233,%20233,%20233);%22&gt;&lt;span%20style=%22text-overflow:%20ellipsis;%20overflow:%20hidden;%20white-space:%20nowrap;%20max-width:%20calc((100%25%20-%200px)%20-%200px);%22&gt;&lt;/span&gt;&lt;div%20style=%22height:%20100%25;%20margin-left:%206px;%22&gt;&lt;/div&gt;&lt;/div&gt;&lt;div%20style=%22overflow:%20hidden;%20display:%20none;%20align-items:%20center;%20font-size:%2012px;%20height:%2028px;%20left:%200px;%20padding:%204px%204px%203px;%20position:%20absolute;%20top:%20252px;%20width:%20120px;%20font-weight:%20600;%22&gt;&lt;span%20role=%22img%22%20aria-label=%22right%22%20tabindex=%22-1%22%20class=%22anticon%20anticon-right%22%20style=%22cursor:%20pointer;%20font-size:%2010px;%20margin-right:%206px;%22&gt;&lt;svg%20xmlns=%22http://www.w3.org/2000/svg%22%20viewBox=%2264%2064%20896%20896%22%20focusable=%22false%22%20class=%22%22%20data-icon=%22right%22%20width=%221em%22%20height=%221em%22%20fill=%22currentColor%22%20aria-hidden=%22true%22&gt;&lt;path%20d=%22M765.7%20486.8L314.9%20134.7A7.97%207.97%200%2000302%20141v77.3c0%204.9%202.3%209.6%206.1%2012.6l360%20281.1-360%20281.1c-3.9%203-6.1%207.7-6.1%2012.6V883c0%206.7%207.7%2010.4%2012.9%206.3l450.8-352.1a31.96%2031.96%200%20000-50.4z%22/&gt;&lt;/svg&gt;&lt;/span&gt;&lt;span%20style=%22text-overflow:%20ellipsis;%20overflow:%20hidden;%20white-space:%20nowrap;%20max-width:%20calc((100%25%20-%2016px)%20-%200px);%22&gt;Brand%2012200846&lt;/span&gt;&lt;div%20style=%22height:%20100%25;%20margin-left:%206px;%22&gt;&lt;/div&gt;&lt;/div&gt;&lt;div%20style=%22overflow:%20hidden;%20display:%20flex;%20align-items:%20center;%20font-size:%2012px;%20height:%2028px;%20left:%20120px;%20padding:%204px%204px%203px;%20position:%20absolute;%20top:%20252px;%20width:%20120px;%20background-color:%20rgb(250,%20250,%20250);%20border-right:%202px%20solid%20rgb(233,%20233,%20233);%22&gt;&lt;span%20style=%22text-overflow:%20ellipsis;%20overflow:%20hidden;%20white-space:%20nowrap;%20max-width:%20calc((100%25%20-%200px)%20-%200px);%22&gt;Product%2069469246&lt;/span&gt;&lt;div%20style=%22height:%20100%25;%20margin-left:%206px;%22&gt;&lt;/div&gt;&lt;/div&gt;&lt;div%20style=%22overflow:%20hidden;%20display:%20none;%20align-items:%20center;%20font-size:%2012px;%20height:%2028px;%20left:%200px;%20padding:%204px%204px%203px;%20position:%20absolute;%20top:%20280px;%20width:%20120px;%20font-weight:%20600;%22&gt;&lt;span%20role=%22img%22%20aria-label=%22right%22%20tabindex=%22-1%22%20class=%22anticon%20anticon-right%22%20style=%22cursor:%20pointer;%20font-size:%2010px;%20margin-right:%206px;%22&gt;&lt;svg%20xmlns=%22http://www.w3.org/2000/svg%22%20viewBox=%2264%2064%20896%20896%22%20focusable=%22false%22%20class=%22%22%20data-icon=%22right%22%20width=%221em%22%20height=%221em%22%20fill=%22currentColor%22%20aria-hidden=%22true%22&gt;&lt;path%20d=%22M765.7%20486.8L314.9%20134.7A7.97%207.97%200%2000302%20141v77.3c0%204.9%202.3%209.6%206.1%2012.6l360%20281.1-360%20281.1c-3.9%203-6.1%207.7-6.1%2012.6V883c0%206.7%207.7%2010.4%2012.9%206.3l450.8-352.1a31.96%2031.96%200%20000-50.4z%22/&gt;&lt;/svg&gt;&lt;/span&gt;&lt;span%20style=%22text-overflow:%20ellipsis;%20overflow:%20hidden;%20white-space:%20nowrap;%20max-width:%20calc((100%25%20-%2016px)%20-%200px);%22&gt;Brand%2012200846&lt;/span&gt;&lt;div%20style=%22height:%20100%25;%20margin-left:%206px;%22&gt;&lt;/div&gt;&lt;/div&gt;&lt;div%20style=%22overflow:%20hidden;%20display:%20flex;%20align-items:%20center;%20font-size:%2012px;%20height:%2028px;%20left:%20120px;%20padding:%204px%204px%203px;%20position:%20absolute;%20top:%20280px;%20width:%20120px;%20border-right:%202px%20solid%20rgb(233,%20233,%20233);%22&gt;&lt;span%20style=%22text-overflow:%20ellipsis;%20overflow:%20hidden;%20white-space:%20nowrap;%20max-width:%20calc((100%25%20-%200px)%20-%200px);%22&gt;Product%2072692004&lt;/span&gt;&lt;div%20style=%22height:%20100%25;%20margin-left:%206px;%22&gt;&lt;/div&gt;&lt;/div&gt;&lt;div%20style=%22overflow:%20hidden;%20display:%20none;%20align-items:%20center;%20font-size:%2012px;%20height:%2028px;%20left:%200px;%20padding:%204px%204px%203px;%20position:%20absolute;%20top:%20308px;%20width:%20120px;%20font-weight:%20600;%22&gt;&lt;span%20role=%22img%22%20aria-label=%22right%22%20tabindex=%22-1%22%20class=%22anticon%20anticon-right%22%20style=%22cursor:%20pointer;%20font-size:%2010px;%20margin-right:%206px;%22&gt;&lt;svg%20xmlns=%22http://www.w3.org/2000/svg%22%20viewBox=%2264%2064%20896%20896%22%20focusable=%22false%22%20class=%22%22%20data-icon=%22right%22%20width=%221em%22%20height=%221em%22%20fill=%22currentColor%22%20aria-hidden=%22true%22&gt;&lt;path%20d=%22M765.7%20486.8L314.9%20134.7A7.97%207.97%200%2000302%20141v77.3c0%204.9%202.3%209.6%206.1%2012.6l360%20281.1-360%20281.1c-3.9%203-6.1%207.7-6.1%2012.6V883c0%206.7%207.7%2010.4%2012.9%206.3l450.8-352.1a31.96%2031.96%200%20000-50.4z%22/&gt;&lt;/svg&gt;&lt;/span&gt;&lt;span%20style=%22text-overflow:%20ellipsis;%20overflow:%20hidden;%20white-space:%20nowrap;%20max-width:%20calc((100%25%20-%2016px)%20-%200px);%22&gt;Brand%2012200846&lt;/span&gt;&lt;div%20style=%22height:%20100%25;%20margin-left:%206px;%22&gt;&lt;/div&gt;&lt;/div&gt;&lt;div%20style=%22overflow:%20hidden;%20display:%20flex;%20align-items:%20center;%20font-size:%2012px;%20height:%2028px;%20left:%20120px;%20padding:%204px%204px%203px;%20position:%20absolute;%20top:%20308px;%20width:%20120px;%20background-color:%20rgb(250,%20250,%20250);%20border-right:%202px%20solid%20rgb(233,%20233,%20233);%22&gt;&lt;span%20style=%22text-overflow:%20ellipsis;%20overflow:%20hidden;%20white-space:%20nowrap;%20max-width:%20calc((100%25%20-%200px)%20-%200px);%22&gt;Product%2080135222&lt;/span&gt;&lt;div%20style=%22height:%20100%25;%20margin-left:%206px;%22&gt;&lt;/div&gt;&lt;/div&gt;&lt;div%20style=%22overflow:%20hidden;%20display:%20none;%20align-items:%20center;%20font-size:%2012px;%20height:%2028px;%20left:%200px;%20padding:%204px%204px%203px;%20position:%20absolute;%20top:%20336px;%20width:%20120px;%20font-weight:%20600;%22&gt;&lt;span%20role=%22img%22%20aria-label=%22right%22%20tabindex=%22-1%22%20class=%22anticon%20anticon-right%22%20style=%22cursor:%20pointer;%20font-size:%2010px;%20margin-right:%206px;%22&gt;&lt;svg%20xmlns=%22http://www.w3.org/2000/svg%22%20viewBox=%2264%2064%20896%20896%22%20focusable=%22false%22%20class=%22%22%20data-icon=%22right%22%20width=%221em%22%20height=%221em%22%20fill=%22currentColor%22%20aria-hidden=%22true%22&gt;&lt;path%20d=%22M765.7%20486.8L314.9%20134.7A7.97%207.97%200%2000302%20141v77.3c0%204.9%202.3%209.6%206.1%2012.6l360%20281.1-360%20281.1c-3.9%203-6.1%207.7-6.1%2012.6V883c0%206.7%207.7%2010.4%2012.9%206.3l450.8-352.1a31.96%2031.96%200%20000-50.4z%22/&gt;&lt;/svg&gt;&lt;/span&gt;&lt;span%20style=%22text-overflow:%20ellipsis;%20overflow:%20hidden;%20white-space:%20nowrap;%20max-width:%20calc((100%25%20-%2016px)%20-%200px);%22&gt;Brand%2012200846&lt;/span&gt;&lt;div%20style=%22height:%20100%25;%20margin-left:%206px;%22&gt;&lt;/div&gt;&lt;/div&gt;&lt;div%20style=%22overflow:%20hidden;%20display:%20flex;%20align-items:%20center;%20font-size:%2012px;%20height:%2028px;%20left:%20120px;%20padding:%204px%204px%203px;%20position:%20absolute;%20top:%20336px;%20width:%20120px;%20border-right:%202px%20solid%20rgb(233,%20233,%20233);%22&gt;&lt;span%20style=%22text-overflow:%20ellipsis;%20overflow:%20hidden;%20white-space:%20nowrap;%20max-width:%20calc((100%25%20-%200px)%20-%200px);%22&gt;Product%2080181301&lt;/span&gt;&lt;div%20style=%22height:%20100%25;%20margin-left:%206px;%22&gt;&lt;/div&gt;&lt;/div&gt;&lt;/div&gt;&lt;/div&gt;&lt;/div&gt;&lt;div%20class=%22css-sazb3v-Table%22&gt;&lt;div%20class=%22css-1vgfwrz%22&gt;&lt;div%20class=%22css-1xfmcxn%22&gt;&lt;div%20style=%22overflow:%20hidden;%20display:%20flex;%20align-items:%20center;%20font-size:%2012px;%20height:%2028px;%20left:%200px;%20padding:%204px%204px%203px;%20position:%20absolute;%20top:%200px;%20width:%20120px;%20font-weight:%20600;%22&gt;&lt;span%20style=%22text-overflow:%20ellipsis;%20overflow:%20hidden;%20white-space:%20nowrap;%20max-width:%20calc((100%25%20-%200px)%20-%200px);%22&gt;n_purchases.MEAN&lt;/span&gt;&lt;div%20style=%22height:%20100%25;%20margin-left:%206px;%22&gt;&lt;/div&gt;&lt;/div&gt;&lt;div%20style=%22overflow:%20hidden;%20display:%20flex;%20align-items:%20center;%20font-size:%2012px;%20height:%2028px;%20left:%20120px;%20padding:%204px%204px%203px;%20position:%20absolute;%20top:%200px;%20width:%20120px;%20font-weight:%20600;%22&gt;&lt;span%20style=%22text-overflow:%20ellipsis;%20overflow:%20hidden;%20white-space:%20nowrap;%20max-width:%20calc((100%25%20-%200px)%20-%200px);%22&gt;SellingPrice.MEAN&lt;/span&gt;&lt;div%20style=%22height:%20100%25;%20margin-left:%206px;%22&gt;&lt;/div&gt;&lt;/div&gt;&lt;div%20style=%22overflow:%20hidden;%20display:%20flex;%20align-items:%20center;%20font-size:%2012px;%20height:%2028px;%20left:%20240px;%20padding:%204px%204px%203px;%20position:%20absolute;%20top:%200px;%20width:%20120px;%20font-weight:%20600;%22&gt;&lt;span%20style=%22text-overflow:%20ellipsis;%20overflow:%20hidden;%20white-space:%20nowrap;%20max-width:%20calc((100%25%20-%200px)%20-%200px);%22&gt;PurchasePrice.MEAN&lt;/span&gt;&lt;div%20style=%22height:%20100%25;%20margin-left:%206px;%22&gt;&lt;/div&gt;&lt;/div&gt;&lt;div%20style=%22overflow:%20hidden;%20display:%20flex;%20align-items:%20center;%20font-size:%2012px;%20height:%2028px;%20left:%20360px;%20padding:%204px%204px%203px;%20position:%20absolute;%20top:%200px;%20width:%20120px;%20font-weight:%20600;%22&gt;&lt;span%20style=%22text-overflow:%20ellipsis;%20overflow:%20hidden;%20white-space:%20nowrap;%20max-width:%20calc((100%25%20-%200px)%20-%200px);%22&gt;Margin.SUM&lt;/span&gt;&lt;div%20style=%22height:%20100%25;%20margin-left:%206px;%22&gt;&lt;/div&gt;&lt;/div&gt;&lt;/div&gt;&lt;/div&gt;&lt;div%20class=%22css-1695grl%22&gt;&lt;div%20class=%22css-1t8brtf%22&gt;&lt;div%20class=%22css-1lzltx4-TableCell%22%20style=%22font-size:%2012px;%20height:%2028px;%20left:%200px;%20padding:%204px%204px%203px;%20position:%20absolute;%20top:%200px;%20width:%20120px;%20text-align:%20right;%20border-right:%201px%20solid%20rgb(233,%20233,%20233);%22&gt;406.57&lt;/div&gt;&lt;div%20class=%22css-1lzltx4-TableCell%22%20style=%22font-size:%2012px;%20height:%2028px;%20left:%20120px;%20padding:%204px%204px%203px;%20position:%20absolute;%20top:%200px;%20width:%20120px;%20text-align:%20right;%20border-right:%201px%20solid%20rgb(233,%20233,%20233);%22&gt;264.24&lt;/div&gt;&lt;div%20class=%22css-1lzltx4-TableCell%22%20style=%22font-size:%2012px;%20height:%2028px;%20left:%20240px;%20padding:%204px%204px%203px;%20position:%20absolute;%20top:%200px;%20width:%20120px;%20text-align:%20right;%20border-right:%201px%20solid%20rgb(233,%20233,%20233);%22&gt;186.52&lt;/div&gt;&lt;div%20class=%22css-1lzltx4-TableCell%22%20style=%22font-size:%2012px;%20height:%2028px;%20left:%20360px;%20padding:%204px%204px%203px;%20position:%20absolute;%20top:%200px;%20width:%20120px;%20text-align:%20right;%20border-right:%201px%20solid%20rgb(233,%20233,%20233);%22&gt;1,837,282,480.59&lt;/div&gt;&lt;div%20class=%22css-1lzltx4-TableCell%22%20style=%22font-size:%2012px;%20height:%2028px;%20left:%200px;%20padding:%204px%204px%203px;%20position:%20absolute;%20top:%2028px;%20width:%20120px;%20text-align:%20right;%20border-right:%201px%20solid%20rgb(233,%20233,%20233);%20border-top:%201px%20solid%20rgb(233,%20233,%20233);%22&gt;9.00&lt;/div&gt;&lt;div%20class=%22css-1lzltx4-TableCell%22%20style=%22font-size:%2012px;%20height:%2028px;%20left:%20120px;%20padding:%204px%204px%203px;%20position:%20absolute;%20top:%2028px;%20width:%20120px;%20text-align:%20right;%20border-right:%201px%20solid%20rgb(233,%20233,%20233);%20border-top:%201px%20solid%20rgb(233,%20233,%20233);%22&gt;304.32&lt;/div&gt;&lt;div%20class=%22css-1lzltx4-TableCell%22%20style=%22font-size:%2012px;%20height:%2028px;%20left:%20240px;%20padding:%204px%204px%203px;%20position:%20absolute;%20top:%2028px;%20width:%20120px;%20text-align:%20right;%20border-right:%201px%20solid%20rgb(233,%20233,%20233);%20border-top:%201px%20solid%20rgb(233,%20233,%20233);%22&gt;211.24&lt;/div&gt;&lt;div%20class=%22css-1lzltx4-TableCell%22%20style=%22font-size:%2012px;%20height:%2028px;%20left:%20360px;%20padding:%204px%204px%203px;%20position:%20absolute;%20top:%2028px;%20width:%20120px;%20text-align:%20right;%20border-right:%201px%20solid%20rgb(233,%20233,%20233);%20border-top:%201px%20solid%20rgb(233,%20233,%20233);%22&gt;837.72&lt;/div&gt;&lt;div%20class=%22css-1lzltx4-TableCell%22%20style=%22font-size:%2012px;%20height:%2028px;%20left:%200px;%20padding:%204px%204px%203px;%20position:%20absolute;%20top:%2056px;%20width:%20120px;%20text-align:%20right;%20border-right:%201px%20solid%20rgb(233,%20233,%20233);%20border-top:%201px%20solid%20rgb(233,%20233,%20233);%22&gt;146.00&lt;/div&gt;&lt;div%20class=%22css-1lzltx4-TableCell%22%20style=%22font-size:%2012px;%20height:%2028px;%20left:%20120px;%20padding:%204px%204px%203px;%20position:%20absolute;%20top:%2056px;%20width:%20120px;%20text-align:%20right;%20border-right:%201px%20solid%20rgb(233,%20233,%20233);%20border-top:%201px%20solid%20rgb(233,%20233,%20233);%22&gt;436.85&lt;/div&gt;&lt;div%20class=%22css-1lzltx4-TableCell%22%20style=%22font-size:%2012px;%20height:%2028px;%20left:%20240px;%20padding:%204px%204px%203px;%20position:%20absolute;%20top:%2056px;%20width:%20120px;%20text-align:%20right;%20border-right:%201px%20solid%20rgb(233,%20233,%20233);%20border-top:%201px%20solid%20rgb(233,%20233,%20233);%22&gt;297.25&lt;/div&gt;&lt;div%20class=%22css-1lzltx4-TableCell%22%20style=%22font-size:%2012px;%20height:%2028px;%20left:%20360px;%20padding:%204px%204px%203px;%20position:%20absolute;%20top:%2056px;%20width:%20120px;%20text-align:%20right;%20border-right:%201px%20solid%20rgb(233,%20233,%20233);%20border-top:%201px%20solid%20rgb(233,%20233,%20233);%22&gt;20,381.60&lt;/div&gt;&lt;div%20class=%22css-1lzltx4-TableCell%22%20style=%22font-size:%2012px;%20height:%2028px;%20left:%200px;%20padding:%204px%204px%203px;%20position:%20absolute;%20top:%2084px;%20width:%20120px;%20text-align:%20right;%20border-right:%201px%20solid%20rgb(233,%20233,%20233);%20border-top:%201px%20solid%20rgb(233,%20233,%20233);%22&gt;85.00&lt;/div&gt;&lt;div%20class=%22css-1lzltx4-TableCell%22%20style=%22font-size:%2012px;%20height:%2028px;%20left:%20120px;%20padding:%204px%204px%203px;%20position:%20absolute;%20top:%2084px;%20width:%20120px;%20text-align:%20right;%20border-right:%201px%20solid%20rgb(233,%20233,%20233);%20border-top:%201px%20solid%20rgb(233,%20233,%20233);%22&gt;291.28&lt;/div&gt;&lt;div%20class=%22css-1lzltx4-TableCell%22%20style=%22font-size:%2012px;%20height:%2028px;%20left:%20240px;%20padding:%204px%204px%203px;%20position:%20absolute;%20top:%2084px;%20width:%20120px;%20text-align:%20right;%20border-right:%201px%20solid%20rgb(233,%20233,%20233);%20border-top:%201px%20solid%20rgb(233,%20233,%20233);%22&gt;211.85&lt;/div&gt;&lt;div%20class=%22css-1lzltx4-TableCell%22%20style=%22font-size:%2012px;%20height:%2028px;%20left:%20360px;%20padding:%204px%204px%203px;%20position:%20absolute;%20top:%2084px;%20width:%20120px;%20text-align:%20right;%20border-right:%201px%20solid%20rgb(233,%20233,%20233);%20border-top:%201px%20solid%20rgb(233,%20233,%20233);%22&gt;6,751.55&lt;/div&gt;&lt;div%20class=%22css-1lzltx4-TableCell%22%20style=%22font-size:%2012px;%20height:%2028px;%20left:%200px;%20padding:%204px%204px%203px;%20position:%20absolute;%20top:%20112px;%20width:%20120px;%20text-align:%20right;%20border-right:%201px%20solid%20rgb(233,%20233,%20233);%20border-top:%201px%20solid%20rgb(233,%20233,%20233);%22&gt;20.00&lt;/div&gt;&lt;div%20class=%22css-1lzltx4-TableCell%22%20style=%22font-size:%2012px;%20height:%2028px;%20left:%20120px;%20padding:%204px%204px%203px;%20position:%20absolute;%20top:%20112px;%20width:%20120px;%20text-align:%20right;%20border-right:%201px%20solid%20rgb(233,%20233,%20233);%20border-top:%201px%20solid%20rgb(233,%20233,%20233);%22&gt;361.17&lt;/div&gt;&lt;div%20class=%22css-1lzltx4-TableCell%22%20style=%22font-size:%2012px;%20height:%2028px;%20left:%20240px;%20padding:%204px%204px%203px;%20position:%20absolute;%20top:%20112px;%20width:%20120px;%20text-align:%20right;%20border-right:%201px%20solid%20rgb(233,%20233,%20233);%20border-top:%201px%20solid%20rgb(233,%20233,%20233);%22&gt;267.93&lt;/div&gt;&lt;div%20class=%22css-1lzltx4-TableCell%22%20style=%22font-size:%2012px;%20height:%2028px;%20left:%20360px;%20padding:%204px%204px%203px;%20position:%20absolute;%20top:%20112px;%20width:%20120px;%20text-align:%20right;%20border-right:%201px%20solid%20rgb(233,%20233,%20233);%20border-top:%201px%20solid%20rgb(233,%20233,%20233);%22&gt;1,864.80&lt;/div&gt;&lt;div%20class=%22css-1lzltx4-TableCell%22%20style=%22font-size:%2012px;%20height:%2028px;%20left:%200px;%20padding:%204px%204px%203px;%20position:%20absolute;%20top:%20140px;%20width:%20120px;%20text-align:%20right;%20border-right:%201px%20solid%20rgb(233,%20233,%20233);%20border-top:%201px%20solid%20rgb(233,%20233,%20233);%22&gt;1.00&lt;/div&gt;&lt;div%20class=%22css-1lzltx4-TableCell%22%20style=%22font-size:%2012px;%20height:%2028px;%20left:%20120px;%20padding:%204px%204px%203px;%20position:%20absolute;%20top:%20140px;%20width:%20120px;%20text-align:%20right;%20border-right:%201px%20solid%20rgb(233,%20233,%20233);%20border-top:%201px%20solid%20rgb(233,%20233,%20233);%22&gt;661.68&lt;/div&gt;&lt;div%20class=%22css-1lzltx4-TableCell%22%20style=%22font-size:%2012px;%20height:%2028px;%20left:%20240px;%20padding:%204px%204px%203px;%20position:%20absolute;%20top:%20140px;%20width:%20120px;%20text-align:%20right;%20border-right:%201px%20solid%20rgb(233,%20233,%20233);%20border-top:%201px%20solid%20rgb(233,%20233,%20233);%22&gt;446.22&lt;/div&gt;&lt;div%20class=%22css-1lzltx4-TableCell%22%20style=%22font-size:%2012px;%20height:%2028px;%20left:%20360px;%20padding:%204px%204px%203px;%20position:%20absolute;%20top:%20140px;%20width:%20120px;%20text-align:%20right;%20border-right:%201px%20solid%20rgb(233,%20233,%20233);%20border-top:%201px%20solid%20rgb(233,%20233,%20233);%22&gt;215.46&lt;/div&gt;&lt;div%20class=%22css-1lzltx4-TableCell%22%20style=%22font-size:%2012px;%20height:%2028px;%20left:%200px;%20padding:%204px%204px%203px;%20position:%20absolute;%20top:%20168px;%20width:%20120px;%20text-align:%20right;%20border-right:%201px%20solid%20rgb(233,%20233,%20233);%20border-top:%201px%20solid%20rgb(233,%20233,%20233);%22&gt;13.00&lt;/div&gt;&lt;div%20class=%22css-1lzltx4-TableCell%22%20style=%22font-size:%2012px;%20height:%2028px;%20left:%20120px;%20padding:%204px%204px%203px;%20position:%20absolute;%20top:%20168px;%20width:%20120px;%20text-align:%20right;%20border-right:%201px%20solid%20rgb(233,%20233,%20233);%20border-top:%201px%20solid%20rgb(233,%20233,%20233);%22&gt;603.57&lt;/div&gt;&lt;div%20class=%22css-1lzltx4-TableCell%22%20style=%22font-size:%2012px;%20height:%2028px;%20left:%20240px;%20padding:%204px%204px%203px;%20position:%20absolute;%20top:%20168px;%20width:%20120px;%20text-align:%20right;%20border-right:%201px%20solid%20rgb(233,%20233,%20233);%20border-top:%201px%20solid%20rgb(233,%20233,%20233);%22&gt;406.47&lt;/div&gt;&lt;div%20class=%22css-1lzltx4-TableCell%22%20style=%22font-size:%2012px;%20height:%2028px;%20left:%20360px;%20padding:%204px%204px%203px;%20position:%20absolute;%20top:%20168px;%20width:%20120px;%20text-align:%20right;%20border-right:%201px%20solid%20rgb(233,%20233,%20233);%20border-top:%201px%20solid%20rgb(233,%20233,%20233);%22&gt;2,562.30&lt;/div&gt;&lt;div%20class=%22css-1lzltx4-TableCell%22%20style=%22font-size:%2012px;%20height:%2028px;%20left:%200px;%20padding:%204px%204px%203px;%20position:%20absolute;%20top:%20196px;%20width:%20120px;%20text-align:%20right;%20border-right:%201px%20solid%20rgb(233,%20233,%20233);%20border-top:%201px%20solid%20rgb(233,%20233,%20233);%22&gt;924.00&lt;/div&gt;&lt;div%20class=%22css-1lzltx4-TableCell%22%20style=%22font-size:%2012px;%20height:%2028px;%20left:%20120px;%20padding:%204px%204px%203px;%20position:%20absolute;%20top:%20196px;%20width:%20120px;%20text-align:%20right;%20border-right:%201px%20solid%20rgb(233,%20233,%20233);%20border-top:%201px%20solid%20rgb(233,%20233,%20233);%22&gt;203.01&lt;/div&gt;&lt;div%20class=%22css-1lzltx4-TableCell%22%20style=%22font-size:%2012px;%20height:%2028px;%20left:%20240px;%20padding:%204px%204px%203px;%20position:%20absolute;%20top:%20196px;%20width:%20120px;%20text-align:%20right;%20border-right:%201px%20solid%20rgb(233,%20233,%20233);%20border-top:%201px%20solid%20rgb(233,%20233,%20233);%22&gt;153.12&lt;/div&gt;&lt;div%20class=%22css-1lzltx4-TableCell%22%20style=%22font-size:%2012px;%20height:%2028px;%20left:%20360px;%20padding:%204px%204px%203px;%20position:%20absolute;%20top:%20196px;%20width:%20120px;%20text-align:%20right;%20border-right:%201px%20solid%20rgb(233,%20233,%20233);%20border-top:%201px%20solid%20rgb(233,%20233,%20233);%22&gt;46,098.36&lt;/div&gt;&lt;div%20class=%22css-1lzltx4-TableCell%22%20style=%22font-size:%2012px;%20height:%2028px;%20left:%200px;%20padding:%204px%204px%203px;%20position:%20absolute;%20top:%20224px;%20width:%20120px;%20text-align:%20right;%20border-right:%201px%20solid%20rgb(233,%20233,%20233);%20border-top:%201px%20solid%20rgb(233,%20233,%20233);%22&gt;151.00&lt;/div&gt;&lt;div%20class=%22css-1lzltx4-TableCell%22%20style=%22font-size:%2012px;%20height:%2028px;%20left:%20120px;%20padding:%204px%204px%203px;%20position:%20absolute;%20top:%20224px;%20width:%20120px;%20text-align:%20right;%20border-right:%201px%20solid%20rgb(233,%20233,%20233);%20border-top:%201px%20solid%20rgb(233,%20233,%20233);%22&gt;191.07&lt;/div&gt;&lt;div%20class=%22css-1lzltx4-TableCell%22%20style=%22font-size:%2012px;%20height:%2028px;%20left:%20240px;%20padding:%204px%204px%203px;%20position:%20absolute;%20top:%20224px;%20width:%20120px;%20text-align:%20right;%20border-right:%201px%20solid%20rgb(233,%20233,%20233);%20border-top:%201px%20solid%20rgb(233,%20233,%20233);%22&gt;131.86&lt;/div&gt;&lt;div%20class=%22css-1lzltx4-TableCell%22%20style=%22font-size:%2012px;%20height:%2028px;%20left:%20360px;%20padding:%204px%204px%203px;%20position:%20absolute;%20top:%20224px;%20width:%20120px;%20text-align:%20right;%20border-right:%201px%20solid%20rgb(233,%20233,%20233);%20border-top:%201px%20solid%20rgb(233,%20233,%20233);%22&gt;22,147.18&lt;/div&gt;&lt;div%20class=%22css-1lzltx4-TableCell%22%20style=%22font-size:%2012px;%20height:%2028px;%20left:%200px;%20padding:%204px%204px%203px;%20position:%20absolute;%20top:%20252px;%20width:%20120px;%20text-align:%20right;%20background-color:%20rgb(250,%20250,%20250);%20border-right:%201px%20solid%20rgb(233,%20233,%20233);%22&gt;3.00&lt;/div&gt;&lt;div%20class=%22css-1lzltx4-TableCell%22%20style=%22font-size:%2012px;%20height:%2028px;%20left:%20120px;%20padding:%204px%204px%203px;%20position:%20absolute;%20top:%20252px;%20width:%20120px;%20text-align:%20right;%20background-color:%20rgb(250,%20250,%20250);%20border-right:%201px%20solid%20rgb(233,%20233,%20233);%22&gt;320.13&lt;/div&gt;&lt;div%20class=%22css-1lzltx4-TableCell%22%20style=%22font-size:%2012px;%20height:%2028px;%20left:%20240px;%20padding:%204px%204px%203px;%20position:%20absolute;%20top:%20252px;%20width:%20120px;%20text-align:%20right;%20background-color:%20rgb(250,%20250,%20250);%20border-right:%201px%20solid%20rgb(233,%20233,%20233);%22&gt;219.15&lt;/div&gt;&lt;div%20class=%22css-1lzltx4-TableCell%22%20style=%22font-size:%2012px;%20height:%2028px;%20left:%20360px;%20padding:%204px%204px%203px;%20position:%20absolute;%20top:%20252px;%20width:%20120px;%20text-align:%20right;%20background-color:%20rgb(250,%20250,%20250);%20border-right:%201px%20solid%20rgb(233,%20233,%20233);%22&gt;302.94&lt;/div&gt;&lt;div%20class=%22css-1lzltx4-TableCell%22%20style=%22font-size:%2012px;%20height:%2028px;%20left:%200px;%20padding:%204px%204px%203px;%20position:%20absolute;%20top:%20280px;%20width:%20120px;%20text-align:%20right;%20border-right:%201px%20solid%20rgb(233,%20233,%20233);%22&gt;5.00&lt;/div&gt;&lt;div%20class=%22css-1lzltx4-TableCell%22%20style=%22font-size:%2012px;%20height:%2028px;%20left:%20120px;%20padding:%204px%204px%203px;%20position:%20absolute;%20top:%20280px;%20width:%20120px;%20text-align:%20right;%20border-right:%201px%20solid%20rgb(233,%20233,%20233);%22&gt;17.00&lt;/div&gt;&lt;div%20class=%22css-1lzltx4-TableCell%22%20style=%22font-size:%2012px;%20height:%2028px;%20left:%20240px;%20padding:%204px%204px%203px;%20position:%20absolute;%20top:%20280px;%20width:%20120px;%20text-align:%20right;%20border-right:%201px%20solid%20rgb(233,%20233,%20233);%22&gt;12.33&lt;/div&gt;&lt;div%20class=%22css-1lzltx4-TableCell%22%20style=%22font-size:%2012px;%20height:%2028px;%20left:%20360px;%20padding:%204px%204px%203px;%20position:%20absolute;%20top:%20280px;%20width:%20120px;%20text-align:%20right;%20border-right:%201px%20solid%20rgb(233,%20233,%20233);%22&gt;23.35&lt;/div&gt;&lt;div%20class=%22css-1lzltx4-TableCell%22%20style=%22font-size:%2012px;%20height:%2028px;%20left:%200px;%20padding:%204px%204px%203px;%20position:%20absolute;%20top:%20308px;%20width:%20120px;%20text-align:%20right;%20background-color:%20rgb(250,%20250,%20250);%20border-right:%201px%20solid%20rgb(233,%20233,%20233);%22&gt;6.00&lt;/div&gt;&lt;div%20class=%22css-1lzltx4-TableCell%22%20style=%22font-size:%2012px;%20height:%2028px;%20left:%20120px;%20padding:%204px%204px%203px;%20position:%20absolute;%20top:%20308px;%20width:%20120px;%20text-align:%20right;%20background-color:%20rgb(250,%20250,%20250);%20border-right:%201px%20solid%20rgb(233,%20233,%20233);%22&gt;437.79&lt;/div&gt;&lt;div%20class=%22css-1lzltx4-TableCell%22%20style=%22font-size:%2012px;%20height:%2028px;%20left:%20240px;%20padding:%204px%204px%203px;%20position:%20absolute;%20top:%20308px;%20width:%20120px;%20text-align:%20right;%20background-color:%20rgb(250,%20250,%20250);%20border-right:%201px%20solid%20rgb(233,%20233,%20233);%22&gt;297.91&lt;/div&gt;&lt;div%20class=%22css-1lzltx4-TableCell%22%20style=%22font-size:%2012px;%20height:%2028px;%20left:%20360px;%20padding:%204px%204px%203px;%20position:%20absolute;%20top:%20308px;%20width:%20120px;%20text-align:%20right;%20background-color:%20rgb(250,%20250,%20250);%20border-right:%201px%20solid%20rgb(233,%20233,%20233);%22&gt;839.28&lt;/div&gt;&lt;div%20class=%22css-1lzltx4-TableCell%22%20style=%22font-size:%2012px;%20height:%2028px;%20left:%200px;%20padding:%204px%204px%203px;%20position:%20absolute;%20top:%20336px;%20width:%20120px;%20text-align:%20right;%20border-right:%201px%20solid%20rgb(233,%20233,%20233);%22&gt;571.00&lt;/div&gt;&lt;div%20class=%22css-1lzltx4-TableCell%22%20style=%22font-size:%2012px;%20height:%2028px;%20left:%20120px;%20padding:%204px%204px%203px;%20position:%20absolute;%20top:%20336px;%20width:%20120px;%20text-align:%20right;%20border-right:%201px%20solid%20rgb(233,%20233,%20233);%22&gt;107.50&lt;/div&gt;&lt;div%20class=%22css-1lzltx4-TableCell%22%20style=%22font-size:%2012px;%20height:%2028px;%20left:%20240px;%20padding:%204px%204px%203px;%20position:%20absolute;%20top:%20336px;%20width:%20120px;%20text-align:%20right;%20border-right:%201px%20solid%20rgb(233,%20233,%20233);%22&gt;76.59&lt;/div&gt;&lt;div%20class=%22css-1lzltx4-TableCell%22%20style=%22font-size:%2012px;%20height:%2028px;%20left:%20360px;%20padding:%204px%204px%203px;%20position:%20absolute;%20top:%20336px;%20width:%20120px;%20text-align:%20right;%20border-right:%201px%20solid%20rgb(233,%20233,%20233);%22&gt;17,649.61&lt;/div&gt;&lt;/div&gt;&lt;/div&gt;&lt;/div&gt;&lt;/div&gt;&lt;/div&gt;&lt;/div&gt;&lt;/div&gt;&lt;/div&gt;&lt;/div&gt;%3C/div%3E%3C/foreignObject%3E%3C/svg%3E\">"
      ],
      "text/plain": [
       "Open the notebook in JupyterLab with the atoti extension installed and enabled to start editing this widget."
      ]
     },
     "metadata": {},
     "output_type": "display_data"
    }
   ],
   "source": [
    "session.visualize()"
   ]
  },
  {
   "cell_type": "markdown",
   "metadata": {},
   "source": [
    "## Computing the price index\n",
    "\n",
    "There are different existing formulas for the price index but the idea behind is always the same: the price index is a measurement of where a retailer is positioned compared to one or multiple of its competitors.\n",
    "\n",
    "The formula we will use in this example compares a product price to the average price found among the competitors, measuring at which percentage of this average competitors price the product is.  \n",
    "\n",
    "We will weight the price index indicator by the margin when aggregating above product level so that we later optimize the price index for products that contribute the most to our margin.  \n",
    "Other commonly used formulas weight by sales quantity or revenue."
   ]
  },
  {
   "cell_type": "markdown",
   "metadata": {},
   "source": [
    "### Price Index Formula"
   ]
  },
  {
   "cell_type": "markdown",
   "metadata": {},
   "source": [
    "# $100 \\times \\frac{\\sum_{p \\in Products}\\frac{Selling Price(p)}{Average Competitor Price(p)} \\times Margin(p)}{\\sum_{p \\in Products}Margin(p)}$"
   ]
  },
  {
   "cell_type": "markdown",
   "metadata": {},
   "source": [
    "### Loading Competitor prices data"
   ]
  },
  {
   "cell_type": "code",
   "execution_count": 32,
   "metadata": {},
   "outputs": [],
   "source": [
    "competitor_prices_store = session.read_csv(\n",
    "    \"s3://data.atoti.io/notebooks/products-classification/competitor_prices.csv\",\n",
    "    keys=[\"ProductId\", \"CompetitorName\"],\n",
    "    store_name=\"Competitor_prices_store\",\n",
    ")"
   ]
  },
  {
   "cell_type": "code",
   "execution_count": 33,
   "metadata": {},
   "outputs": [],
   "source": [
    "classified_products_store.join(\n",
    "    competitor_prices_store, mapping={\"ProductId\": \"ProductId\"}\n",
    ")"
   ]
  },
  {
   "cell_type": "code",
   "execution_count": 34,
   "metadata": {},
   "outputs": [
    {
     "data": {
      "image/svg+xml": [
       "<svg xmlns=\"http://www.w3.org/2000/svg\" xmlns:xlink=\"http://www.w3.org/1999/xlink\" width=\"598px\" height=\"438px\" viewBox=\"0.00 0.00 598.00 438.00\">\n",
       "<g id=\"graph0\" class=\"graph\" transform=\"scale(1.0 1.0) rotate(0) translate(4 434)\">\n",
       "<title>products_cube schema</title>\n",
       "<polygon fill=\"white\" stroke=\"none\" points=\"-4,4 -4,-434 594,-434 594,4 -4,4\"/>\n",
       "<!-- classified_products -->\n",
       "<g id=\"node1\" class=\"node\"><title>classified_products</title>\n",
       "<text text-anchor=\"start\" x=\"57.5\" y=\"-308.6\" font-family=\"-apple-system, BlinkMacSystemFont, 'Segoe UI', Helvetica, Arial, sans-serif, 'Apple Color Emoji', 'Segoe UI Emoji', 'Segoe UI Symbol'\" font-weight=\"bold\" font-size=\"13.00\">classified_products</text>\n",
       "<polygon fill=\"#f5f5f5\" stroke=\"none\" points=\"9,-275 9,-299 40,-299 40,-275 9,-275\"/>\n",
       "<text text-anchor=\"start\" x=\"14\" y=\"-284.6\" font-family=\"-apple-system, BlinkMacSystemFont, 'Segoe UI', Helvetica, Arial, sans-serif, 'Apple Color Emoji', 'Segoe UI Emoji', 'Segoe UI Symbol'\" font-weight=\"bold\" font-size=\"13.00\">key</text>\n",
       "<polygon fill=\"#f5f5f5\" stroke=\"none\" points=\"40,-275 40,-299 174,-299 174,-275 40,-275\"/>\n",
       "<text text-anchor=\"start\" x=\"45\" y=\"-283.6\" font-family=\"-apple-system, BlinkMacSystemFont, 'Segoe UI', Helvetica, Arial, sans-serif, 'Apple Color Emoji', 'Segoe UI Emoji', 'Segoe UI Symbol'\" font-size=\"13.00\">ProductId</text>\n",
       "<polygon fill=\"#f5f5f5\" stroke=\"none\" points=\"174,-275 174,-299 221,-299 221,-275 174,-275\"/>\n",
       "<text text-anchor=\"start\" x=\"193\" y=\"-284.6\" font-family=\"-apple-system, BlinkMacSystemFont, 'Segoe UI', Helvetica, Arial, sans-serif, 'Apple Color Emoji', 'Segoe UI Emoji', 'Segoe UI Symbol'\" font-style=\"italic\" font-size=\"13.00\">long</text>\n",
       "<polygon fill=\"#ffffff\" stroke=\"none\" points=\"9,-251 9,-275 40,-275 40,-251 9,-251\"/>\n",
       "<polygon fill=\"#ffffff\" stroke=\"none\" points=\"40,-251 40,-275 174,-275 174,-251 40,-251\"/>\n",
       "<text text-anchor=\"start\" x=\"45\" y=\"-259.6\" font-family=\"-apple-system, BlinkMacSystemFont, 'Segoe UI', Helvetica, Arial, sans-serif, 'Apple Color Emoji', 'Segoe UI Emoji', 'Segoe UI Symbol'\" font-size=\"13.00\">edge_purchases</text>\n",
       "<polygon fill=\"#ffffff\" stroke=\"none\" points=\"174,-251 174,-275 221,-275 221,-251 174,-251\"/>\n",
       "<text text-anchor=\"start\" x=\"179\" y=\"-260.6\" font-family=\"-apple-system, BlinkMacSystemFont, 'Segoe UI', Helvetica, Arial, sans-serif, 'Apple Color Emoji', 'Segoe UI Emoji', 'Segoe UI Symbol'\" font-style=\"italic\" font-size=\"13.00\">double</text>\n",
       "<polygon fill=\"#f5f5f5\" stroke=\"none\" points=\"9,-227 9,-251 40,-251 40,-227 9,-227\"/>\n",
       "<polygon fill=\"#f5f5f5\" stroke=\"none\" points=\"40,-227 40,-251 174,-251 174,-227 40,-227\"/>\n",
       "<text text-anchor=\"start\" x=\"45\" y=\"-235.6\" font-family=\"-apple-system, BlinkMacSystemFont, 'Segoe UI', Helvetica, Arial, sans-serif, 'Apple Color Emoji', 'Segoe UI Emoji', 'Segoe UI Symbol'\" font-size=\"13.00\">n_purchases</text>\n",
       "<polygon fill=\"#f5f5f5\" stroke=\"none\" points=\"174,-227 174,-251 221,-251 221,-227 174,-227\"/>\n",
       "<text text-anchor=\"start\" x=\"179\" y=\"-236.6\" font-family=\"-apple-system, BlinkMacSystemFont, 'Segoe UI', Helvetica, Arial, sans-serif, 'Apple Color Emoji', 'Segoe UI Emoji', 'Segoe UI Symbol'\" font-style=\"italic\" font-size=\"13.00\">double</text>\n",
       "<polygon fill=\"#ffffff\" stroke=\"none\" points=\"9,-203 9,-227 40,-227 40,-203 9,-203\"/>\n",
       "<polygon fill=\"#ffffff\" stroke=\"none\" points=\"40,-203 40,-227 174,-227 174,-203 40,-203\"/>\n",
       "<text text-anchor=\"start\" x=\"45\" y=\"-211.6\" font-family=\"-apple-system, BlinkMacSystemFont, 'Segoe UI', Helvetica, Arial, sans-serif, 'Apple Color Emoji', 'Segoe UI Emoji', 'Segoe UI Symbol'\" font-size=\"13.00\">solo_purchases</text>\n",
       "<polygon fill=\"#ffffff\" stroke=\"none\" points=\"174,-203 174,-227 221,-227 221,-203 174,-203\"/>\n",
       "<text text-anchor=\"start\" x=\"179\" y=\"-212.6\" font-family=\"-apple-system, BlinkMacSystemFont, 'Segoe UI', Helvetica, Arial, sans-serif, 'Apple Color Emoji', 'Segoe UI Emoji', 'Segoe UI Symbol'\" font-style=\"italic\" font-size=\"13.00\">double</text>\n",
       "<polygon fill=\"#f5f5f5\" stroke=\"none\" points=\"9,-179 9,-203 40,-203 40,-179 9,-179\"/>\n",
       "<polygon fill=\"#f5f5f5\" stroke=\"none\" points=\"40,-179 40,-203 174,-203 174,-179 40,-179\"/>\n",
       "<text text-anchor=\"start\" x=\"45\" y=\"-187.6\" font-family=\"-apple-system, BlinkMacSystemFont, 'Segoe UI', Helvetica, Arial, sans-serif, 'Apple Color Emoji', 'Segoe UI Emoji', 'Segoe UI Symbol'\" font-size=\"13.00\">solo_sales_ratio</text>\n",
       "<polygon fill=\"#f5f5f5\" stroke=\"none\" points=\"174,-179 174,-203 221,-203 221,-179 174,-179\"/>\n",
       "<text text-anchor=\"start\" x=\"179\" y=\"-188.6\" font-family=\"-apple-system, BlinkMacSystemFont, 'Segoe UI', Helvetica, Arial, sans-serif, 'Apple Color Emoji', 'Segoe UI Emoji', 'Segoe UI Symbol'\" font-style=\"italic\" font-size=\"13.00\">double</text>\n",
       "<polygon fill=\"#ffffff\" stroke=\"none\" points=\"9,-155 9,-179 40,-179 40,-155 9,-155\"/>\n",
       "<polygon fill=\"#ffffff\" stroke=\"none\" points=\"40,-155 40,-179 174,-179 174,-155 40,-155\"/>\n",
       "<text text-anchor=\"start\" x=\"45\" y=\"-163.6\" font-family=\"-apple-system, BlinkMacSystemFont, 'Segoe UI', Helvetica, Arial, sans-serif, 'Apple Color Emoji', 'Segoe UI Emoji', 'Segoe UI Symbol'\" font-size=\"13.00\">product_receipt_score</text>\n",
       "<polygon fill=\"#ffffff\" stroke=\"none\" points=\"174,-155 174,-179 221,-179 221,-155 174,-155\"/>\n",
       "<text text-anchor=\"start\" x=\"179\" y=\"-164.6\" font-family=\"-apple-system, BlinkMacSystemFont, 'Segoe UI', Helvetica, Arial, sans-serif, 'Apple Color Emoji', 'Segoe UI Emoji', 'Segoe UI Symbol'\" font-style=\"italic\" font-size=\"13.00\">double</text>\n",
       "<polygon fill=\"#f5f5f5\" stroke=\"none\" points=\"9,-131 9,-155 40,-155 40,-131 9,-131\"/>\n",
       "<polygon fill=\"#f5f5f5\" stroke=\"none\" points=\"40,-131 40,-155 174,-155 174,-131 40,-131\"/>\n",
       "<text text-anchor=\"start\" x=\"45\" y=\"-139.6\" font-family=\"-apple-system, BlinkMacSystemFont, 'Segoe UI', Helvetica, Arial, sans-serif, 'Apple Color Emoji', 'Segoe UI Emoji', 'Segoe UI Symbol'\" font-size=\"13.00\">Product Class</text>\n",
       "<polygon fill=\"#f5f5f5\" stroke=\"none\" points=\"174,-131 174,-155 221,-155 221,-131 174,-131\"/>\n",
       "<text text-anchor=\"start\" x=\"183\" y=\"-140.6\" font-family=\"-apple-system, BlinkMacSystemFont, 'Segoe UI', Helvetica, Arial, sans-serif, 'Apple Color Emoji', 'Segoe UI Emoji', 'Segoe UI Symbol'\" font-style=\"italic\" font-size=\"13.00\">String</text>\n",
       "<polygon fill=\"#ffffff\" stroke=\"none\" points=\"9,-107 9,-131 40,-131 40,-107 9,-107\"/>\n",
       "<polygon fill=\"#ffffff\" stroke=\"none\" points=\"40,-107 40,-131 174,-131 174,-107 40,-107\"/>\n",
       "<text text-anchor=\"start\" x=\"45\" y=\"-115.6\" font-family=\"-apple-system, BlinkMacSystemFont, 'Segoe UI', Helvetica, Arial, sans-serif, 'Apple Color Emoji', 'Segoe UI Emoji', 'Segoe UI Symbol'\" font-size=\"13.00\">class</text>\n",
       "<polygon fill=\"#ffffff\" stroke=\"none\" points=\"174,-107 174,-131 221,-131 221,-107 174,-107\"/>\n",
       "<text text-anchor=\"start\" x=\"202\" y=\"-116.6\" font-family=\"-apple-system, BlinkMacSystemFont, 'Segoe UI', Helvetica, Arial, sans-serif, 'Apple Color Emoji', 'Segoe UI Emoji', 'Segoe UI Symbol'\" font-style=\"italic\" font-size=\"13.00\">int</text>\n",
       "<polygon fill=\"none\" stroke=\"black\" points=\"8,-106 8,-324 222,-324 222,-106 8,-106\"/>\n",
       "</g>\n",
       "<!-- Products_store -->\n",
       "<g id=\"node2\" class=\"node\"><title>Products_store</title>\n",
       "<text text-anchor=\"start\" x=\"446\" y=\"-410.6\" font-family=\"-apple-system, BlinkMacSystemFont, 'Segoe UI', Helvetica, Arial, sans-serif, 'Apple Color Emoji', 'Segoe UI Emoji', 'Segoe UI Symbol'\" font-weight=\"bold\" font-size=\"13.00\">Products_store</text>\n",
       "<polygon fill=\"#f5f5f5\" stroke=\"none\" points=\"410.5,-377 410.5,-401 441.5,-401 441.5,-377 410.5,-377\"/>\n",
       "<text text-anchor=\"start\" x=\"415.5\" y=\"-386.6\" font-family=\"-apple-system, BlinkMacSystemFont, 'Segoe UI', Helvetica, Arial, sans-serif, 'Apple Color Emoji', 'Segoe UI Emoji', 'Segoe UI Symbol'\" font-weight=\"bold\" font-size=\"13.00\">key</text>\n",
       "<polygon fill=\"#f5f5f5\" stroke=\"none\" points=\"441.5,-377 441.5,-401 530.5,-401 530.5,-377 441.5,-377\"/>\n",
       "<text text-anchor=\"start\" x=\"446.5\" y=\"-385.6\" font-family=\"-apple-system, BlinkMacSystemFont, 'Segoe UI', Helvetica, Arial, sans-serif, 'Apple Color Emoji', 'Segoe UI Emoji', 'Segoe UI Symbol'\" font-size=\"13.00\">ProductId</text>\n",
       "<polygon fill=\"#f5f5f5\" stroke=\"none\" points=\"530.5,-377 530.5,-401 573.5,-401 573.5,-377 530.5,-377\"/>\n",
       "<text text-anchor=\"start\" x=\"545.5\" y=\"-386.6\" font-family=\"-apple-system, BlinkMacSystemFont, 'Segoe UI', Helvetica, Arial, sans-serif, 'Apple Color Emoji', 'Segoe UI Emoji', 'Segoe UI Symbol'\" font-style=\"italic\" font-size=\"13.00\">long</text>\n",
       "<polygon fill=\"#ffffff\" stroke=\"none\" points=\"410.5,-353 410.5,-377 441.5,-377 441.5,-353 410.5,-353\"/>\n",
       "<polygon fill=\"#ffffff\" stroke=\"none\" points=\"441.5,-353 441.5,-377 530.5,-377 530.5,-353 441.5,-353\"/>\n",
       "<text text-anchor=\"start\" x=\"446.5\" y=\"-361.6\" font-family=\"-apple-system, BlinkMacSystemFont, 'Segoe UI', Helvetica, Arial, sans-serif, 'Apple Color Emoji', 'Segoe UI Emoji', 'Segoe UI Symbol'\" font-size=\"13.00\">Product Name</text>\n",
       "<polygon fill=\"#ffffff\" stroke=\"none\" points=\"530.5,-353 530.5,-377 573.5,-377 573.5,-353 530.5,-353\"/>\n",
       "<text text-anchor=\"start\" x=\"535.5\" y=\"-362.6\" font-family=\"-apple-system, BlinkMacSystemFont, 'Segoe UI', Helvetica, Arial, sans-serif, 'Apple Color Emoji', 'Segoe UI Emoji', 'Segoe UI Symbol'\" font-style=\"italic\" font-size=\"13.00\">String</text>\n",
       "<polygon fill=\"#f5f5f5\" stroke=\"none\" points=\"410.5,-329 410.5,-353 441.5,-353 441.5,-329 410.5,-329\"/>\n",
       "<polygon fill=\"#f5f5f5\" stroke=\"none\" points=\"441.5,-329 441.5,-353 530.5,-353 530.5,-329 441.5,-329\"/>\n",
       "<text text-anchor=\"start\" x=\"446.5\" y=\"-337.6\" font-family=\"-apple-system, BlinkMacSystemFont, 'Segoe UI', Helvetica, Arial, sans-serif, 'Apple Color Emoji', 'Segoe UI Emoji', 'Segoe UI Symbol'\" font-size=\"13.00\">Brand</text>\n",
       "<polygon fill=\"#f5f5f5\" stroke=\"none\" points=\"530.5,-329 530.5,-353 573.5,-353 573.5,-329 530.5,-329\"/>\n",
       "<text text-anchor=\"start\" x=\"535.5\" y=\"-338.6\" font-family=\"-apple-system, BlinkMacSystemFont, 'Segoe UI', Helvetica, Arial, sans-serif, 'Apple Color Emoji', 'Segoe UI Emoji', 'Segoe UI Symbol'\" font-style=\"italic\" font-size=\"13.00\">String</text>\n",
       "<polygon fill=\"none\" stroke=\"black\" points=\"409,-328 409,-426 574,-426 574,-328 409,-328\"/>\n",
       "</g>\n",
       "<!-- classified_products&#45;&gt;Products_store -->\n",
       "<g id=\"edge4\" class=\"edge\"><title>classified_products-&gt;Products_store</title>\n",
       "<path fill=\"none\" stroke=\"black\" d=\"M230.142,-264.375C281.583,-286.627 341.755,-312.657 391.287,-334.083\"/>\n",
       "<polygon fill=\"black\" stroke=\"black\" points=\"390.159,-337.408 400.727,-338.166 392.938,-330.983 390.159,-337.408\"/>\n",
       "<text text-anchor=\"middle\" x=\"311.5\" y=\"-327.6\" font-family=\"-apple-system, BlinkMacSystemFont, 'Segoe UI', Helvetica, Arial, sans-serif, 'Apple Color Emoji', 'Segoe UI Emoji', 'Segoe UI Symbol'\" font-size=\"13.00\">ProductId → ProductId</text>\n",
       "</g>\n",
       "<!-- purchase_prices -->\n",
       "<g id=\"node3\" class=\"node\"><title>purchase_prices</title>\n",
       "<text text-anchor=\"start\" x=\"442.5\" y=\"-286.6\" font-family=\"-apple-system, BlinkMacSystemFont, 'Segoe UI', Helvetica, Arial, sans-serif, 'Apple Color Emoji', 'Segoe UI Emoji', 'Segoe UI Symbol'\" font-weight=\"bold\" font-size=\"13.00\">purchase_prices</text>\n",
       "<polygon fill=\"#f5f5f5\" stroke=\"none\" points=\"406.5,-253 406.5,-277 437.5,-277 437.5,-253 406.5,-253\"/>\n",
       "<text text-anchor=\"start\" x=\"411.5\" y=\"-262.6\" font-family=\"-apple-system, BlinkMacSystemFont, 'Segoe UI', Helvetica, Arial, sans-serif, 'Apple Color Emoji', 'Segoe UI Emoji', 'Segoe UI Symbol'\" font-weight=\"bold\" font-size=\"13.00\">key</text>\n",
       "<polygon fill=\"#f5f5f5\" stroke=\"none\" points=\"437.5,-253 437.5,-277 529.5,-277 529.5,-253 437.5,-253\"/>\n",
       "<text text-anchor=\"start\" x=\"442.5\" y=\"-261.6\" font-family=\"-apple-system, BlinkMacSystemFont, 'Segoe UI', Helvetica, Arial, sans-serif, 'Apple Color Emoji', 'Segoe UI Emoji', 'Segoe UI Symbol'\" font-size=\"13.00\">ProductId</text>\n",
       "<polygon fill=\"#f5f5f5\" stroke=\"none\" points=\"529.5,-253 529.5,-277 576.5,-277 576.5,-253 529.5,-253\"/>\n",
       "<text text-anchor=\"start\" x=\"548.5\" y=\"-262.6\" font-family=\"-apple-system, BlinkMacSystemFont, 'Segoe UI', Helvetica, Arial, sans-serif, 'Apple Color Emoji', 'Segoe UI Emoji', 'Segoe UI Symbol'\" font-style=\"italic\" font-size=\"13.00\">long</text>\n",
       "<polygon fill=\"#ffffff\" stroke=\"none\" points=\"406.5,-229 406.5,-253 437.5,-253 437.5,-229 406.5,-229\"/>\n",
       "<polygon fill=\"#ffffff\" stroke=\"none\" points=\"437.5,-229 437.5,-253 529.5,-253 529.5,-229 437.5,-229\"/>\n",
       "<text text-anchor=\"start\" x=\"442.5\" y=\"-237.6\" font-family=\"-apple-system, BlinkMacSystemFont, 'Segoe UI', Helvetica, Arial, sans-serif, 'Apple Color Emoji', 'Segoe UI Emoji', 'Segoe UI Symbol'\" font-size=\"13.00\">PurchasePrice</text>\n",
       "<polygon fill=\"#ffffff\" stroke=\"none\" points=\"529.5,-229 529.5,-253 576.5,-253 576.5,-229 529.5,-229\"/>\n",
       "<text text-anchor=\"start\" x=\"534.5\" y=\"-238.6\" font-family=\"-apple-system, BlinkMacSystemFont, 'Segoe UI', Helvetica, Arial, sans-serif, 'Apple Color Emoji', 'Segoe UI Emoji', 'Segoe UI Symbol'\" font-style=\"italic\" font-size=\"13.00\">double</text>\n",
       "<polygon fill=\"none\" stroke=\"black\" points=\"405.5,-228 405.5,-302 577.5,-302 577.5,-228 405.5,-228\"/>\n",
       "</g>\n",
       "<!-- classified_products&#45;&gt;purchase_prices -->\n",
       "<g id=\"edge3\" class=\"edge\"><title>classified_products-&gt;purchase_prices</title>\n",
       "<path fill=\"none\" stroke=\"black\" d=\"M230.142,-230.239C280.262,-236.931 338.671,-244.729 387.451,-251.242\"/>\n",
       "<polygon fill=\"black\" stroke=\"black\" points=\"387.015,-254.714 397.39,-252.569 387.941,-247.776 387.015,-254.714\"/>\n",
       "<text text-anchor=\"middle\" x=\"311.5\" y=\"-251.6\" font-family=\"-apple-system, BlinkMacSystemFont, 'Segoe UI', Helvetica, Arial, sans-serif, 'Apple Color Emoji', 'Segoe UI Emoji', 'Segoe UI Symbol'\" font-size=\"13.00\">ProductId → ProductId</text>\n",
       "</g>\n",
       "<!-- selling_prices -->\n",
       "<g id=\"node4\" class=\"node\"><title>selling_prices</title>\n",
       "<text text-anchor=\"start\" x=\"451\" y=\"-186.6\" font-family=\"-apple-system, BlinkMacSystemFont, 'Segoe UI', Helvetica, Arial, sans-serif, 'Apple Color Emoji', 'Segoe UI Emoji', 'Segoe UI Symbol'\" font-weight=\"bold\" font-size=\"13.00\">selling_prices</text>\n",
       "<polygon fill=\"#f5f5f5\" stroke=\"none\" points=\"414.5,-153 414.5,-177 445.5,-177 445.5,-153 414.5,-153\"/>\n",
       "<text text-anchor=\"start\" x=\"419.5\" y=\"-162.6\" font-family=\"-apple-system, BlinkMacSystemFont, 'Segoe UI', Helvetica, Arial, sans-serif, 'Apple Color Emoji', 'Segoe UI Emoji', 'Segoe UI Symbol'\" font-weight=\"bold\" font-size=\"13.00\">key</text>\n",
       "<polygon fill=\"#f5f5f5\" stroke=\"none\" points=\"445.5,-153 445.5,-177 521.5,-177 521.5,-153 445.5,-153\"/>\n",
       "<text text-anchor=\"start\" x=\"450.5\" y=\"-161.6\" font-family=\"-apple-system, BlinkMacSystemFont, 'Segoe UI', Helvetica, Arial, sans-serif, 'Apple Color Emoji', 'Segoe UI Emoji', 'Segoe UI Symbol'\" font-size=\"13.00\">ProductId</text>\n",
       "<polygon fill=\"#f5f5f5\" stroke=\"none\" points=\"521.5,-153 521.5,-177 568.5,-177 568.5,-153 521.5,-153\"/>\n",
       "<text text-anchor=\"start\" x=\"540.5\" y=\"-162.6\" font-family=\"-apple-system, BlinkMacSystemFont, 'Segoe UI', Helvetica, Arial, sans-serif, 'Apple Color Emoji', 'Segoe UI Emoji', 'Segoe UI Symbol'\" font-style=\"italic\" font-size=\"13.00\">long</text>\n",
       "<polygon fill=\"#ffffff\" stroke=\"none\" points=\"414.5,-129 414.5,-153 445.5,-153 445.5,-129 414.5,-129\"/>\n",
       "<polygon fill=\"#ffffff\" stroke=\"none\" points=\"445.5,-129 445.5,-153 521.5,-153 521.5,-129 445.5,-129\"/>\n",
       "<text text-anchor=\"start\" x=\"450.5\" y=\"-137.6\" font-family=\"-apple-system, BlinkMacSystemFont, 'Segoe UI', Helvetica, Arial, sans-serif, 'Apple Color Emoji', 'Segoe UI Emoji', 'Segoe UI Symbol'\" font-size=\"13.00\">SellingPrice</text>\n",
       "<polygon fill=\"#ffffff\" stroke=\"none\" points=\"521.5,-129 521.5,-153 568.5,-153 568.5,-129 521.5,-129\"/>\n",
       "<text text-anchor=\"start\" x=\"526.5\" y=\"-138.6\" font-family=\"-apple-system, BlinkMacSystemFont, 'Segoe UI', Helvetica, Arial, sans-serif, 'Apple Color Emoji', 'Segoe UI Emoji', 'Segoe UI Symbol'\" font-style=\"italic\" font-size=\"13.00\">double</text>\n",
       "<polygon fill=\"none\" stroke=\"black\" points=\"413.5,-128 413.5,-202 569.5,-202 569.5,-128 413.5,-128\"/>\n",
       "</g>\n",
       "<!-- classified_products&#45;&gt;selling_prices -->\n",
       "<g id=\"edge2\" class=\"edge\"><title>classified_products-&gt;selling_prices</title>\n",
       "<path fill=\"none\" stroke=\"black\" d=\"M230.142,-199.761C282.879,-192.72 344.792,-184.454 395.01,-177.749\"/>\n",
       "<polygon fill=\"black\" stroke=\"black\" points=\"395.767,-181.179 405.215,-176.386 394.84,-174.241 395.767,-181.179\"/>\n",
       "<text text-anchor=\"middle\" x=\"311.5\" y=\"-198.6\" font-family=\"-apple-system, BlinkMacSystemFont, 'Segoe UI', Helvetica, Arial, sans-serif, 'Apple Color Emoji', 'Segoe UI Emoji', 'Segoe UI Symbol'\" font-size=\"13.00\">ProductId → ProductId</text>\n",
       "</g>\n",
       "<!-- Competitor_prices_store -->\n",
       "<g id=\"node5\" class=\"node\"><title>Competitor_prices_store</title>\n",
       "<text text-anchor=\"start\" x=\"418.5\" y=\"-86.6\" font-family=\"-apple-system, BlinkMacSystemFont, 'Segoe UI', Helvetica, Arial, sans-serif, 'Apple Color Emoji', 'Segoe UI Emoji', 'Segoe UI Symbol'\" font-weight=\"bold\" font-size=\"13.00\">Competitor_prices_store</text>\n",
       "<polygon fill=\"#f5f5f5\" stroke=\"none\" points=\"402.5,-53 402.5,-77 433.5,-77 433.5,-53 402.5,-53\"/>\n",
       "<text text-anchor=\"start\" x=\"407.5\" y=\"-62.6\" font-family=\"-apple-system, BlinkMacSystemFont, 'Segoe UI', Helvetica, Arial, sans-serif, 'Apple Color Emoji', 'Segoe UI Emoji', 'Segoe UI Symbol'\" font-weight=\"bold\" font-size=\"13.00\">key</text>\n",
       "<polygon fill=\"#f5f5f5\" stroke=\"none\" points=\"433.5,-53 433.5,-77 534.5,-77 534.5,-53 433.5,-53\"/>\n",
       "<text text-anchor=\"start\" x=\"438.5\" y=\"-61.6\" font-family=\"-apple-system, BlinkMacSystemFont, 'Segoe UI', Helvetica, Arial, sans-serif, 'Apple Color Emoji', 'Segoe UI Emoji', 'Segoe UI Symbol'\" font-size=\"13.00\">ProductId</text>\n",
       "<polygon fill=\"#f5f5f5\" stroke=\"none\" points=\"534.5,-53 534.5,-77 581.5,-77 581.5,-53 534.5,-53\"/>\n",
       "<text text-anchor=\"start\" x=\"553.5\" y=\"-62.6\" font-family=\"-apple-system, BlinkMacSystemFont, 'Segoe UI', Helvetica, Arial, sans-serif, 'Apple Color Emoji', 'Segoe UI Emoji', 'Segoe UI Symbol'\" font-style=\"italic\" font-size=\"13.00\">long</text>\n",
       "<polygon fill=\"#ffffff\" stroke=\"none\" points=\"402.5,-29 402.5,-53 433.5,-53 433.5,-29 402.5,-29\"/>\n",
       "<polygon fill=\"#ffffff\" stroke=\"none\" points=\"433.5,-29 433.5,-53 534.5,-53 534.5,-29 433.5,-29\"/>\n",
       "<text text-anchor=\"start\" x=\"438.5\" y=\"-37.6\" font-family=\"-apple-system, BlinkMacSystemFont, 'Segoe UI', Helvetica, Arial, sans-serif, 'Apple Color Emoji', 'Segoe UI Emoji', 'Segoe UI Symbol'\" font-size=\"13.00\">CompetitorPrice</text>\n",
       "<polygon fill=\"#ffffff\" stroke=\"none\" points=\"534.5,-29 534.5,-53 581.5,-53 581.5,-29 534.5,-29\"/>\n",
       "<text text-anchor=\"start\" x=\"539.5\" y=\"-38.6\" font-family=\"-apple-system, BlinkMacSystemFont, 'Segoe UI', Helvetica, Arial, sans-serif, 'Apple Color Emoji', 'Segoe UI Emoji', 'Segoe UI Symbol'\" font-style=\"italic\" font-size=\"13.00\">double</text>\n",
       "<polygon fill=\"#f5f5f5\" stroke=\"none\" points=\"402.5,-5 402.5,-29 433.5,-29 433.5,-5 402.5,-5\"/>\n",
       "<text text-anchor=\"start\" x=\"407.5\" y=\"-14.6\" font-family=\"-apple-system, BlinkMacSystemFont, 'Segoe UI', Helvetica, Arial, sans-serif, 'Apple Color Emoji', 'Segoe UI Emoji', 'Segoe UI Symbol'\" font-weight=\"bold\" font-size=\"13.00\">key</text>\n",
       "<polygon fill=\"#f5f5f5\" stroke=\"none\" points=\"433.5,-5 433.5,-29 534.5,-29 534.5,-5 433.5,-5\"/>\n",
       "<text text-anchor=\"start\" x=\"438.5\" y=\"-13.6\" font-family=\"-apple-system, BlinkMacSystemFont, 'Segoe UI', Helvetica, Arial, sans-serif, 'Apple Color Emoji', 'Segoe UI Emoji', 'Segoe UI Symbol'\" font-size=\"13.00\">CompetitorName</text>\n",
       "<polygon fill=\"#f5f5f5\" stroke=\"none\" points=\"534.5,-5 534.5,-29 581.5,-29 581.5,-5 534.5,-5\"/>\n",
       "<text text-anchor=\"start\" x=\"543.5\" y=\"-14.6\" font-family=\"-apple-system, BlinkMacSystemFont, 'Segoe UI', Helvetica, Arial, sans-serif, 'Apple Color Emoji', 'Segoe UI Emoji', 'Segoe UI Symbol'\" font-style=\"italic\" font-size=\"13.00\">String</text>\n",
       "<polygon fill=\"none\" stroke=\"black\" points=\"401,-4 401,-102 582,-102 582,-4 401,-4\"/>\n",
       "</g>\n",
       "<!-- classified_products&#45;&gt;Competitor_prices_store -->\n",
       "<g id=\"edge1\" class=\"edge\"><title>classified_products-&gt;Competitor_prices_store</title>\n",
       "<path fill=\"none\" stroke=\"black\" stroke-dasharray=\"5,2\" d=\"M230.142,-165.625C278.854,-144.553 335.395,-120.095 383.317,-99.3649\"/>\n",
       "<polygon fill=\"black\" stroke=\"black\" points=\"384.993,-102.453 392.781,-95.2708 382.214,-96.0287 384.993,-102.453\"/>\n",
       "<text text-anchor=\"middle\" x=\"311.5\" y=\"-156.6\" font-family=\"-apple-system, BlinkMacSystemFont, 'Segoe UI', Helvetica, Arial, sans-serif, 'Apple Color Emoji', 'Segoe UI Emoji', 'Segoe UI Symbol'\" font-size=\"13.00\">ProductId → ProductId</text>\n",
       "</g>\n",
       "</g>\n",
       "</svg>"
      ],
      "text/plain": [
       "<IPython.core.display.SVG object>"
      ]
     },
     "execution_count": 34,
     "metadata": {},
     "output_type": "execute_result"
    }
   ],
   "source": [
    "cube.schema"
   ]
  },
  {
   "cell_type": "markdown",
   "metadata": {},
   "source": [
    "### Creating the price index measure"
   ]
  },
  {
   "cell_type": "markdown",
   "metadata": {},
   "source": [
    "The \"scope\" parameters enables you to have a different aggregation strategy below the \"on\" level.  \n",
    "In the following cell, everything above Product (ProductId) level is aggregated as a sum, while below the product level we find the previous formula, that does an average on the competitor prices just for one particular product."
   ]
  },
  {
   "cell_type": "code",
   "execution_count": 35,
   "metadata": {},
   "outputs": [],
   "source": [
    "m[\"CompetitorPrice.VALUE\"] = competitor_prices_store[\"CompetitorPrice\"]\n",
    "m[\"CompetitorPrice.MEAN\"] = atoti.agg.mean(m[\"CompetitorPrice.VALUE\"])"
   ]
  },
  {
   "cell_type": "code",
   "execution_count": 36,
   "metadata": {},
   "outputs": [],
   "source": [
    "price_index_numerator = atoti.agg.sum(\n",
    "    (m[\"SellingPrice.MEAN\"] * m[\"Margin.SUM\"]) / m[\"CompetitorPrice.MEAN\"],\n",
    "    scope=atoti.scope.origin(lvl[\"ProductId\"]),\n",
    ")\n",
    "\n",
    "# Some products have no competitor price or selling price.\n",
    "# We exclude them from the denominator for consistency with the numerator\n",
    "price_index_denominator = atoti.agg.sum(\n",
    "    atoti.where(\n",
    "        (m[\"CompetitorPrice.MEAN\"] != None) & (m[\"SellingPrice.MEAN\"] != None),\n",
    "        m[\"Margin.SUM\"],\n",
    "    ),\n",
    "    scope=atoti.scope.origin(lvl[\"ProductId\"]),\n",
    ")"
   ]
  },
  {
   "cell_type": "code",
   "execution_count": 37,
   "metadata": {},
   "outputs": [],
   "source": [
    "m[\"Price Index\"] = 100 * price_index_numerator / price_index_denominator"
   ]
  },
  {
   "cell_type": "markdown",
   "metadata": {},
   "source": [
    "The price index measure is now created accordingly to the formula.\n",
    "\n",
    "We can see below that our driver products are in fact a bit more expensive than the average market price while we are quite competitive on the complementary products, which is the opposite of our goal."
   ]
  },
  {
   "cell_type": "code",
   "execution_count": 38,
   "metadata": {
    "atoti": {
     "widget": {
      "mapping": {
       "columns": [
        "ALL_MEASURES"
       ],
       "measures": [
        "[Measures].[Price Index]"
       ],
       "rows": []
      },
      "name": "Price index per competitor",
      "query": {
       "context": {
        "queriesResultLimit.intermediateSize": 1000000,
        "queriesResultLimit.transientSize": 10000000
       },
       "mdx": "SELECT NON EMPTY Order(DrilldownLevel([classified_products].[Product Class].[ALL].[AllMember]), ([Measures].[Price Index], [Competitor_prices_store].[CompetitorName].[ALL].[AllMember]), DESC) ON ROWS, NON EMPTY Crossjoin({[Measures].[Price Index]}, Hierarchize(DrilldownLevel([Competitor_prices_store].[CompetitorName].[ALL].[AllMember]))) ON COLUMNS FROM [products_cube] CELL PROPERTIES VALUE, FORMATTED_VALUE, BACK_COLOR, FORE_COLOR, FONT_FLAGS"
      },
      "serverKey": "default",
      "widgetKey": "pivot-table"
     }
    }
   },
   "outputs": [
    {
     "data": {
      "application/vnd.atoti.v0+json": {
       "name": "Price index per competitor",
       "session": "Unnamed"
      },
      "text/html": [
       "<img src=\"data:image/svg+xml;charset=utf8,%3C?xml%20version=%221.0%22%20standalone=%22no%22?%3E%3Csvg%20xmlns=%22http://www.w3.org/2000/svg%22%20height=%22348%22%20width=%221087%22%3E%3CforeignObject%20width=%22100%25%22%20height=%22100%25%22%20x=%220%22%20y=%220%22%3E%3Cstyle%20type=%22text/css%22%3E.anticon%20%7Bdisplay:%20inline-block;%20color:%20inherit;%20font-style:%20normal;%20line-height:%200;%20text-align:%20center;%20text-transform:%20none;%20vertical-align:%20-0.125em;%20text-rendering:%20optimizelegibility;%20-webkit-font-smoothing:%20antialiased%7D%0A.anticon%20%3E%20*%20%7Bline-height:%201%7D%0A.anticon%20svg%20%7Bdisplay:%20inline-block%7D%0A.anticon%5Btabindex%5D%20%7Bcursor:%20pointer%7D%0A*,%20::before,%20::after%20%7Bbox-sizing:%20unset%7D%0A.ant-root%20%5Bclass%5E=%22ant-%22%5D,%20.ant-root%20%5Bclass*=%22ant-%22%5D,%20.ant-root%20%5Bclass%5E=%22ant-%22%5D%20*,%20.ant-root%20%5Bclass*=%22ant-%22%5D%20*,%20.ant-root%20%5Bclass%5E=%22ant-%22%5D%20::before,%20.ant-root%20%5Bclass*=%22ant-%22%5D%20::before,%20.ant-root%20%5Bclass%5E=%22ant-%22%5D%20::after,%20.ant-root%20%5Bclass*=%22ant-%22%5D%20::after%20%7Bbox-sizing:%20border-box%7D%0A.ant-root%20html,%20.ant-root%20%7Bwidth:%20100%25;%20height:%20100%25%7D%0A.ant-root%20*,%20.ant-root%20::before,%20.ant-root%20::after%20%7Bbox-sizing:%20border-box%7D%0A.ant-root%20%7Bmargin-top:%200px;%20margin-right:%200px;%20margin-bottom:%200px;%20margin-left:%200px;%20color:%20rgb(89,%2089,%2089);%20font-size:%2012px;%20font-family:%20-apple-system,%20BlinkMacSystemFont,%20%22Segoe%20UI%22,%20Roboto,%20%22Helvetica%20Neue%22,%20Arial,%20%22Noto%20Sans%22,%20sans-serif,%20%22Apple%20Color%20Emoji%22,%20%22Segoe%20UI%20Emoji%22,%20%22Segoe%20UI%20Symbol%22,%20%22Noto%20Color%20Emoji%22;%20font-variant-ligatures:%20normal;%20font-variant-numeric:%20tabular-nums;%20font-variant-east-asian:%20normal;%20font-variant-caps:%20normal;%20line-height:%201.66667;%20background-color:%20rgb(255,%20255,%20255);%20--antd-wave-shadow-color:%20undefined;%20--scroll-bar:%20undefined%7D%0A.ant-root%20svg:not(:root)%20%7Boverflow-x:%20hidden;%20overflow-y:%20hidden%7D%0A.ant-root%20.anticon%20%7Bdisplay:%20inline-block;%20color:%20inherit;%20font-style:%20normal;%20line-height:%200;%20text-align:%20center;%20text-transform:%20none;%20vertical-align:%20-0.125em;%20text-rendering:%20optimizelegibility;%20-webkit-font-smoothing:%20antialiased%7D%0A.ant-root%20.anticon%20%3E%20*%20%7Bline-height:%201%7D%0A.ant-root%20.anticon%20svg%20%7Bdisplay:%20inline-block%7D%0A.ant-root%20.anticon%5Btabindex%5D%20%7Bcursor:%20pointer%7D%0A.ant-root%20.ant-spin%20%7Bbox-sizing:%20border-box;%20margin-top:%200px;%20margin-right:%200px;%20margin-bottom:%200px;%20margin-left:%200px;%20padding-top:%200px;%20padding-right:%200px;%20padding-bottom:%200px;%20padding-left:%200px;%20font-size:%2012px;%20font-variant-ligatures:%20normal;%20font-variant-numeric:%20tabular-nums;%20font-variant-east-asian:%20normal;%20font-variant-caps:%20normal;%20line-height:%201.66667;%20list-style-position:%20initial;%20list-style-image:%20initial;%20list-style-type:%20none;%20position:%20absolute;%20display:%20none;%20color:%20rgb(0,%20174,%20239);%20text-align:%20center;%20vertical-align:%20middle;%20opacity:%200;%20transition-duration:%200.3s;%20transition-timing-function:%20cubic-bezier(0.78,%200.14,%200.15,%200.86);%20transition-delay:%200s;%20transition-property:%20transform%7D%0A.ant-root%20.ant-spin-spinning%20%7Bposition:%20static;%20display:%20inline-block;%20opacity:%201%7D%0A.ant-root%20.ant-spin-dot%20%7Bposition:%20relative;%20display:%20inline-block;%20font-size:%2020px;%20width:%201em;%20height:%201em%7D%0A.ant-root%20.ant-spin-dot-item%20%7Bposition:%20absolute;%20display:%20block;%20width:%209px;%20height:%209px;%20background-color:%20rgb(0,%20174,%20239);%20border-top-left-radius:%20100%25;%20border-top-right-radius:%20100%25;%20border-bottom-right-radius:%20100%25;%20border-bottom-left-radius:%20100%25;%20transform:%20scale(0.75);%20transform-origin:%2050%25%2050%25;%20opacity:%200.3;%20animation-duration:%201s;%20animation-timing-function:%20linear;%20animation-delay:%200s;%20animation-iteration-count:%20infinite;%20animation-direction:%20alternate;%20animation-fill-mode:%20none;%20animation-play-state:%20running;%20animation-name:%20antSpinMove%7D%0A.ant-root%20.ant-spin-dot-item:nth-child(1)%20%7Btop:%200px;%20left:%200px%7D%0A.ant-root%20.ant-spin-dot-item:nth-child(2)%20%7Btop:%200px;%20right:%200px;%20animation-delay:%200.4s%7D%0A.ant-root%20.ant-spin-dot-item:nth-child(3)%20%7Bright:%200px;%20bottom:%200px;%20animation-delay:%200.8s%7D%0A.ant-root%20.ant-spin-dot-item:nth-child(4)%20%7Bbottom:%200px;%20left:%200px;%20animation-delay:%201.2s%7D%0A.ant-root%20.ant-spin-dot-spin%20%7Btransform:%20rotate(45deg);%20animation-duration:%201.2s;%20animation-timing-function:%20linear;%20animation-delay:%200s;%20animation-iteration-count:%20infinite;%20animation-direction:%20normal;%20animation-fill-mode:%20none;%20animation-play-state:%20running;%20animation-name:%20antRotate%7D%0A.ant-root%20.ant-spin-lg%20.ant-spin-dot%20%7Bfont-size:%2032px%7D%0A.ant-root%20.ant-spin-lg%20.ant-spin-dot%20i%20%7Bwidth:%2014px;%20height:%2014px%7D%0A.css-12ebr42-AWidget%20%7Bheight:%20100%25%7D%0A.css-ck2xzt-Spinner%20%7B-webkit-box-align:%20center;%20align-items:%20center;%20background-image:%20initial;%20background-position-x:%20initial;%20background-position-y:%20initial;%20background-size:%20initial;%20background-repeat-x:%20initial;%20background-repeat-y:%20initial;%20background-attachment:%20initial;%20background-origin:%20initial;%20background-clip:%20initial;%20background-color:%20transparent;%20display:%20flex;%20height:%20100%25;%20-webkit-box-pack:%20center;%20justify-content:%20center;%20position:%20absolute;%20transition-duration:%20300ms;%20transition-timing-function:%20ease;%20transition-delay:%200s;%20transition-property:%20opacity;%20width:%20100%25;%20opacity:%200;%20pointer-events:%20none;%20z-index:%202%7D%0A.css-1e3kjgr-Spinner%20%7Bheight:%20100%25;%20position:%20relative%7D%0A.css-6s7z8y-Table%20%7Bpadding-bottom:%202px;%20padding-right:%202px;%20height:%20100%25%7D%0A.css-18k6uz5-Table%20%7Bcursor:%20cell;%20height:%20100%25;%20outline-color:%20initial;%20outline-style:%20none;%20outline-width:%20initial%7D%0A.css-16sdsf5-Table%20%7Bdisplay:%20flex;%20height:%20346px%7D%0A.css-u4e0tt-Table%20%7Bborder-collapse:%20collapse;%20height:%2056px;%20width:%20120px%7D%0A.css-1c0bag9%20%7Bheight:%2056px;%20width:%20120px%7D%0A.css-1vna2im%20%7Bheight:%2056px;%20overflow-x:%20hidden;%20overflow-y:%20hidden;%20position:%20relative;%20width:%20120px;%20border-right-width:%202px;%20border-right-style:%20solid;%20border-right-color:%20rgb(233,%20233,%20233)%7D%0A.css-avhfff%20%7Bheight:%20290px;%20width:%20120px;%20overflow-x:%20hidden;%20overflow-y:%20auto%7D%0A.css-1ff127b-Table%20%7Bwidth:%20965px;%20border-collapse:%20collapse%7D%0A.css-13oevc%20%7Bheight:%2056px;%20width:%20947px;%20overflow-x:%20auto;%20overflow-y:%20hidden%7D%0A.css-95832d%20%7Bheight:%20290px;%20width:%20965px;%20overflow-x:%20auto;%20overflow-y:%20auto%7D%0A.css-kaiwro%20%7Bheight:%20112px;%20overflow-x:%20hidden;%20overflow-y:%20hidden;%20position:%20relative;%20width:%20120px;%20border-top-width:%202px;%20border-top-style:%20solid;%20border-top-color:%20rgb(233,%20233,%20233);%20border-right-width:%202px;%20border-right-style:%20solid;%20border-right-color:%20rgb(233,%20233,%20233)%7D%0A.css-1xboc96%20%7Bheight:%2056px;%20overflow-x:%20hidden;%20overflow-y:%20hidden;%20position:%20relative;%20width:%20600px%7D%0A.css-68dnwa%20%7Bheight:%20112px;%20overflow-x:%20hidden;%20overflow-y:%20hidden;%20position:%20relative;%20width:%20600px;%20border-top-width:%202px;%20border-top-style:%20solid;%20border-top-color:%20rgb(233,%20233,%20233)%7D%0A*%20%7B-ms-overflow-style:%20none;%20scrollbar-width:%20none%7D%0A*::-webkit-scrollbar%20%7Bdisplay:%20none%7D%3C/style%3E%3Cdiv%20xmlns=%22http://www.w3.org/1999/xhtml%22%20style=%22height:%20348px;%20width:%201087px;%22%3E&lt;div%20xmlns=%22http://www.w3.org/1999/xhtml%22%20class=%22ant-root%20css-0%22&gt;&lt;div%20class=%22ant-dropdown-trigger%20css-12ebr42-AWidget%22&gt;&lt;div%20class=%22css-1e3kjgr-Spinner%22&gt;&lt;div%20class=%22css-ck2xzt-Spinner%22&gt;&lt;div%20class=%22ant-spin%20ant-spin-lg%20ant-spin-spinning%22&gt;&lt;span%20class=%22ant-spin-dot%20ant-spin-dot-spin%22&gt;&lt;i%20class=%22ant-spin-dot-item%22&gt;&lt;/i&gt;&lt;i%20class=%22ant-spin-dot-item%22&gt;&lt;/i&gt;&lt;i%20class=%22ant-spin-dot-item%22&gt;&lt;/i&gt;&lt;i%20class=%22ant-spin-dot-item%22&gt;&lt;/i&gt;&lt;/span&gt;&lt;/div&gt;&lt;/div&gt;&lt;div%20class=%22css-6s7z8y-Table%22&gt;&lt;div%20tabindex=%220%22%20class=%22css-18k6uz5-Table%22&gt;&lt;div%20class=%22css-16sdsf5-Table%22&gt;&lt;div%20class=%22css-u4e0tt-Table%22&gt;&lt;div%20class=%22css-1c0bag9%22&gt;&lt;div%20class=%22css-1vna2im%22&gt;&lt;div%20style=%22font-size:%2012px;%20height:%2028px;%20left:%200px;%20padding:%204px%204px%203px;%20position:%20absolute;%20top:%200px;%20width:%20120px;%20font-weight:%20600;%22&gt;Product%20Class&lt;/div&gt;&lt;div%20style=%22font-size:%2012px;%20height:%2028px;%20left:%200px;%20padding:%204px%204px%203px;%20position:%20absolute;%20top:%2028px;%20width:%20120px;%20font-weight:%20600;%22&gt;&lt;/div&gt;&lt;/div&gt;&lt;/div&gt;&lt;div%20class=%22css-avhfff%22&gt;&lt;div%20class=%22css-kaiwro%22&gt;&lt;div%20style=%22font-size:%2012px;%20font-weight:%20600;%20padding:%204px%204px%203px;%22&gt;Total&lt;/div&gt;&lt;div%20style=%22overflow:%20hidden;%20display:%20flex;%20align-items:%20center;%20font-size:%2012px;%20height:%2028px;%20left:%200px;%20padding:%204px%204px%203px;%20position:%20absolute;%20top:%2028px;%20width:%20120px;%20background-color:%20rgb(250,%20250,%20250);%20border-right:%202px%20solid%20rgb(233,%20233,%20233);%22&gt;&lt;span%20style=%22text-overflow:%20ellipsis;%20overflow:%20hidden;%20white-space:%20nowrap;%20max-width:%20calc((100%25%20-%200px)%20-%200px);%22&gt;Complementary&lt;/span&gt;&lt;div%20style=%22height:%20100%25;%20margin-left:%206px;%22&gt;&lt;/div&gt;&lt;/div&gt;&lt;div%20style=%22overflow:%20hidden;%20display:%20flex;%20align-items:%20center;%20font-size:%2012px;%20height:%2028px;%20left:%200px;%20padding:%204px%204px%203px;%20position:%20absolute;%20top:%2056px;%20width:%20120px;%20border-right:%202px%20solid%20rgb(233,%20233,%20233);%22&gt;&lt;span%20style=%22text-overflow:%20ellipsis;%20overflow:%20hidden;%20white-space:%20nowrap;%20max-width:%20calc((100%25%20-%200px)%20-%200px);%22&gt;Driver&lt;/span&gt;&lt;div%20style=%22height:%20100%25;%20margin-left:%206px;%22&gt;&lt;/div&gt;&lt;/div&gt;&lt;div%20style=%22overflow:%20hidden;%20display:%20flex;%20align-items:%20center;%20font-size:%2012px;%20height:%2028px;%20left:%200px;%20padding:%204px%204px%203px;%20position:%20absolute;%20top:%2084px;%20width:%20120px;%20background-color:%20rgb(250,%20250,%20250);%20border-right:%202px%20solid%20rgb(233,%20233,%20233);%22&gt;&lt;span%20style=%22text-overflow:%20ellipsis;%20overflow:%20hidden;%20white-space:%20nowrap;%20max-width:%20calc((100%25%20-%200px)%20-%200px);%22&gt;Independent&lt;/span&gt;&lt;div%20style=%22height:%20100%25;%20margin-left:%206px;%22&gt;&lt;/div&gt;&lt;/div&gt;&lt;/div&gt;&lt;/div&gt;&lt;/div&gt;&lt;div%20class=%22css-1ff127b-Table%22&gt;&lt;div%20class=%22css-13oevc%22&gt;&lt;div%20class=%22css-1xboc96%22&gt;&lt;div%20style=%22overflow:%20hidden;%20display:%20flex;%20align-items:%20center;%20font-size:%2012px;%20height:%2028px;%20left:%200px;%20padding:%204px%204px%203px;%20position:%20absolute;%20top:%200px;%20width:%20120px;%20font-weight:%20600;%22&gt;&lt;span%20style=%22text-overflow:%20ellipsis;%20overflow:%20hidden;%20white-space:%20nowrap;%20max-width:%20calc((100%25%20-%200px)%20-%200px);%22&gt;Price%20Index&lt;/span&gt;&lt;div%20style=%22height:%20100%25;%20margin-left:%206px;%22&gt;&lt;/div&gt;&lt;/div&gt;&lt;div%20style=%22overflow:%20hidden;%20display:%20none;%20align-items:%20center;%20font-size:%2012px;%20height:%2028px;%20left:%20120px;%20padding:%204px%204px%203px;%20position:%20absolute;%20top:%200px;%20width:%20120px;%20font-weight:%20600;%22&gt;&lt;span%20role=%22img%22%20aria-label=%22right%22%20tabindex=%22-1%22%20class=%22anticon%20anticon-right%22%20style=%22cursor:%20pointer;%20font-size:%2010px;%20margin-right:%206px;%22&gt;&lt;svg%20xmlns=%22http://www.w3.org/2000/svg%22%20viewBox=%2264%2064%20896%20896%22%20focusable=%22false%22%20class=%22%22%20data-icon=%22right%22%20width=%221em%22%20height=%221em%22%20fill=%22currentColor%22%20aria-hidden=%22true%22&gt;&lt;path%20d=%22M765.7%20486.8L314.9%20134.7A7.97%207.97%200%2000302%20141v77.3c0%204.9%202.3%209.6%206.1%2012.6l360%20281.1-360%20281.1c-3.9%203-6.1%207.7-6.1%2012.6V883c0%206.7%207.7%2010.4%2012.9%206.3l450.8-352.1a31.96%2031.96%200%20000-50.4z%22/&gt;&lt;/svg&gt;&lt;/span&gt;&lt;span%20style=%22text-overflow:%20ellipsis;%20overflow:%20hidden;%20white-space:%20nowrap;%20max-width:%20calc((100%25%20-%2016px)%20-%200px);%22&gt;Price%20Index&lt;/span&gt;&lt;div%20style=%22height:%20100%25;%20margin-left:%206px;%22&gt;&lt;/div&gt;&lt;/div&gt;&lt;div%20style=%22overflow:%20hidden;%20display:%20none;%20align-items:%20center;%20font-size:%2012px;%20height:%2028px;%20left:%20240px;%20padding:%204px%204px%203px;%20position:%20absolute;%20top:%200px;%20width:%20120px;%20font-weight:%20600;%22&gt;&lt;span%20role=%22img%22%20aria-label=%22right%22%20tabindex=%22-1%22%20class=%22anticon%20anticon-right%22%20style=%22cursor:%20pointer;%20font-size:%2010px;%20margin-right:%206px;%22&gt;&lt;svg%20xmlns=%22http://www.w3.org/2000/svg%22%20viewBox=%2264%2064%20896%20896%22%20focusable=%22false%22%20class=%22%22%20data-icon=%22right%22%20width=%221em%22%20height=%221em%22%20fill=%22currentColor%22%20aria-hidden=%22true%22&gt;&lt;path%20d=%22M765.7%20486.8L314.9%20134.7A7.97%207.97%200%2000302%20141v77.3c0%204.9%202.3%209.6%206.1%2012.6l360%20281.1-360%20281.1c-3.9%203-6.1%207.7-6.1%2012.6V883c0%206.7%207.7%2010.4%2012.9%206.3l450.8-352.1a31.96%2031.96%200%20000-50.4z%22/&gt;&lt;/svg&gt;&lt;/span&gt;&lt;span%20style=%22text-overflow:%20ellipsis;%20overflow:%20hidden;%20white-space:%20nowrap;%20max-width:%20calc((100%25%20-%2016px)%20-%200px);%22&gt;Price%20Index&lt;/span&gt;&lt;div%20style=%22height:%20100%25;%20margin-left:%206px;%22&gt;&lt;/div&gt;&lt;/div&gt;&lt;div%20style=%22overflow:%20hidden;%20display:%20none;%20align-items:%20center;%20font-size:%2012px;%20height:%2028px;%20left:%20360px;%20padding:%204px%204px%203px;%20position:%20absolute;%20top:%200px;%20width:%20120px;%20font-weight:%20600;%22&gt;&lt;span%20role=%22img%22%20aria-label=%22right%22%20tabindex=%22-1%22%20class=%22anticon%20anticon-right%22%20style=%22cursor:%20pointer;%20font-size:%2010px;%20margin-right:%206px;%22&gt;&lt;svg%20xmlns=%22http://www.w3.org/2000/svg%22%20viewBox=%2264%2064%20896%20896%22%20focusable=%22false%22%20class=%22%22%20data-icon=%22right%22%20width=%221em%22%20height=%221em%22%20fill=%22currentColor%22%20aria-hidden=%22true%22&gt;&lt;path%20d=%22M765.7%20486.8L314.9%20134.7A7.97%207.97%200%2000302%20141v77.3c0%204.9%202.3%209.6%206.1%2012.6l360%20281.1-360%20281.1c-3.9%203-6.1%207.7-6.1%2012.6V883c0%206.7%207.7%2010.4%2012.9%206.3l450.8-352.1a31.96%2031.96%200%20000-50.4z%22/&gt;&lt;/svg&gt;&lt;/span&gt;&lt;span%20style=%22text-overflow:%20ellipsis;%20overflow:%20hidden;%20white-space:%20nowrap;%20max-width:%20calc((100%25%20-%2016px)%20-%200px);%22&gt;Price%20Index&lt;/span&gt;&lt;div%20style=%22height:%20100%25;%20margin-left:%206px;%22&gt;&lt;/div&gt;&lt;/div&gt;&lt;div%20style=%22overflow:%20hidden;%20display:%20none;%20align-items:%20center;%20font-size:%2012px;%20height:%2028px;%20left:%20480px;%20padding:%204px%204px%203px;%20position:%20absolute;%20top:%200px;%20width:%20120px;%20font-weight:%20600;%22&gt;&lt;span%20role=%22img%22%20aria-label=%22right%22%20tabindex=%22-1%22%20class=%22anticon%20anticon-right%22%20style=%22cursor:%20pointer;%20font-size:%2010px;%20margin-right:%206px;%22&gt;&lt;svg%20xmlns=%22http://www.w3.org/2000/svg%22%20viewBox=%2264%2064%20896%20896%22%20focusable=%22false%22%20class=%22%22%20data-icon=%22right%22%20width=%221em%22%20height=%221em%22%20fill=%22currentColor%22%20aria-hidden=%22true%22&gt;&lt;path%20d=%22M765.7%20486.8L314.9%20134.7A7.97%207.97%200%2000302%20141v77.3c0%204.9%202.3%209.6%206.1%2012.6l360%20281.1-360%20281.1c-3.9%203-6.1%207.7-6.1%2012.6V883c0%206.7%207.7%2010.4%2012.9%206.3l450.8-352.1a31.96%2031.96%200%20000-50.4z%22/&gt;&lt;/svg&gt;&lt;/span&gt;&lt;span%20style=%22text-overflow:%20ellipsis;%20overflow:%20hidden;%20white-space:%20nowrap;%20max-width:%20calc((100%25%20-%2016px)%20-%200px);%22&gt;Price%20Index&lt;/span&gt;&lt;div%20style=%22height:%20100%25;%20margin-left:%206px;%22&gt;&lt;/div&gt;&lt;/div&gt;&lt;div%20style=%22overflow:%20hidden;%20display:%20flex;%20align-items:%20center;%20font-size:%2012px;%20height:%2028px;%20left:%200px;%20padding:%204px%204px%203px;%20position:%20absolute;%20top:%2028px;%20width:%20120px;%20font-weight:%20600;%22&gt;&lt;span%20style=%22text-overflow:%20ellipsis;%20overflow:%20hidden;%20white-space:%20nowrap;%20max-width:%20calc((100%25%20-%200px)%20-%200px);%22&gt;&lt;/span&gt;&lt;div%20style=%22height:%20100%25;%20margin-left:%206px;%22&gt;&lt;/div&gt;&lt;/div&gt;&lt;div%20style=%22overflow:%20hidden;%20display:%20flex;%20align-items:%20center;%20font-size:%2012px;%20height:%2028px;%20left:%20120px;%20padding:%204px%204px%203px;%20position:%20absolute;%20top:%2028px;%20width:%20120px;%20font-weight:%20600;%22&gt;&lt;span%20style=%22text-overflow:%20ellipsis;%20overflow:%20hidden;%20white-space:%20nowrap;%20max-width:%20calc((100%25%20-%200px)%20-%200px);%22&gt;Competitor%201&lt;/span&gt;&lt;div%20style=%22height:%20100%25;%20margin-left:%206px;%22&gt;&lt;/div&gt;&lt;/div&gt;&lt;div%20style=%22overflow:%20hidden;%20display:%20flex;%20align-items:%20center;%20font-size:%2012px;%20height:%2028px;%20left:%20240px;%20padding:%204px%204px%203px;%20position:%20absolute;%20top:%2028px;%20width:%20120px;%20font-weight:%20600;%22&gt;&lt;span%20style=%22text-overflow:%20ellipsis;%20overflow:%20hidden;%20white-space:%20nowrap;%20max-width:%20calc((100%25%20-%200px)%20-%200px);%22&gt;Competitor%202&lt;/span&gt;&lt;div%20style=%22height:%20100%25;%20margin-left:%206px;%22&gt;&lt;/div&gt;&lt;/div&gt;&lt;div%20style=%22overflow:%20hidden;%20display:%20flex;%20align-items:%20center;%20font-size:%2012px;%20height:%2028px;%20left:%20360px;%20padding:%204px%204px%203px;%20position:%20absolute;%20top:%2028px;%20width:%20120px;%20font-weight:%20600;%22&gt;&lt;span%20style=%22text-overflow:%20ellipsis;%20overflow:%20hidden;%20white-space:%20nowrap;%20max-width:%20calc((100%25%20-%200px)%20-%200px);%22&gt;Competitor%203&lt;/span&gt;&lt;div%20style=%22height:%20100%25;%20margin-left:%206px;%22&gt;&lt;/div&gt;&lt;/div&gt;&lt;div%20style=%22overflow:%20hidden;%20display:%20flex;%20align-items:%20center;%20font-size:%2012px;%20height:%2028px;%20left:%20480px;%20padding:%204px%204px%203px;%20position:%20absolute;%20top:%2028px;%20width:%20120px;%20font-weight:%20600;%22&gt;&lt;span%20style=%22text-overflow:%20ellipsis;%20overflow:%20hidden;%20white-space:%20nowrap;%20max-width:%20calc((100%25%20-%200px)%20-%200px);%22&gt;Competitor%204&lt;/span&gt;&lt;div%20style=%22height:%20100%25;%20margin-left:%206px;%22&gt;&lt;/div&gt;&lt;/div&gt;&lt;/div&gt;&lt;/div&gt;&lt;div%20class=%22css-95832d%22&gt;&lt;div%20class=%22css-68dnwa%22&gt;&lt;div%20class=%22css-1lzltx4-TableCell%22%20style=%22font-size:%2012px;%20height:%2028px;%20left:%200px;%20padding:%204px%204px%203px;%20position:%20absolute;%20top:%200px;%20width:%20120px;%20text-align:%20right;%20border-right:%201px%20solid%20rgb(233,%20233,%20233);%22&gt;102.48&lt;/div&gt;&lt;div%20class=%22css-1lzltx4-TableCell%22%20style=%22font-size:%2012px;%20height:%2028px;%20left:%20120px;%20padding:%204px%204px%203px;%20position:%20absolute;%20top:%200px;%20width:%20120px;%20text-align:%20right;%20border-right:%201px%20solid%20rgb(233,%20233,%20233);%22&gt;107.18&lt;/div&gt;&lt;div%20class=%22css-1lzltx4-TableCell%22%20style=%22font-size:%2012px;%20height:%2028px;%20left:%20240px;%20padding:%204px%204px%203px;%20position:%20absolute;%20top:%200px;%20width:%20120px;%20text-align:%20right;%20border-right:%201px%20solid%20rgb(233,%20233,%20233);%22&gt;95.03&lt;/div&gt;&lt;div%20class=%22css-1lzltx4-TableCell%22%20style=%22font-size:%2012px;%20height:%2028px;%20left:%20360px;%20padding:%204px%204px%203px;%20position:%20absolute;%20top:%200px;%20width:%20120px;%20text-align:%20right;%20border-right:%201px%20solid%20rgb(233,%20233,%20233);%22&gt;105.61&lt;/div&gt;&lt;div%20class=%22css-1lzltx4-TableCell%22%20style=%22font-size:%2012px;%20height:%2028px;%20left:%20480px;%20padding:%204px%204px%203px;%20position:%20absolute;%20top:%200px;%20width:%20120px;%20text-align:%20right;%20border-right:%201px%20solid%20rgb(233,%20233,%20233);%22&gt;103.90&lt;/div&gt;&lt;div%20class=%22css-1lzltx4-TableCell%22%20style=%22font-size:%2012px;%20height:%2028px;%20left:%200px;%20padding:%204px%204px%203px;%20position:%20absolute;%20top:%2028px;%20width:%20120px;%20text-align:%20right;%20background-color:%20rgb(250,%20250,%20250);%20border-right:%201px%20solid%20rgb(233,%20233,%20233);%22&gt;103.99&lt;/div&gt;&lt;div%20class=%22css-1lzltx4-TableCell%22%20style=%22font-size:%2012px;%20height:%2028px;%20left:%20120px;%20padding:%204px%204px%203px;%20position:%20absolute;%20top:%2028px;%20width:%20120px;%20text-align:%20right;%20background-color:%20rgb(250,%20250,%20250);%20border-right:%201px%20solid%20rgb(233,%20233,%20233);%22&gt;107.81&lt;/div&gt;&lt;div%20class=%22css-1lzltx4-TableCell%22%20style=%22font-size:%2012px;%20height:%2028px;%20left:%20240px;%20padding:%204px%204px%203px;%20position:%20absolute;%20top:%2028px;%20width:%20120px;%20text-align:%20right;%20background-color:%20rgb(250,%20250,%20250);%20border-right:%201px%20solid%20rgb(233,%20233,%20233);%22&gt;94.80&lt;/div&gt;&lt;div%20class=%22css-1lzltx4-TableCell%22%20style=%22font-size:%2012px;%20height:%2028px;%20left:%20360px;%20padding:%204px%204px%203px;%20position:%20absolute;%20top:%2028px;%20width:%20120px;%20text-align:%20right;%20background-color:%20rgb(250,%20250,%20250);%20border-right:%201px%20solid%20rgb(233,%20233,%20233);%22&gt;107.58&lt;/div&gt;&lt;div%20class=%22css-1lzltx4-TableCell%22%20style=%22font-size:%2012px;%20height:%2028px;%20left:%20480px;%20padding:%204px%204px%203px;%20position:%20absolute;%20top:%2028px;%20width:%20120px;%20text-align:%20right;%20background-color:%20rgb(250,%20250,%20250);%20border-right:%201px%20solid%20rgb(233,%20233,%20233);%22&gt;107.58&lt;/div&gt;&lt;div%20class=%22css-1lzltx4-TableCell%22%20style=%22font-size:%2012px;%20height:%2028px;%20left:%200px;%20padding:%204px%204px%203px;%20position:%20absolute;%20top:%2056px;%20width:%20120px;%20text-align:%20right;%20border-right:%201px%20solid%20rgb(233,%20233,%20233);%22&gt;103.78&lt;/div&gt;&lt;div%20class=%22css-1lzltx4-TableCell%22%20style=%22font-size:%2012px;%20height:%2028px;%20left:%20120px;%20padding:%204px%204px%203px;%20position:%20absolute;%20top:%2056px;%20width:%20120px;%20text-align:%20right;%20border-right:%201px%20solid%20rgb(233,%20233,%20233);%22&gt;108.11&lt;/div&gt;&lt;div%20class=%22css-1lzltx4-TableCell%22%20style=%22font-size:%2012px;%20height:%2028px;%20left:%20240px;%20padding:%204px%204px%203px;%20position:%20absolute;%20top:%2056px;%20width:%20120px;%20text-align:%20right;%20border-right:%201px%20solid%20rgb(233,%20233,%20233);%22&gt;93.09&lt;/div&gt;&lt;div%20class=%22css-1lzltx4-TableCell%22%20style=%22font-size:%2012px;%20height:%2028px;%20left:%20360px;%20padding:%204px%204px%203px;%20position:%20absolute;%20top:%2056px;%20width:%20120px;%20text-align:%20right;%20border-right:%201px%20solid%20rgb(233,%20233,%20233);%22&gt;108.17&lt;/div&gt;&lt;div%20class=%22css-1lzltx4-TableCell%22%20style=%22font-size:%2012px;%20height:%2028px;%20left:%20480px;%20padding:%204px%204px%203px;%20position:%20absolute;%20top:%2056px;%20width:%20120px;%20text-align:%20right;%20border-right:%201px%20solid%20rgb(233,%20233,%20233);%22&gt;108.07&lt;/div&gt;&lt;div%20class=%22css-1lzltx4-TableCell%22%20style=%22font-size:%2012px;%20height:%2028px;%20left:%200px;%20padding:%204px%204px%203px;%20position:%20absolute;%20top:%2084px;%20width:%20120px;%20text-align:%20right;%20background-color:%20rgb(250,%20250,%20250);%20border-right:%201px%20solid%20rgb(233,%20233,%20233);%22&gt;99.48&lt;/div&gt;&lt;div%20class=%22css-1lzltx4-TableCell%22%20style=%22font-size:%2012px;%20height:%2028px;%20left:%20120px;%20padding:%204px%204px%203px;%20position:%20absolute;%20top:%2084px;%20width:%20120px;%20text-align:%20right;%20background-color:%20rgb(250,%20250,%20250);%20border-right:%201px%20solid%20rgb(233,%20233,%20233);%22&gt;105.43&lt;/div&gt;&lt;div%20class=%22css-1lzltx4-TableCell%22%20style=%22font-size:%2012px;%20height:%2028px;%20left:%20240px;%20padding:%204px%204px%203px;%20position:%20absolute;%20top:%2084px;%20width:%20120px;%20text-align:%20right;%20background-color:%20rgb(250,%20250,%20250);%20border-right:%201px%20solid%20rgb(233,%20233,%20233);%22&gt;97.71&lt;/div&gt;&lt;div%20class=%22css-1lzltx4-TableCell%22%20style=%22font-size:%2012px;%20height:%2028px;%20left:%20360px;%20padding:%204px%204px%203px;%20position:%20absolute;%20top:%2084px;%20width:%20120px;%20text-align:%20right;%20background-color:%20rgb(250,%20250,%20250);%20border-right:%201px%20solid%20rgb(233,%20233,%20233);%22&gt;100.57&lt;/div&gt;&lt;div%20class=%22css-1lzltx4-TableCell%22%20style=%22font-size:%2012px;%20height:%2028px;%20left:%20480px;%20padding:%204px%204px%203px;%20position:%20absolute;%20top:%2084px;%20width:%20120px;%20text-align:%20right;%20background-color:%20rgb(250,%20250,%20250);%20border-right:%201px%20solid%20rgb(233,%20233,%20233);%22&gt;95.30&lt;/div&gt;&lt;/div&gt;&lt;/div&gt;&lt;/div&gt;&lt;/div&gt;&lt;/div&gt;&lt;/div&gt;&lt;/div&gt;&lt;/div&gt;&lt;/div&gt;%3C/div%3E%3C/foreignObject%3E%3C/svg%3E\">"
      ],
      "text/plain": [
       "Open the notebook in JupyterLab with the atoti extension installed and enabled to start editing this widget."
      ]
     },
     "metadata": {},
     "output_type": "display_data"
    }
   ],
   "source": [
    "session.visualize(\"Price index per competitor\")"
   ]
  },
  {
   "cell_type": "markdown",
   "metadata": {},
   "source": [
    "## Simulate Price Strategies"
   ]
  },
  {
   "cell_type": "markdown",
   "metadata": {},
   "source": [
    "Complementary products are usually less expensive than those of the other two categories and people tend to ignore their price. This means that an increase in price does not necessarily mean a drop in sales.  \n",
    "In a first simulation we will try to assess how much margin we can make if we increase their price by 10%."
   ]
  },
  {
   "cell_type": "markdown",
   "metadata": {},
   "source": [
    "To do this we create a simulation against Class and ProductId levels and specify that we need to multiply by 1.1 each selling price. All KPIs defined previously such as the price index will be re-computed on the fly which will enable us to compare scenarios and their benefits."
   ]
  },
  {
   "cell_type": "code",
   "execution_count": 39,
   "metadata": {},
   "outputs": [],
   "source": [
    "price_strategies = cube.setup_simulation(\n",
    "    \"Price Strategies\",\n",
    "    levels=[lvl[\"Product Class\"], lvl[\"ProductId\"]],\n",
    "    multiply=[m[\"SellingPrice.VALUE\"]],\n",
    ")\n",
    "\n",
    "complementary_increase = price_strategies.scenarios[\"10% complementary increase\"]"
   ]
  },
  {
   "cell_type": "code",
   "execution_count": 40,
   "metadata": {},
   "outputs": [],
   "source": [
    "complementary_increase += (\"Complementary\", None, 1.1)"
   ]
  },
  {
   "cell_type": "markdown",
   "metadata": {},
   "source": [
    "We can see below that this represents a gain of 203 million per year, while increasing the index dramatically from 99.49 to 109.44."
   ]
  },
  {
   "cell_type": "code",
   "execution_count": 41,
   "metadata": {
    "atoti": {
     "widget": {
      "mapping": {
       "columns": [
        "ALL_MEASURES"
       ],
       "measures": [
        "[Measures].[Margin Delta]",
        "[Measures].[Margin.SUM]",
        "[Measures].[Price Index Delta]",
        "[Measures].[Price Index]"
       ],
       "rows": []
      },
      "name": "Comparison of the two scenarios per product class",
      "query": {
       "context": {
        "queriesResultLimit.intermediateSize": 1000000,
        "queriesResultLimit.transientSize": 10000000
       },
       "mdx": "WITH  Member [Measures].[Margin Delta] AS [Measures].[Margin.SUM] - ([Measures].[Margin.SUM], [Measure Simulations].[Price Strategies].[Price Strategies].[Base]), FORE_COLOR = CASE WHEN [Measures].[Margin Delta] >= 0 THEN rgb(44, 160, 44) WHEN [Measures].[Margin Delta] < 0 THEN rgb(224, 102, 102) END, FONT_FLAGS = CASE WHEN [Measures].[Margin Delta] >= 0 THEN 1 WHEN [Measures].[Margin Delta] < 0 THEN 1 END, FORMAT_STRING = \"#,###.##\"    Member [Measures].[Price Index Delta] AS [Measures].[Price Index] - ([Measures].[Price Index], [Measure Simulations].[Price Strategies].[Price Strategies].[Base]), FORE_COLOR = CASE WHEN [Measures].[Price Index Delta] <= 0 THEN rgb(44, 160, 44) WHEN [Measures].[Price Index Delta] > 0 THEN rgb(224, 102, 102) END, FONT_FLAGS = CASE WHEN [Measures].[Price Index Delta] <= 0 THEN 1 WHEN [Measures].[Price Index Delta] > 0 THEN 1 END, FORMAT_STRING = \"#,###.##\"  SELECT NON EMPTY Hierarchize(DrilldownLevel([classified_products].[Product Class].[ALL].[AllMember])) ON ROWS, NON EMPTY Crossjoin({[Measures].[Price Index], [Measures].[Margin.SUM], [Measures].[Margin Delta], [Measures].[Price Index Delta]}, [Measure Simulations].[Price Strategies].[Price Strategies].Members) ON COLUMNS FROM [products_cube] CELL PROPERTIES BACK_COLOR, FONT_FLAGS, FORE_COLOR, FORMATTED_VALUE, VALUE",
       "updateMode": "once"
      },
      "serverKey": "default",
      "widgetKey": "pivot-table"
     }
    }
   },
   "outputs": [
    {
     "data": {
      "application/vnd.atoti.v0+json": {
       "name": "Comparison of the two scenarios per product class",
       "session": "Unnamed"
      },
      "text/html": [
       "<img src=\"data:image/svg+xml;charset=utf8,%3C?xml%20version=%221.0%22%20standalone=%22no%22?%3E%3Csvg%20xmlns=%22http://www.w3.org/2000/svg%22%20height=%22348%22%20width=%221087%22%3E%3CforeignObject%20width=%22100%25%22%20height=%22100%25%22%20x=%220%22%20y=%220%22%3E%3Cstyle%20type=%22text/css%22%3E*,%20::before,%20::after%20%7Bbox-sizing:%20unset%7D%0A.ant-root%20%5Bclass%5E=%22ant-%22%5D,%20.ant-root%20%5Bclass*=%22ant-%22%5D,%20.ant-root%20%5Bclass%5E=%22ant-%22%5D%20*,%20.ant-root%20%5Bclass*=%22ant-%22%5D%20*,%20.ant-root%20%5Bclass%5E=%22ant-%22%5D%20::before,%20.ant-root%20%5Bclass*=%22ant-%22%5D%20::before,%20.ant-root%20%5Bclass%5E=%22ant-%22%5D%20::after,%20.ant-root%20%5Bclass*=%22ant-%22%5D%20::after%20%7Bbox-sizing:%20border-box%7D%0A.ant-root%20html,%20.ant-root%20%7Bwidth:%20100%25;%20height:%20100%25%7D%0A.ant-root%20*,%20.ant-root%20::before,%20.ant-root%20::after%20%7Bbox-sizing:%20border-box%7D%0A.ant-root%20%7Bmargin-top:%200px;%20margin-right:%200px;%20margin-bottom:%200px;%20margin-left:%200px;%20color:%20rgb(89,%2089,%2089);%20font-size:%2012px;%20font-family:%20-apple-system,%20BlinkMacSystemFont,%20%22Segoe%20UI%22,%20Roboto,%20%22Helvetica%20Neue%22,%20Arial,%20%22Noto%20Sans%22,%20sans-serif,%20%22Apple%20Color%20Emoji%22,%20%22Segoe%20UI%20Emoji%22,%20%22Segoe%20UI%20Symbol%22,%20%22Noto%20Color%20Emoji%22;%20font-variant-ligatures:%20normal;%20font-variant-numeric:%20tabular-nums;%20font-variant-east-asian:%20normal;%20font-variant-caps:%20normal;%20line-height:%201.66667;%20background-color:%20rgb(255,%20255,%20255);%20--antd-wave-shadow-color:%20undefined;%20--scroll-bar:%20undefined%7D%0A.ant-root%20.ant-spin%20%7Bbox-sizing:%20border-box;%20margin-top:%200px;%20margin-right:%200px;%20margin-bottom:%200px;%20margin-left:%200px;%20padding-top:%200px;%20padding-right:%200px;%20padding-bottom:%200px;%20padding-left:%200px;%20font-size:%2012px;%20font-variant-ligatures:%20normal;%20font-variant-numeric:%20tabular-nums;%20font-variant-east-asian:%20normal;%20font-variant-caps:%20normal;%20line-height:%201.66667;%20list-style-position:%20initial;%20list-style-image:%20initial;%20list-style-type:%20none;%20position:%20absolute;%20display:%20none;%20color:%20rgb(0,%20174,%20239);%20text-align:%20center;%20vertical-align:%20middle;%20opacity:%200;%20transition-duration:%200.3s;%20transition-timing-function:%20cubic-bezier(0.78,%200.14,%200.15,%200.86);%20transition-delay:%200s;%20transition-property:%20transform%7D%0A.ant-root%20.ant-spin-spinning%20%7Bposition:%20static;%20display:%20inline-block;%20opacity:%201%7D%0A.ant-root%20.ant-spin-dot%20%7Bposition:%20relative;%20display:%20inline-block;%20font-size:%2020px;%20width:%201em;%20height:%201em%7D%0A.ant-root%20.ant-spin-dot-item%20%7Bposition:%20absolute;%20display:%20block;%20width:%209px;%20height:%209px;%20background-color:%20rgb(0,%20174,%20239);%20border-top-left-radius:%20100%25;%20border-top-right-radius:%20100%25;%20border-bottom-right-radius:%20100%25;%20border-bottom-left-radius:%20100%25;%20transform:%20scale(0.75);%20transform-origin:%2050%25%2050%25;%20opacity:%200.3;%20animation-duration:%201s;%20animation-timing-function:%20linear;%20animation-delay:%200s;%20animation-iteration-count:%20infinite;%20animation-direction:%20alternate;%20animation-fill-mode:%20none;%20animation-play-state:%20running;%20animation-name:%20antSpinMove%7D%0A.ant-root%20.ant-spin-dot-item:nth-child(1)%20%7Btop:%200px;%20left:%200px%7D%0A.ant-root%20.ant-spin-dot-item:nth-child(2)%20%7Btop:%200px;%20right:%200px;%20animation-delay:%200.4s%7D%0A.ant-root%20.ant-spin-dot-item:nth-child(3)%20%7Bright:%200px;%20bottom:%200px;%20animation-delay:%200.8s%7D%0A.ant-root%20.ant-spin-dot-item:nth-child(4)%20%7Bbottom:%200px;%20left:%200px;%20animation-delay:%201.2s%7D%0A.ant-root%20.ant-spin-dot-spin%20%7Btransform:%20rotate(45deg);%20animation-duration:%201.2s;%20animation-timing-function:%20linear;%20animation-delay:%200s;%20animation-iteration-count:%20infinite;%20animation-direction:%20normal;%20animation-fill-mode:%20none;%20animation-play-state:%20running;%20animation-name:%20antRotate%7D%0A.ant-root%20.ant-spin-lg%20.ant-spin-dot%20%7Bfont-size:%2032px%7D%0A.ant-root%20.ant-spin-lg%20.ant-spin-dot%20i%20%7Bwidth:%2014px;%20height:%2014px%7D%0A.css-12ebr42-AWidget%20%7Bheight:%20100%25%7D%0A.css-ck2xzt-Spinner%20%7B-webkit-box-align:%20center;%20align-items:%20center;%20background-image:%20initial;%20background-position-x:%20initial;%20background-position-y:%20initial;%20background-size:%20initial;%20background-repeat-x:%20initial;%20background-repeat-y:%20initial;%20background-attachment:%20initial;%20background-origin:%20initial;%20background-clip:%20initial;%20background-color:%20transparent;%20display:%20flex;%20height:%20100%25;%20-webkit-box-pack:%20center;%20justify-content:%20center;%20position:%20absolute;%20transition-duration:%20300ms;%20transition-timing-function:%20ease;%20transition-delay:%200s;%20transition-property:%20opacity;%20width:%20100%25;%20opacity:%200;%20pointer-events:%20none;%20z-index:%202%7D%0A.css-1e3kjgr-Spinner%20%7Bheight:%20100%25;%20position:%20relative%7D%0A.css-6s7z8y-Table%20%7Bpadding-bottom:%202px;%20padding-right:%202px;%20height:%20100%25%7D%0A.css-18k6uz5-Table%20%7Bcursor:%20cell;%20height:%20100%25;%20outline-color:%20initial;%20outline-style:%20none;%20outline-width:%20initial%7D%0A.css-16sdsf5-Table%20%7Bdisplay:%20flex;%20height:%20346px%7D%0A.css-u4e0tt-Table%20%7Bborder-collapse:%20collapse;%20height:%2056px;%20width:%20120px%7D%0A.css-1c0bag9%20%7Bheight:%2056px;%20width:%20120px%7D%0A.css-1vna2im%20%7Bheight:%2056px;%20overflow-x:%20hidden;%20overflow-y:%20hidden;%20position:%20relative;%20width:%20120px;%20border-right-width:%202px;%20border-right-style:%20solid;%20border-right-color:%20rgb(233,%20233,%20233)%7D%0A.css-avhfff%20%7Bheight:%20290px;%20width:%20120px;%20overflow-x:%20hidden;%20overflow-y:%20auto%7D%0A.css-1ff127b-Table%20%7Bwidth:%20965px;%20border-collapse:%20collapse%7D%0A.css-13oevc%20%7Bheight:%2056px;%20width:%20947px;%20overflow-x:%20auto;%20overflow-y:%20hidden%7D%0A.css-95832d%20%7Bheight:%20290px;%20width:%20965px;%20overflow-x:%20auto;%20overflow-y:%20auto%7D%0A.css-kaiwro%20%7Bheight:%20112px;%20overflow-x:%20hidden;%20overflow-y:%20hidden;%20position:%20relative;%20width:%20120px;%20border-top-width:%202px;%20border-top-style:%20solid;%20border-top-color:%20rgb(233,%20233,%20233);%20border-right-width:%202px;%20border-right-style:%20solid;%20border-right-color:%20rgb(233,%20233,%20233)%7D%0A.css-1m6z6ro%20%7Bheight:%2056px;%20overflow-x:%20hidden;%20overflow-y:%20hidden;%20position:%20relative;%20width:%20960px%7D%0A.css-ouihp5%20%7Bheight:%20112px;%20overflow-x:%20hidden;%20overflow-y:%20hidden;%20position:%20relative;%20width:%20960px;%20border-top-width:%202px;%20border-top-style:%20solid;%20border-top-color:%20rgb(233,%20233,%20233)%7D%0A*%20%7B-ms-overflow-style:%20none;%20scrollbar-width:%20none%7D%0A*::-webkit-scrollbar%20%7Bdisplay:%20none%7D%3C/style%3E%3Cdiv%20xmlns=%22http://www.w3.org/1999/xhtml%22%20style=%22height:%20348px;%20width:%201087px;%22%3E&lt;div%20xmlns=%22http://www.w3.org/1999/xhtml%22%20class=%22ant-root%20css-0%22&gt;&lt;div%20class=%22ant-dropdown-trigger%20css-12ebr42-AWidget%22&gt;&lt;div%20class=%22css-1e3kjgr-Spinner%22&gt;&lt;div%20class=%22css-ck2xzt-Spinner%22&gt;&lt;div%20class=%22ant-spin%20ant-spin-lg%20ant-spin-spinning%22&gt;&lt;span%20class=%22ant-spin-dot%20ant-spin-dot-spin%22&gt;&lt;i%20class=%22ant-spin-dot-item%22&gt;&lt;/i&gt;&lt;i%20class=%22ant-spin-dot-item%22&gt;&lt;/i&gt;&lt;i%20class=%22ant-spin-dot-item%22&gt;&lt;/i&gt;&lt;i%20class=%22ant-spin-dot-item%22&gt;&lt;/i&gt;&lt;/span&gt;&lt;/div&gt;&lt;/div&gt;&lt;div%20class=%22css-6s7z8y-Table%22&gt;&lt;div%20tabindex=%220%22%20class=%22css-18k6uz5-Table%22&gt;&lt;div%20class=%22css-16sdsf5-Table%22&gt;&lt;div%20class=%22css-u4e0tt-Table%22&gt;&lt;div%20class=%22css-1c0bag9%22&gt;&lt;div%20class=%22css-1vna2im%22&gt;&lt;div%20style=%22font-size:%2012px;%20height:%2028px;%20left:%200px;%20padding:%204px%204px%203px;%20position:%20absolute;%20top:%200px;%20width:%20120px;%20font-weight:%20600;%22&gt;Product%20Class&lt;/div&gt;&lt;div%20style=%22font-size:%2012px;%20height:%2028px;%20left:%200px;%20padding:%204px%204px%203px;%20position:%20absolute;%20top:%2028px;%20width:%20120px;%20font-weight:%20600;%22&gt;&lt;/div&gt;&lt;/div&gt;&lt;/div&gt;&lt;div%20class=%22css-avhfff%22&gt;&lt;div%20class=%22css-kaiwro%22&gt;&lt;div%20style=%22font-size:%2012px;%20font-weight:%20600;%20padding:%204px%204px%203px;%22&gt;Total&lt;/div&gt;&lt;div%20style=%22overflow:%20hidden;%20display:%20flex;%20align-items:%20center;%20font-size:%2012px;%20height:%2028px;%20left:%200px;%20padding:%204px%204px%203px;%20position:%20absolute;%20top:%2028px;%20width:%20120px;%20background-color:%20rgb(250,%20250,%20250);%20border-right:%202px%20solid%20rgb(233,%20233,%20233);%22&gt;&lt;span%20style=%22text-overflow:%20ellipsis;%20overflow:%20hidden;%20white-space:%20nowrap;%20max-width:%20calc((100%25%20-%200px)%20-%200px);%22&gt;Complementary&lt;/span&gt;&lt;div%20style=%22height:%20100%25;%20margin-left:%206px;%22&gt;&lt;/div&gt;&lt;/div&gt;&lt;div%20style=%22overflow:%20hidden;%20display:%20flex;%20align-items:%20center;%20font-size:%2012px;%20height:%2028px;%20left:%200px;%20padding:%204px%204px%203px;%20position:%20absolute;%20top:%2056px;%20width:%20120px;%20border-right:%202px%20solid%20rgb(233,%20233,%20233);%22&gt;&lt;span%20style=%22text-overflow:%20ellipsis;%20overflow:%20hidden;%20white-space:%20nowrap;%20max-width:%20calc((100%25%20-%200px)%20-%200px);%22&gt;Driver&lt;/span&gt;&lt;div%20style=%22height:%20100%25;%20margin-left:%206px;%22&gt;&lt;/div&gt;&lt;/div&gt;&lt;div%20style=%22overflow:%20hidden;%20display:%20flex;%20align-items:%20center;%20font-size:%2012px;%20height:%2028px;%20left:%200px;%20padding:%204px%204px%203px;%20position:%20absolute;%20top:%2084px;%20width:%20120px;%20background-color:%20rgb(250,%20250,%20250);%20border-right:%202px%20solid%20rgb(233,%20233,%20233);%22&gt;&lt;span%20style=%22text-overflow:%20ellipsis;%20overflow:%20hidden;%20white-space:%20nowrap;%20max-width:%20calc((100%25%20-%200px)%20-%200px);%22&gt;Independent&lt;/span&gt;&lt;div%20style=%22height:%20100%25;%20margin-left:%206px;%22&gt;&lt;/div&gt;&lt;/div&gt;&lt;/div&gt;&lt;/div&gt;&lt;/div&gt;&lt;div%20class=%22css-1ff127b-Table%22&gt;&lt;div%20class=%22css-13oevc%22&gt;&lt;div%20class=%22css-1m6z6ro%22&gt;&lt;div%20style=%22overflow:%20hidden;%20display:%20flex;%20align-items:%20center;%20font-size:%2012px;%20height:%2028px;%20left:%200px;%20padding:%204px%204px%203px;%20position:%20absolute;%20top:%200px;%20width:%20120px;%20font-weight:%20600;%22&gt;&lt;span%20style=%22text-overflow:%20ellipsis;%20overflow:%20hidden;%20white-space:%20nowrap;%20max-width:%20calc((100%25%20-%200px)%20-%200px);%22&gt;Price%20Index&lt;/span&gt;&lt;div%20style=%22height:%20100%25;%20margin-left:%206px;%22&gt;&lt;/div&gt;&lt;/div&gt;&lt;div%20style=%22overflow:%20hidden;%20display:%20none;%20align-items:%20center;%20font-size:%2012px;%20height:%2028px;%20left:%20120px;%20padding:%204px%204px%203px;%20position:%20absolute;%20top:%200px;%20width:%20120px;%20font-weight:%20600;%22&gt;&lt;span%20style=%22text-overflow:%20ellipsis;%20overflow:%20hidden;%20white-space:%20nowrap;%20max-width:%20calc((100%25%20-%200px)%20-%200px);%22&gt;Price%20Index&lt;/span&gt;&lt;div%20style=%22height:%20100%25;%20margin-left:%206px;%22&gt;&lt;/div&gt;&lt;/div&gt;&lt;div%20style=%22overflow:%20hidden;%20display:%20flex;%20align-items:%20center;%20font-size:%2012px;%20height:%2028px;%20left:%20240px;%20padding:%204px%204px%203px;%20position:%20absolute;%20top:%200px;%20width:%20120px;%20font-weight:%20600;%22&gt;&lt;span%20style=%22text-overflow:%20ellipsis;%20overflow:%20hidden;%20white-space:%20nowrap;%20max-width:%20calc((100%25%20-%200px)%20-%200px);%22&gt;Margin.SUM&lt;/span&gt;&lt;div%20style=%22height:%20100%25;%20margin-left:%206px;%22&gt;&lt;/div&gt;&lt;/div&gt;&lt;div%20style=%22overflow:%20hidden;%20display:%20none;%20align-items:%20center;%20font-size:%2012px;%20height:%2028px;%20left:%20360px;%20padding:%204px%204px%203px;%20position:%20absolute;%20top:%200px;%20width:%20120px;%20font-weight:%20600;%22&gt;&lt;span%20style=%22text-overflow:%20ellipsis;%20overflow:%20hidden;%20white-space:%20nowrap;%20max-width:%20calc((100%25%20-%200px)%20-%200px);%22&gt;Margin.SUM&lt;/span&gt;&lt;div%20style=%22height:%20100%25;%20margin-left:%206px;%22&gt;&lt;/div&gt;&lt;/div&gt;&lt;div%20style=%22overflow:%20hidden;%20display:%20flex;%20align-items:%20center;%20font-size:%2012px;%20height:%2028px;%20left:%20480px;%20padding:%204px%204px%203px;%20position:%20absolute;%20top:%200px;%20width:%20120px;%20font-weight:%20600;%22&gt;&lt;span%20style=%22text-overflow:%20ellipsis;%20overflow:%20hidden;%20white-space:%20nowrap;%20max-width:%20calc((100%25%20-%200px)%20-%200px);%22&gt;Margin%20Delta&lt;/span&gt;&lt;div%20style=%22height:%20100%25;%20margin-left:%206px;%22&gt;&lt;/div&gt;&lt;/div&gt;&lt;div%20style=%22overflow:%20hidden;%20display:%20none;%20align-items:%20center;%20font-size:%2012px;%20height:%2028px;%20left:%20600px;%20padding:%204px%204px%203px;%20position:%20absolute;%20top:%200px;%20width:%20120px;%20font-weight:%20600;%22&gt;&lt;span%20style=%22text-overflow:%20ellipsis;%20overflow:%20hidden;%20white-space:%20nowrap;%20max-width:%20calc((100%25%20-%200px)%20-%200px);%22&gt;Margin%20Delta&lt;/span&gt;&lt;div%20style=%22height:%20100%25;%20margin-left:%206px;%22&gt;&lt;/div&gt;&lt;/div&gt;&lt;div%20style=%22overflow:%20hidden;%20display:%20flex;%20align-items:%20center;%20font-size:%2012px;%20height:%2028px;%20left:%20720px;%20padding:%204px%204px%203px;%20position:%20absolute;%20top:%200px;%20width:%20120px;%20font-weight:%20600;%22&gt;&lt;span%20style=%22text-overflow:%20ellipsis;%20overflow:%20hidden;%20white-space:%20nowrap;%20max-width:%20calc((100%25%20-%200px)%20-%200px);%22&gt;Price%20Index%20Delta&lt;/span&gt;&lt;div%20style=%22height:%20100%25;%20margin-left:%206px;%22&gt;&lt;/div&gt;&lt;/div&gt;&lt;div%20style=%22overflow:%20hidden;%20display:%20none;%20align-items:%20center;%20font-size:%2012px;%20height:%2028px;%20left:%20840px;%20padding:%204px%204px%203px;%20position:%20absolute;%20top:%200px;%20width:%20120px;%20font-weight:%20600;%22&gt;&lt;span%20style=%22text-overflow:%20ellipsis;%20overflow:%20hidden;%20white-space:%20nowrap;%20max-width:%20calc((100%25%20-%200px)%20-%200px);%22&gt;Price%20Index%20Delta&lt;/span&gt;&lt;div%20style=%22height:%20100%25;%20margin-left:%206px;%22&gt;&lt;/div&gt;&lt;/div&gt;&lt;div%20style=%22overflow:%20hidden;%20display:%20flex;%20align-items:%20center;%20font-size:%2012px;%20height:%2028px;%20left:%200px;%20padding:%204px%204px%203px;%20position:%20absolute;%20top:%2028px;%20width:%20120px;%20font-weight:%20600;%22&gt;&lt;span%20style=%22text-overflow:%20ellipsis;%20overflow:%20hidden;%20white-space:%20nowrap;%20max-width:%20calc((100%25%20-%200px)%20-%200px);%22&gt;Base&lt;/span&gt;&lt;div%20style=%22height:%20100%25;%20margin-left:%206px;%22&gt;&lt;/div&gt;&lt;/div&gt;&lt;div%20style=%22overflow:%20hidden;%20display:%20flex;%20align-items:%20center;%20font-size:%2012px;%20height:%2028px;%20left:%20120px;%20padding:%204px%204px%203px;%20position:%20absolute;%20top:%2028px;%20width:%20120px;%20font-weight:%20600;%22&gt;&lt;span%20style=%22text-overflow:%20ellipsis;%20overflow:%20hidden;%20white-space:%20nowrap;%20max-width:%20calc((100%25%20-%200px)%20-%200px);%22&gt;10%25%20complementary%20increase&lt;/span&gt;&lt;div%20style=%22height:%20100%25;%20margin-left:%206px;%22&gt;&lt;/div&gt;&lt;/div&gt;&lt;div%20style=%22overflow:%20hidden;%20display:%20flex;%20align-items:%20center;%20font-size:%2012px;%20height:%2028px;%20left:%20240px;%20padding:%204px%204px%203px;%20position:%20absolute;%20top:%2028px;%20width:%20120px;%20font-weight:%20600;%22&gt;&lt;span%20style=%22text-overflow:%20ellipsis;%20overflow:%20hidden;%20white-space:%20nowrap;%20max-width:%20calc((100%25%20-%200px)%20-%200px);%22&gt;Base&lt;/span&gt;&lt;div%20style=%22height:%20100%25;%20margin-left:%206px;%22&gt;&lt;/div&gt;&lt;/div&gt;&lt;div%20style=%22overflow:%20hidden;%20display:%20flex;%20align-items:%20center;%20font-size:%2012px;%20height:%2028px;%20left:%20360px;%20padding:%204px%204px%203px;%20position:%20absolute;%20top:%2028px;%20width:%20120px;%20font-weight:%20600;%22&gt;&lt;span%20style=%22text-overflow:%20ellipsis;%20overflow:%20hidden;%20white-space:%20nowrap;%20max-width:%20calc((100%25%20-%200px)%20-%200px);%22&gt;10%25%20complementary%20increase&lt;/span&gt;&lt;div%20style=%22height:%20100%25;%20margin-left:%206px;%22&gt;&lt;/div&gt;&lt;/div&gt;&lt;div%20style=%22overflow:%20hidden;%20display:%20flex;%20align-items:%20center;%20font-size:%2012px;%20height:%2028px;%20left:%20480px;%20padding:%204px%204px%203px;%20position:%20absolute;%20top:%2028px;%20width:%20120px;%20font-weight:%20600;%22&gt;&lt;span%20style=%22text-overflow:%20ellipsis;%20overflow:%20hidden;%20white-space:%20nowrap;%20max-width:%20calc((100%25%20-%200px)%20-%200px);%22&gt;Base&lt;/span&gt;&lt;div%20style=%22height:%20100%25;%20margin-left:%206px;%22&gt;&lt;/div&gt;&lt;/div&gt;&lt;div%20style=%22overflow:%20hidden;%20display:%20flex;%20align-items:%20center;%20font-size:%2012px;%20height:%2028px;%20left:%20600px;%20padding:%204px%204px%203px;%20position:%20absolute;%20top:%2028px;%20width:%20120px;%20font-weight:%20600;%22&gt;&lt;span%20style=%22text-overflow:%20ellipsis;%20overflow:%20hidden;%20white-space:%20nowrap;%20max-width:%20calc((100%25%20-%200px)%20-%200px);%22&gt;10%25%20complementary%20increase&lt;/span&gt;&lt;div%20style=%22height:%20100%25;%20margin-left:%206px;%22&gt;&lt;/div&gt;&lt;/div&gt;&lt;div%20style=%22overflow:%20hidden;%20display:%20flex;%20align-items:%20center;%20font-size:%2012px;%20height:%2028px;%20left:%20720px;%20padding:%204px%204px%203px;%20position:%20absolute;%20top:%2028px;%20width:%20120px;%20font-weight:%20600;%22&gt;&lt;span%20style=%22text-overflow:%20ellipsis;%20overflow:%20hidden;%20white-space:%20nowrap;%20max-width:%20calc((100%25%20-%200px)%20-%200px);%22&gt;Base&lt;/span&gt;&lt;div%20style=%22height:%20100%25;%20margin-left:%206px;%22&gt;&lt;/div&gt;&lt;/div&gt;&lt;div%20style=%22overflow:%20hidden;%20display:%20flex;%20align-items:%20center;%20font-size:%2012px;%20height:%2028px;%20left:%20840px;%20padding:%204px%204px%203px;%20position:%20absolute;%20top:%2028px;%20width:%20120px;%20font-weight:%20600;%22&gt;&lt;span%20style=%22text-overflow:%20ellipsis;%20overflow:%20hidden;%20white-space:%20nowrap;%20max-width:%20calc((100%25%20-%200px)%20-%200px);%22&gt;10%25%20complementary%20increase&lt;/span&gt;&lt;div%20style=%22height:%20100%25;%20margin-left:%206px;%22&gt;&lt;/div&gt;&lt;/div&gt;&lt;/div&gt;&lt;/div&gt;&lt;div%20class=%22css-95832d%22&gt;&lt;div%20class=%22css-ouihp5%22&gt;&lt;div%20class=%22css-1lzltx4-TableCell%22%20style=%22font-size:%2012px;%20height:%2028px;%20left:%200px;%20padding:%204px%204px%203px;%20position:%20absolute;%20top:%200px;%20width:%20120px;%20text-align:%20right;%20border-right:%201px%20solid%20rgb(233,%20233,%20233);%22&gt;102.48&lt;/div&gt;&lt;div%20class=%22css-1lzltx4-TableCell%22%20style=%22font-size:%2012px;%20height:%2028px;%20left:%20120px;%20padding:%204px%204px%203px;%20position:%20absolute;%20top:%200px;%20width:%20120px;%20text-align:%20right;%20border-right:%201px%20solid%20rgb(233,%20233,%20233);%22&gt;106.18&lt;/div&gt;&lt;div%20class=%22css-1lzltx4-TableCell%22%20style=%22font-size:%2012px;%20height:%2028px;%20left:%20240px;%20padding:%204px%204px%203px;%20position:%20absolute;%20top:%200px;%20width:%20120px;%20text-align:%20right;%20border-right:%201px%20solid%20rgb(233,%20233,%20233);%22&gt;1,837,282,480.59&lt;/div&gt;&lt;div%20class=%22css-1lzltx4-TableCell%22%20style=%22font-size:%2012px;%20height:%2028px;%20left:%20360px;%20padding:%204px%204px%203px;%20position:%20absolute;%20top:%200px;%20width:%20120px;%20text-align:%20right;%20border-right:%201px%20solid%20rgb(233,%20233,%20233);%22&gt;2,005,493,386.31&lt;/div&gt;&lt;div%20class=%22css-1lzltx4-TableCell%22%20style=%22font-size:%2012px;%20height:%2028px;%20left:%20480px;%20padding:%204px%204px%203px;%20position:%20absolute;%20top:%200px;%20width:%20120px;%20text-align:%20right;%20border-right:%201px%20solid%20rgb(233,%20233,%20233);%22&gt;0&lt;/div&gt;&lt;div%20class=%22css-1lzltx4-TableCell%22%20style=%22font-size:%2012px;%20height:%2028px;%20left:%20600px;%20padding:%204px%204px%203px;%20position:%20absolute;%20top:%200px;%20width:%20120px;%20text-align:%20right;%20border-right:%201px%20solid%20rgb(233,%20233,%20233);%22&gt;168,210,905.72&lt;/div&gt;&lt;div%20class=%22css-1lzltx4-TableCell%22%20style=%22font-size:%2012px;%20height:%2028px;%20left:%20720px;%20padding:%204px%204px%203px;%20position:%20absolute;%20top:%200px;%20width:%20120px;%20text-align:%20right;%20border-right:%201px%20solid%20rgb(233,%20233,%20233);%22&gt;0&lt;/div&gt;&lt;div%20class=%22css-1lzltx4-TableCell%22%20style=%22font-size:%2012px;%20height:%2028px;%20left:%20840px;%20padding:%204px%204px%203px;%20position:%20absolute;%20top:%200px;%20width:%20120px;%20text-align:%20right;%20border-right:%201px%20solid%20rgb(233,%20233,%20233);%22&gt;3.7&lt;/div&gt;&lt;div%20class=%22css-1lzltx4-TableCell%22%20style=%22font-size:%2012px;%20height:%2028px;%20left:%200px;%20padding:%204px%204px%203px;%20position:%20absolute;%20top:%2028px;%20width:%20120px;%20text-align:%20right;%20background-color:%20rgb(250,%20250,%20250);%20border-right:%201px%20solid%20rgb(233,%20233,%20233);%22&gt;103.99&lt;/div&gt;&lt;div%20class=%22css-1lzltx4-TableCell%22%20style=%22font-size:%2012px;%20height:%2028px;%20left:%20120px;%20padding:%204px%204px%203px;%20position:%20absolute;%20top:%2028px;%20width:%20120px;%20text-align:%20right;%20background-color:%20rgb(250,%20250,%20250);%20border-right:%201px%20solid%20rgb(233,%20233,%20233);%22&gt;114.38&lt;/div&gt;&lt;div%20class=%22css-1lzltx4-TableCell%22%20style=%22font-size:%2012px;%20height:%2028px;%20left:%20240px;%20padding:%204px%204px%203px;%20position:%20absolute;%20top:%2028px;%20width:%20120px;%20text-align:%20right;%20background-color:%20rgb(250,%20250,%20250);%20border-right:%201px%20solid%20rgb(233,%20233,%20233);%22&gt;521,127,859.37&lt;/div&gt;&lt;div%20class=%22css-1lzltx4-TableCell%22%20style=%22font-size:%2012px;%20height:%2028px;%20left:%20360px;%20padding:%204px%204px%203px;%20position:%20absolute;%20top:%2028px;%20width:%20120px;%20text-align:%20right;%20background-color:%20rgb(250,%20250,%20250);%20border-right:%201px%20solid%20rgb(233,%20233,%20233);%22&gt;689,338,765.09&lt;/div&gt;&lt;div%20class=%22css-1lzltx4-TableCell%22%20style=%22font-size:%2012px;%20height:%2028px;%20left:%20480px;%20padding:%204px%204px%203px;%20position:%20absolute;%20top:%2028px;%20width:%20120px;%20text-align:%20right;%20background-color:%20rgb(250,%20250,%20250);%20border-right:%201px%20solid%20rgb(233,%20233,%20233);%22&gt;0&lt;/div&gt;&lt;div%20class=%22css-1lzltx4-TableCell%22%20style=%22font-size:%2012px;%20height:%2028px;%20left:%20600px;%20padding:%204px%204px%203px;%20position:%20absolute;%20top:%2028px;%20width:%20120px;%20text-align:%20right;%20background-color:%20rgb(250,%20250,%20250);%20border-right:%201px%20solid%20rgb(233,%20233,%20233);%22&gt;168,210,905.72&lt;/div&gt;&lt;div%20class=%22css-1lzltx4-TableCell%22%20style=%22font-size:%2012px;%20height:%2028px;%20left:%20720px;%20padding:%204px%204px%203px;%20position:%20absolute;%20top:%2028px;%20width:%20120px;%20text-align:%20right;%20background-color:%20rgb(250,%20250,%20250);%20border-right:%201px%20solid%20rgb(233,%20233,%20233);%22&gt;0&lt;/div&gt;&lt;div%20class=%22css-1lzltx4-TableCell%22%20style=%22font-size:%2012px;%20height:%2028px;%20left:%20840px;%20padding:%204px%204px%203px;%20position:%20absolute;%20top:%2028px;%20width:%20120px;%20text-align:%20right;%20background-color:%20rgb(250,%20250,%20250);%20border-right:%201px%20solid%20rgb(233,%20233,%20233);%22&gt;10.4&lt;/div&gt;&lt;div%20class=%22css-1lzltx4-TableCell%22%20style=%22font-size:%2012px;%20height:%2028px;%20left:%200px;%20padding:%204px%204px%203px;%20position:%20absolute;%20top:%2056px;%20width:%20120px;%20text-align:%20right;%20border-right:%201px%20solid%20rgb(233,%20233,%20233);%22&gt;103.78&lt;/div&gt;&lt;div%20class=%22css-1lzltx4-TableCell%22%20style=%22font-size:%2012px;%20height:%2028px;%20left:%20120px;%20padding:%204px%204px%203px;%20position:%20absolute;%20top:%2056px;%20width:%20120px;%20text-align:%20right;%20border-right:%201px%20solid%20rgb(233,%20233,%20233);%22&gt;103.78&lt;/div&gt;&lt;div%20class=%22css-1lzltx4-TableCell%22%20style=%22font-size:%2012px;%20height:%2028px;%20left:%20240px;%20padding:%204px%204px%203px;%20position:%20absolute;%20top:%2056px;%20width:%20120px;%20text-align:%20right;%20border-right:%201px%20solid%20rgb(233,%20233,%20233);%22&gt;736,201,590.52&lt;/div&gt;&lt;div%20class=%22css-1lzltx4-TableCell%22%20style=%22font-size:%2012px;%20height:%2028px;%20left:%20360px;%20padding:%204px%204px%203px;%20position:%20absolute;%20top:%2056px;%20width:%20120px;%20text-align:%20right;%20border-right:%201px%20solid%20rgb(233,%20233,%20233);%22&gt;736,201,590.52&lt;/div&gt;&lt;div%20class=%22css-1lzltx4-TableCell%22%20style=%22font-size:%2012px;%20height:%2028px;%20left:%20480px;%20padding:%204px%204px%203px;%20position:%20absolute;%20top:%2056px;%20width:%20120px;%20text-align:%20right;%20border-right:%201px%20solid%20rgb(233,%20233,%20233);%22&gt;0&lt;/div&gt;&lt;div%20class=%22css-1lzltx4-TableCell%22%20style=%22font-size:%2012px;%20height:%2028px;%20left:%20600px;%20padding:%204px%204px%203px;%20position:%20absolute;%20top:%2056px;%20width:%20120px;%20text-align:%20right;%20border-right:%201px%20solid%20rgb(233,%20233,%20233);%22&gt;0&lt;/div&gt;&lt;div%20class=%22css-1lzltx4-TableCell%22%20style=%22font-size:%2012px;%20height:%2028px;%20left:%20720px;%20padding:%204px%204px%203px;%20position:%20absolute;%20top:%2056px;%20width:%20120px;%20text-align:%20right;%20border-right:%201px%20solid%20rgb(233,%20233,%20233);%22&gt;0&lt;/div&gt;&lt;div%20class=%22css-1lzltx4-TableCell%22%20style=%22font-size:%2012px;%20height:%2028px;%20left:%20840px;%20padding:%204px%204px%203px;%20position:%20absolute;%20top:%2056px;%20width:%20120px;%20text-align:%20right;%20border-right:%201px%20solid%20rgb(233,%20233,%20233);%22&gt;0&lt;/div&gt;&lt;div%20class=%22css-1lzltx4-TableCell%22%20style=%22font-size:%2012px;%20height:%2028px;%20left:%200px;%20padding:%204px%204px%203px;%20position:%20absolute;%20top:%2084px;%20width:%20120px;%20text-align:%20right;%20background-color:%20rgb(250,%20250,%20250);%20border-right:%201px%20solid%20rgb(233,%20233,%20233);%22&gt;99.48&lt;/div&gt;&lt;div%20class=%22css-1lzltx4-TableCell%22%20style=%22font-size:%2012px;%20height:%2028px;%20left:%20120px;%20padding:%204px%204px%203px;%20position:%20absolute;%20top:%2084px;%20width:%20120px;%20text-align:%20right;%20background-color:%20rgb(250,%20250,%20250);%20border-right:%201px%20solid%20rgb(233,%20233,%20233);%22&gt;99.48&lt;/div&gt;&lt;div%20class=%22css-1lzltx4-TableCell%22%20style=%22font-size:%2012px;%20height:%2028px;%20left:%20240px;%20padding:%204px%204px%203px;%20position:%20absolute;%20top:%2084px;%20width:%20120px;%20text-align:%20right;%20background-color:%20rgb(250,%20250,%20250);%20border-right:%201px%20solid%20rgb(233,%20233,%20233);%22&gt;579,953,030.70&lt;/div&gt;&lt;div%20class=%22css-1lzltx4-TableCell%22%20style=%22font-size:%2012px;%20height:%2028px;%20left:%20360px;%20padding:%204px%204px%203px;%20position:%20absolute;%20top:%2084px;%20width:%20120px;%20text-align:%20right;%20background-color:%20rgb(250,%20250,%20250);%20border-right:%201px%20solid%20rgb(233,%20233,%20233);%22&gt;579,953,030.70&lt;/div&gt;&lt;div%20class=%22css-1lzltx4-TableCell%22%20style=%22font-size:%2012px;%20height:%2028px;%20left:%20480px;%20padding:%204px%204px%203px;%20position:%20absolute;%20top:%2084px;%20width:%20120px;%20text-align:%20right;%20background-color:%20rgb(250,%20250,%20250);%20border-right:%201px%20solid%20rgb(233,%20233,%20233);%22&gt;0&lt;/div&gt;&lt;div%20class=%22css-1lzltx4-TableCell%22%20style=%22font-size:%2012px;%20height:%2028px;%20left:%20600px;%20padding:%204px%204px%203px;%20position:%20absolute;%20top:%2084px;%20width:%20120px;%20text-align:%20right;%20background-color:%20rgb(250,%20250,%20250);%20border-right:%201px%20solid%20rgb(233,%20233,%20233);%22&gt;0&lt;/div&gt;&lt;div%20class=%22css-1lzltx4-TableCell%22%20style=%22font-size:%2012px;%20height:%2028px;%20left:%20720px;%20padding:%204px%204px%203px;%20position:%20absolute;%20top:%2084px;%20width:%20120px;%20text-align:%20right;%20background-color:%20rgb(250,%20250,%20250);%20border-right:%201px%20solid%20rgb(233,%20233,%20233);%22&gt;0&lt;/div&gt;&lt;div%20class=%22css-1lzltx4-TableCell%22%20style=%22font-size:%2012px;%20height:%2028px;%20left:%20840px;%20padding:%204px%204px%203px;%20position:%20absolute;%20top:%2084px;%20width:%20120px;%20text-align:%20right;%20background-color:%20rgb(250,%20250,%20250);%20border-right:%201px%20solid%20rgb(233,%20233,%20233);%22&gt;0&lt;/div&gt;&lt;/div&gt;&lt;/div&gt;&lt;/div&gt;&lt;/div&gt;&lt;/div&gt;&lt;/div&gt;&lt;/div&gt;&lt;/div&gt;&lt;/div&gt;%3C/div%3E%3C/foreignObject%3E%3C/svg%3E\">"
      ],
      "text/plain": [
       "Open the notebook in JupyterLab with the atoti extension installed and enabled to start editing this widget."
      ]
     },
     "metadata": {},
     "output_type": "display_data"
    }
   ],
   "source": [
    "session.visualize(\"Comparison of the two scenarios per product class\")"
   ]
  },
  {
   "cell_type": "markdown",
   "metadata": {},
   "source": [
    "As seen before a better strategy is to improve the price image by being more competitive on the driver and independent products, hence lowering the prices of those products, while compensating the losses in margin by increasing the prices of the complementary products.\n",
    "\n",
    "We will first import our pricing methods: in this example a very simple pricing functions from our `pricer.py` file."
   ]
  },
  {
   "cell_type": "code",
   "execution_count": 42,
   "metadata": {},
   "outputs": [],
   "source": [
    "from price_engine import pricer"
   ]
  },
  {
   "cell_type": "markdown",
   "metadata": {},
   "source": [
    "#### Extracting data from cube with query\n",
    "Let's export the initial selling price and product classification from the cube into a Pandas dataframe:"
   ]
  },
  {
   "cell_type": "code",
   "execution_count": 43,
   "metadata": {},
   "outputs": [
    {
     "data": {
      "text/html": [
       "<div>\n",
       "<style scoped>\n",
       "    .dataframe tbody tr th:only-of-type {\n",
       "        vertical-align: middle;\n",
       "    }\n",
       "\n",
       "    .dataframe tbody tr th {\n",
       "        vertical-align: top;\n",
       "    }\n",
       "\n",
       "    .dataframe thead th {\n",
       "        text-align: right;\n",
       "    }\n",
       "</style>\n",
       "<table border=\"1\" class=\"dataframe\">\n",
       "  <thead>\n",
       "    <tr style=\"text-align: right;\">\n",
       "      <th></th>\n",
       "      <th></th>\n",
       "      <th>SellingPrice.VALUE</th>\n",
       "    </tr>\n",
       "    <tr>\n",
       "      <th>ProductId</th>\n",
       "      <th>Product Class</th>\n",
       "      <th></th>\n",
       "    </tr>\n",
       "  </thead>\n",
       "  <tbody>\n",
       "    <tr>\n",
       "      <th>3003</th>\n",
       "      <th>Complementary</th>\n",
       "      <td>443.73</td>\n",
       "    </tr>\n",
       "    <tr>\n",
       "      <th>3031</th>\n",
       "      <th>Driver</th>\n",
       "      <td>344.72</td>\n",
       "    </tr>\n",
       "    <tr>\n",
       "      <th>3052</th>\n",
       "      <th>Independent</th>\n",
       "      <td>135.98</td>\n",
       "    </tr>\n",
       "    <tr>\n",
       "      <th>10395</th>\n",
       "      <th>Driver</th>\n",
       "      <td>302.53</td>\n",
       "    </tr>\n",
       "    <tr>\n",
       "      <th>10402</th>\n",
       "      <th>Driver</th>\n",
       "      <td>98.65</td>\n",
       "    </tr>\n",
       "  </tbody>\n",
       "</table>\n",
       "</div>"
      ],
      "text/plain": [
       "                         SellingPrice.VALUE\n",
       "ProductId Product Class                    \n",
       "3003      Complementary              443.73\n",
       "3031      Driver                     344.72\n",
       "3052      Independent                135.98\n",
       "10395     Driver                     302.53\n",
       "10402     Driver                      98.65"
      ]
     },
     "execution_count": 43,
     "metadata": {},
     "output_type": "execute_result"
    }
   ],
   "source": [
    "initial_price_list_with_classes = cube.query(\n",
    "    m[\"SellingPrice.VALUE\"],\n",
    "    levels=[\n",
    "        lvl[\"ProductId\"],\n",
    "        lvl[\"Product Class\"],\n",
    "    ],\n",
    ")\n",
    "initial_price_list_with_classes.head()"
   ]
  },
  {
   "cell_type": "markdown",
   "metadata": {},
   "source": [
    "We will then give our initial price list to a price optimizer that will optimize prices and load the resulting price list into a third scenario named \"Optimized price index\" that we will be able to compare to the other scenarios."
   ]
  },
  {
   "cell_type": "code",
   "execution_count": 44,
   "metadata": {},
   "outputs": [],
   "source": [
    "initial_price_list_with_classes.reset_index(inplace=True)"
   ]
  },
  {
   "cell_type": "code",
   "execution_count": 45,
   "metadata": {},
   "outputs": [],
   "source": [
    "selling_prices_for_optimized_price_index = pricer.optimize_price_index(\n",
    "    initial_price_list_with_classes\n",
    ")"
   ]
  },
  {
   "cell_type": "code",
   "execution_count": 46,
   "metadata": {},
   "outputs": [],
   "source": [
    "selling_prices_store.scenarios[\"Optimized price index\"].load_pandas(\n",
    "    selling_prices_for_optimized_price_index\n",
    ")"
   ]
  },
  {
   "cell_type": "markdown",
   "metadata": {},
   "source": [
    "The result as we can see below is much better since we have been able to very slightly increase our global margin, while being much more competitive on the Driver products"
   ]
  },
  {
   "cell_type": "code",
   "execution_count": 47,
   "metadata": {
    "atoti": {
     "widget": {
      "mapping": {
       "columns": [
        "ALL_MEASURES"
       ],
       "measures": [
        "[Measures].[Margin Delta]",
        "[Measures].[Margin.SUM]",
        "[Measures].[Price Index Delta]",
        "[Measures].[Price Index]"
       ],
       "rows": []
      },
      "name": "Results summary",
      "query": {
       "context": {
        "queriesResultLimit.intermediateSize": 1000000,
        "queriesResultLimit.transientSize": 10000000
       },
       "mdx": "WITH  Member [Measures].[Margin Delta] AS [Measures].[Margin.SUM] - ([Measures].[Margin.SUM], [Epoch].[Epoch].[Base]), FORE_COLOR = CASE WHEN [Measures].[Margin Delta] >= 0 THEN rgb(44, 160, 44) WHEN [Measures].[Margin Delta] < 0 THEN rgb(224, 102, 102) END, FONT_FLAGS = CASE WHEN [Measures].[Margin Delta] >= 0 THEN 1 WHEN [Measures].[Margin Delta] < 0 THEN 1 END, FORMAT_STRING = \"#,###.\n##\"    Member [Measures].[Price Index Delta] AS [Measures].[Price Index] - ([Measures].[Price Index], [Epoch].[Epoch].[Base]), FORE_COLOR = CASE WHEN [Measures].[Price Index Delta] <= 0 THEN rgb(44, 160, 44) WHEN [Measures].[Price Index Delta] > 0 THEN rgb(224, 102, 102) END, FONT_FLAGS = CASE WHEN [Measures].[Price Index Delta] <= 0 THEN 1 WHEN [Measures].[Price Index Delta] > 0 THEN 1 END, FORMAT_STRING = \"#,###.##\"  SELECT NON EMPTY Crossjoin(Hierarchize([Epoch].[Epoch].[Branch].Members), Hierarchize(DrilldownLevel([classified_products].[Product Class].[ALL].[AllMember]))) ON ROWS, NON EMPTY {[Measures].[Price Index], [Measures].[Margin.SUM], [Measures].[Margin Delta], [Measures].[Price Index Delta]} ON COLUMNS FROM [products_cube] CELL PROPERTIES BACK_COLOR, FONT_FLAGS, FORE_COLOR, FORMATTED_VALUE, VALUE",
       "updateMode": "once"
      },
      "serverKey": "default",
      "widgetKey": "pivot-table"
     }
    }
   },
   "outputs": [
    {
     "data": {
      "application/vnd.atoti.v0+json": {
       "name": "Results summary",
       "session": "Unnamed"
      },
      "text/html": [
       "<img src=\"data:image/svg+xml;charset=utf8,%3C?xml%20version=%221.0%22%20standalone=%22no%22?%3E%3Csvg%20xmlns=%22http://www.w3.org/2000/svg%22%20height=%22348%22%20width=%221087%22%3E%3CforeignObject%20width=%22100%25%22%20height=%22100%25%22%20x=%220%22%20y=%220%22%3E%3Cstyle%20type=%22text/css%22%3E.anticon%20%7Bdisplay:%20inline-block;%20color:%20inherit;%20font-style:%20normal;%20line-height:%200;%20text-align:%20center;%20text-transform:%20none;%20vertical-align:%20-0.125em;%20text-rendering:%20optimizelegibility;%20-webkit-font-smoothing:%20antialiased%7D%0A.anticon%20%3E%20*%20%7Bline-height:%201%7D%0A.anticon%20svg%20%7Bdisplay:%20inline-block%7D%0A.anticon%5Btabindex%5D%20%7Bcursor:%20pointer%7D%0A*,%20::before,%20::after%20%7Bbox-sizing:%20unset%7D%0A.ant-root%20%5Bclass%5E=%22ant-%22%5D,%20.ant-root%20%5Bclass*=%22ant-%22%5D,%20.ant-root%20%5Bclass%5E=%22ant-%22%5D%20*,%20.ant-root%20%5Bclass*=%22ant-%22%5D%20*,%20.ant-root%20%5Bclass%5E=%22ant-%22%5D%20::before,%20.ant-root%20%5Bclass*=%22ant-%22%5D%20::before,%20.ant-root%20%5Bclass%5E=%22ant-%22%5D%20::after,%20.ant-root%20%5Bclass*=%22ant-%22%5D%20::after%20%7Bbox-sizing:%20border-box%7D%0A.ant-root%20html,%20.ant-root%20%7Bwidth:%20100%25;%20height:%20100%25%7D%0A.ant-root%20*,%20.ant-root%20::before,%20.ant-root%20::after%20%7Bbox-sizing:%20border-box%7D%0A.ant-root%20%7Bmargin-top:%200px;%20margin-right:%200px;%20margin-bottom:%200px;%20margin-left:%200px;%20color:%20rgb(89,%2089,%2089);%20font-size:%2012px;%20font-family:%20-apple-system,%20BlinkMacSystemFont,%20%22Segoe%20UI%22,%20Roboto,%20%22Helvetica%20Neue%22,%20Arial,%20%22Noto%20Sans%22,%20sans-serif,%20%22Apple%20Color%20Emoji%22,%20%22Segoe%20UI%20Emoji%22,%20%22Segoe%20UI%20Symbol%22,%20%22Noto%20Color%20Emoji%22;%20font-variant-ligatures:%20normal;%20font-variant-numeric:%20tabular-nums;%20font-variant-east-asian:%20normal;%20font-variant-caps:%20normal;%20line-height:%201.66667;%20background-color:%20rgb(255,%20255,%20255);%20--antd-wave-shadow-color:%20undefined;%20--scroll-bar:%20undefined%7D%0A.ant-root%20svg:not(:root)%20%7Boverflow-x:%20hidden;%20overflow-y:%20hidden%7D%0A.ant-root%20.anticon%20%7Bdisplay:%20inline-block;%20color:%20inherit;%20font-style:%20normal;%20line-height:%200;%20text-align:%20center;%20text-transform:%20none;%20vertical-align:%20-0.125em;%20text-rendering:%20optimizelegibility;%20-webkit-font-smoothing:%20antialiased%7D%0A.ant-root%20.anticon%20%3E%20*%20%7Bline-height:%201%7D%0A.ant-root%20.anticon%20svg%20%7Bdisplay:%20inline-block%7D%0A.ant-root%20.anticon%5Btabindex%5D%20%7Bcursor:%20pointer%7D%0A.ant-root%20.ant-spin%20%7Bbox-sizing:%20border-box;%20margin-top:%200px;%20margin-right:%200px;%20margin-bottom:%200px;%20margin-left:%200px;%20padding-top:%200px;%20padding-right:%200px;%20padding-bottom:%200px;%20padding-left:%200px;%20font-size:%2012px;%20font-variant-ligatures:%20normal;%20font-variant-numeric:%20tabular-nums;%20font-variant-east-asian:%20normal;%20font-variant-caps:%20normal;%20line-height:%201.66667;%20list-style-position:%20initial;%20list-style-image:%20initial;%20list-style-type:%20none;%20position:%20absolute;%20display:%20none;%20color:%20rgb(0,%20174,%20239);%20text-align:%20center;%20vertical-align:%20middle;%20opacity:%200;%20transition-duration:%200.3s;%20transition-timing-function:%20cubic-bezier(0.78,%200.14,%200.15,%200.86);%20transition-delay:%200s;%20transition-property:%20transform%7D%0A.ant-root%20.ant-spin-spinning%20%7Bposition:%20static;%20display:%20inline-block;%20opacity:%201%7D%0A.ant-root%20.ant-spin-dot%20%7Bposition:%20relative;%20display:%20inline-block;%20font-size:%2020px;%20width:%201em;%20height:%201em%7D%0A.ant-root%20.ant-spin-dot-item%20%7Bposition:%20absolute;%20display:%20block;%20width:%209px;%20height:%209px;%20background-color:%20rgb(0,%20174,%20239);%20border-top-left-radius:%20100%25;%20border-top-right-radius:%20100%25;%20border-bottom-right-radius:%20100%25;%20border-bottom-left-radius:%20100%25;%20transform:%20scale(0.75);%20transform-origin:%2050%25%2050%25;%20opacity:%200.3;%20animation-duration:%201s;%20animation-timing-function:%20linear;%20animation-delay:%200s;%20animation-iteration-count:%20infinite;%20animation-direction:%20alternate;%20animation-fill-mode:%20none;%20animation-play-state:%20running;%20animation-name:%20antSpinMove%7D%0A.ant-root%20.ant-spin-dot-item:nth-child(1)%20%7Btop:%200px;%20left:%200px%7D%0A.ant-root%20.ant-spin-dot-item:nth-child(2)%20%7Btop:%200px;%20right:%200px;%20animation-delay:%200.4s%7D%0A.ant-root%20.ant-spin-dot-item:nth-child(3)%20%7Bright:%200px;%20bottom:%200px;%20animation-delay:%200.8s%7D%0A.ant-root%20.ant-spin-dot-item:nth-child(4)%20%7Bbottom:%200px;%20left:%200px;%20animation-delay:%201.2s%7D%0A.ant-root%20.ant-spin-dot-spin%20%7Btransform:%20rotate(45deg);%20animation-duration:%201.2s;%20animation-timing-function:%20linear;%20animation-delay:%200s;%20animation-iteration-count:%20infinite;%20animation-direction:%20normal;%20animation-fill-mode:%20none;%20animation-play-state:%20running;%20animation-name:%20antRotate%7D%0A.ant-root%20.ant-spin-lg%20.ant-spin-dot%20%7Bfont-size:%2032px%7D%0A.ant-root%20.ant-spin-lg%20.ant-spin-dot%20i%20%7Bwidth:%2014px;%20height:%2014px%7D%0A.css-12ebr42-AWidget%20%7Bheight:%20100%25%7D%0A.css-ck2xzt-Spinner%20%7B-webkit-box-align:%20center;%20align-items:%20center;%20background-image:%20initial;%20background-position-x:%20initial;%20background-position-y:%20initial;%20background-size:%20initial;%20background-repeat-x:%20initial;%20background-repeat-y:%20initial;%20background-attachment:%20initial;%20background-origin:%20initial;%20background-clip:%20initial;%20background-color:%20transparent;%20display:%20flex;%20height:%20100%25;%20-webkit-box-pack:%20center;%20justify-content:%20center;%20position:%20absolute;%20transition-duration:%20300ms;%20transition-timing-function:%20ease;%20transition-delay:%200s;%20transition-property:%20opacity;%20width:%20100%25;%20opacity:%200;%20pointer-events:%20none;%20z-index:%202%7D%0A.css-1e3kjgr-Spinner%20%7Bheight:%20100%25;%20position:%20relative%7D%0A.css-6s7z8y-Table%20%7Bpadding-bottom:%202px;%20padding-right:%202px;%20height:%20100%25%7D%0A.css-18k6uz5-Table%20%7Bcursor:%20cell;%20height:%20100%25;%20outline-color:%20initial;%20outline-style:%20none;%20outline-width:%20initial%7D%0A.css-16sdsf5-Table%20%7Bdisplay:%20flex;%20height:%20346px%7D%0A.css-cjaqq6-Table%20%7Bborder-collapse:%20collapse;%20height:%2028px;%20width:%20240px%7D%0A.css-17cmzye%20%7Bheight:%2028px;%20width:%20240px%7D%0A.css-uto3uj%20%7Bheight:%2028px;%20overflow-x:%20hidden;%20overflow-y:%20hidden;%20position:%20relative;%20width:%20240px;%20border-right-width:%202px;%20border-right-style:%20solid;%20border-right-color:%20rgb(233,%20233,%20233)%7D%0A.css-qhljdd%20%7Bheight:%20318px;%20width:%20240px;%20overflow-x:%20hidden;%20overflow-y:%20auto%7D%0A.css-sazb3v-Table%20%7Bwidth:%20845px;%20border-collapse:%20collapse%7D%0A.css-1vgfwrz%20%7Bheight:%2028px;%20width:%20827px;%20overflow-x:%20auto;%20overflow-y:%20hidden%7D%0A.css-1xfmcxn%20%7Bheight:%2028px;%20overflow-x:%20hidden;%20overflow-y:%20hidden;%20position:%20relative;%20width:%20480px%7D%0A.css-1695grl%20%7Bheight:%20318px;%20width:%20845px;%20overflow-x:%20auto;%20overflow-y:%20auto%7D%0A.css-17s3v70%20%7Bheight:%20224px;%20overflow-x:%20hidden;%20overflow-y:%20hidden;%20position:%20relative;%20width:%20240px;%20border-top-width:%202px;%20border-top-style:%20solid;%20border-top-color:%20rgb(233,%20233,%20233);%20border-right-width:%202px;%20border-right-style:%20solid;%20border-right-color:%20rgb(233,%20233,%20233)%7D%0A.css-11y2pyq%20%7Bheight:%20224px;%20overflow-x:%20hidden;%20overflow-y:%20hidden;%20position:%20relative;%20width:%20480px;%20border-top-width:%202px;%20border-top-style:%20solid;%20border-top-color:%20rgb(233,%20233,%20233)%7D%0A*%20%7B-ms-overflow-style:%20none;%20scrollbar-width:%20none%7D%0A*::-webkit-scrollbar%20%7Bdisplay:%20none%7D%3C/style%3E%3Cdiv%20xmlns=%22http://www.w3.org/1999/xhtml%22%20style=%22height:%20348px;%20width:%201087px;%22%3E&lt;div%20xmlns=%22http://www.w3.org/1999/xhtml%22%20class=%22ant-root%20css-0%22&gt;&lt;div%20class=%22ant-dropdown-trigger%20css-12ebr42-AWidget%22&gt;&lt;div%20class=%22css-1e3kjgr-Spinner%22&gt;&lt;div%20class=%22css-ck2xzt-Spinner%22&gt;&lt;div%20class=%22ant-spin%20ant-spin-lg%20ant-spin-spinning%22&gt;&lt;span%20class=%22ant-spin-dot%20ant-spin-dot-spin%22&gt;&lt;i%20class=%22ant-spin-dot-item%22&gt;&lt;/i&gt;&lt;i%20class=%22ant-spin-dot-item%22&gt;&lt;/i&gt;&lt;i%20class=%22ant-spin-dot-item%22&gt;&lt;/i&gt;&lt;i%20class=%22ant-spin-dot-item%22&gt;&lt;/i&gt;&lt;/span&gt;&lt;/div&gt;&lt;/div&gt;&lt;div%20class=%22css-6s7z8y-Table%22&gt;&lt;div%20tabindex=%220%22%20class=%22css-18k6uz5-Table%22&gt;&lt;div%20class=%22css-16sdsf5-Table%22&gt;&lt;div%20class=%22css-cjaqq6-Table%22&gt;&lt;div%20class=%22css-17cmzye%22&gt;&lt;div%20class=%22css-uto3uj%22&gt;&lt;div%20style=%22font-size:%2012px;%20height:%2028px;%20left:%200px;%20padding:%204px%204px%203px;%20position:%20absolute;%20top:%200px;%20width:%20120px;%20font-weight:%20600;%22&gt;Scenario&lt;/div&gt;&lt;div%20style=%22font-size:%2012px;%20height:%2028px;%20left:%20120px;%20padding:%204px%204px%203px;%20position:%20absolute;%20top:%200px;%20width:%20120px;%20font-weight:%20600;%22&gt;Product%20Class&lt;/div&gt;&lt;/div&gt;&lt;/div&gt;&lt;div%20class=%22css-qhljdd%22&gt;&lt;div%20class=%22css-17s3v70%22&gt;&lt;div%20style=%22overflow:%20hidden;%20display:%20flex;%20align-items:%20center;%20font-size:%2012px;%20height:%2028px;%20left:%200px;%20padding:%204px%204px%203px;%20position:%20absolute;%20top:%200px;%20width:%20120px;%20font-weight:%20600;%22&gt;&lt;span%20style=%22text-overflow:%20ellipsis;%20overflow:%20hidden;%20white-space:%20nowrap;%20max-width:%20calc((100%25%20-%200px)%20-%200px);%22&gt;Base&lt;/span&gt;&lt;div%20style=%22height:%20100%25;%20margin-left:%206px;%22&gt;&lt;/div&gt;&lt;/div&gt;&lt;div%20style=%22overflow:%20hidden;%20display:%20flex;%20align-items:%20center;%20font-size:%2012px;%20height:%2028px;%20left:%20120px;%20padding:%204px%204px%203px;%20position:%20absolute;%20top:%200px;%20width:%20120px;%20border-right:%202px%20solid%20rgb(233,%20233,%20233);%22&gt;&lt;span%20style=%22text-overflow:%20ellipsis;%20overflow:%20hidden;%20white-space:%20nowrap;%20max-width:%20calc((100%25%20-%200px)%20-%200px);%22&gt;&lt;/span&gt;&lt;div%20style=%22height:%20100%25;%20margin-left:%206px;%22&gt;&lt;/div&gt;&lt;/div&gt;&lt;div%20style=%22overflow:%20hidden;%20display:%20none;%20align-items:%20center;%20font-size:%2012px;%20height:%2028px;%20left:%200px;%20padding:%204px%204px%203px;%20position:%20absolute;%20top:%2028px;%20width:%20120px;%20font-weight:%20600;%22&gt;&lt;span%20role=%22img%22%20aria-label=%22right%22%20tabindex=%22-1%22%20class=%22anticon%20anticon-right%22%20style=%22cursor:%20pointer;%20font-size:%2010px;%20margin-right:%206px;%22&gt;&lt;svg%20xmlns=%22http://www.w3.org/2000/svg%22%20viewBox=%2264%2064%20896%20896%22%20focusable=%22false%22%20class=%22%22%20data-icon=%22right%22%20width=%221em%22%20height=%221em%22%20fill=%22currentColor%22%20aria-hidden=%22true%22&gt;&lt;path%20d=%22M765.7%20486.8L314.9%20134.7A7.97%207.97%200%2000302%20141v77.3c0%204.9%202.3%209.6%206.1%2012.6l360%20281.1-360%20281.1c-3.9%203-6.1%207.7-6.1%2012.6V883c0%206.7%207.7%2010.4%2012.9%206.3l450.8-352.1a31.96%2031.96%200%20000-50.4z%22/&gt;&lt;/svg&gt;&lt;/span&gt;&lt;span%20style=%22text-overflow:%20ellipsis;%20overflow:%20hidden;%20white-space:%20nowrap;%20max-width:%20calc((100%25%20-%2016px)%20-%200px);%22&gt;Base&lt;/span&gt;&lt;div%20style=%22height:%20100%25;%20margin-left:%206px;%22&gt;&lt;/div&gt;&lt;/div&gt;&lt;div%20style=%22overflow:%20hidden;%20display:%20flex;%20align-items:%20center;%20font-size:%2012px;%20height:%2028px;%20left:%20120px;%20padding:%204px%204px%203px;%20position:%20absolute;%20top:%2028px;%20width:%20120px;%20background-color:%20rgb(250,%20250,%20250);%20border-right:%202px%20solid%20rgb(233,%20233,%20233);%22&gt;&lt;span%20style=%22text-overflow:%20ellipsis;%20overflow:%20hidden;%20white-space:%20nowrap;%20max-width:%20calc((100%25%20-%200px)%20-%200px);%22&gt;Complementary&lt;/span&gt;&lt;div%20style=%22height:%20100%25;%20margin-left:%206px;%22&gt;&lt;/div&gt;&lt;/div&gt;&lt;div%20style=%22overflow:%20hidden;%20display:%20none;%20align-items:%20center;%20font-size:%2012px;%20height:%2028px;%20left:%200px;%20padding:%204px%204px%203px;%20position:%20absolute;%20top:%2056px;%20width:%20120px;%20font-weight:%20600;%22&gt;&lt;span%20role=%22img%22%20aria-label=%22right%22%20tabindex=%22-1%22%20class=%22anticon%20anticon-right%22%20style=%22cursor:%20pointer;%20font-size:%2010px;%20margin-right:%206px;%22&gt;&lt;svg%20xmlns=%22http://www.w3.org/2000/svg%22%20viewBox=%2264%2064%20896%20896%22%20focusable=%22false%22%20class=%22%22%20data-icon=%22right%22%20width=%221em%22%20height=%221em%22%20fill=%22currentColor%22%20aria-hidden=%22true%22&gt;&lt;path%20d=%22M765.7%20486.8L314.9%20134.7A7.97%207.97%200%2000302%20141v77.3c0%204.9%202.3%209.6%206.1%2012.6l360%20281.1-360%20281.1c-3.9%203-6.1%207.7-6.1%2012.6V883c0%206.7%207.7%2010.4%2012.9%206.3l450.8-352.1a31.96%2031.96%200%20000-50.4z%22/&gt;&lt;/svg&gt;&lt;/span&gt;&lt;span%20style=%22text-overflow:%20ellipsis;%20overflow:%20hidden;%20white-space:%20nowrap;%20max-width:%20calc((100%25%20-%2016px)%20-%200px);%22&gt;Base&lt;/span&gt;&lt;div%20style=%22height:%20100%25;%20margin-left:%206px;%22&gt;&lt;/div&gt;&lt;/div&gt;&lt;div%20style=%22overflow:%20hidden;%20display:%20flex;%20align-items:%20center;%20font-size:%2012px;%20height:%2028px;%20left:%20120px;%20padding:%204px%204px%203px;%20position:%20absolute;%20top:%2056px;%20width:%20120px;%20border-right:%202px%20solid%20rgb(233,%20233,%20233);%22&gt;&lt;span%20style=%22text-overflow:%20ellipsis;%20overflow:%20hidden;%20white-space:%20nowrap;%20max-width:%20calc((100%25%20-%200px)%20-%200px);%22&gt;Driver&lt;/span&gt;&lt;div%20style=%22height:%20100%25;%20margin-left:%206px;%22&gt;&lt;/div&gt;&lt;/div&gt;&lt;div%20style=%22overflow:%20hidden;%20display:%20none;%20align-items:%20center;%20font-size:%2012px;%20height:%2028px;%20left:%200px;%20padding:%204px%204px%203px;%20position:%20absolute;%20top:%2084px;%20width:%20120px;%20font-weight:%20600;%22&gt;&lt;span%20role=%22img%22%20aria-label=%22right%22%20tabindex=%22-1%22%20class=%22anticon%20anticon-right%22%20style=%22cursor:%20pointer;%20font-size:%2010px;%20margin-right:%206px;%22&gt;&lt;svg%20xmlns=%22http://www.w3.org/2000/svg%22%20viewBox=%2264%2064%20896%20896%22%20focusable=%22false%22%20class=%22%22%20data-icon=%22right%22%20width=%221em%22%20height=%221em%22%20fill=%22currentColor%22%20aria-hidden=%22true%22&gt;&lt;path%20d=%22M765.7%20486.8L314.9%20134.7A7.97%207.97%200%2000302%20141v77.3c0%204.9%202.3%209.6%206.1%2012.6l360%20281.1-360%20281.1c-3.9%203-6.1%207.7-6.1%2012.6V883c0%206.7%207.7%2010.4%2012.9%206.3l450.8-352.1a31.96%2031.96%200%20000-50.4z%22/&gt;&lt;/svg&gt;&lt;/span&gt;&lt;span%20style=%22text-overflow:%20ellipsis;%20overflow:%20hidden;%20white-space:%20nowrap;%20max-width:%20calc((100%25%20-%2016px)%20-%200px);%22&gt;Base&lt;/span&gt;&lt;div%20style=%22height:%20100%25;%20margin-left:%206px;%22&gt;&lt;/div&gt;&lt;/div&gt;&lt;div%20style=%22overflow:%20hidden;%20display:%20flex;%20align-items:%20center;%20font-size:%2012px;%20height:%2028px;%20left:%20120px;%20padding:%204px%204px%203px;%20position:%20absolute;%20top:%2084px;%20width:%20120px;%20background-color:%20rgb(250,%20250,%20250);%20border-right:%202px%20solid%20rgb(233,%20233,%20233);%22&gt;&lt;span%20style=%22text-overflow:%20ellipsis;%20overflow:%20hidden;%20white-space:%20nowrap;%20max-width:%20calc((100%25%20-%200px)%20-%200px);%22&gt;Independent&lt;/span&gt;&lt;div%20style=%22height:%20100%25;%20margin-left:%206px;%22&gt;&lt;/div&gt;&lt;/div&gt;&lt;div%20style=%22overflow:%20hidden;%20display:%20flex;%20align-items:%20center;%20font-size:%2012px;%20height:%2028px;%20left:%200px;%20padding:%204px%204px%203px;%20position:%20absolute;%20top:%20112px;%20width:%20120px;%20border-top:%201px%20solid%20rgb(233,%20233,%20233);%20font-weight:%20600;%22&gt;&lt;span%20style=%22text-overflow:%20ellipsis;%20overflow:%20hidden;%20white-space:%20nowrap;%20max-width:%20calc((100%25%20-%200px)%20-%200px);%22&gt;Optimized%20price%20index&lt;/span&gt;&lt;div%20style=%22height:%20100%25;%20margin-left:%206px;%22&gt;&lt;/div&gt;&lt;/div&gt;&lt;div%20style=%22overflow:%20hidden;%20display:%20flex;%20align-items:%20center;%20font-size:%2012px;%20height:%2028px;%20left:%20120px;%20padding:%204px%204px%203px;%20position:%20absolute;%20top:%20112px;%20width:%20120px;%20border-right:%202px%20solid%20rgb(233,%20233,%20233);%20border-top:%201px%20solid%20rgb(233,%20233,%20233);%22&gt;&lt;span%20style=%22text-overflow:%20ellipsis;%20overflow:%20hidden;%20white-space:%20nowrap;%20max-width:%20calc((100%25%20-%200px)%20-%200px);%22&gt;&lt;/span&gt;&lt;div%20style=%22height:%20100%25;%20margin-left:%206px;%22&gt;&lt;/div&gt;&lt;/div&gt;&lt;div%20style=%22overflow:%20hidden;%20display:%20none;%20align-items:%20center;%20font-size:%2012px;%20height:%2028px;%20left:%200px;%20padding:%204px%204px%203px;%20position:%20absolute;%20top:%20140px;%20width:%20120px;%20font-weight:%20600;%22&gt;&lt;span%20role=%22img%22%20aria-label=%22right%22%20tabindex=%22-1%22%20class=%22anticon%20anticon-right%22%20style=%22cursor:%20pointer;%20font-size:%2010px;%20margin-right:%206px;%22&gt;&lt;svg%20xmlns=%22http://www.w3.org/2000/svg%22%20viewBox=%2264%2064%20896%20896%22%20focusable=%22false%22%20class=%22%22%20data-icon=%22right%22%20width=%221em%22%20height=%221em%22%20fill=%22currentColor%22%20aria-hidden=%22true%22&gt;&lt;path%20d=%22M765.7%20486.8L314.9%20134.7A7.97%207.97%200%2000302%20141v77.3c0%204.9%202.3%209.6%206.1%2012.6l360%20281.1-360%20281.1c-3.9%203-6.1%207.7-6.1%2012.6V883c0%206.7%207.7%2010.4%2012.9%206.3l450.8-352.1a31.96%2031.96%200%20000-50.4z%22/&gt;&lt;/svg&gt;&lt;/span&gt;&lt;span%20style=%22text-overflow:%20ellipsis;%20overflow:%20hidden;%20white-space:%20nowrap;%20max-width:%20calc((100%25%20-%2016px)%20-%200px);%22&gt;Optimized%20price%20index&lt;/span&gt;&lt;div%20style=%22height:%20100%25;%20margin-left:%206px;%22&gt;&lt;/div&gt;&lt;/div&gt;&lt;div%20style=%22overflow:%20hidden;%20display:%20flex;%20align-items:%20center;%20font-size:%2012px;%20height:%2028px;%20left:%20120px;%20padding:%204px%204px%203px;%20position:%20absolute;%20top:%20140px;%20width:%20120px;%20background-color:%20rgb(250,%20250,%20250);%20border-right:%202px%20solid%20rgb(233,%20233,%20233);%22&gt;&lt;span%20style=%22text-overflow:%20ellipsis;%20overflow:%20hidden;%20white-space:%20nowrap;%20max-width:%20calc((100%25%20-%200px)%20-%200px);%22&gt;Complementary&lt;/span&gt;&lt;div%20style=%22height:%20100%25;%20margin-left:%206px;%22&gt;&lt;/div&gt;&lt;/div&gt;&lt;div%20style=%22overflow:%20hidden;%20display:%20none;%20align-items:%20center;%20font-size:%2012px;%20height:%2028px;%20left:%200px;%20padding:%204px%204px%203px;%20position:%20absolute;%20top:%20168px;%20width:%20120px;%20font-weight:%20600;%22&gt;&lt;span%20role=%22img%22%20aria-label=%22right%22%20tabindex=%22-1%22%20class=%22anticon%20anticon-right%22%20style=%22cursor:%20pointer;%20font-size:%2010px;%20margin-right:%206px;%22&gt;&lt;svg%20xmlns=%22http://www.w3.org/2000/svg%22%20viewBox=%2264%2064%20896%20896%22%20focusable=%22false%22%20class=%22%22%20data-icon=%22right%22%20width=%221em%22%20height=%221em%22%20fill=%22currentColor%22%20aria-hidden=%22true%22&gt;&lt;path%20d=%22M765.7%20486.8L314.9%20134.7A7.97%207.97%200%2000302%20141v77.3c0%204.9%202.3%209.6%206.1%2012.6l360%20281.1-360%20281.1c-3.9%203-6.1%207.7-6.1%2012.6V883c0%206.7%207.7%2010.4%2012.9%206.3l450.8-352.1a31.96%2031.96%200%20000-50.4z%22/&gt;&lt;/svg&gt;&lt;/span&gt;&lt;span%20style=%22text-overflow:%20ellipsis;%20overflow:%20hidden;%20white-space:%20nowrap;%20max-width:%20calc((100%25%20-%2016px)%20-%200px);%22&gt;Optimized%20price%20index&lt;/span&gt;&lt;div%20style=%22height:%20100%25;%20margin-left:%206px;%22&gt;&lt;/div&gt;&lt;/div&gt;&lt;div%20style=%22overflow:%20hidden;%20display:%20flex;%20align-items:%20center;%20font-size:%2012px;%20height:%2028px;%20left:%20120px;%20padding:%204px%204px%203px;%20position:%20absolute;%20top:%20168px;%20width:%20120px;%20border-right:%202px%20solid%20rgb(233,%20233,%20233);%22&gt;&lt;span%20style=%22text-overflow:%20ellipsis;%20overflow:%20hidden;%20white-space:%20nowrap;%20max-width:%20calc((100%25%20-%200px)%20-%200px);%22&gt;Driver&lt;/span&gt;&lt;div%20style=%22height:%20100%25;%20margin-left:%206px;%22&gt;&lt;/div&gt;&lt;/div&gt;&lt;div%20style=%22overflow:%20hidden;%20display:%20none;%20align-items:%20center;%20font-size:%2012px;%20height:%2028px;%20left:%200px;%20padding:%204px%204px%203px;%20position:%20absolute;%20top:%20196px;%20width:%20120px;%20font-weight:%20600;%22&gt;&lt;span%20role=%22img%22%20aria-label=%22right%22%20tabindex=%22-1%22%20class=%22anticon%20anticon-right%22%20style=%22cursor:%20pointer;%20font-size:%2010px;%20margin-right:%206px;%22&gt;&lt;svg%20xmlns=%22http://www.w3.org/2000/svg%22%20viewBox=%2264%2064%20896%20896%22%20focusable=%22false%22%20class=%22%22%20data-icon=%22right%22%20width=%221em%22%20height=%221em%22%20fill=%22currentColor%22%20aria-hidden=%22true%22&gt;&lt;path%20d=%22M765.7%20486.8L314.9%20134.7A7.97%207.97%200%2000302%20141v77.3c0%204.9%202.3%209.6%206.1%2012.6l360%20281.1-360%20281.1c-3.9%203-6.1%207.7-6.1%2012.6V883c0%206.7%207.7%2010.4%2012.9%206.3l450.8-352.1a31.96%2031.96%200%20000-50.4z%22/&gt;&lt;/svg&gt;&lt;/span&gt;&lt;span%20style=%22text-overflow:%20ellipsis;%20overflow:%20hidden;%20white-space:%20nowrap;%20max-width:%20calc((100%25%20-%2016px)%20-%200px);%22&gt;Optimized%20price%20index&lt;/span&gt;&lt;div%20style=%22height:%20100%25;%20margin-left:%206px;%22&gt;&lt;/div&gt;&lt;/div&gt;&lt;div%20style=%22overflow:%20hidden;%20display:%20flex;%20align-items:%20center;%20font-size:%2012px;%20height:%2028px;%20left:%20120px;%20padding:%204px%204px%203px;%20position:%20absolute;%20top:%20196px;%20width:%20120px;%20background-color:%20rgb(250,%20250,%20250);%20border-right:%202px%20solid%20rgb(233,%20233,%20233);%22&gt;&lt;span%20style=%22text-overflow:%20ellipsis;%20overflow:%20hidden;%20white-space:%20nowrap;%20max-width:%20calc((100%25%20-%200px)%20-%200px);%22&gt;Independent&lt;/span&gt;&lt;div%20style=%22height:%20100%25;%20margin-left:%206px;%22&gt;&lt;/div&gt;&lt;/div&gt;&lt;/div&gt;&lt;/div&gt;&lt;/div&gt;&lt;div%20class=%22css-sazb3v-Table%22&gt;&lt;div%20class=%22css-1vgfwrz%22&gt;&lt;div%20class=%22css-1xfmcxn%22&gt;&lt;div%20style=%22overflow:%20hidden;%20display:%20flex;%20align-items:%20center;%20font-size:%2012px;%20height:%2028px;%20left:%200px;%20padding:%204px%204px%203px;%20position:%20absolute;%20top:%200px;%20width:%20120px;%20font-weight:%20600;%22&gt;&lt;span%20style=%22text-overflow:%20ellipsis;%20overflow:%20hidden;%20white-space:%20nowrap;%20max-width:%20calc((100%25%20-%200px)%20-%200px);%22&gt;Price%20Index&lt;/span&gt;&lt;div%20style=%22height:%20100%25;%20margin-left:%206px;%22&gt;&lt;/div&gt;&lt;/div&gt;&lt;div%20style=%22overflow:%20hidden;%20display:%20flex;%20align-items:%20center;%20font-size:%2012px;%20height:%2028px;%20left:%20120px;%20padding:%204px%204px%203px;%20position:%20absolute;%20top:%200px;%20width:%20120px;%20font-weight:%20600;%22&gt;&lt;span%20style=%22text-overflow:%20ellipsis;%20overflow:%20hidden;%20white-space:%20nowrap;%20max-width:%20calc((100%25%20-%200px)%20-%200px);%22&gt;Margin.SUM&lt;/span&gt;&lt;div%20style=%22height:%20100%25;%20margin-left:%206px;%22&gt;&lt;/div&gt;&lt;/div&gt;&lt;div%20style=%22overflow:%20hidden;%20display:%20flex;%20align-items:%20center;%20font-size:%2012px;%20height:%2028px;%20left:%20240px;%20padding:%204px%204px%203px;%20position:%20absolute;%20top:%200px;%20width:%20120px;%20font-weight:%20600;%22&gt;&lt;span%20style=%22text-overflow:%20ellipsis;%20overflow:%20hidden;%20white-space:%20nowrap;%20max-width:%20calc((100%25%20-%200px)%20-%200px);%22&gt;Margin%20Delta&lt;/span&gt;&lt;div%20style=%22height:%20100%25;%20margin-left:%206px;%22&gt;&lt;/div&gt;&lt;/div&gt;&lt;div%20style=%22overflow:%20hidden;%20display:%20flex;%20align-items:%20center;%20font-size:%2012px;%20height:%2028px;%20left:%20360px;%20padding:%204px%204px%203px;%20position:%20absolute;%20top:%200px;%20width:%20120px;%20font-weight:%20600;%22&gt;&lt;span%20style=%22text-overflow:%20ellipsis;%20overflow:%20hidden;%20white-space:%20nowrap;%20max-width:%20calc((100%25%20-%200px)%20-%200px);%22&gt;Price%20Index%20Delta&lt;/span&gt;&lt;div%20style=%22height:%20100%25;%20margin-left:%206px;%22&gt;&lt;/div&gt;&lt;/div&gt;&lt;/div&gt;&lt;/div&gt;&lt;div%20class=%22css-1695grl%22&gt;&lt;div%20class=%22css-11y2pyq%22&gt;&lt;div%20class=%22css-1lzltx4-TableCell%22%20style=%22font-size:%2012px;%20height:%2028px;%20left:%200px;%20padding:%204px%204px%203px;%20position:%20absolute;%20top:%200px;%20width:%20120px;%20text-align:%20right;%20border-right:%201px%20solid%20rgb(233,%20233,%20233);%22&gt;102.48&lt;/div&gt;&lt;div%20class=%22css-1lzltx4-TableCell%22%20style=%22font-size:%2012px;%20height:%2028px;%20left:%20120px;%20padding:%204px%204px%203px;%20position:%20absolute;%20top:%200px;%20width:%20120px;%20text-align:%20right;%20border-right:%201px%20solid%20rgb(233,%20233,%20233);%22&gt;1,837,282,480.59&lt;/div&gt;&lt;div%20class=%22css-1lzltx4-TableCell%22%20style=%22font-size:%2012px;%20height:%2028px;%20left:%20240px;%20padding:%204px%204px%203px;%20position:%20absolute;%20top:%200px;%20width:%20120px;%20text-align:%20right;%20border-right:%201px%20solid%20rgb(233,%20233,%20233);%22&gt;0%0A&lt;/div&gt;&lt;div%20class=%22css-1lzltx4-TableCell%22%20style=%22font-size:%2012px;%20height:%2028px;%20left:%20360px;%20padding:%204px%204px%203px;%20position:%20absolute;%20top:%200px;%20width:%20120px;%20text-align:%20right;%20border-right:%201px%20solid%20rgb(233,%20233,%20233);%22&gt;0&lt;/div&gt;&lt;div%20class=%22css-1lzltx4-TableCell%22%20style=%22font-size:%2012px;%20height:%2028px;%20left:%200px;%20padding:%204px%204px%203px;%20position:%20absolute;%20top:%2028px;%20width:%20120px;%20text-align:%20right;%20background-color:%20rgb(250,%20250,%20250);%20border-right:%201px%20solid%20rgb(233,%20233,%20233);%22&gt;103.99&lt;/div&gt;&lt;div%20class=%22css-1lzltx4-TableCell%22%20style=%22font-size:%2012px;%20height:%2028px;%20left:%20120px;%20padding:%204px%204px%203px;%20position:%20absolute;%20top:%2028px;%20width:%20120px;%20text-align:%20right;%20background-color:%20rgb(250,%20250,%20250);%20border-right:%201px%20solid%20rgb(233,%20233,%20233);%22&gt;521,127,859.37&lt;/div&gt;&lt;div%20class=%22css-1lzltx4-TableCell%22%20style=%22font-size:%2012px;%20height:%2028px;%20left:%20240px;%20padding:%204px%204px%203px;%20position:%20absolute;%20top:%2028px;%20width:%20120px;%20text-align:%20right;%20background-color:%20rgb(250,%20250,%20250);%20border-right:%201px%20solid%20rgb(233,%20233,%20233);%22&gt;0%0A&lt;/div&gt;&lt;div%20class=%22css-1lzltx4-TableCell%22%20style=%22font-size:%2012px;%20height:%2028px;%20left:%20360px;%20padding:%204px%204px%203px;%20position:%20absolute;%20top:%2028px;%20width:%20120px;%20text-align:%20right;%20background-color:%20rgb(250,%20250,%20250);%20border-right:%201px%20solid%20rgb(233,%20233,%20233);%22&gt;0&lt;/div&gt;&lt;div%20class=%22css-1lzltx4-TableCell%22%20style=%22font-size:%2012px;%20height:%2028px;%20left:%200px;%20padding:%204px%204px%203px;%20position:%20absolute;%20top:%2056px;%20width:%20120px;%20text-align:%20right;%20border-right:%201px%20solid%20rgb(233,%20233,%20233);%22&gt;103.78&lt;/div&gt;&lt;div%20class=%22css-1lzltx4-TableCell%22%20style=%22font-size:%2012px;%20height:%2028px;%20left:%20120px;%20padding:%204px%204px%203px;%20position:%20absolute;%20top:%2056px;%20width:%20120px;%20text-align:%20right;%20border-right:%201px%20solid%20rgb(233,%20233,%20233);%22&gt;736,201,590.52&lt;/div&gt;&lt;div%20class=%22css-1lzltx4-TableCell%22%20style=%22font-size:%2012px;%20height:%2028px;%20left:%20240px;%20padding:%204px%204px%203px;%20position:%20absolute;%20top:%2056px;%20width:%20120px;%20text-align:%20right;%20border-right:%201px%20solid%20rgb(233,%20233,%20233);%22&gt;0%0A&lt;/div&gt;&lt;div%20class=%22css-1lzltx4-TableCell%22%20style=%22font-size:%2012px;%20height:%2028px;%20left:%20360px;%20padding:%204px%204px%203px;%20position:%20absolute;%20top:%2056px;%20width:%20120px;%20text-align:%20right;%20border-right:%201px%20solid%20rgb(233,%20233,%20233);%22&gt;0&lt;/div&gt;&lt;div%20class=%22css-1lzltx4-TableCell%22%20style=%22font-size:%2012px;%20height:%2028px;%20left:%200px;%20padding:%204px%204px%203px;%20position:%20absolute;%20top:%2084px;%20width:%20120px;%20text-align:%20right;%20background-color:%20rgb(250,%20250,%20250);%20border-right:%201px%20solid%20rgb(233,%20233,%20233);%22&gt;99.48&lt;/div&gt;&lt;div%20class=%22css-1lzltx4-TableCell%22%20style=%22font-size:%2012px;%20height:%2028px;%20left:%20120px;%20padding:%204px%204px%203px;%20position:%20absolute;%20top:%2084px;%20width:%20120px;%20text-align:%20right;%20background-color:%20rgb(250,%20250,%20250);%20border-right:%201px%20solid%20rgb(233,%20233,%20233);%22&gt;579,953,030.70&lt;/div&gt;&lt;div%20class=%22css-1lzltx4-TableCell%22%20style=%22font-size:%2012px;%20height:%2028px;%20left:%20240px;%20padding:%204px%204px%203px;%20position:%20absolute;%20top:%2084px;%20width:%20120px;%20text-align:%20right;%20background-color:%20rgb(250,%20250,%20250);%20border-right:%201px%20solid%20rgb(233,%20233,%20233);%22&gt;0%0A&lt;/div&gt;&lt;div%20class=%22css-1lzltx4-TableCell%22%20style=%22font-size:%2012px;%20height:%2028px;%20left:%20360px;%20padding:%204px%204px%203px;%20position:%20absolute;%20top:%2084px;%20width:%20120px;%20text-align:%20right;%20background-color:%20rgb(250,%20250,%20250);%20border-right:%201px%20solid%20rgb(233,%20233,%20233);%22&gt;0&lt;/div&gt;&lt;div%20class=%22css-1lzltx4-TableCell%22%20style=%22font-size:%2012px;%20height:%2028px;%20left:%200px;%20padding:%204px%204px%203px;%20position:%20absolute;%20top:%20112px;%20width:%20120px;%20text-align:%20right;%20border-right:%201px%20solid%20rgb(233,%20233,%20233);%20border-top:%201px%20solid%20rgb(233,%20233,%20233);%22&gt;103.36&lt;/div&gt;&lt;div%20class=%22css-1lzltx4-TableCell%22%20style=%22font-size:%2012px;%20height:%2028px;%20left:%20120px;%20padding:%204px%204px%203px;%20position:%20absolute;%20top:%20112px;%20width:%20120px;%20text-align:%20right;%20border-right:%201px%20solid%20rgb(233,%20233,%20233);%20border-top:%201px%20solid%20rgb(233,%20233,%20233);%22&gt;1,796,452,534.90&lt;/div&gt;&lt;div%20class=%22css-1lzltx4-TableCell%22%20style=%22font-size:%2012px;%20height:%2028px;%20left:%20240px;%20padding:%204px%204px%203px;%20position:%20absolute;%20top:%20112px;%20width:%20120px;%20text-align:%20right;%20border-right:%201px%20solid%20rgb(233,%20233,%20233);%20border-top:%201px%20solid%20rgb(233,%20233,%20233);%22&gt;-40,829,945.69%0A&lt;/div&gt;&lt;div%20class=%22css-1lzltx4-TableCell%22%20style=%22font-size:%2012px;%20height:%2028px;%20left:%20360px;%20padding:%204px%204px%203px;%20position:%20absolute;%20top:%20112px;%20width:%20120px;%20text-align:%20right;%20border-right:%201px%20solid%20rgb(233,%20233,%20233);%20border-top:%201px%20solid%20rgb(233,%20233,%20233);%22&gt;0.88&lt;/div&gt;&lt;div%20class=%22css-1lzltx4-TableCell%22%20style=%22font-size:%2012px;%20height:%2028px;%20left:%200px;%20padding:%204px%204px%203px;%20position:%20absolute;%20top:%20140px;%20width:%20120px;%20text-align:%20right;%20background-color:%20rgb(250,%20250,%20250);%20border-right:%201px%20solid%20rgb(233,%20233,%20233);%22&gt;112.82&lt;/div&gt;&lt;div%20class=%22css-1lzltx4-TableCell%22%20style=%22font-size:%2012px;%20height:%2028px;%20left:%20120px;%20padding:%204px%204px%203px;%20position:%20absolute;%20top:%20140px;%20width:%20120px;%20text-align:%20right;%20background-color:%20rgb(250,%20250,%20250);%20border-right:%201px%20solid%20rgb(233,%20233,%20233);%22&gt;664,107,129.23&lt;/div&gt;&lt;div%20class=%22css-1lzltx4-TableCell%22%20style=%22font-size:%2012px;%20height:%2028px;%20left:%20240px;%20padding:%204px%204px%203px;%20position:%20absolute;%20top:%20140px;%20width:%20120px;%20text-align:%20right;%20background-color:%20rgb(250,%20250,%20250);%20border-right:%201px%20solid%20rgb(233,%20233,%20233);%22&gt;142,979,269.86%0A&lt;/div&gt;&lt;div%20class=%22css-1lzltx4-TableCell%22%20style=%22font-size:%2012px;%20height:%2028px;%20left:%20360px;%20padding:%204px%204px%203px;%20position:%20absolute;%20top:%20140px;%20width:%20120px;%20text-align:%20right;%20background-color:%20rgb(250,%20250,%20250);%20border-right:%201px%20solid%20rgb(233,%20233,%20233);%22&gt;8.84&lt;/div&gt;&lt;div%20class=%22css-1lzltx4-TableCell%22%20style=%22font-size:%2012px;%20height:%2028px;%20left:%200px;%20padding:%204px%204px%203px;%20position:%20absolute;%20top:%20168px;%20width:%20120px;%20text-align:%20right;%20border-right:%201px%20solid%20rgb(233,%20233,%20233);%22&gt;99.63&lt;/div&gt;&lt;div%20class=%22css-1lzltx4-TableCell%22%20style=%22font-size:%2012px;%20height:%2028px;%20left:%20120px;%20padding:%204px%204px%203px;%20position:%20absolute;%20top:%20168px;%20width:%20120px;%20text-align:%20right;%20border-right:%201px%20solid%20rgb(233,%20233,%20233);%22&gt;633,506,129.49&lt;/div&gt;&lt;div%20class=%22css-1lzltx4-TableCell%22%20style=%22font-size:%2012px;%20height:%2028px;%20left:%20240px;%20padding:%204px%204px%203px;%20position:%20absolute;%20top:%20168px;%20width:%20120px;%20text-align:%20right;%20border-right:%201px%20solid%20rgb(233,%20233,%20233);%22&gt;-102,695,461.03%0A&lt;/div&gt;&lt;div%20class=%22css-1lzltx4-TableCell%22%20style=%22font-size:%2012px;%20height:%2028px;%20left:%20360px;%20padding:%204px%204px%203px;%20position:%20absolute;%20top:%20168px;%20width:%20120px;%20text-align:%20right;%20border-right:%201px%20solid%20rgb(233,%20233,%20233);%22&gt;-4.15&lt;/div&gt;&lt;div%20class=%22css-1lzltx4-TableCell%22%20style=%22font-size:%2012px;%20height:%2028px;%20left:%200px;%20padding:%204px%204px%203px;%20position:%20absolute;%20top:%20196px;%20width:%20120px;%20text-align:%20right;%20background-color:%20rgb(250,%20250,%20250);%20border-right:%201px%20solid%20rgb(233,%20233,%20233);%22&gt;95.50&lt;/div&gt;&lt;div%20class=%22css-1lzltx4-TableCell%22%20style=%22font-size:%2012px;%20height:%2028px;%20left:%20120px;%20padding:%204px%204px%203px;%20position:%20absolute;%20top:%20196px;%20width:%20120px;%20text-align:%20right;%20background-color:%20rgb(250,%20250,%20250);%20border-right:%201px%20solid%20rgb(233,%20233,%20233);%22&gt;498,839,276.18&lt;/div&gt;&lt;div%20class=%22css-1lzltx4-TableCell%22%20style=%22font-size:%2012px;%20height:%2028px;%20left:%20240px;%20padding:%204px%204px%203px;%20position:%20absolute;%20top:%20196px;%20width:%20120px;%20text-align:%20right;%20background-color:%20rgb(250,%20250,%20250);%20border-right:%201px%20solid%20rgb(233,%20233,%20233);%22&gt;-81,113,754.52%0A&lt;/div&gt;&lt;div%20class=%22css-1lzltx4-TableCell%22%20style=%22font-size:%2012px;%20height:%2028px;%20left:%20360px;%20padding:%204px%204px%203px;%20position:%20absolute;%20top:%20196px;%20width:%20120px;%20text-align:%20right;%20background-color:%20rgb(250,%20250,%20250);%20border-right:%201px%20solid%20rgb(233,%20233,%20233);%22&gt;-3.98&lt;/div&gt;&lt;/div&gt;&lt;/div&gt;&lt;/div&gt;&lt;/div&gt;&lt;/div&gt;&lt;/div&gt;&lt;/div&gt;&lt;/div&gt;&lt;/div&gt;%3C/div%3E%3C/foreignObject%3E%3C/svg%3E\">"
      ],
      "text/plain": [
       "Open the notebook in JupyterLab with the atoti extension installed and enabled to start editing this widget."
      ]
     },
     "metadata": {},
     "output_type": "display_data"
    }
   ],
   "source": [
    "session.visualize(\"Results summary\")"
   ]
  },
  {
   "cell_type": "markdown",
   "metadata": {},
   "source": [
    "## Combining Scenarios"
   ]
  },
  {
   "cell_type": "code",
   "execution_count": 48,
   "metadata": {
    "atoti": {
     "widget": {
      "mapping": {
       "columns": [
        "ALL_MEASURES"
       ],
       "measures": [
        "[Measures].[Price Index]"
       ],
       "rows": []
      },
      "name": "Price index comparison across scenarios (per class)",
      "query": {
       "context": {
        "queriesResultLimit.intermediateSize": 1000000,
        "queriesResultLimit.transientSize": 10000000
       },
       "mdx": "SELECT NON EMPTY Crossjoin([Measures].[Price Index], [Epoch].[Epoch].[Branch].Members) ON COLUMNS, NON EMPTY Crossjoin([Measure Simulations].[Price Strategies].[Price Strategies].Members, Hierarchize(DrilldownLevel([classified_products].[Product Class].[ALL].[AllMember]))) ON ROWS FROM [products_cube] CELL PROPERTIES VALUE, FORMATTED_VALUE, BACK_COLOR, FORE_COLOR, FONT_FLAGS",
       "updateMode": "once"
      },
      "serverKey": "default",
      "widgetKey": "pivot-table"
     }
    }
   },
   "outputs": [
    {
     "data": {
      "application/vnd.atoti.v0+json": {
       "name": "Price index comparison across scenarios (per class)",
       "session": "Unnamed"
      },
      "text/html": [
       "<img src=\"data:image/svg+xml;charset=utf8,%3C?xml%20version=%221.0%22%20standalone=%22no%22?%3E%3Csvg%20xmlns=%22http://www.w3.org/2000/svg%22%20height=%22348%22%20width=%221087%22%3E%3CforeignObject%20width=%22100%25%22%20height=%22100%25%22%20x=%220%22%20y=%220%22%3E%3Cstyle%20type=%22text/css%22%3E.anticon%20%7Bdisplay:%20inline-block;%20color:%20inherit;%20font-style:%20normal;%20line-height:%200;%20text-align:%20center;%20text-transform:%20none;%20vertical-align:%20-0.125em;%20text-rendering:%20optimizelegibility;%20-webkit-font-smoothing:%20antialiased%7D%0A.anticon%20%3E%20*%20%7Bline-height:%201%7D%0A.anticon%20svg%20%7Bdisplay:%20inline-block%7D%0A.anticon%5Btabindex%5D%20%7Bcursor:%20pointer%7D%0A*,%20::before,%20::after%20%7Bbox-sizing:%20unset%7D%0A.ant-root%20%5Bclass%5E=%22ant-%22%5D,%20.ant-root%20%5Bclass*=%22ant-%22%5D,%20.ant-root%20%5Bclass%5E=%22ant-%22%5D%20*,%20.ant-root%20%5Bclass*=%22ant-%22%5D%20*,%20.ant-root%20%5Bclass%5E=%22ant-%22%5D%20::before,%20.ant-root%20%5Bclass*=%22ant-%22%5D%20::before,%20.ant-root%20%5Bclass%5E=%22ant-%22%5D%20::after,%20.ant-root%20%5Bclass*=%22ant-%22%5D%20::after%20%7Bbox-sizing:%20border-box%7D%0A.ant-root%20html,%20.ant-root%20%7Bwidth:%20100%25;%20height:%20100%25%7D%0A.ant-root%20*,%20.ant-root%20::before,%20.ant-root%20::after%20%7Bbox-sizing:%20border-box%7D%0A.ant-root%20%7Bmargin-top:%200px;%20margin-right:%200px;%20margin-bottom:%200px;%20margin-left:%200px;%20color:%20rgb(89,%2089,%2089);%20font-size:%2012px;%20font-family:%20-apple-system,%20BlinkMacSystemFont,%20%22Segoe%20UI%22,%20Roboto,%20%22Helvetica%20Neue%22,%20Arial,%20%22Noto%20Sans%22,%20sans-serif,%20%22Apple%20Color%20Emoji%22,%20%22Segoe%20UI%20Emoji%22,%20%22Segoe%20UI%20Symbol%22,%20%22Noto%20Color%20Emoji%22;%20font-variant-ligatures:%20normal;%20font-variant-numeric:%20tabular-nums;%20font-variant-east-asian:%20normal;%20font-variant-caps:%20normal;%20line-height:%201.66667;%20background-color:%20rgb(255,%20255,%20255);%20--antd-wave-shadow-color:%20undefined;%20--scroll-bar:%20undefined%7D%0A.ant-root%20svg:not(:root)%20%7Boverflow-x:%20hidden;%20overflow-y:%20hidden%7D%0A.ant-root%20.anticon%20%7Bdisplay:%20inline-block;%20color:%20inherit;%20font-style:%20normal;%20line-height:%200;%20text-align:%20center;%20text-transform:%20none;%20vertical-align:%20-0.125em;%20text-rendering:%20optimizelegibility;%20-webkit-font-smoothing:%20antialiased%7D%0A.ant-root%20.anticon%20%3E%20*%20%7Bline-height:%201%7D%0A.ant-root%20.anticon%20svg%20%7Bdisplay:%20inline-block%7D%0A.ant-root%20.anticon%5Btabindex%5D%20%7Bcursor:%20pointer%7D%0A.ant-root%20.ant-spin%20%7Bbox-sizing:%20border-box;%20margin-top:%200px;%20margin-right:%200px;%20margin-bottom:%200px;%20margin-left:%200px;%20padding-top:%200px;%20padding-right:%200px;%20padding-bottom:%200px;%20padding-left:%200px;%20font-size:%2012px;%20font-variant-ligatures:%20normal;%20font-variant-numeric:%20tabular-nums;%20font-variant-east-asian:%20normal;%20font-variant-caps:%20normal;%20line-height:%201.66667;%20list-style-position:%20initial;%20list-style-image:%20initial;%20list-style-type:%20none;%20position:%20absolute;%20display:%20none;%20color:%20rgb(0,%20174,%20239);%20text-align:%20center;%20vertical-align:%20middle;%20opacity:%200;%20transition-duration:%200.3s;%20transition-timing-function:%20cubic-bezier(0.78,%200.14,%200.15,%200.86);%20transition-delay:%200s;%20transition-property:%20transform%7D%0A.ant-root%20.ant-spin-spinning%20%7Bposition:%20static;%20display:%20inline-block;%20opacity:%201%7D%0A.ant-root%20.ant-spin-dot%20%7Bposition:%20relative;%20display:%20inline-block;%20font-size:%2020px;%20width:%201em;%20height:%201em%7D%0A.ant-root%20.ant-spin-dot-item%20%7Bposition:%20absolute;%20display:%20block;%20width:%209px;%20height:%209px;%20background-color:%20rgb(0,%20174,%20239);%20border-top-left-radius:%20100%25;%20border-top-right-radius:%20100%25;%20border-bottom-right-radius:%20100%25;%20border-bottom-left-radius:%20100%25;%20transform:%20scale(0.75);%20transform-origin:%2050%25%2050%25;%20opacity:%200.3;%20animation-duration:%201s;%20animation-timing-function:%20linear;%20animation-delay:%200s;%20animation-iteration-count:%20infinite;%20animation-direction:%20alternate;%20animation-fill-mode:%20none;%20animation-play-state:%20running;%20animation-name:%20antSpinMove%7D%0A.ant-root%20.ant-spin-dot-item:nth-child(1)%20%7Btop:%200px;%20left:%200px%7D%0A.ant-root%20.ant-spin-dot-item:nth-child(2)%20%7Btop:%200px;%20right:%200px;%20animation-delay:%200.4s%7D%0A.ant-root%20.ant-spin-dot-item:nth-child(3)%20%7Bright:%200px;%20bottom:%200px;%20animation-delay:%200.8s%7D%0A.ant-root%20.ant-spin-dot-item:nth-child(4)%20%7Bbottom:%200px;%20left:%200px;%20animation-delay:%201.2s%7D%0A.ant-root%20.ant-spin-dot-spin%20%7Btransform:%20rotate(45deg);%20animation-duration:%201.2s;%20animation-timing-function:%20linear;%20animation-delay:%200s;%20animation-iteration-count:%20infinite;%20animation-direction:%20normal;%20animation-fill-mode:%20none;%20animation-play-state:%20running;%20animation-name:%20antRotate%7D%0A.ant-root%20.ant-spin-lg%20.ant-spin-dot%20%7Bfont-size:%2032px%7D%0A.ant-root%20.ant-spin-lg%20.ant-spin-dot%20i%20%7Bwidth:%2014px;%20height:%2014px%7D%0A.css-12ebr42-AWidget%20%7Bheight:%20100%25%7D%0A.css-ck2xzt-Spinner%20%7B-webkit-box-align:%20center;%20align-items:%20center;%20background-image:%20initial;%20background-position-x:%20initial;%20background-position-y:%20initial;%20background-size:%20initial;%20background-repeat-x:%20initial;%20background-repeat-y:%20initial;%20background-attachment:%20initial;%20background-origin:%20initial;%20background-clip:%20initial;%20background-color:%20transparent;%20display:%20flex;%20height:%20100%25;%20-webkit-box-pack:%20center;%20justify-content:%20center;%20position:%20absolute;%20transition-duration:%20300ms;%20transition-timing-function:%20ease;%20transition-delay:%200s;%20transition-property:%20opacity;%20width:%20100%25;%20opacity:%200;%20pointer-events:%20none;%20z-index:%202%7D%0A.css-1e3kjgr-Spinner%20%7Bheight:%20100%25;%20position:%20relative%7D%0A.css-6s7z8y-Table%20%7Bpadding-bottom:%202px;%20padding-right:%202px;%20height:%20100%25%7D%0A.css-18k6uz5-Table%20%7Bcursor:%20cell;%20height:%20100%25;%20outline-color:%20initial;%20outline-style:%20none;%20outline-width:%20initial%7D%0A.css-16sdsf5-Table%20%7Bdisplay:%20flex;%20height:%20346px%7D%0A.css-1czfqxx%20%7Bheight:%2056px;%20overflow-x:%20hidden;%20overflow-y:%20hidden;%20position:%20relative;%20width:%20240px%7D%0A.css-sazb3v-Table%20%7Bwidth:%20845px;%20border-collapse:%20collapse%7D%0A.css-17s3v70%20%7Bheight:%20224px;%20overflow-x:%20hidden;%20overflow-y:%20hidden;%20position:%20relative;%20width:%20240px;%20border-top-width:%202px;%20border-top-style:%20solid;%20border-top-color:%20rgb(233,%20233,%20233);%20border-right-width:%202px;%20border-right-style:%20solid;%20border-right-color:%20rgb(233,%20233,%20233)%7D%0A.css-1kndo9a-Table%20%7Bborder-collapse:%20collapse;%20height:%2056px;%20width:%20240px%7D%0A.css-cjpoh6%20%7Bheight:%2056px;%20width:%20240px%7D%0A.css-1mi492c%20%7Bheight:%2056px;%20overflow-x:%20hidden;%20overflow-y:%20hidden;%20position:%20relative;%20width:%20240px;%20border-right-width:%202px;%20border-right-style:%20solid;%20border-right-color:%20rgb(233,%20233,%20233)%7D%0A.css-1a6sp4f%20%7Bheight:%20290px;%20width:%20240px;%20overflow-x:%20hidden;%20overflow-y:%20auto%7D%0A.css-1xf46sv%20%7Bheight:%2056px;%20width:%20827px;%20overflow-x:%20auto;%20overflow-y:%20hidden%7D%0A.css-36otf9%20%7Bheight:%20290px;%20width:%20845px;%20overflow-x:%20auto;%20overflow-y:%20auto%7D%0A.css-1tu6fpd%20%7Bheight:%20224px;%20overflow-x:%20hidden;%20overflow-y:%20hidden;%20position:%20relative;%20width:%20240px;%20border-top-width:%202px;%20border-top-style:%20solid;%20border-top-color:%20rgb(233,%20233,%20233)%7D%0A*%20%7B-ms-overflow-style:%20none;%20scrollbar-width:%20none%7D%0A*::-webkit-scrollbar%20%7Bdisplay:%20none%7D%3C/style%3E%3Cdiv%20xmlns=%22http://www.w3.org/1999/xhtml%22%20style=%22height:%20348px;%20width:%201087px;%22%3E&lt;div%20xmlns=%22http://www.w3.org/1999/xhtml%22%20class=%22ant-root%20css-0%22&gt;&lt;div%20class=%22ant-dropdown-trigger%20css-12ebr42-AWidget%22&gt;&lt;div%20class=%22css-1e3kjgr-Spinner%22&gt;&lt;div%20class=%22css-ck2xzt-Spinner%22&gt;&lt;div%20class=%22ant-spin%20ant-spin-lg%20ant-spin-spinning%22&gt;&lt;span%20class=%22ant-spin-dot%20ant-spin-dot-spin%22&gt;&lt;i%20class=%22ant-spin-dot-item%22&gt;&lt;/i&gt;&lt;i%20class=%22ant-spin-dot-item%22&gt;&lt;/i&gt;&lt;i%20class=%22ant-spin-dot-item%22&gt;&lt;/i&gt;&lt;i%20class=%22ant-spin-dot-item%22&gt;&lt;/i&gt;&lt;/span&gt;&lt;/div&gt;&lt;/div&gt;&lt;div%20class=%22css-6s7z8y-Table%22&gt;&lt;div%20tabindex=%220%22%20class=%22css-18k6uz5-Table%22&gt;&lt;div%20class=%22css-16sdsf5-Table%22&gt;&lt;div%20class=%22css-1kndo9a-Table%22&gt;&lt;div%20class=%22css-cjpoh6%22&gt;&lt;div%20class=%22css-1mi492c%22&gt;&lt;div%20style=%22font-size:%2012px;%20height:%2028px;%20left:%200px;%20padding:%204px%204px%203px;%20position:%20absolute;%20top:%200px;%20width:%20120px;%20font-weight:%20600;%22&gt;Price%20Strategies&lt;/div&gt;&lt;div%20style=%22font-size:%2012px;%20height:%2028px;%20left:%20120px;%20padding:%204px%204px%203px;%20position:%20absolute;%20top:%200px;%20width:%20120px;%20font-weight:%20600;%22&gt;Product%20Class&lt;/div&gt;&lt;div%20style=%22font-size:%2012px;%20height:%2028px;%20left:%200px;%20padding:%204px%204px%203px;%20position:%20absolute;%20top:%2028px;%20width:%20120px;%20font-weight:%20600;%22&gt;&lt;/div&gt;&lt;div%20style=%22font-size:%2012px;%20height:%2028px;%20left:%20120px;%20padding:%204px%204px%203px;%20position:%20absolute;%20top:%2028px;%20width:%20120px;%20font-weight:%20600;%22&gt;&lt;/div&gt;&lt;/div&gt;&lt;/div&gt;&lt;div%20class=%22css-1a6sp4f%22&gt;&lt;div%20class=%22css-17s3v70%22&gt;&lt;div%20style=%22overflow:%20hidden;%20display:%20flex;%20align-items:%20center;%20font-size:%2012px;%20height:%2028px;%20left:%200px;%20padding:%204px%204px%203px;%20position:%20absolute;%20top:%200px;%20width:%20120px;%20font-weight:%20600;%22&gt;&lt;span%20style=%22text-overflow:%20ellipsis;%20overflow:%20hidden;%20white-space:%20nowrap;%20max-width:%20calc((100%25%20-%200px)%20-%200px);%22&gt;Base&lt;/span&gt;&lt;div%20style=%22height:%20100%25;%20margin-left:%206px;%22&gt;&lt;/div&gt;&lt;/div&gt;&lt;div%20style=%22overflow:%20hidden;%20display:%20flex;%20align-items:%20center;%20font-size:%2012px;%20height:%2028px;%20left:%20120px;%20padding:%204px%204px%203px;%20position:%20absolute;%20top:%200px;%20width:%20120px;%20border-right:%202px%20solid%20rgb(233,%20233,%20233);%22&gt;&lt;span%20style=%22text-overflow:%20ellipsis;%20overflow:%20hidden;%20white-space:%20nowrap;%20max-width:%20calc((100%25%20-%200px)%20-%200px);%22&gt;&lt;/span&gt;&lt;div%20style=%22height:%20100%25;%20margin-left:%206px;%22&gt;&lt;/div&gt;&lt;/div&gt;&lt;div%20style=%22overflow:%20hidden;%20display:%20none;%20align-items:%20center;%20font-size:%2012px;%20height:%2028px;%20left:%200px;%20padding:%204px%204px%203px;%20position:%20absolute;%20top:%2028px;%20width:%20120px;%20font-weight:%20600;%22&gt;&lt;span%20role=%22img%22%20aria-label=%22right%22%20tabindex=%22-1%22%20class=%22anticon%20anticon-right%22%20style=%22cursor:%20pointer;%20font-size:%2010px;%20margin-right:%206px;%22&gt;&lt;svg%20xmlns=%22http://www.w3.org/2000/svg%22%20viewBox=%2264%2064%20896%20896%22%20focusable=%22false%22%20class=%22%22%20data-icon=%22right%22%20width=%221em%22%20height=%221em%22%20fill=%22currentColor%22%20aria-hidden=%22true%22&gt;&lt;path%20d=%22M765.7%20486.8L314.9%20134.7A7.97%207.97%200%2000302%20141v77.3c0%204.9%202.3%209.6%206.1%2012.6l360%20281.1-360%20281.1c-3.9%203-6.1%207.7-6.1%2012.6V883c0%206.7%207.7%2010.4%2012.9%206.3l450.8-352.1a31.96%2031.96%200%20000-50.4z%22/&gt;&lt;/svg&gt;&lt;/span&gt;&lt;span%20style=%22text-overflow:%20ellipsis;%20overflow:%20hidden;%20white-space:%20nowrap;%20max-width:%20calc((100%25%20-%2016px)%20-%200px);%22&gt;Base&lt;/span&gt;&lt;div%20style=%22height:%20100%25;%20margin-left:%206px;%22&gt;&lt;/div&gt;&lt;/div&gt;&lt;div%20style=%22overflow:%20hidden;%20display:%20flex;%20align-items:%20center;%20font-size:%2012px;%20height:%2028px;%20left:%20120px;%20padding:%204px%204px%203px;%20position:%20absolute;%20top:%2028px;%20width:%20120px;%20background-color:%20rgb(250,%20250,%20250);%20border-right:%202px%20solid%20rgb(233,%20233,%20233);%22&gt;&lt;span%20style=%22text-overflow:%20ellipsis;%20overflow:%20hidden;%20white-space:%20nowrap;%20max-width:%20calc((100%25%20-%200px)%20-%200px);%22&gt;Complementary&lt;/span&gt;&lt;div%20style=%22height:%20100%25;%20margin-left:%206px;%22&gt;&lt;/div&gt;&lt;/div&gt;&lt;div%20style=%22overflow:%20hidden;%20display:%20none;%20align-items:%20center;%20font-size:%2012px;%20height:%2028px;%20left:%200px;%20padding:%204px%204px%203px;%20position:%20absolute;%20top:%2056px;%20width:%20120px;%20font-weight:%20600;%22&gt;&lt;span%20role=%22img%22%20aria-label=%22right%22%20tabindex=%22-1%22%20class=%22anticon%20anticon-right%22%20style=%22cursor:%20pointer;%20font-size:%2010px;%20margin-right:%206px;%22&gt;&lt;svg%20xmlns=%22http://www.w3.org/2000/svg%22%20viewBox=%2264%2064%20896%20896%22%20focusable=%22false%22%20class=%22%22%20data-icon=%22right%22%20width=%221em%22%20height=%221em%22%20fill=%22currentColor%22%20aria-hidden=%22true%22&gt;&lt;path%20d=%22M765.7%20486.8L314.9%20134.7A7.97%207.97%200%2000302%20141v77.3c0%204.9%202.3%209.6%206.1%2012.6l360%20281.1-360%20281.1c-3.9%203-6.1%207.7-6.1%2012.6V883c0%206.7%207.7%2010.4%2012.9%206.3l450.8-352.1a31.96%2031.96%200%20000-50.4z%22/&gt;&lt;/svg&gt;&lt;/span&gt;&lt;span%20style=%22text-overflow:%20ellipsis;%20overflow:%20hidden;%20white-space:%20nowrap;%20max-width:%20calc((100%25%20-%2016px)%20-%200px);%22&gt;Base&lt;/span&gt;&lt;div%20style=%22height:%20100%25;%20margin-left:%206px;%22&gt;&lt;/div&gt;&lt;/div&gt;&lt;div%20style=%22overflow:%20hidden;%20display:%20flex;%20align-items:%20center;%20font-size:%2012px;%20height:%2028px;%20left:%20120px;%20padding:%204px%204px%203px;%20position:%20absolute;%20top:%2056px;%20width:%20120px;%20border-right:%202px%20solid%20rgb(233,%20233,%20233);%22&gt;&lt;span%20style=%22text-overflow:%20ellipsis;%20overflow:%20hidden;%20white-space:%20nowrap;%20max-width:%20calc((100%25%20-%200px)%20-%200px);%22&gt;Driver&lt;/span&gt;&lt;div%20style=%22height:%20100%25;%20margin-left:%206px;%22&gt;&lt;/div&gt;&lt;/div&gt;&lt;div%20style=%22overflow:%20hidden;%20display:%20none;%20align-items:%20center;%20font-size:%2012px;%20height:%2028px;%20left:%200px;%20padding:%204px%204px%203px;%20position:%20absolute;%20top:%2084px;%20width:%20120px;%20font-weight:%20600;%22&gt;&lt;span%20role=%22img%22%20aria-label=%22right%22%20tabindex=%22-1%22%20class=%22anticon%20anticon-right%22%20style=%22cursor:%20pointer;%20font-size:%2010px;%20margin-right:%206px;%22&gt;&lt;svg%20xmlns=%22http://www.w3.org/2000/svg%22%20viewBox=%2264%2064%20896%20896%22%20focusable=%22false%22%20class=%22%22%20data-icon=%22right%22%20width=%221em%22%20height=%221em%22%20fill=%22currentColor%22%20aria-hidden=%22true%22&gt;&lt;path%20d=%22M765.7%20486.8L314.9%20134.7A7.97%207.97%200%2000302%20141v77.3c0%204.9%202.3%209.6%206.1%2012.6l360%20281.1-360%20281.1c-3.9%203-6.1%207.7-6.1%2012.6V883c0%206.7%207.7%2010.4%2012.9%206.3l450.8-352.1a31.96%2031.96%200%20000-50.4z%22/&gt;&lt;/svg&gt;&lt;/span&gt;&lt;span%20style=%22text-overflow:%20ellipsis;%20overflow:%20hidden;%20white-space:%20nowrap;%20max-width:%20calc((100%25%20-%2016px)%20-%200px);%22&gt;Base&lt;/span&gt;&lt;div%20style=%22height:%20100%25;%20margin-left:%206px;%22&gt;&lt;/div&gt;&lt;/div&gt;&lt;div%20style=%22overflow:%20hidden;%20display:%20flex;%20align-items:%20center;%20font-size:%2012px;%20height:%2028px;%20left:%20120px;%20padding:%204px%204px%203px;%20position:%20absolute;%20top:%2084px;%20width:%20120px;%20background-color:%20rgb(250,%20250,%20250);%20border-right:%202px%20solid%20rgb(233,%20233,%20233);%22&gt;&lt;span%20style=%22text-overflow:%20ellipsis;%20overflow:%20hidden;%20white-space:%20nowrap;%20max-width:%20calc((100%25%20-%200px)%20-%200px);%22&gt;Independent&lt;/span&gt;&lt;div%20style=%22height:%20100%25;%20margin-left:%206px;%22&gt;&lt;/div&gt;&lt;/div&gt;&lt;div%20style=%22overflow:%20hidden;%20display:%20flex;%20align-items:%20center;%20font-size:%2012px;%20height:%2028px;%20left:%200px;%20padding:%204px%204px%203px;%20position:%20absolute;%20top:%20112px;%20width:%20120px;%20border-top:%201px%20solid%20rgb(233,%20233,%20233);%20font-weight:%20600;%22&gt;&lt;span%20style=%22text-overflow:%20ellipsis;%20overflow:%20hidden;%20white-space:%20nowrap;%20max-width:%20calc((100%25%20-%200px)%20-%200px);%22&gt;10%25%20complementary%20increase&lt;/span&gt;&lt;div%20style=%22height:%20100%25;%20margin-left:%206px;%22&gt;&lt;/div&gt;&lt;/div&gt;&lt;div%20style=%22overflow:%20hidden;%20display:%20flex;%20align-items:%20center;%20font-size:%2012px;%20height:%2028px;%20left:%20120px;%20padding:%204px%204px%203px;%20position:%20absolute;%20top:%20112px;%20width:%20120px;%20border-right:%202px%20solid%20rgb(233,%20233,%20233);%20border-top:%201px%20solid%20rgb(233,%20233,%20233);%22&gt;&lt;span%20style=%22text-overflow:%20ellipsis;%20overflow:%20hidden;%20white-space:%20nowrap;%20max-width:%20calc((100%25%20-%200px)%20-%200px);%22&gt;&lt;/span&gt;&lt;div%20style=%22height:%20100%25;%20margin-left:%206px;%22&gt;&lt;/div&gt;&lt;/div&gt;&lt;div%20style=%22overflow:%20hidden;%20display:%20none;%20align-items:%20center;%20font-size:%2012px;%20height:%2028px;%20left:%200px;%20padding:%204px%204px%203px;%20position:%20absolute;%20top:%20140px;%20width:%20120px;%20font-weight:%20600;%22&gt;&lt;span%20role=%22img%22%20aria-label=%22right%22%20tabindex=%22-1%22%20class=%22anticon%20anticon-right%22%20style=%22cursor:%20pointer;%20font-size:%2010px;%20margin-right:%206px;%22&gt;&lt;svg%20xmlns=%22http://www.w3.org/2000/svg%22%20viewBox=%2264%2064%20896%20896%22%20focusable=%22false%22%20class=%22%22%20data-icon=%22right%22%20width=%221em%22%20height=%221em%22%20fill=%22currentColor%22%20aria-hidden=%22true%22&gt;&lt;path%20d=%22M765.7%20486.8L314.9%20134.7A7.97%207.97%200%2000302%20141v77.3c0%204.9%202.3%209.6%206.1%2012.6l360%20281.1-360%20281.1c-3.9%203-6.1%207.7-6.1%2012.6V883c0%206.7%207.7%2010.4%2012.9%206.3l450.8-352.1a31.96%2031.96%200%20000-50.4z%22/&gt;&lt;/svg&gt;&lt;/span&gt;&lt;span%20style=%22text-overflow:%20ellipsis;%20overflow:%20hidden;%20white-space:%20nowrap;%20max-width:%20calc((100%25%20-%2016px)%20-%200px);%22&gt;10%25%20complementary%20increase&lt;/span&gt;&lt;div%20style=%22height:%20100%25;%20margin-left:%206px;%22&gt;&lt;/div&gt;&lt;/div&gt;&lt;div%20style=%22overflow:%20hidden;%20display:%20flex;%20align-items:%20center;%20font-size:%2012px;%20height:%2028px;%20left:%20120px;%20padding:%204px%204px%203px;%20position:%20absolute;%20top:%20140px;%20width:%20120px;%20background-color:%20rgb(250,%20250,%20250);%20border-right:%202px%20solid%20rgb(233,%20233,%20233);%22&gt;&lt;span%20style=%22text-overflow:%20ellipsis;%20overflow:%20hidden;%20white-space:%20nowrap;%20max-width:%20calc((100%25%20-%200px)%20-%200px);%22&gt;Complementary&lt;/span&gt;&lt;div%20style=%22height:%20100%25;%20margin-left:%206px;%22&gt;&lt;/div&gt;&lt;/div&gt;&lt;div%20style=%22overflow:%20hidden;%20display:%20none;%20align-items:%20center;%20font-size:%2012px;%20height:%2028px;%20left:%200px;%20padding:%204px%204px%203px;%20position:%20absolute;%20top:%20168px;%20width:%20120px;%20font-weight:%20600;%22&gt;&lt;span%20role=%22img%22%20aria-label=%22right%22%20tabindex=%22-1%22%20class=%22anticon%20anticon-right%22%20style=%22cursor:%20pointer;%20font-size:%2010px;%20margin-right:%206px;%22&gt;&lt;svg%20xmlns=%22http://www.w3.org/2000/svg%22%20viewBox=%2264%2064%20896%20896%22%20focusable=%22false%22%20class=%22%22%20data-icon=%22right%22%20width=%221em%22%20height=%221em%22%20fill=%22currentColor%22%20aria-hidden=%22true%22&gt;&lt;path%20d=%22M765.7%20486.8L314.9%20134.7A7.97%207.97%200%2000302%20141v77.3c0%204.9%202.3%209.6%206.1%2012.6l360%20281.1-360%20281.1c-3.9%203-6.1%207.7-6.1%2012.6V883c0%206.7%207.7%2010.4%2012.9%206.3l450.8-352.1a31.96%2031.96%200%20000-50.4z%22/&gt;&lt;/svg&gt;&lt;/span&gt;&lt;span%20style=%22text-overflow:%20ellipsis;%20overflow:%20hidden;%20white-space:%20nowrap;%20max-width:%20calc((100%25%20-%2016px)%20-%200px);%22&gt;10%25%20complementary%20increase&lt;/span&gt;&lt;div%20style=%22height:%20100%25;%20margin-left:%206px;%22&gt;&lt;/div&gt;&lt;/div&gt;&lt;div%20style=%22overflow:%20hidden;%20display:%20flex;%20align-items:%20center;%20font-size:%2012px;%20height:%2028px;%20left:%20120px;%20padding:%204px%204px%203px;%20position:%20absolute;%20top:%20168px;%20width:%20120px;%20border-right:%202px%20solid%20rgb(233,%20233,%20233);%22&gt;&lt;span%20style=%22text-overflow:%20ellipsis;%20overflow:%20hidden;%20white-space:%20nowrap;%20max-width:%20calc((100%25%20-%200px)%20-%200px);%22&gt;Driver&lt;/span&gt;&lt;div%20style=%22height:%20100%25;%20margin-left:%206px;%22&gt;&lt;/div&gt;&lt;/div&gt;&lt;div%20style=%22overflow:%20hidden;%20display:%20none;%20align-items:%20center;%20font-size:%2012px;%20height:%2028px;%20left:%200px;%20padding:%204px%204px%203px;%20position:%20absolute;%20top:%20196px;%20width:%20120px;%20font-weight:%20600;%22&gt;&lt;span%20role=%22img%22%20aria-label=%22right%22%20tabindex=%22-1%22%20class=%22anticon%20anticon-right%22%20style=%22cursor:%20pointer;%20font-size:%2010px;%20margin-right:%206px;%22&gt;&lt;svg%20xmlns=%22http://www.w3.org/2000/svg%22%20viewBox=%2264%2064%20896%20896%22%20focusable=%22false%22%20class=%22%22%20data-icon=%22right%22%20width=%221em%22%20height=%221em%22%20fill=%22currentColor%22%20aria-hidden=%22true%22&gt;&lt;path%20d=%22M765.7%20486.8L314.9%20134.7A7.97%207.97%200%2000302%20141v77.3c0%204.9%202.3%209.6%206.1%2012.6l360%20281.1-360%20281.1c-3.9%203-6.1%207.7-6.1%2012.6V883c0%206.7%207.7%2010.4%2012.9%206.3l450.8-352.1a31.96%2031.96%200%20000-50.4z%22/&gt;&lt;/svg&gt;&lt;/span&gt;&lt;span%20style=%22text-overflow:%20ellipsis;%20overflow:%20hidden;%20white-space:%20nowrap;%20max-width:%20calc((100%25%20-%2016px)%20-%200px);%22&gt;10%25%20complementary%20increase&lt;/span&gt;&lt;div%20style=%22height:%20100%25;%20margin-left:%206px;%22&gt;&lt;/div&gt;&lt;/div&gt;&lt;div%20style=%22overflow:%20hidden;%20display:%20flex;%20align-items:%20center;%20font-size:%2012px;%20height:%2028px;%20left:%20120px;%20padding:%204px%204px%203px;%20position:%20absolute;%20top:%20196px;%20width:%20120px;%20background-color:%20rgb(250,%20250,%20250);%20border-right:%202px%20solid%20rgb(233,%20233,%20233);%22&gt;&lt;span%20style=%22text-overflow:%20ellipsis;%20overflow:%20hidden;%20white-space:%20nowrap;%20max-width:%20calc((100%25%20-%200px)%20-%200px);%22&gt;Independent&lt;/span&gt;&lt;div%20style=%22height:%20100%25;%20margin-left:%206px;%22&gt;&lt;/div&gt;&lt;/div&gt;&lt;/div&gt;&lt;/div&gt;&lt;/div&gt;&lt;div%20class=%22css-sazb3v-Table%22&gt;&lt;div%20class=%22css-1xf46sv%22&gt;&lt;div%20class=%22css-1czfqxx%22&gt;&lt;div%20style=%22overflow:%20hidden;%20display:%20flex;%20align-items:%20center;%20font-size:%2012px;%20height:%2028px;%20left:%200px;%20padding:%204px%204px%203px;%20position:%20absolute;%20top:%200px;%20width:%20120px;%20font-weight:%20600;%22&gt;&lt;span%20style=%22text-overflow:%20ellipsis;%20overflow:%20hidden;%20white-space:%20nowrap;%20max-width:%20calc((100%25%20-%200px)%20-%200px);%22&gt;Price%20Index&lt;/span&gt;&lt;div%20style=%22height:%20100%25;%20margin-left:%206px;%22&gt;&lt;/div&gt;&lt;/div&gt;&lt;div%20style=%22overflow:%20hidden;%20display:%20none;%20align-items:%20center;%20font-size:%2012px;%20height:%2028px;%20left:%20120px;%20padding:%204px%204px%203px;%20position:%20absolute;%20top:%200px;%20width:%20120px;%20font-weight:%20600;%22&gt;&lt;span%20style=%22text-overflow:%20ellipsis;%20overflow:%20hidden;%20white-space:%20nowrap;%20max-width:%20calc((100%25%20-%200px)%20-%200px);%22&gt;Price%20Index&lt;/span&gt;&lt;div%20style=%22height:%20100%25;%20margin-left:%206px;%22&gt;&lt;/div&gt;&lt;/div&gt;&lt;div%20style=%22overflow:%20hidden;%20display:%20flex;%20align-items:%20center;%20font-size:%2012px;%20height:%2028px;%20left:%200px;%20padding:%204px%204px%203px;%20position:%20absolute;%20top:%2028px;%20width:%20120px;%20font-weight:%20600;%22&gt;&lt;span%20style=%22text-overflow:%20ellipsis;%20overflow:%20hidden;%20white-space:%20nowrap;%20max-width:%20calc((100%25%20-%200px)%20-%200px);%22&gt;Base&lt;/span&gt;&lt;div%20style=%22height:%20100%25;%20margin-left:%206px;%22&gt;&lt;/div&gt;&lt;/div&gt;&lt;div%20style=%22overflow:%20hidden;%20display:%20flex;%20align-items:%20center;%20font-size:%2012px;%20height:%2028px;%20left:%20120px;%20padding:%204px%204px%203px;%20position:%20absolute;%20top:%2028px;%20width:%20120px;%20font-weight:%20600;%22&gt;&lt;span%20style=%22text-overflow:%20ellipsis;%20overflow:%20hidden;%20white-space:%20nowrap;%20max-width:%20calc((100%25%20-%200px)%20-%200px);%22&gt;Optimized%20price%20index&lt;/span&gt;&lt;div%20style=%22height:%20100%25;%20margin-left:%206px;%22&gt;&lt;/div&gt;&lt;/div&gt;&lt;/div&gt;&lt;/div&gt;&lt;div%20class=%22css-36otf9%22&gt;&lt;div%20class=%22css-1tu6fpd%22&gt;&lt;div%20class=%22css-1lzltx4-TableCell%22%20style=%22font-size:%2012px;%20height:%2028px;%20left:%200px;%20padding:%204px%204px%203px;%20position:%20absolute;%20top:%200px;%20width:%20120px;%20text-align:%20right;%20border-right:%201px%20solid%20rgb(233,%20233,%20233);%22&gt;102.48&lt;/div&gt;&lt;div%20class=%22css-1lzltx4-TableCell%22%20style=%22font-size:%2012px;%20height:%2028px;%20left:%20120px;%20padding:%204px%204px%203px;%20position:%20absolute;%20top:%200px;%20width:%20120px;%20text-align:%20right;%20border-right:%201px%20solid%20rgb(233,%20233,%20233);%22&gt;103.36&lt;/div&gt;&lt;div%20class=%22css-1lzltx4-TableCell%22%20style=%22font-size:%2012px;%20height:%2028px;%20left:%200px;%20padding:%204px%204px%203px;%20position:%20absolute;%20top:%2028px;%20width:%20120px;%20text-align:%20right;%20background-color:%20rgb(250,%20250,%20250);%20border-right:%201px%20solid%20rgb(233,%20233,%20233);%22&gt;103.99&lt;/div&gt;&lt;div%20class=%22css-1lzltx4-TableCell%22%20style=%22font-size:%2012px;%20height:%2028px;%20left:%20120px;%20padding:%204px%204px%203px;%20position:%20absolute;%20top:%2028px;%20width:%20120px;%20text-align:%20right;%20background-color:%20rgb(250,%20250,%20250);%20border-right:%201px%20solid%20rgb(233,%20233,%20233);%22&gt;112.82&lt;/div&gt;&lt;div%20class=%22css-1lzltx4-TableCell%22%20style=%22font-size:%2012px;%20height:%2028px;%20left:%200px;%20padding:%204px%204px%203px;%20position:%20absolute;%20top:%2056px;%20width:%20120px;%20text-align:%20right;%20border-right:%201px%20solid%20rgb(233,%20233,%20233);%22&gt;103.78&lt;/div&gt;&lt;div%20class=%22css-1lzltx4-TableCell%22%20style=%22font-size:%2012px;%20height:%2028px;%20left:%20120px;%20padding:%204px%204px%203px;%20position:%20absolute;%20top:%2056px;%20width:%20120px;%20text-align:%20right;%20border-right:%201px%20solid%20rgb(233,%20233,%20233);%22&gt;99.63&lt;/div&gt;&lt;div%20class=%22css-1lzltx4-TableCell%22%20style=%22font-size:%2012px;%20height:%2028px;%20left:%200px;%20padding:%204px%204px%203px;%20position:%20absolute;%20top:%2084px;%20width:%20120px;%20text-align:%20right;%20background-color:%20rgb(250,%20250,%20250);%20border-right:%201px%20solid%20rgb(233,%20233,%20233);%22&gt;99.48&lt;/div&gt;&lt;div%20class=%22css-1lzltx4-TableCell%22%20style=%22font-size:%2012px;%20height:%2028px;%20left:%20120px;%20padding:%204px%204px%203px;%20position:%20absolute;%20top:%2084px;%20width:%20120px;%20text-align:%20right;%20background-color:%20rgb(250,%20250,%20250);%20border-right:%201px%20solid%20rgb(233,%20233,%20233);%22&gt;95.50&lt;/div&gt;&lt;div%20class=%22css-1lzltx4-TableCell%22%20style=%22font-size:%2012px;%20height:%2028px;%20left:%200px;%20padding:%204px%204px%203px;%20position:%20absolute;%20top:%20112px;%20width:%20120px;%20text-align:%20right;%20border-right:%201px%20solid%20rgb(233,%20233,%20233);%20border-top:%201px%20solid%20rgb(233,%20233,%20233);%22&gt;106.18&lt;/div&gt;&lt;div%20class=%22css-1lzltx4-TableCell%22%20style=%22font-size:%2012px;%20height:%2028px;%20left:%20120px;%20padding:%204px%204px%203px;%20position:%20absolute;%20top:%20112px;%20width:%20120px;%20text-align:%20right;%20border-right:%201px%20solid%20rgb(233,%20233,%20233);%20border-top:%201px%20solid%20rgb(233,%20233,%20233);%22&gt;109.06&lt;/div&gt;&lt;div%20class=%22css-1lzltx4-TableCell%22%20style=%22font-size:%2012px;%20height:%2028px;%20left:%200px;%20padding:%204px%204px%203px;%20position:%20absolute;%20top:%20140px;%20width:%20120px;%20text-align:%20right;%20background-color:%20rgb(250,%20250,%20250);%20border-right:%201px%20solid%20rgb(233,%20233,%20233);%22&gt;114.38&lt;/div&gt;&lt;div%20class=%22css-1lzltx4-TableCell%22%20style=%22font-size:%2012px;%20height:%2028px;%20left:%20120px;%20padding:%204px%204px%203px;%20position:%20absolute;%20top:%20140px;%20width:%20120px;%20text-align:%20right;%20background-color:%20rgb(250,%20250,%20250);%20border-right:%201px%20solid%20rgb(233,%20233,%20233);%22&gt;124.11&lt;/div&gt;&lt;div%20class=%22css-1lzltx4-TableCell%22%20style=%22font-size:%2012px;%20height:%2028px;%20left:%200px;%20padding:%204px%204px%203px;%20position:%20absolute;%20top:%20168px;%20width:%20120px;%20text-align:%20right;%20border-right:%201px%20solid%20rgb(233,%20233,%20233);%22&gt;103.78&lt;/div&gt;&lt;div%20class=%22css-1lzltx4-TableCell%22%20style=%22font-size:%2012px;%20height:%2028px;%20left:%20120px;%20padding:%204px%204px%203px;%20position:%20absolute;%20top:%20168px;%20width:%20120px;%20text-align:%20right;%20border-right:%201px%20solid%20rgb(233,%20233,%20233);%22&gt;99.63&lt;/div&gt;&lt;div%20class=%22css-1lzltx4-TableCell%22%20style=%22font-size:%2012px;%20height:%2028px;%20left:%200px;%20padding:%204px%204px%203px;%20position:%20absolute;%20top:%20196px;%20width:%20120px;%20text-align:%20right;%20background-color:%20rgb(250,%20250,%20250);%20border-right:%201px%20solid%20rgb(233,%20233,%20233);%22&gt;99.48&lt;/div&gt;&lt;div%20class=%22css-1lzltx4-TableCell%22%20style=%22font-size:%2012px;%20height:%2028px;%20left:%20120px;%20padding:%204px%204px%203px;%20position:%20absolute;%20top:%20196px;%20width:%20120px;%20text-align:%20right;%20background-color:%20rgb(250,%20250,%20250);%20border-right:%201px%20solid%20rgb(233,%20233,%20233);%22&gt;95.50&lt;/div&gt;&lt;/div&gt;&lt;/div&gt;&lt;/div&gt;&lt;/div&gt;&lt;/div&gt;&lt;/div&gt;&lt;/div&gt;&lt;/div&gt;&lt;/div&gt;%3C/div%3E%3C/foreignObject%3E%3C/svg%3E\">"
      ],
      "text/plain": [
       "Open the notebook in JupyterLab with the atoti extension installed and enabled to start editing this widget."
      ]
     },
     "metadata": {},
     "output_type": "display_data"
    }
   ],
   "source": [
    "session.visualize(\"Price index comparison across scenarios (per class)\")"
   ]
  },
  {
   "cell_type": "markdown",
   "metadata": {},
   "source": [
    "You can also have a look at our second summary dashboard of the simulation part (run the next cell to get the link)"
   ]
  },
  {
   "cell_type": "code",
   "execution_count": 49,
   "metadata": {},
   "outputs": [
    {
     "data": {
      "text/plain": [
       "'http://localhost:58025/#/dashboard/a17'"
      ]
     },
     "execution_count": 49,
     "metadata": {},
     "output_type": "execute_result"
    }
   ],
   "source": [
    "session.url + \"/#/dashboard/a17\""
   ]
  }
 ],
 "metadata": {
  "kernelspec": {
   "display_name": "Python 3",
   "language": "python",
   "name": "python3"
  },
  "language_info": {
   "codemirror_mode": {
    "name": "ipython",
    "version": 3
   },
   "file_extension": ".py",
   "mimetype": "text/x-python",
   "name": "python",
   "nbconvert_exporter": "python",
   "pygments_lexer": "ipython3",
   "version": "3.9.1"
  }
 },
 "nbformat": 4,
 "nbformat_minor": 4
}
