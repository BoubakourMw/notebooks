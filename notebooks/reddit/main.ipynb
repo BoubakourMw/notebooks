{
 "cells": [
  {
   "cell_type": "markdown",
   "metadata": {
    "execution": {
     "iopub.status.idle": "2020-07-23T05:31:14.898946Z",
     "shell.execute_reply": "2020-07-23T05:31:14.897998Z",
     "shell.execute_reply.started": "2020-07-23T05:31:13.964682Z"
    }
   },
   "source": [
    "# NLP exploration with Reddit data\n",
    "\n",
    "I came across this old article about [Creating a Data Table using Data from Reddit](https://medium.com/swlh/dashboards-in-python-using-dash-creating-a-data-table-using-data-from-reddit-1d6c0cecb4bd) and I enjoyed the idea of [Reddit](https://www.reddit.com/) data exploration. So I thought, why not try it out with atoti?\n",
    "\n",
    "That is indeed what I did. It's a pretty short notebook used to explore the data downloaded with [atoti](https://www.atoti.io/).\n",
    "Hence I did some additional work:\n",
    "- [Natural Language Processing (NLP)](https://en.wikipedia.org/wiki/Natural_language_processing) with [spaCy](https://spacy.io/) to extract [named entities](https://spacy.io/api/annotation#named-entities)\n",
    "- Real-time dashboarding with atoti\n",
    "\n",
    "To achieve real-time, I used threads to trigger the below process flow on regular intervals:\n",
    "\n",
    "<img src=\"https://data.atoti.io/notebooks/reddit/thread_task.png\" alt=\"atoti table\" width=\"800\"/>\n",
    "\n",
    "### Pre-requisite:\n",
    "You should have the Reddit [API key](https://medium.com/swlh/dashboards-in-python-using-dash-creating-a-data-table-using-data-from-reddit-1d6c0cecb4bd#08db) in order to perform scraping with PRAW.  \n",
    "Also, uncomment and run the next 2 commands if you haven't install spaCy before."
   ]
  },
  {
   "cell_type": "code",
   "execution_count": 1,
   "metadata": {},
   "outputs": [],
   "source": [
    "# if this doesn't work, try running pip install praw in terminal\n",
    "# !pip install praw spacy"
   ]
  },
  {
   "cell_type": "code",
   "execution_count": 2,
   "metadata": {},
   "outputs": [],
   "source": [
    "# This only has to be downloaded once. Uncomment if you haven't\n",
    "# !python -m spacy download en_core_web_sm"
   ]
  },
  {
   "cell_type": "code",
   "execution_count": 3,
   "metadata": {},
   "outputs": [],
   "source": [
    "import sched\n",
    "import time\n",
    "from collections import Counter\n",
    "from datetime import datetime\n",
    "\n",
    "import atoti as tt\n",
    "import pandas as pd\n",
    "import praw\n",
    "import spacy\n",
    "from atoti.config import create_config\n",
    "\n",
    "from utils import config"
   ]
  },
  {
   "cell_type": "markdown",
   "metadata": {},
   "source": [
    "## NLP with spaCy and atoti  \n",
    "\n",
    "I'm going to use spaCy to perform some NLP to extract different named entities from the posting.  \n",
    "To do so, I have found a nice [reference](https://realpython.com/natural-language-processing-spacy-python/) article. Let's start by loading the [starter model](https://spacy.io/models) from spaCy."
   ]
  },
  {
   "cell_type": "code",
   "execution_count": 4,
   "metadata": {},
   "outputs": [],
   "source": [
    "nlp = spacy.load(\"en_core_web_sm\")"
   ]
  },
  {
   "cell_type": "markdown",
   "metadata": {},
   "source": [
    "#### NLP - Extracting named entities with spaCy\n",
    "\n",
    "Before going into the implementation of the NLP, I'm creating a `entities.csv` to which I will write the entities’ attributes once I extracted them from the post.  \n",
    "This is in preparation for real-time data loading into atoti datacube where I could leverage on the `watch` feature of `session.read_csv` to trigger the loading on update of the file.  "
   ]
  },
  {
   "cell_type": "code",
   "execution_count": 5,
   "metadata": {},
   "outputs": [],
   "source": [
    "entity_file_name = \"entities.csv\"\n",
    "entity_file = open(entity_file_name, \"w\", encoding=\"utf-8\")\n",
    "entity_file.write(\"id|category|text|text count\\n\")\n",
    "entity_file.flush()"
   ]
  },
  {
   "cell_type": "markdown",
   "metadata": {},
   "source": [
    "With spaCy, I am going to extract the following [named entities](https://spacy.io/api/annotation#named-entities) from each Reddit posting:  \n",
    "- Organizations\n",
    "- Person\n",
    "- Geographical Locations\n",
    "- Events\n",
    "- Product\n",
    "- NORP (Nationalities/religious/political groups)\n",
    "\n",
    "In the `get_post_entity` function below, I create a processed [Doc](https://spacy.io/api/doc) object that gives a sequence of [tokens](https://spacy.io/api/token) for each post. Using the tokens, I can identify the entity with its label.  \n",
    "\n",
    "By using `Counter(list).items()`, I will be able to get a list containing all the terms related to the mentioned entity type and the number of time it appeared. \n",
    "Note that you could also get _n_ number of _most common_ items from the list using [Counter](https://docs.python.org/2/library/collections.html). However, I chose to get all items as I could easily use atoti's filter to achieve the same result. \n",
    "\n",
    "The list of entities with its post's id is output to the `entities.csv` created above.  "
   ]
  },
  {
   "cell_type": "code",
   "execution_count": 6,
   "metadata": {},
   "outputs": [],
   "source": [
    "# convert list of tuples to list of entity with its attributes\n",
    "def get_entity_list(id, category, item_list):\n",
    "    # perform data clean up such as trim and removing line break and double-quotes\n",
    "    return list(\n",
    "        map(\n",
    "            lambda a: \"|\".join(\n",
    "                '\"{}\"'.format(str(e).strip().replace(\"\\n\", \" \").replace('\"', '\"\"'))\n",
    "                for e in ((id, category,) + a)\n",
    "            ),\n",
    "            list(item_list),\n",
    "        )\n",
    "    )\n",
    "\n",
    "\n",
    "# for each posting/title, we extract the entities\n",
    "def get_post_entity(id, text):\n",
    "\n",
    "    post_entity = []\n",
    "    org_list = []\n",
    "    person_list = []\n",
    "    gpe_list = []\n",
    "    event_list = []\n",
    "    product_list = []\n",
    "    norp_list = []\n",
    "\n",
    "    nlp_text = nlp(text)\n",
    "    # ent is a Span object with various attributes\n",
    "    for ent in nlp_text.ents:\n",
    "        if ent.label_ == \"ORG\":\n",
    "            org_list.append(ent.text)\n",
    "        elif ent.label_ == \"PERSON\":\n",
    "            person_list.append(ent.text)\n",
    "        elif ent.label_ == \"GPE\":\n",
    "            gpe_list.append(ent.text)\n",
    "        elif ent.label_ == \"EVENT\":\n",
    "            event_list.append(ent.text)\n",
    "        elif ent.label_ == \"PRODUCT\":\n",
    "            product_list.append(ent.text)\n",
    "        elif ent.label_ == \"NORP\":\n",
    "            product_list.append(ent.text)\n",
    "\n",
    "    org = Counter(org_list).items()\n",
    "    post_entity = get_entity_list(id, \"Organization\", org)\n",
    "\n",
    "    person = Counter(person_list).items()\n",
    "    post_entity = post_entity + get_entity_list(id, \"Person\", person)\n",
    "\n",
    "    gpe = Counter(gpe_list).items()\n",
    "    post_entity = post_entity + get_entity_list(id, \"Geographical Location\", gpe)\n",
    "\n",
    "    event = Counter(event_list).items()\n",
    "    post_entity = post_entity + get_entity_list(id, \"Event\", event)\n",
    "\n",
    "    products = Counter(product_list).items()\n",
    "    post_entity = post_entity + get_entity_list(id, \"Product\", products)\n",
    "    \n",
    "    norp = Counter(norp_list).items()\n",
    "    post_entity = post_entity + get_entity_list(id, \"NORP\", norp)\n",
    "\n",
    "    if len(post_entity) > 0:\n",
    "        entity_file.writelines(\"%s\\n\" % x for x in post_entity)\n",
    "\n",
    "    return post_entity"
   ]
  },
  {
   "cell_type": "markdown",
   "metadata": {},
   "source": [
    "#### NLP - Preprocessing with spaCy\n",
    "\n",
    "Through preprocessing, I normalized the text:\n",
    "- lowercase\n",
    "- remove [stop words](https://en.wikipedia.org/wiki/Stop_words) (words that doesn't add much meaning to the sentence) and punctuation symbols\n",
    "- [lemmatizes](https://en.wikipedia.org/wiki/Lemmatisation) each token.\n",
    "\n",
    "This way, the named entities extracted can easily be grouped to compute the number of times it is mentioned."
   ]
  },
  {
   "cell_type": "code",
   "execution_count": 7,
   "metadata": {},
   "outputs": [],
   "source": [
    "# https://realpython.com/natural-language-processing-spacy-python/\n",
    "def is_token_allowed(token):\n",
    "    if not token or not token.string.strip() or token.is_stop or token.is_punct:\n",
    "        return False\n",
    "    return True\n",
    "\n",
    "\n",
    "def preprocess_token(token):\n",
    "    # Reduce token to its lowercase lemma form\n",
    "    return token.lemma_.strip().lower()\n",
    "\n",
    "\n",
    "def normalize(category, id, post):\n",
    "    nlp_text = nlp(post)\n",
    "\n",
    "    complete_filtered_tokens = [\n",
    "        preprocess_token(token) for token in nlp_text if is_token_allowed(token)\n",
    "    ]\n",
    "\n",
    "    lemmatized_sentence = \" \".join(complete_filtered_tokens)\n",
    "\n",
    "    if category == \"title\":\n",
    "        get_post_entity(id, lemmatized_sentence)\n",
    "\n",
    "    return lemmatized_sentence"
   ]
  },
  {
   "cell_type": "markdown",
   "metadata": {},
   "source": [
    "Normalizing the post invokes `get_post_entity`, triggering the extraction of named entities into csv."
   ]
  },
  {
   "cell_type": "markdown",
   "metadata": {},
   "source": [
    "## Using PRAW to connect to Reddit\n",
    "\n",
    "[PRAW](https://praw.readthedocs.io/en/latest/) is the Python Reddit API Wrapper that we used to download the submissions from the _subreddits_.\n",
    "I'm not going into the details of the data scraping.  \n",
    "**You can check out the original article on how you can get the [API key](https://medium.com/swlh/dashboards-in-python-using-dash-creating-a-data-table-using-data-from-reddit-1d6c0cecb4bd#08db)**.  \n",
    "I've excluded the config file from the source :)"
   ]
  },
  {
   "cell_type": "code",
   "execution_count": 8,
   "metadata": {},
   "outputs": [],
   "source": [
    "# create a reddit connection\n",
    "reddit = praw.Reddit(\n",
    "    client_id=config.cid, client_secret=config.csec, user_agent=config.ua\n",
    ")"
   ]
  },
  {
   "cell_type": "markdown",
   "metadata": {},
   "source": [
    "In order to do more analysis, I created a function to get the latest postings. This function will allow me to configure the number of postings to download, and from which subreddit to download the postings from.\n",
    "\n",
    "Unlike the original article, I decided to format `created` into _datetime_ and splitted it into `created_date` and `created_time` as I figured this would allow me to have consolidated view on date level or drill down to the time level.\n",
    "\n",
    "Referencing the [PRAW documentation](https://praw.readthedocs.io/en/latest/code_overview/models/submission.html#submission) for the submission attributes, I added _id_ and _author_ to the list as well. Important to note is that for real-time, I will be polling the latest 100 postings at a 30 seconds intervals. Potentially there will be duplicated postings across the pollings. Storing the _id_ allows me to **leverage on atoti's capability to update existing posts instead of inserting duplicated postings**."
   ]
  },
  {
   "cell_type": "code",
   "execution_count": 9,
   "metadata": {},
   "outputs": [],
   "source": [
    "def get_latest_posts(subreddit, count):\n",
    "    # list for df conversion\n",
    "    _posts = []\n",
    "    # return 100 new posts from wallstreetbets\n",
    "    new_bets = reddit.subreddit(subreddit).new(limit=count)\n",
    "    # return the important attributes\n",
    "    for post in new_bets:\n",
    "        # normalize the post and perform NLP named entities extraction\n",
    "        lemmatized_post = normalize(\"post\", post.id, post.selftext)\n",
    "        lemmatized_title = normalize(\"title\", post.id, post.title)\n",
    "        _posts.append(\n",
    "            [\n",
    "                post.id,\n",
    "                post.author,\n",
    "                post.title,\n",
    "                post.score,\n",
    "                post.num_comments,\n",
    "                post.selftext,\n",
    "                lemmatized_post,\n",
    "                lemmatized_title,\n",
    "                post.created,\n",
    "                post.pinned,\n",
    "                post.total_awards_received,\n",
    "            ]\n",
    "        )\n",
    "\n",
    "    # create a dataframe\n",
    "    _posts = pd.DataFrame(\n",
    "        _posts,\n",
    "        columns=[\n",
    "            \"id\",\n",
    "            \"author\",\n",
    "            \"title\",\n",
    "            \"score\",\n",
    "            \"comments\",\n",
    "            \"post\",\n",
    "            \"lemmatized post\",\n",
    "            \"lemmatized title\",\n",
    "            \"created\",\n",
    "            \"pinned\",\n",
    "            \"total awards\",\n",
    "        ],\n",
    "    )\n",
    "\n",
    "    _posts[\"created\"] = pd.to_datetime(_posts[\"created\"], unit=\"s\")\n",
    "    _posts[\"created date\"] = pd.to_datetime(_posts[\"created\"], unit=\"s\").dt.date\n",
    "    _posts[\"created time\"] = pd.to_datetime(_posts[\"created\"], unit=\"s\").dt.time\n",
    "    _posts[\"subreddit\"] = subreddit\n",
    "\n",
    "    return _posts"
   ]
  },
  {
   "cell_type": "markdown",
   "metadata": {},
   "source": [
    "To kickstart, I test downloaded the newest 500 post from the subreddit _wallstreetbets_.  \n",
    "This data will be loaded into atoti's **in-memory datacube** later on. This means that the **amount of data that can be loaded is limited only by the hosting machine's capacity**. You could adjust the number of postings you want to look at according to your machine's memory capacity."
   ]
  },
  {
   "cell_type": "code",
   "execution_count": 10,
   "metadata": {},
   "outputs": [
    {
     "data": {
      "text/plain": [
       "500"
      ]
     },
     "execution_count": 10,
     "metadata": {},
     "output_type": "execute_result"
    }
   ],
   "source": [
    "posts = get_latest_posts(\"wallstreetbets\", 500)\n",
    "entity_file.flush()\n",
    "\n",
    "# check the number of posts retrieved\n",
    "len(posts)"
   ]
  },
  {
   "cell_type": "markdown",
   "metadata": {},
   "source": [
    "I adapted the below code from the original article and used the Reddit's title instead of post for NLP. Mainly because the Subreddits that I chose has more text in the title than the post.  \n",
    "The function uses Pandas dataframe to compute some simple statistics about the text in the posts."
   ]
  },
  {
   "cell_type": "code",
   "execution_count": 11,
   "metadata": {},
   "outputs": [],
   "source": [
    "def get_nlp_features(_posts):\n",
    "    # copy the dataframe\n",
    "    df = _posts.copy()\n",
    "    # count words in post\n",
    "    df[\"words\"] = df[\"title\"].apply(lambda x: len(x.split()))\n",
    "    # count characters in post\n",
    "    df[\"chars\"] = df[\"title\"].apply(lambda x: len(x.replace(\" \", \"\")))\n",
    "    # calculate word density\n",
    "    df[\"word density\"] = (df[\"words\"] / (df[\"chars\"] + 1)).round(3)\n",
    "    # count unique words\n",
    "    df[\"unique words\"] = df[\"title\"].apply(lambda x: len(set(w for w in x.split())))\n",
    "    # percent of unique words\n",
    "    df[\"unique density\"] = (df[\"unique words\"] / df[\"words\"]).round(3)\n",
    "\n",
    "    return df"
   ]
  },
  {
   "cell_type": "markdown",
   "metadata": {},
   "source": [
    "By running the function above on the posts that I have downloaded, we will get a dataset with similar structure to the original article."
   ]
  },
  {
   "cell_type": "code",
   "execution_count": 12,
   "metadata": {},
   "outputs": [
    {
     "data": {
      "text/html": [
       "<div>\n",
       "<style scoped>\n",
       "    .dataframe tbody tr th:only-of-type {\n",
       "        vertical-align: middle;\n",
       "    }\n",
       "\n",
       "    .dataframe tbody tr th {\n",
       "        vertical-align: top;\n",
       "    }\n",
       "\n",
       "    .dataframe thead th {\n",
       "        text-align: right;\n",
       "    }\n",
       "</style>\n",
       "<table border=\"1\" class=\"dataframe\">\n",
       "  <thead>\n",
       "    <tr style=\"text-align: right;\">\n",
       "      <th></th>\n",
       "      <th>id</th>\n",
       "      <th>author</th>\n",
       "      <th>title</th>\n",
       "      <th>score</th>\n",
       "      <th>comments</th>\n",
       "      <th>post</th>\n",
       "      <th>lemmatized post</th>\n",
       "      <th>lemmatized title</th>\n",
       "      <th>created</th>\n",
       "      <th>pinned</th>\n",
       "      <th>total awards</th>\n",
       "      <th>created date</th>\n",
       "      <th>created time</th>\n",
       "      <th>subreddit</th>\n",
       "      <th>words</th>\n",
       "      <th>chars</th>\n",
       "      <th>word density</th>\n",
       "      <th>unique words</th>\n",
       "      <th>unique density</th>\n",
       "    </tr>\n",
       "  </thead>\n",
       "  <tbody>\n",
       "    <tr>\n",
       "      <th>0</th>\n",
       "      <td>l5uesr</td>\n",
       "      <td>duckduckew</td>\n",
       "      <td>Israeli Cannabis Company to Go Public via SPAC</td>\n",
       "      <td>1</td>\n",
       "      <td>0</td>\n",
       "      <td>SBVRF to merge with Israeli cannabis company C...</td>\n",
       "      <td>sbvrf merge israeli cannabis company canndoc c...</td>\n",
       "      <td>israeli cannabis company public spac</td>\n",
       "      <td>2021-01-27 10:42:39</td>\n",
       "      <td>False</td>\n",
       "      <td>0</td>\n",
       "      <td>2021-01-27</td>\n",
       "      <td>10:42:39</td>\n",
       "      <td>wallstreetbets</td>\n",
       "      <td>8</td>\n",
       "      <td>39</td>\n",
       "      <td>0.200</td>\n",
       "      <td>8</td>\n",
       "      <td>1.0</td>\n",
       "    </tr>\n",
       "    <tr>\n",
       "      <th>1</th>\n",
       "      <td>l5uesn</td>\n",
       "      <td>Blubcum</td>\n",
       "      <td>What happened if Melvin files bankruptcy? Will...</td>\n",
       "      <td>1</td>\n",
       "      <td>0</td>\n",
       "      <td></td>\n",
       "      <td></td>\n",
       "      <td>happen melvin file bankruptcy short cover</td>\n",
       "      <td>2021-01-27 10:42:39</td>\n",
       "      <td>False</td>\n",
       "      <td>0</td>\n",
       "      <td>2021-01-27</td>\n",
       "      <td>10:42:39</td>\n",
       "      <td>wallstreetbets</td>\n",
       "      <td>12</td>\n",
       "      <td>64</td>\n",
       "      <td>0.185</td>\n",
       "      <td>12</td>\n",
       "      <td>1.0</td>\n",
       "    </tr>\n",
       "    <tr>\n",
       "      <th>2</th>\n",
       "      <td>l5ueqw</td>\n",
       "      <td>17Jos1</td>\n",
       "      <td>Best stock app</td>\n",
       "      <td>1</td>\n",
       "      <td>0</td>\n",
       "      <td>Hey everyone! Apologies if I did something wro...</td>\n",
       "      <td>hey apology wrong post new stock wsb y’alls fa...</td>\n",
       "      <td>good stock app</td>\n",
       "      <td>2021-01-27 10:42:35</td>\n",
       "      <td>False</td>\n",
       "      <td>0</td>\n",
       "      <td>2021-01-27</td>\n",
       "      <td>10:42:35</td>\n",
       "      <td>wallstreetbets</td>\n",
       "      <td>3</td>\n",
       "      <td>12</td>\n",
       "      <td>0.231</td>\n",
       "      <td>3</td>\n",
       "      <td>1.0</td>\n",
       "    </tr>\n",
       "  </tbody>\n",
       "</table>\n",
       "</div>"
      ],
      "text/plain": [
       "       id      author                                              title  \\\n",
       "0  l5uesr  duckduckew     Israeli Cannabis Company to Go Public via SPAC   \n",
       "1  l5uesn     Blubcum  What happened if Melvin files bankruptcy? Will...   \n",
       "2  l5ueqw      17Jos1                                     Best stock app   \n",
       "\n",
       "   score  comments                                               post  \\\n",
       "0      1         0  SBVRF to merge with Israeli cannabis company C...   \n",
       "1      1         0                                                      \n",
       "2      1         0  Hey everyone! Apologies if I did something wro...   \n",
       "\n",
       "                                     lemmatized post  \\\n",
       "0  sbvrf merge israeli cannabis company canndoc c...   \n",
       "1                                                      \n",
       "2  hey apology wrong post new stock wsb y’alls fa...   \n",
       "\n",
       "                            lemmatized title             created  pinned  \\\n",
       "0       israeli cannabis company public spac 2021-01-27 10:42:39   False   \n",
       "1  happen melvin file bankruptcy short cover 2021-01-27 10:42:39   False   \n",
       "2                             good stock app 2021-01-27 10:42:35   False   \n",
       "\n",
       "   total awards created date created time       subreddit  words  chars  \\\n",
       "0             0   2021-01-27     10:42:39  wallstreetbets      8     39   \n",
       "1             0   2021-01-27     10:42:39  wallstreetbets     12     64   \n",
       "2             0   2021-01-27     10:42:35  wallstreetbets      3     12   \n",
       "\n",
       "   word density  unique words  unique density  \n",
       "0         0.200             8             1.0  \n",
       "1         0.185            12             1.0  \n",
       "2         0.231             3             1.0  "
      ]
     },
     "execution_count": 12,
     "metadata": {},
     "output_type": "execute_result"
    }
   ],
   "source": [
    "df = get_nlp_features(posts)\n",
    "df.head(3)"
   ]
  },
  {
   "cell_type": "markdown",
   "metadata": {},
   "source": [
    "## atoti cube creation for NLP analysis\n",
    "\n",
    "Finally we can get started with atoti. Let's create a session with the [sampling_mode](https://docs.atoti.io/0.4.2/lib/atoti.html#module-atoti.sampling) to set full, so that I can see all the data once it is loaded."
   ]
  },
  {
   "cell_type": "code",
   "execution_count": 13,
   "metadata": {},
   "outputs": [],
   "source": [
    "config = create_config(metadata_db=\"./metadata.db\", sampling_mode=tt.sampling.FULL)\n",
    "session = tt.create_session(config=config)"
   ]
  },
  {
   "cell_type": "markdown",
   "metadata": {},
   "source": [
    "#### atoti datastores\n",
    "\n",
    "I will create a `Reddit Posts` store for the data as per the original article. "
   ]
  },
  {
   "cell_type": "code",
   "execution_count": 14,
   "metadata": {},
   "outputs": [
    {
     "data": {
      "text/html": [
       "<div>\n",
       "<style scoped>\n",
       "    .dataframe tbody tr th:only-of-type {\n",
       "        vertical-align: middle;\n",
       "    }\n",
       "\n",
       "    .dataframe tbody tr th {\n",
       "        vertical-align: top;\n",
       "    }\n",
       "\n",
       "    .dataframe thead th {\n",
       "        text-align: right;\n",
       "    }\n",
       "</style>\n",
       "<table border=\"1\" class=\"dataframe\">\n",
       "  <thead>\n",
       "    <tr style=\"text-align: right;\">\n",
       "      <th></th>\n",
       "      <th>author</th>\n",
       "      <th>title</th>\n",
       "      <th>score</th>\n",
       "      <th>comments</th>\n",
       "      <th>post</th>\n",
       "      <th>lemmatized post</th>\n",
       "      <th>lemmatized title</th>\n",
       "      <th>created</th>\n",
       "      <th>pinned</th>\n",
       "      <th>total awards</th>\n",
       "      <th>created date</th>\n",
       "      <th>created time</th>\n",
       "      <th>subreddit</th>\n",
       "      <th>words</th>\n",
       "      <th>chars</th>\n",
       "      <th>word density</th>\n",
       "      <th>unique words</th>\n",
       "      <th>unique density</th>\n",
       "    </tr>\n",
       "    <tr>\n",
       "      <th>id</th>\n",
       "      <th></th>\n",
       "      <th></th>\n",
       "      <th></th>\n",
       "      <th></th>\n",
       "      <th></th>\n",
       "      <th></th>\n",
       "      <th></th>\n",
       "      <th></th>\n",
       "      <th></th>\n",
       "      <th></th>\n",
       "      <th></th>\n",
       "      <th></th>\n",
       "      <th></th>\n",
       "      <th></th>\n",
       "      <th></th>\n",
       "      <th></th>\n",
       "      <th></th>\n",
       "      <th></th>\n",
       "    </tr>\n",
       "  </thead>\n",
       "  <tbody>\n",
       "    <tr>\n",
       "      <th>l5uesr</th>\n",
       "      <td>duckduckew</td>\n",
       "      <td>Israeli Cannabis Company to Go Public via SPAC</td>\n",
       "      <td>1</td>\n",
       "      <td>0</td>\n",
       "      <td>SBVRF to merge with Israeli cannabis company C...</td>\n",
       "      <td>sbvrf merge israeli cannabis company canndoc c...</td>\n",
       "      <td>israeli cannabis company public spac</td>\n",
       "      <td>2021-01-27 10:42:39</td>\n",
       "      <td>False</td>\n",
       "      <td>0</td>\n",
       "      <td>2021-01-27</td>\n",
       "      <td>10:42:39</td>\n",
       "      <td>wallstreetbets</td>\n",
       "      <td>8</td>\n",
       "      <td>39</td>\n",
       "      <td>0.200</td>\n",
       "      <td>8</td>\n",
       "      <td>1.0</td>\n",
       "    </tr>\n",
       "    <tr>\n",
       "      <th>l5uesn</th>\n",
       "      <td>Blubcum</td>\n",
       "      <td>What happened if Melvin files bankruptcy? Will...</td>\n",
       "      <td>1</td>\n",
       "      <td>0</td>\n",
       "      <td>N/A</td>\n",
       "      <td>N/A</td>\n",
       "      <td>happen melvin file bankruptcy short cover</td>\n",
       "      <td>2021-01-27 10:42:39</td>\n",
       "      <td>False</td>\n",
       "      <td>0</td>\n",
       "      <td>2021-01-27</td>\n",
       "      <td>10:42:39</td>\n",
       "      <td>wallstreetbets</td>\n",
       "      <td>12</td>\n",
       "      <td>64</td>\n",
       "      <td>0.185</td>\n",
       "      <td>12</td>\n",
       "      <td>1.0</td>\n",
       "    </tr>\n",
       "    <tr>\n",
       "      <th>l5ueqw</th>\n",
       "      <td>17Jos1</td>\n",
       "      <td>Best stock app</td>\n",
       "      <td>1</td>\n",
       "      <td>0</td>\n",
       "      <td>Hey everyone! Apologies if I did something wro...</td>\n",
       "      <td>hey apology wrong post new stock wsb y’alls fa...</td>\n",
       "      <td>good stock app</td>\n",
       "      <td>2021-01-27 10:42:35</td>\n",
       "      <td>False</td>\n",
       "      <td>0</td>\n",
       "      <td>2021-01-27</td>\n",
       "      <td>10:42:35</td>\n",
       "      <td>wallstreetbets</td>\n",
       "      <td>3</td>\n",
       "      <td>12</td>\n",
       "      <td>0.231</td>\n",
       "      <td>3</td>\n",
       "      <td>1.0</td>\n",
       "    </tr>\n",
       "  </tbody>\n",
       "</table>\n",
       "</div>"
      ],
      "text/plain": [
       "            author                                              title  score  \\\n",
       "id                                                                             \n",
       "l5uesr  duckduckew     Israeli Cannabis Company to Go Public via SPAC      1   \n",
       "l5uesn     Blubcum  What happened if Melvin files bankruptcy? Will...      1   \n",
       "l5ueqw      17Jos1                                     Best stock app      1   \n",
       "\n",
       "        comments                                               post  \\\n",
       "id                                                                    \n",
       "l5uesr         0  SBVRF to merge with Israeli cannabis company C...   \n",
       "l5uesn         0                                                N/A   \n",
       "l5ueqw         0  Hey everyone! Apologies if I did something wro...   \n",
       "\n",
       "                                          lemmatized post  \\\n",
       "id                                                          \n",
       "l5uesr  sbvrf merge israeli cannabis company canndoc c...   \n",
       "l5uesn                                                N/A   \n",
       "l5ueqw  hey apology wrong post new stock wsb y’alls fa...   \n",
       "\n",
       "                                 lemmatized title             created  pinned  \\\n",
       "id                                                                              \n",
       "l5uesr       israeli cannabis company public spac 2021-01-27 10:42:39   False   \n",
       "l5uesn  happen melvin file bankruptcy short cover 2021-01-27 10:42:39   False   \n",
       "l5ueqw                             good stock app 2021-01-27 10:42:35   False   \n",
       "\n",
       "        total awards created date created time       subreddit  words  chars  \\\n",
       "id                                                                             \n",
       "l5uesr             0   2021-01-27     10:42:39  wallstreetbets      8     39   \n",
       "l5uesn             0   2021-01-27     10:42:39  wallstreetbets     12     64   \n",
       "l5ueqw             0   2021-01-27     10:42:35  wallstreetbets      3     12   \n",
       "\n",
       "        word density  unique words  unique density  \n",
       "id                                                  \n",
       "l5uesr         0.200             8             1.0  \n",
       "l5uesn         0.185            12             1.0  \n",
       "l5ueqw         0.231             3             1.0  "
      ]
     },
     "execution_count": 14,
     "metadata": {},
     "output_type": "execute_result"
    }
   ],
   "source": [
    "reddit_store = session.read_pandas(df, keys=[\"id\"], store_name=\"Reddit_Posts\")\n",
    "reddit_store.head(3)"
   ]
  },
  {
   "cell_type": "markdown",
   "metadata": {},
   "source": [
    "For my experiment with spaCy, I create a `Entities` store to store the named entities.  \n",
    "Below, I set `watch=True` for the entities.csv such that any update to the file will trigger an upload to the datastore."
   ]
  },
  {
   "cell_type": "code",
   "execution_count": 15,
   "metadata": {},
   "outputs": [],
   "source": [
    "entity_store = session.read_csv(\n",
    "    entity_file_name,\n",
    "    keys=[\"id\", \"category\", \"text\"],\n",
    "    store_name=\"Entities\",\n",
    "    watch=True,\n",
    "    sep=\"|\",\n",
    ")"
   ]
  },
  {
   "cell_type": "code",
   "execution_count": 16,
   "metadata": {},
   "outputs": [
    {
     "data": {
      "text/html": [
       "<div>\n",
       "<style scoped>\n",
       "    .dataframe tbody tr th:only-of-type {\n",
       "        vertical-align: middle;\n",
       "    }\n",
       "\n",
       "    .dataframe tbody tr th {\n",
       "        vertical-align: top;\n",
       "    }\n",
       "\n",
       "    .dataframe thead th {\n",
       "        text-align: right;\n",
       "    }\n",
       "</style>\n",
       "<table border=\"1\" class=\"dataframe\">\n",
       "  <thead>\n",
       "    <tr style=\"text-align: right;\">\n",
       "      <th></th>\n",
       "      <th></th>\n",
       "      <th></th>\n",
       "      <th>text count</th>\n",
       "    </tr>\n",
       "    <tr>\n",
       "      <th>id</th>\n",
       "      <th>category</th>\n",
       "      <th>text</th>\n",
       "      <th></th>\n",
       "    </tr>\n",
       "  </thead>\n",
       "  <tbody>\n",
       "    <tr>\n",
       "      <th rowspan=\"2\" valign=\"top\">l5uesr</th>\n",
       "      <th>Organization</th>\n",
       "      <th>cannabis company public spac</th>\n",
       "      <td>1</td>\n",
       "    </tr>\n",
       "    <tr>\n",
       "      <th>Product</th>\n",
       "      <th>israeli</th>\n",
       "      <td>1</td>\n",
       "    </tr>\n",
       "    <tr>\n",
       "      <th>l5uem6</th>\n",
       "      <th>Person</th>\n",
       "      <th>wsb</th>\n",
       "      <td>1</td>\n",
       "    </tr>\n",
       "    <tr>\n",
       "      <th>l5uek9</th>\n",
       "      <th>Organization</th>\n",
       "      <th>mod</th>\n",
       "      <td>1</td>\n",
       "    </tr>\n",
       "    <tr>\n",
       "      <th>l5udbi</th>\n",
       "      <th>Person</th>\n",
       "      <th>melvin cap milkshakes</th>\n",
       "      <td>1</td>\n",
       "    </tr>\n",
       "  </tbody>\n",
       "</table>\n",
       "</div>"
      ],
      "text/plain": [
       "                                                  text count\n",
       "id     category     text                                    \n",
       "l5uesr Organization cannabis company public spac           1\n",
       "       Product      israeli                                1\n",
       "l5uem6 Person       wsb                                    1\n",
       "l5uek9 Organization mod                                    1\n",
       "l5udbi Person       melvin cap milkshakes                  1"
      ]
     },
     "execution_count": 16,
     "metadata": {},
     "output_type": "execute_result"
    }
   ],
   "source": [
    "entity_store.head()"
   ]
  },
  {
   "cell_type": "markdown",
   "metadata": {},
   "source": [
    "I join the `Entities` store to `Reddit Posts` which I decided to use as the base store.  \n",
    "Note that atoti automatically joins columns with the same name across both stores. You could define your own [mapping](https://docs.atoti.io/0.4.2/lib/atoti.html?highlight=join#atoti.store.Store.join) otherwise."
   ]
  },
  {
   "cell_type": "code",
   "execution_count": 17,
   "metadata": {},
   "outputs": [],
   "source": [
    "reddit_store.join(entity_store)"
   ]
  },
  {
   "cell_type": "markdown",
   "metadata": {},
   "source": [
    "#### atoti cube creation - No measures\n",
    "\n",
    "By default, atoti will automatically create hierarchies and measures from the datastore based on the data type of the columns.  \n",
    "In this case, I prefer to manually create my measures, hence I set the [mode](https://docs.atoti.io/0.4.2/lib/atoti.html?highlight=create_cube#atoti.session.Session.create_cube) of creation to `no_measures`"
   ]
  },
  {
   "cell_type": "code",
   "execution_count": 18,
   "metadata": {},
   "outputs": [],
   "source": [
    "cube = session.create_cube(reddit_store, \"Reddit\", mode=\"no_measures\")"
   ]
  },
  {
   "cell_type": "code",
   "execution_count": 19,
   "metadata": {},
   "outputs": [
    {
     "data": {
      "image/svg+xml": [
       "<svg xmlns=\"http://www.w3.org/2000/svg\" xmlns:xlink=\"http://www.w3.org/1999/xlink\" width=\"480px\" height=\"498px\" viewBox=\"0.00 0.00 480.00 498.00\">\n",
       "<g id=\"graph0\" class=\"graph\" transform=\"scale(1.0 1.0) rotate(0) translate(4 494)\">\n",
       "<title>Reddit schema</title>\n",
       "<polygon fill=\"white\" stroke=\"none\" points=\"-4,4 -4,-494 476,-494 476,4 -4,4\"/>\n",
       "<!-- Reddit_Posts -->\n",
       "<g id=\"node1\" class=\"node\"><title>Reddit_Posts</title>\n",
       "<text text-anchor=\"start\" x=\"81.5\" y=\"-470.6\" font-family=\"-apple-system, BlinkMacSystemFont, 'Segoe UI', Helvetica, Arial, sans-serif, 'Apple Color Emoji', 'Segoe UI Emoji', 'Segoe UI Symbol'\" font-weight=\"bold\" font-size=\"13.00\">Reddit_Posts</text>\n",
       "<polygon fill=\"#f5f5f5\" stroke=\"none\" points=\"9,-437 9,-461 40,-461 40,-437 9,-437\"/>\n",
       "<text text-anchor=\"start\" x=\"14\" y=\"-446.6\" font-family=\"-apple-system, BlinkMacSystemFont, 'Segoe UI', Helvetica, Arial, sans-serif, 'Apple Color Emoji', 'Segoe UI Emoji', 'Segoe UI Symbol'\" font-weight=\"bold\" font-size=\"13.00\">key</text>\n",
       "<polygon fill=\"#f5f5f5\" stroke=\"none\" points=\"40,-437 40,-461 138,-461 138,-437 40,-437\"/>\n",
       "<text text-anchor=\"start\" x=\"45\" y=\"-445.6\" font-family=\"-apple-system, BlinkMacSystemFont, 'Segoe UI', Helvetica, Arial, sans-serif, 'Apple Color Emoji', 'Segoe UI Emoji', 'Segoe UI Symbol'\" font-size=\"13.00\">id</text>\n",
       "<polygon fill=\"#f5f5f5\" stroke=\"none\" points=\"138,-437 138,-461 233,-461 233,-437 138,-437\"/>\n",
       "<text text-anchor=\"start\" x=\"195\" y=\"-446.6\" font-family=\"-apple-system, BlinkMacSystemFont, 'Segoe UI', Helvetica, Arial, sans-serif, 'Apple Color Emoji', 'Segoe UI Emoji', 'Segoe UI Symbol'\" font-style=\"italic\" font-size=\"13.00\">String</text>\n",
       "<polygon fill=\"#ffffff\" stroke=\"none\" points=\"9,-413 9,-437 40,-437 40,-413 9,-413\"/>\n",
       "<polygon fill=\"#ffffff\" stroke=\"none\" points=\"40,-413 40,-437 138,-437 138,-413 40,-413\"/>\n",
       "<text text-anchor=\"start\" x=\"45\" y=\"-421.6\" font-family=\"-apple-system, BlinkMacSystemFont, 'Segoe UI', Helvetica, Arial, sans-serif, 'Apple Color Emoji', 'Segoe UI Emoji', 'Segoe UI Symbol'\" font-size=\"13.00\">author</text>\n",
       "<polygon fill=\"#ffffff\" stroke=\"none\" points=\"138,-413 138,-437 233,-437 233,-413 138,-413\"/>\n",
       "<text text-anchor=\"start\" x=\"195\" y=\"-422.6\" font-family=\"-apple-system, BlinkMacSystemFont, 'Segoe UI', Helvetica, Arial, sans-serif, 'Apple Color Emoji', 'Segoe UI Emoji', 'Segoe UI Symbol'\" font-style=\"italic\" font-size=\"13.00\">String</text>\n",
       "<polygon fill=\"#f5f5f5\" stroke=\"none\" points=\"9,-389 9,-413 40,-413 40,-389 9,-389\"/>\n",
       "<polygon fill=\"#f5f5f5\" stroke=\"none\" points=\"40,-389 40,-413 138,-413 138,-389 40,-389\"/>\n",
       "<text text-anchor=\"start\" x=\"45\" y=\"-397.6\" font-family=\"-apple-system, BlinkMacSystemFont, 'Segoe UI', Helvetica, Arial, sans-serif, 'Apple Color Emoji', 'Segoe UI Emoji', 'Segoe UI Symbol'\" font-size=\"13.00\">title</text>\n",
       "<polygon fill=\"#f5f5f5\" stroke=\"none\" points=\"138,-389 138,-413 233,-413 233,-389 138,-389\"/>\n",
       "<text text-anchor=\"start\" x=\"195\" y=\"-398.6\" font-family=\"-apple-system, BlinkMacSystemFont, 'Segoe UI', Helvetica, Arial, sans-serif, 'Apple Color Emoji', 'Segoe UI Emoji', 'Segoe UI Symbol'\" font-style=\"italic\" font-size=\"13.00\">String</text>\n",
       "<polygon fill=\"#ffffff\" stroke=\"none\" points=\"9,-365 9,-389 40,-389 40,-365 9,-365\"/>\n",
       "<polygon fill=\"#ffffff\" stroke=\"none\" points=\"40,-365 40,-389 138,-389 138,-365 40,-365\"/>\n",
       "<text text-anchor=\"start\" x=\"45\" y=\"-373.6\" font-family=\"-apple-system, BlinkMacSystemFont, 'Segoe UI', Helvetica, Arial, sans-serif, 'Apple Color Emoji', 'Segoe UI Emoji', 'Segoe UI Symbol'\" font-size=\"13.00\">score</text>\n",
       "<polygon fill=\"#ffffff\" stroke=\"none\" points=\"138,-365 138,-389 233,-389 233,-365 138,-365\"/>\n",
       "<text text-anchor=\"start\" x=\"205\" y=\"-374.6\" font-family=\"-apple-system, BlinkMacSystemFont, 'Segoe UI', Helvetica, Arial, sans-serif, 'Apple Color Emoji', 'Segoe UI Emoji', 'Segoe UI Symbol'\" font-style=\"italic\" font-size=\"13.00\">long</text>\n",
       "<polygon fill=\"#f5f5f5\" stroke=\"none\" points=\"9,-341 9,-365 40,-365 40,-341 9,-341\"/>\n",
       "<polygon fill=\"#f5f5f5\" stroke=\"none\" points=\"40,-341 40,-365 138,-365 138,-341 40,-341\"/>\n",
       "<text text-anchor=\"start\" x=\"45\" y=\"-349.6\" font-family=\"-apple-system, BlinkMacSystemFont, 'Segoe UI', Helvetica, Arial, sans-serif, 'Apple Color Emoji', 'Segoe UI Emoji', 'Segoe UI Symbol'\" font-size=\"13.00\">comments</text>\n",
       "<polygon fill=\"#f5f5f5\" stroke=\"none\" points=\"138,-341 138,-365 233,-365 233,-341 138,-341\"/>\n",
       "<text text-anchor=\"start\" x=\"205\" y=\"-350.6\" font-family=\"-apple-system, BlinkMacSystemFont, 'Segoe UI', Helvetica, Arial, sans-serif, 'Apple Color Emoji', 'Segoe UI Emoji', 'Segoe UI Symbol'\" font-style=\"italic\" font-size=\"13.00\">long</text>\n",
       "<polygon fill=\"#ffffff\" stroke=\"none\" points=\"9,-317 9,-341 40,-341 40,-317 9,-317\"/>\n",
       "<polygon fill=\"#ffffff\" stroke=\"none\" points=\"40,-317 40,-341 138,-341 138,-317 40,-317\"/>\n",
       "<text text-anchor=\"start\" x=\"45\" y=\"-325.6\" font-family=\"-apple-system, BlinkMacSystemFont, 'Segoe UI', Helvetica, Arial, sans-serif, 'Apple Color Emoji', 'Segoe UI Emoji', 'Segoe UI Symbol'\" font-size=\"13.00\">post</text>\n",
       "<polygon fill=\"#ffffff\" stroke=\"none\" points=\"138,-317 138,-341 233,-341 233,-317 138,-317\"/>\n",
       "<text text-anchor=\"start\" x=\"195\" y=\"-326.6\" font-family=\"-apple-system, BlinkMacSystemFont, 'Segoe UI', Helvetica, Arial, sans-serif, 'Apple Color Emoji', 'Segoe UI Emoji', 'Segoe UI Symbol'\" font-style=\"italic\" font-size=\"13.00\">String</text>\n",
       "<polygon fill=\"#f5f5f5\" stroke=\"none\" points=\"9,-293 9,-317 40,-317 40,-293 9,-293\"/>\n",
       "<polygon fill=\"#f5f5f5\" stroke=\"none\" points=\"40,-293 40,-317 138,-317 138,-293 40,-293\"/>\n",
       "<text text-anchor=\"start\" x=\"45\" y=\"-301.6\" font-family=\"-apple-system, BlinkMacSystemFont, 'Segoe UI', Helvetica, Arial, sans-serif, 'Apple Color Emoji', 'Segoe UI Emoji', 'Segoe UI Symbol'\" font-size=\"13.00\">lemmatized post</text>\n",
       "<polygon fill=\"#f5f5f5\" stroke=\"none\" points=\"138,-293 138,-317 233,-317 233,-293 138,-293\"/>\n",
       "<text text-anchor=\"start\" x=\"195\" y=\"-302.6\" font-family=\"-apple-system, BlinkMacSystemFont, 'Segoe UI', Helvetica, Arial, sans-serif, 'Apple Color Emoji', 'Segoe UI Emoji', 'Segoe UI Symbol'\" font-style=\"italic\" font-size=\"13.00\">String</text>\n",
       "<polygon fill=\"#ffffff\" stroke=\"none\" points=\"9,-269 9,-293 40,-293 40,-269 9,-269\"/>\n",
       "<polygon fill=\"#ffffff\" stroke=\"none\" points=\"40,-269 40,-293 138,-293 138,-269 40,-269\"/>\n",
       "<text text-anchor=\"start\" x=\"45\" y=\"-277.6\" font-family=\"-apple-system, BlinkMacSystemFont, 'Segoe UI', Helvetica, Arial, sans-serif, 'Apple Color Emoji', 'Segoe UI Emoji', 'Segoe UI Symbol'\" font-size=\"13.00\">lemmatized title</text>\n",
       "<polygon fill=\"#ffffff\" stroke=\"none\" points=\"138,-269 138,-293 233,-293 233,-269 138,-269\"/>\n",
       "<text text-anchor=\"start\" x=\"195\" y=\"-278.6\" font-family=\"-apple-system, BlinkMacSystemFont, 'Segoe UI', Helvetica, Arial, sans-serif, 'Apple Color Emoji', 'Segoe UI Emoji', 'Segoe UI Symbol'\" font-style=\"italic\" font-size=\"13.00\">String</text>\n",
       "<polygon fill=\"#f5f5f5\" stroke=\"none\" points=\"9,-245 9,-269 40,-269 40,-245 9,-245\"/>\n",
       "<polygon fill=\"#f5f5f5\" stroke=\"none\" points=\"40,-245 40,-269 138,-269 138,-245 40,-245\"/>\n",
       "<text text-anchor=\"start\" x=\"45\" y=\"-253.6\" font-family=\"-apple-system, BlinkMacSystemFont, 'Segoe UI', Helvetica, Arial, sans-serif, 'Apple Color Emoji', 'Segoe UI Emoji', 'Segoe UI Symbol'\" font-size=\"13.00\">created</text>\n",
       "<polygon fill=\"#f5f5f5\" stroke=\"none\" points=\"138,-245 138,-269 233,-269 233,-245 138,-245\"/>\n",
       "<text text-anchor=\"start\" x=\"143\" y=\"-254.6\" font-family=\"-apple-system, BlinkMacSystemFont, 'Segoe UI', Helvetica, Arial, sans-serif, 'Apple Color Emoji', 'Segoe UI Emoji', 'Segoe UI Symbol'\" font-style=\"italic\" font-size=\"13.00\">LocalDateTime</text>\n",
       "<polygon fill=\"#ffffff\" stroke=\"none\" points=\"9,-221 9,-245 40,-245 40,-221 9,-221\"/>\n",
       "<polygon fill=\"#ffffff\" stroke=\"none\" points=\"40,-221 40,-245 138,-245 138,-221 40,-221\"/>\n",
       "<text text-anchor=\"start\" x=\"45\" y=\"-229.6\" font-family=\"-apple-system, BlinkMacSystemFont, 'Segoe UI', Helvetica, Arial, sans-serif, 'Apple Color Emoji', 'Segoe UI Emoji', 'Segoe UI Symbol'\" font-size=\"13.00\">pinned</text>\n",
       "<polygon fill=\"#ffffff\" stroke=\"none\" points=\"138,-221 138,-245 233,-245 233,-221 138,-221\"/>\n",
       "<text text-anchor=\"start\" x=\"184\" y=\"-230.6\" font-family=\"-apple-system, BlinkMacSystemFont, 'Segoe UI', Helvetica, Arial, sans-serif, 'Apple Color Emoji', 'Segoe UI Emoji', 'Segoe UI Symbol'\" font-style=\"italic\" font-size=\"13.00\">boolean</text>\n",
       "<polygon fill=\"#f5f5f5\" stroke=\"none\" points=\"9,-197 9,-221 40,-221 40,-197 9,-197\"/>\n",
       "<polygon fill=\"#f5f5f5\" stroke=\"none\" points=\"40,-197 40,-221 138,-221 138,-197 40,-197\"/>\n",
       "<text text-anchor=\"start\" x=\"45\" y=\"-205.6\" font-family=\"-apple-system, BlinkMacSystemFont, 'Segoe UI', Helvetica, Arial, sans-serif, 'Apple Color Emoji', 'Segoe UI Emoji', 'Segoe UI Symbol'\" font-size=\"13.00\">total awards</text>\n",
       "<polygon fill=\"#f5f5f5\" stroke=\"none\" points=\"138,-197 138,-221 233,-221 233,-197 138,-197\"/>\n",
       "<text text-anchor=\"start\" x=\"205\" y=\"-206.6\" font-family=\"-apple-system, BlinkMacSystemFont, 'Segoe UI', Helvetica, Arial, sans-serif, 'Apple Color Emoji', 'Segoe UI Emoji', 'Segoe UI Symbol'\" font-style=\"italic\" font-size=\"13.00\">long</text>\n",
       "<polygon fill=\"#ffffff\" stroke=\"none\" points=\"9,-173 9,-197 40,-197 40,-173 9,-173\"/>\n",
       "<polygon fill=\"#ffffff\" stroke=\"none\" points=\"40,-173 40,-197 138,-197 138,-173 40,-173\"/>\n",
       "<text text-anchor=\"start\" x=\"45\" y=\"-181.6\" font-family=\"-apple-system, BlinkMacSystemFont, 'Segoe UI', Helvetica, Arial, sans-serif, 'Apple Color Emoji', 'Segoe UI Emoji', 'Segoe UI Symbol'\" font-size=\"13.00\">created date</text>\n",
       "<polygon fill=\"#ffffff\" stroke=\"none\" points=\"138,-173 138,-197 233,-197 233,-173 138,-173\"/>\n",
       "<text text-anchor=\"start\" x=\"171\" y=\"-182.6\" font-family=\"-apple-system, BlinkMacSystemFont, 'Segoe UI', Helvetica, Arial, sans-serif, 'Apple Color Emoji', 'Segoe UI Emoji', 'Segoe UI Symbol'\" font-style=\"italic\" font-size=\"13.00\">LocalDate</text>\n",
       "<polygon fill=\"#f5f5f5\" stroke=\"none\" points=\"9,-149 9,-173 40,-173 40,-149 9,-149\"/>\n",
       "<polygon fill=\"#f5f5f5\" stroke=\"none\" points=\"40,-149 40,-173 138,-173 138,-149 40,-149\"/>\n",
       "<text text-anchor=\"start\" x=\"45\" y=\"-157.6\" font-family=\"-apple-system, BlinkMacSystemFont, 'Segoe UI', Helvetica, Arial, sans-serif, 'Apple Color Emoji', 'Segoe UI Emoji', 'Segoe UI Symbol'\" font-size=\"13.00\">created time</text>\n",
       "<polygon fill=\"#f5f5f5\" stroke=\"none\" points=\"138,-149 138,-173 233,-173 233,-149 138,-149\"/>\n",
       "<text text-anchor=\"start\" x=\"195\" y=\"-158.6\" font-family=\"-apple-system, BlinkMacSystemFont, 'Segoe UI', Helvetica, Arial, sans-serif, 'Apple Color Emoji', 'Segoe UI Emoji', 'Segoe UI Symbol'\" font-style=\"italic\" font-size=\"13.00\">String</text>\n",
       "<polygon fill=\"#ffffff\" stroke=\"none\" points=\"9,-125 9,-149 40,-149 40,-125 9,-125\"/>\n",
       "<polygon fill=\"#ffffff\" stroke=\"none\" points=\"40,-125 40,-149 138,-149 138,-125 40,-125\"/>\n",
       "<text text-anchor=\"start\" x=\"45\" y=\"-133.6\" font-family=\"-apple-system, BlinkMacSystemFont, 'Segoe UI', Helvetica, Arial, sans-serif, 'Apple Color Emoji', 'Segoe UI Emoji', 'Segoe UI Symbol'\" font-size=\"13.00\">subreddit</text>\n",
       "<polygon fill=\"#ffffff\" stroke=\"none\" points=\"138,-125 138,-149 233,-149 233,-125 138,-125\"/>\n",
       "<text text-anchor=\"start\" x=\"195\" y=\"-134.6\" font-family=\"-apple-system, BlinkMacSystemFont, 'Segoe UI', Helvetica, Arial, sans-serif, 'Apple Color Emoji', 'Segoe UI Emoji', 'Segoe UI Symbol'\" font-style=\"italic\" font-size=\"13.00\">String</text>\n",
       "<polygon fill=\"#f5f5f5\" stroke=\"none\" points=\"9,-101 9,-125 40,-125 40,-101 9,-101\"/>\n",
       "<polygon fill=\"#f5f5f5\" stroke=\"none\" points=\"40,-101 40,-125 138,-125 138,-101 40,-101\"/>\n",
       "<text text-anchor=\"start\" x=\"45\" y=\"-109.6\" font-family=\"-apple-system, BlinkMacSystemFont, 'Segoe UI', Helvetica, Arial, sans-serif, 'Apple Color Emoji', 'Segoe UI Emoji', 'Segoe UI Symbol'\" font-size=\"13.00\">words</text>\n",
       "<polygon fill=\"#f5f5f5\" stroke=\"none\" points=\"138,-101 138,-125 233,-125 233,-101 138,-101\"/>\n",
       "<text text-anchor=\"start\" x=\"205\" y=\"-110.6\" font-family=\"-apple-system, BlinkMacSystemFont, 'Segoe UI', Helvetica, Arial, sans-serif, 'Apple Color Emoji', 'Segoe UI Emoji', 'Segoe UI Symbol'\" font-style=\"italic\" font-size=\"13.00\">long</text>\n",
       "<polygon fill=\"#ffffff\" stroke=\"none\" points=\"9,-77 9,-101 40,-101 40,-77 9,-77\"/>\n",
       "<polygon fill=\"#ffffff\" stroke=\"none\" points=\"40,-77 40,-101 138,-101 138,-77 40,-77\"/>\n",
       "<text text-anchor=\"start\" x=\"45\" y=\"-85.6\" font-family=\"-apple-system, BlinkMacSystemFont, 'Segoe UI', Helvetica, Arial, sans-serif, 'Apple Color Emoji', 'Segoe UI Emoji', 'Segoe UI Symbol'\" font-size=\"13.00\">chars</text>\n",
       "<polygon fill=\"#ffffff\" stroke=\"none\" points=\"138,-77 138,-101 233,-101 233,-77 138,-77\"/>\n",
       "<text text-anchor=\"start\" x=\"205\" y=\"-86.6\" font-family=\"-apple-system, BlinkMacSystemFont, 'Segoe UI', Helvetica, Arial, sans-serif, 'Apple Color Emoji', 'Segoe UI Emoji', 'Segoe UI Symbol'\" font-style=\"italic\" font-size=\"13.00\">long</text>\n",
       "<polygon fill=\"#f5f5f5\" stroke=\"none\" points=\"9,-53 9,-77 40,-77 40,-53 9,-53\"/>\n",
       "<polygon fill=\"#f5f5f5\" stroke=\"none\" points=\"40,-53 40,-77 138,-77 138,-53 40,-53\"/>\n",
       "<text text-anchor=\"start\" x=\"45\" y=\"-61.6\" font-family=\"-apple-system, BlinkMacSystemFont, 'Segoe UI', Helvetica, Arial, sans-serif, 'Apple Color Emoji', 'Segoe UI Emoji', 'Segoe UI Symbol'\" font-size=\"13.00\">word density</text>\n",
       "<polygon fill=\"#f5f5f5\" stroke=\"none\" points=\"138,-53 138,-77 233,-77 233,-53 138,-53\"/>\n",
       "<text text-anchor=\"start\" x=\"191\" y=\"-62.6\" font-family=\"-apple-system, BlinkMacSystemFont, 'Segoe UI', Helvetica, Arial, sans-serif, 'Apple Color Emoji', 'Segoe UI Emoji', 'Segoe UI Symbol'\" font-style=\"italic\" font-size=\"13.00\">double</text>\n",
       "<polygon fill=\"#ffffff\" stroke=\"none\" points=\"9,-29 9,-53 40,-53 40,-29 9,-29\"/>\n",
       "<polygon fill=\"#ffffff\" stroke=\"none\" points=\"40,-29 40,-53 138,-53 138,-29 40,-29\"/>\n",
       "<text text-anchor=\"start\" x=\"45\" y=\"-37.6\" font-family=\"-apple-system, BlinkMacSystemFont, 'Segoe UI', Helvetica, Arial, sans-serif, 'Apple Color Emoji', 'Segoe UI Emoji', 'Segoe UI Symbol'\" font-size=\"13.00\">unique words</text>\n",
       "<polygon fill=\"#ffffff\" stroke=\"none\" points=\"138,-29 138,-53 233,-53 233,-29 138,-29\"/>\n",
       "<text text-anchor=\"start\" x=\"205\" y=\"-38.6\" font-family=\"-apple-system, BlinkMacSystemFont, 'Segoe UI', Helvetica, Arial, sans-serif, 'Apple Color Emoji', 'Segoe UI Emoji', 'Segoe UI Symbol'\" font-style=\"italic\" font-size=\"13.00\">long</text>\n",
       "<polygon fill=\"#f5f5f5\" stroke=\"none\" points=\"9,-5 9,-29 40,-29 40,-5 9,-5\"/>\n",
       "<polygon fill=\"#f5f5f5\" stroke=\"none\" points=\"40,-5 40,-29 138,-29 138,-5 40,-5\"/>\n",
       "<text text-anchor=\"start\" x=\"45\" y=\"-13.6\" font-family=\"-apple-system, BlinkMacSystemFont, 'Segoe UI', Helvetica, Arial, sans-serif, 'Apple Color Emoji', 'Segoe UI Emoji', 'Segoe UI Symbol'\" font-size=\"13.00\">unique density</text>\n",
       "<polygon fill=\"#f5f5f5\" stroke=\"none\" points=\"138,-5 138,-29 233,-29 233,-5 138,-5\"/>\n",
       "<text text-anchor=\"start\" x=\"191\" y=\"-14.6\" font-family=\"-apple-system, BlinkMacSystemFont, 'Segoe UI', Helvetica, Arial, sans-serif, 'Apple Color Emoji', 'Segoe UI Emoji', 'Segoe UI Symbol'\" font-style=\"italic\" font-size=\"13.00\">double</text>\n",
       "<polygon fill=\"none\" stroke=\"black\" points=\"8,-4 8,-486 234,-486 234,-4 8,-4\"/>\n",
       "</g>\n",
       "<!-- Entities -->\n",
       "<g id=\"node2\" class=\"node\"><title>Entities</title>\n",
       "<text text-anchor=\"start\" x=\"372.5\" y=\"-290.6\" font-family=\"-apple-system, BlinkMacSystemFont, 'Segoe UI', Helvetica, Arial, sans-serif, 'Apple Color Emoji', 'Segoe UI Emoji', 'Segoe UI Symbol'\" font-weight=\"bold\" font-size=\"13.00\">Entities</text>\n",
       "<polygon fill=\"#f5f5f5\" stroke=\"none\" points=\"327,-257 327,-281 358,-281 358,-257 327,-257\"/>\n",
       "<text text-anchor=\"start\" x=\"332\" y=\"-266.6\" font-family=\"-apple-system, BlinkMacSystemFont, 'Segoe UI', Helvetica, Arial, sans-serif, 'Apple Color Emoji', 'Segoe UI Emoji', 'Segoe UI Symbol'\" font-weight=\"bold\" font-size=\"13.00\">key</text>\n",
       "<polygon fill=\"#f5f5f5\" stroke=\"none\" points=\"358,-257 358,-281 420,-281 420,-257 358,-257\"/>\n",
       "<text text-anchor=\"start\" x=\"363\" y=\"-265.6\" font-family=\"-apple-system, BlinkMacSystemFont, 'Segoe UI', Helvetica, Arial, sans-serif, 'Apple Color Emoji', 'Segoe UI Emoji', 'Segoe UI Symbol'\" font-size=\"13.00\">id</text>\n",
       "<polygon fill=\"#f5f5f5\" stroke=\"none\" points=\"420,-257 420,-281 463,-281 463,-257 420,-257\"/>\n",
       "<text text-anchor=\"start\" x=\"425\" y=\"-266.6\" font-family=\"-apple-system, BlinkMacSystemFont, 'Segoe UI', Helvetica, Arial, sans-serif, 'Apple Color Emoji', 'Segoe UI Emoji', 'Segoe UI Symbol'\" font-style=\"italic\" font-size=\"13.00\">String</text>\n",
       "<polygon fill=\"#ffffff\" stroke=\"none\" points=\"327,-233 327,-257 358,-257 358,-233 327,-233\"/>\n",
       "<text text-anchor=\"start\" x=\"332\" y=\"-242.6\" font-family=\"-apple-system, BlinkMacSystemFont, 'Segoe UI', Helvetica, Arial, sans-serif, 'Apple Color Emoji', 'Segoe UI Emoji', 'Segoe UI Symbol'\" font-weight=\"bold\" font-size=\"13.00\">key</text>\n",
       "<polygon fill=\"#ffffff\" stroke=\"none\" points=\"358,-233 358,-257 420,-257 420,-233 358,-233\"/>\n",
       "<text text-anchor=\"start\" x=\"363\" y=\"-241.6\" font-family=\"-apple-system, BlinkMacSystemFont, 'Segoe UI', Helvetica, Arial, sans-serif, 'Apple Color Emoji', 'Segoe UI Emoji', 'Segoe UI Symbol'\" font-size=\"13.00\">category</text>\n",
       "<polygon fill=\"#ffffff\" stroke=\"none\" points=\"420,-233 420,-257 463,-257 463,-233 420,-233\"/>\n",
       "<text text-anchor=\"start\" x=\"425\" y=\"-242.6\" font-family=\"-apple-system, BlinkMacSystemFont, 'Segoe UI', Helvetica, Arial, sans-serif, 'Apple Color Emoji', 'Segoe UI Emoji', 'Segoe UI Symbol'\" font-style=\"italic\" font-size=\"13.00\">String</text>\n",
       "<polygon fill=\"#f5f5f5\" stroke=\"none\" points=\"327,-209 327,-233 358,-233 358,-209 327,-209\"/>\n",
       "<text text-anchor=\"start\" x=\"332\" y=\"-218.6\" font-family=\"-apple-system, BlinkMacSystemFont, 'Segoe UI', Helvetica, Arial, sans-serif, 'Apple Color Emoji', 'Segoe UI Emoji', 'Segoe UI Symbol'\" font-weight=\"bold\" font-size=\"13.00\">key</text>\n",
       "<polygon fill=\"#f5f5f5\" stroke=\"none\" points=\"358,-209 358,-233 420,-233 420,-209 358,-209\"/>\n",
       "<text text-anchor=\"start\" x=\"363\" y=\"-217.6\" font-family=\"-apple-system, BlinkMacSystemFont, 'Segoe UI', Helvetica, Arial, sans-serif, 'Apple Color Emoji', 'Segoe UI Emoji', 'Segoe UI Symbol'\" font-size=\"13.00\">text</text>\n",
       "<polygon fill=\"#f5f5f5\" stroke=\"none\" points=\"420,-209 420,-233 463,-233 463,-209 420,-209\"/>\n",
       "<text text-anchor=\"start\" x=\"425\" y=\"-218.6\" font-family=\"-apple-system, BlinkMacSystemFont, 'Segoe UI', Helvetica, Arial, sans-serif, 'Apple Color Emoji', 'Segoe UI Emoji', 'Segoe UI Symbol'\" font-style=\"italic\" font-size=\"13.00\">String</text>\n",
       "<polygon fill=\"#ffffff\" stroke=\"none\" points=\"327,-185 327,-209 358,-209 358,-185 327,-185\"/>\n",
       "<polygon fill=\"#ffffff\" stroke=\"none\" points=\"358,-185 358,-209 420,-209 420,-185 358,-185\"/>\n",
       "<text text-anchor=\"start\" x=\"363\" y=\"-193.6\" font-family=\"-apple-system, BlinkMacSystemFont, 'Segoe UI', Helvetica, Arial, sans-serif, 'Apple Color Emoji', 'Segoe UI Emoji', 'Segoe UI Symbol'\" font-size=\"13.00\">text count</text>\n",
       "<polygon fill=\"#ffffff\" stroke=\"none\" points=\"420,-185 420,-209 463,-209 463,-185 420,-185\"/>\n",
       "<text text-anchor=\"start\" x=\"444\" y=\"-194.6\" font-family=\"-apple-system, BlinkMacSystemFont, 'Segoe UI', Helvetica, Arial, sans-serif, 'Apple Color Emoji', 'Segoe UI Emoji', 'Segoe UI Symbol'\" font-style=\"italic\" font-size=\"13.00\">int</text>\n",
       "<polygon fill=\"none\" stroke=\"black\" points=\"326,-184 326,-306 464,-306 464,-184 326,-184\"/>\n",
       "</g>\n",
       "<!-- Reddit_Posts&#45;&gt;Entities -->\n",
       "<g id=\"edge1\" class=\"edge\"><title>Reddit_Posts-&gt;Entities</title>\n",
       "<path fill=\"none\" stroke=\"black\" stroke-dasharray=\"5,2\" d=\"M242.095,-245C264.232,-245 286.938,-245 307.825,-245\"/>\n",
       "<polygon fill=\"black\" stroke=\"black\" points=\"307.922,-248.5 317.922,-245 307.922,-241.5 307.922,-248.5\"/>\n",
       "<text text-anchor=\"middle\" x=\"280\" y=\"-248.6\" font-family=\"-apple-system, BlinkMacSystemFont, 'Segoe UI', Helvetica, Arial, sans-serif, 'Apple Color Emoji', 'Segoe UI Emoji', 'Segoe UI Symbol'\" font-size=\"13.00\">id → id</text>\n",
       "</g>\n",
       "</g>\n",
       "</svg>"
      ],
      "text/plain": [
       "<IPython.core.display.SVG object>"
      ]
     },
     "execution_count": 19,
     "metadata": {},
     "output_type": "execute_result"
    }
   ],
   "source": [
    "cube.schema"
   ]
  },
  {
   "cell_type": "markdown",
   "metadata": {},
   "source": [
    "Take a look at the structure of the cube created. Only a `Count` measure is created."
   ]
  },
  {
   "cell_type": "code",
   "execution_count": 20,
   "metadata": {},
   "outputs": [
    {
     "data": {
      "application/json": {
       "Dimensions": {
        "Entities": {
         "category": [
          "category"
         ],
         "text": [
          "text"
         ],
         "text count": [
          "text count"
         ]
        },
        "Reddit_Posts": {
         "author": [
          "author"
         ],
         "chars": [
          "chars"
         ],
         "comments": [
          "comments"
         ],
         "created": [
          "created"
         ],
         "created date": [
          "created date"
         ],
         "created time": [
          "created time"
         ],
         "id": [
          "id"
         ],
         "lemmatized post": [
          "lemmatized post"
         ],
         "lemmatized title": [
          "lemmatized title"
         ],
         "pinned": [
          "pinned"
         ],
         "post": [
          "post"
         ],
         "score": [
          "score"
         ],
         "subreddit": [
          "subreddit"
         ],
         "title": [
          "title"
         ],
         "total awards": [
          "total awards"
         ],
         "unique words": [
          "unique words"
         ],
         "words": [
          "words"
         ]
        }
       },
       "Measures": {
        "contributors.COUNT": {
         "formatter": "INT[#,###]"
        }
       }
      },
      "text/html": [
       "<ul>\n",
       "<li>Reddit\n",
       "  <ul>\n",
       "  <li>Dimensions\n",
       "    <ul>\n",
       "    <li>Entities\n",
       "      <ul>\n",
       "      <li>category\n",
       "        <ol>\n",
       "        <li>category</li>\n",
       "        </ol>      </li>\n",
       "      <li>text\n",
       "        <ol>\n",
       "        <li>text</li>\n",
       "        </ol>      </li>\n",
       "      <li>text count\n",
       "        <ol>\n",
       "        <li>text count</li>\n",
       "        </ol>      </li>\n",
       "      </ul>\n",
       "    </li>\n",
       "    <li>Reddit_Posts\n",
       "      <ul>\n",
       "      <li>author\n",
       "        <ol>\n",
       "        <li>author</li>\n",
       "        </ol>      </li>\n",
       "      <li>chars\n",
       "        <ol>\n",
       "        <li>chars</li>\n",
       "        </ol>      </li>\n",
       "      <li>comments\n",
       "        <ol>\n",
       "        <li>comments</li>\n",
       "        </ol>      </li>\n",
       "      <li>created\n",
       "        <ol>\n",
       "        <li>created</li>\n",
       "        </ol>      </li>\n",
       "      <li>created date\n",
       "        <ol>\n",
       "        <li>created date</li>\n",
       "        </ol>      </li>\n",
       "      <li>created time\n",
       "        <ol>\n",
       "        <li>created time</li>\n",
       "        </ol>      </li>\n",
       "      <li>id\n",
       "        <ol>\n",
       "        <li>id</li>\n",
       "        </ol>      </li>\n",
       "      <li>lemmatized post\n",
       "        <ol>\n",
       "        <li>lemmatized post</li>\n",
       "        </ol>      </li>\n",
       "      <li>lemmatized title\n",
       "        <ol>\n",
       "        <li>lemmatized title</li>\n",
       "        </ol>      </li>\n",
       "      <li>pinned\n",
       "        <ol>\n",
       "        <li>pinned</li>\n",
       "        </ol>      </li>\n",
       "      <li>post\n",
       "        <ol>\n",
       "        <li>post</li>\n",
       "        </ol>      </li>\n",
       "      <li>score\n",
       "        <ol>\n",
       "        <li>score</li>\n",
       "        </ol>      </li>\n",
       "      <li>subreddit\n",
       "        <ol>\n",
       "        <li>subreddit</li>\n",
       "        </ol>      </li>\n",
       "      <li>title\n",
       "        <ol>\n",
       "        <li>title</li>\n",
       "        </ol>      </li>\n",
       "      <li>total awards\n",
       "        <ol>\n",
       "        <li>total awards</li>\n",
       "        </ol>      </li>\n",
       "      <li>unique words\n",
       "        <ol>\n",
       "        <li>unique words</li>\n",
       "        </ol>      </li>\n",
       "      <li>words\n",
       "        <ol>\n",
       "        <li>words</li>\n",
       "        </ol>      </li>\n",
       "      </ul>\n",
       "    </li>\n",
       "    </ul>\n",
       "  </li>\n",
       "  <li>Measures\n",
       "    <ul>\n",
       "    <li>contributors.COUNT\n",
       "      <ul>\n",
       "      <li>formatter: INT[#,###]</li>\n",
       "      </ul>\n",
       "    </li>\n",
       "    </ul>\n",
       "  </li>\n",
       "  </ul>\n",
       "</li>\n",
       "</ul>\n"
      ],
      "text/plain": [
       "<atoti.cube.Cube at 0x2b1d7ca29a0>"
      ]
     },
     "execution_count": 20,
     "metadata": {
      "application/json": {
       "expanded": false,
       "root": "Reddit"
      }
     },
     "output_type": "execute_result"
    }
   ],
   "source": [
    "m = cube.measures\n",
    "l = cube.levels\n",
    "h = cube.hierarchies\n",
    "cube"
   ]
  },
  {
   "cell_type": "markdown",
   "metadata": {},
   "source": [
    "#### Managing hierarchies\n",
    "\n",
    "Since I am going to create my own measures, I will delete the numeric columns from my hierarchies to avoid confusion with the measures that I will be creating."
   ]
  },
  {
   "cell_type": "code",
   "execution_count": 21,
   "metadata": {},
   "outputs": [],
   "source": [
    "del h[\"text count\"]\n",
    "del h[\"score\"]\n",
    "del h[\"comments\"]\n",
    "del h[\"total awards\"]\n",
    "del h[\"words\"]\n",
    "del h[\"chars\"]\n",
    "del h[\"unique words\"]"
   ]
  },
  {
   "cell_type": "markdown",
   "metadata": {},
   "source": [
    "#### Measures creation\n",
    "\n",
    "In default `auto` mode, atoti will create a `MEAN` and a `SUM` measure.  \n",
    "However, as I only require `sum` in my simple use case and in order to demonstrate how simple aggregation can be done with atoti, I created the below measures instead."
   ]
  },
  {
   "cell_type": "code",
   "execution_count": 22,
   "metadata": {},
   "outputs": [],
   "source": [
    "m[\"Text Count\"] = tt.agg.sum(entity_store[\"text count\"])\n",
    "m[\"Score\"] = tt.agg.sum(reddit_store[\"score\"])\n",
    "m[\"Comments\"] = tt.agg.sum(reddit_store[\"comments\"])\n",
    "m[\"Total awards\"] = tt.agg.sum(reddit_store[\"total awards\"])\n",
    "m[\"Words\"] = tt.agg.sum(reddit_store[\"words\"])\n",
    "m[\"Chars\"] = tt.agg.sum(reddit_store[\"chars\"])\n",
    "m[\"Unique words\"] = tt.agg.sum(reddit_store[\"unique words\"])\n",
    "m[\"Word density\"] = tt.agg.sum(reddit_store[\"word density\"])\n",
    "m[\"Unique density\"] = tt.agg.sum(reddit_store[\"unique density\"])"
   ]
  },
  {
   "cell_type": "markdown",
   "metadata": {},
   "source": [
    "##### Distinct measure\n",
    "\n",
    "I use the [`count_distinct`](https://docs.atoti.io/0.4.2/lib/atoti.html?highlight=count_distinct#atoti.agg.count_distinct) function to compute the number of days the data span across."
   ]
  },
  {
   "cell_type": "code",
   "execution_count": 23,
   "metadata": {},
   "outputs": [],
   "source": [
    "m[\"Number days\"] = tt.agg.count_distinct(reddit_store[\"created date\"])"
   ]
  },
  {
   "cell_type": "markdown",
   "metadata": {},
   "source": [
    "##### Cumulative measure\n",
    "\n",
    "Aggregation with the [`cumulative`](https://docs.atoti.io/0.4.2/lib/atoti.scope.html?highlight=cumulative#atoti.scope.cumulative) scope allows me to see the trend of the posting over the `created` level. By setting the parameter `dense=True`, we can see a continuous plot of the trend even if there are no postings on days in between. "
   ]
  },
  {
   "cell_type": "code",
   "execution_count": 24,
   "metadata": {},
   "outputs": [],
   "source": [
    "m[\"Cumulative Count\"] = tt.agg.sum(\n",
    "    m[\"contributors.COUNT\"], scope=tt.scope.cumulative(l[\"created\"], dense=True)\n",
    ")"
   ]
  },
  {
   "cell_type": "code",
   "execution_count": 25,
   "metadata": {
    "atoti": {
     "widget": {
      "mapping": {
       "horizontalSubplots": [],
       "splitBy": [
        "[Reddit_Posts].[subreddit].[subreddit]"
       ],
       "values": [
        "[Measures].[Cumulative Count]"
       ],
       "verticalSubplots": [],
       "xAxis": [
        "[Reddit_Posts].[created].[created]"
       ]
      },
      "name": "Posting Trends",
      "plotly": {
       "data": {
        "commonTraceOverride": {
         "mode": "lines"
        }
       }
      },
      "query": {
       "context": {
        "queriesResultLimit.intermediateSize": 1000000,
        "queriesResultLimit.transientSize": 10000000
       },
       "mdx": "SELECT NON EMPTY Crossjoin([Reddit_Posts].[created].[created].Members, [Reddit_Posts].[subreddit].[subreddit].Members) ON ROWS, NON EMPTY [Measures].[Cumulative Count] ON COLUMNS FROM [Reddit] CELL PROPERTIES VALUE, FORMATTED_VALUE, BACK_COLOR, FORE_COLOR, FONT_FLAGS",
       "updateMode": "once"
      },
      "serverKey": "default",
      "widgetKey": "plotly-line-chart"
     }
    }
   },
   "outputs": [
    {
     "data": {
      "application/vnd.atoti.v0+json": {
       "name": "Posting Trends",
       "session": "Unnamed"
      },
      "text/html": [
       "<img src=\"data:image/svg+xml;charset=utf8,%3C%3Fxml%20version%3D%221.0%22%20standalone%3D%22no%22%3F%3E%3Csvg%20xmlns%3D%22http%3A%2F%2Fwww.w3.org%2F2000%2Fsvg%22%20xmlns%3Axlink%3D%22http%3A%2F%2Fwww.w3.org%2F1999%2Fxlink%22%20height%3D%22348%22%20width%3D%22748%22%20viewBox%3D%220%200%20745.9942626953125%20347.9971618652344%22%3E%3Cdefs%20id%3D%22defs-876d06%22%3E%3Cg%20class%3D%22clips%22%3E%3CclipPath%20id%3D%22clip876d06xyplot%22%20class%3D%22plotclip%22%3E%3Crect%20width%3D%22525%22%20height%3D%22238%22%2F%3E%3C%2FclipPath%3E%3CclipPath%20class%3D%22axesclip%22%20id%3D%22clip876d06x%22%3E%3Crect%20x%3D%2280%22%20y%3D%220%22%20width%3D%22525%22%20height%3D%22348%22%2F%3E%3C%2FclipPath%3E%3CclipPath%20class%3D%22axesclip%22%20id%3D%22clip876d06y%22%3E%3Crect%20x%3D%220%22%20y%3D%2230%22%20width%3D%22746%22%20height%3D%22238%22%2F%3E%3C%2FclipPath%3E%3CclipPath%20class%3D%22axesclip%22%20id%3D%22clip876d06xy%22%3E%3Crect%20x%3D%2280%22%20y%3D%2230%22%20width%3D%22525%22%20height%3D%22238%22%2F%3E%3C%2FclipPath%3E%3C%2Fg%3E%3Cg%20class%3D%22gradients%22%2F%3E%3C%2Fdefs%3E%3Cg%20class%3D%22bglayer%22%2F%3E%3Cg%20class%3D%22draglayer%20cursor-crosshair%22%3E%3Cg%20class%3D%22xy%22%3E%3Crect%20class%3D%22nsewdrag%20drag%22%20data-subplot%3D%22xy%22%20x%3D%2280%22%20y%3D%2230%22%20width%3D%22525%22%20height%3D%22238%22%20style%3D%22fill%3A%20transparent%3B%20stroke-width%3A%200%3B%20pointer-events%3A%20all%3B%22%2F%3E%3Crect%20class%3D%22nwdrag%20drag%20cursor-nw-resize%22%20data-subplot%3D%22xy%22%20x%3D%2260%22%20y%3D%2210%22%20width%3D%2220%22%20height%3D%2220%22%20style%3D%22fill%3A%20transparent%3B%20stroke-width%3A%200%3B%20pointer-events%3A%20all%3B%22%2F%3E%3Crect%20class%3D%22nedrag%20drag%20cursor-ne-resize%22%20data-subplot%3D%22xy%22%20x%3D%22605%22%20y%3D%2210%22%20width%3D%2220%22%20height%3D%2220%22%20style%3D%22fill%3A%20transparent%3B%20stroke-width%3A%200%3B%20pointer-events%3A%20all%3B%22%2F%3E%3Crect%20class%3D%22swdrag%20drag%20cursor-sw-resize%22%20data-subplot%3D%22xy%22%20x%3D%2260%22%20y%3D%22268%22%20width%3D%2220%22%20height%3D%2220%22%20style%3D%22fill%3A%20transparent%3B%20stroke-width%3A%200%3B%20pointer-events%3A%20all%3B%22%2F%3E%3Crect%20class%3D%22sedrag%20drag%20cursor-se-resize%22%20data-subplot%3D%22xy%22%20x%3D%22605%22%20y%3D%22268%22%20width%3D%2220%22%20height%3D%2220%22%20style%3D%22fill%3A%20transparent%3B%20stroke-width%3A%200%3B%20pointer-events%3A%20all%3B%22%2F%3E%3Crect%20class%3D%22ewdrag%20drag%20cursor-ew-resize%22%20data-subplot%3D%22xy%22%20x%3D%22132.5%22%20y%3D%22268.5%22%20width%3D%22420%22%20height%3D%2220%22%20style%3D%22fill%3A%20transparent%3B%20stroke-width%3A%200%3B%20pointer-events%3A%20all%3B%22%2F%3E%3Crect%20class%3D%22wdrag%20drag%20cursor-w-resize%22%20data-subplot%3D%22xy%22%20x%3D%2280%22%20y%3D%22268.5%22%20width%3D%2252.5%22%20height%3D%2220%22%20style%3D%22fill%3A%20transparent%3B%20stroke-width%3A%200%3B%20pointer-events%3A%20all%3B%22%2F%3E%3Crect%20class%3D%22edrag%20drag%20cursor-e-resize%22%20data-subplot%3D%22xy%22%20x%3D%22552.5%22%20y%3D%22268.5%22%20width%3D%2252.5%22%20height%3D%2220%22%20style%3D%22fill%3A%20transparent%3B%20stroke-width%3A%200%3B%20pointer-events%3A%20all%3B%22%2F%3E%3Crect%20class%3D%22nsdrag%20drag%20cursor-ns-resize%22%20data-subplot%3D%22xy%22%20x%3D%2259.5%22%20y%3D%2253.8%22%20width%3D%2220%22%20height%3D%22190.4%22%20style%3D%22fill%3A%20transparent%3B%20stroke-width%3A%200%3B%20pointer-events%3A%20all%3B%22%2F%3E%3Crect%20class%3D%22sdrag%20drag%20cursor-s-resize%22%20data-subplot%3D%22xy%22%20x%3D%2259.5%22%20y%3D%22244.20000000000002%22%20width%3D%2220%22%20height%3D%2223.8%22%20style%3D%22fill%3A%20transparent%3B%20stroke-width%3A%200%3B%20pointer-events%3A%20all%3B%22%2F%3E%3Crect%20class%3D%22ndrag%20drag%20cursor-n-resize%22%20data-subplot%3D%22xy%22%20x%3D%2259.5%22%20y%3D%2230%22%20width%3D%2220%22%20height%3D%2223.8%22%20style%3D%22fill%3A%20transparent%3B%20stroke-width%3A%200%3B%20pointer-events%3A%20all%3B%22%2F%3E%3C%2Fg%3E%3C%2Fg%3E%3Cg%20class%3D%22layer-below%22%3E%3Cg%20class%3D%22imagelayer%22%2F%3E%3Cg%20class%3D%22shapelayer%22%2F%3E%3C%2Fg%3E%3Cg%20class%3D%22cartesianlayer%22%3E%3Cg%20class%3D%22subplot%20xy%22%3E%3Cg%20class%3D%22layer-subplot%22%3E%3Cg%20class%3D%22shapelayer%22%2F%3E%3Cg%20class%3D%22imagelayer%22%2F%3E%3C%2Fg%3E%3Cg%20class%3D%22gridlayer%22%3E%3Cg%20class%3D%22x%22%3E%3Cpath%20class%3D%22xgrid%20crisp%22%20transform%3D%22translate(108%2C0)%22%20d%3D%22M0%2C30v238%22%20style%3D%22stroke%3A%20rgb(89%2C%2089%2C%2089)%3B%20stroke-opacity%3A%200.25%3B%20stroke-width%3A%201px%3B%22%2F%3E%3Cpath%20class%3D%22xgrid%20crisp%22%20transform%3D%22translate(200.8%2C0)%22%20d%3D%22M0%2C30v238%22%20style%3D%22stroke%3A%20rgb(89%2C%2089%2C%2089)%3B%20stroke-opacity%3A%200.25%3B%20stroke-width%3A%201px%3B%22%2F%3E%3Cpath%20class%3D%22xgrid%20crisp%22%20transform%3D%22translate(293.6%2C0)%22%20d%3D%22M0%2C30v238%22%20style%3D%22stroke%3A%20rgb(89%2C%2089%2C%2089)%3B%20stroke-opacity%3A%200.25%3B%20stroke-width%3A%201px%3B%22%2F%3E%3Cpath%20class%3D%22xgrid%20crisp%22%20transform%3D%22translate(386.41%2C0)%22%20d%3D%22M0%2C30v238%22%20style%3D%22stroke%3A%20rgb(89%2C%2089%2C%2089)%3B%20stroke-opacity%3A%200.25%3B%20stroke-width%3A%201px%3B%22%2F%3E%3Cpath%20class%3D%22xgrid%20crisp%22%20transform%3D%22translate(479.21%2C0)%22%20d%3D%22M0%2C30v238%22%20style%3D%22stroke%3A%20rgb(89%2C%2089%2C%2089)%3B%20stroke-opacity%3A%200.25%3B%20stroke-width%3A%201px%3B%22%2F%3E%3Cpath%20class%3D%22xgrid%20crisp%22%20transform%3D%22translate(572.02%2C0)%22%20d%3D%22M0%2C30v238%22%20style%3D%22stroke%3A%20rgb(89%2C%2089%2C%2089)%3B%20stroke-opacity%3A%200.25%3B%20stroke-width%3A%201px%3B%22%2F%3E%3C%2Fg%3E%3Cg%20class%3D%22y%22%3E%3Cpath%20class%3D%22ygrid%20crisp%22%20transform%3D%22translate(0%2C213.6)%22%20d%3D%22M80%2C0h525%22%20style%3D%22stroke%3A%20rgb(89%2C%2089%2C%2089)%3B%20stroke-opacity%3A%200.25%3B%20stroke-width%3A%201px%3B%22%2F%3E%3Cpath%20class%3D%22ygrid%20crisp%22%20transform%3D%22translate(0%2C170.68)%22%20d%3D%22M80%2C0h525%22%20style%3D%22stroke%3A%20rgb(89%2C%2089%2C%2089)%3B%20stroke-opacity%3A%200.25%3B%20stroke-width%3A%201px%3B%22%2F%3E%3Cpath%20class%3D%22ygrid%20crisp%22%20transform%3D%22translate(0%2C127.75)%22%20d%3D%22M80%2C0h525%22%20style%3D%22stroke%3A%20rgb(89%2C%2089%2C%2089)%3B%20stroke-opacity%3A%200.25%3B%20stroke-width%3A%201px%3B%22%2F%3E%3Cpath%20class%3D%22ygrid%20crisp%22%20transform%3D%22translate(0%2C84.83)%22%20d%3D%22M80%2C0h525%22%20style%3D%22stroke%3A%20rgb(89%2C%2089%2C%2089)%3B%20stroke-opacity%3A%200.25%3B%20stroke-width%3A%201px%3B%22%2F%3E%3Cpath%20class%3D%22ygrid%20crisp%22%20transform%3D%22translate(0%2C41.9)%22%20d%3D%22M80%2C0h525%22%20style%3D%22stroke%3A%20rgb(89%2C%2089%2C%2089)%3B%20stroke-opacity%3A%200.25%3B%20stroke-width%3A%201px%3B%22%2F%3E%3C%2Fg%3E%3C%2Fg%3E%3Cg%20class%3D%22zerolinelayer%22%3E%3Cpath%20class%3D%22yzl%20zl%20crisp%22%20transform%3D%22translate(0%2C256.53)%22%20d%3D%22M80%2C0h525%22%20style%3D%22stroke%3A%20rgb(89%2C%2089%2C%2089)%3B%20stroke-opacity%3A%200.5%3B%20stroke-width%3A%201px%3B%22%2F%3E%3C%2Fg%3E%3Cpath%20class%3D%22xlines-below%22%2F%3E%3Cpath%20class%3D%22ylines-below%22%2F%3E%3Cg%20class%3D%22overlines-below%22%2F%3E%3Cg%20class%3D%22xaxislayer-below%22%2F%3E%3Cg%20class%3D%22yaxislayer-below%22%2F%3E%3Cg%20class%3D%22overaxes-below%22%2F%3E%3Cg%20class%3D%22plot%22%20transform%3D%22translate(80%2C30)%22%20clip-path%3D%22url('%23clip876d06xyplot')%22%3E%3Cg%20class%3D%22scatterlayer%20mlayer%22%3E%3Cg%20class%3D%22trace%20scatter%20trace599e7d0%22%20style%3D%22stroke-miterlimit%3A%202%3B%20opacity%3A%201%3B%22%3E%3Cg%20class%3D%22fills%22%2F%3E%3Cg%20class%3D%22errorbars%22%2F%3E%3Cg%20class%3D%22lines%22%3E%3Cpath%20class%3D%22js-line%22%20d%3D%22M0%2C226.1L9.44%2C224.81L9.55%2C224.38L10.47%2C223.52L12.1%2C223.1L13.65%2C221.81L18.65%2C221.38L28.92%2C219.66L29.7%2C219.23L29.94%2C218.8L31.44%2C218.37L35.21%2C217.09L35.33%2C216.66L49.06%2C215.37L50.01%2C214.94L50.42%2C214.51L55.95%2C214.08L56.28%2C213.65L58.11%2C213.22L69.15%2C209.79L69.74%2C209.36L71.7%2C208.5L71.96%2C208.07L72.35%2C207.64L74.68%2C207.21L75.83%2C206.78L85.5%2C206.35L86.19%2C205.92L89.5%2C205.5L98.28%2C204.21L99.08%2C203.78L101.2%2C202.49L105.16%2C202.06L107.23%2C201.2L112.67%2C200.77L113.36%2C199.49L114.86%2C199.06L114.97%2C198.63L125.98%2C198.2L131.7%2C195.62L131.76%2C195.19L143.6%2C193.05L143.69%2C192.62L151.92%2C189.61L156.8%2C189.18L162.94%2C186.61L163.59%2C186.18L164.75%2C185.32L164.8%2C184.89L173.79%2C182.32L174.12%2C181.89L184.2%2C179.74L184.46%2C179.31L198.57%2C172.44L198.69%2C172.01L202.53%2C170.3L203.18%2C169.87L203.65%2C169.01L205.43%2C168.58L206.86%2C167.29L207.39%2C166.86L207.44%2C166.43L210.73%2C166L214.15%2C163L216.26%2C162.57L220.67%2C160.42L221.52%2C159.99L221.56%2C159.56L222.82%2C159.14L239.5%2C152.7L239.51%2C152.27L239.98%2C151.84L243.64%2C151.41L250.61%2C150.12L250.64%2C149.69L252.89%2C148.83L255.37%2C148.4L255.49%2C147.55L258.3%2C147.12L260.21%2C145.83L261.01%2C145.4L263.4%2C143.25L265.74%2C142.82L267.62%2C138.96L267.87%2C138.53L268.44%2C136.38L269.89%2C135.96L270.38%2C133.81L270.51%2C133.38L274.33%2C132.52L274.67%2C132.09L277.69%2C130.38L279.33%2C129.95L282.12%2C128.23L283.44%2C127.8L283.58%2C127.37L286.09%2C126.94L286.39%2C126.51L288.08%2C126.08L292.11%2C124.37L292.22%2C123.94L296.5%2C122.22L296.66%2C121.79L300.25%2C119.64L301.17%2C119.21L302.75%2C117.5L305.12%2C117.07L308.3%2C115.78L308.41%2C115.35L309.35%2C114.92L309.42%2C114.06L309.45%2C113.63L311.51%2C113.21L311.83%2C112.78L315.02%2C112.35L316.38%2C111.49L318.25%2C111.06L322.82%2C109.34L325.9%2C108.91L332.84%2C107.2L332.92%2C106.77L337.25%2C104.62L338.75%2C104.19L340.1%2C102.9L341.08%2C102.47L341.34%2C102.04L342.7%2C101.62L347.59%2C100.33L348.48%2C99.9L355.3%2C96.89L358.08%2C96.46L361.41%2C93.89L363.52%2C93.46L363.61%2C93.03L365.09%2C92.6L367.74%2C91.31L367.75%2C90.88L368.07%2C90.03L368.91%2C89.6L370.06%2C87.45L370.88%2C87.02L371.9%2C85.73L373.83%2C85.3L373.86%2C84.87L374.79%2C84.44L383.04%2C83.16L383.13%2C82.73L387.42%2C81.87L387.64%2C81.44L391.92%2C78.01L394.6%2C77.58L402.18%2C74.14L402.63%2C73.28L404.35%2C70.71L405.26%2C70.28L405.68%2C68.56L406.92%2C68.13L414.33%2C66.42L414.58%2C65.99L415.1%2C65.13L416.03%2C64.7L422.3%2C62.98L423.56%2C62.55L425.74%2C60.84L428.17%2C60.41L429.45%2C58.69L432.38%2C58.26L433.24%2C56.97L434.13%2C56.54L434.62%2C55.68L436.09%2C55.26L436.75%2C53.97L439.05%2C53.54L448.39%2C50.96L448.85%2C50.53L449.62%2C49.67L451.47%2C49.25L451.8%2C48.82L453.14%2C48.39L477.45%2C44.52L477.52%2C44.09L479.28%2C42.38L480.75%2C41.95L483.57%2C40.23L487.08%2C39.8L487.94%2C38.94L492.61%2C38.51L492.71%2C38.08L494.99%2C37.66L495.23%2C36.8L495.88%2C36.37L496.06%2C35.94L498.31%2C35.51L499.13%2C35.08L503.44%2C34.65L506.28%2C32.93L506.31%2C32.5L507.46%2C31.22L507.57%2C30.79L508.63%2C29.5L509.17%2C29.07L509.8%2C27.35L510.72%2C26.92L511.14%2C26.07L512.24%2C25.64L512.92%2C24.35L513.59%2C23.92L515.99%2C22.2L517.16%2C21.77L517.98%2C21.34L521.08%2C20.91L523.2%2C18.34L523.22%2C17.91L523.39%2C16.62L524.32%2C16.19L524.73%2C14.48L524.74%2C14.05L525%2C11.9%22%20style%3D%22vector-effect%3A%20non-scaling-stroke%3B%20fill%3A%20none%3B%20stroke%3A%20rgb(78%2C%20121%2C%20167)%3B%20stroke-opacity%3A%201%3B%20stroke-width%3A%202px%3B%20opacity%3A%201%3B%22%2F%3E%3C%2Fg%3E%3Cg%20class%3D%22points%22%2F%3E%3Cg%20class%3D%22text%22%2F%3E%3C%2Fg%3E%3C%2Fg%3E%3C%2Fg%3E%3Cg%20class%3D%22overplot%22%2F%3E%3Cpath%20class%3D%22xlines-above%20crisp%22%20d%3D%22M79%2C268.5H605%22%20style%3D%22fill%3A%20none%3B%20stroke-width%3A%201px%3B%20stroke%3A%20rgb(89%2C%2089%2C%2089)%3B%20stroke-opacity%3A%200.25%3B%22%2F%3E%3Cpath%20class%3D%22ylines-above%20crisp%22%20d%3D%22M79.5%2C30V268%22%20style%3D%22fill%3A%20none%3B%20stroke-width%3A%201px%3B%20stroke%3A%20rgb(89%2C%2089%2C%2089)%3B%20stroke-opacity%3A%200.25%3B%22%2F%3E%3Cg%20class%3D%22overlines-above%22%2F%3E%3Cg%20class%3D%22xaxislayer-above%22%3E%3Cg%20class%3D%22xtick%22%3E%3Ctext%20text-anchor%3D%22middle%22%20x%3D%220%22%20y%3D%22283.4%22%20data-unformatted%3D%2200%3A00%26lt%3Bbr%26gt%3BJan%2027%2C%202021%22%20data-math%3D%22N%22%20transform%3D%22translate(108%2C0)%22%20style%3D%22font-family%3A%20%26quot%3BOpen%20Sans%26quot%3B%2C%20verdana%2C%20arial%2C%20sans-serif%3B%20font-size%3A%2012px%3B%20fill%3A%20rgb(89%2C%2089%2C%2089)%3B%20fill-opacity%3A%201%3B%20white-space%3A%20pre%3B%22%3E%3Ctspan%20class%3D%22line%22%20dy%3D%220em%22%20x%3D%220%22%20y%3D%22283.4%22%3E00%3A00%3C%2Ftspan%3E%3Ctspan%20class%3D%22line%22%20dy%3D%221.3em%22%20x%3D%220%22%20y%3D%22283.4%22%3EJan%2027%2C%202021%3C%2Ftspan%3E%3C%2Ftext%3E%3C%2Fg%3E%3Cg%20class%3D%22xtick%22%3E%3Ctext%20text-anchor%3D%22middle%22%20x%3D%220%22%20y%3D%22283.4%22%20data-unformatted%3D%2202%3A00%22%20data-math%3D%22N%22%20transform%3D%22translate(200.8%2C0)%22%20style%3D%22font-family%3A%20%26quot%3BOpen%20Sans%26quot%3B%2C%20verdana%2C%20arial%2C%20sans-serif%3B%20font-size%3A%2012px%3B%20fill%3A%20rgb(89%2C%2089%2C%2089)%3B%20fill-opacity%3A%201%3B%20white-space%3A%20pre%3B%22%3E02%3A00%3C%2Ftext%3E%3C%2Fg%3E%3Cg%20class%3D%22xtick%22%3E%3Ctext%20text-anchor%3D%22middle%22%20x%3D%220%22%20y%3D%22283.4%22%20data-unformatted%3D%2204%3A00%22%20data-math%3D%22N%22%20transform%3D%22translate(293.6%2C0)%22%20style%3D%22font-family%3A%20%26quot%3BOpen%20Sans%26quot%3B%2C%20verdana%2C%20arial%2C%20sans-serif%3B%20font-size%3A%2012px%3B%20fill%3A%20rgb(89%2C%2089%2C%2089)%3B%20fill-opacity%3A%201%3B%20white-space%3A%20pre%3B%22%3E04%3A00%3C%2Ftext%3E%3C%2Fg%3E%3Cg%20class%3D%22xtick%22%3E%3Ctext%20text-anchor%3D%22middle%22%20x%3D%220%22%20y%3D%22283.4%22%20data-unformatted%3D%2206%3A00%22%20data-math%3D%22N%22%20transform%3D%22translate(386.41%2C0)%22%20style%3D%22font-family%3A%20%26quot%3BOpen%20Sans%26quot%3B%2C%20verdana%2C%20arial%2C%20sans-serif%3B%20font-size%3A%2012px%3B%20fill%3A%20rgb(89%2C%2089%2C%2089)%3B%20fill-opacity%3A%201%3B%20white-space%3A%20pre%3B%22%3E06%3A00%3C%2Ftext%3E%3C%2Fg%3E%3Cg%20class%3D%22xtick%22%3E%3Ctext%20text-anchor%3D%22middle%22%20x%3D%220%22%20y%3D%22283.4%22%20data-unformatted%3D%2208%3A00%22%20data-math%3D%22N%22%20transform%3D%22translate(479.21%2C0)%22%20style%3D%22font-family%3A%20%26quot%3BOpen%20Sans%26quot%3B%2C%20verdana%2C%20arial%2C%20sans-serif%3B%20font-size%3A%2012px%3B%20fill%3A%20rgb(89%2C%2089%2C%2089)%3B%20fill-opacity%3A%201%3B%20white-space%3A%20pre%3B%22%3E08%3A00%3C%2Ftext%3E%3C%2Fg%3E%3Cg%20class%3D%22xtick%22%3E%3Ctext%20text-anchor%3D%22middle%22%20x%3D%220%22%20y%3D%22283.4%22%20data-unformatted%3D%2210%3A00%22%20data-math%3D%22N%22%20transform%3D%22translate(572.02%2C0)%22%20style%3D%22font-family%3A%20%26quot%3BOpen%20Sans%26quot%3B%2C%20verdana%2C%20arial%2C%20sans-serif%3B%20font-size%3A%2012px%3B%20fill%3A%20rgb(89%2C%2089%2C%2089)%3B%20fill-opacity%3A%201%3B%20white-space%3A%20pre%3B%22%3E10%3A00%3C%2Ftext%3E%3C%2Fg%3E%3C%2Fg%3E%3Cg%20class%3D%22yaxislayer-above%22%3E%3Cg%20class%3D%22ytick%22%3E%3Ctext%20text-anchor%3D%22end%22%20x%3D%2276.6%22%20y%3D%224.199999999999999%22%20data-unformatted%3D%220%22%20data-math%3D%22N%22%20transform%3D%22translate(0%2C256.53)%22%20style%3D%22font-family%3A%20%26quot%3BOpen%20Sans%26quot%3B%2C%20verdana%2C%20arial%2C%20sans-serif%3B%20font-size%3A%2012px%3B%20fill%3A%20rgb(89%2C%2089%2C%2089)%3B%20fill-opacity%3A%201%3B%20white-space%3A%20pre%3B%22%3E0%3C%2Ftext%3E%3C%2Fg%3E%3Cg%20class%3D%22ytick%22%3E%3Ctext%20text-anchor%3D%22end%22%20x%3D%2276.6%22%20y%3D%224.199999999999999%22%20data-unformatted%3D%22100%22%20data-math%3D%22N%22%20transform%3D%22translate(0%2C213.6)%22%20style%3D%22font-family%3A%20%26quot%3BOpen%20Sans%26quot%3B%2C%20verdana%2C%20arial%2C%20sans-serif%3B%20font-size%3A%2012px%3B%20fill%3A%20rgb(89%2C%2089%2C%2089)%3B%20fill-opacity%3A%201%3B%20white-space%3A%20pre%3B%22%3E100%3C%2Ftext%3E%3C%2Fg%3E%3Cg%20class%3D%22ytick%22%3E%3Ctext%20text-anchor%3D%22end%22%20x%3D%2276.6%22%20y%3D%224.199999999999999%22%20data-unformatted%3D%22200%22%20data-math%3D%22N%22%20transform%3D%22translate(0%2C170.68)%22%20style%3D%22font-family%3A%20%26quot%3BOpen%20Sans%26quot%3B%2C%20verdana%2C%20arial%2C%20sans-serif%3B%20font-size%3A%2012px%3B%20fill%3A%20rgb(89%2C%2089%2C%2089)%3B%20fill-opacity%3A%201%3B%20white-space%3A%20pre%3B%22%3E200%3C%2Ftext%3E%3C%2Fg%3E%3Cg%20class%3D%22ytick%22%3E%3Ctext%20text-anchor%3D%22end%22%20x%3D%2276.6%22%20y%3D%224.199999999999999%22%20data-unformatted%3D%22300%22%20data-math%3D%22N%22%20transform%3D%22translate(0%2C127.75)%22%20style%3D%22font-family%3A%20%26quot%3BOpen%20Sans%26quot%3B%2C%20verdana%2C%20arial%2C%20sans-serif%3B%20font-size%3A%2012px%3B%20fill%3A%20rgb(89%2C%2089%2C%2089)%3B%20fill-opacity%3A%201%3B%20white-space%3A%20pre%3B%22%3E300%3C%2Ftext%3E%3C%2Fg%3E%3Cg%20class%3D%22ytick%22%3E%3Ctext%20text-anchor%3D%22end%22%20x%3D%2276.6%22%20y%3D%224.199999999999999%22%20data-unformatted%3D%22400%22%20data-math%3D%22N%22%20transform%3D%22translate(0%2C84.83)%22%20style%3D%22font-family%3A%20%26quot%3BOpen%20Sans%26quot%3B%2C%20verdana%2C%20arial%2C%20sans-serif%3B%20font-size%3A%2012px%3B%20fill%3A%20rgb(89%2C%2089%2C%2089)%3B%20fill-opacity%3A%201%3B%20white-space%3A%20pre%3B%22%3E400%3C%2Ftext%3E%3C%2Fg%3E%3Cg%20class%3D%22ytick%22%3E%3Ctext%20text-anchor%3D%22end%22%20x%3D%2276.6%22%20y%3D%224.199999999999999%22%20data-unformatted%3D%22500%22%20data-math%3D%22N%22%20transform%3D%22translate(0%2C41.9)%22%20style%3D%22font-family%3A%20%26quot%3BOpen%20Sans%26quot%3B%2C%20verdana%2C%20arial%2C%20sans-serif%3B%20font-size%3A%2012px%3B%20fill%3A%20rgb(89%2C%2089%2C%2089)%3B%20fill-opacity%3A%201%3B%20white-space%3A%20pre%3B%22%3E500%3C%2Ftext%3E%3C%2Fg%3E%3C%2Fg%3E%3Cg%20class%3D%22overaxes-above%22%2F%3E%3C%2Fg%3E%3C%2Fg%3E%3Cg%20class%3D%22polarlayer%22%2F%3E%3Cg%20class%3D%22ternarylayer%22%2F%3E%3Cg%20class%3D%22geolayer%22%2F%3E%3Cg%20class%3D%22funnelarealayer%22%2F%3E%3Cg%20class%3D%22pielayer%22%2F%3E%3Cg%20class%3D%22treemaplayer%22%2F%3E%3Cg%20class%3D%22sunburstlayer%22%2F%3E%3Cg%20class%3D%22glimages%22%2F%3E%3Cdefs%20id%3D%22topdefs-876d06%22%3E%3Cg%20class%3D%22clips%22%2F%3E%3CclipPath%20id%3D%22legend876d06%22%3E%3Crect%20width%3D%22130%22%20height%3D%2229%22%20x%3D%220%22%20y%3D%220%22%2F%3E%3C%2FclipPath%3E%3C%2Fdefs%3E%3Cg%20class%3D%22indicatorlayer%22%2F%3E%3Cg%20class%3D%22layer-above%22%3E%3Cg%20class%3D%22imagelayer%22%2F%3E%3Cg%20class%3D%22shapelayer%22%2F%3E%3C%2Fg%3E%3Cg%20class%3D%22infolayer%22%3E%3Cg%20class%3D%22legend%22%20pointer-events%3D%22all%22%20transform%3D%22translate(615.5%2C30)%22%3E%3Crect%20class%3D%22bg%22%20shape-rendering%3D%22crispEdges%22%20width%3D%22130%22%20height%3D%2229%22%20x%3D%220%22%20y%3D%220%22%20style%3D%22stroke%3A%20rgb(68%2C%2068%2C%2068)%3B%20stroke-opacity%3A%201%3B%20fill%3A%20rgb(255%2C%20255%2C%20255)%3B%20fill-opacity%3A%201%3B%20stroke-width%3A%200px%3B%22%2F%3E%3Cg%20class%3D%22scrollbox%22%20transform%3D%22%22%20clip-path%3D%22url('%23legend876d06')%22%3E%3Cg%20class%3D%22groups%22%20transform%3D%22%22%3E%3Cg%20class%3D%22traces%22%20transform%3D%22translate(0%2C14.5)%22%20style%3D%22opacity%3A%201%3B%22%3E%3Ctext%20class%3D%22legendtext%22%20text-anchor%3D%22start%22%20x%3D%2240%22%20y%3D%224.680000000000001%22%20data-unformatted%3D%22wallstreetbets%22%20data-math%3D%22N%22%20style%3D%22font-family%3A%20%26quot%3BOpen%20Sans%26quot%3B%2C%20verdana%2C%20arial%2C%20sans-serif%3B%20font-size%3A%2012px%3B%20fill%3A%20rgb(89%2C%2089%2C%2089)%3B%20fill-opacity%3A%201%3B%20white-space%3A%20pre%3B%22%3Ewallstreetbets%3C%2Ftext%3E%3Cg%20class%3D%22layers%22%20style%3D%22opacity%3A%201%3B%22%3E%3Cg%20class%3D%22legendfill%22%2F%3E%3Cg%20class%3D%22legendlines%22%3E%3Cpath%20class%3D%22js-line%22%20d%3D%22M5%2C0h30%22%20style%3D%22fill%3A%20none%3B%20stroke%3A%20rgb(78%2C%20121%2C%20167)%3B%20stroke-opacity%3A%201%3B%20stroke-width%3A%202px%3B%22%2F%3E%3C%2Fg%3E%3Cg%20class%3D%22legendsymbols%22%3E%3Cg%20class%3D%22legendpoints%22%2F%3E%3C%2Fg%3E%3C%2Fg%3E%3Crect%20class%3D%22legendtoggle%22%20pointer-events%3D%22all%22%20x%3D%220%22%20y%3D%22-9.5%22%20width%3D%22124.34392547607422%22%20height%3D%2219%22%20style%3D%22cursor%3A%20pointer%3B%20fill%3A%20rgb(0%2C%200%2C%200)%3B%20fill-opacity%3A%200%3B%22%2F%3E%3C%2Fg%3E%3C%2Fg%3E%3C%2Fg%3E%3Crect%20class%3D%22scrollbar%22%20rx%3D%2220%22%20ry%3D%223%22%20width%3D%220%22%20height%3D%220%22%20x%3D%220%22%20y%3D%220%22%20style%3D%22fill%3A%20rgb(128%2C%20139%2C%20164)%3B%20fill-opacity%3A%201%3B%22%2F%3E%3C%2Fg%3E%3Cg%20class%3D%22g-gtitle%22%2F%3E%3Cg%20class%3D%22g-xtitle%22%2F%3E%3Cg%20class%3D%22g-ytitle%22%2F%3E%3C%2Fg%3E%3Cg%20class%3D%22menulayer%22%2F%3E%3Cg%20class%3D%22zoomlayer%22%2F%3E%3Cg%20class%3D%22hoverlayer%22%2F%3E%3C%2Fsvg%3E\">"
      ],
      "text/plain": [
       "Open the notebook in JupyterLab with the atoti extension installed and enabled to start editing this widget."
      ]
     },
     "metadata": {},
     "output_type": "display_data"
    }
   ],
   "source": [
    "session.visualize(\"Posting Trends\")"
   ]
  },
  {
   "cell_type": "markdown",
   "metadata": {},
   "source": [
    "## atoti Pivot table\n",
    "\n",
    "atoti is currently going through UX and performance upgrade. Hang on with us as more features for the Pivot table will come with future release."
   ]
  },
  {
   "cell_type": "code",
   "execution_count": 26,
   "metadata": {
    "atoti": {
     "widget": {
      "mapping": {
       "columns": [
        "ALL_MEASURES"
       ],
       "measures": [
        "[Measures].[Comments (1)]",
        "[Measures].[Comments]",
        "[Measures].[Score (1)]",
        "[Measures].[Score]",
        "[Measures].[Chars]",
        "[Measures].[Total awards]",
        "[Measures].[Unique density]",
        "[Measures].[Unique words]",
        "[Measures].[Word density]"
       ],
       "rows": []
      },
      "name": "Reddit Data Table",
      "query": {
       "context": {
        "queriesResultLimit.intermediateSize": 1000000,
        "queriesResultLimit.transientSize": 10000000
       },
       "mdx": "WITH  Member [Measures].[Comments (1)] AS [Measures].[Comments], CAPTION = [Measures].[Comments].MEMBER_CAPTION, FORMAT_STRING = \"#,###\"    Member [Measures].[Score (1)] AS [Measures].[Score], CAPTION = [Measures].[Score].MEMBER_CAPTION, FORMAT_STRING = \"#,###\"  SELECT NON EMPTY {[Measures].[Chars], [Measures].[Comments (1)], [Measures].[Score (1)], [Measures].[Total awards], [Measures].[Unique density], [Measures].[Unique words], [Measures].[Word density]} ON COLUMNS, NON EMPTY Order(Crossjoin([Reddit_Posts].[subreddit].[subreddit].Members, [Reddit_Posts].[title].[title].Members, [Reddit_Posts].[post].[post].Members, [Reddit_Posts].[pinned].[pinned].Members, [Reddit_Posts].[created].[created].Members), [Measures].[Chars], BDESC) ON ROWS FROM (SELECT [Reddit_Posts].[subreddit].[ALL].[AllMember].[wallstreetbets] ON COLUMNS FROM [Reddit]) CELL PROPERTIES BACK_COLOR, FONT_FLAGS, FORE_COLOR, FORMATTED_VALUE, VALUE",
       "updateMode": "once"
      },
      "serverKey": "default",
      "widgetKey": "pivot-table"
     }
    }
   },
   "outputs": [
    {
     "data": {
      "application/vnd.atoti.v0+json": {
       "name": "Reddit Data Table",
       "session": "Unnamed"
      },
      "text/html": [
       "<img src=\"data:image/svg+xml;charset=utf8,%3C?xml%20version=%221.0%22%20standalone=%22no%22?%3E%3Csvg%20xmlns=%22http://www.w3.org/2000/svg%22%20height=%22348%22%20width=%22748%22%3E%3CforeignObject%20width=%22100%25%22%20height=%22100%25%22%20x=%220%22%20y=%220%22%3E%3Cstyle%20type=%22text/css%22%3E*,%20::before,%20::after%20%7Bbox-sizing:%20unset%7D%0A.ant-root%20%5Bclass%5E=%22ant-%22%5D,%20.ant-root%20%5Bclass*=%22ant-%22%5D,%20.ant-root%20%5Bclass%5E=%22ant-%22%5D%20*,%20.ant-root%20%5Bclass*=%22ant-%22%5D%20*,%20.ant-root%20%5Bclass%5E=%22ant-%22%5D%20::before,%20.ant-root%20%5Bclass*=%22ant-%22%5D%20::before,%20.ant-root%20%5Bclass%5E=%22ant-%22%5D%20::after,%20.ant-root%20%5Bclass*=%22ant-%22%5D%20::after%20%7Bbox-sizing:%20border-box%7D%0A.ant-root%20html,%20.ant-root%20%7Bwidth:%20100%25;%20height:%20100%25%7D%0A.ant-root%20*,%20.ant-root%20::before,%20.ant-root%20::after%20%7Bbox-sizing:%20border-box%7D%0A.ant-root%20%7Bmargin-top:%200px;%20margin-right:%200px;%20margin-bottom:%200px;%20margin-left:%200px;%20color:%20rgb(89,%2089,%2089);%20font-size:%2012px;%20font-family:%20-apple-system,%20BlinkMacSystemFont,%20%22Segoe%20UI%22,%20Roboto,%20%22Helvetica%20Neue%22,%20Arial,%20%22Noto%20Sans%22,%20sans-serif,%20%22Apple%20Color%20Emoji%22,%20%22Segoe%20UI%20Emoji%22,%20%22Segoe%20UI%20Symbol%22,%20%22Noto%20Color%20Emoji%22;%20font-variant-ligatures:%20normal;%20font-variant-numeric:%20tabular-nums;%20font-variant-east-asian:%20normal;%20font-variant-caps:%20normal;%20line-height:%201.66667;%20background-color:%20rgb(255,%20255,%20255);%20--antd-wave-shadow-color:%20undefined;%20--scroll-bar:%20undefined%7D%0A.ant-root%20.ant-spin%20%7Bbox-sizing:%20border-box;%20margin-top:%200px;%20margin-right:%200px;%20margin-bottom:%200px;%20margin-left:%200px;%20padding-top:%200px;%20padding-right:%200px;%20padding-bottom:%200px;%20padding-left:%200px;%20font-size:%2012px;%20font-variant-ligatures:%20normal;%20font-variant-numeric:%20tabular-nums;%20font-variant-east-asian:%20normal;%20font-variant-caps:%20normal;%20line-height:%201.66667;%20list-style-position:%20initial;%20list-style-image:%20initial;%20list-style-type:%20none;%20position:%20absolute;%20display:%20none;%20color:%20rgb(0,%20174,%20239);%20text-align:%20center;%20vertical-align:%20middle;%20opacity:%200;%20transition-duration:%200.3s;%20transition-timing-function:%20cubic-bezier(0.78,%200.14,%200.15,%200.86);%20transition-delay:%200s;%20transition-property:%20transform%7D%0A.ant-root%20.ant-spin-spinning%20%7Bposition:%20static;%20display:%20inline-block;%20opacity:%201%7D%0A.ant-root%20.ant-spin-dot%20%7Bposition:%20relative;%20display:%20inline-block;%20font-size:%2020px;%20width:%201em;%20height:%201em%7D%0A.ant-root%20.ant-spin-dot-item%20%7Bposition:%20absolute;%20display:%20block;%20width:%209px;%20height:%209px;%20background-color:%20rgb(0,%20174,%20239);%20border-top-left-radius:%20100%25;%20border-top-right-radius:%20100%25;%20border-bottom-right-radius:%20100%25;%20border-bottom-left-radius:%20100%25;%20transform:%20scale(0.75);%20transform-origin:%2050%25%2050%25;%20opacity:%200.3;%20animation-duration:%201s;%20animation-timing-function:%20linear;%20animation-delay:%200s;%20animation-iteration-count:%20infinite;%20animation-direction:%20alternate;%20animation-fill-mode:%20none;%20animation-play-state:%20running;%20animation-name:%20antSpinMove%7D%0A.ant-root%20.ant-spin-dot-item:nth-child(1)%20%7Btop:%200px;%20left:%200px%7D%0A.ant-root%20.ant-spin-dot-item:nth-child(2)%20%7Btop:%200px;%20right:%200px;%20animation-delay:%200.4s%7D%0A.ant-root%20.ant-spin-dot-item:nth-child(3)%20%7Bright:%200px;%20bottom:%200px;%20animation-delay:%200.8s%7D%0A.ant-root%20.ant-spin-dot-item:nth-child(4)%20%7Bbottom:%200px;%20left:%200px;%20animation-delay:%201.2s%7D%0A.ant-root%20.ant-spin-dot-spin%20%7Btransform:%20rotate(45deg);%20animation-duration:%201.2s;%20animation-timing-function:%20linear;%20animation-delay:%200s;%20animation-iteration-count:%20infinite;%20animation-direction:%20normal;%20animation-fill-mode:%20none;%20animation-play-state:%20running;%20animation-name:%20antRotate%7D%0A.ant-root%20.ant-spin-lg%20.ant-spin-dot%20%7Bfont-size:%2032px%7D%0A.ant-root%20.ant-spin-lg%20.ant-spin-dot%20i%20%7Bwidth:%2014px;%20height:%2014px%7D%0A.css-12ebr42-AWidget%20%7Bheight:%20100%25%7D%0A.css-ck2xzt-Spinner%20%7B-webkit-box-align:%20center;%20align-items:%20center;%20background-image:%20initial;%20background-position-x:%20initial;%20background-position-y:%20initial;%20background-size:%20initial;%20background-repeat-x:%20initial;%20background-repeat-y:%20initial;%20background-attachment:%20initial;%20background-origin:%20initial;%20background-clip:%20initial;%20background-color:%20transparent;%20display:%20flex;%20height:%20100%25;%20-webkit-box-pack:%20center;%20justify-content:%20center;%20position:%20absolute;%20transition-duration:%20300ms;%20transition-timing-function:%20ease;%20transition-delay:%200s;%20transition-property:%20opacity;%20width:%20100%25;%20opacity:%200;%20pointer-events:%20none;%20z-index:%202%7D%0A.css-1e3kjgr-Spinner%20%7Bheight:%20100%25;%20position:%20relative%7D%0A.css-6s7z8y-Table%20%7Bpadding-bottom:%202px;%20padding-right:%202px;%20height:%20100%25%7D%0A.css-18k6uz5-Table%20%7Bcursor:%20cell;%20height:%20100%25;%20outline-color:%20initial;%20outline-style:%20none;%20outline-width:%20initial%7D%0A.css-16sdsf5-Table%20%7Bdisplay:%20flex;%20height:%20346px%7D%0A.css-sth52s-Table%20%7Bwidth:%20145px;%20border-collapse:%20collapse%7D%0A.css-1s6iylo%20%7Bheight:%2028px;%20width:%20127px;%20overflow-x:%20auto;%20overflow-y:%20hidden%7D%0A.css-w5nm47%20%7Bheight:%20318px;%20width:%20145px;%20overflow-x:%20auto;%20overflow-y:%20auto%7D%0A.css-okpzz0-Table%20%7Bborder-collapse:%20collapse;%20height:%2028px;%20width:%20600px%7D%0A.css-16zeugu%20%7Bheight:%2028px;%20width:%20600px%7D%0A.css-1jl08x0%20%7Bheight:%2028px;%20overflow-x:%20hidden;%20overflow-y:%20hidden;%20position:%20relative;%20width:%20600px;%20border-right-width:%202px;%20border-right-style:%20solid;%20border-right-color:%20rgb(233,%20233,%20233)%7D%0A.css-olc8nk%20%7Bheight:%20318px;%20width:%20600px;%20overflow-x:%20hidden;%20overflow-y:%20auto%7D%0A.css-1tvhac5%20%7Bheight:%2014000px;%20overflow-x:%20hidden;%20overflow-y:%20hidden;%20position:%20relative;%20width:%20600px;%20border-top-width:%202px;%20border-top-style:%20solid;%20border-top-color:%20rgb(233,%20233,%20233);%20border-right-width:%202px;%20border-right-style:%20solid;%20border-right-color:%20rgb(233,%20233,%20233)%7D%0A.css-j7jois%20%7Bheight:%2028px;%20overflow-x:%20hidden;%20overflow-y:%20hidden;%20position:%20relative;%20width:%20840px%7D%0A.css-1iqz4xc%20%7Bheight:%2014000px;%20overflow-x:%20hidden;%20overflow-y:%20hidden;%20position:%20relative;%20width:%20840px;%20border-top-width:%202px;%20border-top-style:%20solid;%20border-top-color:%20rgb(233,%20233,%20233)%7D%0A*%20%7B-ms-overflow-style:%20none;%20scrollbar-width:%20none%7D%0A*::-webkit-scrollbar%20%7Bdisplay:%20none%7D%3C/style%3E%3Cdiv%20xmlns=%22http://www.w3.org/1999/xhtml%22%20style=%22height:%20348px;%20width:%20748px;%22%3E&lt;div%20xmlns=%22http://www.w3.org/1999/xhtml%22%20class=%22ant-root%20css-0%22&gt;&lt;div%20class=%22ant-dropdown-trigger%20css-12ebr42-AWidget%22&gt;&lt;div%20class=%22css-1e3kjgr-Spinner%22&gt;&lt;div%20class=%22css-ck2xzt-Spinner%22&gt;&lt;div%20class=%22ant-spin%20ant-spin-lg%20ant-spin-spinning%22&gt;&lt;span%20class=%22ant-spin-dot%20ant-spin-dot-spin%22&gt;&lt;i%20class=%22ant-spin-dot-item%22&gt;&lt;/i&gt;&lt;i%20class=%22ant-spin-dot-item%22&gt;&lt;/i&gt;&lt;i%20class=%22ant-spin-dot-item%22&gt;&lt;/i&gt;&lt;i%20class=%22ant-spin-dot-item%22&gt;&lt;/i&gt;&lt;/span&gt;&lt;/div&gt;&lt;/div&gt;&lt;div%20class=%22css-6s7z8y-Table%22&gt;&lt;div%20tabindex=%220%22%20class=%22css-18k6uz5-Table%22&gt;&lt;div%20class=%22css-16sdsf5-Table%22&gt;&lt;div%20class=%22css-okpzz0-Table%22&gt;&lt;div%20class=%22css-16zeugu%22&gt;&lt;div%20class=%22css-1jl08x0%22&gt;&lt;div%20style=%22font-size:%2012px;%20height:%2028px;%20left:%200px;%20padding:%204px%204px%203px;%20position:%20absolute;%20top:%200px;%20width:%20120px;%20font-weight:%20600;%22&gt;subreddit&lt;/div&gt;&lt;div%20style=%22font-size:%2012px;%20height:%2028px;%20left:%20120px;%20padding:%204px%204px%203px;%20position:%20absolute;%20top:%200px;%20width:%20120px;%20font-weight:%20600;%22&gt;title&lt;/div&gt;&lt;div%20style=%22font-size:%2012px;%20height:%2028px;%20left:%20240px;%20padding:%204px%204px%203px;%20position:%20absolute;%20top:%200px;%20width:%20120px;%20font-weight:%20600;%22&gt;post&lt;/div&gt;&lt;div%20style=%22font-size:%2012px;%20height:%2028px;%20left:%20360px;%20padding:%204px%204px%203px;%20position:%20absolute;%20top:%200px;%20width:%20120px;%20font-weight:%20600;%22&gt;pinned&lt;/div&gt;&lt;div%20style=%22font-size:%2012px;%20height:%2028px;%20left:%20480px;%20padding:%204px%204px%203px;%20position:%20absolute;%20top:%200px;%20width:%20120px;%20font-weight:%20600;%22&gt;created&lt;/div&gt;&lt;/div&gt;&lt;/div&gt;&lt;div%20class=%22css-olc8nk%22&gt;&lt;div%20class=%22css-1tvhac5%22&gt;&lt;div%20style=%22overflow:%20hidden;%20display:%20flex;%20align-items:%20center;%20font-size:%2012px;%20height:%2028px;%20left:%200px;%20padding:%204px%204px%203px;%20position:%20absolute;%20top:%200px;%20width:%20120px;%20font-weight:%20600;%22&gt;&lt;span%20style=%22text-overflow:%20ellipsis;%20overflow:%20hidden;%20white-space:%20nowrap;%20max-width:%20calc((100%25%20-%200px)%20-%200px);%22&gt;wallstreetbets&lt;/span&gt;&lt;div%20style=%22height:%20100%25;%20margin-left:%206px;%22&gt;&lt;/div&gt;&lt;/div&gt;&lt;div%20style=%22overflow:%20hidden;%20display:%20flex;%20align-items:%20center;%20font-size:%2012px;%20height:%2028px;%20left:%20120px;%20padding:%204px%204px%203px;%20position:%20absolute;%20top:%200px;%20width:%20120px;%20font-weight:%20600;%22&gt;&lt;span%20style=%22text-overflow:%20ellipsis;%20overflow:%20hidden;%20white-space:%20nowrap;%20max-width:%20calc((100%25%20-%200px)%20-%200px);%22&gt;Essential%20workers%20are%20nearing%20their%20limit%20of%20being%20under%20paid%20with%20$hit%20benefits...After%20seeing%20the%20$GME%20gains,%20they%20want%20to%20enlist%20the%20help%20of%20the%20r/WSB%20folks%20and%20have%20them%20short%20the%20fuck%20outta%20$AMZN%20while%20unionizing%20...%F0%9F%98%8F%20Thoughts?&lt;/span&gt;&lt;div%20style=%22height:%20100%25;%20margin-left:%206px;%22&gt;&lt;/div&gt;&lt;/div&gt;&lt;div%20style=%22overflow:%20hidden;%20display:%20flex;%20align-items:%20center;%20font-size:%2012px;%20height:%2028px;%20left:%20240px;%20padding:%204px%204px%203px;%20position:%20absolute;%20top:%200px;%20width:%20120px;%20font-weight:%20600;%22&gt;&lt;span%20style=%22text-overflow:%20ellipsis;%20overflow:%20hidden;%20white-space:%20nowrap;%20max-width:%20calc((100%25%20-%200px)%20-%200px);%22&gt;N/A&lt;/span&gt;&lt;div%20style=%22height:%20100%25;%20margin-left:%206px;%22&gt;&lt;/div&gt;&lt;/div&gt;&lt;div%20style=%22overflow:%20hidden;%20display:%20flex;%20align-items:%20center;%20font-size:%2012px;%20height:%2028px;%20left:%20360px;%20padding:%204px%204px%203px;%20position:%20absolute;%20top:%200px;%20width:%20120px;%20font-weight:%20600;%22&gt;&lt;span%20style=%22text-overflow:%20ellipsis;%20overflow:%20hidden;%20white-space:%20nowrap;%20max-width:%20calc((100%25%20-%200px)%20-%200px);%22&gt;false&lt;/span&gt;&lt;div%20style=%22height:%20100%25;%20margin-left:%206px;%22&gt;&lt;/div&gt;&lt;/div&gt;&lt;div%20style=%22overflow:%20hidden;%20display:%20flex;%20align-items:%20center;%20font-size:%2012px;%20height:%2028px;%20left:%20480px;%20padding:%204px%204px%203px;%20position:%20absolute;%20top:%200px;%20width:%20120px;%20border-right:%202px%20solid%20rgb(233,%20233,%20233);%22&gt;&lt;span%20style=%22text-overflow:%20ellipsis;%20overflow:%20hidden;%20white-space:%20nowrap;%20max-width:%20calc((100%25%20-%200px)%20-%200px);%22&gt;2021-01-27T10:20:37&lt;/span&gt;&lt;div%20style=%22height:%20100%25;%20margin-left:%206px;%22&gt;&lt;/div&gt;&lt;/div&gt;&lt;div%20style=%22overflow:%20hidden;%20display:%20none;%20align-items:%20center;%20font-size:%2012px;%20height:%2028px;%20left:%200px;%20padding:%204px%204px%203px;%20position:%20absolute;%20top:%2028px;%20width:%20120px;%20font-weight:%20600;%22&gt;&lt;span%20style=%22text-overflow:%20ellipsis;%20overflow:%20hidden;%20white-space:%20nowrap;%20max-width:%20calc((100%25%20-%200px)%20-%200px);%22&gt;wallstreetbets&lt;/span&gt;&lt;div%20style=%22height:%20100%25;%20margin-left:%206px;%22&gt;&lt;/div&gt;&lt;/div&gt;&lt;div%20style=%22overflow:%20hidden;%20display:%20flex;%20align-items:%20center;%20font-size:%2012px;%20height:%2028px;%20left:%20120px;%20padding:%204px%204px%203px;%20position:%20absolute;%20top:%2028px;%20width:%20120px;%20font-weight:%20600;%22&gt;&lt;span%20style=%22text-overflow:%20ellipsis;%20overflow:%20hidden;%20white-space:%20nowrap;%20max-width:%20calc((100%25%20-%200px)%20-%200px);%22&gt;Newbie%20here.%20I%E2%80%99ve%20seen%20a%20lot%20of%20comment%20saying%20the%20short%20interest%20for%20GME%20is%20more%20than%20100%25.%20Does%20that%20mean%20shortist%20have%20to%20buy%20back%20all%20the%20shares%20in%20the%20market?%20Even%20if%20we%20sell%20$1000%20they%20will%20still%20have%20to%20buy%20it?&lt;/span&gt;&lt;div%20style=%22height:%20100%25;%20margin-left:%206px;%22&gt;&lt;/div&gt;&lt;/div&gt;&lt;div%20style=%22overflow:%20hidden;%20display:%20none;%20align-items:%20center;%20font-size:%2012px;%20height:%2028px;%20left:%20240px;%20padding:%204px%204px%203px;%20position:%20absolute;%20top:%2028px;%20width:%20120px;%20font-weight:%20600;%22&gt;&lt;span%20style=%22text-overflow:%20ellipsis;%20overflow:%20hidden;%20white-space:%20nowrap;%20max-width:%20calc((100%25%20-%200px)%20-%200px);%22&gt;N/A&lt;/span&gt;&lt;div%20style=%22height:%20100%25;%20margin-left:%206px;%22&gt;&lt;/div&gt;&lt;/div&gt;&lt;div%20style=%22overflow:%20hidden;%20display:%20none;%20align-items:%20center;%20font-size:%2012px;%20height:%2028px;%20left:%20360px;%20padding:%204px%204px%203px;%20position:%20absolute;%20top:%2028px;%20width:%20120px;%20font-weight:%20600;%22&gt;&lt;span%20style=%22text-overflow:%20ellipsis;%20overflow:%20hidden;%20white-space:%20nowrap;%20max-width:%20calc((100%25%20-%200px)%20-%200px);%22&gt;false&lt;/span&gt;&lt;div%20style=%22height:%20100%25;%20margin-left:%206px;%22&gt;&lt;/div&gt;&lt;/div&gt;&lt;div%20style=%22overflow:%20hidden;%20display:%20flex;%20align-items:%20center;%20font-size:%2012px;%20height:%2028px;%20left:%20480px;%20padding:%204px%204px%203px;%20position:%20absolute;%20top:%2028px;%20width:%20120px;%20background-color:%20rgb(250,%20250,%20250);%20border-right:%202px%20solid%20rgb(233,%20233,%20233);%22&gt;&lt;span%20style=%22text-overflow:%20ellipsis;%20overflow:%20hidden;%20white-space:%20nowrap;%20max-width:%20calc((100%25%20-%200px)%20-%200px);%22&gt;2021-01-27T10:22:20&lt;/span&gt;&lt;div%20style=%22height:%20100%25;%20margin-left:%206px;%22&gt;&lt;/div&gt;&lt;/div&gt;&lt;div%20style=%22overflow:%20hidden;%20display:%20none;%20align-items:%20center;%20font-size:%2012px;%20height:%2028px;%20left:%200px;%20padding:%204px%204px%203px;%20position:%20absolute;%20top:%2056px;%20width:%20120px;%20font-weight:%20600;%22&gt;&lt;span%20style=%22text-overflow:%20ellipsis;%20overflow:%20hidden;%20white-space:%20nowrap;%20max-width:%20calc((100%25%20-%200px)%20-%200px);%22&gt;wallstreetbets&lt;/span&gt;&lt;div%20style=%22height:%20100%25;%20margin-left:%206px;%22&gt;&lt;/div&gt;&lt;/div&gt;&lt;div%20style=%22overflow:%20hidden;%20display:%20flex;%20align-items:%20center;%20font-size:%2012px;%20height:%2028px;%20left:%20120px;%20padding:%204px%204px%203px;%20position:%20absolute;%20top:%2056px;%20width:%20120px;%20font-weight:%20600;%22&gt;&lt;span%20style=%22text-overflow:%20ellipsis;%20overflow:%20hidden;%20white-space:%20nowrap;%20max-width:%20calc((100%25%20-%200px)%20-%200px);%22&gt;I%E2%80%99m%20in%20with%20the%20%F0%9F%92%8E%F0%9F%99%8C%20but%20what%20is%20the%20wait%20on%20this%20%F0%9F%9A%80%F0%9F%9A%80%F0%9F%9A%80?%20I%E2%80%99m%20a%20little%20guy%20in%20the%20big%20pond%20but%20what%E2%80%99s%20the%20time%20when%20we%20will%20see%20some%20action%20on%20this%20bad%20%F0%9F%91%B6?%20A%20lotta%20%F0%9F%85%B1%EF%B8%8F%F0%9F%85%B1%EF%B8%8F%20talk%20but%20not%20too%20much%20action%20lately%20from%20price%20movements..&lt;/span&gt;&lt;div%20style=%22height:%20100%25;%20margin-left:%206px;%22&gt;&lt;/div&gt;&lt;/div&gt;&lt;div%20style=%22overflow:%20hidden;%20display:%20none;%20align-items:%20center;%20font-size:%2012px;%20height:%2028px;%20left:%20240px;%20padding:%204px%204px%203px;%20position:%20absolute;%20top:%2056px;%20width:%20120px;%20font-weight:%20600;%22&gt;&lt;span%20style=%22text-overflow:%20ellipsis;%20overflow:%20hidden;%20white-space:%20nowrap;%20max-width:%20calc((100%25%20-%200px)%20-%200px);%22&gt;N/A&lt;/span&gt;&lt;div%20style=%22height:%20100%25;%20margin-left:%206px;%22&gt;&lt;/div&gt;&lt;/div&gt;&lt;div%20style=%22overflow:%20hidden;%20display:%20none;%20align-items:%20center;%20font-size:%2012px;%20height:%2028px;%20left:%20360px;%20padding:%204px%204px%203px;%20position:%20absolute;%20top:%2056px;%20width:%20120px;%20font-weight:%20600;%22&gt;&lt;span%20style=%22text-overflow:%20ellipsis;%20overflow:%20hidden;%20white-space:%20nowrap;%20max-width:%20calc((100%25%20-%200px)%20-%200px);%22&gt;false&lt;/span&gt;&lt;div%20style=%22height:%20100%25;%20margin-left:%206px;%22&gt;&lt;/div&gt;&lt;/div&gt;&lt;div%20style=%22overflow:%20hidden;%20display:%20flex;%20align-items:%20center;%20font-size:%2012px;%20height:%2028px;%20left:%20480px;%20padding:%204px%204px%203px;%20position:%20absolute;%20top:%2056px;%20width:%20120px;%20border-right:%202px%20solid%20rgb(233,%20233,%20233);%22&gt;&lt;span%20style=%22text-overflow:%20ellipsis;%20overflow:%20hidden;%20white-space:%20nowrap;%20max-width:%20calc((100%25%20-%200px)%20-%200px);%22&gt;2021-01-27T09:03:35&lt;/span&gt;&lt;div%20style=%22height:%20100%25;%20margin-left:%206px;%22&gt;&lt;/div&gt;&lt;/div&gt;&lt;div%20style=%22overflow:%20hidden;%20display:%20none;%20align-items:%20center;%20font-size:%2012px;%20height:%2028px;%20left:%200px;%20padding:%204px%204px%203px;%20position:%20absolute;%20top:%2084px;%20width:%20120px;%20font-weight:%20600;%22&gt;&lt;span%20style=%22text-overflow:%20ellipsis;%20overflow:%20hidden;%20white-space:%20nowrap;%20max-width:%20calc((100%25%20-%200px)%20-%200px);%22&gt;wallstreetbets&lt;/span&gt;&lt;div%20style=%22height:%20100%25;%20margin-left:%206px;%22&gt;&lt;/div&gt;&lt;/div&gt;&lt;div%20style=%22overflow:%20hidden;%20display:%20flex;%20align-items:%20center;%20font-size:%2012px;%20height:%2028px;%20left:%20120px;%20padding:%204px%204px%203px;%20position:%20absolute;%20top:%2084px;%20width:%20120px;%20font-weight:%20600;%22&gt;&lt;span%20style=%22text-overflow:%20ellipsis;%20overflow:%20hidden;%20white-space:%20nowrap;%20max-width:%20calc((100%25%20-%200px)%20-%200px);%22&gt;Jumped%20on%20the%20train...%20uh%20rocket%20ship...%20this%20morning%20for%2060@$90.%20Practically%20100%25%20of%20my%20modest%20cash%20balance%20(NO%20MARGIN!)%20and%20I%E2%80%99ve%20recovered%20my%20losses%20from%20damn%20Pfizer%20in%20just%203%20hours.%20Let%E2%80%99s%20%F0%9F%9A%80%20to%20the%20%F0%9F%8C%95!!&lt;/span&gt;&lt;div%20style=%22height:%20100%25;%20margin-left:%206px;%22&gt;&lt;/div&gt;&lt;/div&gt;&lt;div%20style=%22overflow:%20hidden;%20display:%20none;%20align-items:%20center;%20font-size:%2012px;%20height:%2028px;%20left:%20240px;%20padding:%204px%204px%203px;%20position:%20absolute;%20top:%2084px;%20width:%20120px;%20font-weight:%20600;%22&gt;&lt;span%20style=%22text-overflow:%20ellipsis;%20overflow:%20hidden;%20white-space:%20nowrap;%20max-width:%20calc((100%25%20-%200px)%20-%200px);%22&gt;N/A&lt;/span&gt;&lt;div%20style=%22height:%20100%25;%20margin-left:%206px;%22&gt;&lt;/div&gt;&lt;/div&gt;&lt;div%20style=%22overflow:%20hidden;%20display:%20none;%20align-items:%20center;%20font-size:%2012px;%20height:%2028px;%20left:%20360px;%20padding:%204px%204px%203px;%20position:%20absolute;%20top:%2084px;%20width:%20120px;%20font-weight:%20600;%22&gt;&lt;span%20style=%22text-overflow:%20ellipsis;%20overflow:%20hidden;%20white-space:%20nowrap;%20max-width:%20calc((100%25%20-%200px)%20-%200px);%22&gt;false&lt;/span&gt;&lt;div%20style=%22height:%20100%25;%20margin-left:%206px;%22&gt;&lt;/div&gt;&lt;/div&gt;&lt;div%20style=%22overflow:%20hidden;%20display:%20flex;%20align-items:%20center;%20font-size:%2012px;%20height:%2028px;%20left:%20480px;%20padding:%204px%204px%203px;%20position:%20absolute;%20top:%2084px;%20width:%20120px;%20background-color:%20rgb(250,%20250,%20250);%20border-right:%202px%20solid%20rgb(233,%20233,%20233);%22&gt;&lt;span%20style=%22text-overflow:%20ellipsis;%20overflow:%20hidden;%20white-space:%20nowrap;%20max-width:%20calc((100%25%20-%200px)%20-%200px);%22&gt;2021-01-27T02:10:51&lt;/span&gt;&lt;div%20style=%22height:%20100%25;%20margin-left:%206px;%22&gt;&lt;/div&gt;&lt;/div&gt;&lt;div%20style=%22overflow:%20hidden;%20display:%20none;%20align-items:%20center;%20font-size:%2012px;%20height:%2028px;%20left:%200px;%20padding:%204px%204px%203px;%20position:%20absolute;%20top:%20112px;%20width:%20120px;%20font-weight:%20600;%22&gt;&lt;span%20style=%22text-overflow:%20ellipsis;%20overflow:%20hidden;%20white-space:%20nowrap;%20max-width:%20calc((100%25%20-%200px)%20-%200px);%22&gt;wallstreetbets&lt;/span&gt;&lt;div%20style=%22height:%20100%25;%20margin-left:%206px;%22&gt;&lt;/div&gt;&lt;/div&gt;&lt;div%20style=%22overflow:%20hidden;%20display:%20flex;%20align-items:%20center;%20font-size:%2012px;%20height:%2028px;%20left:%20120px;%20padding:%204px%204px%203px;%20position:%20absolute;%20top:%20112px;%20width:%20120px;%20font-weight:%20600;%22&gt;&lt;span%20style=%22text-overflow:%20ellipsis;%20overflow:%20hidden;%20white-space:%20nowrap;%20max-width:%20calc((100%25%20-%200px)%20-%200px);%22&gt;Alright%20you%20Degenerate%20fucks.%20Buy%20and%20hold%20gme%20tomorrow%20morning.%20More%20expirations%20this%20Friday%20and%20now%20hedge%20funds%20are%20scared%20shitless%20from%20Musk%E2%80%99s%20tweet.%20HOLD%20to%20the%20moon%F0%9F%9A%80%F0%9F%9A%80%F0%9F%9A%80%F0%9F%9A%80%20*not%20financial%20advice&lt;/span&gt;&lt;div%20style=%22height:%20100%25;%20margin-left:%206px;%22&gt;&lt;/div&gt;&lt;/div&gt;&lt;div%20style=%22overflow:%20hidden;%20display:%20none;%20align-items:%20center;%20font-size:%2012px;%20height:%2028px;%20left:%20240px;%20padding:%204px%204px%203px;%20position:%20absolute;%20top:%20112px;%20width:%20120px;%20font-weight:%20600;%22&gt;&lt;span%20style=%22text-overflow:%20ellipsis;%20overflow:%20hidden;%20white-space:%20nowrap;%20max-width:%20calc((100%25%20-%200px)%20-%200px);%22&gt;N/A&lt;/span&gt;&lt;div%20style=%22height:%20100%25;%20margin-left:%206px;%22&gt;&lt;/div&gt;&lt;/div&gt;&lt;div%20style=%22overflow:%20hidden;%20display:%20none;%20align-items:%20center;%20font-size:%2012px;%20height:%2028px;%20left:%20360px;%20padding:%204px%204px%203px;%20position:%20absolute;%20top:%20112px;%20width:%20120px;%20font-weight:%20600;%22&gt;&lt;span%20style=%22text-overflow:%20ellipsis;%20overflow:%20hidden;%20white-space:%20nowrap;%20max-width:%20calc((100%25%20-%200px)%20-%200px);%22&gt;false&lt;/span&gt;&lt;div%20style=%22height:%20100%25;%20margin-left:%206px;%22&gt;&lt;/div&gt;&lt;/div&gt;&lt;div%20style=%22overflow:%20hidden;%20display:%20flex;%20align-items:%20center;%20font-size:%2012px;%20height:%2028px;%20left:%20480px;%20padding:%204px%204px%203px;%20position:%20absolute;%20top:%20112px;%20width:%20120px;%20border-right:%202px%20solid%20rgb(233,%20233,%20233);%22&gt;&lt;span%20style=%22text-overflow:%20ellipsis;%20overflow:%20hidden;%20white-space:%20nowrap;%20max-width:%20calc((100%25%20-%200px)%20-%200px);%22&gt;2021-01-27T06:25:12&lt;/span&gt;&lt;div%20style=%22height:%20100%25;%20margin-left:%206px;%22&gt;&lt;/div&gt;&lt;/div&gt;&lt;div%20style=%22overflow:%20hidden;%20display:%20none;%20align-items:%20center;%20font-size:%2012px;%20height:%2028px;%20left:%200px;%20padding:%204px%204px%203px;%20position:%20absolute;%20top:%20140px;%20width:%20120px;%20font-weight:%20600;%22&gt;&lt;span%20style=%22text-overflow:%20ellipsis;%20overflow:%20hidden;%20white-space:%20nowrap;%20max-width:%20calc((100%25%20-%200px)%20-%200px);%22&gt;wallstreetbets&lt;/span&gt;&lt;div%20style=%22height:%20100%25;%20margin-left:%206px;%22&gt;&lt;/div&gt;&lt;/div&gt;&lt;div%20style=%22overflow:%20hidden;%20display:%20flex;%20align-items:%20center;%20font-size:%2012px;%20height:%2028px;%20left:%20120px;%20padding:%204px%204px%203px;%20position:%20absolute;%20top:%20140px;%20width:%20120px;%20font-weight:%20600;%22&gt;&lt;span%20style=%22text-overflow:%20ellipsis;%20overflow:%20hidden;%20white-space:%20nowrap;%20max-width:%20calc((100%25%20-%200px)%20-%200px);%22&gt;That%20moment%20when%20I%20had%20MANY%20opportunities%20to%20buy%20and%20hold%20GME%20at%20around%20$35,%20$70,%20$90,%20but%20always%20got%20impatient%20and%20scared%20%F0%9F%93%84%F0%9F%96%90%20Now%20I'm%20YOLOing%20at%20$180%20with%20everyone%20else...%20I'm%20going%20to%20bury%20myself.&lt;/span&gt;&lt;div%20style=%22height:%20100%25;%20margin-left:%206px;%22&gt;&lt;/div&gt;&lt;/div&gt;&lt;div%20style=%22overflow:%20hidden;%20display:%20none;%20align-items:%20center;%20font-size:%2012px;%20height:%2028px;%20left:%20240px;%20padding:%204px%204px%203px;%20position:%20absolute;%20top:%20140px;%20width:%20120px;%20font-weight:%20600;%22&gt;&lt;span%20style=%22text-overflow:%20ellipsis;%20overflow:%20hidden;%20white-space:%20nowrap;%20max-width:%20calc((100%25%20-%200px)%20-%200px);%22&gt;N/A&lt;/span&gt;&lt;div%20style=%22height:%20100%25;%20margin-left:%206px;%22&gt;&lt;/div&gt;&lt;/div&gt;&lt;div%20style=%22overflow:%20hidden;%20display:%20none;%20align-items:%20center;%20font-size:%2012px;%20height:%2028px;%20left:%20360px;%20padding:%204px%204px%203px;%20position:%20absolute;%20top:%20140px;%20width:%20120px;%20font-weight:%20600;%22&gt;&lt;span%20style=%22text-overflow:%20ellipsis;%20overflow:%20hidden;%20white-space:%20nowrap;%20max-width:%20calc((100%25%20-%200px)%20-%200px);%22&gt;false&lt;/span&gt;&lt;div%20style=%22height:%20100%25;%20margin-left:%206px;%22&gt;&lt;/div&gt;&lt;/div&gt;&lt;div%20style=%22overflow:%20hidden;%20display:%20flex;%20align-items:%20center;%20font-size:%2012px;%20height:%2028px;%20left:%20480px;%20padding:%204px%204px%203px;%20position:%20absolute;%20top:%20140px;%20width:%20120px;%20background-color:%20rgb(250,%20250,%20250);%20border-right:%202px%20solid%20rgb(233,%20233,%20233);%22&gt;&lt;span%20style=%22text-overflow:%20ellipsis;%20overflow:%20hidden;%20white-space:%20nowrap;%20max-width:%20calc((100%25%20-%200px)%20-%200px);%22&gt;2021-01-27T07:09:25&lt;/span&gt;&lt;div%20style=%22height:%20100%25;%20margin-left:%206px;%22&gt;&lt;/div&gt;&lt;/div&gt;&lt;div%20style=%22overflow:%20hidden;%20display:%20none;%20align-items:%20center;%20font-size:%2012px;%20height:%2028px;%20left:%200px;%20padding:%204px%204px%203px;%20position:%20absolute;%20top:%20168px;%20width:%20120px;%20font-weight:%20600;%22&gt;&lt;span%20style=%22text-overflow:%20ellipsis;%20overflow:%20hidden;%20white-space:%20nowrap;%20max-width:%20calc((100%25%20-%200px)%20-%200px);%22&gt;wallstreetbets&lt;/span&gt;&lt;div%20style=%22height:%20100%25;%20margin-left:%206px;%22&gt;&lt;/div&gt;&lt;/div&gt;&lt;div%20style=%22overflow:%20hidden;%20display:%20flex;%20align-items:%20center;%20font-size:%2012px;%20height:%2028px;%20left:%20120px;%20padding:%204px%204px%203px;%20position:%20absolute;%20top:%20168px;%20width:%20120px;%20font-weight:%20600;%22&gt;&lt;span%20style=%22text-overflow:%20ellipsis;%20overflow:%20hidden;%20white-space:%20nowrap;%20max-width:%20calc((100%25%20-%200px)%20-%200px);%22&gt;WSB,%20you're%20helping%20people%20get%20back%20on%20their%20feet%20after%20COVID%20made%20them%20lose%20everything.%20I'm%20holding%20above%201000%20and%20if%20it%20all%20works%20out%20I'll%20help%20few%20families%20get%20their%20life%20back%20on%20track.&lt;/span&gt;&lt;div%20style=%22height:%20100%25;%20margin-left:%206px;%22&gt;&lt;/div&gt;&lt;/div&gt;&lt;div%20style=%22overflow:%20hidden;%20display:%20flex;%20align-items:%20center;%20font-size:%2012px;%20height:%2028px;%20left:%20240px;%20padding:%204px%204px%203px;%20position:%20absolute;%20top:%20168px;%20width:%20120px;%20font-weight:%20600;%22&gt;&lt;span%20style=%22text-overflow:%20ellipsis;%20overflow:%20hidden;%20white-space:%20nowrap;%20max-width:%20calc((100%25%20-%200px)%20-%200px);%22&gt;Some%20of%20my%20relatives%20lost%20their%20livelihood%20because%20of%20the%20pandemic.%20Some%20didn't%20make%20it%20at%20all.%20My%20friend's%20husband%20passed%20away%20due%20to%20covid,%20she%20lost%20her%20job%20and%20now%20she's%20alone%20with%20two%20kids%20and%20swimming%20in%20debt.%20%0A%0AI've%20tried%20to%20help%20everyone%20as%20much%20as%20possible%20but%20it%20just%20wasn't%20enough.%20My%20own%20business%20died%20during%20the%20lockdown%20as%20well%20but%20I%20was%20able%20to%20save%20up%20some%20cash.%0A%0AMost%20of%20it%20is%20now%20I'm%20GME.%20I've%20bought%20shares%20for%2020k%20at%20120%20average.%20If%20this%20rocket%20will%20fly%20over%20$1000%20I'll%20be%20able%20to%20help%20these%20families%20get%20back%20on%20their%20feet%20(and%20the%20kids%20will%20be%20able%20to%20go%20back%20to%20dancing%20classes!).%0A%0AListen%20retards,%20I%20just%20wanted%20to%20let%20you%20know%20that%20by%20doing%20your%20part%20and%20holding,%20you're%20not%20just%20helping%20the%20whales%20get%20more%20yachts%20and%20mansions%20but%20you're%20also%20saving%20lives.%20Literally.%20Thank%20you%20for%20giving%20me%20an%20opportunity%20to%20do%20some%20good.%20%0A%0AYours%20truly,%0A%0A-%20A.%20Retard&lt;/span&gt;&lt;div%20style=%22height:%20100%25;%20margin-left:%206px;%22&gt;&lt;/div&gt;&lt;/div&gt;&lt;div%20style=%22overflow:%20hidden;%20display:%20none;%20align-items:%20center;%20font-size:%2012px;%20height:%2028px;%20left:%20360px;%20padding:%204px%204px%203px;%20position:%20absolute;%20top:%20168px;%20width:%20120px;%20font-weight:%20600;%22&gt;&lt;span%20style=%22text-overflow:%20ellipsis;%20overflow:%20hidden;%20white-space:%20nowrap;%20max-width:%20calc((100%25%20-%200px)%20-%200px);%22&gt;false&lt;/span&gt;&lt;div%20style=%22height:%20100%25;%20margin-left:%206px;%22&gt;&lt;/div&gt;&lt;/div&gt;&lt;div%20style=%22overflow:%20hidden;%20display:%20flex;%20align-items:%20center;%20font-size:%2012px;%20height:%2028px;%20left:%20480px;%20padding:%204px%204px%203px;%20position:%20absolute;%20top:%20168px;%20width:%20120px;%20border-right:%202px%20solid%20rgb(233,%20233,%20233);%22&gt;&lt;span%20style=%22text-overflow:%20ellipsis;%20overflow:%20hidden;%20white-space:%20nowrap;%20max-width:%20calc((100%25%20-%200px)%20-%200px);%22&gt;2021-01-27T08:44&lt;/span&gt;&lt;div%20style=%22height:%20100%25;%20margin-left:%206px;%22&gt;&lt;/div&gt;&lt;/div&gt;&lt;div%20style=%22overflow:%20hidden;%20display:%20none;%20align-items:%20center;%20font-size:%2012px;%20height:%2028px;%20left:%200px;%20padding:%204px%204px%203px;%20position:%20absolute;%20top:%20196px;%20width:%20120px;%20font-weight:%20600;%22&gt;&lt;span%20style=%22text-overflow:%20ellipsis;%20overflow:%20hidden;%20white-space:%20nowrap;%20max-width:%20calc((100%25%20-%200px)%20-%200px);%22&gt;wallstreetbets&lt;/span&gt;&lt;div%20style=%22height:%20100%25;%20margin-left:%206px;%22&gt;&lt;/div&gt;&lt;/div&gt;&lt;div%20style=%22overflow:%20hidden;%20display:%20flex;%20align-items:%20center;%20font-size:%2012px;%20height:%2028px;%20left:%20120px;%20padding:%204px%204px%203px;%20position:%20absolute;%20top:%20196px;%20width:%20120px;%20font-weight:%20600;%22&gt;&lt;span%20style=%22text-overflow:%20ellipsis;%20overflow:%20hidden;%20white-space:%20nowrap;%20max-width:%20calc((100%25%20-%200px)%20-%200px);%22&gt;Ladies%20and%20gentlemen%20the%20man%20behind%20@marketwatch%20is%20calling%20you%20all%20conspirators%20of%20a%20crime.%20Someone%20call%20pappa%20Elon,%20we%20gotta%20take%20a%20rocket%20to%20the%20moon%20before%20the%20SEC%20comes%20knocking.&lt;/span&gt;&lt;div%20style=%22height:%20100%25;%20margin-left:%206px;%22&gt;&lt;/div&gt;&lt;/div&gt;&lt;div%20style=%22overflow:%20hidden;%20display:%20flex;%20align-items:%20center;%20font-size:%2012px;%20height:%2028px;%20left:%20240px;%20padding:%204px%204px%203px;%20position:%20absolute;%20top:%20196px;%20width:%20120px;%20font-weight:%20600;%22&gt;&lt;span%20style=%22text-overflow:%20ellipsis;%20overflow:%20hidden;%20white-space:%20nowrap;%20max-width:%20calc((100%25%20-%200px)%20-%200px);%22&gt;N/A&lt;/span&gt;&lt;div%20style=%22height:%20100%25;%20margin-left:%206px;%22&gt;&lt;/div&gt;&lt;/div&gt;&lt;div%20style=%22overflow:%20hidden;%20display:%20none;%20align-items:%20center;%20font-size:%2012px;%20height:%2028px;%20left:%20360px;%20padding:%204px%204px%203px;%20position:%20absolute;%20top:%20196px;%20width:%20120px;%20font-weight:%20600;%22&gt;&lt;span%20style=%22text-overflow:%20ellipsis;%20overflow:%20hidden;%20white-space:%20nowrap;%20max-width:%20calc((100%25%20-%200px)%20-%200px);%22&gt;false&lt;/span&gt;&lt;div%20style=%22height:%20100%25;%20margin-left:%206px;%22&gt;&lt;/div&gt;&lt;/div&gt;&lt;div%20style=%22overflow:%20hidden;%20display:%20flex;%20align-items:%20center;%20font-size:%2012px;%20height:%2028px;%20left:%20480px;%20padding:%204px%204px%203px;%20position:%20absolute;%20top:%20196px;%20width:%20120px;%20background-color:%20rgb(250,%20250,%20250);%20border-right:%202px%20solid%20rgb(233,%20233,%20233);%22&gt;&lt;span%20style=%22text-overflow:%20ellipsis;%20overflow:%20hidden;%20white-space:%20nowrap;%20max-width:%20calc((100%25%20-%200px)%20-%200px);%22&gt;2021-01-27T08:25:27&lt;/span&gt;&lt;div%20style=%22height:%20100%25;%20margin-left:%206px;%22&gt;&lt;/div&gt;&lt;/div&gt;&lt;div%20style=%22overflow:%20hidden;%20display:%20none;%20align-items:%20center;%20font-size:%2012px;%20height:%2028px;%20left:%200px;%20padding:%204px%204px%203px;%20position:%20absolute;%20top:%20224px;%20width:%20120px;%20font-weight:%20600;%22&gt;&lt;span%20style=%22text-overflow:%20ellipsis;%20overflow:%20hidden;%20white-space:%20nowrap;%20max-width:%20calc((100%25%20-%200px)%20-%200px);%22&gt;wallstreetbets&lt;/span&gt;&lt;div%20style=%22height:%20100%25;%20margin-left:%206px;%22&gt;&lt;/div&gt;&lt;/div&gt;&lt;div%20style=%22overflow:%20hidden;%20display:%20flex;%20align-items:%20center;%20font-size:%2012px;%20height:%2028px;%20left:%20120px;%20padding:%204px%204px%203px;%20position:%20absolute;%20top:%20224px;%20width:%20120px;%20font-weight:%20600;%22&gt;&lt;span%20style=%22text-overflow:%20ellipsis;%20overflow:%20hidden;%20white-space:%20nowrap;%20max-width:%20calc((100%25%20-%200px)%20-%200px);%22&gt;May%20not%20be%20much%20compared%20to%20some%20of%20you%20rich%20fuckers%20but%20as%20a%20broke%2019%20year%20old%20uni%20student%20this%20is%20everything%20I%20have%20plus%20my%20uni%20grant%20AND%20I%20AIN%E2%80%99T%20GONNA%20SELL%20TILL%20WE%20HIT%20THE%20MOON%F0%9F%9A%80%F0%9F%9A%80%F0%9F%92%8E%F0%9F%92%8E%F0%9F%92%8E%F0%9F%99%8C%F0%9F%99%8C&lt;/span&gt;&lt;div%20style=%22height:%20100%25;%20margin-left:%206px;%22&gt;&lt;/div&gt;&lt;/div&gt;&lt;div%20style=%22overflow:%20hidden;%20display:%20none;%20align-items:%20center;%20font-size:%2012px;%20height:%2028px;%20left:%20240px;%20padding:%204px%204px%203px;%20position:%20absolute;%20top:%20224px;%20width:%20120px;%20font-weight:%20600;%22&gt;&lt;span%20style=%22text-overflow:%20ellipsis;%20overflow:%20hidden;%20white-space:%20nowrap;%20max-width:%20calc((100%25%20-%200px)%20-%200px);%22&gt;N/A&lt;/span&gt;&lt;div%20style=%22height:%20100%25;%20margin-left:%206px;%22&gt;&lt;/div&gt;&lt;/div&gt;&lt;div%20style=%22overflow:%20hidden;%20display:%20none;%20align-items:%20center;%20font-size:%2012px;%20height:%2028px;%20left:%20360px;%20padding:%204px%204px%203px;%20position:%20absolute;%20top:%20224px;%20width:%20120px;%20font-weight:%20600;%22&gt;&lt;span%20style=%22text-overflow:%20ellipsis;%20overflow:%20hidden;%20white-space:%20nowrap;%20max-width:%20calc((100%25%20-%200px)%20-%200px);%22&gt;false&lt;/span&gt;&lt;div%20style=%22height:%20100%25;%20margin-left:%206px;%22&gt;&lt;/div&gt;&lt;/div&gt;&lt;div%20style=%22overflow:%20hidden;%20display:%20flex;%20align-items:%20center;%20font-size:%2012px;%20height:%2028px;%20left:%20480px;%20padding:%204px%204px%203px;%20position:%20absolute;%20top:%20224px;%20width:%20120px;%20border-right:%202px%20solid%20rgb(233,%20233,%20233);%22&gt;&lt;span%20style=%22text-overflow:%20ellipsis;%20overflow:%20hidden;%20white-space:%20nowrap;%20max-width:%20calc((100%25%20-%200px)%20-%200px);%22&gt;2021-01-27T07:22:10&lt;/span&gt;&lt;div%20style=%22height:%20100%25;%20margin-left:%206px;%22&gt;&lt;/div&gt;&lt;/div&gt;&lt;div%20style=%22overflow:%20hidden;%20display:%20none;%20align-items:%20center;%20font-size:%2012px;%20height:%2028px;%20left:%200px;%20padding:%204px%204px%203px;%20position:%20absolute;%20top:%20252px;%20width:%20120px;%20font-weight:%20600;%22&gt;&lt;span%20style=%22text-overflow:%20ellipsis;%20overflow:%20hidden;%20white-space:%20nowrap;%20max-width:%20calc((100%25%20-%200px)%20-%200px);%22&gt;wallstreetbets&lt;/span&gt;&lt;div%20style=%22height:%20100%25;%20margin-left:%206px;%22&gt;&lt;/div&gt;&lt;/div&gt;&lt;div%20style=%22overflow:%20hidden;%20display:%20flex;%20align-items:%20center;%20font-size:%2012px;%20height:%2028px;%20left:%20120px;%20padding:%204px%204px%203px;%20position:%20absolute;%20top:%20252px;%20width:%20120px;%20font-weight:%20600;%22&gt;&lt;span%20style=%22text-overflow:%20ellipsis;%20overflow:%20hidden;%20white-space:%20nowrap;%20max-width:%20calc((100%25%20-%200px)%20-%200px);%22&gt;Literally%20flatlining%20all%20month%20until%20I%20decided%20to%20buy%20some%20GME%20on%20Monday.%20Today%20was%20amazing%20and%20the%20squeeze%20hasn%E2%80%99t%20even%20begun.%20This%20thing%20is%20going%20to%201000%20minimum.%20500%20by%20Friday.&lt;/span&gt;&lt;div%20style=%22height:%20100%25;%20margin-left:%206px;%22&gt;&lt;/div&gt;&lt;/div&gt;&lt;div%20style=%22overflow:%20hidden;%20display:%20none;%20align-items:%20center;%20font-size:%2012px;%20height:%2028px;%20left:%20240px;%20padding:%204px%204px%203px;%20position:%20absolute;%20top:%20252px;%20width:%20120px;%20font-weight:%20600;%22&gt;&lt;span%20style=%22text-overflow:%20ellipsis;%20overflow:%20hidden;%20white-space:%20nowrap;%20max-width:%20calc((100%25%20-%200px)%20-%200px);%22&gt;N/A&lt;/span&gt;&lt;div%20style=%22height:%20100%25;%20margin-left:%206px;%22&gt;&lt;/div&gt;&lt;/div&gt;&lt;div%20style=%22overflow:%20hidden;%20display:%20none;%20align-items:%20center;%20font-size:%2012px;%20height:%2028px;%20left:%20360px;%20padding:%204px%204px%203px;%20position:%20absolute;%20top:%20252px;%20width:%20120px;%20font-weight:%20600;%22&gt;&lt;span%20style=%22text-overflow:%20ellipsis;%20overflow:%20hidden;%20white-space:%20nowrap;%20max-width:%20calc((100%25%20-%200px)%20-%200px);%22&gt;false&lt;/span&gt;&lt;div%20style=%22height:%20100%25;%20margin-left:%206px;%22&gt;&lt;/div&gt;&lt;/div&gt;&lt;div%20style=%22overflow:%20hidden;%20display:%20flex;%20align-items:%20center;%20font-size:%2012px;%20height:%2028px;%20left:%20480px;%20padding:%204px%204px%203px;%20position:%20absolute;%20top:%20252px;%20width:%20120px;%20background-color:%20rgb(250,%20250,%20250);%20border-right:%202px%20solid%20rgb(233,%20233,%20233);%22&gt;&lt;span%20style=%22text-overflow:%20ellipsis;%20overflow:%20hidden;%20white-space:%20nowrap;%20max-width:%20calc((100%25%20-%200px)%20-%200px);%22&gt;2021-01-27T07:07:48&lt;/span&gt;&lt;div%20style=%22height:%20100%25;%20margin-left:%206px;%22&gt;&lt;/div&gt;&lt;/div&gt;&lt;div%20style=%22overflow:%20hidden;%20display:%20none;%20align-items:%20center;%20font-size:%2012px;%20height:%2028px;%20left:%200px;%20padding:%204px%204px%203px;%20position:%20absolute;%20top:%20280px;%20width:%20120px;%20font-weight:%20600;%22&gt;&lt;span%20style=%22text-overflow:%20ellipsis;%20overflow:%20hidden;%20white-space:%20nowrap;%20max-width:%20calc((100%25%20-%200px)%20-%200px);%22&gt;wallstreetbets&lt;/span&gt;&lt;div%20style=%22height:%20100%25;%20margin-left:%206px;%22&gt;&lt;/div&gt;&lt;/div&gt;&lt;div%20style=%22overflow:%20hidden;%20display:%20flex;%20align-items:%20center;%20font-size:%2012px;%20height:%2028px;%20left:%20120px;%20padding:%204px%204px%203px;%20position:%20absolute;%20top:%20280px;%20width:%20120px;%20font-weight:%20600;%22&gt;&lt;span%20style=%22text-overflow:%20ellipsis;%20overflow:%20hidden;%20white-space:%20nowrap;%20max-width:%20calc((100%25%20-%200px)%20-%200px);%22&gt;%E2%80%9CThere%E2%80%99s%20a%20whole%20group%20of%20investors%20who%20really%20don%E2%80%99t%20care%20about%20the%20inherent%20value%20of%20a%20company,%E2%80%9D%20he%20said.%20%E2%80%9CThey%20just%20care%20if%20there%E2%80%99s%20someone%20else%20who%20will%20pay%20a%20higher%20price.%E2%80%9D&lt;/span&gt;&lt;div%20style=%22height:%20100%25;%20margin-left:%206px;%22&gt;&lt;/div&gt;&lt;/div&gt;&lt;div%20style=%22overflow:%20hidden;%20display:%20flex;%20align-items:%20center;%20font-size:%2012px;%20height:%2028px;%20left:%20240px;%20padding:%204px%204px%203px;%20position:%20absolute;%20top:%20280px;%20width:%20120px;%20font-weight:%20600;%22&gt;&lt;span%20style=%22text-overflow:%20ellipsis;%20overflow:%20hidden;%20white-space:%20nowrap;%20max-width:%20calc((100%25%20-%200px)%20-%200px);%22&gt;#oh%20shit%20the%20secret%20is%20out%20lads%0A%0A%0A%E2%80%9CThere%E2%80%99s%20a%20whole%20group%20of%20investors%20who%20really%20don%E2%80%99t%20care%20about%20the%20inherent%20value%20of%20a%20company,%E2%80%9D%20he%20said.%20%E2%80%9CThey%20just%20care%20if%20there%E2%80%99s%20someone%20else%20who%20will%20pay%20a%20higher%20price.%E2%80%9D%0A%0Aso%20says%20%20John%20Stark,%20a%20lecturer%20at%20Duke%20Law%20who%20previously%20led%20the%20SEC%E2%80%99s%20Office%20of%20Internet%20Enforcement,%20in%20the%20FT%0A%0Ahttps://www.ft.com/content/56e8b33a-d9b6-4f74-998b-327ef54c4d5a&lt;/span&gt;&lt;div%20style=%22height:%20100%25;%20margin-left:%206px;%22&gt;&lt;/div&gt;&lt;/div&gt;&lt;div%20style=%22overflow:%20hidden;%20display:%20none;%20align-items:%20center;%20font-size:%2012px;%20height:%2028px;%20left:%20360px;%20padding:%204px%204px%203px;%20position:%20absolute;%20top:%20280px;%20width:%20120px;%20font-weight:%20600;%22&gt;&lt;span%20style=%22text-overflow:%20ellipsis;%20overflow:%20hidden;%20white-space:%20nowrap;%20max-width:%20calc((100%25%20-%200px)%20-%200px);%22&gt;false&lt;/span&gt;&lt;div%20style=%22height:%20100%25;%20margin-left:%206px;%22&gt;&lt;/div&gt;&lt;/div&gt;&lt;div%20style=%22overflow:%20hidden;%20display:%20flex;%20align-items:%20center;%20font-size:%2012px;%20height:%2028px;%20left:%20480px;%20padding:%204px%204px%203px;%20position:%20absolute;%20top:%20280px;%20width:%20120px;%20border-right:%202px%20solid%20rgb(233,%20233,%20233);%22&gt;&lt;span%20style=%22text-overflow:%20ellipsis;%20overflow:%20hidden;%20white-space:%20nowrap;%20max-width:%20calc((100%25%20-%200px)%20-%200px);%22&gt;2021-01-27T06:43:05&lt;/span&gt;&lt;div%20style=%22height:%20100%25;%20margin-left:%206px;%22&gt;&lt;/div&gt;&lt;/div&gt;&lt;div%20style=%22overflow:%20hidden;%20display:%20none;%20align-items:%20center;%20font-size:%2012px;%20height:%2028px;%20left:%200px;%20padding:%204px%204px%203px;%20position:%20absolute;%20top:%20308px;%20width:%20120px;%20font-weight:%20600;%22&gt;&lt;span%20style=%22text-overflow:%20ellipsis;%20overflow:%20hidden;%20white-space:%20nowrap;%20max-width:%20calc((100%25%20-%200px)%20-%200px);%22&gt;wallstreetbets&lt;/span&gt;&lt;div%20style=%22height:%20100%25;%20margin-left:%206px;%22&gt;&lt;/div&gt;&lt;/div&gt;&lt;div%20style=%22overflow:%20hidden;%20display:%20flex;%20align-items:%20center;%20font-size:%2012px;%20height:%2028px;%20left:%20120px;%20padding:%204px%204px%203px;%20position:%20absolute;%20top:%20308px;%20width:%20120px;%20font-weight:%20600;%22&gt;&lt;span%20style=%22text-overflow:%20ellipsis;%20overflow:%20hidden;%20white-space:%20nowrap;%20max-width:%20calc((100%25%20-%200px)%20-%200px);%22&gt;They%20say%20never%20go%20full%20retard,%20and%20at%20first%20I%20listened.%20I%E2%80%99m%20sorry%20for%20ever%20doubting%20you%20my%20smooth%20brained%20ape%20brothers.%20But%20I%20am%20here%20now,%20and%20I%20have%20my%20diamond%20gloves%20on.%20%F0%9F%A6%8D%F0%9F%9A%80%F0%9F%92%8E&lt;/span&gt;&lt;div%20style=%22height:%20100%25;%20margin-left:%206px;%22&gt;&lt;/div&gt;&lt;/div&gt;&lt;div%20style=%22overflow:%20hidden;%20display:%20flex;%20align-items:%20center;%20font-size:%2012px;%20height:%2028px;%20left:%20240px;%20padding:%204px%204px%203px;%20position:%20absolute;%20top:%20308px;%20width:%20120px;%20font-weight:%20600;%22&gt;&lt;span%20style=%22text-overflow:%20ellipsis;%20overflow:%20hidden;%20white-space:%20nowrap;%20max-width:%20calc((100%25%20-%200px)%20-%200px);%22&gt;N/A&lt;/span&gt;&lt;div%20style=%22height:%20100%25;%20margin-left:%206px;%22&gt;&lt;/div&gt;&lt;/div&gt;&lt;div%20style=%22overflow:%20hidden;%20display:%20none;%20align-items:%20center;%20font-size:%2012px;%20height:%2028px;%20left:%20360px;%20padding:%204px%204px%203px;%20position:%20absolute;%20top:%20308px;%20width:%20120px;%20font-weight:%20600;%22&gt;&lt;span%20style=%22text-overflow:%20ellipsis;%20overflow:%20hidden;%20white-space:%20nowrap;%20max-width:%20calc((100%25%20-%200px)%20-%200px);%22&gt;false&lt;/span&gt;&lt;div%20style=%22height:%20100%25;%20margin-left:%206px;%22&gt;&lt;/div&gt;&lt;/div&gt;&lt;div%20style=%22overflow:%20hidden;%20display:%20flex;%20align-items:%20center;%20font-size:%2012px;%20height:%2028px;%20left:%20480px;%20padding:%204px%204px%203px;%20position:%20absolute;%20top:%20308px;%20width:%20120px;%20background-color:%20rgb(250,%20250,%20250);%20border-right:%202px%20solid%20rgb(233,%20233,%20233);%22&gt;&lt;span%20style=%22text-overflow:%20ellipsis;%20overflow:%20hidden;%20white-space:%20nowrap;%20max-width:%20calc((100%25%20-%200px)%20-%200px);%22&gt;2021-01-27T03:49:43&lt;/span&gt;&lt;div%20style=%22height:%20100%25;%20margin-left:%206px;%22&gt;&lt;/div&gt;&lt;/div&gt;&lt;div%20style=%22overflow:%20hidden;%20display:%20none;%20align-items:%20center;%20font-size:%2012px;%20height:%2028px;%20left:%200px;%20padding:%204px%204px%203px;%20position:%20absolute;%20top:%20336px;%20width:%20120px;%20font-weight:%20600;%22&gt;&lt;span%20style=%22text-overflow:%20ellipsis;%20overflow:%20hidden;%20white-space:%20nowrap;%20max-width:%20calc((100%25%20-%200px)%20-%200px);%22&gt;wallstreetbets&lt;/span&gt;&lt;div%20style=%22height:%20100%25;%20margin-left:%206px;%22&gt;&lt;/div&gt;&lt;/div&gt;&lt;div%20style=%22overflow:%20hidden;%20display:%20flex;%20align-items:%20center;%20font-size:%2012px;%20height:%2028px;%20left:%20120px;%20padding:%204px%204px%203px;%20position:%20absolute;%20top:%20336px;%20width:%20120px;%20font-weight:%20600;%22&gt;&lt;span%20style=%22text-overflow:%20ellipsis;%20overflow:%20hidden;%20white-space:%20nowrap;%20max-width:%20calc((100%25%20-%200px)%20-%200px);%22&gt;I%20cannot%20wait%20to%20drink%20the%20blood%20of%20the%20bloodsuckers%20and%20revel%20in%20the%20schadenfreude%20of%20a%20hedge%20fund%20collapse.%20Hats%20off%20to%20you%20crazy%20bastards,%20don't%20let%20your%20memes%20be%20dreams&lt;/span&gt;&lt;div%20style=%22height:%20100%25;%20margin-left:%206px;%22&gt;&lt;/div&gt;&lt;/div&gt;&lt;div%20style=%22overflow:%20hidden;%20display:%20none;%20align-items:%20center;%20font-size:%2012px;%20height:%2028px;%20left:%20240px;%20padding:%204px%204px%203px;%20position:%20absolute;%20top:%20336px;%20width:%20120px;%20font-weight:%20600;%22&gt;&lt;span%20style=%22text-overflow:%20ellipsis;%20overflow:%20hidden;%20white-space:%20nowrap;%20max-width:%20calc((100%25%20-%200px)%20-%200px);%22&gt;N/A&lt;/span&gt;&lt;div%20style=%22height:%20100%25;%20margin-left:%206px;%22&gt;&lt;/div&gt;&lt;/div&gt;&lt;div%20style=%22overflow:%20hidden;%20display:%20none;%20align-items:%20center;%20font-size:%2012px;%20height:%2028px;%20left:%20360px;%20padding:%204px%204px%203px;%20position:%20absolute;%20top:%20336px;%20width:%20120px;%20font-weight:%20600;%22&gt;&lt;span%20style=%22text-overflow:%20ellipsis;%20overflow:%20hidden;%20white-space:%20nowrap;%20max-width:%20calc((100%25%20-%200px)%20-%200px);%22&gt;false&lt;/span&gt;&lt;div%20style=%22height:%20100%25;%20margin-left:%206px;%22&gt;&lt;/div&gt;&lt;/div&gt;&lt;div%20style=%22overflow:%20hidden;%20display:%20flex;%20align-items:%20center;%20font-size:%2012px;%20height:%2028px;%20left:%20480px;%20padding:%204px%204px%203px;%20position:%20absolute;%20top:%20336px;%20width:%20120px;%20border-right:%202px%20solid%20rgb(233,%20233,%20233);%22&gt;&lt;span%20style=%22text-overflow:%20ellipsis;%20overflow:%20hidden;%20white-space:%20nowrap;%20max-width:%20calc((100%25%20-%200px)%20-%200px);%22&gt;2021-01-27T07:45:02&lt;/span&gt;&lt;div%20style=%22height:%20100%25;%20margin-left:%206px;%22&gt;&lt;/div&gt;&lt;/div&gt;&lt;/div&gt;&lt;/div&gt;&lt;/div&gt;&lt;div%20class=%22css-sth52s-Table%22&gt;&lt;div%20class=%22css-1s6iylo%22&gt;&lt;div%20class=%22css-j7jois%22&gt;&lt;div%20style=%22overflow:%20hidden;%20display:%20flex;%20align-items:%20center;%20font-size:%2012px;%20height:%2028px;%20left:%200px;%20padding:%204px%204px%203px;%20position:%20absolute;%20top:%200px;%20width:%20120px;%20font-weight:%20600;%22&gt;&lt;span%20style=%22text-overflow:%20ellipsis;%20overflow:%20hidden;%20white-space:%20nowrap;%20max-width:%20calc((100%25%20-%200px)%20-%2018px);%22&gt;Chars&lt;/span&gt;&lt;div%20style=%22height:%20100%25;%20margin-left:%206px;%22&gt;&lt;/div&gt;&lt;/div&gt;&lt;div%20style=%22overflow:%20hidden;%20display:%20flex;%20align-items:%20center;%20font-size:%2012px;%20height:%2028px;%20left:%20120px;%20padding:%204px%204px%203px;%20position:%20absolute;%20top:%200px;%20width:%20120px;%20font-weight:%20600;%22&gt;&lt;span%20style=%22text-overflow:%20ellipsis;%20overflow:%20hidden;%20white-space:%20nowrap;%20max-width:%20calc((100%25%20-%200px)%20-%200px);%22&gt;Comments&lt;/span&gt;&lt;div%20style=%22height:%20100%25;%20margin-left:%206px;%22&gt;&lt;/div&gt;&lt;/div&gt;&lt;div%20style=%22overflow:%20hidden;%20display:%20flex;%20align-items:%20center;%20font-size:%2012px;%20height:%2028px;%20left:%20240px;%20padding:%204px%204px%203px;%20position:%20absolute;%20top:%200px;%20width:%20120px;%20font-weight:%20600;%22&gt;&lt;span%20style=%22text-overflow:%20ellipsis;%20overflow:%20hidden;%20white-space:%20nowrap;%20max-width:%20calc((100%25%20-%200px)%20-%200px);%22&gt;Score&lt;/span&gt;&lt;div%20style=%22height:%20100%25;%20margin-left:%206px;%22&gt;&lt;/div&gt;&lt;/div&gt;&lt;div%20style=%22overflow:%20hidden;%20display:%20flex;%20align-items:%20center;%20font-size:%2012px;%20height:%2028px;%20left:%20360px;%20padding:%204px%204px%203px;%20position:%20absolute;%20top:%200px;%20width:%20120px;%20font-weight:%20600;%22&gt;&lt;span%20style=%22text-overflow:%20ellipsis;%20overflow:%20hidden;%20white-space:%20nowrap;%20max-width:%20calc((100%25%20-%200px)%20-%200px);%22&gt;Total%20awards&lt;/span&gt;&lt;div%20style=%22height:%20100%25;%20margin-left:%206px;%22&gt;&lt;/div&gt;&lt;/div&gt;&lt;/div&gt;&lt;/div&gt;&lt;div%20class=%22css-w5nm47%22&gt;&lt;div%20class=%22css-1iqz4xc%22&gt;&lt;div%20class=%22css-1lzltx4-TableCell%22%20style=%22font-size:%2012px;%20height:%2028px;%20left:%200px;%20padding:%204px%204px%203px;%20position:%20absolute;%20top:%200px;%20width:%20120px;%20text-align:%20right;%20border-right:%201px%20solid%20rgb(233,%20233,%20233);%22&gt;194&lt;/div&gt;&lt;div%20class=%22css-1lzltx4-TableCell%22%20style=%22font-size:%2012px;%20height:%2028px;%20left:%20120px;%20padding:%204px%204px%203px;%20position:%20absolute;%20top:%200px;%20width:%20120px;%20text-align:%20right;%20border-right:%201px%20solid%20rgb(233,%20233,%20233);%22&gt;7&lt;/div&gt;&lt;div%20class=%22css-1lzltx4-TableCell%22%20style=%22font-size:%2012px;%20height:%2028px;%20left:%20240px;%20padding:%204px%204px%203px;%20position:%20absolute;%20top:%200px;%20width:%20120px;%20text-align:%20right;%20border-right:%201px%20solid%20rgb(233,%20233,%20233);%22&gt;0&lt;/div&gt;&lt;div%20class=%22css-1lzltx4-TableCell%22%20style=%22font-size:%2012px;%20height:%2028px;%20left:%20360px;%20padding:%204px%204px%203px;%20position:%20absolute;%20top:%200px;%20width:%20120px;%20text-align:%20right;%20border-right:%201px%20solid%20rgb(233,%20233,%20233);%22&gt;0&lt;/div&gt;&lt;div%20class=%22css-1lzltx4-TableCell%22%20style=%22font-size:%2012px;%20height:%2028px;%20left:%200px;%20padding:%204px%204px%203px;%20position:%20absolute;%20top:%2028px;%20width:%20120px;%20text-align:%20right;%20background-color:%20rgb(250,%20250,%20250);%20border-right:%201px%20solid%20rgb(233,%20233,%20233);%22&gt;174&lt;/div&gt;&lt;div%20class=%22css-1lzltx4-TableCell%22%20style=%22font-size:%2012px;%20height:%2028px;%20left:%20120px;%20padding:%204px%204px%203px;%20position:%20absolute;%20top:%2028px;%20width:%20120px;%20text-align:%20right;%20background-color:%20rgb(250,%20250,%20250);%20border-right:%201px%20solid%20rgb(233,%20233,%20233);%22&gt;35&lt;/div&gt;&lt;div%20class=%22css-1lzltx4-TableCell%22%20style=%22font-size:%2012px;%20height:%2028px;%20left:%20240px;%20padding:%204px%204px%203px;%20position:%20absolute;%20top:%2028px;%20width:%20120px;%20text-align:%20right;%20background-color:%20rgb(250,%20250,%20250);%20border-right:%201px%20solid%20rgb(233,%20233,%20233);%22&gt;9&lt;/div&gt;&lt;div%20class=%22css-1lzltx4-TableCell%22%20style=%22font-size:%2012px;%20height:%2028px;%20left:%20360px;%20padding:%204px%204px%203px;%20position:%20absolute;%20top:%2028px;%20width:%20120px;%20text-align:%20right;%20background-color:%20rgb(250,%20250,%20250);%20border-right:%201px%20solid%20rgb(233,%20233,%20233);%22&gt;0&lt;/div&gt;&lt;div%20class=%22css-1lzltx4-TableCell%22%20style=%22font-size:%2012px;%20height:%2028px;%20left:%200px;%20padding:%204px%204px%203px;%20position:%20absolute;%20top:%2056px;%20width:%20120px;%20text-align:%20right;%20border-right:%201px%20solid%20rgb(233,%20233,%20233);%22&gt;174&lt;/div&gt;&lt;div%20class=%22css-1lzltx4-TableCell%22%20style=%22font-size:%2012px;%20height:%2028px;%20left:%20120px;%20padding:%204px%204px%203px;%20position:%20absolute;%20top:%2056px;%20width:%20120px;%20text-align:%20right;%20border-right:%201px%20solid%20rgb(233,%20233,%20233);%22&gt;86&lt;/div&gt;&lt;div%20class=%22css-1lzltx4-TableCell%22%20style=%22font-size:%2012px;%20height:%2028px;%20left:%20240px;%20padding:%204px%204px%203px;%20position:%20absolute;%20top:%2056px;%20width:%20120px;%20text-align:%20right;%20border-right:%201px%20solid%20rgb(233,%20233,%20233);%22&gt;81&lt;/div&gt;&lt;div%20class=%22css-1lzltx4-TableCell%22%20style=%22font-size:%2012px;%20height:%2028px;%20left:%20360px;%20padding:%204px%204px%203px;%20position:%20absolute;%20top:%2056px;%20width:%20120px;%20text-align:%20right;%20border-right:%201px%20solid%20rgb(233,%20233,%20233);%22&gt;0&lt;/div&gt;&lt;div%20class=%22css-1lzltx4-TableCell%22%20style=%22font-size:%2012px;%20height:%2028px;%20left:%200px;%20padding:%204px%204px%203px;%20position:%20absolute;%20top:%2084px;%20width:%20120px;%20text-align:%20right;%20background-color:%20rgb(250,%20250,%20250);%20border-right:%201px%20solid%20rgb(233,%20233,%20233);%22&gt;167&lt;/div&gt;&lt;div%20class=%22css-1lzltx4-TableCell%22%20style=%22font-size:%2012px;%20height:%2028px;%20left:%20120px;%20padding:%204px%204px%203px;%20position:%20absolute;%20top:%2084px;%20width:%20120px;%20text-align:%20right;%20background-color:%20rgb(250,%20250,%20250);%20border-right:%201px%20solid%20rgb(233,%20233,%20233);%22&gt;30&lt;/div&gt;&lt;div%20class=%22css-1lzltx4-TableCell%22%20style=%22font-size:%2012px;%20height:%2028px;%20left:%20240px;%20padding:%204px%204px%203px;%20position:%20absolute;%20top:%2084px;%20width:%20120px;%20text-align:%20right;%20background-color:%20rgb(250,%20250,%20250);%20border-right:%201px%20solid%20rgb(233,%20233,%20233);%22&gt;181&lt;/div&gt;&lt;div%20class=%22css-1lzltx4-TableCell%22%20style=%22font-size:%2012px;%20height:%2028px;%20left:%20360px;%20padding:%204px%204px%203px;%20position:%20absolute;%20top:%2084px;%20width:%20120px;%20text-align:%20right;%20background-color:%20rgb(250,%20250,%20250);%20border-right:%201px%20solid%20rgb(233,%20233,%20233);%22&gt;1&lt;/div&gt;&lt;div%20class=%22css-1lzltx4-TableCell%22%20style=%22font-size:%2012px;%20height:%2028px;%20left:%200px;%20padding:%204px%204px%203px;%20position:%20absolute;%20top:%20112px;%20width:%20120px;%20text-align:%20right;%20border-right:%201px%20solid%20rgb(233,%20233,%20233);%22&gt;165&lt;/div&gt;&lt;div%20class=%22css-1lzltx4-TableCell%22%20style=%22font-size:%2012px;%20height:%2028px;%20left:%20120px;%20padding:%204px%204px%203px;%20position:%20absolute;%20top:%20112px;%20width:%20120px;%20text-align:%20right;%20border-right:%201px%20solid%20rgb(233,%20233,%20233);%22&gt;115&lt;/div&gt;&lt;div%20class=%22css-1lzltx4-TableCell%22%20style=%22font-size:%2012px;%20height:%2028px;%20left:%20240px;%20padding:%204px%204px%203px;%20position:%20absolute;%20top:%20112px;%20width:%20120px;%20text-align:%20right;%20border-right:%201px%20solid%20rgb(233,%20233,%20233);%22&gt;514&lt;/div&gt;&lt;div%20class=%22css-1lzltx4-TableCell%22%20style=%22font-size:%2012px;%20height:%2028px;%20left:%20360px;%20padding:%204px%204px%203px;%20position:%20absolute;%20top:%20112px;%20width:%20120px;%20text-align:%20right;%20border-right:%201px%20solid%20rgb(233,%20233,%20233);%22&gt;0&lt;/div&gt;&lt;div%20class=%22css-1lzltx4-TableCell%22%20style=%22font-size:%2012px;%20height:%2028px;%20left:%200px;%20padding:%204px%204px%203px;%20position:%20absolute;%20top:%20140px;%20width:%20120px;%20text-align:%20right;%20background-color:%20rgb(250,%20250,%20250);%20border-right:%201px%20solid%20rgb(233,%20233,%20233);%22&gt;161&lt;/div&gt;&lt;div%20class=%22css-1lzltx4-TableCell%22%20style=%22font-size:%2012px;%20height:%2028px;%20left:%20120px;%20padding:%204px%204px%203px;%20position:%20absolute;%20top:%20140px;%20width:%20120px;%20text-align:%20right;%20background-color:%20rgb(250,%20250,%20250);%20border-right:%201px%20solid%20rgb(233,%20233,%20233);%22&gt;35&lt;/div&gt;&lt;div%20class=%22css-1lzltx4-TableCell%22%20style=%22font-size:%2012px;%20height:%2028px;%20left:%20240px;%20padding:%204px%204px%203px;%20position:%20absolute;%20top:%20140px;%20width:%20120px;%20text-align:%20right;%20background-color:%20rgb(250,%20250,%20250);%20border-right:%201px%20solid%20rgb(233,%20233,%20233);%22&gt;159&lt;/div&gt;&lt;div%20class=%22css-1lzltx4-TableCell%22%20style=%22font-size:%2012px;%20height:%2028px;%20left:%20360px;%20padding:%204px%204px%203px;%20position:%20absolute;%20top:%20140px;%20width:%20120px;%20text-align:%20right;%20background-color:%20rgb(250,%20250,%20250);%20border-right:%201px%20solid%20rgb(233,%20233,%20233);%22&gt;0&lt;/div&gt;&lt;div%20class=%22css-1lzltx4-TableCell%22%20style=%22font-size:%2012px;%20height:%2028px;%20left:%200px;%20padding:%204px%204px%203px;%20position:%20absolute;%20top:%20168px;%20width:%20120px;%20text-align:%20right;%20border-right:%201px%20solid%20rgb(233,%20233,%20233);%22&gt;154&lt;/div&gt;&lt;div%20class=%22css-1lzltx4-TableCell%22%20style=%22font-size:%2012px;%20height:%2028px;%20left:%20120px;%20padding:%204px%204px%203px;%20position:%20absolute;%20top:%20168px;%20width:%20120px;%20text-align:%20right;%20border-right:%201px%20solid%20rgb(233,%20233,%20233);%22&gt;129&lt;/div&gt;&lt;div%20class=%22css-1lzltx4-TableCell%22%20style=%22font-size:%2012px;%20height:%2028px;%20left:%20240px;%20padding:%204px%204px%203px;%20position:%20absolute;%20top:%20168px;%20width:%20120px;%20text-align:%20right;%20border-right:%201px%20solid%20rgb(233,%20233,%20233);%22&gt;1,576&lt;/div&gt;&lt;div%20class=%22css-1lzltx4-TableCell%22%20style=%22font-size:%2012px;%20height:%2028px;%20left:%20360px;%20padding:%204px%204px%203px;%20position:%20absolute;%20top:%20168px;%20width:%20120px;%20text-align:%20right;%20border-right:%201px%20solid%20rgb(233,%20233,%20233);%22&gt;5&lt;/div&gt;&lt;div%20class=%22css-1lzltx4-TableCell%22%20style=%22font-size:%2012px;%20height:%2028px;%20left:%200px;%20padding:%204px%204px%203px;%20position:%20absolute;%20top:%20196px;%20width:%20120px;%20text-align:%20right;%20background-color:%20rgb(250,%20250,%20250);%20border-right:%201px%20solid%20rgb(233,%20233,%20233);%22&gt;152&lt;/div&gt;&lt;div%20class=%22css-1lzltx4-TableCell%22%20style=%22font-size:%2012px;%20height:%2028px;%20left:%20120px;%20padding:%204px%204px%203px;%20position:%20absolute;%20top:%20196px;%20width:%20120px;%20text-align:%20right;%20background-color:%20rgb(250,%20250,%20250);%20border-right:%201px%20solid%20rgb(233,%20233,%20233);%22&gt;224&lt;/div&gt;&lt;div%20class=%22css-1lzltx4-TableCell%22%20style=%22font-size:%2012px;%20height:%2028px;%20left:%20240px;%20padding:%204px%204px%203px;%20position:%20absolute;%20top:%20196px;%20width:%20120px;%20text-align:%20right;%20background-color:%20rgb(250,%20250,%20250);%20border-right:%201px%20solid%20rgb(233,%20233,%20233);%22&gt;847&lt;/div&gt;&lt;div%20class=%22css-1lzltx4-TableCell%22%20style=%22font-size:%2012px;%20height:%2028px;%20left:%20360px;%20padding:%204px%204px%203px;%20position:%20absolute;%20top:%20196px;%20width:%20120px;%20text-align:%20right;%20background-color:%20rgb(250,%20250,%20250);%20border-right:%201px%20solid%20rgb(233,%20233,%20233);%22&gt;0&lt;/div&gt;&lt;div%20class=%22css-1lzltx4-TableCell%22%20style=%22font-size:%2012px;%20height:%2028px;%20left:%200px;%20padding:%204px%204px%203px;%20position:%20absolute;%20top:%20224px;%20width:%20120px;%20text-align:%20right;%20border-right:%201px%20solid%20rgb(233,%20233,%20233);%22&gt;148&lt;/div&gt;&lt;div%20class=%22css-1lzltx4-TableCell%22%20style=%22font-size:%2012px;%20height:%2028px;%20left:%20120px;%20padding:%204px%204px%203px;%20position:%20absolute;%20top:%20224px;%20width:%20120px;%20text-align:%20right;%20border-right:%201px%20solid%20rgb(233,%20233,%20233);%22&gt;25&lt;/div&gt;&lt;div%20class=%22css-1lzltx4-TableCell%22%20style=%22font-size:%2012px;%20height:%2028px;%20left:%20240px;%20padding:%204px%204px%203px;%20position:%20absolute;%20top:%20224px;%20width:%20120px;%20text-align:%20right;%20border-right:%201px%20solid%20rgb(233,%20233,%20233);%22&gt;79&lt;/div&gt;&lt;div%20class=%22css-1lzltx4-TableCell%22%20style=%22font-size:%2012px;%20height:%2028px;%20left:%20360px;%20padding:%204px%204px%203px;%20position:%20absolute;%20top:%20224px;%20width:%20120px;%20text-align:%20right;%20border-right:%201px%20solid%20rgb(233,%20233,%20233);%22&gt;0&lt;/div&gt;&lt;div%20class=%22css-1lzltx4-TableCell%22%20style=%22font-size:%2012px;%20height:%2028px;%20left:%200px;%20padding:%204px%204px%203px;%20position:%20absolute;%20top:%20252px;%20width:%20120px;%20text-align:%20right;%20background-color:%20rgb(250,%20250,%20250);%20border-right:%201px%20solid%20rgb(233,%20233,%20233);%22&gt;147&lt;/div&gt;&lt;div%20class=%22css-1lzltx4-TableCell%22%20style=%22font-size:%2012px;%20height:%2028px;%20left:%20120px;%20padding:%204px%204px%203px;%20position:%20absolute;%20top:%20252px;%20width:%20120px;%20text-align:%20right;%20background-color:%20rgb(250,%20250,%20250);%20border-right:%201px%20solid%20rgb(233,%20233,%20233);%22&gt;40&lt;/div&gt;&lt;div%20class=%22css-1lzltx4-TableCell%22%20style=%22font-size:%2012px;%20height:%2028px;%20left:%20240px;%20padding:%204px%204px%203px;%20position:%20absolute;%20top:%20252px;%20width:%20120px;%20text-align:%20right;%20background-color:%20rgb(250,%20250,%20250);%20border-right:%201px%20solid%20rgb(233,%20233,%20233);%22&gt;165&lt;/div&gt;&lt;div%20class=%22css-1lzltx4-TableCell%22%20style=%22font-size:%2012px;%20height:%2028px;%20left:%20360px;%20padding:%204px%204px%203px;%20position:%20absolute;%20top:%20252px;%20width:%20120px;%20text-align:%20right;%20background-color:%20rgb(250,%20250,%20250);%20border-right:%201px%20solid%20rgb(233,%20233,%20233);%22&gt;0&lt;/div&gt;&lt;div%20class=%22css-1lzltx4-TableCell%22%20style=%22font-size:%2012px;%20height:%2028px;%20left:%200px;%20padding:%204px%204px%203px;%20position:%20absolute;%20top:%20280px;%20width:%20120px;%20text-align:%20right;%20border-right:%201px%20solid%20rgb(233,%20233,%20233);%22&gt;145&lt;/div&gt;&lt;div%20class=%22css-1lzltx4-TableCell%22%20style=%22font-size:%2012px;%20height:%2028px;%20left:%20120px;%20padding:%204px%204px%203px;%20position:%20absolute;%20top:%20280px;%20width:%20120px;%20text-align:%20right;%20border-right:%201px%20solid%20rgb(233,%20233,%20233);%22&gt;15&lt;/div&gt;&lt;div%20class=%22css-1lzltx4-TableCell%22%20style=%22font-size:%2012px;%20height:%2028px;%20left:%20240px;%20padding:%204px%204px%203px;%20position:%20absolute;%20top:%20280px;%20width:%20120px;%20text-align:%20right;%20border-right:%201px%20solid%20rgb(233,%20233,%20233);%22&gt;87&lt;/div&gt;&lt;div%20class=%22css-1lzltx4-TableCell%22%20style=%22font-size:%2012px;%20height:%2028px;%20left:%20360px;%20padding:%204px%204px%203px;%20position:%20absolute;%20top:%20280px;%20width:%20120px;%20text-align:%20right;%20border-right:%201px%20solid%20rgb(233,%20233,%20233);%22&gt;0&lt;/div&gt;&lt;div%20class=%22css-1lzltx4-TableCell%22%20style=%22font-size:%2012px;%20height:%2028px;%20left:%200px;%20padding:%204px%204px%203px;%20position:%20absolute;%20top:%20308px;%20width:%20120px;%20text-align:%20right;%20background-color:%20rgb(250,%20250,%20250);%20border-right:%201px%20solid%20rgb(233,%20233,%20233);%22&gt;141&lt;/div&gt;&lt;div%20class=%22css-1lzltx4-TableCell%22%20style=%22font-size:%2012px;%20height:%2028px;%20left:%20120px;%20padding:%204px%204px%203px;%20position:%20absolute;%20top:%20308px;%20width:%20120px;%20text-align:%20right;%20background-color:%20rgb(250,%20250,%20250);%20border-right:%201px%20solid%20rgb(233,%20233,%20233);%22&gt;13&lt;/div&gt;&lt;div%20class=%22css-1lzltx4-TableCell%22%20style=%22font-size:%2012px;%20height:%2028px;%20left:%20240px;%20padding:%204px%204px%203px;%20position:%20absolute;%20top:%20308px;%20width:%20120px;%20text-align:%20right;%20background-color:%20rgb(250,%20250,%20250);%20border-right:%201px%20solid%20rgb(233,%20233,%20233);%22&gt;173&lt;/div&gt;&lt;div%20class=%22css-1lzltx4-TableCell%22%20style=%22font-size:%2012px;%20height:%2028px;%20left:%20360px;%20padding:%204px%204px%203px;%20position:%20absolute;%20top:%20308px;%20width:%20120px;%20text-align:%20right;%20background-color:%20rgb(250,%20250,%20250);%20border-right:%201px%20solid%20rgb(233,%20233,%20233);%22&gt;0&lt;/div&gt;&lt;div%20class=%22css-1lzltx4-TableCell%22%20style=%22font-size:%2012px;%20height:%2028px;%20left:%200px;%20padding:%204px%204px%203px;%20position:%20absolute;%20top:%20336px;%20width:%20120px;%20text-align:%20right;%20border-right:%201px%20solid%20rgb(233,%20233,%20233);%22&gt;141&lt;/div&gt;&lt;div%20class=%22css-1lzltx4-TableCell%22%20style=%22font-size:%2012px;%20height:%2028px;%20left:%20120px;%20padding:%204px%204px%203px;%20position:%20absolute;%20top:%20336px;%20width:%20120px;%20text-align:%20right;%20border-right:%201px%20solid%20rgb(233,%20233,%20233);%22&gt;21&lt;/div&gt;&lt;div%20class=%22css-1lzltx4-TableCell%22%20style=%22font-size:%2012px;%20height:%2028px;%20left:%20240px;%20padding:%204px%204px%203px;%20position:%20absolute;%20top:%20336px;%20width:%20120px;%20text-align:%20right;%20border-right:%201px%20solid%20rgb(233,%20233,%20233);%22&gt;26&lt;/div&gt;&lt;div%20class=%22css-1lzltx4-TableCell%22%20style=%22font-size:%2012px;%20height:%2028px;%20left:%20360px;%20padding:%204px%204px%203px;%20position:%20absolute;%20top:%20336px;%20width:%20120px;%20text-align:%20right;%20border-right:%201px%20solid%20rgb(233,%20233,%20233);%22&gt;0&lt;/div&gt;&lt;/div&gt;&lt;/div&gt;&lt;/div&gt;&lt;/div&gt;&lt;/div&gt;&lt;/div&gt;&lt;/div&gt;&lt;/div&gt;&lt;/div&gt;%3C/div%3E%3C/foreignObject%3E%3C/svg%3E\">"
      ],
      "text/plain": [
       "Open the notebook in JupyterLab with the atoti extension installed and enabled to start editing this widget."
      ]
     },
     "metadata": {},
     "output_type": "display_data"
    }
   ],
   "source": [
    "session.visualize(\"Reddit Data Table\")"
   ]
  },
  {
   "cell_type": "code",
   "execution_count": 27,
   "metadata": {
    "atoti": {
     "widget": {
      "mapping": {
       "columns": [
        "ALL_MEASURES"
       ],
       "measures": [
        "[Measures].[Total awards]",
        "[Measures].[Comments]",
        "[Measures].[contributors.COUNT]"
       ],
       "rows": []
      },
      "name": "",
      "query": {
       "context": {
        "queriesResultLimit.intermediateSize": 1000000,
        "queriesResultLimit.transientSize": 10000000
       },
       "mdx": "SELECT NON EMPTY {[Measures].[Total awards], [Measures].[Comments], [Measures].[contributors.COUNT]} ON COLUMNS, NON EMPTY Crossjoin(Hierarchize(DrilldownLevel([Reddit_Posts].[subreddit].[ALL].[AllMember])), Hierarchize(DrilldownLevel([Entities].[category].[ALL].[AllMember])), Hierarchize(DrilldownLevel([Reddit_Posts].[created date].[ALL].[AllMember]))) ON ROWS FROM [Reddit]",
       "updateMode": "once"
      },
      "serverKey": "default",
      "widgetKey": "pivot-table"
     }
    }
   },
   "outputs": [
    {
     "data": {
      "application/vnd.atoti.v0+json": {
       "name": null,
       "session": "Unnamed"
      },
      "text/html": [
       "<img src=\"data:image/svg+xml;charset=utf8,%3C?xml%20version=%221.0%22%20standalone=%22no%22?%3E%3Csvg%20xmlns=%22http://www.w3.org/2000/svg%22%20height=%22348%22%20width=%22748%22%3E%3CforeignObject%20width=%22100%25%22%20height=%22100%25%22%20x=%220%22%20y=%220%22%3E%3Cstyle%20type=%22text/css%22%3E*,%20::before,%20::after%20%7Bbox-sizing:%20unset%7D%0A.ant-root%20%5Bclass%5E=%22ant-%22%5D,%20.ant-root%20%5Bclass*=%22ant-%22%5D,%20.ant-root%20%5Bclass%5E=%22ant-%22%5D%20*,%20.ant-root%20%5Bclass*=%22ant-%22%5D%20*,%20.ant-root%20%5Bclass%5E=%22ant-%22%5D%20::before,%20.ant-root%20%5Bclass*=%22ant-%22%5D%20::before,%20.ant-root%20%5Bclass%5E=%22ant-%22%5D%20::after,%20.ant-root%20%5Bclass*=%22ant-%22%5D%20::after%20%7Bbox-sizing:%20border-box%7D%0A.ant-root%20html,%20.ant-root%20%7Bwidth:%20100%25;%20height:%20100%25%7D%0A.ant-root%20*,%20.ant-root%20::before,%20.ant-root%20::after%20%7Bbox-sizing:%20border-box%7D%0A.ant-root%20%7Bmargin-top:%200px;%20margin-right:%200px;%20margin-bottom:%200px;%20margin-left:%200px;%20color:%20rgb(89,%2089,%2089);%20font-size:%2012px;%20font-family:%20-apple-system,%20BlinkMacSystemFont,%20%22Segoe%20UI%22,%20Roboto,%20%22Helvetica%20Neue%22,%20Arial,%20%22Noto%20Sans%22,%20sans-serif,%20%22Apple%20Color%20Emoji%22,%20%22Segoe%20UI%20Emoji%22,%20%22Segoe%20UI%20Symbol%22,%20%22Noto%20Color%20Emoji%22;%20font-variant-ligatures:%20normal;%20font-variant-numeric:%20tabular-nums;%20font-variant-east-asian:%20normal;%20font-variant-caps:%20normal;%20line-height:%201.66667;%20background-color:%20rgb(255,%20255,%20255);%20--antd-wave-shadow-color:%20undefined;%20--scroll-bar:%20undefined%7D%0A.ant-root%20.ant-spin%20%7Bbox-sizing:%20border-box;%20margin-top:%200px;%20margin-right:%200px;%20margin-bottom:%200px;%20margin-left:%200px;%20padding-top:%200px;%20padding-right:%200px;%20padding-bottom:%200px;%20padding-left:%200px;%20font-size:%2012px;%20font-variant-ligatures:%20normal;%20font-variant-numeric:%20tabular-nums;%20font-variant-east-asian:%20normal;%20font-variant-caps:%20normal;%20line-height:%201.66667;%20list-style-position:%20initial;%20list-style-image:%20initial;%20list-style-type:%20none;%20position:%20absolute;%20display:%20none;%20color:%20rgb(0,%20174,%20239);%20text-align:%20center;%20vertical-align:%20middle;%20opacity:%200;%20transition-duration:%200.3s;%20transition-timing-function:%20cubic-bezier(0.78,%200.14,%200.15,%200.86);%20transition-delay:%200s;%20transition-property:%20transform%7D%0A.ant-root%20.ant-spin-spinning%20%7Bposition:%20static;%20display:%20inline-block;%20opacity:%201%7D%0A.ant-root%20.ant-spin-dot%20%7Bposition:%20relative;%20display:%20inline-block;%20font-size:%2020px;%20width:%201em;%20height:%201em%7D%0A.ant-root%20.ant-spin-dot-item%20%7Bposition:%20absolute;%20display:%20block;%20width:%209px;%20height:%209px;%20background-color:%20rgb(0,%20174,%20239);%20border-top-left-radius:%20100%25;%20border-top-right-radius:%20100%25;%20border-bottom-right-radius:%20100%25;%20border-bottom-left-radius:%20100%25;%20transform:%20scale(0.75);%20transform-origin:%2050%25%2050%25;%20opacity:%200.3;%20animation-duration:%201s;%20animation-timing-function:%20linear;%20animation-delay:%200s;%20animation-iteration-count:%20infinite;%20animation-direction:%20alternate;%20animation-fill-mode:%20none;%20animation-play-state:%20running;%20animation-name:%20antSpinMove%7D%0A.ant-root%20.ant-spin-dot-item:nth-child(1)%20%7Btop:%200px;%20left:%200px%7D%0A.ant-root%20.ant-spin-dot-item:nth-child(2)%20%7Btop:%200px;%20right:%200px;%20animation-delay:%200.4s%7D%0A.ant-root%20.ant-spin-dot-item:nth-child(3)%20%7Bright:%200px;%20bottom:%200px;%20animation-delay:%200.8s%7D%0A.ant-root%20.ant-spin-dot-item:nth-child(4)%20%7Bbottom:%200px;%20left:%200px;%20animation-delay:%201.2s%7D%0A.ant-root%20.ant-spin-dot-spin%20%7Btransform:%20rotate(45deg);%20animation-duration:%201.2s;%20animation-timing-function:%20linear;%20animation-delay:%200s;%20animation-iteration-count:%20infinite;%20animation-direction:%20normal;%20animation-fill-mode:%20none;%20animation-play-state:%20running;%20animation-name:%20antRotate%7D%0A.ant-root%20.ant-spin-lg%20.ant-spin-dot%20%7Bfont-size:%2032px%7D%0A.ant-root%20.ant-spin-lg%20.ant-spin-dot%20i%20%7Bwidth:%2014px;%20height:%2014px%7D%0A.css-12ebr42-AWidget%20%7Bheight:%20100%25%7D%0A.css-ck2xzt-Spinner%20%7B-webkit-box-align:%20center;%20align-items:%20center;%20background-image:%20initial;%20background-position-x:%20initial;%20background-position-y:%20initial;%20background-size:%20initial;%20background-repeat-x:%20initial;%20background-repeat-y:%20initial;%20background-attachment:%20initial;%20background-origin:%20initial;%20background-clip:%20initial;%20background-color:%20transparent;%20display:%20flex;%20height:%20100%25;%20-webkit-box-pack:%20center;%20justify-content:%20center;%20position:%20absolute;%20transition-duration:%20300ms;%20transition-timing-function:%20ease;%20transition-delay:%200s;%20transition-property:%20opacity;%20width:%20100%25;%20opacity:%200;%20pointer-events:%20none;%20z-index:%202%7D%0A.css-1e3kjgr-Spinner%20%7Bheight:%20100%25;%20position:%20relative%7D%0A.css-6s7z8y-Table%20%7Bpadding-bottom:%202px;%20padding-right:%202px;%20height:%20100%25%7D%0A.css-18k6uz5-Table%20%7Bcursor:%20cell;%20height:%20100%25;%20outline-color:%20initial;%20outline-style:%20none;%20outline-width:%20initial%7D%0A.css-16sdsf5-Table%20%7Bdisplay:%20flex;%20height:%20346px%7D%0A.css-numeii%20%7Bheight:%2028px;%20overflow-x:%20hidden;%20overflow-y:%20hidden;%20position:%20relative;%20width:%20360px%7D%0A.css-17w6qeo-Table%20%7Bborder-collapse:%20collapse;%20height:%2028px;%20width:%20360px%7D%0A.css-1mo0147%20%7Bheight:%2028px;%20width:%20360px%7D%0A.css-15ytzwz%20%7Bheight:%2028px;%20overflow-x:%20hidden;%20overflow-y:%20hidden;%20position:%20relative;%20width:%20360px;%20border-right-width:%202px;%20border-right-style:%20solid;%20border-right-color:%20rgb(233,%20233,%20233)%7D%0A.css-1fn0vl2%20%7Bheight:%20318px;%20width:%20360px;%20overflow-x:%20hidden;%20overflow-y:%20auto%7D%0A.css-1oihw9y-Table%20%7Bwidth:%20385px;%20border-collapse:%20collapse%7D%0A.css-zglua5%20%7Bheight:%2028px;%20width:%20367px;%20overflow-x:%20auto;%20overflow-y:%20hidden%7D%0A.css-vdhorw%20%7Bheight:%20318px;%20width:%20385px;%20overflow-x:%20auto;%20overflow-y:%20auto%7D%0A.css-1rcdu4j%20%7Bheight:%20448px;%20overflow-x:%20hidden;%20overflow-y:%20hidden;%20position:%20relative;%20width:%20360px;%20border-top-width:%202px;%20border-top-style:%20solid;%20border-top-color:%20rgb(233,%20233,%20233);%20border-right-width:%202px;%20border-right-style:%20solid;%20border-right-color:%20rgb(233,%20233,%20233)%7D%0A.css-ko9ga9%20%7Bheight:%20448px;%20overflow-x:%20hidden;%20overflow-y:%20hidden;%20position:%20relative;%20width:%20360px;%20border-top-width:%202px;%20border-top-style:%20solid;%20border-top-color:%20rgb(233,%20233,%20233)%7D%0A*%20%7B-ms-overflow-style:%20none;%20scrollbar-width:%20none%7D%0A*::-webkit-scrollbar%20%7Bdisplay:%20none%7D%3C/style%3E%3Cdiv%20xmlns=%22http://www.w3.org/1999/xhtml%22%20style=%22height:%20348px;%20width:%20748px;%22%3E&lt;div%20xmlns=%22http://www.w3.org/1999/xhtml%22%20class=%22ant-root%20css-0%22&gt;&lt;div%20class=%22ant-dropdown-trigger%20css-12ebr42-AWidget%22&gt;&lt;div%20class=%22css-1e3kjgr-Spinner%22&gt;&lt;div%20class=%22css-ck2xzt-Spinner%22&gt;&lt;div%20class=%22ant-spin%20ant-spin-lg%20ant-spin-spinning%22&gt;&lt;span%20class=%22ant-spin-dot%20ant-spin-dot-spin%22&gt;&lt;i%20class=%22ant-spin-dot-item%22&gt;&lt;/i&gt;&lt;i%20class=%22ant-spin-dot-item%22&gt;&lt;/i&gt;&lt;i%20class=%22ant-spin-dot-item%22&gt;&lt;/i&gt;&lt;i%20class=%22ant-spin-dot-item%22&gt;&lt;/i&gt;&lt;/span&gt;&lt;/div&gt;&lt;/div&gt;&lt;div%20class=%22css-6s7z8y-Table%22&gt;&lt;div%20tabindex=%220%22%20class=%22css-18k6uz5-Table%22&gt;&lt;div%20class=%22css-16sdsf5-Table%22&gt;&lt;div%20class=%22css-17w6qeo-Table%22&gt;&lt;div%20class=%22css-1mo0147%22&gt;&lt;div%20class=%22css-15ytzwz%22&gt;&lt;div%20style=%22font-size:%2012px;%20height:%2028px;%20left:%200px;%20padding:%204px%204px%203px;%20position:%20absolute;%20top:%200px;%20width:%20120px;%20font-weight:%20600;%22&gt;subreddit&lt;/div&gt;&lt;div%20style=%22font-size:%2012px;%20height:%2028px;%20left:%20120px;%20padding:%204px%204px%203px;%20position:%20absolute;%20top:%200px;%20width:%20120px;%20font-weight:%20600;%22&gt;category&lt;/div&gt;&lt;div%20style=%22font-size:%2012px;%20height:%2028px;%20left:%20240px;%20padding:%204px%204px%203px;%20position:%20absolute;%20top:%200px;%20width:%20120px;%20font-weight:%20600;%22&gt;created%20date&lt;/div&gt;&lt;/div&gt;&lt;/div&gt;&lt;div%20class=%22css-1fn0vl2%22&gt;&lt;div%20class=%22css-1rcdu4j%22&gt;&lt;div%20style=%22font-size:%2012px;%20font-weight:%20600;%20padding:%204px%204px%203px;%22&gt;Total&lt;/div&gt;&lt;div%20style=%22overflow:%20hidden;%20display:%20flex;%20align-items:%20center;%20font-size:%2012px;%20height:%2028px;%20left:%200px;%20padding:%204px%204px%203px;%20position:%20absolute;%20top:%2028px;%20width:%20120px;%20border-top:%201px%20solid%20rgb(233,%20233,%20233);%20font-weight:%20600;%22&gt;&lt;span%20style=%22text-overflow:%20ellipsis;%20overflow:%20hidden;%20white-space:%20nowrap;%20max-width:%20calc((100%25%20-%200px)%20-%200px);%22&gt;wallstreetbets&lt;/span&gt;&lt;div%20style=%22height:%20100%25;%20margin-left:%206px;%22&gt;&lt;/div&gt;&lt;/div&gt;&lt;div%20style=%22overflow:%20hidden;%20display:%20flex;%20align-items:%20center;%20font-size:%2012px;%20height:%2028px;%20left:%20120px;%20padding:%204px%204px%203px;%20position:%20absolute;%20top:%2028px;%20width:%20120px;%20border-top:%201px%20solid%20rgb(233,%20233,%20233);%20font-weight:%20600;%22&gt;&lt;span%20style=%22text-overflow:%20ellipsis;%20overflow:%20hidden;%20white-space:%20nowrap;%20max-width:%20calc((100%25%20-%200px)%20-%200px);%22&gt;&lt;/span&gt;&lt;div%20style=%22height:%20100%25;%20margin-left:%206px;%22&gt;&lt;/div&gt;&lt;/div&gt;&lt;div%20style=%22overflow:%20hidden;%20display:%20flex;%20align-items:%20center;%20font-size:%2012px;%20height:%2028px;%20left:%20240px;%20padding:%204px%204px%203px;%20position:%20absolute;%20top:%2028px;%20width:%20120px;%20border-right:%202px%20solid%20rgb(233,%20233,%20233);%20border-top:%201px%20solid%20rgb(233,%20233,%20233);%22&gt;&lt;span%20style=%22text-overflow:%20ellipsis;%20overflow:%20hidden;%20white-space:%20nowrap;%20max-width:%20calc((100%25%20-%200px)%20-%200px);%22&gt;&lt;/span&gt;&lt;div%20style=%22height:%20100%25;%20margin-left:%206px;%22&gt;&lt;/div&gt;&lt;/div&gt;&lt;div%20style=%22overflow:%20hidden;%20display:%20none;%20align-items:%20center;%20font-size:%2012px;%20height:%2028px;%20left:%200px;%20padding:%204px%204px%203px;%20position:%20absolute;%20top:%2056px;%20width:%20120px;%20border-top:%201px%20solid%20rgb(233,%20233,%20233);%20font-weight:%20600;%22&gt;&lt;span%20style=%22text-overflow:%20ellipsis;%20overflow:%20hidden;%20white-space:%20nowrap;%20max-width:%20calc((100%25%20-%200px)%20-%200px);%22&gt;wallstreetbets&lt;/span&gt;&lt;div%20style=%22height:%20100%25;%20margin-left:%206px;%22&gt;&lt;/div&gt;&lt;/div&gt;&lt;div%20style=%22overflow:%20hidden;%20display:%20flex;%20align-items:%20center;%20font-size:%2012px;%20height:%2028px;%20left:%20120px;%20padding:%204px%204px%203px;%20position:%20absolute;%20top:%2056px;%20width:%20120px;%20border-top:%201px%20solid%20rgb(233,%20233,%20233);%20font-weight:%20600;%22&gt;&lt;span%20style=%22text-overflow:%20ellipsis;%20overflow:%20hidden;%20white-space:%20nowrap;%20max-width:%20calc((100%25%20-%200px)%20-%200px);%22&gt;Geographical%20Location&lt;/span&gt;&lt;div%20style=%22height:%20100%25;%20margin-left:%206px;%22&gt;&lt;/div&gt;&lt;/div&gt;&lt;div%20style=%22overflow:%20hidden;%20display:%20flex;%20align-items:%20center;%20font-size:%2012px;%20height:%2028px;%20left:%20240px;%20padding:%204px%204px%203px;%20position:%20absolute;%20top:%2056px;%20width:%20120px;%20border-right:%202px%20solid%20rgb(233,%20233,%20233);%20border-top:%201px%20solid%20rgb(233,%20233,%20233);%22&gt;&lt;span%20style=%22text-overflow:%20ellipsis;%20overflow:%20hidden;%20white-space:%20nowrap;%20max-width:%20calc((100%25%20-%200px)%20-%200px);%22&gt;&lt;/span&gt;&lt;div%20style=%22height:%20100%25;%20margin-left:%206px;%22&gt;&lt;/div&gt;&lt;/div&gt;&lt;div%20style=%22overflow:%20hidden;%20display:%20none;%20align-items:%20center;%20font-size:%2012px;%20height:%2028px;%20left:%200px;%20padding:%204px%204px%203px;%20position:%20absolute;%20top:%2084px;%20width:%20120px;%20font-weight:%20600;%22&gt;&lt;span%20style=%22text-overflow:%20ellipsis;%20overflow:%20hidden;%20white-space:%20nowrap;%20max-width:%20calc((100%25%20-%200px)%20-%200px);%22&gt;wallstreetbets&lt;/span&gt;&lt;div%20style=%22height:%20100%25;%20margin-left:%206px;%22&gt;&lt;/div&gt;&lt;/div&gt;&lt;div%20style=%22overflow:%20hidden;%20display:%20none;%20align-items:%20center;%20font-size:%2012px;%20height:%2028px;%20left:%20120px;%20padding:%204px%204px%203px;%20position:%20absolute;%20top:%2084px;%20width:%20120px;%20font-weight:%20600;%22&gt;&lt;span%20style=%22text-overflow:%20ellipsis;%20overflow:%20hidden;%20white-space:%20nowrap;%20max-width:%20calc((100%25%20-%200px)%20-%200px);%22&gt;Geographical%20Location&lt;/span&gt;&lt;div%20style=%22height:%20100%25;%20margin-left:%206px;%22&gt;&lt;/div&gt;&lt;/div&gt;&lt;div%20style=%22overflow:%20hidden;%20display:%20flex;%20align-items:%20center;%20font-size:%2012px;%20height:%2028px;%20left:%20240px;%20padding:%204px%204px%203px;%20position:%20absolute;%20top:%2084px;%20width:%20120px;%20background-color:%20rgb(250,%20250,%20250);%20border-right:%202px%20solid%20rgb(233,%20233,%20233);%22&gt;&lt;span%20style=%22text-overflow:%20ellipsis;%20overflow:%20hidden;%20white-space:%20nowrap;%20max-width:%20calc((100%25%20-%200px)%20-%200px);%22&gt;2021-01-27&lt;/span&gt;&lt;div%20style=%22height:%20100%25;%20margin-left:%206px;%22&gt;&lt;/div&gt;&lt;/div&gt;&lt;div%20style=%22overflow:%20hidden;%20display:%20none;%20align-items:%20center;%20font-size:%2012px;%20height:%2028px;%20left:%200px;%20padding:%204px%204px%203px;%20position:%20absolute;%20top:%20112px;%20width:%20120px;%20border-top:%201px%20solid%20rgb(233,%20233,%20233);%20font-weight:%20600;%22&gt;&lt;span%20style=%22text-overflow:%20ellipsis;%20overflow:%20hidden;%20white-space:%20nowrap;%20max-width:%20calc((100%25%20-%200px)%20-%200px);%22&gt;wallstreetbets&lt;/span&gt;&lt;div%20style=%22height:%20100%25;%20margin-left:%206px;%22&gt;&lt;/div&gt;&lt;/div&gt;&lt;div%20style=%22overflow:%20hidden;%20display:%20flex;%20align-items:%20center;%20font-size:%2012px;%20height:%2028px;%20left:%20120px;%20padding:%204px%204px%203px;%20position:%20absolute;%20top:%20112px;%20width:%20120px;%20border-top:%201px%20solid%20rgb(233,%20233,%20233);%20font-weight:%20600;%22&gt;&lt;span%20style=%22text-overflow:%20ellipsis;%20overflow:%20hidden;%20white-space:%20nowrap;%20max-width:%20calc((100%25%20-%200px)%20-%200px);%22&gt;N/A&lt;/span&gt;&lt;div%20style=%22height:%20100%25;%20margin-left:%206px;%22&gt;&lt;/div&gt;&lt;/div&gt;&lt;div%20style=%22overflow:%20hidden;%20display:%20flex;%20align-items:%20center;%20font-size:%2012px;%20height:%2028px;%20left:%20240px;%20padding:%204px%204px%203px;%20position:%20absolute;%20top:%20112px;%20width:%20120px;%20border-right:%202px%20solid%20rgb(233,%20233,%20233);%20border-top:%201px%20solid%20rgb(233,%20233,%20233);%22&gt;&lt;span%20style=%22text-overflow:%20ellipsis;%20overflow:%20hidden;%20white-space:%20nowrap;%20max-width:%20calc((100%25%20-%200px)%20-%200px);%22&gt;&lt;/span&gt;&lt;div%20style=%22height:%20100%25;%20margin-left:%206px;%22&gt;&lt;/div&gt;&lt;/div&gt;&lt;div%20style=%22overflow:%20hidden;%20display:%20none;%20align-items:%20center;%20font-size:%2012px;%20height:%2028px;%20left:%200px;%20padding:%204px%204px%203px;%20position:%20absolute;%20top:%20140px;%20width:%20120px;%20font-weight:%20600;%22&gt;&lt;span%20style=%22text-overflow:%20ellipsis;%20overflow:%20hidden;%20white-space:%20nowrap;%20max-width:%20calc((100%25%20-%200px)%20-%200px);%22&gt;wallstreetbets&lt;/span&gt;&lt;div%20style=%22height:%20100%25;%20margin-left:%206px;%22&gt;&lt;/div&gt;&lt;/div&gt;&lt;div%20style=%22overflow:%20hidden;%20display:%20none;%20align-items:%20center;%20font-size:%2012px;%20height:%2028px;%20left:%20120px;%20padding:%204px%204px%203px;%20position:%20absolute;%20top:%20140px;%20width:%20120px;%20font-weight:%20600;%22&gt;&lt;span%20style=%22text-overflow:%20ellipsis;%20overflow:%20hidden;%20white-space:%20nowrap;%20max-width:%20calc((100%25%20-%200px)%20-%200px);%22&gt;N/A&lt;/span&gt;&lt;div%20style=%22height:%20100%25;%20margin-left:%206px;%22&gt;&lt;/div&gt;&lt;/div&gt;&lt;div%20style=%22overflow:%20hidden;%20display:%20flex;%20align-items:%20center;%20font-size:%2012px;%20height:%2028px;%20left:%20240px;%20padding:%204px%204px%203px;%20position:%20absolute;%20top:%20140px;%20width:%20120px;%20background-color:%20rgb(250,%20250,%20250);%20border-right:%202px%20solid%20rgb(233,%20233,%20233);%22&gt;&lt;span%20style=%22text-overflow:%20ellipsis;%20overflow:%20hidden;%20white-space:%20nowrap;%20max-width:%20calc((100%25%20-%200px)%20-%200px);%22&gt;2021-01-26&lt;/span&gt;&lt;div%20style=%22height:%20100%25;%20margin-left:%206px;%22&gt;&lt;/div&gt;&lt;/div&gt;&lt;div%20style=%22overflow:%20hidden;%20display:%20none;%20align-items:%20center;%20font-size:%2012px;%20height:%2028px;%20left:%200px;%20padding:%204px%204px%203px;%20position:%20absolute;%20top:%20168px;%20width:%20120px;%20font-weight:%20600;%22&gt;&lt;span%20style=%22text-overflow:%20ellipsis;%20overflow:%20hidden;%20white-space:%20nowrap;%20max-width:%20calc((100%25%20-%200px)%20-%200px);%22&gt;wallstreetbets&lt;/span&gt;&lt;div%20style=%22height:%20100%25;%20margin-left:%206px;%22&gt;&lt;/div&gt;&lt;/div&gt;&lt;div%20style=%22overflow:%20hidden;%20display:%20none;%20align-items:%20center;%20font-size:%2012px;%20height:%2028px;%20left:%20120px;%20padding:%204px%204px%203px;%20position:%20absolute;%20top:%20168px;%20width:%20120px;%20font-weight:%20600;%22&gt;&lt;span%20style=%22text-overflow:%20ellipsis;%20overflow:%20hidden;%20white-space:%20nowrap;%20max-width:%20calc((100%25%20-%200px)%20-%200px);%22&gt;N/A&lt;/span&gt;&lt;div%20style=%22height:%20100%25;%20margin-left:%206px;%22&gt;&lt;/div&gt;&lt;/div&gt;&lt;div%20style=%22overflow:%20hidden;%20display:%20flex;%20align-items:%20center;%20font-size:%2012px;%20height:%2028px;%20left:%20240px;%20padding:%204px%204px%203px;%20position:%20absolute;%20top:%20168px;%20width:%20120px;%20border-right:%202px%20solid%20rgb(233,%20233,%20233);%22&gt;&lt;span%20style=%22text-overflow:%20ellipsis;%20overflow:%20hidden;%20white-space:%20nowrap;%20max-width:%20calc((100%25%20-%200px)%20-%200px);%22&gt;2021-01-27&lt;/span&gt;&lt;div%20style=%22height:%20100%25;%20margin-left:%206px;%22&gt;&lt;/div&gt;&lt;/div&gt;&lt;div%20style=%22overflow:%20hidden;%20display:%20none;%20align-items:%20center;%20font-size:%2012px;%20height:%2028px;%20left:%200px;%20padding:%204px%204px%203px;%20position:%20absolute;%20top:%20196px;%20width:%20120px;%20border-top:%201px%20solid%20rgb(233,%20233,%20233);%20font-weight:%20600;%22&gt;&lt;span%20style=%22text-overflow:%20ellipsis;%20overflow:%20hidden;%20white-space:%20nowrap;%20max-width:%20calc((100%25%20-%200px)%20-%200px);%22&gt;wallstreetbets&lt;/span&gt;&lt;div%20style=%22height:%20100%25;%20margin-left:%206px;%22&gt;&lt;/div&gt;&lt;/div&gt;&lt;div%20style=%22overflow:%20hidden;%20display:%20flex;%20align-items:%20center;%20font-size:%2012px;%20height:%2028px;%20left:%20120px;%20padding:%204px%204px%203px;%20position:%20absolute;%20top:%20196px;%20width:%20120px;%20border-top:%201px%20solid%20rgb(233,%20233,%20233);%20font-weight:%20600;%22&gt;&lt;span%20style=%22text-overflow:%20ellipsis;%20overflow:%20hidden;%20white-space:%20nowrap;%20max-width:%20calc((100%25%20-%200px)%20-%200px);%22&gt;Organization&lt;/span&gt;&lt;div%20style=%22height:%20100%25;%20margin-left:%206px;%22&gt;&lt;/div&gt;&lt;/div&gt;&lt;div%20style=%22overflow:%20hidden;%20display:%20flex;%20align-items:%20center;%20font-size:%2012px;%20height:%2028px;%20left:%20240px;%20padding:%204px%204px%203px;%20position:%20absolute;%20top:%20196px;%20width:%20120px;%20border-right:%202px%20solid%20rgb(233,%20233,%20233);%20border-top:%201px%20solid%20rgb(233,%20233,%20233);%22&gt;&lt;span%20style=%22text-overflow:%20ellipsis;%20overflow:%20hidden;%20white-space:%20nowrap;%20max-width:%20calc((100%25%20-%200px)%20-%200px);%22&gt;&lt;/span&gt;&lt;div%20style=%22height:%20100%25;%20margin-left:%206px;%22&gt;&lt;/div&gt;&lt;/div&gt;&lt;div%20style=%22overflow:%20hidden;%20display:%20none;%20align-items:%20center;%20font-size:%2012px;%20height:%2028px;%20left:%200px;%20padding:%204px%204px%203px;%20position:%20absolute;%20top:%20224px;%20width:%20120px;%20font-weight:%20600;%22&gt;&lt;span%20style=%22text-overflow:%20ellipsis;%20overflow:%20hidden;%20white-space:%20nowrap;%20max-width:%20calc((100%25%20-%200px)%20-%200px);%22&gt;wallstreetbets&lt;/span&gt;&lt;div%20style=%22height:%20100%25;%20margin-left:%206px;%22&gt;&lt;/div&gt;&lt;/div&gt;&lt;div%20style=%22overflow:%20hidden;%20display:%20none;%20align-items:%20center;%20font-size:%2012px;%20height:%2028px;%20left:%20120px;%20padding:%204px%204px%203px;%20position:%20absolute;%20top:%20224px;%20width:%20120px;%20font-weight:%20600;%22&gt;&lt;span%20style=%22text-overflow:%20ellipsis;%20overflow:%20hidden;%20white-space:%20nowrap;%20max-width:%20calc((100%25%20-%200px)%20-%200px);%22&gt;Organization&lt;/span&gt;&lt;div%20style=%22height:%20100%25;%20margin-left:%206px;%22&gt;&lt;/div&gt;&lt;/div&gt;&lt;div%20style=%22overflow:%20hidden;%20display:%20flex;%20align-items:%20center;%20font-size:%2012px;%20height:%2028px;%20left:%20240px;%20padding:%204px%204px%203px;%20position:%20absolute;%20top:%20224px;%20width:%20120px;%20background-color:%20rgb(250,%20250,%20250);%20border-right:%202px%20solid%20rgb(233,%20233,%20233);%22&gt;&lt;span%20style=%22text-overflow:%20ellipsis;%20overflow:%20hidden;%20white-space:%20nowrap;%20max-width:%20calc((100%25%20-%200px)%20-%200px);%22&gt;2021-01-26&lt;/span&gt;&lt;div%20style=%22height:%20100%25;%20margin-left:%206px;%22&gt;&lt;/div&gt;&lt;/div&gt;&lt;div%20style=%22overflow:%20hidden;%20display:%20none;%20align-items:%20center;%20font-size:%2012px;%20height:%2028px;%20left:%200px;%20padding:%204px%204px%203px;%20position:%20absolute;%20top:%20252px;%20width:%20120px;%20font-weight:%20600;%22&gt;&lt;span%20style=%22text-overflow:%20ellipsis;%20overflow:%20hidden;%20white-space:%20nowrap;%20max-width:%20calc((100%25%20-%200px)%20-%200px);%22&gt;wallstreetbets&lt;/span&gt;&lt;div%20style=%22height:%20100%25;%20margin-left:%206px;%22&gt;&lt;/div&gt;&lt;/div&gt;&lt;div%20style=%22overflow:%20hidden;%20display:%20none;%20align-items:%20center;%20font-size:%2012px;%20height:%2028px;%20left:%20120px;%20padding:%204px%204px%203px;%20position:%20absolute;%20top:%20252px;%20width:%20120px;%20font-weight:%20600;%22&gt;&lt;span%20style=%22text-overflow:%20ellipsis;%20overflow:%20hidden;%20white-space:%20nowrap;%20max-width:%20calc((100%25%20-%200px)%20-%200px);%22&gt;Organization&lt;/span&gt;&lt;div%20style=%22height:%20100%25;%20margin-left:%206px;%22&gt;&lt;/div&gt;&lt;/div&gt;&lt;div%20style=%22overflow:%20hidden;%20display:%20flex;%20align-items:%20center;%20font-size:%2012px;%20height:%2028px;%20left:%20240px;%20padding:%204px%204px%203px;%20position:%20absolute;%20top:%20252px;%20width:%20120px;%20border-right:%202px%20solid%20rgb(233,%20233,%20233);%22&gt;&lt;span%20style=%22text-overflow:%20ellipsis;%20overflow:%20hidden;%20white-space:%20nowrap;%20max-width:%20calc((100%25%20-%200px)%20-%200px);%22&gt;2021-01-27&lt;/span&gt;&lt;div%20style=%22height:%20100%25;%20margin-left:%206px;%22&gt;&lt;/div&gt;&lt;/div&gt;&lt;div%20style=%22overflow:%20hidden;%20display:%20none;%20align-items:%20center;%20font-size:%2012px;%20height:%2028px;%20left:%200px;%20padding:%204px%204px%203px;%20position:%20absolute;%20top:%20280px;%20width:%20120px;%20border-top:%201px%20solid%20rgb(233,%20233,%20233);%20font-weight:%20600;%22&gt;&lt;span%20style=%22text-overflow:%20ellipsis;%20overflow:%20hidden;%20white-space:%20nowrap;%20max-width:%20calc((100%25%20-%200px)%20-%200px);%22&gt;wallstreetbets&lt;/span&gt;&lt;div%20style=%22height:%20100%25;%20margin-left:%206px;%22&gt;&lt;/div&gt;&lt;/div&gt;&lt;div%20style=%22overflow:%20hidden;%20display:%20flex;%20align-items:%20center;%20font-size:%2012px;%20height:%2028px;%20left:%20120px;%20padding:%204px%204px%203px;%20position:%20absolute;%20top:%20280px;%20width:%20120px;%20border-top:%201px%20solid%20rgb(233,%20233,%20233);%20font-weight:%20600;%22&gt;&lt;span%20style=%22text-overflow:%20ellipsis;%20overflow:%20hidden;%20white-space:%20nowrap;%20max-width:%20calc((100%25%20-%200px)%20-%200px);%22&gt;Person&lt;/span&gt;&lt;div%20style=%22height:%20100%25;%20margin-left:%206px;%22&gt;&lt;/div&gt;&lt;/div&gt;&lt;div%20style=%22overflow:%20hidden;%20display:%20flex;%20align-items:%20center;%20font-size:%2012px;%20height:%2028px;%20left:%20240px;%20padding:%204px%204px%203px;%20position:%20absolute;%20top:%20280px;%20width:%20120px;%20border-right:%202px%20solid%20rgb(233,%20233,%20233);%20border-top:%201px%20solid%20rgb(233,%20233,%20233);%22&gt;&lt;span%20style=%22text-overflow:%20ellipsis;%20overflow:%20hidden;%20white-space:%20nowrap;%20max-width:%20calc((100%25%20-%200px)%20-%200px);%22&gt;&lt;/span&gt;&lt;div%20style=%22height:%20100%25;%20margin-left:%206px;%22&gt;&lt;/div&gt;&lt;/div&gt;&lt;div%20style=%22overflow:%20hidden;%20display:%20none;%20align-items:%20center;%20font-size:%2012px;%20height:%2028px;%20left:%200px;%20padding:%204px%204px%203px;%20position:%20absolute;%20top:%20308px;%20width:%20120px;%20font-weight:%20600;%22&gt;&lt;span%20style=%22text-overflow:%20ellipsis;%20overflow:%20hidden;%20white-space:%20nowrap;%20max-width:%20calc((100%25%20-%200px)%20-%200px);%22&gt;wallstreetbets&lt;/span&gt;&lt;div%20style=%22height:%20100%25;%20margin-left:%206px;%22&gt;&lt;/div&gt;&lt;/div&gt;&lt;div%20style=%22overflow:%20hidden;%20display:%20none;%20align-items:%20center;%20font-size:%2012px;%20height:%2028px;%20left:%20120px;%20padding:%204px%204px%203px;%20position:%20absolute;%20top:%20308px;%20width:%20120px;%20font-weight:%20600;%22&gt;&lt;span%20style=%22text-overflow:%20ellipsis;%20overflow:%20hidden;%20white-space:%20nowrap;%20max-width:%20calc((100%25%20-%200px)%20-%200px);%22&gt;Person&lt;/span&gt;&lt;div%20style=%22height:%20100%25;%20margin-left:%206px;%22&gt;&lt;/div&gt;&lt;/div&gt;&lt;div%20style=%22overflow:%20hidden;%20display:%20flex;%20align-items:%20center;%20font-size:%2012px;%20height:%2028px;%20left:%20240px;%20padding:%204px%204px%203px;%20position:%20absolute;%20top:%20308px;%20width:%20120px;%20background-color:%20rgb(250,%20250,%20250);%20border-right:%202px%20solid%20rgb(233,%20233,%20233);%22&gt;&lt;span%20style=%22text-overflow:%20ellipsis;%20overflow:%20hidden;%20white-space:%20nowrap;%20max-width:%20calc((100%25%20-%200px)%20-%200px);%22&gt;2021-01-26&lt;/span&gt;&lt;div%20style=%22height:%20100%25;%20margin-left:%206px;%22&gt;&lt;/div&gt;&lt;/div&gt;&lt;div%20style=%22overflow:%20hidden;%20display:%20none;%20align-items:%20center;%20font-size:%2012px;%20height:%2028px;%20left:%200px;%20padding:%204px%204px%203px;%20position:%20absolute;%20top:%20336px;%20width:%20120px;%20font-weight:%20600;%22&gt;&lt;span%20style=%22text-overflow:%20ellipsis;%20overflow:%20hidden;%20white-space:%20nowrap;%20max-width:%20calc((100%25%20-%200px)%20-%200px);%22&gt;wallstreetbets&lt;/span&gt;&lt;div%20style=%22height:%20100%25;%20margin-left:%206px;%22&gt;&lt;/div&gt;&lt;/div&gt;&lt;div%20style=%22overflow:%20hidden;%20display:%20none;%20align-items:%20center;%20font-size:%2012px;%20height:%2028px;%20left:%20120px;%20padding:%204px%204px%203px;%20position:%20absolute;%20top:%20336px;%20width:%20120px;%20font-weight:%20600;%22&gt;&lt;span%20style=%22text-overflow:%20ellipsis;%20overflow:%20hidden;%20white-space:%20nowrap;%20max-width:%20calc((100%25%20-%200px)%20-%200px);%22&gt;Person&lt;/span&gt;&lt;div%20style=%22height:%20100%25;%20margin-left:%206px;%22&gt;&lt;/div&gt;&lt;/div&gt;&lt;div%20style=%22overflow:%20hidden;%20display:%20flex;%20align-items:%20center;%20font-size:%2012px;%20height:%2028px;%20left:%20240px;%20padding:%204px%204px%203px;%20position:%20absolute;%20top:%20336px;%20width:%20120px;%20border-right:%202px%20solid%20rgb(233,%20233,%20233);%22&gt;&lt;span%20style=%22text-overflow:%20ellipsis;%20overflow:%20hidden;%20white-space:%20nowrap;%20max-width:%20calc((100%25%20-%200px)%20-%200px);%22&gt;2021-01-27&lt;/span&gt;&lt;div%20style=%22height:%20100%25;%20margin-left:%206px;%22&gt;&lt;/div&gt;&lt;/div&gt;&lt;/div&gt;&lt;/div&gt;&lt;/div&gt;&lt;div%20class=%22css-1oihw9y-Table%22&gt;&lt;div%20class=%22css-zglua5%22&gt;&lt;div%20class=%22css-numeii%22&gt;&lt;div%20style=%22overflow:%20hidden;%20display:%20flex;%20align-items:%20center;%20font-size:%2012px;%20height:%2028px;%20left:%200px;%20padding:%204px%204px%203px;%20position:%20absolute;%20top:%200px;%20width:%20120px;%20font-weight:%20600;%22&gt;&lt;span%20style=%22text-overflow:%20ellipsis;%20overflow:%20hidden;%20white-space:%20nowrap;%20max-width:%20calc((100%25%20-%200px)%20-%200px);%22&gt;Total%20awards&lt;/span&gt;&lt;div%20style=%22height:%20100%25;%20margin-left:%206px;%22&gt;&lt;/div&gt;&lt;/div&gt;&lt;div%20style=%22overflow:%20hidden;%20display:%20flex;%20align-items:%20center;%20font-size:%2012px;%20height:%2028px;%20left:%20120px;%20padding:%204px%204px%203px;%20position:%20absolute;%20top:%200px;%20width:%20120px;%20font-weight:%20600;%22&gt;&lt;span%20style=%22text-overflow:%20ellipsis;%20overflow:%20hidden;%20white-space:%20nowrap;%20max-width:%20calc((100%25%20-%200px)%20-%200px);%22&gt;Comments&lt;/span&gt;&lt;div%20style=%22height:%20100%25;%20margin-left:%206px;%22&gt;&lt;/div&gt;&lt;/div&gt;&lt;div%20style=%22overflow:%20hidden;%20display:%20flex;%20align-items:%20center;%20font-size:%2012px;%20height:%2028px;%20left:%20240px;%20padding:%204px%204px%203px;%20position:%20absolute;%20top:%200px;%20width:%20120px;%20font-weight:%20600;%22&gt;&lt;span%20style=%22text-overflow:%20ellipsis;%20overflow:%20hidden;%20white-space:%20nowrap;%20max-width:%20calc((100%25%20-%200px)%20-%200px);%22&gt;contributors.COUNT&lt;/span&gt;&lt;div%20style=%22height:%20100%25;%20margin-left:%206px;%22&gt;&lt;/div&gt;&lt;/div&gt;&lt;/div&gt;&lt;/div&gt;&lt;div%20class=%22css-vdhorw%22&gt;&lt;div%20class=%22css-ko9ga9%22&gt;&lt;div%20class=%22css-1lzltx4-TableCell%22%20style=%22font-size:%2012px;%20height:%2028px;%20left:%200px;%20padding:%204px%204px%203px;%20position:%20absolute;%20top:%200px;%20width:%20120px;%20text-align:%20right;%20border-right:%201px%20solid%20rgb(233,%20233,%20233);%22&gt;4,308&lt;/div&gt;&lt;div%20class=%22css-1lzltx4-TableCell%22%20style=%22font-size:%2012px;%20height:%2028px;%20left:%20120px;%20padding:%204px%204px%203px;%20position:%20absolute;%20top:%200px;%20width:%20120px;%20text-align:%20right;%20border-right:%201px%20solid%20rgb(233,%20233,%20233);%22&gt;299,685&lt;/div&gt;&lt;div%20class=%22css-1lzltx4-TableCell%22%20style=%22font-size:%2012px;%20height:%2028px;%20left:%20240px;%20padding:%204px%204px%203px;%20position:%20absolute;%20top:%200px;%20width:%20120px;%20text-align:%20right;%20border-right:%201px%20solid%20rgb(233,%20233,%20233);%22&gt;500&lt;/div&gt;&lt;div%20class=%22css-1lzltx4-TableCell%22%20style=%22font-size:%2012px;%20height:%2028px;%20left:%200px;%20padding:%204px%204px%203px;%20position:%20absolute;%20top:%2028px;%20width:%20120px;%20text-align:%20right;%20border-right:%201px%20solid%20rgb(233,%20233,%20233);%20border-top:%201px%20solid%20rgb(233,%20233,%20233);%22&gt;4,308&lt;/div&gt;&lt;div%20class=%22css-1lzltx4-TableCell%22%20style=%22font-size:%2012px;%20height:%2028px;%20left:%20120px;%20padding:%204px%204px%203px;%20position:%20absolute;%20top:%2028px;%20width:%20120px;%20text-align:%20right;%20border-right:%201px%20solid%20rgb(233,%20233,%20233);%20border-top:%201px%20solid%20rgb(233,%20233,%20233);%22&gt;299,685&lt;/div&gt;&lt;div%20class=%22css-1lzltx4-TableCell%22%20style=%22font-size:%2012px;%20height:%2028px;%20left:%20240px;%20padding:%204px%204px%203px;%20position:%20absolute;%20top:%2028px;%20width:%20120px;%20text-align:%20right;%20border-right:%201px%20solid%20rgb(233,%20233,%20233);%20border-top:%201px%20solid%20rgb(233,%20233,%20233);%22&gt;500&lt;/div&gt;&lt;div%20class=%22css-1lzltx4-TableCell%22%20style=%22font-size:%2012px;%20height:%2028px;%20left:%200px;%20padding:%204px%204px%203px;%20position:%20absolute;%20top:%2056px;%20width:%20120px;%20text-align:%20right;%20border-right:%201px%20solid%20rgb(233,%20233,%20233);%20border-top:%201px%20solid%20rgb(233,%20233,%20233);%22&gt;6&lt;/div&gt;&lt;div%20class=%22css-1lzltx4-TableCell%22%20style=%22font-size:%2012px;%20height:%2028px;%20left:%20120px;%20padding:%204px%204px%203px;%20position:%20absolute;%20top:%2056px;%20width:%20120px;%20text-align:%20right;%20border-right:%201px%20solid%20rgb(233,%20233,%20233);%20border-top:%201px%20solid%20rgb(233,%20233,%20233);%22&gt;459&lt;/div&gt;&lt;div%20class=%22css-1lzltx4-TableCell%22%20style=%22font-size:%2012px;%20height:%2028px;%20left:%20240px;%20padding:%204px%204px%203px;%20position:%20absolute;%20top:%2056px;%20width:%20120px;%20text-align:%20right;%20border-right:%201px%20solid%20rgb(233,%20233,%20233);%20border-top:%201px%20solid%20rgb(233,%20233,%20233);%22&gt;9&lt;/div&gt;&lt;div%20class=%22css-1lzltx4-TableCell%22%20style=%22font-size:%2012px;%20height:%2028px;%20left:%200px;%20padding:%204px%204px%203px;%20position:%20absolute;%20top:%2084px;%20width:%20120px;%20text-align:%20right;%20background-color:%20rgb(250,%20250,%20250);%20border-right:%201px%20solid%20rgb(233,%20233,%20233);%22&gt;6&lt;/div&gt;&lt;div%20class=%22css-1lzltx4-TableCell%22%20style=%22font-size:%2012px;%20height:%2028px;%20left:%20120px;%20padding:%204px%204px%203px;%20position:%20absolute;%20top:%2084px;%20width:%20120px;%20text-align:%20right;%20background-color:%20rgb(250,%20250,%20250);%20border-right:%201px%20solid%20rgb(233,%20233,%20233);%22&gt;459&lt;/div&gt;&lt;div%20class=%22css-1lzltx4-TableCell%22%20style=%22font-size:%2012px;%20height:%2028px;%20left:%20240px;%20padding:%204px%204px%203px;%20position:%20absolute;%20top:%2084px;%20width:%20120px;%20text-align:%20right;%20background-color:%20rgb(250,%20250,%20250);%20border-right:%201px%20solid%20rgb(233,%20233,%20233);%22&gt;9&lt;/div&gt;&lt;div%20class=%22css-1lzltx4-TableCell%22%20style=%22font-size:%2012px;%20height:%2028px;%20left:%200px;%20padding:%204px%204px%203px;%20position:%20absolute;%20top:%20112px;%20width:%20120px;%20text-align:%20right;%20border-right:%201px%20solid%20rgb(233,%20233,%20233);%20border-top:%201px%20solid%20rgb(233,%20233,%20233);%22&gt;3,858&lt;/div&gt;&lt;div%20class=%22css-1lzltx4-TableCell%22%20style=%22font-size:%2012px;%20height:%2028px;%20left:%20120px;%20padding:%204px%204px%203px;%20position:%20absolute;%20top:%20112px;%20width:%20120px;%20text-align:%20right;%20border-right:%201px%20solid%20rgb(233,%20233,%20233);%20border-top:%201px%20solid%20rgb(233,%20233,%20233);%22&gt;285,828&lt;/div&gt;&lt;div%20class=%22css-1lzltx4-TableCell%22%20style=%22font-size:%2012px;%20height:%2028px;%20left:%20240px;%20padding:%204px%204px%203px;%20position:%20absolute;%20top:%20112px;%20width:%20120px;%20text-align:%20right;%20border-right:%201px%20solid%20rgb(233,%20233,%20233);%20border-top:%201px%20solid%20rgb(233,%20233,%20233);%22&gt;357&lt;/div&gt;&lt;div%20class=%22css-1lzltx4-TableCell%22%20style=%22font-size:%2012px;%20height:%2028px;%20left:%200px;%20padding:%204px%204px%203px;%20position:%20absolute;%20top:%20140px;%20width:%20120px;%20text-align:%20right;%20background-color:%20rgb(250,%20250,%20250);%20border-right:%201px%20solid%20rgb(233,%20233,%20233);%22&gt;186&lt;/div&gt;&lt;div%20class=%22css-1lzltx4-TableCell%22%20style=%22font-size:%2012px;%20height:%2028px;%20left:%20120px;%20padding:%204px%204px%203px;%20position:%20absolute;%20top:%20140px;%20width:%20120px;%20text-align:%20right;%20background-color:%20rgb(250,%20250,%20250);%20border-right:%201px%20solid%20rgb(233,%20233,%20233);%22&gt;4,187&lt;/div&gt;&lt;div%20class=%22css-1lzltx4-TableCell%22%20style=%22font-size:%2012px;%20height:%2028px;%20left:%20240px;%20padding:%204px%204px%203px;%20position:%20absolute;%20top:%20140px;%20width:%20120px;%20text-align:%20right;%20background-color:%20rgb(250,%20250,%20250);%20border-right:%201px%20solid%20rgb(233,%20233,%20233);%22&gt;10&lt;/div&gt;&lt;div%20class=%22css-1lzltx4-TableCell%22%20style=%22font-size:%2012px;%20height:%2028px;%20left:%200px;%20padding:%204px%204px%203px;%20position:%20absolute;%20top:%20168px;%20width:%20120px;%20text-align:%20right;%20border-right:%201px%20solid%20rgb(233,%20233,%20233);%22&gt;3,672&lt;/div&gt;&lt;div%20class=%22css-1lzltx4-TableCell%22%20style=%22font-size:%2012px;%20height:%2028px;%20left:%20120px;%20padding:%204px%204px%203px;%20position:%20absolute;%20top:%20168px;%20width:%20120px;%20text-align:%20right;%20border-right:%201px%20solid%20rgb(233,%20233,%20233);%22&gt;281,641&lt;/div&gt;&lt;div%20class=%22css-1lzltx4-TableCell%22%20style=%22font-size:%2012px;%20height:%2028px;%20left:%20240px;%20padding:%204px%204px%203px;%20position:%20absolute;%20top:%20168px;%20width:%20120px;%20text-align:%20right;%20border-right:%201px%20solid%20rgb(233,%20233,%20233);%22&gt;347&lt;/div&gt;&lt;div%20class=%22css-1lzltx4-TableCell%22%20style=%22font-size:%2012px;%20height:%2028px;%20left:%200px;%20padding:%204px%204px%203px;%20position:%20absolute;%20top:%20196px;%20width:%20120px;%20text-align:%20right;%20border-right:%201px%20solid%20rgb(233,%20233,%20233);%20border-top:%201px%20solid%20rgb(233,%20233,%20233);%22&gt;287&lt;/div&gt;&lt;div%20class=%22css-1lzltx4-TableCell%22%20style=%22font-size:%2012px;%20height:%2028px;%20left:%20120px;%20padding:%204px%204px%203px;%20position:%20absolute;%20top:%20196px;%20width:%20120px;%20text-align:%20right;%20border-right:%201px%20solid%20rgb(233,%20233,%20233);%20border-top:%201px%20solid%20rgb(233,%20233,%20233);%22&gt;6,548&lt;/div&gt;&lt;div%20class=%22css-1lzltx4-TableCell%22%20style=%22font-size:%2012px;%20height:%2028px;%20left:%20240px;%20padding:%204px%204px%203px;%20position:%20absolute;%20top:%20196px;%20width:%20120px;%20text-align:%20right;%20border-right:%201px%20solid%20rgb(233,%20233,%20233);%20border-top:%201px%20solid%20rgb(233,%20233,%20233);%22&gt;68&lt;/div&gt;&lt;div%20class=%22css-1lzltx4-TableCell%22%20style=%22font-size:%2012px;%20height:%2028px;%20left:%200px;%20padding:%204px%204px%203px;%20position:%20absolute;%20top:%20224px;%20width:%20120px;%20text-align:%20right;%20background-color:%20rgb(250,%20250,%20250);%20border-right:%201px%20solid%20rgb(233,%20233,%20233);%22&gt;0&lt;/div&gt;&lt;div%20class=%22css-1lzltx4-TableCell%22%20style=%22font-size:%2012px;%20height:%2028px;%20left:%20120px;%20padding:%204px%204px%203px;%20position:%20absolute;%20top:%20224px;%20width:%20120px;%20text-align:%20right;%20background-color:%20rgb(250,%20250,%20250);%20border-right:%201px%20solid%20rgb(233,%20233,%20233);%22&gt;227&lt;/div&gt;&lt;div%20class=%22css-1lzltx4-TableCell%22%20style=%22font-size:%2012px;%20height:%2028px;%20left:%20240px;%20padding:%204px%204px%203px;%20position:%20absolute;%20top:%20224px;%20width:%20120px;%20text-align:%20right;%20background-color:%20rgb(250,%20250,%20250);%20border-right:%201px%20solid%20rgb(233,%20233,%20233);%22&gt;3&lt;/div&gt;&lt;div%20class=%22css-1lzltx4-TableCell%22%20style=%22font-size:%2012px;%20height:%2028px;%20left:%200px;%20padding:%204px%204px%203px;%20position:%20absolute;%20top:%20252px;%20width:%20120px;%20text-align:%20right;%20border-right:%201px%20solid%20rgb(233,%20233,%20233);%22&gt;287&lt;/div&gt;&lt;div%20class=%22css-1lzltx4-TableCell%22%20style=%22font-size:%2012px;%20height:%2028px;%20left:%20120px;%20padding:%204px%204px%203px;%20position:%20absolute;%20top:%20252px;%20width:%20120px;%20text-align:%20right;%20border-right:%201px%20solid%20rgb(233,%20233,%20233);%22&gt;6,321&lt;/div&gt;&lt;div%20class=%22css-1lzltx4-TableCell%22%20style=%22font-size:%2012px;%20height:%2028px;%20left:%20240px;%20padding:%204px%204px%203px;%20position:%20absolute;%20top:%20252px;%20width:%20120px;%20text-align:%20right;%20border-right:%201px%20solid%20rgb(233,%20233,%20233);%22&gt;65&lt;/div&gt;&lt;div%20class=%22css-1lzltx4-TableCell%22%20style=%22font-size:%2012px;%20height:%2028px;%20left:%200px;%20padding:%204px%204px%203px;%20position:%20absolute;%20top:%20280px;%20width:%20120px;%20text-align:%20right;%20border-right:%201px%20solid%20rgb(233,%20233,%20233);%20border-top:%201px%20solid%20rgb(233,%20233,%20233);%22&gt;137&lt;/div&gt;&lt;div%20class=%22css-1lzltx4-TableCell%22%20style=%22font-size:%2012px;%20height:%2028px;%20left:%20120px;%20padding:%204px%204px%203px;%20position:%20absolute;%20top:%20280px;%20width:%20120px;%20text-align:%20right;%20border-right:%201px%20solid%20rgb(233,%20233,%20233);%20border-top:%201px%20solid%20rgb(233,%20233,%20233);%22&gt;5,766&lt;/div&gt;&lt;div%20class=%22css-1lzltx4-TableCell%22%20style=%22font-size:%2012px;%20height:%2028px;%20left:%20240px;%20padding:%204px%204px%203px;%20position:%20absolute;%20top:%20280px;%20width:%20120px;%20text-align:%20right;%20border-right:%201px%20solid%20rgb(233,%20233,%20233);%20border-top:%201px%20solid%20rgb(233,%20233,%20233);%22&gt;65&lt;/div&gt;&lt;div%20class=%22css-1lzltx4-TableCell%22%20style=%22font-size:%2012px;%20height:%2028px;%20left:%200px;%20padding:%204px%204px%203px;%20position:%20absolute;%20top:%20308px;%20width:%20120px;%20text-align:%20right;%20background-color:%20rgb(250,%20250,%20250);%20border-right:%201px%20solid%20rgb(233,%20233,%20233);%22&gt;0&lt;/div&gt;&lt;div%20class=%22css-1lzltx4-TableCell%22%20style=%22font-size:%2012px;%20height:%2028px;%20left:%20120px;%20padding:%204px%204px%203px;%20position:%20absolute;%20top:%20308px;%20width:%20120px;%20text-align:%20right;%20background-color:%20rgb(250,%20250,%20250);%20border-right:%201px%20solid%20rgb(233,%20233,%20233);%22&gt;17&lt;/div&gt;&lt;div%20class=%22css-1lzltx4-TableCell%22%20style=%22font-size:%2012px;%20height:%2028px;%20left:%20240px;%20padding:%204px%204px%203px;%20position:%20absolute;%20top:%20308px;%20width:%20120px;%20text-align:%20right;%20background-color:%20rgb(250,%20250,%20250);%20border-right:%201px%20solid%20rgb(233,%20233,%20233);%22&gt;1&lt;/div&gt;&lt;div%20class=%22css-1lzltx4-TableCell%22%20style=%22font-size:%2012px;%20height:%2028px;%20left:%200px;%20padding:%204px%204px%203px;%20position:%20absolute;%20top:%20336px;%20width:%20120px;%20text-align:%20right;%20border-right:%201px%20solid%20rgb(233,%20233,%20233);%22&gt;137&lt;/div&gt;&lt;div%20class=%22css-1lzltx4-TableCell%22%20style=%22font-size:%2012px;%20height:%2028px;%20left:%20120px;%20padding:%204px%204px%203px;%20position:%20absolute;%20top:%20336px;%20width:%20120px;%20text-align:%20right;%20border-right:%201px%20solid%20rgb(233,%20233,%20233);%22&gt;5,749&lt;/div&gt;&lt;div%20class=%22css-1lzltx4-TableCell%22%20style=%22font-size:%2012px;%20height:%2028px;%20left:%20240px;%20padding:%204px%204px%203px;%20position:%20absolute;%20top:%20336px;%20width:%20120px;%20text-align:%20right;%20border-right:%201px%20solid%20rgb(233,%20233,%20233);%22&gt;64&lt;/div&gt;&lt;/div&gt;&lt;/div&gt;&lt;/div&gt;&lt;/div&gt;&lt;/div&gt;&lt;/div&gt;&lt;/div&gt;&lt;/div&gt;&lt;/div&gt;%3C/div%3E%3C/foreignObject%3E%3C/svg%3E\">"
      ],
      "text/plain": [
       "Open the notebook in JupyterLab with the atoti extension installed and enabled to start editing this widget."
      ]
     },
     "metadata": {},
     "output_type": "display_data"
    }
   ],
   "source": [
    "session.visualize()"
   ]
  },
  {
   "cell_type": "markdown",
   "metadata": {},
   "source": [
    "### Real-time dashboarding with atoti\n",
    "\n",
    "At the moment, I have only loaded data from the subreddit _wallstreetbets_. In the next few cell, I have created functions that allow me to poll the latest 200 postings from some other subreddit groups:\n",
    "- news\n",
    "- worldnews\n",
    "- politics\n",
    "- technology\n",
    "- wallstreetbets\n",
    "\n",
    "Let's switch over to a dashboard that I have prepared in advance by accessing the url from the next cell. After loading the dashboard, trigger the rest of the cells to start the data polling. You can then go back to the dashboard to see it getting refreshed each time new data is downloaded."
   ]
  },
  {
   "cell_type": "code",
   "execution_count": 28,
   "metadata": {},
   "outputs": [
    {
     "data": {
      "text/plain": [
       "'http://localhost:65200/#/dashboard/c7c'"
      ]
     },
     "execution_count": 28,
     "metadata": {},
     "output_type": "execute_result"
    }
   ],
   "source": [
    "session.url + \"/#/dashboard/c7c\""
   ]
  },
  {
   "cell_type": "markdown",
   "metadata": {},
   "source": [
    "I used [`store.load_pandas`](https://docs.atoti.io/0.4.2/lib/atoti.html?highlight=load_pandas#atoti.store.Store.load_pandas) to load the Pandas dataframe incrementally into the `Reddit Posts` store. For the `Entities` store, the csv file is on `watch` mode, hence any update will trigger data to be uploaded into the datastore. Based on the stores' keys, existing data will be updated and new data will be inserted."
   ]
  },
  {
   "cell_type": "code",
   "execution_count": 29,
   "metadata": {},
   "outputs": [],
   "source": [
    "def load_new_subreddit(subreddit):\n",
    "    posts_news = get_latest_posts(subreddit, 200)\n",
    "    df_news = get_nlp_features(posts_news)\n",
    "\n",
    "    reddit_store.load_pandas(df_news)"
   ]
  },
  {
   "cell_type": "markdown",
   "metadata": {},
   "source": [
    "For demo purpose, I have only set the polling to iterate 10 times with intervals of 30s."
   ]
  },
  {
   "cell_type": "code",
   "execution_count": 30,
   "metadata": {},
   "outputs": [],
   "source": [
    "import queue\n",
    "import threading\n",
    "\n",
    "should_publish = threading.Event()\n",
    "update_queue = queue.Queue()\n",
    "\n",
    "\n",
    "def start_publisher():\n",
    "    # Do 10 iterations with 30s interval\n",
    "    starttime = time.time()\n",
    "    print(\"Start polling\", starttime)\n",
    "    poll_iteration = 1\n",
    "\n",
    "    while poll_iteration <= 10:\n",
    "        print(\"\\rpublishing update \", end=\"\")\n",
    "        update_queue.put((poll_iteration))\n",
    "        poll_iteration += 1\n",
    "        time.sleep(30)\n",
    "        print(\"\\rawaiting for publishing update\", end=\"\")\n",
    "        should_publish.wait()\n",
    "        update_queue.join()\n",
    "\n",
    "\n",
    "def start_update_listener():\n",
    "    while True:\n",
    "        poll_iteration = update_queue.get()\n",
    "        print(poll_iteration, \">>> Start polling from subreddit... \")\n",
    "        # poll from subreddit\n",
    "        load_new_subreddit(\"news\")\n",
    "        print(poll_iteration, \"........ Loaded news \")\n",
    "        \n",
    "        load_new_subreddit(\"worldnews\")\n",
    "        print(poll_iteration, \"........ Loaded worldnews \")\n",
    "        \n",
    "        load_new_subreddit(\"politics\")\n",
    "        print(poll_iteration, \"........ Loaded politics \")\n",
    "        \n",
    "        load_new_subreddit(\"technology\")\n",
    "        print(poll_iteration, \"........ Loaded technology \")\n",
    "        \n",
    "        load_new_subreddit(\"wallstreetbets\")\n",
    "        print(poll_iteration, \"........ Loaded wallstreetbets \")\n",
    "        entity_file.flush()\n",
    "        print(poll_iteration, \">>> End polling from subreddit... \")\n",
    "        update_queue.task_done()\n",
    "\n",
    "\n",
    "listener_thread = threading.Thread(target=start_update_listener, daemon=True)\n",
    "publisher_thread = threading.Thread(target=start_publisher, daemon=True)"
   ]
  },
  {
   "cell_type": "code",
   "execution_count": 31,
   "metadata": {},
   "outputs": [
    {
     "name": "stdout",
     "output_type": "stream",
     "text": [
      "Start polling 1611715982.870141\n",
      "publishing update 1 >>> Start polling from subreddit... \n",
      "1 ........ Loaded news \n",
      "1 ........ Loaded worldnews \n",
      "1 ........ Loaded politics \n",
      "1 ........ Loaded technology \n",
      "awaiting for publishing update1 ........ Loaded wallstreetbets \n",
      "1 >>> End polling from subreddit... \n",
      "publishing update 2 >>> Start polling from subreddit... \n",
      "2 ........ Loaded news \n",
      "2 ........ Loaded worldnews \n",
      "2 ........ Loaded politics \n",
      "2 ........ Loaded technology \n",
      "awaiting for publishing update2 ........ Loaded wallstreetbets \n",
      "2 >>> End polling from subreddit... \n",
      "publishing update 3 >>> Start polling from subreddit... \n",
      "3 ........ Loaded news \n",
      "3 ........ Loaded worldnews \n"
     ]
    }
   ],
   "source": [
    "publisher_thread.start()\n",
    "listener_thread.start()\n",
    "# start publishing\n",
    "should_publish.set()"
   ]
  },
  {
   "cell_type": "markdown",
   "metadata": {},
   "source": [
    "If you would like to stop the data polling before the 10 iterations end, run the below cell."
   ]
  },
  {
   "cell_type": "code",
   "execution_count": 32,
   "metadata": {},
   "outputs": [],
   "source": [
    "# pause publishing\n",
    "should_publish.clear()"
   ]
  },
  {
   "cell_type": "code",
   "execution_count": null,
   "metadata": {},
   "outputs": [],
   "source": [
    "entity_file.close()"
   ]
  },
  {
   "cell_type": "markdown",
   "metadata": {},
   "source": [
    "#### Dashboard Page - Post Frequency \n",
    "\n",
    "This is how the real-time dashboard will look like when the scheduler is running:\n",
    "\n",
    "<img src=\"https://data.atoti.io/notebooks/reddit/real-time_dashboarding.gif\" alt=\"atoti table\" width=\"1080\"/>\n",
    "\n",
    "Using the Subreddit's submission id as a unique key, atoti is able to update an existing posting and insert new ones.  \n",
    "You can see the frequency of posting and trend from each Subreddit.  \n",
    "From the tree map, you can also see which author's posting generates the most comments."
   ]
  },
  {
   "cell_type": "markdown",
   "metadata": {},
   "source": [
    "#### Dashboard Page - NLP Stats\n",
    "\n",
    "Go to second tab of the dashboard to play with the NLP Statistics using quick filters:\n",
    "\n",
    "<img src=\"https://data.atoti.io/notebooks/reddit/NLP_Stats.gif\" alt=\"atoti table\" width=\"1080\"/>\n",
    "\n",
    "If there are too many values to choose, you can also use the \"Label contains...\" filter option to do a _partial label_ search. Try selecting Trump and Biden to see the number of postings related to them."
   ]
  },
  {
   "cell_type": "markdown",
   "metadata": {},
   "source": [
    "#### Dashboard Page - Author Analysis\n",
    "\n",
    "Go to third tab of the dashboard for interactive analysis of authors:\n",
    "\n",
    "<img src=\"https://data.atoti.io/notebooks/reddit/author_analysis.gif\" alt=\"atoti table\" width=\"1080\"/>\n",
    "\n",
    "Perform a drillthrough to see the underlying data behind the selected cell."
   ]
  },
  {
   "cell_type": "markdown",
   "metadata": {},
   "source": [
    "Have fun exploring the dashboard! Do play around with some of the ootb widgets such as \"Quick Page Filter\" that allow you to easily filter the page from the dashboard."
   ]
  }
 ],
 "metadata": {
  "kernelspec": {
   "display_name": "Python 3",
   "language": "python",
   "name": "python3"
  },
  "language_info": {
   "codemirror_mode": {
    "name": "ipython",
    "version": 3
   },
   "file_extension": ".py",
   "mimetype": "text/x-python",
   "name": "python",
   "nbconvert_exporter": "python",
   "pygments_lexer": "ipython3",
   "version": "3.8.6"
  }
 },
 "nbformat": 4,
 "nbformat_minor": 4
}
